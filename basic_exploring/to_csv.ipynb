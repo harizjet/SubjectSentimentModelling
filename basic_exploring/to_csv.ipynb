{
 "cells": [
  {
   "cell_type": "code",
   "execution_count": 24,
   "metadata": {},
   "outputs": [],
   "source": [
    "import pandas as pd\n",
    "import tempfile\n",
    "import warnings\n",
    "import os\n",
    "\n",
    "warnings.filterwarnings('ignore')"
   ]
  },
  {
   "cell_type": "code",
   "execution_count": 27,
   "metadata": {},
   "outputs": [],
   "source": []
  },
  {
   "cell_type": "code",
   "execution_count": 30,
   "metadata": {},
   "outputs": [
    {
     "data": {
      "text/plain": [
       "'AmazonMeta_Electronics.csv'"
      ]
     },
     "execution_count": 30,
     "metadata": {},
     "output_type": "execute_result"
    }
   ],
   "source": [
    "os.listdir(directory)[1]"
   ]
  },
  {
   "cell_type": "code",
   "execution_count": null,
   "metadata": {},
   "outputs": [],
   "source": [
    "directory = '../data'\n",
    "for file in os.listdir(directory):\n",
    "    filename = file.split('.')[0] + '.csv'\n"
   ]
  },
  {
   "cell_type": "code",
   "execution_count": 7,
   "metadata": {},
   "outputs": [],
   "source": [
    "df = pd.read_json('../data/Amazon_Electronics.json', nrows=5000, lines=True)"
   ]
  },
  {
   "cell_type": "code",
   "execution_count": 8,
   "metadata": {},
   "outputs": [],
   "source": []
  },
  {
   "cell_type": "code",
   "execution_count": 19,
   "metadata": {},
   "outputs": [
    {
     "name": "stdout",
     "output_type": "stream",
     "text": [
      "C:\\Users\\hariz\\AppData\\Local\\Temp\\tmp0w0s4m27 100000\n",
      "C:\\Users\\hariz\\AppData\\Local\\Temp\\tmpgtd64_h9 200000\n",
      "C:\\Users\\hariz\\AppData\\Local\\Temp\\tmppbor2v8n 300000\n",
      "C:\\Users\\hariz\\AppData\\Local\\Temp\\tmpbvgxwwe4 400000\n",
      "C:\\Users\\hariz\\AppData\\Local\\Temp\\tmpfow3k6g1 500000\n",
      "C:\\Users\\hariz\\AppData\\Local\\Temp\\tmppr3roa94 600000\n",
      "C:\\Users\\hariz\\AppData\\Local\\Temp\\tmpjk1d4m1m 700000\n",
      "C:\\Users\\hariz\\AppData\\Local\\Temp\\tmp4elu7q5v 800000\n",
      "C:\\Users\\hariz\\AppData\\Local\\Temp\\tmpxu4uir3a 900000\n",
      "C:\\Users\\hariz\\AppData\\Local\\Temp\\tmpzdrfty8i 1000000\n",
      "C:\\Users\\hariz\\AppData\\Local\\Temp\\tmpoyouazjf 1100000\n",
      "C:\\Users\\hariz\\AppData\\Local\\Temp\\tmpj14m9l2p 1200000\n",
      "C:\\Users\\hariz\\AppData\\Local\\Temp\\tmpkmabjlzs 1300000\n",
      "C:\\Users\\hariz\\AppData\\Local\\Temp\\tmpk98anita 1400000\n",
      "C:\\Users\\hariz\\AppData\\Local\\Temp\\tmpwtka0ke1 1500000\n",
      "C:\\Users\\hariz\\AppData\\Local\\Temp\\tmp4lcf9qje 1600000\n",
      "C:\\Users\\hariz\\AppData\\Local\\Temp\\tmpnpv3fqit 1700000\n",
      "C:\\Users\\hariz\\AppData\\Local\\Temp\\tmpfgax48mw 1800000\n",
      "C:\\Users\\hariz\\AppData\\Local\\Temp\\tmpr7yhkabd 1900000\n",
      "C:\\Users\\hariz\\AppData\\Local\\Temp\\tmpaaucf0_s 2000000\n",
      "C:\\Users\\hariz\\AppData\\Local\\Temp\\tmpkg149pxk 2100000\n",
      "C:\\Users\\hariz\\AppData\\Local\\Temp\\tmphdybgenx 2200000\n",
      "C:\\Users\\hariz\\AppData\\Local\\Temp\\tmp081r08lp 2300000\n",
      "C:\\Users\\hariz\\AppData\\Local\\Temp\\tmpe7eacivt 2400000\n",
      "C:\\Users\\hariz\\AppData\\Local\\Temp\\tmpp04psy7g 2500000\n",
      "C:\\Users\\hariz\\AppData\\Local\\Temp\\tmpapr223fy 2600000\n",
      "C:\\Users\\hariz\\AppData\\Local\\Temp\\tmpsgv60jtp 2700000\n",
      "C:\\Users\\hariz\\AppData\\Local\\Temp\\tmplcekap1t 2800000\n",
      "C:\\Users\\hariz\\AppData\\Local\\Temp\\tmpoci14kvu 2900000\n",
      "C:\\Users\\hariz\\AppData\\Local\\Temp\\tmp8cvr1efj 3000000\n",
      "C:\\Users\\hariz\\AppData\\Local\\Temp\\tmpio23ucgx 3100000\n",
      "C:\\Users\\hariz\\AppData\\Local\\Temp\\tmplxmruhf2 3200000\n",
      "C:\\Users\\hariz\\AppData\\Local\\Temp\\tmphyn70lot 3300000\n",
      "C:\\Users\\hariz\\AppData\\Local\\Temp\\tmptzpay2dp 3400000\n",
      "C:\\Users\\hariz\\AppData\\Local\\Temp\\tmp4d1rj_jd 3500000\n",
      "C:\\Users\\hariz\\AppData\\Local\\Temp\\tmpoa6gmljy 3600000\n",
      "C:\\Users\\hariz\\AppData\\Local\\Temp\\tmpgi5pbza5 3700000\n",
      "C:\\Users\\hariz\\AppData\\Local\\Temp\\tmp7gi2ht_1 3800000\n",
      "C:\\Users\\hariz\\AppData\\Local\\Temp\\tmp926x4t18 3900000\n",
      "C:\\Users\\hariz\\AppData\\Local\\Temp\\tmpo9y4x9go 4000000\n",
      "C:\\Users\\hariz\\AppData\\Local\\Temp\\tmp_utlofm6 4100000\n",
      "C:\\Users\\hariz\\AppData\\Local\\Temp\\tmp7w3tumfw 4200000\n",
      "C:\\Users\\hariz\\AppData\\Local\\Temp\\tmph2nw602p 4300000\n",
      "C:\\Users\\hariz\\AppData\\Local\\Temp\\tmpwo0gt9b3 4400000\n",
      "C:\\Users\\hariz\\AppData\\Local\\Temp\\tmp1miz2_7a 4500000\n",
      "C:\\Users\\hariz\\AppData\\Local\\Temp\\tmp3kyatfyu 4600000\n",
      "C:\\Users\\hariz\\AppData\\Local\\Temp\\tmp6712taar 4700000\n",
      "C:\\Users\\hariz\\AppData\\Local\\Temp\\tmpnja3btby 4800000\n",
      "C:\\Users\\hariz\\AppData\\Local\\Temp\\tmpltvm9lp8 4900000\n",
      "C:\\Users\\hariz\\AppData\\Local\\Temp\\tmpfr4fet8r 5000000\n",
      "C:\\Users\\hariz\\AppData\\Local\\Temp\\tmp63hlczw2 5100000\n",
      "C:\\Users\\hariz\\AppData\\Local\\Temp\\tmp05rbw1j8 5200000\n",
      "C:\\Users\\hariz\\AppData\\Local\\Temp\\tmpnqpzfdym 5300000\n",
      "C:\\Users\\hariz\\AppData\\Local\\Temp\\tmp8t_e2vd7 5400000\n",
      "C:\\Users\\hariz\\AppData\\Local\\Temp\\tmpf1ckisik 5500000\n",
      "C:\\Users\\hariz\\AppData\\Local\\Temp\\tmp_6vhe4lc 5600000\n",
      "C:\\Users\\hariz\\AppData\\Local\\Temp\\tmplrcff5i6 5700000\n",
      "C:\\Users\\hariz\\AppData\\Local\\Temp\\tmp7gk7uc5f 5800000\n",
      "C:\\Users\\hariz\\AppData\\Local\\Temp\\tmpxue3rvlg 5900000\n",
      "C:\\Users\\hariz\\AppData\\Local\\Temp\\tmp81homawg 6000000\n",
      "C:\\Users\\hariz\\AppData\\Local\\Temp\\tmp5jelfxt4 6100000\n",
      "C:\\Users\\hariz\\AppData\\Local\\Temp\\tmpjcbwwu0l 6200000\n",
      "C:\\Users\\hariz\\AppData\\Local\\Temp\\tmp_ktkgv5a 6300000\n",
      "C:\\Users\\hariz\\AppData\\Local\\Temp\\tmpgisecd9_ 6400000\n",
      "C:\\Users\\hariz\\AppData\\Local\\Temp\\tmp4y7xgsq4 6500000\n",
      "C:\\Users\\hariz\\AppData\\Local\\Temp\\tmp9xns3tz7 6600000\n",
      "C:\\Users\\hariz\\AppData\\Local\\Temp\\tmp1v_b2alb 6700000\n",
      "C:\\Users\\hariz\\AppData\\Local\\Temp\\tmprtmh9cvw 6800000\n",
      "C:\\Users\\hariz\\AppData\\Local\\Temp\\tmp2c5zr_rt 6900000\n",
      "C:\\Users\\hariz\\AppData\\Local\\Temp\\tmpz95lgfqc 7000000\n",
      "C:\\Users\\hariz\\AppData\\Local\\Temp\\tmpe_rtlkbn 7100000\n",
      "C:\\Users\\hariz\\AppData\\Local\\Temp\\tmpi5ym4uz0 7200000\n",
      "C:\\Users\\hariz\\AppData\\Local\\Temp\\tmpv5epl06b 7300000\n",
      "C:\\Users\\hariz\\AppData\\Local\\Temp\\tmpw0903ke2 7400000\n",
      "C:\\Users\\hariz\\AppData\\Local\\Temp\\tmpea0rmdev 7500000\n",
      "C:\\Users\\hariz\\AppData\\Local\\Temp\\tmpy6rwr9kb 7600000\n",
      "C:\\Users\\hariz\\AppData\\Local\\Temp\\tmpov1c314l 7700000\n",
      "C:\\Users\\hariz\\AppData\\Local\\Temp\\tmp52v5m6lz 7800000\n",
      "C:\\Users\\hariz\\AppData\\Local\\Temp\\tmpefy1zms0 7900000\n",
      "C:\\Users\\hariz\\AppData\\Local\\Temp\\tmpv_wt60mx 8000000\n",
      "C:\\Users\\hariz\\AppData\\Local\\Temp\\tmpy3it5wz1 8100000\n",
      "C:\\Users\\hariz\\AppData\\Local\\Temp\\tmptqj9_8xj 8200000\n",
      "C:\\Users\\hariz\\AppData\\Local\\Temp\\tmpxhcbt4ds 8300000\n",
      "C:\\Users\\hariz\\AppData\\Local\\Temp\\tmpzg5tdxu0 8400000\n",
      "C:\\Users\\hariz\\AppData\\Local\\Temp\\tmpoyokqh_v 8500000\n",
      "C:\\Users\\hariz\\AppData\\Local\\Temp\\tmpzl_82xj8 8600000\n",
      "C:\\Users\\hariz\\AppData\\Local\\Temp\\tmpi6cx9jvj 8700000\n",
      "C:\\Users\\hariz\\AppData\\Local\\Temp\\tmp_r5qcins 8800000\n",
      "C:\\Users\\hariz\\AppData\\Local\\Temp\\tmp_ubg6x8q 8900000\n",
      "C:\\Users\\hariz\\AppData\\Local\\Temp\\tmp97pxo73x 9000000\n",
      "C:\\Users\\hariz\\AppData\\Local\\Temp\\tmp6gykludn 9100000\n",
      "C:\\Users\\hariz\\AppData\\Local\\Temp\\tmpzv73r_hy 9200000\n",
      "C:\\Users\\hariz\\AppData\\Local\\Temp\\tmpdrwt1jc3 9300000\n",
      "C:\\Users\\hariz\\AppData\\Local\\Temp\\tmpl24_hdfe 9400000\n",
      "C:\\Users\\hariz\\AppData\\Local\\Temp\\tmpa7tq38h1 9500000\n",
      "C:\\Users\\hariz\\AppData\\Local\\Temp\\tmpx6s9slzl 9600000\n",
      "C:\\Users\\hariz\\AppData\\Local\\Temp\\tmpo1q5t9hl 9700000\n",
      "C:\\Users\\hariz\\AppData\\Local\\Temp\\tmpc1q__dpq 9800000\n",
      "C:\\Users\\hariz\\AppData\\Local\\Temp\\tmp7e4b3c2b 9900000\n",
      "C:\\Users\\hariz\\AppData\\Local\\Temp\\tmp_15sy_b6 10000000\n",
      "C:\\Users\\hariz\\AppData\\Local\\Temp\\tmp7yxyf1mp 10100000\n",
      "C:\\Users\\hariz\\AppData\\Local\\Temp\\tmppv9f9kke 10200000\n",
      "C:\\Users\\hariz\\AppData\\Local\\Temp\\tmpxq59950c 10300000\n",
      "C:\\Users\\hariz\\AppData\\Local\\Temp\\tmp82zy50le 10400000\n",
      "C:\\Users\\hariz\\AppData\\Local\\Temp\\tmpbbh8qgn4 10500000\n",
      "C:\\Users\\hariz\\AppData\\Local\\Temp\\tmpzylzoso9 10600000\n",
      "C:\\Users\\hariz\\AppData\\Local\\Temp\\tmp2jdl468m 10700000\n",
      "C:\\Users\\hariz\\AppData\\Local\\Temp\\tmp5yix_rug 10800000\n",
      "C:\\Users\\hariz\\AppData\\Local\\Temp\\tmpvzuqzdzn 10900000\n",
      "C:\\Users\\hariz\\AppData\\Local\\Temp\\tmprg0t5b2d 11000000\n",
      "C:\\Users\\hariz\\AppData\\Local\\Temp\\tmpg0lhcsf0 11100000\n",
      "C:\\Users\\hariz\\AppData\\Local\\Temp\\tmpb4j2ywhn 11200000\n",
      "C:\\Users\\hariz\\AppData\\Local\\Temp\\tmpeirq8mad 11300000\n",
      "C:\\Users\\hariz\\AppData\\Local\\Temp\\tmp6jxuy5t6 11400000\n",
      "C:\\Users\\hariz\\AppData\\Local\\Temp\\tmpcp96gv40 11500000\n",
      "C:\\Users\\hariz\\AppData\\Local\\Temp\\tmp_n1adufn 11600000\n",
      "C:\\Users\\hariz\\AppData\\Local\\Temp\\tmps_gsucmx 11700000\n",
      "C:\\Users\\hariz\\AppData\\Local\\Temp\\tmp7_tg5d6m 11800000\n",
      "C:\\Users\\hariz\\AppData\\Local\\Temp\\tmp0c5s6pld 11900000\n",
      "C:\\Users\\hariz\\AppData\\Local\\Temp\\tmprrv2sdqf 12000000\n",
      "C:\\Users\\hariz\\AppData\\Local\\Temp\\tmp9djl0e7y 12100000\n",
      "C:\\Users\\hariz\\AppData\\Local\\Temp\\tmp1ystjyzl 12200000\n",
      "C:\\Users\\hariz\\AppData\\Local\\Temp\\tmpu8i3r0s9 12300000\n",
      "C:\\Users\\hariz\\AppData\\Local\\Temp\\tmpwprgor98 12400000\n",
      "C:\\Users\\hariz\\AppData\\Local\\Temp\\tmp7o_nyv7n 12500000\n",
      "C:\\Users\\hariz\\AppData\\Local\\Temp\\tmp0hvc5w_d 12600000\n",
      "C:\\Users\\hariz\\AppData\\Local\\Temp\\tmp9uufk6r5 12700000\n",
      "C:\\Users\\hariz\\AppData\\Local\\Temp\\tmps_olfa0y 12800000\n",
      "C:\\Users\\hariz\\AppData\\Local\\Temp\\tmpa92ga5vi 12900000\n",
      "C:\\Users\\hariz\\AppData\\Local\\Temp\\tmptmshbr7o 13000000\n",
      "C:\\Users\\hariz\\AppData\\Local\\Temp\\tmp6uqdn77r 13100000\n",
      "C:\\Users\\hariz\\AppData\\Local\\Temp\\tmpj65u_bcb 13200000\n",
      "C:\\Users\\hariz\\AppData\\Local\\Temp\\tmpxnw8prjz 13300000\n",
      "C:\\Users\\hariz\\AppData\\Local\\Temp\\tmpowzr2569 13400000\n",
      "C:\\Users\\hariz\\AppData\\Local\\Temp\\tmph_itlype 13500000\n",
      "C:\\Users\\hariz\\AppData\\Local\\Temp\\tmp83fwgt1k 13600000\n",
      "C:\\Users\\hariz\\AppData\\Local\\Temp\\tmpe3_1jfe0 13700000\n",
      "C:\\Users\\hariz\\AppData\\Local\\Temp\\tmpetx6p2m1 13800000\n",
      "C:\\Users\\hariz\\AppData\\Local\\Temp\\tmpbvu8jfka 13900000\n",
      "C:\\Users\\hariz\\AppData\\Local\\Temp\\tmpgxwipq05 14000000\n",
      "C:\\Users\\hariz\\AppData\\Local\\Temp\\tmpt_53vq3z 14100000\n",
      "C:\\Users\\hariz\\AppData\\Local\\Temp\\tmpqzzzhtv9 14200000\n",
      "C:\\Users\\hariz\\AppData\\Local\\Temp\\tmp9u1r7pjy 14300000\n",
      "C:\\Users\\hariz\\AppData\\Local\\Temp\\tmpjt0k_b_o 14400000\n",
      "C:\\Users\\hariz\\AppData\\Local\\Temp\\tmpubfikcjn 14500000\n",
      "C:\\Users\\hariz\\AppData\\Local\\Temp\\tmphdvufu2d 14600000\n",
      "C:\\Users\\hariz\\AppData\\Local\\Temp\\tmpfrworxaw 14700000\n",
      "C:\\Users\\hariz\\AppData\\Local\\Temp\\tmpzat14qms 14800000\n",
      "C:\\Users\\hariz\\AppData\\Local\\Temp\\tmpclioazsu 14900000\n",
      "C:\\Users\\hariz\\AppData\\Local\\Temp\\tmpia__m9xe 15000000\n",
      "C:\\Users\\hariz\\AppData\\Local\\Temp\\tmpm18e05v7 15100000\n",
      "C:\\Users\\hariz\\AppData\\Local\\Temp\\tmpm1gtca6h 15200000\n",
      "C:\\Users\\hariz\\AppData\\Local\\Temp\\tmp397o0n1d 15300000\n",
      "C:\\Users\\hariz\\AppData\\Local\\Temp\\tmpj9ob58qd 15400000\n",
      "C:\\Users\\hariz\\AppData\\Local\\Temp\\tmpimbmkqe8 15500000\n",
      "C:\\Users\\hariz\\AppData\\Local\\Temp\\tmp_j_3lfb7 15600000\n",
      "C:\\Users\\hariz\\AppData\\Local\\Temp\\tmp0bzmi008 15700000\n",
      "C:\\Users\\hariz\\AppData\\Local\\Temp\\tmp7m0vamwp 15800000\n",
      "C:\\Users\\hariz\\AppData\\Local\\Temp\\tmpygm5dihs 15900000\n",
      "C:\\Users\\hariz\\AppData\\Local\\Temp\\tmpc9ovou10 16000000\n",
      "C:\\Users\\hariz\\AppData\\Local\\Temp\\tmpxyzc1a8y 16100000\n",
      "C:\\Users\\hariz\\AppData\\Local\\Temp\\tmp9qztug2_ 16200000\n",
      "C:\\Users\\hariz\\AppData\\Local\\Temp\\tmpzjs7gul7 16300000\n",
      "C:\\Users\\hariz\\AppData\\Local\\Temp\\tmphqy7ni0p 16400000\n",
      "C:\\Users\\hariz\\AppData\\Local\\Temp\\tmpomxyl65a 16500000\n",
      "C:\\Users\\hariz\\AppData\\Local\\Temp\\tmp0gakjrqw 16600000\n",
      "C:\\Users\\hariz\\AppData\\Local\\Temp\\tmpzm6crwij 16700000\n",
      "C:\\Users\\hariz\\AppData\\Local\\Temp\\tmpslig8tku 16800000\n",
      "C:\\Users\\hariz\\AppData\\Local\\Temp\\tmp144vbu5a 16900000\n",
      "C:\\Users\\hariz\\AppData\\Local\\Temp\\tmp38yre3h0 17000000\n",
      "C:\\Users\\hariz\\AppData\\Local\\Temp\\tmpg8632l1a 17100000\n",
      "C:\\Users\\hariz\\AppData\\Local\\Temp\\tmpzlqpwolo 17200000\n",
      "C:\\Users\\hariz\\AppData\\Local\\Temp\\tmp3zyr_m6g 17300000\n",
      "C:\\Users\\hariz\\AppData\\Local\\Temp\\tmpw0_n5m_8 17400000\n",
      "C:\\Users\\hariz\\AppData\\Local\\Temp\\tmpg5th7s3j 17500000\n",
      "C:\\Users\\hariz\\AppData\\Local\\Temp\\tmps1c2bba4 17600000\n",
      "C:\\Users\\hariz\\AppData\\Local\\Temp\\tmp12d1mgj3 17700000\n",
      "C:\\Users\\hariz\\AppData\\Local\\Temp\\tmpclw9r9f6 17800000\n",
      "C:\\Users\\hariz\\AppData\\Local\\Temp\\tmp6w1s4h6b 17900000\n",
      "C:\\Users\\hariz\\AppData\\Local\\Temp\\tmpfxkxc665 18000000\n",
      "C:\\Users\\hariz\\AppData\\Local\\Temp\\tmpwmfy_816 18100000\n",
      "C:\\Users\\hariz\\AppData\\Local\\Temp\\tmp79bxjksa 18200000\n",
      "C:\\Users\\hariz\\AppData\\Local\\Temp\\tmpjqg53d4r 18300000\n",
      "C:\\Users\\hariz\\AppData\\Local\\Temp\\tmp7__6sf62 18400000\n",
      "C:\\Users\\hariz\\AppData\\Local\\Temp\\tmp8417g5t9 18500000\n",
      "C:\\Users\\hariz\\AppData\\Local\\Temp\\tmpisjn6lqo 18600000\n",
      "C:\\Users\\hariz\\AppData\\Local\\Temp\\tmp_flu3h50 18700000\n",
      "C:\\Users\\hariz\\AppData\\Local\\Temp\\tmpd2a5_zn2 18800000\n",
      "C:\\Users\\hariz\\AppData\\Local\\Temp\\tmpq2lpv449 18900000\n",
      "C:\\Users\\hariz\\AppData\\Local\\Temp\\tmpqhyhc3_6 19000000\n",
      "C:\\Users\\hariz\\AppData\\Local\\Temp\\tmp7naknlsq 19100000\n",
      "C:\\Users\\hariz\\AppData\\Local\\Temp\\tmpg0bspah1 19200000\n",
      "C:\\Users\\hariz\\AppData\\Local\\Temp\\tmp0_hh3r9b 19300000\n",
      "C:\\Users\\hariz\\AppData\\Local\\Temp\\tmpumitwu1j 19400000\n",
      "C:\\Users\\hariz\\AppData\\Local\\Temp\\tmp_vfjtoyb 19500000\n",
      "C:\\Users\\hariz\\AppData\\Local\\Temp\\tmp8bc3jsv7 19600000\n",
      "C:\\Users\\hariz\\AppData\\Local\\Temp\\tmpjx2wjs3x 19700000\n",
      "C:\\Users\\hariz\\AppData\\Local\\Temp\\tmprpukmetu 19800000\n",
      "C:\\Users\\hariz\\AppData\\Local\\Temp\\tmpafgf6rol 19900000\n",
      "C:\\Users\\hariz\\AppData\\Local\\Temp\\tmpda67vx6m 20000000\n",
      "C:\\Users\\hariz\\AppData\\Local\\Temp\\tmpeuq5a2an 20100000\n",
      "C:\\Users\\hariz\\AppData\\Local\\Temp\\tmp4usja25f 20200000\n",
      "C:\\Users\\hariz\\AppData\\Local\\Temp\\tmpt_rr2jkq 20300000\n",
      "C:\\Users\\hariz\\AppData\\Local\\Temp\\tmpdtsz3cmc 20400000\n",
      "C:\\Users\\hariz\\AppData\\Local\\Temp\\tmpt9ygdoc2 20500000\n",
      "C:\\Users\\hariz\\AppData\\Local\\Temp\\tmp632ldhss 20600000\n",
      "C:\\Users\\hariz\\AppData\\Local\\Temp\\tmp60dgk24o 20700000\n",
      "C:\\Users\\hariz\\AppData\\Local\\Temp\\tmpxtl3b__x 20800000\n",
      "C:\\Users\\hariz\\AppData\\Local\\Temp\\tmpwoco7d32 20900000\n"
     ]
    }
   ],
   "source": [
    "listname = []\n",
    "chunksize = 10 ** 5\n",
    "i = 0\n",
    "for df in pd.read_json('../data/Amazon_Electronics.json', chunksize=chunksize, lines=True):\n",
    "    try:\n",
    "        name = tempfile.NamedTemporaryFile().name\n",
    "        listname.append(name)\n",
    "        df.to_csv(name, index=False)\n",
    "        i += chunksize\n",
    "        print(name, i)\n",
    "    except:\n",
    "        pass"
   ]
  },
  {
   "cell_type": "code",
   "execution_count": 21,
   "metadata": {},
   "outputs": [
    {
     "name": "stderr",
     "output_type": "stream",
     "text": [
      "d:\\Dropbox\\Academics\\Master (Msc)\\MSC AI\\Sem 2\\Machine Learning\\Assignment\\Mini Project\\SubjectSentimentModelling\\env\\lib\\site-packages\\IPython\\core\\interactiveshell.py:3398: DtypeWarning: Columns (10) have mixed types.Specify dtype option on import or set low_memory=False.\n",
      "  exec(code_obj, self.user_global_ns, self.user_ns)\n",
      "d:\\Dropbox\\Academics\\Master (Msc)\\MSC AI\\Sem 2\\Machine Learning\\Assignment\\Mini Project\\SubjectSentimentModelling\\env\\lib\\site-packages\\IPython\\core\\interactiveshell.py:3398: DtypeWarning: Columns (1) have mixed types.Specify dtype option on import or set low_memory=False.\n",
      "  exec(code_obj, self.user_global_ns, self.user_ns)\n",
      "d:\\Dropbox\\Academics\\Master (Msc)\\MSC AI\\Sem 2\\Machine Learning\\Assignment\\Mini Project\\SubjectSentimentModelling\\env\\lib\\site-packages\\IPython\\core\\interactiveshell.py:3398: DtypeWarning: Columns (9) have mixed types.Specify dtype option on import or set low_memory=False.\n",
      "  exec(code_obj, self.user_global_ns, self.user_ns)\n",
      "d:\\Dropbox\\Academics\\Master (Msc)\\MSC AI\\Sem 2\\Machine Learning\\Assignment\\Mini Project\\SubjectSentimentModelling\\env\\lib\\site-packages\\IPython\\core\\interactiveshell.py:3398: DtypeWarning: Columns (11) have mixed types.Specify dtype option on import or set low_memory=False.\n",
      "  exec(code_obj, self.user_global_ns, self.user_ns)\n"
     ]
    }
   ],
   "source": [
    "fullname = r'../data/Amazon_Electronics.csv'\n",
    "fulldf = pd.read_csv(listname[0])\n",
    "for file in listname[1:]:\n",
    "    fulldf = pd.concat([fulldf, pd.read_csv(file)])"
   ]
  },
  {
   "cell_type": "code",
   "execution_count": 22,
   "metadata": {},
   "outputs": [],
   "source": [
    "fulldf.to_csv(fullname, index=False)"
   ]
  },
  {
   "cell_type": "code",
   "execution_count": 5,
   "metadata": {},
   "outputs": [
    {
     "name": "stdout",
     "output_type": "stream",
     "text": [
      "100000\n",
      "200000\n",
      "300000\n",
      "400000\n",
      "500000\n",
      "600000\n",
      "700000\n",
      "800000\n"
     ]
    }
   ],
   "source": [
    "\n"
   ]
  },
  {
   "cell_type": "code",
   "execution_count": null,
   "metadata": {},
   "outputs": [],
   "source": []
  }
 ],
 "metadata": {
  "kernelspec": {
   "display_name": "Python 3.10.5 ('env': venv)",
   "language": "python",
   "name": "python3"
  },
  "language_info": {
   "codemirror_mode": {
    "name": "ipython",
    "version": 3
   },
   "file_extension": ".py",
   "mimetype": "text/x-python",
   "name": "python",
   "nbconvert_exporter": "python",
   "pygments_lexer": "ipython3",
   "version": "3.10.5"
  },
  "orig_nbformat": 4,
  "vscode": {
   "interpreter": {
    "hash": "46bc6b800f911b1c1d0f43a06dbc3139270a12e6ebc6e060d97d05b2a2df1825"
   }
  }
 },
 "nbformat": 4,
 "nbformat_minor": 2
}
