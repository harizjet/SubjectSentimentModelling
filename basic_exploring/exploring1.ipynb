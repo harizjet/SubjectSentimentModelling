{
 "cells": [
  {
   "cell_type": "code",
   "execution_count": 2,
   "id": "a86e82b7-3426-409b-bcf3-d28c859d5be2",
   "metadata": {},
   "outputs": [],
   "source": [
    "import pandas as pd"
   ]
  },
  {
   "cell_type": "code",
   "execution_count": 3,
   "id": "c2e948aa-8075-4ddc-89a3-7f629428daca",
   "metadata": {},
   "outputs": [],
   "source": [
    "df = pd.read_json('../data/Amazon_GroceryandGourmetFood.json', lines=True)"
   ]
  },
  {
   "cell_type": "code",
   "execution_count": 4,
   "id": "de2b9168-ae74-4c5f-b9f0-7866c920b4e7",
   "metadata": {},
   "outputs": [
    {
     "data": {
      "text/html": [
       "<div>\n",
       "<style scoped>\n",
       "    .dataframe tbody tr th:only-of-type {\n",
       "        vertical-align: middle;\n",
       "    }\n",
       "\n",
       "    .dataframe tbody tr th {\n",
       "        vertical-align: top;\n",
       "    }\n",
       "\n",
       "    .dataframe thead th {\n",
       "        text-align: right;\n",
       "    }\n",
       "</style>\n",
       "<table border=\"1\" class=\"dataframe\">\n",
       "  <thead>\n",
       "    <tr style=\"text-align: right;\">\n",
       "      <th></th>\n",
       "      <th>reviewerID</th>\n",
       "      <th>asin</th>\n",
       "      <th>reviewerName</th>\n",
       "      <th>helpful</th>\n",
       "      <th>reviewText</th>\n",
       "      <th>overall</th>\n",
       "      <th>summary</th>\n",
       "      <th>unixReviewTime</th>\n",
       "      <th>reviewTime</th>\n",
       "    </tr>\n",
       "  </thead>\n",
       "  <tbody>\n",
       "    <tr>\n",
       "      <th>0</th>\n",
       "      <td>A1VEELTKS8NLZB</td>\n",
       "      <td>616719923X</td>\n",
       "      <td>Amazon Customer</td>\n",
       "      <td>[0, 0]</td>\n",
       "      <td>Just another flavor of Kit Kat but the taste i...</td>\n",
       "      <td>4</td>\n",
       "      <td>Good Taste</td>\n",
       "      <td>1370044800</td>\n",
       "      <td>06 1, 2013</td>\n",
       "    </tr>\n",
       "    <tr>\n",
       "      <th>1</th>\n",
       "      <td>A14R9XMZVJ6INB</td>\n",
       "      <td>616719923X</td>\n",
       "      <td>amf0001</td>\n",
       "      <td>[0, 1]</td>\n",
       "      <td>I bought this on impulse and it comes from Jap...</td>\n",
       "      <td>3</td>\n",
       "      <td>3.5 stars,  sadly not as wonderful as I had hoped</td>\n",
       "      <td>1400457600</td>\n",
       "      <td>05 19, 2014</td>\n",
       "    </tr>\n",
       "    <tr>\n",
       "      <th>2</th>\n",
       "      <td>A27IQHDZFQFNGG</td>\n",
       "      <td>616719923X</td>\n",
       "      <td>Caitlin</td>\n",
       "      <td>[3, 4]</td>\n",
       "      <td>Really good. Great gift for any fan of green t...</td>\n",
       "      <td>4</td>\n",
       "      <td>Yum!</td>\n",
       "      <td>1381190400</td>\n",
       "      <td>10 8, 2013</td>\n",
       "    </tr>\n",
       "    <tr>\n",
       "      <th>3</th>\n",
       "      <td>A31QY5TASILE89</td>\n",
       "      <td>616719923X</td>\n",
       "      <td>DebraDownSth</td>\n",
       "      <td>[0, 0]</td>\n",
       "      <td>I had never had it before, was curious to see ...</td>\n",
       "      <td>5</td>\n",
       "      <td>Unexpected flavor meld</td>\n",
       "      <td>1369008000</td>\n",
       "      <td>05 20, 2013</td>\n",
       "    </tr>\n",
       "    <tr>\n",
       "      <th>4</th>\n",
       "      <td>A2LWK003FFMCI5</td>\n",
       "      <td>616719923X</td>\n",
       "      <td>Diana X.</td>\n",
       "      <td>[1, 2]</td>\n",
       "      <td>I've been looking forward to trying these afte...</td>\n",
       "      <td>4</td>\n",
       "      <td>Not a very strong tea flavor, but still yummy ...</td>\n",
       "      <td>1369526400</td>\n",
       "      <td>05 26, 2013</td>\n",
       "    </tr>\n",
       "  </tbody>\n",
       "</table>\n",
       "</div>"
      ],
      "text/plain": [
       "       reviewerID        asin     reviewerName helpful  \\\n",
       "0  A1VEELTKS8NLZB  616719923X  Amazon Customer  [0, 0]   \n",
       "1  A14R9XMZVJ6INB  616719923X          amf0001  [0, 1]   \n",
       "2  A27IQHDZFQFNGG  616719923X          Caitlin  [3, 4]   \n",
       "3  A31QY5TASILE89  616719923X     DebraDownSth  [0, 0]   \n",
       "4  A2LWK003FFMCI5  616719923X         Diana X.  [1, 2]   \n",
       "\n",
       "                                          reviewText  overall  \\\n",
       "0  Just another flavor of Kit Kat but the taste i...        4   \n",
       "1  I bought this on impulse and it comes from Jap...        3   \n",
       "2  Really good. Great gift for any fan of green t...        4   \n",
       "3  I had never had it before, was curious to see ...        5   \n",
       "4  I've been looking forward to trying these afte...        4   \n",
       "\n",
       "                                             summary  unixReviewTime  \\\n",
       "0                                         Good Taste      1370044800   \n",
       "1  3.5 stars,  sadly not as wonderful as I had hoped      1400457600   \n",
       "2                                               Yum!      1381190400   \n",
       "3                             Unexpected flavor meld      1369008000   \n",
       "4  Not a very strong tea flavor, but still yummy ...      1369526400   \n",
       "\n",
       "    reviewTime  \n",
       "0   06 1, 2013  \n",
       "1  05 19, 2014  \n",
       "2   10 8, 2013  \n",
       "3  05 20, 2013  \n",
       "4  05 26, 2013  "
      ]
     },
     "execution_count": 4,
     "metadata": {},
     "output_type": "execute_result"
    }
   ],
   "source": [
    "df.head()"
   ]
  },
  {
   "cell_type": "code",
   "execution_count": 5,
   "id": "ed869920-4de0-4a4f-a288-6dfd66015631",
   "metadata": {},
   "outputs": [
    {
     "data": {
      "text/html": [
       "<div>\n",
       "<style scoped>\n",
       "    .dataframe tbody tr th:only-of-type {\n",
       "        vertical-align: middle;\n",
       "    }\n",
       "\n",
       "    .dataframe tbody tr th {\n",
       "        vertical-align: top;\n",
       "    }\n",
       "\n",
       "    .dataframe thead th {\n",
       "        text-align: right;\n",
       "    }\n",
       "</style>\n",
       "<table border=\"1\" class=\"dataframe\">\n",
       "  <thead>\n",
       "    <tr style=\"text-align: right;\">\n",
       "      <th></th>\n",
       "      <th>reviewerID</th>\n",
       "      <th>asin</th>\n",
       "      <th>reviewerName</th>\n",
       "      <th>helpful</th>\n",
       "      <th>reviewText</th>\n",
       "      <th>overall</th>\n",
       "      <th>summary</th>\n",
       "      <th>unixReviewTime</th>\n",
       "      <th>reviewTime</th>\n",
       "    </tr>\n",
       "  </thead>\n",
       "  <tbody>\n",
       "    <tr>\n",
       "      <th>151249</th>\n",
       "      <td>A2L6QS8SVHT9RG</td>\n",
       "      <td>B00KCJRVO2</td>\n",
       "      <td>randomartco \"period film aficionado\"</td>\n",
       "      <td>[0, 0]</td>\n",
       "      <td>Delicious gluten-free oatmeal: we tried both t...</td>\n",
       "      <td>4</td>\n",
       "      <td>Delicious gluten-free oatmeal 'quick' packs!</td>\n",
       "      <td>1405123200</td>\n",
       "      <td>07 12, 2014</td>\n",
       "    </tr>\n",
       "    <tr>\n",
       "      <th>151250</th>\n",
       "      <td>AFJFXN42RZ3G2</td>\n",
       "      <td>B00KCJRVO2</td>\n",
       "      <td>R. DelParto \"Rose2\"</td>\n",
       "      <td>[0, 0]</td>\n",
       "      <td>With the many selections of instant oatmeal ce...</td>\n",
       "      <td>4</td>\n",
       "      <td>Convenient and Instant</td>\n",
       "      <td>1404604800</td>\n",
       "      <td>07 6, 2014</td>\n",
       "    </tr>\n",
       "    <tr>\n",
       "      <th>151251</th>\n",
       "      <td>ASEBX8TBYWQWA</td>\n",
       "      <td>B00KCJRVO2</td>\n",
       "      <td>Steven I. Ramm \"Steve Ramm &amp;#34;Anything Phon...</td>\n",
       "      <td>[1, 1]</td>\n",
       "      <td>While I usually review CDs and DVDs, as well a...</td>\n",
       "      <td>5</td>\n",
       "      <td>Compares favorably in taste and texture with o...</td>\n",
       "      <td>1404172800</td>\n",
       "      <td>07 1, 2014</td>\n",
       "    </tr>\n",
       "    <tr>\n",
       "      <th>151252</th>\n",
       "      <td>ANKQGTXHREOI5</td>\n",
       "      <td>B00KCJRVO2</td>\n",
       "      <td>Titanium Lili</td>\n",
       "      <td>[0, 1]</td>\n",
       "      <td>My son and I enjoyed these oatmeal packets.  H...</td>\n",
       "      <td>4</td>\n",
       "      <td>Pretty good!</td>\n",
       "      <td>1404432000</td>\n",
       "      <td>07 4, 2014</td>\n",
       "    </tr>\n",
       "    <tr>\n",
       "      <th>151253</th>\n",
       "      <td>A2CF66KIQ3RKX3</td>\n",
       "      <td>B00KCJRVO2</td>\n",
       "      <td>Vivian Deliz</td>\n",
       "      <td>[0, 0]</td>\n",
       "      <td>I like to eat oatmeal i the mornings. I usuall...</td>\n",
       "      <td>4</td>\n",
       "      <td>I like to eat oatmeal i the mornings</td>\n",
       "      <td>1405036800</td>\n",
       "      <td>07 11, 2014</td>\n",
       "    </tr>\n",
       "  </tbody>\n",
       "</table>\n",
       "</div>"
      ],
      "text/plain": [
       "            reviewerID        asin  \\\n",
       "151249  A2L6QS8SVHT9RG  B00KCJRVO2   \n",
       "151250   AFJFXN42RZ3G2  B00KCJRVO2   \n",
       "151251   ASEBX8TBYWQWA  B00KCJRVO2   \n",
       "151252   ANKQGTXHREOI5  B00KCJRVO2   \n",
       "151253  A2CF66KIQ3RKX3  B00KCJRVO2   \n",
       "\n",
       "                                            reviewerName helpful  \\\n",
       "151249              randomartco \"period film aficionado\"  [0, 0]   \n",
       "151250                               R. DelParto \"Rose2\"  [0, 0]   \n",
       "151251  Steven I. Ramm \"Steve Ramm &#34;Anything Phon...  [1, 1]   \n",
       "151252                                     Titanium Lili  [0, 1]   \n",
       "151253                                      Vivian Deliz  [0, 0]   \n",
       "\n",
       "                                               reviewText  overall  \\\n",
       "151249  Delicious gluten-free oatmeal: we tried both t...        4   \n",
       "151250  With the many selections of instant oatmeal ce...        4   \n",
       "151251  While I usually review CDs and DVDs, as well a...        5   \n",
       "151252  My son and I enjoyed these oatmeal packets.  H...        4   \n",
       "151253  I like to eat oatmeal i the mornings. I usuall...        4   \n",
       "\n",
       "                                                  summary  unixReviewTime  \\\n",
       "151249       Delicious gluten-free oatmeal 'quick' packs!      1405123200   \n",
       "151250                             Convenient and Instant      1404604800   \n",
       "151251  Compares favorably in taste and texture with o...      1404172800   \n",
       "151252                                       Pretty good!      1404432000   \n",
       "151253               I like to eat oatmeal i the mornings      1405036800   \n",
       "\n",
       "         reviewTime  \n",
       "151249  07 12, 2014  \n",
       "151250   07 6, 2014  \n",
       "151251   07 1, 2014  \n",
       "151252   07 4, 2014  \n",
       "151253  07 11, 2014  "
      ]
     },
     "execution_count": 5,
     "metadata": {},
     "output_type": "execute_result"
    }
   ],
   "source": [
    "df.tail()"
   ]
  },
  {
   "cell_type": "code",
   "execution_count": 6,
   "id": "455dac2e-970f-465e-9088-17a0b13aa24a",
   "metadata": {},
   "outputs": [
    {
     "data": {
      "text/plain": [
       "'The coffee does have a production date and best/use by date. Maybe I am the only one, but my purchase came back as quite close to the use by date, so just be careful. The coffee is good.'"
      ]
     },
     "execution_count": 6,
     "metadata": {},
     "output_type": "execute_result"
    }
   ],
   "source": [
    "df.iloc[99,:].reviewText"
   ]
  },
  {
   "cell_type": "code",
   "execution_count": 7,
   "id": "7506e825-d86e-418b-a186-a7c781f0367f",
   "metadata": {},
   "outputs": [
    {
     "data": {
      "text/html": [
       "<div>\n",
       "<style scoped>\n",
       "    .dataframe tbody tr th:only-of-type {\n",
       "        vertical-align: middle;\n",
       "    }\n",
       "\n",
       "    .dataframe tbody tr th {\n",
       "        vertical-align: top;\n",
       "    }\n",
       "\n",
       "    .dataframe thead th {\n",
       "        text-align: right;\n",
       "    }\n",
       "</style>\n",
       "<table border=\"1\" class=\"dataframe\">\n",
       "  <thead>\n",
       "    <tr style=\"text-align: right;\">\n",
       "      <th></th>\n",
       "      <th>reviewText</th>\n",
       "      <th>overall</th>\n",
       "    </tr>\n",
       "  </thead>\n",
       "  <tbody>\n",
       "    <tr>\n",
       "      <th>0</th>\n",
       "      <td>Just another flavor of Kit Kat but the taste i...</td>\n",
       "      <td>4</td>\n",
       "    </tr>\n",
       "    <tr>\n",
       "      <th>1</th>\n",
       "      <td>I bought this on impulse and it comes from Jap...</td>\n",
       "      <td>3</td>\n",
       "    </tr>\n",
       "    <tr>\n",
       "      <th>2</th>\n",
       "      <td>Really good. Great gift for any fan of green t...</td>\n",
       "      <td>4</td>\n",
       "    </tr>\n",
       "    <tr>\n",
       "      <th>3</th>\n",
       "      <td>I had never had it before, was curious to see ...</td>\n",
       "      <td>5</td>\n",
       "    </tr>\n",
       "    <tr>\n",
       "      <th>4</th>\n",
       "      <td>I've been looking forward to trying these afte...</td>\n",
       "      <td>4</td>\n",
       "    </tr>\n",
       "    <tr>\n",
       "      <th>...</th>\n",
       "      <td>...</td>\n",
       "      <td>...</td>\n",
       "    </tr>\n",
       "    <tr>\n",
       "      <th>151249</th>\n",
       "      <td>Delicious gluten-free oatmeal: we tried both t...</td>\n",
       "      <td>4</td>\n",
       "    </tr>\n",
       "    <tr>\n",
       "      <th>151250</th>\n",
       "      <td>With the many selections of instant oatmeal ce...</td>\n",
       "      <td>4</td>\n",
       "    </tr>\n",
       "    <tr>\n",
       "      <th>151251</th>\n",
       "      <td>While I usually review CDs and DVDs, as well a...</td>\n",
       "      <td>5</td>\n",
       "    </tr>\n",
       "    <tr>\n",
       "      <th>151252</th>\n",
       "      <td>My son and I enjoyed these oatmeal packets.  H...</td>\n",
       "      <td>4</td>\n",
       "    </tr>\n",
       "    <tr>\n",
       "      <th>151253</th>\n",
       "      <td>I like to eat oatmeal i the mornings. I usuall...</td>\n",
       "      <td>4</td>\n",
       "    </tr>\n",
       "  </tbody>\n",
       "</table>\n",
       "<p>151254 rows × 2 columns</p>\n",
       "</div>"
      ],
      "text/plain": [
       "                                               reviewText  overall\n",
       "0       Just another flavor of Kit Kat but the taste i...        4\n",
       "1       I bought this on impulse and it comes from Jap...        3\n",
       "2       Really good. Great gift for any fan of green t...        4\n",
       "3       I had never had it before, was curious to see ...        5\n",
       "4       I've been looking forward to trying these afte...        4\n",
       "...                                                   ...      ...\n",
       "151249  Delicious gluten-free oatmeal: we tried both t...        4\n",
       "151250  With the many selections of instant oatmeal ce...        4\n",
       "151251  While I usually review CDs and DVDs, as well a...        5\n",
       "151252  My son and I enjoyed these oatmeal packets.  H...        4\n",
       "151253  I like to eat oatmeal i the mornings. I usuall...        4\n",
       "\n",
       "[151254 rows x 2 columns]"
      ]
     },
     "execution_count": 7,
     "metadata": {},
     "output_type": "execute_result"
    }
   ],
   "source": [
    "dfdata = df[['reviewText', 'overall']]\n",
    "dfdata"
   ]
  },
  {
   "cell_type": "code",
   "execution_count": 8,
   "id": "e7b75719-2f10-476d-a40f-6a937a40e872",
   "metadata": {},
   "outputs": [
    {
     "name": "stderr",
     "output_type": "stream",
     "text": [
      "D:\\Dropbox\\Academics\\Master (Msc)\\MSC AI\\Sem 2\\Machine Learning\\Assignment\\Mini Project\\SubjectSentimentModelling\\env\\lib\\site-packages\\seaborn\\_decorators.py:36: FutureWarning: Pass the following variable as a keyword arg: x. From version 0.12, the only valid positional argument will be `data`, and passing other arguments without an explicit keyword will result in an error or misinterpretation.\n",
      "  warnings.warn(\n"
     ]
    },
    {
     "data": {
      "text/plain": [
       "<AxesSubplot:xlabel='overall'>"
      ]
     },
     "execution_count": 8,
     "metadata": {},
     "output_type": "execute_result"
    },
    {
     "data": {
      "image/png": "[encoded data removed]",
      "text/plain": [
       "<Figure size 432x288 with 1 Axes>"
      ]
     },
     "metadata": {
      "needs_background": "light"
     },
     "output_type": "display_data"
    }
   ],
   "source": [
    "import seaborn as sns\n",
    "sns.boxplot(dfdata['overall'])"
   ]
  },
  {
   "cell_type": "code",
   "execution_count": 9,
   "id": "e11a753d-58f8-42e9-92ab-3d93cc005f1f",
   "metadata": {},
   "outputs": [
    {
     "data": {
      "text/plain": [
       "<AxesSubplot:xlabel='overall', ylabel='Count'>"
      ]
     },
     "execution_count": 9,
     "metadata": {},
     "output_type": "execute_result"
    },
    {
     "data": {
      "image/png": "[encoded data removed]",
      "text/plain": [
       "<Figure size 432x288 with 1 Axes>"
      ]
     },
     "metadata": {
      "needs_background": "light"
     },
     "output_type": "display_data"
    }
   ],
   "source": [
    "import seaborn as sns\n",
    "sns.histplot(dfdata['overall'])"
   ]
  },
  {
   "cell_type": "code",
   "execution_count": 15,
   "id": "cab47f61-fc15-4327-b518-f05a14c7199b",
   "metadata": {},
   "outputs": [],
   "source": [
    "import matplotlib.pyplot as plt"
   ]
  },
  {
   "cell_type": "code",
   "execution_count": 16,
   "id": "c4ada34e-ba1c-4741-ab71-a47b54690a50",
   "metadata": {},
   "outputs": [],
   "source": [
    "from sklearn.model_selection import train_test_split\n",
    "dfdataTrain, dfdataTest = train_test_split(dfdata, test_size=0.05, stratify=dfdata['overall'])"
   ]
  },
  {
   "cell_type": "code",
   "execution_count": 17,
   "id": "868a6c02-cfcd-474e-bc47-b01c14cb7d07",
   "metadata": {},
   "outputs": [
    {
     "name": "stderr",
     "output_type": "stream",
     "text": [
      "D:\\Dropbox\\Academics\\Master (Msc)\\MSC AI\\Sem 2\\Machine Learning\\Assignment\\Mini Project\\SubjectSentimentModelling\\env\\lib\\site-packages\\seaborn\\_decorators.py:36: FutureWarning: Pass the following variable as a keyword arg: x. From version 0.12, the only valid positional argument will be `data`, and passing other arguments without an explicit keyword will result in an error or misinterpretation.\n",
      "  warnings.warn(\n",
      "D:\\Dropbox\\Academics\\Master (Msc)\\MSC AI\\Sem 2\\Machine Learning\\Assignment\\Mini Project\\SubjectSentimentModelling\\env\\lib\\site-packages\\seaborn\\_decorators.py:36: FutureWarning: Pass the following variable as a keyword arg: x. From version 0.12, the only valid positional argument will be `data`, and passing other arguments without an explicit keyword will result in an error or misinterpretation.\n",
      "  warnings.warn(\n"
     ]
    },
    {
     "data": {
      "image/png": "[encoded data removed]",
      "text/plain": [
       "<Figure size 1080x864 with 4 Axes>"
      ]
     },
     "metadata": {
      "needs_background": "light"
     },
     "output_type": "display_data"
    }
   ],
   "source": [
    "fix, axe = plt.subplots(figsize=(15, 12), nrows=2, ncols=2)\n",
    "sns.histplot(dfdataTrain['overall'], ax=axe[0, 0])\n",
    "axe[0, 0].set_title(\"dfdataTrain\")\n",
    "sns.histplot(dfdataTest['overall'], ax=axe[0, 1])\n",
    "axe[0, 1].set_title(\"dfdataTest\")\n",
    "sns.boxplot(dfdataTrain['overall'], ax=axe[1, 0])\n",
    "axe[1, 0].set_title(\"dfdataTrain\")\n",
    "sns.boxplot(dfdataTest['overall'], ax=axe[1, 1])\n",
    "axe[1, 1].set_title(\"dfdataTest\")\n",
    "plt.show();"
   ]
  },
  {
   "cell_type": "code",
   "execution_count": 18,
   "id": "f6dc2078-2b4a-4049-a3db-29fa4bf44a5b",
   "metadata": {},
   "outputs": [
    {
     "data": {
      "text/plain": [
       "(143691, 2)"
      ]
     },
     "execution_count": 18,
     "metadata": {},
     "output_type": "execute_result"
    }
   ],
   "source": [
    "dfdataTrain.shape"
   ]
  },
  {
   "cell_type": "code",
   "execution_count": 19,
   "id": "8de3b3e7-1089-41c0-ace6-2e7e27bf154c",
   "metadata": {},
   "outputs": [
    {
     "data": {
      "text/plain": [
       "(7563, 2)"
      ]
     },
     "execution_count": 19,
     "metadata": {},
     "output_type": "execute_result"
    }
   ],
   "source": [
    "dfdataTest.shape"
   ]
  },
  {
   "cell_type": "markdown",
   "id": "92d4ee39-8415-4e56-b872-a4628ac2472f",
   "metadata": {},
   "source": [
    "---"
   ]
  },
  {
   "cell_type": "code",
   "execution_count": 20,
   "id": "8e53437c-150e-4bbd-925a-41f1f4798610",
   "metadata": {},
   "outputs": [
    {
     "ename": "NameError",
     "evalue": "name 'word_tokenize' is not defined",
     "output_type": "error",
     "traceback": [
      "\u001b[1;31m---------------------------------------------------------------------------\u001b[0m",
      "\u001b[1;31mNameError\u001b[0m                                 Traceback (most recent call last)",
      "Input \u001b[1;32mIn [20]\u001b[0m, in \u001b[0;36m<cell line: 1>\u001b[1;34m()\u001b[0m\n\u001b[1;32m----> 1\u001b[0m \u001b[43mword_tokenize\u001b[49m(\u001b[38;5;124m\"\u001b[39m\u001b[38;5;124meat...\u001b[39m\u001b[38;5;124m\"\u001b[39m)\n",
      "\u001b[1;31mNameError\u001b[0m: name 'word_tokenize' is not defined"
     ]
    }
   ],
   "source": [
    "word_tokenize(\"eat...\")"
   ]
  },
  {
   "cell_type": "code",
   "execution_count": 21,
   "id": "f843c8ce-53ad-4f15-91ee-fb32d7a35e9f",
   "metadata": {},
   "outputs": [],
   "source": [
    "from nltk.tokenize import word_tokenize, sent_tokenize"
   ]
  },
  {
   "cell_type": "code",
   "execution_count": 22,
   "id": "60dcabcf-486a-48b6-83cf-d3d88b9c2f3e",
   "metadata": {},
   "outputs": [],
   "source": [
    "dfdataTrain['countSentences'] = dfdataTrain.reviewText.apply(lambda x: len(sent_tokenize(x)))"
   ]
  },
  {
   "cell_type": "code",
   "execution_count": 23,
   "id": "632eea17-3a41-496e-ac06-1721d2441b75",
   "metadata": {},
   "outputs": [
    {
     "data": {
      "text/plain": [
       "<AxesSubplot:xlabel='countSentences', ylabel='Count'>"
      ]
     },
     "execution_count": 23,
     "metadata": {},
     "output_type": "execute_result"
    },
    {
     "data": {
      "image/png": "[encoded data removed]",
      "text/plain": [
       "<Figure size 432x288 with 1 Axes>"
      ]
     },
     "metadata": {
      "needs_background": "light"
     },
     "output_type": "display_data"
    }
   ],
   "source": [
    "sns.histplot(dfdataTrain['countSentences'])"
   ]
  },
  {
   "cell_type": "code",
   "execution_count": 24,
   "id": "50fbfa9e-0ad6-4262-a06d-93b4a4f3e252",
   "metadata": {},
   "outputs": [
    {
     "data": {
      "text/plain": [
       "array(['I am a sweet-aholic. That\\'s my main downfall when it comes to eating healthy, that and portion control. I love chocolate and decided to one day google \"healthiest chocolate\" and stumbled across Vitalicious products. People were making them seem like they were the best things on Earth-- \"taste just like regular muffins and brownies, but just healthy PLUS they could be walked off in 13 minutes.\" All of that made me happy, and despite the huge pricetag I decided to purchase these babies anyway.To make my review more useful I\\'ve decided to eat 1-2 daily and post my opinions on each flavor as I eat them (so this will be updated until I review each flavor), and rate them out of 5. (To give you an idea of my \"sweet-tooth\" taste palette- I really really love chocolate, my favorite desserts are probably chocolate cake (devils food) with vanilla frosting, hot apple pie and vanilla ice cream, and brownie and ice cream. I love chocolate chip cookies, I\\'m a fan of most candy bars, I enjoy pizza hut cinnamon sticks and krispy kreme doughnuts (even though I don\\'t get to eat these things anymore- I love them :-) ).CONTENTS of SUPER SAMPLER: 2 MultiBran, 2 BlueBran, 2 Banana Nut, 2 CranBran, 2 AppleBerry, 2 Golden Corn, 4 VitaBrownies, 2 Double Chocolate, 2 Double Chocolate Dream, 2 Chocolate Fig, 2 Fudgy Peanut Butter Chip.1. Vitabrownies: (2/5) Taste more like a cake that was made with apple sauce instead of oil and splenda instead of real sugar and egg whites instead of the full eggs. There\\'s a little sweetness there, but does not compare in anyway to a real brownie. This is the first one I ate from the package... when the FeDex truck came and dropped the package off I literally went straight to the kitchen opened the box took out one brownie and put the rest in the freezer. I ate a piece, then warmed the rest up for about 30 seconds. The brownie just wasn\\'t that moist, there were sections of moistness and it looked moist, but it just didn\\'t hit the spot like I wanted. However, because of all the fiber it did leave me sorta full or satisfied afterwards (I ate it with a bottle of water).2. Banana Nut: (3/5)  Banana nut is my favorite type of muffin and I deem this particuar vitalicious banana nut as a healthier version of a healthy banana nut muffin. Familiar taste and could curb a banana nut bread fanatic\\'s craving.. its okay.3. Deep Chocolate: (5/5) This was pretty good, I\\'m sure its the best one of them all, but it still didn\\'t hit the spot quite like I thought it would given the GREAT reviews everyone has written. The sections in the muffin top with the chocolate chips were the best b/c the chocolate chips are great, but there\\'s only like 4 chips in the whole muffin top. What I\\'m fighuring now, after eating this one is that these are the type of food that you probably grow to love- like if you were determined to lose weight and/or eat right then you would just learn to love this and they would satisfy your cravings for sweets especilly if you aren\\'t a sweetaholic like me. Also the Deep Chocolate tasted more like a brownie than the Vitabrownies which I found surprising.  ****(Changed to 4.5/5 after eating for the second time, changed to 5/5 after eating these alot more)4. Blueberry (BlueBran): (1/5) You know the taste of plain oats- when you just add water. This is how this taste- with a teasppon of sugar in the mix. It\\'s plain, very plain and I honestly feel like I\\'m just wasting calories. As I sit here, eating this, writing to you guys I am now 100% positive that these vitalicious products are meant for people with very mild sweet toothes who don\\'t really like sweets, but want something sweet and healthy every now and again. I would rather use 250 calories and eat a real 3 Musketeers bar than to only use 100 and eat something that doesnt even taste good. This is my 2nd day and fourth muffin and  I honestly want to send back the box. I can appreciate the nutrients in each item though, but hey that\\'s what Bolthouse Farms drinks are for. I know its easier to make an extremely healthy tasty drink than it is to make a healthy tasty baked good, but I really thought that Vitalicious was going to be the Bolthouse Farms of the sweets/chocolate world... I was so wrong.Though I planned to post the review after eating them all, I think I\\'ll post it now (10.15.09) because I honestly am just going to \"charge it to the game\"- meaning I wasted [...] to taste test, but I\\'ll look at it as a sacrifice for others who are thinking about buying them. I will very randomly eat the rest... and just add the reviews of their taste as I eat (provided that i actually eat another one again). I am honestly just very disaapointed- I thought I wouldnt have to buy anything sweet for atleast 2 weeks, now I\\'m somewhat going back to the drawing board.Conclusion: At 36 bucks(...) 1.50(...) per brownie/muffin top) I think that it\\'s not worth it. For me, with my budget, I\\'m better off buying the 100-calorie packs in the store and just leaving them in the car if I don\\'t think I can control myself to eat just one. Atleast with the 100-calorie packs you get 6 for about (...)  (0.67 per pack) and if you have coupons you can get it or less than that.  But again, I know that its hard to control yourself with the 100-calorie packs because they\\'re just so darn tasty.... Vitalicious products will definitely make it easier to exhibit self control since they\\'re fiber rich and not extremely tasty-- they\\'re more like \"just tasty enough\". **(Please check my FINAL CONCLUSION at the bottom).Other random notes:- I do not suggest buying this particular sampler, if you buy anything buy the chocolate sampler- the chocolate flavors are the best and will grow on you overtime- this has happened to me. It\\'s still no Betty Crocker or Hershey\\'s chocolate, but it grows on you. The key is warming them up at exactly the right number of seconds.- I think these may be better to a person who loves muffins- the texture the taste. I do love a great muffin, but I don\\'t eat them everyday for breakfast like some people. If you\\'re the kind of person that blows about 500-600 calories on a muffin every morning than this is probably a more fitting healthy alternative for you.- I still don\\'t get how all their products are getting such high reviews, I guess the people who don\\'t like them aren\\'t really saying much. Don\\'t get me wrong I do think this is a great product- all those vitamins and just 100 calories- ist great, but it\\'s great for someon who doesn\\'t really eat a whole lot of sweets anyway not for someone who has an extreme sweet tooth like me.- If for some reason these do begin to grow on me after a few more days/weeks, I promise to come back and tell you guys... b/c this just may be one of the products that has to grow on you.- I gave the product 2 stars, but I really wanted to just give it 1. But I figured the Vitalicious lovers would be too mad at me if I gave their beloved product one. So I settled with two because of that and because they are filled with vitiamins and what not.**UPDATE, UPDATE, UPDATE, UPDATE, UPDATE (updates below)****:5.  Fudgy Peanut Buter Chip: (2/5) This was okay. The peanut butter taste was watered down... chocolate was bland. There is nothing  and I mean nothing \"fudgy\" about this.6. Double Chocolate Dream: (4/5). Ummmm, well, as I sit here eating this tasty chocolate treat, I\\'m scratching my head trying to figure out- is this bland vitalicious chocolate growing on me-- or does this one really taste good? I took this out the freezer, warmed it up for 30 seconds, opened the microwave and it smelled like chocolate milk... this was interesting. Grabbed my smoothie, sat down and begin to eat.... and you guys, this is the best one so far. This actually taste like a box chocolate cake that you just added a little too much water into. Whatever they added in this one they need to do to the rest. Double Chocolate Dream will actually curb a chocolate craving.- I ate another Vitabrownie and guys after the 3rd one they\\'re beginning to grow on me. And you know what eating like 2-3 of these a day actually makes you eat less- its weird. You\\'re just less hungry I\\'ve been calculating my calories and though I was thinking I was eating 1600 or so calories a day. I\\'ve actually been eating more like 800-1200 (max) and I think its the vitabrownies and muffins that are helping... and all the protein I eat--- like tuna and salmon. That combined with my smoothies and bolthouse farm drinks and water.7. Appleberry: (2/5). I\\'ll say it again all of Vitalicious\\'s bran products taste like watered down oats with a drop of sugar. If you\\'re big on plain granola and plain oats and similar foods then you\\'ll like them otherwise it very barely satisfies a sweet tooth. The apple smell is nice, I just wish it was more present... like I wish it had a apple-cinnamon type taste.8. CranBran: (1/5). (read above review). Very plain taste. Can I give a 0/5? Is that fair... Idk, these Brans probably deserve 0 out of 5.9. Chocolate Fig: (2/5). I\\'m not big on figs, and actually I feel like chewy snacks in breaded/crunchy sweets are unnecessary- like raisins. So since I had to remove the figs, this wasn\\'t my favorite. The chocolate was okay... sort of bland because there\\'s no chocolate chips to make it moist. (meant for those who can enjoy both chocolate and fig newtons)- I ate another Deep Chocolate... and mm mmm good! The Vitalicious chocolate taste is growing on me. I think these may taste better after frozen for 2 or more days then warmed up at 30 seconds. Deep Chocolate just may be better than Double Chocolate Dream... it may deserve a 4/5, hmmm.- I have suggestions for Vitalicious... put more chocolate chips in the VitaBrownie, also create an Apple-Cinnamon flavor and a Carrot Cake type flavor.- You guys I\\'m so scared to taste the Golden Corn and Multi-Gran because I\\'m sure I won\\'t like it. I have 2 of each of those left, a CranBran BlueberryBran, AppleBerry, and Chocolate Fig. Thats about 8 x 1.50 going to waste. 12 bucks((...)- that could have went towards atleast 3 boxes of 100 calorie snacks or 3 bolthouse farm drinks or 2-3 days worth of quiznos). I\\'ll still come back and review the others later, but I now feel I can make a 100% call on Vitalicious muffins and brownies... here\\'s my final conclusion...10. Golden Corn: (4/5). Sooooo, I\\'m sitting here, drinking my hot mint green tea and delicately chowing down on this Golden Corn vitamuffin, and people this is darn good! When I took the first bite I thought to myself, \"Duuuh, its called golden corn so its suppose to taste like cornbread!\". And this healthy piece of corn bread is much better than most-- it taste like a healthy gourmet version of Jiffy cornbread. It is sooo good, I\\'m not sure if everyone will have this same reaction, but if you\\'re a fan of sweet cornbread then you definitely will. This is perfect for those of you who have given up your fried chicken for grilled chicken and your buttery mash potatoes for plain baked potatoes-- its the perfect addition to your meal. And honestly its good just eaten as a midday or midnight snack. 100 calories, 0 fat, lots of fiber and vitamins- it can\\'t get any better. This out of all the other flavors taste the most like what its supposed to be, meaning: you could blindfold someone and put 5-6 different cornbreads in front of them and they would not guess this to be the healthiest and that\\'s why I\\'m giving it a 4.5/5.  ---Okay so after eating this again, I still love it, but I feel like I overdid the review, I think I first ate it when I was pretty hungry and craving sweetness. On the second go round it was still really good but more like a 4/5.***FINAL CONCLUSION***: Run like heck from all Vitalicious Bran-flavored products, they taste like plain quaker oats with too much water and a teaspoon of sugar with bits of warm fruit scattered throughout. They\\'re only for those who delight in bran flavor. Appleberry is decent, pretty good even, if you really like apple and berry flavored breads and muffins. The Banana Nut is the best replica muffin in my opinion, its tasty and can be looked at as a light version of a banana nut muffin. Golden Corn (sigh) is delicious. It tastes just like the sweet cornbread most southerners looks forward to at Sunday Dinner meals (with a slightly lighter taste and all with the added benefit of it being healthy).The chocolate grows on you overtime. The first 2 times you eat one of the chocolate flavors, you\\'ll be sad and wondering why you spent so much money, but then by day 3 and your 3rd or 4th Deep Chocolate or Double Chocolate Dream you\\'ll be happy. And a part of that happiness will be because you are unintentionally and unnoticeably eating less (because of the fiber you\\'ll stay fuller longer).I work from home so its very easy for me to snack snack snack all day, but with a little self-control and the chocolate Vitalicious muffintop it will be easy to control snacking. If I could find it in my heart to spend another (...) on 24 snack cakes I would EASILY order a box of Deep ChocolateVitalicious Deep Chocolate Vita Tops , 2-Ounce Units (Pack of 24). I can safely say that this will satisfy a chocoholics need for chocolate... just use them as your once a day daily treat. If they\\'re frozen warm it up for 30 seconds. If its room-temperature try 15 seconds. You will most likely not like it the first time, but it grows on you.Besides Deep Chocolate the only other Vitalicious muffintops that I would reccomend trying out are: Golden Corn, Double Chocolate Dream, and Triple Chocolate Chunk, and maybe Vitabrownies- and that\\'s only if you\\'re a big fan of nuts, otherwise stick to the muffintops they taste more like brownies.I just want to repeat the fact that I don\\'t know why these are getting such overall high reviews... I\\'m guessing its because some people from their company are the ones writing them (lol) or the people who are writing reviews don\\'t have INTENSE sweet cravings like I do. If you have an intense sweet tooth Please don\\'t waste your money on this sampler-- you will most likely regret it. The best flavors really are Deep Chocolate and Golden Corn (if you like southern cornbread). If you are looking for something to curb your sweet tooth just stick to Deep Chocolate ( I believe it has perfect reviews)Whew! I\\'ve written alot, but I hope this helps you guys to make a better decision. I decided to make my review comprehensive because this is alot of cash to spend on small sweets... Plus, when I was trying to decide whether or not to buy these I assumed the posted reviews were helpful, but they really weren\\'t (except for the tips on immediately freezing them).  I ended up only actually liking 5 flavors (deep chocolate, golden corn, double chocolate dream, banana nut, brownie). That indubitably means that I \"wasted\" 12 muffintops... don\\'t let those muffintops have been painfully eaten and picked over in vain...Good Luck with choosing 100-calories snack foods to assist you with your healthy lifestyle.***Last UPDATE Nov 3, 2009***11. MultiBran: (1/5). I\\'m writing this well after eating the ones above. Its been in the freezer for about 2 weeks now so I figured- what the heck let\\'s get it on MultiBran. And you guys-- this bran taste actually grows on you aferwhile... I\\'ll still give it a 1/5, but I\\'m so used to the plain watery quaker oats taste that it doesn\\'t bother me anymore. I feel sorta bad for coming down so hard on the bran since, after all, it is very good for you. After eating the MultiBran-- which I dubbed from day one the \"king of the muffintop brans\" I realize that this sampler is good for those who are health nuts and are used to these plain flavors. I can now actually see why people give this sampler high ratings, its because they eat stuff like this all day long and so to them it really is good, they\\'re probably people who arent that big on sweets anyway, and who easily have 36 bucks (...) to spend on 24 muffins.  Like I said I work from home so its easy for me to snack all day, but just from me starting the day off with a vitalicious muffin (and fruit) I can eat less... I consumed 1010 calories total yesterday.Now that I know what I like and dislike I wouldn\\'t buy this sampler again, but if you really are curious on your own how all these flavors taste then feel free to indulge. I might even give this 3 stars.... well maybe not because these taste really are bland. But still the Vitalicious muffintops do assist in being able to live a healthy lifestyle and thats what im about. I\\'m not \"dieting\" I\\'m practicing a healthy lifestyle and vitalicious will take you MUCH further then those nabisco, sunshine, and keebler 100 calorie packs. Because the flavor is exactly the same I end up eating the whole box of those tasty shortbread/oreos/chip ahoys/cheezits in one day... sometimes in 2 sittings.... but you wouldnt have that problem with these, its hard to eat more than 2 even though they\\'re pretty small. The key is eating these with something, like a smoothie or some fruit and water.**IMPORTANT TIP**:::: Before buying these I just suggest you ask yourself what your main purpose of purchasing them are. Is it to explore healthy snacks? Is it to find healthy breakfast food? Is it to help with sweet cravings? To help with oversnacking? To find good bran flavored foods? Mine was to find healthy sweets. Something that I liked that was low in calories, had vitamins, and would sufficiently curb my cravings for candy bars (lol). I love chocolate and I have sugar cravings. So in my case I would have been better off just purchasing Deep Chocolate. Everyone will come out with a slightly different conclusion, some may not need to purchase these at all.Also it generally helps to order these with low (very low) expectations. To the point that you\\'re almost scared to eat it, so that when you finally do it\\'s like , \"hmmm? okay, wow, well... this is pretty good\". lol.Good Luck everyone!PS- ** The prices on these vitatops are strange, they fluctuate... is anyone else noticing this? I went ahead and ordered the triple chocolate chunk yesterday and because they were about 26 bucks (...) plus free shipping. Now, not even 12 hours later,  they\\'re 32... what happened? Its as if the price of the chocolate ones are going up while the bran is lowering... thats just wrong. You all may just want to buy from your local store... Vitalicious Vitatops has a Facebook page and they seem to answer their fans pretty quickly. They say if a store near you doesn\\'t carry their muffintops you can put in a request at the store and Vitalicious will be sure to get them to that particular store--- as long as its one that is supposed to carry Vitatops, like Krogers, Gristedes, Food Emporium, Whole Foods, etc. (check their website for the complete listing).'],\n",
       "      dtype=object)"
      ]
     },
     "execution_count": 24,
     "metadata": {},
     "output_type": "execute_result"
    }
   ],
   "source": [
    "dfdataTrain[dfdataTrain.countSentences == dfdataTrain['countSentences'].max()].reviewText.values"
   ]
  },
  {
   "cell_type": "code",
   "execution_count": 25,
   "id": "634b2671-ee5f-474b-ac90-620862748a21",
   "metadata": {},
   "outputs": [
    {
     "data": {
      "text/plain": [
       "array(['', '', '', '', '', '', '', '', '', '', '', '', '', '', '', '', '',\n",
       "       '', '', ''], dtype=object)"
      ]
     },
     "execution_count": 25,
     "metadata": {},
     "output_type": "execute_result"
    }
   ],
   "source": [
    "dfdataTrain[dfdataTrain.countSentences == dfdataTrain['countSentences'].min()].reviewText.values"
   ]
  },
  {
   "cell_type": "code",
   "execution_count": 26,
   "id": "e5117a14-1753-45d5-a928-6d340d4ded31",
   "metadata": {},
   "outputs": [],
   "source": [
    "from collections import defaultdict"
   ]
  },
  {
   "cell_type": "code",
   "execution_count": 27,
   "id": "2d5c24c4-74eb-4a8a-ad1b-c62946b0c56e",
   "metadata": {},
   "outputs": [],
   "source": [
    "dictionary = defaultdict(lambda: 0)\n",
    "for _, row in dfdataTrain.iterrows():\n",
    "    for w in word_tokenize(row['reviewText']):\n",
    "        dictionary[w] += 1"
   ]
  },
  {
   "cell_type": "code",
   "execution_count": 28,
   "id": "7bc1460a-32c4-45bc-a283-73857eec4031",
   "metadata": {},
   "outputs": [
    {
     "data": {
      "text/plain": [
       "[('.', 693693),\n",
       " (',', 586111),\n",
       " ('the', 481118),\n",
       " ('I', 454619),\n",
       " ('a', 384988),\n",
       " ('and', 368245),\n",
       " ('to', 292050),\n",
       " ('of', 266289),\n",
       " ('it', 254008),\n",
       " ('is', 238609),\n",
       " ('in', 162575),\n",
       " ('for', 150122),\n",
       " ('this', 149617),\n",
       " ('that', 137760),\n",
       " ('you', 112542),\n",
       " ('with', 110516),\n",
       " ('but', 108842),\n",
       " ('are', 100829),\n",
       " ('not', 100118),\n",
       " (\"n't\", 93459)]"
      ]
     },
     "execution_count": 28,
     "metadata": {},
     "output_type": "execute_result"
    }
   ],
   "source": [
    "sorted(dictionary.items(), key=lambda x: x[1], reverse=True)[:20]"
   ]
  },
  {
   "cell_type": "code",
   "execution_count": 29,
   "id": "4c163344-8845-4219-9be1-fb3c409fe452",
   "metadata": {},
   "outputs": [
    {
     "data": {
      "text/plain": [
       "['i', 'do', \"n't\", 'want', 'you']"
      ]
     },
     "execution_count": 29,
     "metadata": {},
     "output_type": "execute_result"
    }
   ],
   "source": [
    "word_tokenize(\"i don't want you\")"
   ]
  },
  {
   "cell_type": "markdown",
   "id": "bc434af4-c046-40d1-8c13-01ca99a4862f",
   "metadata": {},
   "source": [
    "---"
   ]
  },
  {
   "cell_type": "code",
   "execution_count": 30,
   "id": "5559f350-7b5e-4af8-b368-455592880171",
   "metadata": {},
   "outputs": [],
   "source": [
    "dfdataTrainExp, _ = train_test_split(dfdataTrain, train_size=0.05, stratify=dfdataTrain['overall'])"
   ]
  },
  {
   "cell_type": "code",
   "execution_count": 31,
   "id": "5ff287f7-c86c-4077-9086-5b3a05e67a65",
   "metadata": {},
   "outputs": [
    {
     "data": {
      "text/plain": [
       "<AxesSubplot:xlabel='overall', ylabel='Count'>"
      ]
     },
     "execution_count": 31,
     "metadata": {},
     "output_type": "execute_result"
    },
    {
     "data": {
      "image/png": "[encoded data removed]",
      "text/plain": [
       "<Figure size 432x288 with 1 Axes>"
      ]
     },
     "metadata": {
      "needs_background": "light"
     },
     "output_type": "display_data"
    }
   ],
   "source": [
    "sns.histplot(dfdataTrainExp['overall'])"
   ]
  },
  {
   "cell_type": "code",
   "execution_count": 32,
   "id": "136f9764-ca8f-4f0a-8fc6-e1f23ef060c9",
   "metadata": {},
   "outputs": [
    {
     "data": {
      "text/plain": [
       "(7184, 3)"
      ]
     },
     "execution_count": 32,
     "metadata": {},
     "output_type": "execute_result"
    }
   ],
   "source": [
    "dfdataTrainExp.shape"
   ]
  },
  {
   "cell_type": "code",
   "execution_count": 33,
   "id": "f646b7c2-8b62-4601-88b6-6506cdcaba7f",
   "metadata": {},
   "outputs": [
    {
     "data": {
      "text/html": [
       "<div>\n",
       "<style scoped>\n",
       "    .dataframe tbody tr th:only-of-type {\n",
       "        vertical-align: middle;\n",
       "    }\n",
       "\n",
       "    .dataframe tbody tr th {\n",
       "        vertical-align: top;\n",
       "    }\n",
       "\n",
       "    .dataframe thead th {\n",
       "        text-align: right;\n",
       "    }\n",
       "</style>\n",
       "<table border=\"1\" class=\"dataframe\">\n",
       "  <thead>\n",
       "    <tr style=\"text-align: right;\">\n",
       "      <th></th>\n",
       "      <th>overall</th>\n",
       "      <th>countSentences</th>\n",
       "    </tr>\n",
       "  </thead>\n",
       "  <tbody>\n",
       "    <tr>\n",
       "      <th>count</th>\n",
       "      <td>7184.000000</td>\n",
       "      <td>7184.000000</td>\n",
       "    </tr>\n",
       "    <tr>\n",
       "      <th>mean</th>\n",
       "      <td>4.242762</td>\n",
       "      <td>5.519627</td>\n",
       "    </tr>\n",
       "    <tr>\n",
       "      <th>std</th>\n",
       "      <td>1.090415</td>\n",
       "      <td>4.231555</td>\n",
       "    </tr>\n",
       "    <tr>\n",
       "      <th>min</th>\n",
       "      <td>1.000000</td>\n",
       "      <td>0.000000</td>\n",
       "    </tr>\n",
       "    <tr>\n",
       "      <th>25%</th>\n",
       "      <td>4.000000</td>\n",
       "      <td>3.000000</td>\n",
       "    </tr>\n",
       "    <tr>\n",
       "      <th>50%</th>\n",
       "      <td>5.000000</td>\n",
       "      <td>4.000000</td>\n",
       "    </tr>\n",
       "    <tr>\n",
       "      <th>75%</th>\n",
       "      <td>5.000000</td>\n",
       "      <td>7.000000</td>\n",
       "    </tr>\n",
       "    <tr>\n",
       "      <th>max</th>\n",
       "      <td>5.000000</td>\n",
       "      <td>48.000000</td>\n",
       "    </tr>\n",
       "  </tbody>\n",
       "</table>\n",
       "</div>"
      ],
      "text/plain": [
       "           overall  countSentences\n",
       "count  7184.000000     7184.000000\n",
       "mean      4.242762        5.519627\n",
       "std       1.090415        4.231555\n",
       "min       1.000000        0.000000\n",
       "25%       4.000000        3.000000\n",
       "50%       5.000000        4.000000\n",
       "75%       5.000000        7.000000\n",
       "max       5.000000       48.000000"
      ]
     },
     "execution_count": 33,
     "metadata": {},
     "output_type": "execute_result"
    }
   ],
   "source": [
    "dfdataTrainExp.describe()"
   ]
  },
  {
   "cell_type": "markdown",
   "id": "1dba7f68-8da5-45e7-b8ee-c33d33f71ecd",
   "metadata": {},
   "source": [
    "---"
   ]
  },
  {
   "cell_type": "markdown",
   "id": "1de9b580-96fe-463b-85bb-f0047f5e35e1",
   "metadata": {},
   "source": [
    "#### Goal: Check the hypothesis of the model & processing"
   ]
  },
  {
   "cell_type": "markdown",
   "id": "f67e021c-83b1-4614-9fa7-db935249385c",
   "metadata": {},
   "source": [
    "#### Processing Planning\n",
    "<p> Use exploring sets </p>\n",
    "\n",
    "<ol>\n",
    "    <li> No cleaning </li>\n",
    "    <li> Tokenized words </li>\n",
    "    <li> BOW </li>\n",
    "</ol>\n",
    "\n",
    "<ol>\n",
    "    <li> No cleaning </li>\n",
    "    <li> Tokenized words </li>\n",
    "    <li> TFIDF </li>\n",
    "</ol>\n",
    "\n",
    "<ol>\n",
    "    <li> No cleaning </li>\n",
    "    <li> Tokenized words </li>\n",
    "    <li> Embedding </li>\n",
    "</ol>\n",
    "\n",
    "<ol>\n",
    "    <li> cleaning & standardized </li>\n",
    "    <li> lemmatized </li>\n",
    "    <li> subject finding </li>\n",
    "    <li> ehanced-embedding </li>\n",
    "</ol>\n",
    "\n",
    "#### ML Planning\n",
    "<ol>\n",
    "    <li> Naive Bayes </li>\n",
    "    <li> SVM </li>\n",
    "    <li> RNN </li>\n",
    "</ol>"
   ]
  },
  {
   "cell_type": "markdown",
   "id": "890b5fca-a56c-49d9-8c6a-d133a64936ea",
   "metadata": {},
   "source": [
    "#### Goal: Tuning the model"
   ]
  },
  {
   "cell_type": "markdown",
   "id": "9f6fe49b-bef8-4421-af90-ee68f027ea6b",
   "metadata": {},
   "source": [
    "#### Tuning Planning\n",
    "<ol>\n",
    "    <li> Use training & validation sets </li>\n",
    "    <li> For ml models, tuned the hyperparameter by grid search</li>\n",
    "    <li> For dl models, tuned the architecture</li>\n",
    "</ol>"
   ]
  },
  {
   "cell_type": "markdown",
   "id": "69de1e47-890b-41b2-9535-834d1e42bd90",
   "metadata": {},
   "source": [
    "#### Goal: Check the performances of model"
   ]
  },
  {
   "cell_type": "markdown",
   "id": "71907ea1-25a9-4c58-8656-2f7952dd7ca5",
   "metadata": {},
   "source": [
    "#### Performance Planning\n",
    "<ol>\n",
    "    <li> Use test sets</li>\n",
    "    <li> RMSE should be below than 3</li>\n",
    "</ol>"
   ]
  },
  {
   "cell_type": "code",
   "execution_count": 36,
   "id": "1c8fc917-f506-4eab-a70a-92843f6981d7",
   "metadata": {},
   "outputs": [
    {
     "data": {
      "text/html": [
       "<div>\n",
       "<style scoped>\n",
       "    .dataframe tbody tr th:only-of-type {\n",
       "        vertical-align: middle;\n",
       "    }\n",
       "\n",
       "    .dataframe tbody tr th {\n",
       "        vertical-align: top;\n",
       "    }\n",
       "\n",
       "    .dataframe thead th {\n",
       "        text-align: right;\n",
       "    }\n",
       "</style>\n",
       "<table border=\"1\" class=\"dataframe\">\n",
       "  <thead>\n",
       "    <tr style=\"text-align: right;\">\n",
       "      <th></th>\n",
       "      <th>reviewText</th>\n",
       "      <th>overall</th>\n",
       "      <th>countSentences</th>\n",
       "    </tr>\n",
       "  </thead>\n",
       "  <tbody>\n",
       "    <tr>\n",
       "      <th>115681</th>\n",
       "      <td>I do not eat gluten, so it was important to me...</td>\n",
       "      <td>5</td>\n",
       "      <td>18</td>\n",
       "    </tr>\n",
       "    <tr>\n",
       "      <th>64681</th>\n",
       "      <td>This is the best GF cracker I have found.  Eve...</td>\n",
       "      <td>5</td>\n",
       "      <td>3</td>\n",
       "    </tr>\n",
       "    <tr>\n",
       "      <th>100792</th>\n",
       "      <td>I was hoping it would be a little more spicy w...</td>\n",
       "      <td>4</td>\n",
       "      <td>2</td>\n",
       "    </tr>\n",
       "    <tr>\n",
       "      <th>135227</th>\n",
       "      <td>This is an awesome product... certified organi...</td>\n",
       "      <td>5</td>\n",
       "      <td>8</td>\n",
       "    </tr>\n",
       "    <tr>\n",
       "      <th>63710</th>\n",
       "      <td>I get these for my class store. The students l...</td>\n",
       "      <td>5</td>\n",
       "      <td>2</td>\n",
       "    </tr>\n",
       "  </tbody>\n",
       "</table>\n",
       "</div>"
      ],
      "text/plain": [
       "                                               reviewText  overall  \\\n",
       "115681  I do not eat gluten, so it was important to me...        5   \n",
       "64681   This is the best GF cracker I have found.  Eve...        5   \n",
       "100792  I was hoping it would be a little more spicy w...        4   \n",
       "135227  This is an awesome product... certified organi...        5   \n",
       "63710   I get these for my class store. The students l...        5   \n",
       "\n",
       "        countSentences  \n",
       "115681              18  \n",
       "64681                3  \n",
       "100792               2  \n",
       "135227               8  \n",
       "63710                2  "
      ]
     },
     "execution_count": 36,
     "metadata": {},
     "output_type": "execute_result"
    }
   ],
   "source": [
    "dfdataTrainExp.head()"
   ]
  },
  {
   "cell_type": "code",
   "execution_count": 54,
   "id": "06c7c2b8-7a2e-4e49-81e2-4f0d105f1548",
   "metadata": {},
   "outputs": [],
   "source": [
    "import numpy as np\n",
    "from sklearn.metrics import mean_squared_error\n",
    "from sklearn.pipeline import Pipeline"
   ]
  },
  {
   "cell_type": "code",
   "execution_count": 40,
   "id": "244693c0-5a0d-4cfd-a7d2-b4d0cb865482",
   "metadata": {},
   "outputs": [],
   "source": [
    "from sklearn.model_selection import GridSearchCV"
   ]
  },
  {
   "cell_type": "code",
   "execution_count": 55,
   "id": "62db152f-3cfe-4e17-b65e-80e529a221dc",
   "metadata": {},
   "outputs": [
    {
     "ename": "OSError",
     "evalue": "[WinError 126] The specified module could not be found. Error loading \"D:\\Dropbox\\Academics\\Master (Msc)\\MSC AI\\Sem 2\\Machine Learning\\Assignment\\Mini Project\\SubjectSentimentModelling\\env\\lib\\site-packages\\torch\\lib\\caffe2_nvrtc.dll\" or one of its dependencies.",
     "output_type": "error",
     "traceback": [
      "\u001b[1;31m---------------------------------------------------------------------------\u001b[0m",
      "\u001b[1;31mOSError\u001b[0m                                   Traceback (most recent call last)",
      "Input \u001b[1;32mIn [55]\u001b[0m, in \u001b[0;36m<cell line: 3>\u001b[1;34m()\u001b[0m\n\u001b[0;32m      1\u001b[0m \u001b[38;5;28;01mfrom\u001b[39;00m \u001b[38;5;21;01msklearn\u001b[39;00m\u001b[38;5;21;01m.\u001b[39;00m\u001b[38;5;21;01mnaive_bayes\u001b[39;00m \u001b[38;5;28;01mimport\u001b[39;00m MultinomialNB\n\u001b[0;32m      2\u001b[0m \u001b[38;5;28;01mfrom\u001b[39;00m \u001b[38;5;21;01msklearn\u001b[39;00m\u001b[38;5;21;01m.\u001b[39;00m\u001b[38;5;21;01msvm\u001b[39;00m \u001b[38;5;28;01mimport\u001b[39;00m LinearSVR\n\u001b[1;32m----> 3\u001b[0m \u001b[38;5;28;01mimport\u001b[39;00m \u001b[38;5;21;01mtorch\u001b[39;00m\n",
      "File \u001b[1;32mD:\\Dropbox\\Academics\\Master (Msc)\\MSC AI\\Sem 2\\Machine Learning\\Assignment\\Mini Project\\SubjectSentimentModelling\\env\\lib\\site-packages\\torch\\__init__.py:140\u001b[0m, in \u001b[0;36m<module>\u001b[1;34m\u001b[0m\n\u001b[0;32m    138\u001b[0m                 err \u001b[38;5;241m=\u001b[39m ctypes\u001b[38;5;241m.\u001b[39mWinError(ctypes\u001b[38;5;241m.\u001b[39mget_last_error())\n\u001b[0;32m    139\u001b[0m                 err\u001b[38;5;241m.\u001b[39mstrerror \u001b[38;5;241m+\u001b[39m\u001b[38;5;241m=\u001b[39m \u001b[38;5;124mf\u001b[39m\u001b[38;5;124m'\u001b[39m\u001b[38;5;124m Error loading \u001b[39m\u001b[38;5;124m\"\u001b[39m\u001b[38;5;132;01m{\u001b[39;00mdll\u001b[38;5;132;01m}\u001b[39;00m\u001b[38;5;124m\"\u001b[39m\u001b[38;5;124m or one of its dependencies.\u001b[39m\u001b[38;5;124m'\u001b[39m\n\u001b[1;32m--> 140\u001b[0m                 \u001b[38;5;28;01mraise\u001b[39;00m err\n\u001b[0;32m    142\u001b[0m     kernel32\u001b[38;5;241m.\u001b[39mSetErrorMode(prev_error_mode)\n\u001b[0;32m    145\u001b[0m \u001b[38;5;66;03m# See Note [Global dependencies]\u001b[39;00m\n",
      "\u001b[1;31mOSError\u001b[0m: [WinError 126] The specified module could not be found. Error loading \"D:\\Dropbox\\Academics\\Master (Msc)\\MSC AI\\Sem 2\\Machine Learning\\Assignment\\Mini Project\\SubjectSentimentModelling\\env\\lib\\site-packages\\torch\\lib\\caffe2_nvrtc.dll\" or one of its dependencies."
     ]
    }
   ],
   "source": [
    "from sklearn.naive_bayes import MultinomialNB\n",
    "from sklearn.svm import LinearSVR\n",
    "import torch"
   ]
  },
  {
   "cell_type": "code",
   "execution_count": 53,
   "id": "b3822a7a-41b6-47e7-a66f-fb0021ec22a3",
   "metadata": {},
   "outputs": [],
   "source": [
    "def accuracyTrainTest(model, trainX: np.array, trainY: np.array, testX: np.array, testY: np.array) -> (float, float):\n",
    "    mod = model.fit(trainX, trainY)\n",
    "    yfit = mod.predict(trainX)\n",
    "    ypred = mod.predict(testX)\n",
    "    \n",
    "    # train result, test result\n",
    "    return mean_squared_error(trainY, yfit), mean_squared_error(testY, ypred)\n",
    "\n",
    "def cleaningText(text: str) -> str:\n",
    "    "
   ]
  },
  {
   "cell_type": "code",
   "execution_count": 48,
   "id": "27d13a96-c639-41eb-a6bb-9dae89ea1f81",
   "metadata": {},
   "outputs": [
    {
     "name": "stdout",
     "output_type": "stream",
     "text": [
      "234\n"
     ]
    }
   ],
   "source": []
  },
  {
   "cell_type": "code",
   "execution_count": null,
   "id": "78e5d62a-27d3-4983-a684-30fa6cbe4a88",
   "metadata": {},
   "outputs": [],
   "source": []
  }
 ],
 "metadata": {
  "kernelspec": {
   "display_name": "env",
   "language": "python",
   "name": "env"
  },
  "language_info": {
   "codemirror_mode": {
    "name": "ipython",
    "version": 3
   },
   "file_extension": ".py",
   "mimetype": "text/x-python",
   "name": "python",
   "nbconvert_exporter": "python",
   "pygments_lexer": "ipython3",
   "version": "3.10.5"
  }
 },
 "nbformat": 4,
 "nbformat_minor": 5
}
