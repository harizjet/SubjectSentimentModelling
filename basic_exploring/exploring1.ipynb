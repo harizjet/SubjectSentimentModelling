{
 "cells": [
  {
   "cell_type": "code",
<<<<<<< HEAD
   "execution_count": 291,
=======
   "execution_count": 2,
>>>>>>> 8dfb53a95736c34f2e159fa364a7d22ab14d74b6
   "id": "a86e82b7-3426-409b-bcf3-d28c859d5be2",
   "metadata": {},
   "outputs": [],
   "source": [
    "import pandas as pd"
   ]
  },
  {
   "cell_type": "code",
<<<<<<< HEAD
   "execution_count": 292,
=======
   "execution_count": 244,
>>>>>>> 8dfb53a95736c34f2e159fa364a7d22ab14d74b6
   "id": "c2e948aa-8075-4ddc-89a3-7f629428daca",
   "metadata": {},
   "outputs": [],
   "source": [
    "df = pd.read_json('../data/Amazon_GroceryandGourmetFood.json', lines=True)"
   ]
  },
  {
   "cell_type": "code",
<<<<<<< HEAD
   "execution_count": 293,
=======
   "execution_count": 245,
>>>>>>> 8dfb53a95736c34f2e159fa364a7d22ab14d74b6
   "id": "de2b9168-ae74-4c5f-b9f0-7866c920b4e7",
   "metadata": {},
   "outputs": [
    {
     "data": {
      "text/html": [
       "<div>\n",
       "<style scoped>\n",
       "    .dataframe tbody tr th:only-of-type {\n",
       "        vertical-align: middle;\n",
       "    }\n",
       "\n",
       "    .dataframe tbody tr th {\n",
       "        vertical-align: top;\n",
       "    }\n",
       "\n",
       "    .dataframe thead th {\n",
       "        text-align: right;\n",
       "    }\n",
       "</style>\n",
       "<table border=\"1\" class=\"dataframe\">\n",
       "  <thead>\n",
       "    <tr style=\"text-align: right;\">\n",
       "      <th></th>\n",
<<<<<<< HEAD
       "      <th>overall</th>\n",
       "      <th>verified</th>\n",
       "      <th>reviewTime</th>\n",
       "      <th>reviewerID</th>\n",
       "      <th>asin</th>\n",
       "      <th>reviewerName</th>\n",
       "      <th>reviewText</th>\n",
       "      <th>summary</th>\n",
       "      <th>unixReviewTime</th>\n",
       "      <th>vote</th>\n",
       "      <th>image</th>\n",
       "      <th>style</th>\n",
=======
       "      <th>reviewerID</th>\n",
       "      <th>asin</th>\n",
       "      <th>reviewerName</th>\n",
       "      <th>helpful</th>\n",
       "      <th>reviewText</th>\n",
       "      <th>overall</th>\n",
       "      <th>summary</th>\n",
       "      <th>unixReviewTime</th>\n",
       "      <th>reviewTime</th>\n",
>>>>>>> 8dfb53a95736c34f2e159fa364a7d22ab14d74b6
       "    </tr>\n",
       "  </thead>\n",
       "  <tbody>\n",
       "    <tr>\n",
       "      <th>0</th>\n",
<<<<<<< HEAD
       "      <td>5</td>\n",
       "      <td>True</td>\n",
       "      <td>06 4, 2013</td>\n",
       "      <td>ALP49FBWT4I7V</td>\n",
       "      <td>1888861614</td>\n",
       "      <td>Lori</td>\n",
       "      <td>Very pleased with my purchase. Looks exactly l...</td>\n",
       "      <td>Love it</td>\n",
       "      <td>1370304000</td>\n",
       "      <td>NaN</td>\n",
       "      <td>NaN</td>\n",
       "      <td>NaN</td>\n",
       "    </tr>\n",
       "    <tr>\n",
       "      <th>1</th>\n",
       "      <td>4</td>\n",
       "      <td>True</td>\n",
       "      <td>05 23, 2014</td>\n",
       "      <td>A1KPIZOCLB9FZ8</td>\n",
       "      <td>1888861614</td>\n",
       "      <td>BK Shopper</td>\n",
       "      <td>Very nicely crafted but too small. Am going to...</td>\n",
       "      <td>Nice but small</td>\n",
       "      <td>1400803200</td>\n",
       "      <td>NaN</td>\n",
       "      <td>NaN</td>\n",
       "      <td>NaN</td>\n",
       "    </tr>\n",
       "    <tr>\n",
       "      <th>2</th>\n",
       "      <td>4</td>\n",
       "      <td>True</td>\n",
       "      <td>05 9, 2014</td>\n",
       "      <td>A2W0FA06IYAYQE</td>\n",
       "      <td>1888861614</td>\n",
       "      <td>daninethequeen</td>\n",
       "      <td>still very pretty and well made...i am super p...</td>\n",
       "      <td>the \"s\" looks like a 5, kina</td>\n",
       "      <td>1399593600</td>\n",
       "      <td>NaN</td>\n",
       "      <td>NaN</td>\n",
       "      <td>NaN</td>\n",
       "    </tr>\n",
       "    <tr>\n",
       "      <th>3</th>\n",
       "      <td>5</td>\n",
       "      <td>True</td>\n",
       "      <td>04 20, 2014</td>\n",
       "      <td>A2PTZTCH2QUYBC</td>\n",
       "      <td>1888861614</td>\n",
       "      <td>Tammara</td>\n",
       "      <td>I got this for our wedding cake, and it was ev...</td>\n",
       "      <td>Would recommend this to a friend!</td>\n",
       "      <td>1397952000</td>\n",
       "      <td>NaN</td>\n",
       "      <td>NaN</td>\n",
       "      <td>NaN</td>\n",
       "    </tr>\n",
       "    <tr>\n",
       "      <th>4</th>\n",
       "      <td>4</td>\n",
       "      <td>True</td>\n",
       "      <td>04 16, 2014</td>\n",
       "      <td>A2VNHGJ59N4Z90</td>\n",
       "      <td>1888861614</td>\n",
       "      <td>LaQuinta Alexander</td>\n",
       "      <td>It was just what I want to put at the top of m...</td>\n",
       "      <td>Topper</td>\n",
       "      <td>1397606400</td>\n",
       "      <td>NaN</td>\n",
       "      <td>NaN</td>\n",
       "      <td>NaN</td>\n",
=======
       "      <td>A1VEELTKS8NLZB</td>\n",
       "      <td>616719923X</td>\n",
       "      <td>Amazon Customer</td>\n",
       "      <td>[0, 0]</td>\n",
       "      <td>Just another flavor of Kit Kat but the taste i...</td>\n",
       "      <td>4</td>\n",
       "      <td>Good Taste</td>\n",
       "      <td>1370044800</td>\n",
       "      <td>06 1, 2013</td>\n",
       "    </tr>\n",
       "    <tr>\n",
       "      <th>1</th>\n",
       "      <td>A14R9XMZVJ6INB</td>\n",
       "      <td>616719923X</td>\n",
       "      <td>amf0001</td>\n",
       "      <td>[0, 1]</td>\n",
       "      <td>I bought this on impulse and it comes from Jap...</td>\n",
       "      <td>3</td>\n",
       "      <td>3.5 stars,  sadly not as wonderful as I had hoped</td>\n",
       "      <td>1400457600</td>\n",
       "      <td>05 19, 2014</td>\n",
       "    </tr>\n",
       "    <tr>\n",
       "      <th>2</th>\n",
       "      <td>A27IQHDZFQFNGG</td>\n",
       "      <td>616719923X</td>\n",
       "      <td>Caitlin</td>\n",
       "      <td>[3, 4]</td>\n",
       "      <td>Really good. Great gift for any fan of green t...</td>\n",
       "      <td>4</td>\n",
       "      <td>Yum!</td>\n",
       "      <td>1381190400</td>\n",
       "      <td>10 8, 2013</td>\n",
       "    </tr>\n",
       "    <tr>\n",
       "      <th>3</th>\n",
       "      <td>A31QY5TASILE89</td>\n",
       "      <td>616719923X</td>\n",
       "      <td>DebraDownSth</td>\n",
       "      <td>[0, 0]</td>\n",
       "      <td>I had never had it before, was curious to see ...</td>\n",
       "      <td>5</td>\n",
       "      <td>Unexpected flavor meld</td>\n",
       "      <td>1369008000</td>\n",
       "      <td>05 20, 2013</td>\n",
       "    </tr>\n",
       "    <tr>\n",
       "      <th>4</th>\n",
       "      <td>A2LWK003FFMCI5</td>\n",
       "      <td>616719923X</td>\n",
       "      <td>Diana X.</td>\n",
       "      <td>[1, 2]</td>\n",
       "      <td>I've been looking forward to trying these afte...</td>\n",
       "      <td>4</td>\n",
       "      <td>Not a very strong tea flavor, but still yummy ...</td>\n",
       "      <td>1369526400</td>\n",
       "      <td>05 26, 2013</td>\n",
>>>>>>> 8dfb53a95736c34f2e159fa364a7d22ab14d74b6
       "    </tr>\n",
       "  </tbody>\n",
       "</table>\n",
       "</div>"
      ],
      "text/plain": [
<<<<<<< HEAD
       "   overall  verified   reviewTime      reviewerID        asin  \\\n",
       "0        5      True   06 4, 2013   ALP49FBWT4I7V  1888861614   \n",
       "1        4      True  05 23, 2014  A1KPIZOCLB9FZ8  1888861614   \n",
       "2        4      True   05 9, 2014  A2W0FA06IYAYQE  1888861614   \n",
       "3        5      True  04 20, 2014  A2PTZTCH2QUYBC  1888861614   \n",
       "4        4      True  04 16, 2014  A2VNHGJ59N4Z90  1888861614   \n",
       "\n",
       "         reviewerName                                         reviewText  \\\n",
       "0                Lori  Very pleased with my purchase. Looks exactly l...   \n",
       "1          BK Shopper  Very nicely crafted but too small. Am going to...   \n",
       "2      daninethequeen  still very pretty and well made...i am super p...   \n",
       "3             Tammara  I got this for our wedding cake, and it was ev...   \n",
       "4  LaQuinta Alexander  It was just what I want to put at the top of m...   \n",
       "\n",
       "                             summary  unixReviewTime vote image style  \n",
       "0                            Love it      1370304000  NaN   NaN   NaN  \n",
       "1                     Nice but small      1400803200  NaN   NaN   NaN  \n",
       "2       the \"s\" looks like a 5, kina      1399593600  NaN   NaN   NaN  \n",
       "3  Would recommend this to a friend!      1397952000  NaN   NaN   NaN  \n",
       "4                             Topper      1397606400  NaN   NaN   NaN  "
      ]
     },
     "execution_count": 293,
=======
       "       reviewerID        asin     reviewerName helpful  \\\n",
       "0  A1VEELTKS8NLZB  616719923X  Amazon Customer  [0, 0]   \n",
       "1  A14R9XMZVJ6INB  616719923X          amf0001  [0, 1]   \n",
       "2  A27IQHDZFQFNGG  616719923X          Caitlin  [3, 4]   \n",
       "3  A31QY5TASILE89  616719923X     DebraDownSth  [0, 0]   \n",
       "4  A2LWK003FFMCI5  616719923X         Diana X.  [1, 2]   \n",
       "\n",
       "                                          reviewText  overall  \\\n",
       "0  Just another flavor of Kit Kat but the taste i...        4   \n",
       "1  I bought this on impulse and it comes from Jap...        3   \n",
       "2  Really good. Great gift for any fan of green t...        4   \n",
       "3  I had never had it before, was curious to see ...        5   \n",
       "4  I've been looking forward to trying these afte...        4   \n",
       "\n",
       "                                             summary  unixReviewTime  \\\n",
       "0                                         Good Taste      1370044800   \n",
       "1  3.5 stars,  sadly not as wonderful as I had hoped      1400457600   \n",
       "2                                               Yum!      1381190400   \n",
       "3                             Unexpected flavor meld      1369008000   \n",
       "4  Not a very strong tea flavor, but still yummy ...      1369526400   \n",
       "\n",
       "    reviewTime  \n",
       "0   06 1, 2013  \n",
       "1  05 19, 2014  \n",
       "2   10 8, 2013  \n",
       "3  05 20, 2013  \n",
       "4  05 26, 2013  "
      ]
     },
     "execution_count": 245,
>>>>>>> 8dfb53a95736c34f2e159fa364a7d22ab14d74b6
     "metadata": {},
     "output_type": "execute_result"
    }
   ],
   "source": [
    "df.head()"
   ]
  },
  {
   "cell_type": "code",
<<<<<<< HEAD
   "execution_count": 294,
=======
   "execution_count": 246,
>>>>>>> 8dfb53a95736c34f2e159fa364a7d22ab14d74b6
   "id": "ed869920-4de0-4a4f-a288-6dfd66015631",
   "metadata": {},
   "outputs": [
    {
     "data": {
      "text/html": [
       "<div>\n",
       "<style scoped>\n",
       "    .dataframe tbody tr th:only-of-type {\n",
       "        vertical-align: middle;\n",
       "    }\n",
       "\n",
       "    .dataframe tbody tr th {\n",
       "        vertical-align: top;\n",
       "    }\n",
       "\n",
       "    .dataframe thead th {\n",
       "        text-align: right;\n",
       "    }\n",
       "</style>\n",
       "<table border=\"1\" class=\"dataframe\">\n",
       "  <thead>\n",
       "    <tr style=\"text-align: right;\">\n",
       "      <th></th>\n",
<<<<<<< HEAD
       "      <th>overall</th>\n",
       "      <th>verified</th>\n",
       "      <th>reviewTime</th>\n",
       "      <th>reviewerID</th>\n",
       "      <th>asin</th>\n",
       "      <th>reviewerName</th>\n",
       "      <th>reviewText</th>\n",
       "      <th>summary</th>\n",
       "      <th>unixReviewTime</th>\n",
       "      <th>vote</th>\n",
       "      <th>image</th>\n",
       "      <th>style</th>\n",
=======
       "      <th>reviewerID</th>\n",
       "      <th>asin</th>\n",
       "      <th>reviewerName</th>\n",
       "      <th>helpful</th>\n",
       "      <th>reviewText</th>\n",
       "      <th>overall</th>\n",
       "      <th>summary</th>\n",
       "      <th>unixReviewTime</th>\n",
       "      <th>reviewTime</th>\n",
>>>>>>> 8dfb53a95736c34f2e159fa364a7d22ab14d74b6
       "    </tr>\n",
       "  </thead>\n",
       "  <tbody>\n",
       "    <tr>\n",
<<<<<<< HEAD
       "      <th>5074155</th>\n",
       "      <td>5</td>\n",
       "      <td>True</td>\n",
       "      <td>10 4, 2018</td>\n",
       "      <td>AGOPF2VTEOP57</td>\n",
       "      <td>B01HJHSVG6</td>\n",
       "      <td>Bob</td>\n",
       "      <td>Love this product, very fresh, complete full f...</td>\n",
       "      <td>Exceclent product</td>\n",
       "      <td>1538611200</td>\n",
       "      <td>NaN</td>\n",
       "      <td>NaN</td>\n",
       "      <td>{'Size:': ' 2.29 oz'}</td>\n",
       "    </tr>\n",
       "    <tr>\n",
       "      <th>5074156</th>\n",
       "      <td>3</td>\n",
       "      <td>True</td>\n",
       "      <td>10 3, 2018</td>\n",
       "      <td>A5X5TI4JCH9CN</td>\n",
       "      <td>B01HJHSVG6</td>\n",
       "      <td>Jacqueline Schafer</td>\n",
       "      <td>Good taste but small quantity for the expensiv...</td>\n",
       "      <td>Good taste but small quantity for the price us...</td>\n",
       "      <td>1538524800</td>\n",
       "      <td>NaN</td>\n",
       "      <td>NaN</td>\n",
       "      <td>{'Size:': ' 2.29 oz'}</td>\n",
       "    </tr>\n",
       "    <tr>\n",
       "      <th>5074157</th>\n",
       "      <td>4</td>\n",
       "      <td>True</td>\n",
       "      <td>10 2, 2018</td>\n",
       "      <td>A1WMQQLC3TVAFI</td>\n",
       "      <td>B01HJHSVG6</td>\n",
       "      <td>Motionjunkie</td>\n",
       "      <td>Unlike some of the bad reviews regarding aroma...</td>\n",
       "      <td>See Comments below</td>\n",
       "      <td>1538438400</td>\n",
       "      <td>NaN</td>\n",
       "      <td>NaN</td>\n",
       "      <td>{'Size:': ' 2.29 oz'}</td>\n",
       "    </tr>\n",
       "    <tr>\n",
       "      <th>5074158</th>\n",
       "      <td>5</td>\n",
       "      <td>True</td>\n",
       "      <td>09 30, 2018</td>\n",
       "      <td>ALVP6JZRTEDY6</td>\n",
       "      <td>B01HJHSVG6</td>\n",
       "      <td>Marissa</td>\n",
       "      <td>I absolutely love this vanilla bean paste. I h...</td>\n",
       "      <td>Love!!</td>\n",
       "      <td>1538265600</td>\n",
       "      <td>NaN</td>\n",
       "      <td>NaN</td>\n",
       "      <td>{'Size:': ' 2.29 oz'}</td>\n",
       "    </tr>\n",
       "    <tr>\n",
       "      <th>5074159</th>\n",
       "      <td>5</td>\n",
       "      <td>True</td>\n",
       "      <td>09 29, 2018</td>\n",
       "      <td>AZFPVUZOVGBYR</td>\n",
       "      <td>B01HJHSVG6</td>\n",
       "      <td>Amazon Customer</td>\n",
       "      <td>So delicious!</td>\n",
       "      <td>Worth it</td>\n",
       "      <td>1538179200</td>\n",
       "      <td>NaN</td>\n",
       "      <td>NaN</td>\n",
       "      <td>{'Size:': ' 2.29 oz'}</td>\n",
=======
       "      <th>151249</th>\n",
       "      <td>A2L6QS8SVHT9RG</td>\n",
       "      <td>B00KCJRVO2</td>\n",
       "      <td>randomartco \"period film aficionado\"</td>\n",
       "      <td>[0, 0]</td>\n",
       "      <td>Delicious gluten-free oatmeal: we tried both t...</td>\n",
       "      <td>4</td>\n",
       "      <td>Delicious gluten-free oatmeal 'quick' packs!</td>\n",
       "      <td>1405123200</td>\n",
       "      <td>07 12, 2014</td>\n",
       "    </tr>\n",
       "    <tr>\n",
       "      <th>151250</th>\n",
       "      <td>AFJFXN42RZ3G2</td>\n",
       "      <td>B00KCJRVO2</td>\n",
       "      <td>R. DelParto \"Rose2\"</td>\n",
       "      <td>[0, 0]</td>\n",
       "      <td>With the many selections of instant oatmeal ce...</td>\n",
       "      <td>4</td>\n",
       "      <td>Convenient and Instant</td>\n",
       "      <td>1404604800</td>\n",
       "      <td>07 6, 2014</td>\n",
       "    </tr>\n",
       "    <tr>\n",
       "      <th>151251</th>\n",
       "      <td>ASEBX8TBYWQWA</td>\n",
       "      <td>B00KCJRVO2</td>\n",
       "      <td>Steven I. Ramm \"Steve Ramm &amp;#34;Anything Phon...</td>\n",
       "      <td>[1, 1]</td>\n",
       "      <td>While I usually review CDs and DVDs, as well a...</td>\n",
       "      <td>5</td>\n",
       "      <td>Compares favorably in taste and texture with o...</td>\n",
       "      <td>1404172800</td>\n",
       "      <td>07 1, 2014</td>\n",
       "    </tr>\n",
       "    <tr>\n",
       "      <th>151252</th>\n",
       "      <td>ANKQGTXHREOI5</td>\n",
       "      <td>B00KCJRVO2</td>\n",
       "      <td>Titanium Lili</td>\n",
       "      <td>[0, 1]</td>\n",
       "      <td>My son and I enjoyed these oatmeal packets.  H...</td>\n",
       "      <td>4</td>\n",
       "      <td>Pretty good!</td>\n",
       "      <td>1404432000</td>\n",
       "      <td>07 4, 2014</td>\n",
       "    </tr>\n",
       "    <tr>\n",
       "      <th>151253</th>\n",
       "      <td>A2CF66KIQ3RKX3</td>\n",
       "      <td>B00KCJRVO2</td>\n",
       "      <td>Vivian Deliz</td>\n",
       "      <td>[0, 0]</td>\n",
       "      <td>I like to eat oatmeal i the mornings. I usuall...</td>\n",
       "      <td>4</td>\n",
       "      <td>I like to eat oatmeal i the mornings</td>\n",
       "      <td>1405036800</td>\n",
       "      <td>07 11, 2014</td>\n",
>>>>>>> 8dfb53a95736c34f2e159fa364a7d22ab14d74b6
       "    </tr>\n",
       "  </tbody>\n",
       "</table>\n",
       "</div>"
      ],
      "text/plain": [
<<<<<<< HEAD
       "         overall  verified   reviewTime      reviewerID        asin  \\\n",
       "5074155        5      True   10 4, 2018   AGOPF2VTEOP57  B01HJHSVG6   \n",
       "5074156        3      True   10 3, 2018   A5X5TI4JCH9CN  B01HJHSVG6   \n",
       "5074157        4      True   10 2, 2018  A1WMQQLC3TVAFI  B01HJHSVG6   \n",
       "5074158        5      True  09 30, 2018   ALVP6JZRTEDY6  B01HJHSVG6   \n",
       "5074159        5      True  09 29, 2018   AZFPVUZOVGBYR  B01HJHSVG6   \n",
       "\n",
       "               reviewerName  \\\n",
       "5074155                 Bob   \n",
       "5074156  Jacqueline Schafer   \n",
       "5074157        Motionjunkie   \n",
       "5074158             Marissa   \n",
       "5074159     Amazon Customer   \n",
       "\n",
       "                                                reviewText  \\\n",
       "5074155  Love this product, very fresh, complete full f...   \n",
       "5074156  Good taste but small quantity for the expensiv...   \n",
       "5074157  Unlike some of the bad reviews regarding aroma...   \n",
       "5074158  I absolutely love this vanilla bean paste. I h...   \n",
       "5074159                                      So delicious!   \n",
       "\n",
       "                                                   summary  unixReviewTime  \\\n",
       "5074155                                  Exceclent product      1538611200   \n",
       "5074156  Good taste but small quantity for the price us...      1538524800   \n",
       "5074157                                 See Comments below      1538438400   \n",
       "5074158                                             Love!!      1538265600   \n",
       "5074159                                           Worth it      1538179200   \n",
       "\n",
       "        vote image                  style  \n",
       "5074155  NaN   NaN  {'Size:': ' 2.29 oz'}  \n",
       "5074156  NaN   NaN  {'Size:': ' 2.29 oz'}  \n",
       "5074157  NaN   NaN  {'Size:': ' 2.29 oz'}  \n",
       "5074158  NaN   NaN  {'Size:': ' 2.29 oz'}  \n",
       "5074159  NaN   NaN  {'Size:': ' 2.29 oz'}  "
      ]
     },
     "execution_count": 294,
=======
       "            reviewerID        asin  \\\n",
       "151249  A2L6QS8SVHT9RG  B00KCJRVO2   \n",
       "151250   AFJFXN42RZ3G2  B00KCJRVO2   \n",
       "151251   ASEBX8TBYWQWA  B00KCJRVO2   \n",
       "151252   ANKQGTXHREOI5  B00KCJRVO2   \n",
       "151253  A2CF66KIQ3RKX3  B00KCJRVO2   \n",
       "\n",
       "                                            reviewerName helpful  \\\n",
       "151249              randomartco \"period film aficionado\"  [0, 0]   \n",
       "151250                               R. DelParto \"Rose2\"  [0, 0]   \n",
       "151251  Steven I. Ramm \"Steve Ramm &#34;Anything Phon...  [1, 1]   \n",
       "151252                                     Titanium Lili  [0, 1]   \n",
       "151253                                      Vivian Deliz  [0, 0]   \n",
       "\n",
       "                                               reviewText  overall  \\\n",
       "151249  Delicious gluten-free oatmeal: we tried both t...        4   \n",
       "151250  With the many selections of instant oatmeal ce...        4   \n",
       "151251  While I usually review CDs and DVDs, as well a...        5   \n",
       "151252  My son and I enjoyed these oatmeal packets.  H...        4   \n",
       "151253  I like to eat oatmeal i the mornings. I usuall...        4   \n",
       "\n",
       "                                                  summary  unixReviewTime  \\\n",
       "151249       Delicious gluten-free oatmeal 'quick' packs!      1405123200   \n",
       "151250                             Convenient and Instant      1404604800   \n",
       "151251  Compares favorably in taste and texture with o...      1404172800   \n",
       "151252                                       Pretty good!      1404432000   \n",
       "151253               I like to eat oatmeal i the mornings      1405036800   \n",
       "\n",
       "         reviewTime  \n",
       "151249  07 12, 2014  \n",
       "151250   07 6, 2014  \n",
       "151251   07 1, 2014  \n",
       "151252   07 4, 2014  \n",
       "151253  07 11, 2014  "
      ]
     },
     "execution_count": 246,
>>>>>>> 8dfb53a95736c34f2e159fa364a7d22ab14d74b6
     "metadata": {},
     "output_type": "execute_result"
    }
   ],
   "source": [
    "df.tail()"
   ]
  },
  {
   "cell_type": "code",
<<<<<<< HEAD
   "execution_count": 295,
=======
   "execution_count": 6,
>>>>>>> 8dfb53a95736c34f2e159fa364a7d22ab14d74b6
   "id": "455dac2e-970f-465e-9088-17a0b13aa24a",
   "metadata": {},
   "outputs": [
    {
     "data": {
      "text/plain": [
<<<<<<< HEAD
       "\"TEA IS FINE. WASN'T TO SURE ABOUT TEA BEADS OR ROLLED TEA LEAVES AT FIRST BUT TASTES AND BREWS FINE. DEAN\""
      ]
     },
     "execution_count": 295,
=======
       "'The coffee does have a production date and best/use by date. Maybe I am the only one, but my purchase came back as quite close to the use by date, so just be careful. The coffee is good.'"
      ]
     },
     "execution_count": 6,
>>>>>>> 8dfb53a95736c34f2e159fa364a7d22ab14d74b6
     "metadata": {},
     "output_type": "execute_result"
    }
   ],
   "source": [
    "df.iloc[99,:].reviewText"
   ]
  },
  {
   "cell_type": "code",
<<<<<<< HEAD
   "execution_count": 296,
=======
   "execution_count": 7,
>>>>>>> 8dfb53a95736c34f2e159fa364a7d22ab14d74b6
   "id": "7506e825-d86e-418b-a186-a7c781f0367f",
   "metadata": {},
   "outputs": [
    {
     "data": {
      "text/html": [
       "<div>\n",
       "<style scoped>\n",
       "    .dataframe tbody tr th:only-of-type {\n",
       "        vertical-align: middle;\n",
       "    }\n",
       "\n",
       "    .dataframe tbody tr th {\n",
       "        vertical-align: top;\n",
       "    }\n",
       "\n",
       "    .dataframe thead th {\n",
       "        text-align: right;\n",
       "    }\n",
       "</style>\n",
       "<table border=\"1\" class=\"dataframe\">\n",
       "  <thead>\n",
       "    <tr style=\"text-align: right;\">\n",
       "      <th></th>\n",
       "      <th>reviewText</th>\n",
       "      <th>overall</th>\n",
       "    </tr>\n",
       "  </thead>\n",
       "  <tbody>\n",
       "    <tr>\n",
       "      <th>0</th>\n",
<<<<<<< HEAD
       "      <td>Very pleased with my purchase. Looks exactly l...</td>\n",
       "      <td>5</td>\n",
       "    </tr>\n",
       "    <tr>\n",
       "      <th>1</th>\n",
       "      <td>Very nicely crafted but too small. Am going to...</td>\n",
       "      <td>4</td>\n",
       "    </tr>\n",
       "    <tr>\n",
       "      <th>2</th>\n",
       "      <td>still very pretty and well made...i am super p...</td>\n",
=======
       "      <td>Just another flavor of Kit Kat but the taste i...</td>\n",
       "      <td>4</td>\n",
       "    </tr>\n",
       "    <tr>\n",
       "      <th>1</th>\n",
       "      <td>I bought this on impulse and it comes from Jap...</td>\n",
       "      <td>3</td>\n",
       "    </tr>\n",
       "    <tr>\n",
       "      <th>2</th>\n",
       "      <td>Really good. Great gift for any fan of green t...</td>\n",
>>>>>>> 8dfb53a95736c34f2e159fa364a7d22ab14d74b6
       "      <td>4</td>\n",
       "    </tr>\n",
       "    <tr>\n",
       "      <th>3</th>\n",
<<<<<<< HEAD
       "      <td>I got this for our wedding cake, and it was ev...</td>\n",
=======
       "      <td>I had never had it before, was curious to see ...</td>\n",
>>>>>>> 8dfb53a95736c34f2e159fa364a7d22ab14d74b6
       "      <td>5</td>\n",
       "    </tr>\n",
       "    <tr>\n",
       "      <th>4</th>\n",
<<<<<<< HEAD
       "      <td>It was just what I want to put at the top of m...</td>\n",
=======
       "      <td>I've been looking forward to trying these afte...</td>\n",
>>>>>>> 8dfb53a95736c34f2e159fa364a7d22ab14d74b6
       "      <td>4</td>\n",
       "    </tr>\n",
       "    <tr>\n",
       "      <th>...</th>\n",
       "      <td>...</td>\n",
       "      <td>...</td>\n",
       "    </tr>\n",
       "    <tr>\n",
<<<<<<< HEAD
       "      <th>5074155</th>\n",
       "      <td>Love this product, very fresh, complete full f...</td>\n",
       "      <td>5</td>\n",
       "    </tr>\n",
       "    <tr>\n",
       "      <th>5074156</th>\n",
       "      <td>Good taste but small quantity for the expensiv...</td>\n",
       "      <td>3</td>\n",
       "    </tr>\n",
       "    <tr>\n",
       "      <th>5074157</th>\n",
       "      <td>Unlike some of the bad reviews regarding aroma...</td>\n",
       "      <td>4</td>\n",
       "    </tr>\n",
       "    <tr>\n",
       "      <th>5074158</th>\n",
       "      <td>I absolutely love this vanilla bean paste. I h...</td>\n",
       "      <td>5</td>\n",
       "    </tr>\n",
       "    <tr>\n",
       "      <th>5074159</th>\n",
       "      <td>So delicious!</td>\n",
       "      <td>5</td>\n",
       "    </tr>\n",
       "  </tbody>\n",
       "</table>\n",
       "<p>5074160 rows × 2 columns</p>\n",
       "</div>"
      ],
      "text/plain": [
       "                                                reviewText  overall\n",
       "0        Very pleased with my purchase. Looks exactly l...        5\n",
       "1        Very nicely crafted but too small. Am going to...        4\n",
       "2        still very pretty and well made...i am super p...        4\n",
       "3        I got this for our wedding cake, and it was ev...        5\n",
       "4        It was just what I want to put at the top of m...        4\n",
       "...                                                    ...      ...\n",
       "5074155  Love this product, very fresh, complete full f...        5\n",
       "5074156  Good taste but small quantity for the expensiv...        3\n",
       "5074157  Unlike some of the bad reviews regarding aroma...        4\n",
       "5074158  I absolutely love this vanilla bean paste. I h...        5\n",
       "5074159                                      So delicious!        5\n",
       "\n",
       "[5074160 rows x 2 columns]"
      ]
     },
     "execution_count": 296,
=======
       "      <th>151249</th>\n",
       "      <td>Delicious gluten-free oatmeal: we tried both t...</td>\n",
       "      <td>4</td>\n",
       "    </tr>\n",
       "    <tr>\n",
       "      <th>151250</th>\n",
       "      <td>With the many selections of instant oatmeal ce...</td>\n",
       "      <td>4</td>\n",
       "    </tr>\n",
       "    <tr>\n",
       "      <th>151251</th>\n",
       "      <td>While I usually review CDs and DVDs, as well a...</td>\n",
       "      <td>5</td>\n",
       "    </tr>\n",
       "    <tr>\n",
       "      <th>151252</th>\n",
       "      <td>My son and I enjoyed these oatmeal packets.  H...</td>\n",
       "      <td>4</td>\n",
       "    </tr>\n",
       "    <tr>\n",
       "      <th>151253</th>\n",
       "      <td>I like to eat oatmeal i the mornings. I usuall...</td>\n",
       "      <td>4</td>\n",
       "    </tr>\n",
       "  </tbody>\n",
       "</table>\n",
       "<p>151254 rows × 2 columns</p>\n",
       "</div>"
      ],
      "text/plain": [
       "                                               reviewText  overall\n",
       "0       Just another flavor of Kit Kat but the taste i...        4\n",
       "1       I bought this on impulse and it comes from Jap...        3\n",
       "2       Really good. Great gift for any fan of green t...        4\n",
       "3       I had never had it before, was curious to see ...        5\n",
       "4       I've been looking forward to trying these afte...        4\n",
       "...                                                   ...      ...\n",
       "151249  Delicious gluten-free oatmeal: we tried both t...        4\n",
       "151250  With the many selections of instant oatmeal ce...        4\n",
       "151251  While I usually review CDs and DVDs, as well a...        5\n",
       "151252  My son and I enjoyed these oatmeal packets.  H...        4\n",
       "151253  I like to eat oatmeal i the mornings. I usuall...        4\n",
       "\n",
       "[151254 rows x 2 columns]"
      ]
     },
     "execution_count": 7,
>>>>>>> 8dfb53a95736c34f2e159fa364a7d22ab14d74b6
     "metadata": {},
     "output_type": "execute_result"
    }
   ],
   "source": [
    "dfdata = df[['reviewText', 'overall']]\n",
    "dfdata"
   ]
  },
  {
   "cell_type": "code",
<<<<<<< HEAD
   "execution_count": 351,
   "id": "fad74f20-f85a-42cc-a5f5-8cd88316b0c1",
   "metadata": {},
   "outputs": [
    {
     "data": {
      "text/plain": [
       "reviewText    2883\n",
       "overall          0\n",
       "dtype: int64"
      ]
     },
     "execution_count": 351,
     "metadata": {},
     "output_type": "execute_result"
    }
   ],
   "source": [
    "dfdata.isnull().sum()"
   ]
  },
  {
   "cell_type": "code",
   "execution_count": 352,
   "id": "e0cbdf32-cda2-4266-b501-bf803f94929b",
   "metadata": {},
   "outputs": [
    {
     "name": "stderr",
     "output_type": "stream",
     "text": [
      "D:\\Dropbox\\Academics\\Master (Msc)\\MSC AI\\Sem 2\\Machine Learning\\Assignment\\Mini Project\\SubjectSentimentModelling\\env\\lib\\site-packages\\pandas\\core\\generic.py:6392: SettingWithCopyWarning: \n",
      "A value is trying to be set on a copy of a slice from a DataFrame\n",
      "\n",
      "See the caveats in the documentation: https://pandas.pydata.org/pandas-docs/stable/user_guide/indexing.html#returning-a-view-versus-a-copy\n",
      "  return self._update_inplace(result)\n"
     ]
    }
   ],
   "source": [
    "dfdata['reviewText'].fillna(\"\", inplace=True)"
   ]
  },
  {
   "cell_type": "code",
   "execution_count": 353,
   "id": "2f9a3013-97af-4b13-92d2-e43bc5054a0b",
   "metadata": {},
   "outputs": [
    {
     "data": {
      "text/html": [
       "<div>\n",
       "<style scoped>\n",
       "    .dataframe tbody tr th:only-of-type {\n",
       "        vertical-align: middle;\n",
       "    }\n",
       "\n",
       "    .dataframe tbody tr th {\n",
       "        vertical-align: top;\n",
       "    }\n",
       "\n",
       "    .dataframe thead th {\n",
       "        text-align: right;\n",
       "    }\n",
       "</style>\n",
       "<table border=\"1\" class=\"dataframe\">\n",
       "  <thead>\n",
       "    <tr style=\"text-align: right;\">\n",
       "      <th></th>\n",
       "      <th>overall</th>\n",
       "    </tr>\n",
       "  </thead>\n",
       "  <tbody>\n",
       "    <tr>\n",
       "      <th>count</th>\n",
       "      <td>5.074160e+06</td>\n",
       "    </tr>\n",
       "    <tr>\n",
       "      <th>mean</th>\n",
       "      <td>4.314708e+00</td>\n",
       "    </tr>\n",
       "    <tr>\n",
       "      <th>std</th>\n",
       "      <td>1.249303e+00</td>\n",
       "    </tr>\n",
       "    <tr>\n",
       "      <th>min</th>\n",
       "      <td>1.000000e+00</td>\n",
       "    </tr>\n",
       "    <tr>\n",
       "      <th>25%</th>\n",
       "      <td>4.000000e+00</td>\n",
       "    </tr>\n",
       "    <tr>\n",
       "      <th>50%</th>\n",
       "      <td>5.000000e+00</td>\n",
       "    </tr>\n",
       "    <tr>\n",
       "      <th>75%</th>\n",
       "      <td>5.000000e+00</td>\n",
       "    </tr>\n",
       "    <tr>\n",
       "      <th>max</th>\n",
       "      <td>5.000000e+00</td>\n",
       "    </tr>\n",
       "  </tbody>\n",
       "</table>\n",
       "</div>"
      ],
      "text/plain": [
       "            overall\n",
       "count  5.074160e+06\n",
       "mean   4.314708e+00\n",
       "std    1.249303e+00\n",
       "min    1.000000e+00\n",
       "25%    4.000000e+00\n",
       "50%    5.000000e+00\n",
       "75%    5.000000e+00\n",
       "max    5.000000e+00"
      ]
     },
     "execution_count": 353,
     "metadata": {},
     "output_type": "execute_result"
    }
   ],
   "source": [
    "dfdata.describe()"
   ]
  },
  {
   "cell_type": "code",
   "execution_count": 354,
=======
   "execution_count": 8,
>>>>>>> 8dfb53a95736c34f2e159fa364a7d22ab14d74b6
   "id": "e7b75719-2f10-476d-a40f-6a937a40e872",
   "metadata": {},
   "outputs": [
    {
     "name": "stderr",
     "output_type": "stream",
     "text": [
      "D:\\Dropbox\\Academics\\Master (Msc)\\MSC AI\\Sem 2\\Machine Learning\\Assignment\\Mini Project\\SubjectSentimentModelling\\env\\lib\\site-packages\\seaborn\\_decorators.py:36: FutureWarning: Pass the following variable as a keyword arg: x. From version 0.12, the only valid positional argument will be `data`, and passing other arguments without an explicit keyword will result in an error or misinterpretation.\n",
      "  warnings.warn(\n"
     ]
    },
    {
     "data": {
      "text/plain": [
       "<AxesSubplot:xlabel='overall'>"
      ]
     },
<<<<<<< HEAD
     "execution_count": 354,
=======
     "execution_count": 8,
>>>>>>> 8dfb53a95736c34f2e159fa364a7d22ab14d74b6
     "metadata": {},
     "output_type": "execute_result"
    },
    {
     "data": {
      "image/png": "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\n",
      "text/plain": [
       "<Figure size 432x288 with 1 Axes>"
      ]
     },
     "metadata": {
      "needs_background": "light"
     },
     "output_type": "display_data"
    }
   ],
   "source": [
    "import seaborn as sns\n",
    "sns.boxplot(dfdata['overall'])"
   ]
  },
  {
   "cell_type": "code",
<<<<<<< HEAD
   "execution_count": 355,
=======
   "execution_count": 9,
>>>>>>> 8dfb53a95736c34f2e159fa364a7d22ab14d74b6
   "id": "e11a753d-58f8-42e9-92ab-3d93cc005f1f",
   "metadata": {},
   "outputs": [
    {
<<<<<<< HEAD
     "name": "stderr",
     "output_type": "stream",
     "text": [
      "D:\\Dropbox\\Academics\\Master (Msc)\\MSC AI\\Sem 2\\Machine Learning\\Assignment\\Mini Project\\SubjectSentimentModelling\\env\\lib\\site-packages\\seaborn\\distributions.py:2619: FutureWarning: `distplot` is a deprecated function and will be removed in a future version. Please adapt your code to use either `displot` (a figure-level function with similar flexibility) or `histplot` (an axes-level function for histograms).\n",
      "  warnings.warn(msg, FutureWarning)\n"
     ]
    },
    {
     "data": {
      "text/plain": [
       "<AxesSubplot:xlabel='overall'>"
      ]
     },
     "execution_count": 355,
=======
     "data": {
      "text/plain": [
       "<AxesSubplot:xlabel='overall', ylabel='Count'>"
      ]
     },
     "execution_count": 9,
>>>>>>> 8dfb53a95736c34f2e159fa364a7d22ab14d74b6
     "metadata": {},
     "output_type": "execute_result"
    },
    {
     "data": {
<<<<<<< HEAD
      "image/png": "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\n",
=======
      "image/png": "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\n",
>>>>>>> 8dfb53a95736c34f2e159fa364a7d22ab14d74b6
      "text/plain": [
       "<Figure size 432x288 with 1 Axes>"
      ]
     },
     "metadata": {
      "needs_background": "light"
     },
     "output_type": "display_data"
    }
   ],
   "source": [
    "import seaborn as sns\n",
<<<<<<< HEAD
    "sns.distplot(dfdata['overall'], kde=False)"
=======
    "sns.histplot(dfdata['overall'])"
>>>>>>> 8dfb53a95736c34f2e159fa364a7d22ab14d74b6
   ]
  },
  {
   "cell_type": "code",
<<<<<<< HEAD
   "execution_count": 356,
=======
   "execution_count": 15,
>>>>>>> 8dfb53a95736c34f2e159fa364a7d22ab14d74b6
   "id": "cab47f61-fc15-4327-b518-f05a14c7199b",
   "metadata": {},
   "outputs": [],
   "source": [
    "import matplotlib.pyplot as plt"
   ]
  },
  {
   "cell_type": "code",
<<<<<<< HEAD
   "execution_count": 357,
=======
   "execution_count": 16,
>>>>>>> 8dfb53a95736c34f2e159fa364a7d22ab14d74b6
   "id": "c4ada34e-ba1c-4741-ab71-a47b54690a50",
   "metadata": {},
   "outputs": [],
   "source": [
    "from sklearn.model_selection import train_test_split\n",
    "dfdataTrain, dfdataTest = train_test_split(dfdata, test_size=0.05, stratify=dfdata['overall'])"
   ]
  },
  {
   "cell_type": "code",
<<<<<<< HEAD
   "execution_count": 358,
=======
   "execution_count": 17,
>>>>>>> 8dfb53a95736c34f2e159fa364a7d22ab14d74b6
   "id": "868a6c02-cfcd-474e-bc47-b01c14cb7d07",
   "metadata": {},
   "outputs": [
    {
     "name": "stderr",
     "output_type": "stream",
     "text": [
<<<<<<< HEAD
      "D:\\Dropbox\\Academics\\Master (Msc)\\MSC AI\\Sem 2\\Machine Learning\\Assignment\\Mini Project\\SubjectSentimentModelling\\env\\lib\\site-packages\\seaborn\\distributions.py:2619: FutureWarning: `distplot` is a deprecated function and will be removed in a future version. Please adapt your code to use either `displot` (a figure-level function with similar flexibility) or `histplot` (an axes-level function for histograms).\n",
      "  warnings.warn(msg, FutureWarning)\n",
=======
>>>>>>> 8dfb53a95736c34f2e159fa364a7d22ab14d74b6
      "D:\\Dropbox\\Academics\\Master (Msc)\\MSC AI\\Sem 2\\Machine Learning\\Assignment\\Mini Project\\SubjectSentimentModelling\\env\\lib\\site-packages\\seaborn\\_decorators.py:36: FutureWarning: Pass the following variable as a keyword arg: x. From version 0.12, the only valid positional argument will be `data`, and passing other arguments without an explicit keyword will result in an error or misinterpretation.\n",
      "  warnings.warn(\n",
      "D:\\Dropbox\\Academics\\Master (Msc)\\MSC AI\\Sem 2\\Machine Learning\\Assignment\\Mini Project\\SubjectSentimentModelling\\env\\lib\\site-packages\\seaborn\\_decorators.py:36: FutureWarning: Pass the following variable as a keyword arg: x. From version 0.12, the only valid positional argument will be `data`, and passing other arguments without an explicit keyword will result in an error or misinterpretation.\n",
      "  warnings.warn(\n"
     ]
    },
    {
     "data": {
<<<<<<< HEAD
      "image/png": "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\n",
=======
      "image/png": "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\n",
>>>>>>> 8dfb53a95736c34f2e159fa364a7d22ab14d74b6
      "text/plain": [
       "<Figure size 1080x864 with 4 Axes>"
      ]
     },
     "metadata": {
      "needs_background": "light"
     },
     "output_type": "display_data"
    }
   ],
   "source": [
    "fix, axe = plt.subplots(figsize=(15, 12), nrows=2, ncols=2)\n",
<<<<<<< HEAD
    "sns.distplot(dfdataTrain['overall'], ax=axe[0, 0], kde=False)\n",
    "axe[0, 0].set_title(\"dfdataTrain\")\n",
    "sns.distplot(dfdataTest['overall'], ax=axe[0, 1], kde=False)\n",
=======
    "sns.histplot(dfdataTrain['overall'], ax=axe[0, 0])\n",
    "axe[0, 0].set_title(\"dfdataTrain\")\n",
    "sns.histplot(dfdataTest['overall'], ax=axe[0, 1])\n",
>>>>>>> 8dfb53a95736c34f2e159fa364a7d22ab14d74b6
    "axe[0, 1].set_title(\"dfdataTest\")\n",
    "sns.boxplot(dfdataTrain['overall'], ax=axe[1, 0])\n",
    "axe[1, 0].set_title(\"dfdataTrain\")\n",
    "sns.boxplot(dfdataTest['overall'], ax=axe[1, 1])\n",
    "axe[1, 1].set_title(\"dfdataTest\")\n",
    "plt.show();"
   ]
  },
  {
   "cell_type": "code",
<<<<<<< HEAD
   "execution_count": 359,
=======
   "execution_count": 18,
>>>>>>> 8dfb53a95736c34f2e159fa364a7d22ab14d74b6
   "id": "f6dc2078-2b4a-4049-a3db-29fa4bf44a5b",
   "metadata": {},
   "outputs": [
    {
     "data": {
      "text/plain": [
<<<<<<< HEAD
       "(4820452, 2)"
      ]
     },
     "execution_count": 359,
=======
       "(143691, 2)"
      ]
     },
     "execution_count": 18,
>>>>>>> 8dfb53a95736c34f2e159fa364a7d22ab14d74b6
     "metadata": {},
     "output_type": "execute_result"
    }
   ],
   "source": [
    "dfdataTrain.shape"
   ]
  },
  {
   "cell_type": "code",
<<<<<<< HEAD
   "execution_count": 360,
=======
   "execution_count": 19,
>>>>>>> 8dfb53a95736c34f2e159fa364a7d22ab14d74b6
   "id": "8de3b3e7-1089-41c0-ace6-2e7e27bf154c",
   "metadata": {},
   "outputs": [
    {
     "data": {
      "text/plain": [
<<<<<<< HEAD
       "(253708, 2)"
      ]
     },
     "execution_count": 360,
=======
       "(7563, 2)"
      ]
     },
     "execution_count": 19,
>>>>>>> 8dfb53a95736c34f2e159fa364a7d22ab14d74b6
     "metadata": {},
     "output_type": "execute_result"
    }
   ],
   "source": [
    "dfdataTest.shape"
   ]
  },
  {
   "cell_type": "markdown",
   "id": "92d4ee39-8415-4e56-b872-a4628ac2472f",
   "metadata": {},
   "source": [
    "---"
   ]
  },
  {
   "cell_type": "code",
<<<<<<< HEAD
   "execution_count": 361,
=======
   "execution_count": 20,
>>>>>>> 8dfb53a95736c34f2e159fa364a7d22ab14d74b6
   "id": "8e53437c-150e-4bbd-925a-41f1f4798610",
   "metadata": {},
   "outputs": [
    {
<<<<<<< HEAD
     "data": {
      "text/plain": [
       "['eat', '...']"
      ]
     },
     "execution_count": 361,
     "metadata": {},
     "output_type": "execute_result"
=======
     "ename": "NameError",
     "evalue": "name 'word_tokenize' is not defined",
     "output_type": "error",
     "traceback": [
      "\u001b[1;31m---------------------------------------------------------------------------\u001b[0m",
      "\u001b[1;31mNameError\u001b[0m                                 Traceback (most recent call last)",
      "Input \u001b[1;32mIn [20]\u001b[0m, in \u001b[0;36m<cell line: 1>\u001b[1;34m()\u001b[0m\n\u001b[1;32m----> 1\u001b[0m \u001b[43mword_tokenize\u001b[49m(\u001b[38;5;124m\"\u001b[39m\u001b[38;5;124meat...\u001b[39m\u001b[38;5;124m\"\u001b[39m)\n",
      "\u001b[1;31mNameError\u001b[0m: name 'word_tokenize' is not defined"
     ]
>>>>>>> 8dfb53a95736c34f2e159fa364a7d22ab14d74b6
    }
   ],
   "source": [
    "word_tokenize(\"eat...\")"
   ]
  },
  {
   "cell_type": "code",
<<<<<<< HEAD
   "execution_count": 362,
=======
   "execution_count": 21,
>>>>>>> 8dfb53a95736c34f2e159fa364a7d22ab14d74b6
   "id": "f843c8ce-53ad-4f15-91ee-fb32d7a35e9f",
   "metadata": {},
   "outputs": [],
   "source": [
    "from nltk.tokenize import word_tokenize, sent_tokenize"
   ]
  },
  {
   "cell_type": "code",
<<<<<<< HEAD
   "execution_count": 365,
=======
   "execution_count": 22,
>>>>>>> 8dfb53a95736c34f2e159fa364a7d22ab14d74b6
   "id": "60dcabcf-486a-48b6-83cf-d3d88b9c2f3e",
   "metadata": {},
   "outputs": [],
   "source": [
    "dfdataTrain['countSentences'] = dfdataTrain.reviewText.apply(lambda x: len(sent_tokenize(x)))"
   ]
  },
  {
   "cell_type": "code",
<<<<<<< HEAD
   "execution_count": 371,
=======
   "execution_count": 23,
>>>>>>> 8dfb53a95736c34f2e159fa364a7d22ab14d74b6
   "id": "632eea17-3a41-496e-ac06-1721d2441b75",
   "metadata": {},
   "outputs": [
    {
<<<<<<< HEAD
     "name": "stderr",
     "output_type": "stream",
     "text": [
      "D:\\Dropbox\\Academics\\Master (Msc)\\MSC AI\\Sem 2\\Machine Learning\\Assignment\\Mini Project\\SubjectSentimentModelling\\env\\lib\\site-packages\\seaborn\\distributions.py:2619: FutureWarning: `distplot` is a deprecated function and will be removed in a future version. Please adapt your code to use either `displot` (a figure-level function with similar flexibility) or `histplot` (an axes-level function for histograms).\n",
      "  warnings.warn(msg, FutureWarning)\n"
     ]
    },
    {
     "data": {
      "text/plain": [
       "<AxesSubplot:xlabel='countSentences'>"
      ]
     },
     "execution_count": 371,
=======
     "data": {
      "text/plain": [
       "<AxesSubplot:xlabel='countSentences', ylabel='Count'>"
      ]
     },
     "execution_count": 23,
>>>>>>> 8dfb53a95736c34f2e159fa364a7d22ab14d74b6
     "metadata": {},
     "output_type": "execute_result"
    },
    {
     "data": {
<<<<<<< HEAD
      "image/png": "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\n",
=======
      "image/png": "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\n",
>>>>>>> 8dfb53a95736c34f2e159fa364a7d22ab14d74b6
      "text/plain": [
       "<Figure size 432x288 with 1 Axes>"
      ]
     },
     "metadata": {
      "needs_background": "light"
     },
     "output_type": "display_data"
    }
   ],
   "source": [
<<<<<<< HEAD
    "sns.distplot(dfdataTrain['countSentences'], kde=False)"
=======
    "sns.histplot(dfdataTrain['countSentences'])"
>>>>>>> 8dfb53a95736c34f2e159fa364a7d22ab14d74b6
   ]
  },
  {
   "cell_type": "code",
<<<<<<< HEAD
   "execution_count": 372,
=======
   "execution_count": 24,
>>>>>>> 8dfb53a95736c34f2e159fa364a7d22ab14d74b6
   "id": "50fbfa9e-0ad6-4262-a06d-93b4a4f3e252",
   "metadata": {},
   "outputs": [
    {
     "data": {
      "text/plain": [
<<<<<<< HEAD
       "array(['I\\'m not a member of the food police. However; I get really mad when a company short changes their customers hoping they will not notice. ESPECIALLY a supposed higher end \"GOURMET\" producer like Ghirardelli!\\n\\nThe quick and dirty for those who don\\'t want to read my detailed review.\\n\\n**Is it better than \"Swiss Miss,\" YES.\\n\\n**Did it used to be better before they over-sweetened, cut the # of servings from 20 to 12 and generally ruined a decent product? YES!\\n\\n**Is it over-priced and resting on the Ghirardelli name? OH YES.\\n\\n**Is it a way to impress people who don\\'t know any better albiet for a price? Probably.\\n\\n**Do I still recommend Ghirardelli Hot Chocolates. NOPE Not Any More. (want to know why? read on)\\n\\nFor years I have enjoyed the Ghirardelli line of hot chocolates. That is about to change!\\n\\nNOTE: Until this year they have born the subtitle \"Old Fashioned.\" That designation has been dropped for reasons which will soon become apparent. They have also quite conspicuously dropped the Product Satisfaction Guarantee along with the Ghirardelli address for applying for reimbursement if you the consumer were dissatisfied. Does this bode well for us? You be the judge and by all means let Ghirardelli know. I cannot include the address due to Amazon review policies. You may however contact them by email at their website.\\n\\nSomething I strongly encourage. As a hot chocolate lover I want the original recipie back. I hope after reading my review you will too.\\n\\nWhat is Ghirardelli doing? Quite simply boosting the sugar levels to astronomical levels and engaging in what I call \"shorting.\"\\n\\nBefore a serving of any Ghirardelli hot chocolate mix consisted of (3) Tbsp., (22g) yielding twenty, (20) servings per 16oz. can.\\n\\nNOW one serving is (4) Tbsp., (39 grams) yielding only TWELVE (12) servings for the same 16oz. can. This gives us 40 percent LESS servings per can. And at an average of $5.50 per can less s&h an increase from 27.5 cents/serving to 45.8 cents/serving. -- Some may say this is gourmet hot chocolate why quarrel over a few cents. Fair question, but lets be sure were talking about chocolate and not cheap fillers.\\n\\nI have a few cans still left from the \"Old Fashioned\" style which is what Ghirardelli has marketed for years. It IS different and I can taste the difference. However, I will post both Nutrition labels side by side for you to compare and add my analysis at the end. Hopefully the facts will be as clear to you as they are me.\\n\\nNOTE: the nutrition label is a requirement of the USDA. Further they are reprinted everywhere so I am assuming that this is PUBLIC DOMAIN information.  (That doesn\\'t mean that Ghirardelli will like me telling you about it.)\\n\\nI will be comparing Ghirardelli OLD FASHIONED HOT CHOCOLATE \"DOUBLE CHOCOLATE\" to the new replacement Ghirardelli PREMIUM HOT COCOA \"DOUBLE CHOCOLATE.\"  Note it is now called Hot Cocoa & not Hot Chocolate.\\n\\nI have Chocolate Mocha and Chocolate Hazelnut to compare as well and that the differences are negligible. It is usually only 0.5g of fat but mostly 1 - 2g of sugar is the usual difference. And of course both use natural & artificial flavors.\\n\\nTHE COMPARISON\\n\\nOLD FASHIONED HOT CHOCOLATE_________PREMIUM HOT COCOA\\n\\nServ Size 3 tbsp (22g) . . . . . . . . . . . . . . . . . Serv Size 4 Tbsp. (39g)\\n\\nServ Per container about 20 . . . . . . . . . . . . Serv Per container about 12\\n\\nPer Serving\\n\\nCalories 80  Cal from Fat 15 . . . . . . . . . . .  Calories 140  Cal from Fat 20\\n\\nTotal Fat  1.5g . . . . . . . . . . . . . . . . . . . . . . . Total Fat  2.5g\\n\\n  Saturated Fat  0.5g . . . . . . . . . . . . . . . . . . Saturated Fat  1g - - -Trans Fat  0g\\n\\nCholesterol  0mg . . . . . . . . . . . . . . . . . . .  Cholesterol  0mg\\n\\nSodium  0mg . . . . . . . . . . . . . . . . . . . . . . .Sodium  55mg\\n\\nTotal Carbohydrate  19g . . . . . . . . . . . . . .Total Carbohydrate  34g\\n\\n  Dietary Fiber  1g . . . . . . . . . . . . . . . . .  . .  Dietary Fiber 2g\\n\\n  Sugars  17g . . . . . . . . . . . . . . . . . . . . . . . .Sugars  29g\\n\\nProtein  1g . . . . . . . . . . . . . . . . . . . . . . . . Protein  2g\\n\\nVitamin A  0% - - C  0% . . . . . . . . . . . . . . Vitamin A  0% - - C  0%\\n\\nCalcium  0% - -  Iron  2% . . . . . . . . . . . . . Calcium  2% - - Iron  6%\\n\\nIngredients: Virtually Identical for old and new. All are in same order except for some grammatical changes with ONE exception. The Unsweetened Chocolate does not list being processed with Alkali on the new formula where it was on the old.\\n\\nNow the uncomfortable facts:  (given Fat = 9 cal/g, Carbohydrate and Protein = 4 Cal/g)\\n\\nServing Size UP: . . . . . 17g  (77.27% increase)  ******\\n\\nServings DOWN: . . . . . . 8  (40% Decrease)  ******\\n\\nCalories UP: . . . . . . . . 60 Cal (75% Increase)\\n\\nCalories from fat UP: . . 5 Cal  (33% Increase - about 1/2 g worth)\\n\\nTotal Fat UP: . . . . . . . . 1g  (66% Increase ~ 9 Calories)\\n\\nSodium UP:  . . . . . . . . . from 0\\n\\nTotal Carbs UP: . . . . .15g  (79% Increase  15 x 4 = 60 Calories) ******\\n\\nSUGAR UP: . . . . . . . . .12g  (71% Increase 12 x 4 = 48 Calories) ******\\n\\nFiber UP:  . . . . . . . . . . .1g  (100% Increase)\\n\\nProtein UP:  . . . . . . . . . 1g  (100% increase  4 Calories)\\n\\nBOTTOM LINE: I am no food scientist and I know sometimes the numbers don\\'t always add up exactly but it is painfully obvious that most of the extra 60 calories went into sugar.\\n\\nHowever, others have complained about the Ghirardelli mixes being too sweet. To my taste the NEW formula is much too sweet!\\n\\nThe Nutrition label bears out my biggest gripes with this REFORMULATED product:\\n\\n  (1) It was sweet before. Now by UPPING the SUGAR so dramatically and adding salt as a sugar booster I no longer like it.\\n\\n  (2) Not enough fat and other ingredients were added to convince me that any REAL gains in CHOCOLATE were made.\\n\\n  ## The TASTE of the new formula bears this out. (I have taken to cutting the serving size and adding Cocoa powder to get more Chocolate and less sugar.\\n\\n  (3) I DESPISE the shorting (Pumping it full of sugar and Cutting the servings by almost HALF.)\\n\\n  (4) And the price stays the same for less. That really frosts my goblet\\n\\nI can no longer recommend this product.\\n\\nGhirardelli You had a decent thing going and you blew it.\\n\\nPERSONALLY, I\\'m forwarding this review to the company and since Hot chocolate is just that. I\\'m going to experiment making either a home-made ganache syrup (melted chocolate & cream) or trying to find a way to finely grate or powder high quality chocolate to make my own brand. That\\'s Really All The Old Style Was. Hot \"Chocolate\" not Cocoa.  I\\'m sure for people with way too much money there are Hot chocolates available through boutiques where price is no object or... it IS the object. I\\'m not that rich. Besides if I come up with a home version that curls your toes then I may go into business myself or just enjoy it with a few friends.'],\n",
       "      dtype=object)"
      ]
     },
     "execution_count": 372,
=======
       "array(['I am a sweet-aholic. That\\'s my main downfall when it comes to eating healthy, that and portion control. I love chocolate and decided to one day google \"healthiest chocolate\" and stumbled across Vitalicious products. People were making them seem like they were the best things on Earth-- \"taste just like regular muffins and brownies, but just healthy PLUS they could be walked off in 13 minutes.\" All of that made me happy, and despite the huge pricetag I decided to purchase these babies anyway.To make my review more useful I\\'ve decided to eat 1-2 daily and post my opinions on each flavor as I eat them (so this will be updated until I review each flavor), and rate them out of 5. (To give you an idea of my \"sweet-tooth\" taste palette- I really really love chocolate, my favorite desserts are probably chocolate cake (devils food) with vanilla frosting, hot apple pie and vanilla ice cream, and brownie and ice cream. I love chocolate chip cookies, I\\'m a fan of most candy bars, I enjoy pizza hut cinnamon sticks and krispy kreme doughnuts (even though I don\\'t get to eat these things anymore- I love them :-) ).CONTENTS of SUPER SAMPLER: 2 MultiBran, 2 BlueBran, 2 Banana Nut, 2 CranBran, 2 AppleBerry, 2 Golden Corn, 4 VitaBrownies, 2 Double Chocolate, 2 Double Chocolate Dream, 2 Chocolate Fig, 2 Fudgy Peanut Butter Chip.1. Vitabrownies: (2/5) Taste more like a cake that was made with apple sauce instead of oil and splenda instead of real sugar and egg whites instead of the full eggs. There\\'s a little sweetness there, but does not compare in anyway to a real brownie. This is the first one I ate from the package... when the FeDex truck came and dropped the package off I literally went straight to the kitchen opened the box took out one brownie and put the rest in the freezer. I ate a piece, then warmed the rest up for about 30 seconds. The brownie just wasn\\'t that moist, there were sections of moistness and it looked moist, but it just didn\\'t hit the spot like I wanted. However, because of all the fiber it did leave me sorta full or satisfied afterwards (I ate it with a bottle of water).2. Banana Nut: (3/5)  Banana nut is my favorite type of muffin and I deem this particuar vitalicious banana nut as a healthier version of a healthy banana nut muffin. Familiar taste and could curb a banana nut bread fanatic\\'s craving.. its okay.3. Deep Chocolate: (5/5) This was pretty good, I\\'m sure its the best one of them all, but it still didn\\'t hit the spot quite like I thought it would given the GREAT reviews everyone has written. The sections in the muffin top with the chocolate chips were the best b/c the chocolate chips are great, but there\\'s only like 4 chips in the whole muffin top. What I\\'m fighuring now, after eating this one is that these are the type of food that you probably grow to love- like if you were determined to lose weight and/or eat right then you would just learn to love this and they would satisfy your cravings for sweets especilly if you aren\\'t a sweetaholic like me. Also the Deep Chocolate tasted more like a brownie than the Vitabrownies which I found surprising.  ****(Changed to 4.5/5 after eating for the second time, changed to 5/5 after eating these alot more)4. Blueberry (BlueBran): (1/5) You know the taste of plain oats- when you just add water. This is how this taste- with a teasppon of sugar in the mix. It\\'s plain, very plain and I honestly feel like I\\'m just wasting calories. As I sit here, eating this, writing to you guys I am now 100% positive that these vitalicious products are meant for people with very mild sweet toothes who don\\'t really like sweets, but want something sweet and healthy every now and again. I would rather use 250 calories and eat a real 3 Musketeers bar than to only use 100 and eat something that doesnt even taste good. This is my 2nd day and fourth muffin and  I honestly want to send back the box. I can appreciate the nutrients in each item though, but hey that\\'s what Bolthouse Farms drinks are for. I know its easier to make an extremely healthy tasty drink than it is to make a healthy tasty baked good, but I really thought that Vitalicious was going to be the Bolthouse Farms of the sweets/chocolate world... I was so wrong.Though I planned to post the review after eating them all, I think I\\'ll post it now (10.15.09) because I honestly am just going to \"charge it to the game\"- meaning I wasted [...] to taste test, but I\\'ll look at it as a sacrifice for others who are thinking about buying them. I will very randomly eat the rest... and just add the reviews of their taste as I eat (provided that i actually eat another one again). I am honestly just very disaapointed- I thought I wouldnt have to buy anything sweet for atleast 2 weeks, now I\\'m somewhat going back to the drawing board.Conclusion: At 36 bucks(...) 1.50(...) per brownie/muffin top) I think that it\\'s not worth it. For me, with my budget, I\\'m better off buying the 100-calorie packs in the store and just leaving them in the car if I don\\'t think I can control myself to eat just one. Atleast with the 100-calorie packs you get 6 for about (...)  (0.67 per pack) and if you have coupons you can get it or less than that.  But again, I know that its hard to control yourself with the 100-calorie packs because they\\'re just so darn tasty.... Vitalicious products will definitely make it easier to exhibit self control since they\\'re fiber rich and not extremely tasty-- they\\'re more like \"just tasty enough\". **(Please check my FINAL CONCLUSION at the bottom).Other random notes:- I do not suggest buying this particular sampler, if you buy anything buy the chocolate sampler- the chocolate flavors are the best and will grow on you overtime- this has happened to me. It\\'s still no Betty Crocker or Hershey\\'s chocolate, but it grows on you. The key is warming them up at exactly the right number of seconds.- I think these may be better to a person who loves muffins- the texture the taste. I do love a great muffin, but I don\\'t eat them everyday for breakfast like some people. If you\\'re the kind of person that blows about 500-600 calories on a muffin every morning than this is probably a more fitting healthy alternative for you.- I still don\\'t get how all their products are getting such high reviews, I guess the people who don\\'t like them aren\\'t really saying much. Don\\'t get me wrong I do think this is a great product- all those vitamins and just 100 calories- ist great, but it\\'s great for someon who doesn\\'t really eat a whole lot of sweets anyway not for someone who has an extreme sweet tooth like me.- If for some reason these do begin to grow on me after a few more days/weeks, I promise to come back and tell you guys... b/c this just may be one of the products that has to grow on you.- I gave the product 2 stars, but I really wanted to just give it 1. But I figured the Vitalicious lovers would be too mad at me if I gave their beloved product one. So I settled with two because of that and because they are filled with vitiamins and what not.**UPDATE, UPDATE, UPDATE, UPDATE, UPDATE (updates below)****:5.  Fudgy Peanut Buter Chip: (2/5) This was okay. The peanut butter taste was watered down... chocolate was bland. There is nothing  and I mean nothing \"fudgy\" about this.6. Double Chocolate Dream: (4/5). Ummmm, well, as I sit here eating this tasty chocolate treat, I\\'m scratching my head trying to figure out- is this bland vitalicious chocolate growing on me-- or does this one really taste good? I took this out the freezer, warmed it up for 30 seconds, opened the microwave and it smelled like chocolate milk... this was interesting. Grabbed my smoothie, sat down and begin to eat.... and you guys, this is the best one so far. This actually taste like a box chocolate cake that you just added a little too much water into. Whatever they added in this one they need to do to the rest. Double Chocolate Dream will actually curb a chocolate craving.- I ate another Vitabrownie and guys after the 3rd one they\\'re beginning to grow on me. And you know what eating like 2-3 of these a day actually makes you eat less- its weird. You\\'re just less hungry I\\'ve been calculating my calories and though I was thinking I was eating 1600 or so calories a day. I\\'ve actually been eating more like 800-1200 (max) and I think its the vitabrownies and muffins that are helping... and all the protein I eat--- like tuna and salmon. That combined with my smoothies and bolthouse farm drinks and water.7. Appleberry: (2/5). I\\'ll say it again all of Vitalicious\\'s bran products taste like watered down oats with a drop of sugar. If you\\'re big on plain granola and plain oats and similar foods then you\\'ll like them otherwise it very barely satisfies a sweet tooth. The apple smell is nice, I just wish it was more present... like I wish it had a apple-cinnamon type taste.8. CranBran: (1/5). (read above review). Very plain taste. Can I give a 0/5? Is that fair... Idk, these Brans probably deserve 0 out of 5.9. Chocolate Fig: (2/5). I\\'m not big on figs, and actually I feel like chewy snacks in breaded/crunchy sweets are unnecessary- like raisins. So since I had to remove the figs, this wasn\\'t my favorite. The chocolate was okay... sort of bland because there\\'s no chocolate chips to make it moist. (meant for those who can enjoy both chocolate and fig newtons)- I ate another Deep Chocolate... and mm mmm good! The Vitalicious chocolate taste is growing on me. I think these may taste better after frozen for 2 or more days then warmed up at 30 seconds. Deep Chocolate just may be better than Double Chocolate Dream... it may deserve a 4/5, hmmm.- I have suggestions for Vitalicious... put more chocolate chips in the VitaBrownie, also create an Apple-Cinnamon flavor and a Carrot Cake type flavor.- You guys I\\'m so scared to taste the Golden Corn and Multi-Gran because I\\'m sure I won\\'t like it. I have 2 of each of those left, a CranBran BlueberryBran, AppleBerry, and Chocolate Fig. Thats about 8 x 1.50 going to waste. 12 bucks((...)- that could have went towards atleast 3 boxes of 100 calorie snacks or 3 bolthouse farm drinks or 2-3 days worth of quiznos). I\\'ll still come back and review the others later, but I now feel I can make a 100% call on Vitalicious muffins and brownies... here\\'s my final conclusion...10. Golden Corn: (4/5). Sooooo, I\\'m sitting here, drinking my hot mint green tea and delicately chowing down on this Golden Corn vitamuffin, and people this is darn good! When I took the first bite I thought to myself, \"Duuuh, its called golden corn so its suppose to taste like cornbread!\". And this healthy piece of corn bread is much better than most-- it taste like a healthy gourmet version of Jiffy cornbread. It is sooo good, I\\'m not sure if everyone will have this same reaction, but if you\\'re a fan of sweet cornbread then you definitely will. This is perfect for those of you who have given up your fried chicken for grilled chicken and your buttery mash potatoes for plain baked potatoes-- its the perfect addition to your meal. And honestly its good just eaten as a midday or midnight snack. 100 calories, 0 fat, lots of fiber and vitamins- it can\\'t get any better. This out of all the other flavors taste the most like what its supposed to be, meaning: you could blindfold someone and put 5-6 different cornbreads in front of them and they would not guess this to be the healthiest and that\\'s why I\\'m giving it a 4.5/5.  ---Okay so after eating this again, I still love it, but I feel like I overdid the review, I think I first ate it when I was pretty hungry and craving sweetness. On the second go round it was still really good but more like a 4/5.***FINAL CONCLUSION***: Run like heck from all Vitalicious Bran-flavored products, they taste like plain quaker oats with too much water and a teaspoon of sugar with bits of warm fruit scattered throughout. They\\'re only for those who delight in bran flavor. Appleberry is decent, pretty good even, if you really like apple and berry flavored breads and muffins. The Banana Nut is the best replica muffin in my opinion, its tasty and can be looked at as a light version of a banana nut muffin. Golden Corn (sigh) is delicious. It tastes just like the sweet cornbread most southerners looks forward to at Sunday Dinner meals (with a slightly lighter taste and all with the added benefit of it being healthy).The chocolate grows on you overtime. The first 2 times you eat one of the chocolate flavors, you\\'ll be sad and wondering why you spent so much money, but then by day 3 and your 3rd or 4th Deep Chocolate or Double Chocolate Dream you\\'ll be happy. And a part of that happiness will be because you are unintentionally and unnoticeably eating less (because of the fiber you\\'ll stay fuller longer).I work from home so its very easy for me to snack snack snack all day, but with a little self-control and the chocolate Vitalicious muffintop it will be easy to control snacking. If I could find it in my heart to spend another (...) on 24 snack cakes I would EASILY order a box of Deep ChocolateVitalicious Deep Chocolate Vita Tops , 2-Ounce Units (Pack of 24). I can safely say that this will satisfy a chocoholics need for chocolate... just use them as your once a day daily treat. If they\\'re frozen warm it up for 30 seconds. If its room-temperature try 15 seconds. You will most likely not like it the first time, but it grows on you.Besides Deep Chocolate the only other Vitalicious muffintops that I would reccomend trying out are: Golden Corn, Double Chocolate Dream, and Triple Chocolate Chunk, and maybe Vitabrownies- and that\\'s only if you\\'re a big fan of nuts, otherwise stick to the muffintops they taste more like brownies.I just want to repeat the fact that I don\\'t know why these are getting such overall high reviews... I\\'m guessing its because some people from their company are the ones writing them (lol) or the people who are writing reviews don\\'t have INTENSE sweet cravings like I do. If you have an intense sweet tooth Please don\\'t waste your money on this sampler-- you will most likely regret it. The best flavors really are Deep Chocolate and Golden Corn (if you like southern cornbread). If you are looking for something to curb your sweet tooth just stick to Deep Chocolate ( I believe it has perfect reviews)Whew! I\\'ve written alot, but I hope this helps you guys to make a better decision. I decided to make my review comprehensive because this is alot of cash to spend on small sweets... Plus, when I was trying to decide whether or not to buy these I assumed the posted reviews were helpful, but they really weren\\'t (except for the tips on immediately freezing them).  I ended up only actually liking 5 flavors (deep chocolate, golden corn, double chocolate dream, banana nut, brownie). That indubitably means that I \"wasted\" 12 muffintops... don\\'t let those muffintops have been painfully eaten and picked over in vain...Good Luck with choosing 100-calories snack foods to assist you with your healthy lifestyle.***Last UPDATE Nov 3, 2009***11. MultiBran: (1/5). I\\'m writing this well after eating the ones above. Its been in the freezer for about 2 weeks now so I figured- what the heck let\\'s get it on MultiBran. And you guys-- this bran taste actually grows on you aferwhile... I\\'ll still give it a 1/5, but I\\'m so used to the plain watery quaker oats taste that it doesn\\'t bother me anymore. I feel sorta bad for coming down so hard on the bran since, after all, it is very good for you. After eating the MultiBran-- which I dubbed from day one the \"king of the muffintop brans\" I realize that this sampler is good for those who are health nuts and are used to these plain flavors. I can now actually see why people give this sampler high ratings, its because they eat stuff like this all day long and so to them it really is good, they\\'re probably people who arent that big on sweets anyway, and who easily have 36 bucks (...) to spend on 24 muffins.  Like I said I work from home so its easy for me to snack all day, but just from me starting the day off with a vitalicious muffin (and fruit) I can eat less... I consumed 1010 calories total yesterday.Now that I know what I like and dislike I wouldn\\'t buy this sampler again, but if you really are curious on your own how all these flavors taste then feel free to indulge. I might even give this 3 stars.... well maybe not because these taste really are bland. But still the Vitalicious muffintops do assist in being able to live a healthy lifestyle and thats what im about. I\\'m not \"dieting\" I\\'m practicing a healthy lifestyle and vitalicious will take you MUCH further then those nabisco, sunshine, and keebler 100 calorie packs. Because the flavor is exactly the same I end up eating the whole box of those tasty shortbread/oreos/chip ahoys/cheezits in one day... sometimes in 2 sittings.... but you wouldnt have that problem with these, its hard to eat more than 2 even though they\\'re pretty small. The key is eating these with something, like a smoothie or some fruit and water.**IMPORTANT TIP**:::: Before buying these I just suggest you ask yourself what your main purpose of purchasing them are. Is it to explore healthy snacks? Is it to find healthy breakfast food? Is it to help with sweet cravings? To help with oversnacking? To find good bran flavored foods? Mine was to find healthy sweets. Something that I liked that was low in calories, had vitamins, and would sufficiently curb my cravings for candy bars (lol). I love chocolate and I have sugar cravings. So in my case I would have been better off just purchasing Deep Chocolate. Everyone will come out with a slightly different conclusion, some may not need to purchase these at all.Also it generally helps to order these with low (very low) expectations. To the point that you\\'re almost scared to eat it, so that when you finally do it\\'s like , \"hmmm? okay, wow, well... this is pretty good\". lol.Good Luck everyone!PS- ** The prices on these vitatops are strange, they fluctuate... is anyone else noticing this? I went ahead and ordered the triple chocolate chunk yesterday and because they were about 26 bucks (...) plus free shipping. Now, not even 12 hours later,  they\\'re 32... what happened? Its as if the price of the chocolate ones are going up while the bran is lowering... thats just wrong. You all may just want to buy from your local store... Vitalicious Vitatops has a Facebook page and they seem to answer their fans pretty quickly. They say if a store near you doesn\\'t carry their muffintops you can put in a request at the store and Vitalicious will be sure to get them to that particular store--- as long as its one that is supposed to carry Vitatops, like Krogers, Gristedes, Food Emporium, Whole Foods, etc. (check their website for the complete listing).'],\n",
       "      dtype=object)"
      ]
     },
     "execution_count": 24,
>>>>>>> 8dfb53a95736c34f2e159fa364a7d22ab14d74b6
     "metadata": {},
     "output_type": "execute_result"
    }
   ],
   "source": [
    "dfdataTrain[dfdataTrain.countSentences == dfdataTrain['countSentences'].max()].reviewText.values"
   ]
  },
  {
   "cell_type": "code",
<<<<<<< HEAD
   "execution_count": 373,
=======
   "execution_count": 25,
>>>>>>> 8dfb53a95736c34f2e159fa364a7d22ab14d74b6
   "id": "634b2671-ee5f-474b-ac90-620862748a21",
   "metadata": {},
   "outputs": [
    {
     "data": {
      "text/plain": [
<<<<<<< HEAD
       "array(['', '', '', ..., '', '', ''], dtype=object)"
      ]
     },
     "execution_count": 373,
=======
       "array(['', '', '', '', '', '', '', '', '', '', '', '', '', '', '', '', '',\n",
       "       '', '', ''], dtype=object)"
      ]
     },
     "execution_count": 25,
>>>>>>> 8dfb53a95736c34f2e159fa364a7d22ab14d74b6
     "metadata": {},
     "output_type": "execute_result"
    }
   ],
   "source": [
    "dfdataTrain[dfdataTrain.countSentences == dfdataTrain['countSentences'].min()].reviewText.values"
   ]
  },
  {
   "cell_type": "code",
<<<<<<< HEAD
   "execution_count": 374,
=======
   "execution_count": 26,
>>>>>>> 8dfb53a95736c34f2e159fa364a7d22ab14d74b6
   "id": "e5117a14-1753-45d5-a928-6d340d4ded31",
   "metadata": {},
   "outputs": [],
   "source": [
    "from collections import defaultdict"
   ]
  },
  {
   "cell_type": "code",
<<<<<<< HEAD
   "execution_count": 375,
=======
   "execution_count": 27,
>>>>>>> 8dfb53a95736c34f2e159fa364a7d22ab14d74b6
   "id": "2d5c24c4-74eb-4a8a-ad1b-c62946b0c56e",
   "metadata": {},
   "outputs": [],
   "source": [
    "dictionary = defaultdict(lambda: 0)\n",
    "for _, row in dfdataTrain.iterrows():\n",
    "    for w in word_tokenize(row['reviewText']):\n",
    "        dictionary[w] += 1"
   ]
  },
  {
   "cell_type": "code",
<<<<<<< HEAD
   "execution_count": 376,
=======
   "execution_count": 28,
>>>>>>> 8dfb53a95736c34f2e159fa364a7d22ab14d74b6
   "id": "7bc1460a-32c4-45bc-a283-73857eec4031",
   "metadata": {},
   "outputs": [
    {
     "data": {
      "text/plain": [
<<<<<<< HEAD
       "[('.', 10435220),\n",
       " ('I', 5943447),\n",
       " ('the', 5279461),\n",
       " (',', 5122309),\n",
       " ('and', 4360788),\n",
       " ('a', 3887955),\n",
       " ('to', 3301531),\n",
       " ('it', 3206913),\n",
       " ('!', 2694767),\n",
       " ('is', 2487495),\n",
       " ('of', 2458779),\n",
       " ('this', 1968801),\n",
       " ('for', 1962287),\n",
       " ('in', 1886088),\n",
       " ('my', 1371125),\n",
       " ('was', 1265151),\n",
       " ('that', 1238468),\n",
       " ('but', 1234021),\n",
       " ('with', 1166889),\n",
       " ('have', 1123293)]"
      ]
     },
     "execution_count": 376,
=======
       "[('.', 693693),\n",
       " (',', 586111),\n",
       " ('the', 481118),\n",
       " ('I', 454619),\n",
       " ('a', 384988),\n",
       " ('and', 368245),\n",
       " ('to', 292050),\n",
       " ('of', 266289),\n",
       " ('it', 254008),\n",
       " ('is', 238609),\n",
       " ('in', 162575),\n",
       " ('for', 150122),\n",
       " ('this', 149617),\n",
       " ('that', 137760),\n",
       " ('you', 112542),\n",
       " ('with', 110516),\n",
       " ('but', 108842),\n",
       " ('are', 100829),\n",
       " ('not', 100118),\n",
       " (\"n't\", 93459)]"
      ]
     },
     "execution_count": 28,
>>>>>>> 8dfb53a95736c34f2e159fa364a7d22ab14d74b6
     "metadata": {},
     "output_type": "execute_result"
    }
   ],
   "source": [
    "sorted(dictionary.items(), key=lambda x: x[1], reverse=True)[:20]"
   ]
  },
  {
   "cell_type": "code",
<<<<<<< HEAD
   "execution_count": 377,
=======
   "execution_count": 29,
>>>>>>> 8dfb53a95736c34f2e159fa364a7d22ab14d74b6
   "id": "4c163344-8845-4219-9be1-fb3c409fe452",
   "metadata": {},
   "outputs": [
    {
     "data": {
      "text/plain": [
       "['i', 'do', \"n't\", 'want', 'you']"
      ]
     },
<<<<<<< HEAD
     "execution_count": 377,
=======
     "execution_count": 29,
>>>>>>> 8dfb53a95736c34f2e159fa364a7d22ab14d74b6
     "metadata": {},
     "output_type": "execute_result"
    }
   ],
   "source": [
    "word_tokenize(\"i don't want you\")"
   ]
  },
  {
   "cell_type": "markdown",
   "id": "bc434af4-c046-40d1-8c13-01ca99a4862f",
   "metadata": {},
   "source": [
    "---"
   ]
  },
  {
   "cell_type": "code",
<<<<<<< HEAD
   "execution_count": 378,
=======
   "execution_count": 30,
>>>>>>> 8dfb53a95736c34f2e159fa364a7d22ab14d74b6
   "id": "5559f350-7b5e-4af8-b368-455592880171",
   "metadata": {},
   "outputs": [],
   "source": [
    "dfdataTrainExp, _ = train_test_split(dfdataTrain, train_size=0.05, stratify=dfdataTrain['overall'])"
   ]
  },
  {
   "cell_type": "code",
<<<<<<< HEAD
   "execution_count": 379,
=======
   "execution_count": 31,
>>>>>>> 8dfb53a95736c34f2e159fa364a7d22ab14d74b6
   "id": "5ff287f7-c86c-4077-9086-5b3a05e67a65",
   "metadata": {},
   "outputs": [
    {
     "data": {
      "text/plain": [
       "<AxesSubplot:xlabel='overall', ylabel='Count'>"
      ]
     },
<<<<<<< HEAD
     "execution_count": 379,
=======
     "execution_count": 31,
>>>>>>> 8dfb53a95736c34f2e159fa364a7d22ab14d74b6
     "metadata": {},
     "output_type": "execute_result"
    },
    {
     "data": {
<<<<<<< HEAD
      "image/png": "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\n",
=======
      "image/png": "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\n",
>>>>>>> 8dfb53a95736c34f2e159fa364a7d22ab14d74b6
      "text/plain": [
       "<Figure size 432x288 with 1 Axes>"
      ]
     },
     "metadata": {
      "needs_background": "light"
     },
     "output_type": "display_data"
    }
   ],
   "source": [
    "sns.histplot(dfdataTrainExp['overall'])"
   ]
  },
  {
   "cell_type": "code",
<<<<<<< HEAD
   "execution_count": 380,
=======
   "execution_count": 32,
>>>>>>> 8dfb53a95736c34f2e159fa364a7d22ab14d74b6
   "id": "136f9764-ca8f-4f0a-8fc6-e1f23ef060c9",
   "metadata": {},
   "outputs": [
    {
     "data": {
      "text/plain": [
<<<<<<< HEAD
       "(241022, 3)"
      ]
     },
     "execution_count": 380,
=======
       "(7184, 3)"
      ]
     },
     "execution_count": 32,
>>>>>>> 8dfb53a95736c34f2e159fa364a7d22ab14d74b6
     "metadata": {},
     "output_type": "execute_result"
    }
   ],
   "source": [
    "dfdataTrainExp.shape"
   ]
  },
  {
   "cell_type": "code",
<<<<<<< HEAD
   "execution_count": 381,
=======
   "execution_count": 33,
>>>>>>> 8dfb53a95736c34f2e159fa364a7d22ab14d74b6
   "id": "f646b7c2-8b62-4601-88b6-6506cdcaba7f",
   "metadata": {},
   "outputs": [
    {
     "data": {
      "text/html": [
       "<div>\n",
       "<style scoped>\n",
       "    .dataframe tbody tr th:only-of-type {\n",
       "        vertical-align: middle;\n",
       "    }\n",
       "\n",
       "    .dataframe tbody tr th {\n",
       "        vertical-align: top;\n",
       "    }\n",
       "\n",
       "    .dataframe thead th {\n",
       "        text-align: right;\n",
       "    }\n",
       "</style>\n",
       "<table border=\"1\" class=\"dataframe\">\n",
       "  <thead>\n",
       "    <tr style=\"text-align: right;\">\n",
       "      <th></th>\n",
       "      <th>overall</th>\n",
       "      <th>countSentences</th>\n",
       "    </tr>\n",
       "  </thead>\n",
       "  <tbody>\n",
       "    <tr>\n",
       "      <th>count</th>\n",
<<<<<<< HEAD
       "      <td>241022.000000</td>\n",
       "      <td>241022.000000</td>\n",
       "    </tr>\n",
       "    <tr>\n",
       "      <th>mean</th>\n",
       "      <td>4.314714</td>\n",
       "      <td>2.916277</td>\n",
       "    </tr>\n",
       "    <tr>\n",
       "      <th>std</th>\n",
       "      <td>1.249302</td>\n",
       "      <td>2.848537</td>\n",
=======
       "      <td>7184.000000</td>\n",
       "      <td>7184.000000</td>\n",
       "    </tr>\n",
       "    <tr>\n",
       "      <th>mean</th>\n",
       "      <td>4.242762</td>\n",
       "      <td>5.519627</td>\n",
       "    </tr>\n",
       "    <tr>\n",
       "      <th>std</th>\n",
       "      <td>1.090415</td>\n",
       "      <td>4.231555</td>\n",
>>>>>>> 8dfb53a95736c34f2e159fa364a7d22ab14d74b6
       "    </tr>\n",
       "    <tr>\n",
       "      <th>min</th>\n",
       "      <td>1.000000</td>\n",
       "      <td>0.000000</td>\n",
       "    </tr>\n",
       "    <tr>\n",
       "      <th>25%</th>\n",
       "      <td>4.000000</td>\n",
<<<<<<< HEAD
       "      <td>1.000000</td>\n",
=======
       "      <td>3.000000</td>\n",
>>>>>>> 8dfb53a95736c34f2e159fa364a7d22ab14d74b6
       "    </tr>\n",
       "    <tr>\n",
       "      <th>50%</th>\n",
       "      <td>5.000000</td>\n",
<<<<<<< HEAD
       "      <td>2.000000</td>\n",
=======
       "      <td>4.000000</td>\n",
>>>>>>> 8dfb53a95736c34f2e159fa364a7d22ab14d74b6
       "    </tr>\n",
       "    <tr>\n",
       "      <th>75%</th>\n",
       "      <td>5.000000</td>\n",
<<<<<<< HEAD
       "      <td>4.000000</td>\n",
=======
       "      <td>7.000000</td>\n",
>>>>>>> 8dfb53a95736c34f2e159fa364a7d22ab14d74b6
       "    </tr>\n",
       "    <tr>\n",
       "      <th>max</th>\n",
       "      <td>5.000000</td>\n",
<<<<<<< HEAD
       "      <td>88.000000</td>\n",
=======
       "      <td>48.000000</td>\n",
>>>>>>> 8dfb53a95736c34f2e159fa364a7d22ab14d74b6
       "    </tr>\n",
       "  </tbody>\n",
       "</table>\n",
       "</div>"
      ],
      "text/plain": [
<<<<<<< HEAD
       "             overall  countSentences\n",
       "count  241022.000000   241022.000000\n",
       "mean        4.314714        2.916277\n",
       "std         1.249302        2.848537\n",
       "min         1.000000        0.000000\n",
       "25%         4.000000        1.000000\n",
       "50%         5.000000        2.000000\n",
       "75%         5.000000        4.000000\n",
       "max         5.000000       88.000000"
      ]
     },
     "execution_count": 381,
=======
       "           overall  countSentences\n",
       "count  7184.000000     7184.000000\n",
       "mean      4.242762        5.519627\n",
       "std       1.090415        4.231555\n",
       "min       1.000000        0.000000\n",
       "25%       4.000000        3.000000\n",
       "50%       5.000000        4.000000\n",
       "75%       5.000000        7.000000\n",
       "max       5.000000       48.000000"
      ]
     },
     "execution_count": 33,
>>>>>>> 8dfb53a95736c34f2e159fa364a7d22ab14d74b6
     "metadata": {},
     "output_type": "execute_result"
    }
   ],
   "source": [
    "dfdataTrainExp.describe()"
   ]
  },
  {
   "cell_type": "markdown",
   "id": "1dba7f68-8da5-45e7-b8ee-c33d33f71ecd",
   "metadata": {},
   "source": [
    "---"
   ]
  },
  {
   "cell_type": "markdown",
   "id": "1de9b580-96fe-463b-85bb-f0047f5e35e1",
   "metadata": {},
   "source": [
    "#### Goal: Check the hypothesis of the model & processing"
   ]
  },
  {
   "cell_type": "markdown",
   "id": "f67e021c-83b1-4614-9fa7-db935249385c",
   "metadata": {},
   "source": [
    "#### Processing Planning\n",
    "<p> Use exploring sets </p>\n",
    "\n",
    "<ol>\n",
    "    <li> No cleaning </li>\n",
    "    <li> Tokenized words </li>\n",
    "    <li> BOW </li>\n",
    "</ol>\n",
    "\n",
    "<ol>\n",
    "    <li> No cleaning </li>\n",
    "    <li> Tokenized words </li>\n",
    "    <li> TFIDF </li>\n",
    "</ol>\n",
    "\n",
    "<ol>\n",
    "    <li> No cleaning </li>\n",
    "    <li> Tokenized words </li>\n",
    "    <li> Embedding </li>\n",
    "</ol>\n",
    "\n",
    "<ol>\n",
    "    <li> cleaning & standardized </li>\n",
    "    <li> lemmatized </li>\n",
    "    <li> subject finding </li>\n",
    "    <li> ehanced-embedding </li>\n",
    "</ol>\n",
    "\n",
    "#### ML Planning\n",
    "<ol>\n",
    "    <li> Naive Bayes </li>\n",
    "    <li> SVM </li>\n",
    "    <li> RNN </li>\n",
    "</ol>"
   ]
  },
  {
   "cell_type": "markdown",
   "id": "890b5fca-a56c-49d9-8c6a-d133a64936ea",
   "metadata": {},
   "source": [
    "#### Goal: Tuning the model"
   ]
  },
  {
   "cell_type": "markdown",
   "id": "9f6fe49b-bef8-4421-af90-ee68f027ea6b",
   "metadata": {},
   "source": [
    "#### Tuning Planning\n",
    "<ol>\n",
    "    <li> Use training & validation sets </li>\n",
    "    <li> For ml models, tuned the hyperparameter by grid search</li>\n",
    "    <li> For dl models, tuned the architecture</li>\n",
    "</ol>"
   ]
  },
  {
   "cell_type": "markdown",
   "id": "69de1e47-890b-41b2-9535-834d1e42bd90",
   "metadata": {},
   "source": [
    "#### Goal: Check the performances of model"
   ]
  },
  {
   "cell_type": "markdown",
   "id": "71907ea1-25a9-4c58-8656-2f7952dd7ca5",
   "metadata": {},
   "source": [
    "#### Performance Planning\n",
    "<ol>\n",
    "    <li> Use test sets</li>\n",
    "    <li> RMSE should be below than 3</li>\n",
    "</ol>"
   ]
  },
  {
   "cell_type": "code",
<<<<<<< HEAD
   "execution_count": 382,
=======
   "execution_count": 36,
>>>>>>> 8dfb53a95736c34f2e159fa364a7d22ab14d74b6
   "id": "1c8fc917-f506-4eab-a70a-92843f6981d7",
   "metadata": {},
   "outputs": [
    {
     "data": {
      "text/html": [
       "<div>\n",
       "<style scoped>\n",
       "    .dataframe tbody tr th:only-of-type {\n",
       "        vertical-align: middle;\n",
       "    }\n",
       "\n",
       "    .dataframe tbody tr th {\n",
       "        vertical-align: top;\n",
       "    }\n",
       "\n",
       "    .dataframe thead th {\n",
       "        text-align: right;\n",
       "    }\n",
       "</style>\n",
       "<table border=\"1\" class=\"dataframe\">\n",
       "  <thead>\n",
       "    <tr style=\"text-align: right;\">\n",
       "      <th></th>\n",
       "      <th>reviewText</th>\n",
       "      <th>overall</th>\n",
       "      <th>countSentences</th>\n",
       "    </tr>\n",
       "  </thead>\n",
       "  <tbody>\n",
       "    <tr>\n",
<<<<<<< HEAD
       "      <th>3431974</th>\n",
       "      <td>Love these!</td>\n",
       "      <td>5</td>\n",
       "      <td>1</td>\n",
       "    </tr>\n",
       "    <tr>\n",
       "      <th>2592386</th>\n",
       "      <td>Bath bombs are fun.  This is hard to find in t...</td>\n",
       "      <td>5</td>\n",
       "      <td>4</td>\n",
       "    </tr>\n",
       "    <tr>\n",
       "      <th>229860</th>\n",
       "      <td>I got these and thought \"wow, that's not a lot...</td>\n",
       "      <td>5</td>\n",
       "      <td>4</td>\n",
       "    </tr>\n",
       "    <tr>\n",
       "      <th>1624644</th>\n",
       "      <td>This was the first time to buy on amazon--bein...</td>\n",
       "      <td>5</td>\n",
       "      <td>1</td>\n",
       "    </tr>\n",
       "    <tr>\n",
       "      <th>2852765</th>\n",
       "      <td>Good but had a lot of added fat</td>\n",
       "      <td>3</td>\n",
       "      <td>1</td>\n",
=======
       "      <th>115681</th>\n",
       "      <td>I do not eat gluten, so it was important to me...</td>\n",
       "      <td>5</td>\n",
       "      <td>18</td>\n",
       "    </tr>\n",
       "    <tr>\n",
       "      <th>64681</th>\n",
       "      <td>This is the best GF cracker I have found.  Eve...</td>\n",
       "      <td>5</td>\n",
       "      <td>3</td>\n",
       "    </tr>\n",
       "    <tr>\n",
       "      <th>100792</th>\n",
       "      <td>I was hoping it would be a little more spicy w...</td>\n",
       "      <td>4</td>\n",
       "      <td>2</td>\n",
       "    </tr>\n",
       "    <tr>\n",
       "      <th>135227</th>\n",
       "      <td>This is an awesome product... certified organi...</td>\n",
       "      <td>5</td>\n",
       "      <td>8</td>\n",
       "    </tr>\n",
       "    <tr>\n",
       "      <th>63710</th>\n",
       "      <td>I get these for my class store. The students l...</td>\n",
       "      <td>5</td>\n",
       "      <td>2</td>\n",
>>>>>>> 8dfb53a95736c34f2e159fa364a7d22ab14d74b6
       "    </tr>\n",
       "  </tbody>\n",
       "</table>\n",
       "</div>"
      ],
      "text/plain": [
<<<<<<< HEAD
       "                                                reviewText  overall  \\\n",
       "3431974                                        Love these!        5   \n",
       "2592386  Bath bombs are fun.  This is hard to find in t...        5   \n",
       "229860   I got these and thought \"wow, that's not a lot...        5   \n",
       "1624644  This was the first time to buy on amazon--bein...        5   \n",
       "2852765                    Good but had a lot of added fat        3   \n",
       "\n",
       "         countSentences  \n",
       "3431974               1  \n",
       "2592386               4  \n",
       "229860                4  \n",
       "1624644               1  \n",
       "2852765               1  "
      ]
     },
     "execution_count": 382,
=======
       "                                               reviewText  overall  \\\n",
       "115681  I do not eat gluten, so it was important to me...        5   \n",
       "64681   This is the best GF cracker I have found.  Eve...        5   \n",
       "100792  I was hoping it would be a little more spicy w...        4   \n",
       "135227  This is an awesome product... certified organi...        5   \n",
       "63710   I get these for my class store. The students l...        5   \n",
       "\n",
       "        countSentences  \n",
       "115681              18  \n",
       "64681                3  \n",
       "100792               2  \n",
       "135227               8  \n",
       "63710                2  "
      ]
     },
     "execution_count": 36,
>>>>>>> 8dfb53a95736c34f2e159fa364a7d22ab14d74b6
     "metadata": {},
     "output_type": "execute_result"
    }
   ],
   "source": [
    "dfdataTrainExp.head()"
   ]
  },
  {
   "cell_type": "code",
<<<<<<< HEAD
   "execution_count": 383,
=======
   "execution_count": 54,
>>>>>>> 8dfb53a95736c34f2e159fa364a7d22ab14d74b6
   "id": "06c7c2b8-7a2e-4e49-81e2-4f0d105f1548",
   "metadata": {},
   "outputs": [],
   "source": [
    "import numpy as np\n",
    "from sklearn.metrics import mean_squared_error\n",
    "from sklearn.pipeline import Pipeline"
   ]
  },
  {
   "cell_type": "code",
<<<<<<< HEAD
   "execution_count": 384,
=======
   "execution_count": 40,
>>>>>>> 8dfb53a95736c34f2e159fa364a7d22ab14d74b6
   "id": "244693c0-5a0d-4cfd-a7d2-b4d0cb865482",
   "metadata": {},
   "outputs": [],
   "source": [
    "from sklearn.model_selection import GridSearchCV"
   ]
  },
  {
   "cell_type": "code",
<<<<<<< HEAD
   "execution_count": 385,
=======
   "execution_count": 90,
>>>>>>> 8dfb53a95736c34f2e159fa364a7d22ab14d74b6
   "id": "bc544c61-7b52-4cfc-aee8-3dbd81ba1555",
   "metadata": {},
   "outputs": [
    {
     "name": "stderr",
     "output_type": "stream",
     "text": [
      "[nltk_data] Downloading package wordnet to\n",
<<<<<<< HEAD
      "[nltk_data]     C:\\Users\\hariz\\AppData\\Roaming\\nltk_data...\n",
      "[nltk_data]   Package wordnet is already up-to-date!\n"
=======
      "[nltk_data]     C:\\Users\\hariz\\AppData\\Roaming\\nltk_data...\n"
>>>>>>> 8dfb53a95736c34f2e159fa364a7d22ab14d74b6
     ]
    }
   ],
   "source": [
    "import nltk\n",
    "from nltk.stem import WordNetLemmatizer \n",
    "\n",
    "nltk.download('wordnet')\n",
    "lemmatizer = WordNetLemmatizer()"
   ]
  },
  {
   "cell_type": "code",
<<<<<<< HEAD
   "execution_count": 386,
=======
   "execution_count": 91,
>>>>>>> 8dfb53a95736c34f2e159fa364a7d22ab14d74b6
   "id": "8e1f1871-99a6-4bd4-8163-dc093b3f4131",
   "metadata": {},
   "outputs": [],
   "source": [
    "from nltk.tokenize import word_tokenize, sent_tokenize"
   ]
  },
  {
   "cell_type": "code",
<<<<<<< HEAD
   "execution_count": 387,
=======
   "execution_count": 92,
>>>>>>> 8dfb53a95736c34f2e159fa364a7d22ab14d74b6
   "id": "62db152f-3cfe-4e17-b65e-80e529a221dc",
   "metadata": {},
   "outputs": [],
   "source": [
    "from sklearn.naive_bayes import MultinomialNB\n",
    "from sklearn.svm import LinearSVR\n",
    "import torch"
   ]
  },
  {
   "cell_type": "code",
<<<<<<< HEAD
   "execution_count": 388,
=======
   "execution_count": 212,
>>>>>>> 8dfb53a95736c34f2e159fa364a7d22ab14d74b6
   "id": "bd917ad6-e41e-4289-849e-d637f0769c90",
   "metadata": {},
   "outputs": [
    {
     "name": "stderr",
     "output_type": "stream",
     "text": [
      "[nltk_data] Downloading package averaged_perceptron_tagger to\n",
      "[nltk_data]     C:\\Users\\hariz\\AppData\\Roaming\\nltk_data...\n",
<<<<<<< HEAD
      "[nltk_data]   Package averaged_perceptron_tagger is already up-to-\n",
      "[nltk_data]       date!\n"
=======
      "[nltk_data]   Unzipping taggers\\averaged_perceptron_tagger.zip.\n"
>>>>>>> 8dfb53a95736c34f2e159fa364a7d22ab14d74b6
     ]
    },
    {
     "data": {
      "text/plain": [
       "True"
      ]
     },
<<<<<<< HEAD
     "execution_count": 388,
=======
     "execution_count": 212,
>>>>>>> 8dfb53a95736c34f2e159fa364a7d22ab14d74b6
     "metadata": {},
     "output_type": "execute_result"
    }
   ],
   "source": [
    "from nltk import pos_tag\n",
    "nltk.download('averaged_perceptron_tagger')"
   ]
  },
  {
   "cell_type": "code",
<<<<<<< HEAD
   "execution_count": 389,
=======
   "execution_count": 222,
>>>>>>> 8dfb53a95736c34f2e159fa364a7d22ab14d74b6
   "id": "2a1fbe09-8d05-4414-9734-7d1b3dd234f5",
   "metadata": {},
   "outputs": [
    {
<<<<<<< HEAD
=======
     "name": "stderr",
     "output_type": "stream",
     "text": [
      "[nltk_data] Downloading package tagsets to\n",
      "[nltk_data]     C:\\Users\\hariz\\AppData\\Roaming\\nltk_data...\n"
     ]
    },
    {
>>>>>>> 8dfb53a95736c34f2e159fa364a7d22ab14d74b6
     "name": "stdout",
     "output_type": "stream",
     "text": [
      "$: dollar\n",
      "    $ -$ --$ A$ C$ HK$ M$ NZ$ S$ U.S.$ US$\n",
      "'': closing quotation mark\n",
      "    ' ''\n",
      "(: opening parenthesis\n",
      "    ( [ {\n",
      "): closing parenthesis\n",
      "    ) ] }\n",
      ",: comma\n",
      "    ,\n",
      "--: dash\n",
      "    --\n",
      ".: sentence terminator\n",
      "    . ! ?\n",
      ":: colon or ellipsis\n",
      "    : ; ...\n",
      "CC: conjunction, coordinating\n",
      "    & 'n and both but either et for less minus neither nor or plus so\n",
      "    therefore times v. versus vs. whether yet\n",
      "CD: numeral, cardinal\n",
      "    mid-1890 nine-thirty forty-two one-tenth ten million 0.5 one forty-\n",
      "    seven 1987 twenty '79 zero two 78-degrees eighty-four IX '60s .025\n",
      "    fifteen 271,124 dozen quintillion DM2,000 ...\n",
      "DT: determiner\n",
      "    all an another any both del each either every half la many much nary\n",
      "    neither no some such that the them these this those\n",
      "EX: existential there\n",
      "    there\n",
      "FW: foreign word\n",
      "    gemeinschaft hund ich jeux habeas Haementeria Herr K'ang-si vous\n",
      "    lutihaw alai je jour objets salutaris fille quibusdam pas trop Monte\n",
      "    terram fiche oui corporis ...\n",
      "IN: preposition or conjunction, subordinating\n",
      "    astride among uppon whether out inside pro despite on by throughout\n",
      "    below within for towards near behind atop around if like until below\n",
      "    next into if beside ...\n",
      "JJ: adjective or numeral, ordinal\n",
      "    third ill-mannered pre-war regrettable oiled calamitous first separable\n",
      "    ectoplasmic battery-powered participatory fourth still-to-be-named\n",
      "    multilingual multi-disciplinary ...\n",
      "JJR: adjective, comparative\n",
      "    bleaker braver breezier briefer brighter brisker broader bumper busier\n",
      "    calmer cheaper choosier cleaner clearer closer colder commoner costlier\n",
      "    cozier creamier crunchier cuter ...\n",
      "JJS: adjective, superlative\n",
      "    calmest cheapest choicest classiest cleanest clearest closest commonest\n",
      "    corniest costliest crassest creepiest crudest cutest darkest deadliest\n",
      "    dearest deepest densest dinkiest ...\n",
      "LS: list item marker\n",
      "    A A. B B. C C. D E F First G H I J K One SP-44001 SP-44002 SP-44005\n",
      "    SP-44007 Second Third Three Two * a b c d first five four one six three\n",
      "    two\n",
      "MD: modal auxiliary\n",
      "    can cannot could couldn't dare may might must need ought shall should\n",
      "    shouldn't will would\n",
      "NN: noun, common, singular or mass\n",
      "    common-carrier cabbage knuckle-duster Casino afghan shed thermostat\n",
      "    investment slide humour falloff slick wind hyena override subhumanity\n",
      "    machinist ...\n",
      "NNP: noun, proper, singular\n",
      "    Motown Venneboerger Czestochwa Ranzer Conchita Trumplane Christos\n",
      "    Oceanside Escobar Kreisler Sawyer Cougar Yvette Ervin ODI Darryl CTCA\n",
      "    Shannon A.K.C. Meltex Liverpool ...\n",
      "NNPS: noun, proper, plural\n",
      "    Americans Americas Amharas Amityvilles Amusements Anarcho-Syndicalists\n",
      "    Andalusians Andes Andruses Angels Animals Anthony Antilles Antiques\n",
      "    Apache Apaches Apocrypha ...\n",
      "NNS: noun, common, plural\n",
      "    undergraduates scotches bric-a-brac products bodyguards facets coasts\n",
      "    divestitures storehouses designs clubs fragrances averages\n",
      "    subjectivists apprehensions muses factory-jobs ...\n",
      "PDT: pre-determiner\n",
      "    all both half many quite such sure this\n",
      "POS: genitive marker\n",
      "    ' 's\n",
      "PRP: pronoun, personal\n",
      "    hers herself him himself hisself it itself me myself one oneself ours\n",
      "    ourselves ownself self she thee theirs them themselves they thou thy us\n",
      "PRP$: pronoun, possessive\n",
      "    her his mine my our ours their thy your\n",
      "RB: adverb\n",
      "    occasionally unabatingly maddeningly adventurously professedly\n",
      "    stirringly prominently technologically magisterially predominately\n",
      "    swiftly fiscally pitilessly ...\n",
      "RBR: adverb, comparative\n",
      "    further gloomier grander graver greater grimmer harder harsher\n",
      "    healthier heavier higher however larger later leaner lengthier less-\n",
      "    perfectly lesser lonelier longer louder lower more ...\n",
      "RBS: adverb, superlative\n",
      "    best biggest bluntest earliest farthest first furthest hardest\n",
      "    heartiest highest largest least less most nearest second tightest worst\n",
      "RP: particle\n",
      "    aboard about across along apart around aside at away back before behind\n",
      "    by crop down ever fast for forth from go high i.e. in into just later\n",
      "    low more off on open out over per pie raising start teeth that through\n",
      "    under unto up up-pp upon whole with you\n",
      "SYM: symbol\n",
      "    % & ' '' ''. ) ). * + ,. < = > @ A[fj] U.S U.S.S.R * ** ***\n",
      "TO: \"to\" as preposition or infinitive marker\n",
      "    to\n",
      "UH: interjection\n",
      "    Goodbye Goody Gosh Wow Jeepers Jee-sus Hubba Hey Kee-reist Oops amen\n",
      "    huh howdy uh dammit whammo shucks heck anyways whodunnit honey golly\n",
      "    man baby diddle hush sonuvabitch ...\n",
      "VB: verb, base form\n",
      "    ask assemble assess assign assume atone attention avoid bake balkanize\n",
      "    bank begin behold believe bend benefit bevel beware bless boil bomb\n",
      "    boost brace break bring broil brush build ...\n",
      "VBD: verb, past tense\n",
      "    dipped pleaded swiped regummed soaked tidied convened halted registered\n",
      "    cushioned exacted snubbed strode aimed adopted belied figgered\n",
      "    speculated wore appreciated contemplated ...\n",
      "VBG: verb, present participle or gerund\n",
      "    telegraphing stirring focusing angering judging stalling lactating\n",
      "    hankerin' alleging veering capping approaching traveling besieging\n",
      "    encrypting interrupting erasing wincing ...\n",
      "VBN: verb, past participle\n",
      "    multihulled dilapidated aerosolized chaired languished panelized used\n",
      "    experimented flourished imitated reunifed factored condensed sheared\n",
      "    unsettled primed dubbed desired ...\n",
      "VBP: verb, present tense, not 3rd person singular\n",
      "    predominate wrap resort sue twist spill cure lengthen brush terminate\n",
      "    appear tend stray glisten obtain comprise detest tease attract\n",
      "    emphasize mold postpone sever return wag ...\n",
      "VBZ: verb, present tense, 3rd person singular\n",
      "    bases reconstructs marks mixes displeases seals carps weaves snatches\n",
      "    slumps stretches authorizes smolders pictures emerges stockpiles\n",
      "    seduces fizzes uses bolsters slaps speaks pleads ...\n",
      "WDT: WH-determiner\n",
      "    that what whatever which whichever\n",
      "WP: WH-pronoun\n",
      "    that what whatever whatsoever which who whom whosoever\n",
      "WP$: WH-pronoun, possessive\n",
      "    whose\n",
      "WRB: Wh-adverb\n",
      "    how however whence whenever where whereby whereever wherein whereof why\n",
      "``: opening quotation mark\n",
      "    ` ``\n"
     ]
    },
    {
     "name": "stderr",
     "output_type": "stream",
     "text": [
<<<<<<< HEAD
      "[nltk_data] Downloading package tagsets to\n",
      "[nltk_data]     C:\\Users\\hariz\\AppData\\Roaming\\nltk_data...\n",
      "[nltk_data]   Package tagsets is already up-to-date!\n"
=======
      "[nltk_data]   Unzipping help\\tagsets.zip.\n"
>>>>>>> 8dfb53a95736c34f2e159fa364a7d22ab14d74b6
     ]
    }
   ],
   "source": [
    "nltk.download('tagsets')\n",
    "nltk.help.upenn_tagset()"
   ]
  },
  {
   "cell_type": "code",
<<<<<<< HEAD
   "execution_count": 396,
   "id": "b62ed8ff-e589-4360-909d-d3e2a50eee3c",
   "metadata": {},
   "outputs": [],
   "source": [
    "from sklearn.feature_extraction.text import TfidfVectorizer, CountVectorizer"
   ]
  },
  {
   "cell_type": "code",
   "execution_count": 395,
   "id": "0ca8914e-6bc3-4400-8887-9ac509aa8bf6",
   "metadata": {},
   "outputs": [],
   "source": [
    "from nltk.corpus import stopwords\n",
    "\n",
    "stopword = set(stopwords.words('english'))"
   ]
  },
  {
   "cell_type": "code",
   "execution_count": 391,
=======
   "execution_count": 234,
>>>>>>> 8dfb53a95736c34f2e159fa364a7d22ab14d74b6
   "id": "f847b5f1-0c5c-4673-9bab-e54263cbd9f1",
   "metadata": {},
   "outputs": [],
   "source": [
    "import re"
   ]
  },
  {
   "cell_type": "code",
<<<<<<< HEAD
   "execution_count": 416,
=======
   "execution_count": null,
   "id": "3e67be7f-6558-4586-90dd-e9df1cc099da",
   "metadata": {},
   "outputs": [],
   "source": [
    "class "
   ]
  },
  {
   "cell_type": "code",
   "execution_count": 283,
>>>>>>> 8dfb53a95736c34f2e159fa364a7d22ab14d74b6
   "id": "b3822a7a-41b6-47e7-a66f-fb0021ec22a3",
   "metadata": {},
   "outputs": [],
   "source": [
    "def accuracyTrainTest(model, trainX: np.array, trainY: np.array, testX: np.array, testY: np.array) -> (float, float):\n",
    "    mod = model.fit(trainX, trainY)\n",
    "    yfit = mod.predict(trainX)\n",
    "    ypred = mod.predict(testX)\n",
    "    \n",
    "    # train result, test result\n",
    "    return mean_squared_error(trainY, yfit), mean_squared_error(testY, ypred)\n",
    "\n",
    "def pipe_cleaningText(text: str) -> str:\n",
    "    text = text.lower()\n",
    "    return text.strip()\n",
    "\n",
    "def pipe_lemmatization(text: str) -> str:\n",
    "    txt = \"\"\n",
    "    for s in sent_tokenize(text):\n",
    "        for w in word_tokenize(s):\n",
    "            txt += lemmatizer.lemmatize(w) + ' '\n",
    "    return txt.strip()\n",
    "\n",
    "def pipe_addPos(text: str) -> str:\n",
    "    txt = \"\"\n",
    "    for s in sent_tokenize(text):\n",
    "        for w in pos_tag(word_tokenize(s)):\n",
    "            txt += '_'.join(w) + ' '\n",
    "    return txt.strip()\n",
    "\n",
    "def pipe_subjectCleaning(text: str) -> str:\n",
    "    txt = \"\"\n",
    "    for s in sent_tokenize(text):\n",
    "        for w in pos_tag(word_tokenize(s)):\n",
    "            if w[1] != 'NNP':\n",
    "                continue\n",
    "            txt += w[0] + ' '\n",
    "    return txt.strip()\n",
    "\n",
<<<<<<< HEAD
    "def pipe_stopword(text: str) -> str:\n",
    "    txt = \"\"\n",
    "    for s in sent_tokenize(text):\n",
    "        for w in word_tokenize(s):\n",
    "            if w in stopword:\n",
    "                continue\n",
    "            txt += w + ' '\n",
    "    return txt\n",
    "\n",
    "tfidfVectorizer = TfidfVectorizer() # can play with the parameter\n",
    "def pipe_tfidf(textList: list) -> csr_matrix:\n",
    "    return vectorizer.fit_transform(textList)\n",
    "\n",
    "countVectorizer = CountVectorizer() # can play with the parameter\n",
    "def pipe_bow(textList: list) -> csr_matrix:\n",
    "    return countVectorizer.fit_transform(textList)"
   ]
  },
  {
   "cell_type": "code",
   "execution_count": 425,
   "id": "8bcf7b3e-d4e2-4ad4-bc26-4664004e513b",
   "metadata": {},
   "outputs": [
    {
     "data": {
      "text/plain": [
       "<20x307 sparse matrix of type '<class 'numpy.int64'>'\n",
       "\twith 556 stored elements in Compressed Sparse Row format>"
      ]
     },
     "execution_count": 425,
     "metadata": {},
     "output_type": "execute_result"
    }
   ],
   "source": [
    "pipe_bow(dfdata['reviewText'].head(20))"
   ]
  },
  {
   "cell_type": "code",
   "execution_count": 408,
   "id": "ab1a8d4a-a68f-4708-9245-c71f358bb4dd",
   "metadata": {},
   "outputs": [],
   "source": [
    "from scipy.sparse import csr_matrix"
   ]
  },
  {
   "cell_type": "code",
   "execution_count": null,
   "id": "3b050df0-4410-4896-9781-8b6b2f4235a1",
   "metadata": {},
   "outputs": [],
   "source": [
    "np"
   ]
  },
  {
   "cell_type": "code",
   "execution_count": 409,
   "id": "4ef55b50-2d69-4ec1-b16a-5f970122b847",
   "metadata": {},
   "outputs": [
    {
     "data": {
      "text/plain": [
       "True"
      ]
     },
     "execution_count": 409,
     "metadata": {},
     "output_type": "execute_result"
    }
   ],
   "source": [
    "type(vectorizer.fit_transform(dfdata['reviewText'].head())) == csr_matrix"
   ]
  },
  {
   "cell_type": "code",
   "execution_count": 427,
   "id": "f8818bed-a9b5-4936-881e-e2525a0be36c",
   "metadata": {},
   "outputs": [
    {
     "data": {
      "text/plain": [
       "<241022x57404 sparse matrix of type '<class 'numpy.float64'>'\n",
       "\twith 5797580 stored elements in Compressed Sparse Row format>"
      ]
     },
     "execution_count": 427,
     "metadata": {},
     "output_type": "execute_result"
    }
   ],
   "source": [
    "pipe_tfidf(dfdataTrainExp.reviewText)"
=======
    "def "
>>>>>>> 8dfb53a95736c34f2e159fa364a7d22ab14d74b6
   ]
  },
  {
   "cell_type": "code",
   "execution_count": 209,
   "id": "27d13a96-c639-41eb-a6bb-9dae89ea1f81",
   "metadata": {},
   "outputs": [
    {
     "data": {
      "text/plain": [
       "['I', 'am', 'a', 'sweet-aholic', '.']"
      ]
     },
     "execution_count": 209,
     "metadata": {},
     "output_type": "execute_result"
    }
   ],
   "source": [
    "word_tokenize(txt)"
   ]
  },
  {
   "cell_type": "code",
   "execution_count": 236,
   "id": "91696f2b-3bae-41fa-a572-c2c8be3dccc0",
   "metadata": {},
   "outputs": [
    {
     "data": {
      "text/plain": [
       "[('the', 'DT'),\n",
       " ('right', 'JJ'),\n",
       " ('man', 'NN'),\n",
       " ('for', 'IN'),\n",
       " ('the', 'DT'),\n",
       " ('job', 'NN')]"
      ]
     },
     "execution_count": 236,
     "metadata": {},
     "output_type": "execute_result"
    }
   ],
   "source": [
    "txt = 'the right man for the job'\n",
    "pos_tag(word_tokenize(txt))"
   ]
  },
  {
   "cell_type": "code",
   "execution_count": null,
   "id": "59ac8397-6e65-4f27-9182-242631edcc30",
   "metadata": {},
   "outputs": [],
   "source": []
  },
  {
   "cell_type": "code",
   "execution_count": 224,
   "id": "ef503089-ba6d-4012-ba79-fec55d4e8b05",
   "metadata": {},
   "outputs": [
    {
     "data": {
      "text/plain": [
       "[('...', ':')]"
      ]
     },
     "execution_count": 224,
     "metadata": {},
     "output_type": "execute_result"
    }
   ],
   "source": [
    "pos_tag(['...'])"
   ]
  },
  {
   "cell_type": "code",
   "execution_count": 198,
   "id": "78e5d62a-27d3-4983-a684-30fa6cbe4a88",
   "metadata": {},
   "outputs": [
    {
     "data": {
      "text/plain": [
       "'asdf'"
      ]
     },
     "execution_count": 198,
     "metadata": {},
     "output_type": "execute_result"
    }
   ],
   "source": [
    "'asdf'.lower()"
   ]
  },
  {
   "cell_type": "code",
   "execution_count": 206,
   "id": "f7c02b84-8e3a-4271-9493-2cdff32ffa73",
   "metadata": {},
   "outputs": [],
   "source": []
  },
  {
   "cell_type": "code",
   "execution_count": 207,
   "id": "7acfad51-4185-477e-a8ca-323a643e8f0d",
   "metadata": {},
   "outputs": [
    {
     "data": {
      "text/plain": [
       "'I am a sweet-aholic.'"
      ]
     },
     "execution_count": 207,
     "metadata": {},
     "output_type": "execute_result"
    }
   ],
   "source": [
    "lemmatizer.lemmatize(txt)"
   ]
  },
  {
   "cell_type": "code",
   "execution_count": 242,
   "id": "99d5a0c4-9171-4e23-aaed-451d1fe62707",
   "metadata": {},
   "outputs": [
    {
     "data": {
      "text/html": [
       "<div>\n",
       "<style scoped>\n",
       "    .dataframe tbody tr th:only-of-type {\n",
       "        vertical-align: middle;\n",
       "    }\n",
       "\n",
       "    .dataframe tbody tr th {\n",
       "        vertical-align: top;\n",
       "    }\n",
       "\n",
       "    .dataframe thead th {\n",
       "        text-align: right;\n",
       "    }\n",
       "</style>\n",
       "<table border=\"1\" class=\"dataframe\">\n",
       "  <thead>\n",
       "    <tr style=\"text-align: right;\">\n",
       "      <th></th>\n",
       "      <th>reviewText</th>\n",
       "      <th>overall</th>\n",
       "      <th>countSentences</th>\n",
       "    </tr>\n",
       "  </thead>\n",
       "  <tbody>\n",
       "    <tr>\n",
       "      <th>117023</th>\n",
       "      <td>this item is something that I would buy again ...</td>\n",
       "      <td>5</td>\n",
       "      <td>3</td>\n",
       "    </tr>\n",
       "    <tr>\n",
       "      <th>109289</th>\n",
       "      <td>Fresh tasting pistachio nuts in a big bag made...</td>\n",
       "      <td>5</td>\n",
       "      <td>3</td>\n",
       "    </tr>\n",
       "    <tr>\n",
       "      <th>48267</th>\n",
       "      <td>I think this tasted slightly less medicinal th...</td>\n",
       "      <td>2</td>\n",
       "      <td>2</td>\n",
       "    </tr>\n",
       "    <tr>\n",
       "      <th>15024</th>\n",
       "      <td>This is one of my my favorite flavors of the S...</td>\n",
       "      <td>5</td>\n",
       "      <td>5</td>\n",
       "    </tr>\n",
       "    <tr>\n",
       "      <th>142748</th>\n",
       "      <td>I do not drink coffee but enjoy tea.  I am not...</td>\n",
       "      <td>3</td>\n",
       "      <td>4</td>\n",
       "    </tr>\n",
       "  </tbody>\n",
       "</table>\n",
       "</div>"
      ],
      "text/plain": [
       "                                               reviewText  overall  \\\n",
       "117023  this item is something that I would buy again ...        5   \n",
       "109289  Fresh tasting pistachio nuts in a big bag made...        5   \n",
       "48267   I think this tasted slightly less medicinal th...        2   \n",
       "15024   This is one of my my favorite flavors of the S...        5   \n",
       "142748  I do not drink coffee but enjoy tea.  I am not...        3   \n",
       "\n",
       "        countSentences  \n",
       "117023               3  \n",
       "109289               3  \n",
       "48267                2  \n",
       "15024                5  \n",
       "142748               4  "
      ]
     },
     "execution_count": 242,
     "metadata": {},
     "output_type": "execute_result"
    }
   ],
   "source": [
    "dfdataTrain.head()"
   ]
  },
  {
   "cell_type": "code",
   "execution_count": 257,
   "id": "12c7f4ac-4a35-4da8-8626-2b2e7a5a00b6",
   "metadata": {},
   "outputs": [],
   "source": [
    "df = pd.read_json('../data/AmazonMeta_GroceryandGourmetFood.json', lines=True)"
   ]
  },
  {
   "cell_type": "code",
   "execution_count": 253,
   "id": "4465f72e-85d9-443e-a12c-8ed6d82e2984",
   "metadata": {},
   "outputs": [
    {
     "data": {
      "text/html": [
       "<div>\n",
       "<style scoped>\n",
       "    .dataframe tbody tr th:only-of-type {\n",
       "        vertical-align: middle;\n",
       "    }\n",
       "\n",
       "    .dataframe tbody tr th {\n",
       "        vertical-align: top;\n",
       "    }\n",
       "\n",
       "    .dataframe thead th {\n",
       "        text-align: right;\n",
       "    }\n",
       "</style>\n",
       "<table border=\"1\" class=\"dataframe\">\n",
       "  <thead>\n",
       "    <tr style=\"text-align: right;\">\n",
       "      <th></th>\n",
       "      <th>reviewerID</th>\n",
       "      <th>asin</th>\n",
       "      <th>reviewerName</th>\n",
       "      <th>helpful</th>\n",
       "      <th>reviewText</th>\n",
       "      <th>overall</th>\n",
       "      <th>summary</th>\n",
       "      <th>unixReviewTime</th>\n",
       "      <th>reviewTime</th>\n",
       "    </tr>\n",
       "  </thead>\n",
       "  <tbody>\n",
       "    <tr>\n",
       "      <th>151231</th>\n",
       "      <td>A3H8PA7AG48K33</td>\n",
       "      <td>B00KCJRVO2</td>\n",
       "      <td>A. Silverstone</td>\n",
       "      <td>[0, 0]</td>\n",
       "      <td>Usually the label &amp;#34;gluten free&amp;#34; is a c...</td>\n",
       "      <td>5</td>\n",
       "      <td>Get Your Morning Going Right</td>\n",
       "      <td>1405123200</td>\n",
       "      <td>07 12, 2014</td>\n",
       "    </tr>\n",
       "    <tr>\n",
       "      <th>151232</th>\n",
       "      <td>A2H2I5FY1PUHP1</td>\n",
       "      <td>B00KCJRVO2</td>\n",
       "      <td>Boilermate</td>\n",
       "      <td>[0, 0]</td>\n",
       "      <td>I love oatmeal, and I'm always up to trying a ...</td>\n",
       "      <td>5</td>\n",
       "      <td>What Instant Oatmeal Is Supposed to Be Like</td>\n",
       "      <td>1405900800</td>\n",
       "      <td>07 21, 2014</td>\n",
       "    </tr>\n",
       "    <tr>\n",
       "      <th>151233</th>\n",
       "      <td>A3JH18T58CY65P</td>\n",
       "      <td>B00KCJRVO2</td>\n",
       "      <td>Carolyn Howard-Johnson \"Multi award-winning w...</td>\n",
       "      <td>[0, 0]</td>\n",
       "      <td>I am constantly searching for gluten-free prod...</td>\n",
       "      <td>4</td>\n",
       "      <td>Two Lists--What I Love and What I Don't Like S...</td>\n",
       "      <td>1404086400</td>\n",
       "      <td>06 30, 2014</td>\n",
       "    </tr>\n",
       "    <tr>\n",
       "      <th>151234</th>\n",
       "      <td>A3KPJ1MOGTZVGC</td>\n",
       "      <td>B00KCJRVO2</td>\n",
       "      <td>Catfish Kozmo</td>\n",
       "      <td>[0, 0]</td>\n",
       "      <td>My daughter and husband are both gluten free a...</td>\n",
       "      <td>5</td>\n",
       "      <td>Vital for those with gluten alergies</td>\n",
       "      <td>1405382400</td>\n",
       "      <td>07 15, 2014</td>\n",
       "    </tr>\n",
       "    <tr>\n",
       "      <th>151235</th>\n",
       "      <td>A3A7Y3TSPPZU9T</td>\n",
       "      <td>B00KCJRVO2</td>\n",
       "      <td>coffeebrain</td>\n",
       "      <td>[0, 0]</td>\n",
       "      <td>Oh my!  Insanely good oatmeal and GLUTEN FREE....</td>\n",
       "      <td>5</td>\n",
       "      <td>Yay!  Gluten Free Oatmeal!</td>\n",
       "      <td>1404086400</td>\n",
       "      <td>06 30, 2014</td>\n",
       "    </tr>\n",
       "    <tr>\n",
       "      <th>151236</th>\n",
       "      <td>A1UV5NB0DXTSWH</td>\n",
       "      <td>B00KCJRVO2</td>\n",
       "      <td>CrimsonGirl \"homeschooling mom\"</td>\n",
       "      <td>[0, 0]</td>\n",
       "      <td>My 3rd child has non-celiac gluten intolerance...</td>\n",
       "      <td>3</td>\n",
       "      <td>Tasty but flavored varieties are high in sugar</td>\n",
       "      <td>1404604800</td>\n",
       "      <td>07 6, 2014</td>\n",
       "    </tr>\n",
       "    <tr>\n",
       "      <th>151237</th>\n",
       "      <td>AQNX0WN00JEVE</td>\n",
       "      <td>B00KCJRVO2</td>\n",
       "      <td>C. Thilmany</td>\n",
       "      <td>[0, 0]</td>\n",
       "      <td>Tastes pretty much on par with other instant o...</td>\n",
       "      <td>4</td>\n",
       "      <td>Decent covenience breakfast</td>\n",
       "      <td>1404777600</td>\n",
       "      <td>07 8, 2014</td>\n",
       "    </tr>\n",
       "    <tr>\n",
       "      <th>151238</th>\n",
       "      <td>A55PK06Q6AKFY</td>\n",
       "      <td>B00KCJRVO2</td>\n",
       "      <td>ephemeral</td>\n",
       "      <td>[0, 0]</td>\n",
       "      <td>I don't usually eat quick-cooking oats, but so...</td>\n",
       "      <td>4</td>\n",
       "      <td>maple syrup flavor too sweet, others great</td>\n",
       "      <td>1405382400</td>\n",
       "      <td>07 15, 2014</td>\n",
       "    </tr>\n",
       "    <tr>\n",
       "      <th>151239</th>\n",
       "      <td>A3MZNRSDQ32UUH</td>\n",
       "      <td>B00KCJRVO2</td>\n",
       "      <td>imsocrazy \"frenzied reader\"</td>\n",
       "      <td>[0, 0]</td>\n",
       "      <td>I don't need to eat gluten free but since I go...</td>\n",
       "      <td>5</td>\n",
       "      <td>Tastes great</td>\n",
       "      <td>1404172800</td>\n",
       "      <td>07 1, 2014</td>\n",
       "    </tr>\n",
       "    <tr>\n",
       "      <th>151240</th>\n",
       "      <td>A1EARN5PUVIF1S</td>\n",
       "      <td>B00KCJRVO2</td>\n",
       "      <td>Jerry P. Danzig</td>\n",
       "      <td>[0, 0]</td>\n",
       "      <td>If you need to avoid gluten in your diet (or s...</td>\n",
       "      <td>4</td>\n",
       "      <td>Cool Gruel</td>\n",
       "      <td>1405123200</td>\n",
       "      <td>07 12, 2014</td>\n",
       "    </tr>\n",
       "    <tr>\n",
       "      <th>151241</th>\n",
       "      <td>A3SLC8F6VIWXIR</td>\n",
       "      <td>B00KCJRVO2</td>\n",
       "      <td>John T. Horner \"jthorner\"</td>\n",
       "      <td>[0, 0]</td>\n",
       "      <td>Surprisingly delicious for instant oatmeal. Wh...</td>\n",
       "      <td>5</td>\n",
       "      <td>Surprisingly delicious for instant oatmeal</td>\n",
       "      <td>1404950400</td>\n",
       "      <td>07 10, 2014</td>\n",
       "    </tr>\n",
       "    <tr>\n",
       "      <th>151242</th>\n",
       "      <td>AI2XINIZFPBI8</td>\n",
       "      <td>B00KCJRVO2</td>\n",
       "      <td>Kitty \"Kitty\"</td>\n",
       "      <td>[0, 0]</td>\n",
       "      <td>This is a wonderful product.  It is comforting...</td>\n",
       "      <td>5</td>\n",
       "      <td>Wonderful!</td>\n",
       "      <td>1404345600</td>\n",
       "      <td>07 3, 2014</td>\n",
       "    </tr>\n",
       "    <tr>\n",
       "      <th>151243</th>\n",
       "      <td>A398R165PXFOSS</td>\n",
       "      <td>B00KCJRVO2</td>\n",
       "      <td>Mental Mommy \"Mental Mommy\"</td>\n",
       "      <td>[0, 0]</td>\n",
       "      <td>Unlike most GF breakfast products, this isn't ...</td>\n",
       "      <td>5</td>\n",
       "      <td>Just like \"normal\" oatmeal!</td>\n",
       "      <td>1405900800</td>\n",
       "      <td>07 21, 2014</td>\n",
       "    </tr>\n",
       "    <tr>\n",
       "      <th>151244</th>\n",
       "      <td>A11T807LX2EF00</td>\n",
       "      <td>B00KCJRVO2</td>\n",
       "      <td>Michael</td>\n",
       "      <td>[1, 1]</td>\n",
       "      <td>A lot of these quick oatmeal products don't ma...</td>\n",
       "      <td>5</td>\n",
       "      <td>Easy to make and the taste is quite good. Exce...</td>\n",
       "      <td>1404604800</td>\n",
       "      <td>07 6, 2014</td>\n",
       "    </tr>\n",
       "    <tr>\n",
       "      <th>151245</th>\n",
       "      <td>A3W4D8XOGLWUN5</td>\n",
       "      <td>B00KCJRVO2</td>\n",
       "      <td>Michael Kerner \"Michael Kerner\"</td>\n",
       "      <td>[0, 0]</td>\n",
       "      <td>When it has came down to General Mills, they h...</td>\n",
       "      <td>3</td>\n",
       "      <td>Oatmeal, But Not More</td>\n",
       "      <td>1404086400</td>\n",
       "      <td>06 30, 2014</td>\n",
       "    </tr>\n",
       "    <tr>\n",
       "      <th>151246</th>\n",
       "      <td>A3H0ZQ74ITU83J</td>\n",
       "      <td>B00KCJRVO2</td>\n",
       "      <td>Mom and Teacher</td>\n",
       "      <td>[0, 0]</td>\n",
       "      <td>My daughter thinks it tastes just like the reg...</td>\n",
       "      <td>5</td>\n",
       "      <td>Thank you Chex!</td>\n",
       "      <td>1405900800</td>\n",
       "      <td>07 21, 2014</td>\n",
       "    </tr>\n",
       "    <tr>\n",
       "      <th>151247</th>\n",
       "      <td>A3RJR9UL7HEROC</td>\n",
       "      <td>B00KCJRVO2</td>\n",
       "      <td>Phelps Gates</td>\n",
       "      <td>[0, 0]</td>\n",
       "      <td>It may seem surprising to see an oatmeal produ...</td>\n",
       "      <td>4</td>\n",
       "      <td>Would have liked more information on gluten pr...</td>\n",
       "      <td>1404259200</td>\n",
       "      <td>07 2, 2014</td>\n",
       "    </tr>\n",
       "    <tr>\n",
       "      <th>151248</th>\n",
       "      <td>A3VYKXHQDICC6</td>\n",
       "      <td>B00KCJRVO2</td>\n",
       "      <td>philo_vance</td>\n",
       "      <td>[0, 0]</td>\n",
       "      <td>I like oatmeal and will often make a pot of Mc...</td>\n",
       "      <td>5</td>\n",
       "      <td>Excellent</td>\n",
       "      <td>1404604800</td>\n",
       "      <td>07 6, 2014</td>\n",
       "    </tr>\n",
       "    <tr>\n",
       "      <th>151249</th>\n",
       "      <td>A2L6QS8SVHT9RG</td>\n",
       "      <td>B00KCJRVO2</td>\n",
       "      <td>randomartco \"period film aficionado\"</td>\n",
       "      <td>[0, 0]</td>\n",
       "      <td>Delicious gluten-free oatmeal: we tried both t...</td>\n",
       "      <td>4</td>\n",
       "      <td>Delicious gluten-free oatmeal 'quick' packs!</td>\n",
       "      <td>1405123200</td>\n",
       "      <td>07 12, 2014</td>\n",
       "    </tr>\n",
       "    <tr>\n",
       "      <th>151250</th>\n",
       "      <td>AFJFXN42RZ3G2</td>\n",
       "      <td>B00KCJRVO2</td>\n",
       "      <td>R. DelParto \"Rose2\"</td>\n",
       "      <td>[0, 0]</td>\n",
       "      <td>With the many selections of instant oatmeal ce...</td>\n",
       "      <td>4</td>\n",
       "      <td>Convenient and Instant</td>\n",
       "      <td>1404604800</td>\n",
       "      <td>07 6, 2014</td>\n",
       "    </tr>\n",
       "    <tr>\n",
       "      <th>151251</th>\n",
       "      <td>ASEBX8TBYWQWA</td>\n",
       "      <td>B00KCJRVO2</td>\n",
       "      <td>Steven I. Ramm \"Steve Ramm &amp;#34;Anything Phon...</td>\n",
       "      <td>[1, 1]</td>\n",
       "      <td>While I usually review CDs and DVDs, as well a...</td>\n",
       "      <td>5</td>\n",
       "      <td>Compares favorably in taste and texture with o...</td>\n",
       "      <td>1404172800</td>\n",
       "      <td>07 1, 2014</td>\n",
       "    </tr>\n",
       "    <tr>\n",
       "      <th>151252</th>\n",
       "      <td>ANKQGTXHREOI5</td>\n",
       "      <td>B00KCJRVO2</td>\n",
       "      <td>Titanium Lili</td>\n",
       "      <td>[0, 1]</td>\n",
       "      <td>My son and I enjoyed these oatmeal packets.  H...</td>\n",
       "      <td>4</td>\n",
       "      <td>Pretty good!</td>\n",
       "      <td>1404432000</td>\n",
       "      <td>07 4, 2014</td>\n",
       "    </tr>\n",
       "    <tr>\n",
       "      <th>151253</th>\n",
       "      <td>A2CF66KIQ3RKX3</td>\n",
       "      <td>B00KCJRVO2</td>\n",
       "      <td>Vivian Deliz</td>\n",
       "      <td>[0, 0]</td>\n",
       "      <td>I like to eat oatmeal i the mornings. I usuall...</td>\n",
       "      <td>4</td>\n",
       "      <td>I like to eat oatmeal i the mornings</td>\n",
       "      <td>1405036800</td>\n",
       "      <td>07 11, 2014</td>\n",
       "    </tr>\n",
       "  </tbody>\n",
       "</table>\n",
       "</div>"
      ],
      "text/plain": [
       "            reviewerID        asin  \\\n",
       "151231  A3H8PA7AG48K33  B00KCJRVO2   \n",
       "151232  A2H2I5FY1PUHP1  B00KCJRVO2   \n",
       "151233  A3JH18T58CY65P  B00KCJRVO2   \n",
       "151234  A3KPJ1MOGTZVGC  B00KCJRVO2   \n",
       "151235  A3A7Y3TSPPZU9T  B00KCJRVO2   \n",
       "151236  A1UV5NB0DXTSWH  B00KCJRVO2   \n",
       "151237   AQNX0WN00JEVE  B00KCJRVO2   \n",
       "151238   A55PK06Q6AKFY  B00KCJRVO2   \n",
       "151239  A3MZNRSDQ32UUH  B00KCJRVO2   \n",
       "151240  A1EARN5PUVIF1S  B00KCJRVO2   \n",
       "151241  A3SLC8F6VIWXIR  B00KCJRVO2   \n",
       "151242   AI2XINIZFPBI8  B00KCJRVO2   \n",
       "151243  A398R165PXFOSS  B00KCJRVO2   \n",
       "151244  A11T807LX2EF00  B00KCJRVO2   \n",
       "151245  A3W4D8XOGLWUN5  B00KCJRVO2   \n",
       "151246  A3H0ZQ74ITU83J  B00KCJRVO2   \n",
       "151247  A3RJR9UL7HEROC  B00KCJRVO2   \n",
       "151248   A3VYKXHQDICC6  B00KCJRVO2   \n",
       "151249  A2L6QS8SVHT9RG  B00KCJRVO2   \n",
       "151250   AFJFXN42RZ3G2  B00KCJRVO2   \n",
       "151251   ASEBX8TBYWQWA  B00KCJRVO2   \n",
       "151252   ANKQGTXHREOI5  B00KCJRVO2   \n",
       "151253  A2CF66KIQ3RKX3  B00KCJRVO2   \n",
       "\n",
       "                                            reviewerName helpful  \\\n",
       "151231                                    A. Silverstone  [0, 0]   \n",
       "151232                                        Boilermate  [0, 0]   \n",
       "151233  Carolyn Howard-Johnson \"Multi award-winning w...  [0, 0]   \n",
       "151234                                     Catfish Kozmo  [0, 0]   \n",
       "151235                                       coffeebrain  [0, 0]   \n",
       "151236                   CrimsonGirl \"homeschooling mom\"  [0, 0]   \n",
       "151237                                       C. Thilmany  [0, 0]   \n",
       "151238                                         ephemeral  [0, 0]   \n",
       "151239                       imsocrazy \"frenzied reader\"  [0, 0]   \n",
       "151240                                   Jerry P. Danzig  [0, 0]   \n",
       "151241                         John T. Horner \"jthorner\"  [0, 0]   \n",
       "151242                                     Kitty \"Kitty\"  [0, 0]   \n",
       "151243                       Mental Mommy \"Mental Mommy\"  [0, 0]   \n",
       "151244                                           Michael  [1, 1]   \n",
       "151245                   Michael Kerner \"Michael Kerner\"  [0, 0]   \n",
       "151246                                   Mom and Teacher  [0, 0]   \n",
       "151247                                      Phelps Gates  [0, 0]   \n",
       "151248                                       philo_vance  [0, 0]   \n",
       "151249              randomartco \"period film aficionado\"  [0, 0]   \n",
       "151250                               R. DelParto \"Rose2\"  [0, 0]   \n",
       "151251  Steven I. Ramm \"Steve Ramm &#34;Anything Phon...  [1, 1]   \n",
       "151252                                     Titanium Lili  [0, 1]   \n",
       "151253                                      Vivian Deliz  [0, 0]   \n",
       "\n",
       "                                               reviewText  overall  \\\n",
       "151231  Usually the label &#34;gluten free&#34; is a c...        5   \n",
       "151232  I love oatmeal, and I'm always up to trying a ...        5   \n",
       "151233  I am constantly searching for gluten-free prod...        4   \n",
       "151234  My daughter and husband are both gluten free a...        5   \n",
       "151235  Oh my!  Insanely good oatmeal and GLUTEN FREE....        5   \n",
       "151236  My 3rd child has non-celiac gluten intolerance...        3   \n",
       "151237  Tastes pretty much on par with other instant o...        4   \n",
       "151238  I don't usually eat quick-cooking oats, but so...        4   \n",
       "151239  I don't need to eat gluten free but since I go...        5   \n",
       "151240  If you need to avoid gluten in your diet (or s...        4   \n",
       "151241  Surprisingly delicious for instant oatmeal. Wh...        5   \n",
       "151242  This is a wonderful product.  It is comforting...        5   \n",
       "151243  Unlike most GF breakfast products, this isn't ...        5   \n",
       "151244  A lot of these quick oatmeal products don't ma...        5   \n",
       "151245  When it has came down to General Mills, they h...        3   \n",
       "151246  My daughter thinks it tastes just like the reg...        5   \n",
       "151247  It may seem surprising to see an oatmeal produ...        4   \n",
       "151248  I like oatmeal and will often make a pot of Mc...        5   \n",
       "151249  Delicious gluten-free oatmeal: we tried both t...        4   \n",
       "151250  With the many selections of instant oatmeal ce...        4   \n",
       "151251  While I usually review CDs and DVDs, as well a...        5   \n",
       "151252  My son and I enjoyed these oatmeal packets.  H...        4   \n",
       "151253  I like to eat oatmeal i the mornings. I usuall...        4   \n",
       "\n",
       "                                                  summary  unixReviewTime  \\\n",
       "151231                       Get Your Morning Going Right      1405123200   \n",
       "151232        What Instant Oatmeal Is Supposed to Be Like      1405900800   \n",
       "151233  Two Lists--What I Love and What I Don't Like S...      1404086400   \n",
       "151234               Vital for those with gluten alergies      1405382400   \n",
       "151235                         Yay!  Gluten Free Oatmeal!      1404086400   \n",
       "151236     Tasty but flavored varieties are high in sugar      1404604800   \n",
       "151237                        Decent covenience breakfast      1404777600   \n",
       "151238         maple syrup flavor too sweet, others great      1405382400   \n",
       "151239                                       Tastes great      1404172800   \n",
       "151240                                         Cool Gruel      1405123200   \n",
       "151241         Surprisingly delicious for instant oatmeal      1404950400   \n",
       "151242                                         Wonderful!      1404345600   \n",
       "151243                        Just like \"normal\" oatmeal!      1405900800   \n",
       "151244  Easy to make and the taste is quite good. Exce...      1404604800   \n",
       "151245                              Oatmeal, But Not More      1404086400   \n",
       "151246                                    Thank you Chex!      1405900800   \n",
       "151247  Would have liked more information on gluten pr...      1404259200   \n",
       "151248                                          Excellent      1404604800   \n",
       "151249       Delicious gluten-free oatmeal 'quick' packs!      1405123200   \n",
       "151250                             Convenient and Instant      1404604800   \n",
       "151251  Compares favorably in taste and texture with o...      1404172800   \n",
       "151252                                       Pretty good!      1404432000   \n",
       "151253               I like to eat oatmeal i the mornings      1405036800   \n",
       "\n",
       "         reviewTime  \n",
       "151231  07 12, 2014  \n",
       "151232  07 21, 2014  \n",
       "151233  06 30, 2014  \n",
       "151234  07 15, 2014  \n",
       "151235  06 30, 2014  \n",
       "151236   07 6, 2014  \n",
       "151237   07 8, 2014  \n",
       "151238  07 15, 2014  \n",
       "151239   07 1, 2014  \n",
       "151240  07 12, 2014  \n",
       "151241  07 10, 2014  \n",
       "151242   07 3, 2014  \n",
       "151243  07 21, 2014  \n",
       "151244   07 6, 2014  \n",
       "151245  06 30, 2014  \n",
       "151246  07 21, 2014  \n",
       "151247   07 2, 2014  \n",
       "151248   07 6, 2014  \n",
       "151249  07 12, 2014  \n",
       "151250   07 6, 2014  \n",
       "151251   07 1, 2014  \n",
       "151252   07 4, 2014  \n",
       "151253  07 11, 2014  "
      ]
     },
     "execution_count": 253,
     "metadata": {},
     "output_type": "execute_result"
    }
   ],
   "source": [
    "df[df.asin == 'B00KCJRVO2']"
   ]
  },
  {
   "cell_type": "code",
   "execution_count": 256,
   "id": "eeb293e8-9612-4a76-9d7a-965f51c638f5",
   "metadata": {},
   "outputs": [
    {
     "data": {
      "text/plain": [
       "array([\"I like to eat oatmeal i the mornings. I usually buy Quaker Oats or Wegman's house brand. I found that the cost was a lot more since I pay about $4 for a box of ten packets. This is almost double for only 6 packets.The taste was good as it compares to the two brands that I normally buy. The claim of heartier is suspect as the amount of oatmeal in the gluten free chex oatmeal is slightly more.I would only recommend this product if you are gluten intolerant otherwise purchase any other that is cheaper.\"],\n",
       "      dtype=object)"
      ]
     },
     "execution_count": 256,
     "metadata": {},
     "output_type": "execute_result"
    }
   ],
   "source": [
    "df[df.asin == 'B00KCJRVO2'].loc[151253:, 'reviewText'].values"
   ]
  },
  {
   "cell_type": "code",
   "execution_count": 259,
   "id": "6e735a73-4919-43fd-89cc-707814d215f0",
   "metadata": {},
   "outputs": [
    {
     "data": {
      "text/plain": [
       "0    Beemster Gouda - Aged 18/24 Months - App. 1.5 Lbs\n",
       "1                            Trim Healthy Mama Xylitol\n",
       "2    Letter C - Swarovski Crystal Monogram Wedding ...\n",
       "3    Letter H - Swarovski Crystal Monogram Wedding ...\n",
       "4    Letter S - Swarovski Crystal Monogram Wedding ...\n",
       "Name: title, dtype: object"
      ]
     },
     "execution_count": 259,
     "metadata": {},
     "output_type": "execute_result"
    }
   ],
   "source": [
    "df['title'].head()"
   ]
  },
  {
   "cell_type": "code",
   "execution_count": 260,
   "id": "badad91a-cc81-40c7-9bf7-af7653f086ff",
   "metadata": {},
   "outputs": [
    {
     "data": {
      "text/html": [
       "<div>\n",
       "<style scoped>\n",
       "    .dataframe tbody tr th:only-of-type {\n",
       "        vertical-align: middle;\n",
       "    }\n",
       "\n",
       "    .dataframe tbody tr th {\n",
       "        vertical-align: top;\n",
       "    }\n",
       "\n",
       "    .dataframe thead th {\n",
       "        text-align: right;\n",
       "    }\n",
       "</style>\n",
       "<table border=\"1\" class=\"dataframe\">\n",
       "  <thead>\n",
       "    <tr style=\"text-align: right;\">\n",
       "      <th></th>\n",
       "      <th>category</th>\n",
       "      <th>tech1</th>\n",
       "      <th>description</th>\n",
       "      <th>fit</th>\n",
       "      <th>title</th>\n",
       "      <th>also_buy</th>\n",
       "      <th>tech2</th>\n",
       "      <th>brand</th>\n",
       "      <th>feature</th>\n",
       "      <th>rank</th>\n",
       "      <th>also_view</th>\n",
       "      <th>main_cat</th>\n",
       "      <th>similar_item</th>\n",
       "      <th>date</th>\n",
       "      <th>price</th>\n",
       "      <th>asin</th>\n",
       "      <th>imageURL</th>\n",
       "      <th>imageURLHighRes</th>\n",
       "      <th>details</th>\n",
       "    </tr>\n",
       "  </thead>\n",
       "  <tbody>\n",
       "    <tr>\n",
       "      <th>196269</th>\n",
       "      <td>[Grocery &amp; Gourmet Food, Breakfast Foods, Cere...</td>\n",
       "      <td></td>\n",
       "      <td>[Enjoy your gluten freedom. Chex Gluten Free O...</td>\n",
       "      <td></td>\n",
       "      <td>Chex Gluten Free Oatmeal Variety Pack, 8.84 Ounce</td>\n",
       "      <td>[]</td>\n",
       "      <td></td>\n",
       "      <td>Chex</td>\n",
       "      <td>[]</td>\n",
       "      <td>709,598 in Grocery &amp; Gourmet Food (</td>\n",
       "      <td>[]</td>\n",
       "      <td>Grocery</td>\n",
       "      <td></td>\n",
       "      <td></td>\n",
       "      <td></td>\n",
       "      <td>B00KCJRVO2</td>\n",
       "      <td>[]</td>\n",
       "      <td>[]</td>\n",
       "      <td>{'\n",
       "    Item Weight: \n",
       "    ': '8.8 ounces', 'Shi...</td>\n",
       "    </tr>\n",
       "  </tbody>\n",
       "</table>\n",
       "</div>"
      ],
      "text/plain": [
       "                                                 category tech1  \\\n",
       "196269  [Grocery & Gourmet Food, Breakfast Foods, Cere...         \n",
       "\n",
       "                                              description fit  \\\n",
       "196269  [Enjoy your gluten freedom. Chex Gluten Free O...       \n",
       "\n",
       "                                                    title also_buy tech2  \\\n",
       "196269  Chex Gluten Free Oatmeal Variety Pack, 8.84 Ounce       []         \n",
       "\n",
       "       brand feature                                 rank also_view main_cat  \\\n",
       "196269  Chex      []  709,598 in Grocery & Gourmet Food (        []  Grocery   \n",
       "\n",
       "       similar_item date price        asin imageURL imageURLHighRes  \\\n",
       "196269                          B00KCJRVO2       []              []   \n",
       "\n",
       "                                                  details  \n",
       "196269  {'\n",
       "    Item Weight: \n",
       "    ': '8.8 ounces', 'Shi...  "
      ]
     },
     "execution_count": 260,
     "metadata": {},
     "output_type": "execute_result"
    }
   ],
   "source": [
    "df[df.asin == 'B00KCJRVO2']"
   ]
  },
  {
   "cell_type": "code",
   "execution_count": 277,
   "id": "a5411717-7fbe-485e-85de-8706e6c954c4",
   "metadata": {},
   "outputs": [
    {
     "data": {
      "text/plain": [
       "'he_PRP is_VBZ lazy_JJ '"
      ]
     },
     "execution_count": 277,
     "metadata": {},
     "output_type": "execute_result"
    }
   ],
   "source": [
    "pipe_pos('he is lazy')"
   ]
  },
  {
   "cell_type": "code",
   "execution_count": 276,
   "id": "11599ef3-6028-4e73-bef8-cf36267280fd",
   "metadata": {},
   "outputs": [
    {
     "data": {
      "text/plain": [
       "'hes_NNS lazy_VBP '"
      ]
     },
     "execution_count": 276,
     "metadata": {},
     "output_type": "execute_result"
    }
   ],
   "source": [
    "pipe_pos('hes lazy')"
   ]
  },
  {
   "cell_type": "code",
   "execution_count": 284,
   "id": "783c6ff6-0d07-47ae-880b-0dff35263240",
   "metadata": {},
   "outputs": [
    {
     "data": {
      "text/plain": [
       "'TBeemster Gouda Months App Lbs '"
      ]
     },
     "execution_count": 284,
     "metadata": {},
     "output_type": "execute_result"
    }
   ],
   "source": [
    "pipe_subjectCleaning('TBeemster Gouda - Aged 18/24 Months - App. 1.5 Lbs')"
   ]
  },
  {
   "cell_type": "code",
   "execution_count": 200,
   "id": "0b803889-2b4d-4ee7-9ff3-7428fb12d722",
   "metadata": {},
   "outputs": [
    {
     "data": {
      "text/plain": [
       "'I am a sweet-aholic. That\\'s my main downfall when it comes to eating healthy, that and portion control. I love chocolate and decided to one day google \"healthiest chocolate\" and stumbled across Vitalicious products. People were making them seem like they were the best things on Earth-- \"taste just like regular muffins and brownies, but just healthy PLUS they could be walked off in 13 minutes.\" All of that made me happy, and despite the huge pricetag I decided to purchase these babies anyway.To make my review more useful I\\'ve decided to eat 1-2 daily and post my opinions on each flavor as I eat them (so this will be updated until I review each flavor), and rate them out of 5. (To give you an idea of my \"sweet-tooth\" taste palette- I really really love chocolate, my favorite desserts are probably chocolate cake (devils food) with vanilla frosting, hot apple pie and vanilla ice cream, and brownie and ice cream. I love chocolate chip cookies, I\\'m a fan of most candy bars, I enjoy pizza hut cinnamon sticks and krispy kreme doughnuts (even though I don\\'t get to eat these things anymore- I love them :-) ).CONTENTS of SUPER SAMPLER: 2 MultiBran, 2 BlueBran, 2 Banana Nut, 2 CranBran, 2 AppleBerry, 2 Golden Corn, 4 VitaBrownies, 2 Double Chocolate, 2 Double Chocolate Dream, 2 Chocolate Fig, 2 Fudgy Peanut Butter Chip.1. Vitabrownies: (2/5) Taste more like a cake that was made with apple sauce instead of oil and splenda instead of real sugar and egg whites instead of the full eggs. There\\'s a little sweetness there, but does not compare in anyway to a real brownie. This is the first one I ate from the package... when the FeDex truck came and dropped the package off I literally went straight to the kitchen opened the box took out one brownie and put the rest in the freezer. I ate a piece, then warmed the rest up for about 30 seconds. The brownie just wasn\\'t that moist, there were sections of moistness and it looked moist, but it just didn\\'t hit the spot like I wanted. However, because of all the fiber it did leave me sorta full or satisfied afterwards (I ate it with a bottle of water).2. Banana Nut: (3/5)  Banana nut is my favorite type of muffin and I deem this particuar vitalicious banana nut as a healthier version of a healthy banana nut muffin. Familiar taste and could curb a banana nut bread fanatic\\'s craving.. its okay.3. Deep Chocolate: (5/5) This was pretty good, I\\'m sure its the best one of them all, but it still didn\\'t hit the spot quite like I thought it would given the GREAT reviews everyone has written. The sections in the muffin top with the chocolate chips were the best b/c the chocolate chips are great, but there\\'s only like 4 chips in the whole muffin top. What I\\'m fighuring now, after eating this one is that these are the type of food that you probably grow to love- like if you were determined to lose weight and/or eat right then you would just learn to love this and they would satisfy your cravings for sweets especilly if you aren\\'t a sweetaholic like me. Also the Deep Chocolate tasted more like a brownie than the Vitabrownies which I found surprising.  ****(Changed to 4.5/5 after eating for the second time, changed to 5/5 after eating these alot more)4. Blueberry (BlueBran): (1/5) You know the taste of plain oats- when you just add water. This is how this taste- with a teasppon of sugar in the mix. It\\'s plain, very plain and I honestly feel like I\\'m just wasting calories. As I sit here, eating this, writing to you guys I am now 100% positive that these vitalicious products are meant for people with very mild sweet toothes who don\\'t really like sweets, but want something sweet and healthy every now and again. I would rather use 250 calories and eat a real 3 Musketeers bar than to only use 100 and eat something that doesnt even taste good. This is my 2nd day and fourth muffin and  I honestly want to send back the box. I can appreciate the nutrients in each item though, but hey that\\'s what Bolthouse Farms drinks are for. I know its easier to make an extremely healthy tasty drink than it is to make a healthy tasty baked good, but I really thought that Vitalicious was going to be the Bolthouse Farms of the sweets/chocolate world... I was so wrong.Though I planned to post the review after eating them all, I think I\\'ll post it now (10.15.09) because I honestly am just going to \"charge it to the game\"- meaning I wasted [...] to taste test, but I\\'ll look at it as a sacrifice for others who are thinking about buying them. I will very randomly eat the rest... and just add the reviews of their taste as I eat (provided that i actually eat another one again). I am honestly just very disaapointed- I thought I wouldnt have to buy anything sweet for atleast 2 weeks, now I\\'m somewhat going back to the drawing board.Conclusion: At 36 bucks(...) 1.50(...) per brownie/muffin top) I think that it\\'s not worth it. For me, with my budget, I\\'m better off buying the 100-calorie packs in the store and just leaving them in the car if I don\\'t think I can control myself to eat just one. Atleast with the 100-calorie packs you get 6 for about (...)  (0.67 per pack) and if you have coupons you can get it or less than that.  But again, I know that its hard to control yourself with the 100-calorie packs because they\\'re just so darn tasty.... Vitalicious products will definitely make it easier to exhibit self control since they\\'re fiber rich and not extremely tasty-- they\\'re more like \"just tasty enough\". **(Please check my FINAL CONCLUSION at the bottom).Other random notes:- I do not suggest buying this particular sampler, if you buy anything buy the chocolate sampler- the chocolate flavors are the best and will grow on you overtime- this has happened to me. It\\'s still no Betty Crocker or Hershey\\'s chocolate, but it grows on you. The key is warming them up at exactly the right number of seconds.- I think these may be better to a person who loves muffins- the texture the taste. I do love a great muffin, but I don\\'t eat them everyday for breakfast like some people. If you\\'re the kind of person that blows about 500-600 calories on a muffin every morning than this is probably a more fitting healthy alternative for you.- I still don\\'t get how all their products are getting such high reviews, I guess the people who don\\'t like them aren\\'t really saying much. Don\\'t get me wrong I do think this is a great product- all those vitamins and just 100 calories- ist great, but it\\'s great for someon who doesn\\'t really eat a whole lot of sweets anyway not for someone who has an extreme sweet tooth like me.- If for some reason these do begin to grow on me after a few more days/weeks, I promise to come back and tell you guys... b/c this just may be one of the products that has to grow on you.- I gave the product 2 stars, but I really wanted to just give it 1. But I figured the Vitalicious lovers would be too mad at me if I gave their beloved product one. So I settled with two because of that and because they are filled with vitiamins and what not.**UPDATE, UPDATE, UPDATE, UPDATE, UPDATE (updates below)****:5.  Fudgy Peanut Buter Chip: (2/5) This was okay. The peanut butter taste was watered down... chocolate was bland. There is nothing  and I mean nothing \"fudgy\" about this.6. Double Chocolate Dream: (4/5). Ummmm, well, as I sit here eating this tasty chocolate treat, I\\'m scratching my head trying to figure out- is this bland vitalicious chocolate growing on me-- or does this one really taste good? I took this out the freezer, warmed it up for 30 seconds, opened the microwave and it smelled like chocolate milk... this was interesting. Grabbed my smoothie, sat down and begin to eat.... and you guys, this is the best one so far. This actually taste like a box chocolate cake that you just added a little too much water into. Whatever they added in this one they need to do to the rest. Double Chocolate Dream will actually curb a chocolate craving.- I ate another Vitabrownie and guys after the 3rd one they\\'re beginning to grow on me. And you know what eating like 2-3 of these a day actually makes you eat less- its weird. You\\'re just less hungry I\\'ve been calculating my calories and though I was thinking I was eating 1600 or so calories a day. I\\'ve actually been eating more like 800-1200 (max) and I think its the vitabrownies and muffins that are helping... and all the protein I eat--- like tuna and salmon. That combined with my smoothies and bolthouse farm drinks and water.7. Appleberry: (2/5). I\\'ll say it again all of Vitalicious\\'s bran products taste like watered down oats with a drop of sugar. If you\\'re big on plain granola and plain oats and similar foods then you\\'ll like them otherwise it very barely satisfies a sweet tooth. The apple smell is nice, I just wish it was more present... like I wish it had a apple-cinnamon type taste.8. CranBran: (1/5). (read above review). Very plain taste. Can I give a 0/5? Is that fair... Idk, these Brans probably deserve 0 out of 5.9. Chocolate Fig: (2/5). I\\'m not big on figs, and actually I feel like chewy snacks in breaded/crunchy sweets are unnecessary- like raisins. So since I had to remove the figs, this wasn\\'t my favorite. The chocolate was okay... sort of bland because there\\'s no chocolate chips to make it moist. (meant for those who can enjoy both chocolate and fig newtons)- I ate another Deep Chocolate... and mm mmm good! The Vitalicious chocolate taste is growing on me. I think these may taste better after frozen for 2 or more days then warmed up at 30 seconds. Deep Chocolate just may be better than Double Chocolate Dream... it may deserve a 4/5, hmmm.- I have suggestions for Vitalicious... put more chocolate chips in the VitaBrownie, also create an Apple-Cinnamon flavor and a Carrot Cake type flavor.- You guys I\\'m so scared to taste the Golden Corn and Multi-Gran because I\\'m sure I won\\'t like it. I have 2 of each of those left, a CranBran BlueberryBran, AppleBerry, and Chocolate Fig. Thats about 8 x 1.50 going to waste. 12 bucks((...)- that could have went towards atleast 3 boxes of 100 calorie snacks or 3 bolthouse farm drinks or 2-3 days worth of quiznos). I\\'ll still come back and review the others later, but I now feel I can make a 100% call on Vitalicious muffins and brownies... here\\'s my final conclusion...10. Golden Corn: (4/5). Sooooo, I\\'m sitting here, drinking my hot mint green tea and delicately chowing down on this Golden Corn vitamuffin, and people this is darn good! When I took the first bite I thought to myself, \"Duuuh, its called golden corn so its suppose to taste like cornbread!\". And this healthy piece of corn bread is much better than most-- it taste like a healthy gourmet version of Jiffy cornbread. It is sooo good, I\\'m not sure if everyone will have this same reaction, but if you\\'re a fan of sweet cornbread then you definitely will. This is perfect for those of you who have given up your fried chicken for grilled chicken and your buttery mash potatoes for plain baked potatoes-- its the perfect addition to your meal. And honestly its good just eaten as a midday or midnight snack. 100 calories, 0 fat, lots of fiber and vitamins- it can\\'t get any better. This out of all the other flavors taste the most like what its supposed to be, meaning: you could blindfold someone and put 5-6 different cornbreads in front of them and they would not guess this to be the healthiest and that\\'s why I\\'m giving it a 4.5/5.  ---Okay so after eating this again, I still love it, but I feel like I overdid the review, I think I first ate it when I was pretty hungry and craving sweetness. On the second go round it was still really good but more like a 4/5.***FINAL CONCLUSION***: Run like heck from all Vitalicious Bran-flavored products, they taste like plain quaker oats with too much water and a teaspoon of sugar with bits of warm fruit scattered throughout. They\\'re only for those who delight in bran flavor. Appleberry is decent, pretty good even, if you really like apple and berry flavored breads and muffins. The Banana Nut is the best replica muffin in my opinion, its tasty and can be looked at as a light version of a banana nut muffin. Golden Corn (sigh) is delicious. It tastes just like the sweet cornbread most southerners looks forward to at Sunday Dinner meals (with a slightly lighter taste and all with the added benefit of it being healthy).The chocolate grows on you overtime. The first 2 times you eat one of the chocolate flavors, you\\'ll be sad and wondering why you spent so much money, but then by day 3 and your 3rd or 4th Deep Chocolate or Double Chocolate Dream you\\'ll be happy. And a part of that happiness will be because you are unintentionally and unnoticeably eating less (because of the fiber you\\'ll stay fuller longer).I work from home so its very easy for me to snack snack snack all day, but with a little self-control and the chocolate Vitalicious muffintop it will be easy to control snacking. If I could find it in my heart to spend another (...) on 24 snack cakes I would EASILY order a box of Deep ChocolateVitalicious Deep Chocolate Vita Tops , 2-Ounce Units (Pack of 24). I can safely say that this will satisfy a chocoholics need for chocolate... just use them as your once a day daily treat. If they\\'re frozen warm it up for 30 seconds. If its room-temperature try 15 seconds. You will most likely not like it the first time, but it grows on you.Besides Deep Chocolate the only other Vitalicious muffintops that I would reccomend trying out are: Golden Corn, Double Chocolate Dream, and Triple Chocolate Chunk, and maybe Vitabrownies- and that\\'s only if you\\'re a big fan of nuts, otherwise stick to the muffintops they taste more like brownies.I just want to repeat the fact that I don\\'t know why these are getting such overall high reviews... I\\'m guessing its because some people from their company are the ones writing them (lol) or the people who are writing reviews don\\'t have INTENSE sweet cravings like I do. If you have an intense sweet tooth Please don\\'t waste your money on this sampler-- you will most likely regret it. The best flavors really are Deep Chocolate and Golden Corn (if you like southern cornbread). If you are looking for something to curb your sweet tooth just stick to Deep Chocolate ( I believe it has perfect reviews)Whew! I\\'ve written alot, but I hope this helps you guys to make a better decision. I decided to make my review comprehensive because this is alot of cash to spend on small sweets... Plus, when I was trying to decide whether or not to buy these I assumed the posted reviews were helpful, but they really weren\\'t (except for the tips on immediately freezing them).  I ended up only actually liking 5 flavors (deep chocolate, golden corn, double chocolate dream, banana nut, brownie). That indubitably means that I \"wasted\" 12 muffintops... don\\'t let those muffintops have been painfully eaten and picked over in vain...Good Luck with choosing 100-calories snack foods to assist you with your healthy lifestyle.***Last UPDATE Nov 3, 2009***11. MultiBran: (1/5). I\\'m writing this well after eating the ones above. Its been in the freezer for about 2 weeks now so I figured- what the heck let\\'s get it on MultiBran. And you guys-- this bran taste actually grows on you aferwhile... I\\'ll still give it a 1/5, but I\\'m so used to the plain watery quaker oats taste that it doesn\\'t bother me anymore. I feel sorta bad for coming down so hard on the bran since, after all, it is very good for you. After eating the MultiBran-- which I dubbed from day one the \"king of the muffintop brans\" I realize that this sampler is good for those who are health nuts and are used to these plain flavors. I can now actually see why people give this sampler high ratings, its because they eat stuff like this all day long and so to them it really is good, they\\'re probably people who arent that big on sweets anyway, and who easily have 36 bucks (...) to spend on 24 muffins.  Like I said I work from home so its easy for me to snack all day, but just from me starting the day off with a vitalicious muffin (and fruit) I can eat less... I consumed 1010 calories total yesterday.Now that I know what I like and dislike I wouldn\\'t buy this sampler again, but if you really are curious on your own how all these flavors taste then feel free to indulge. I might even give this 3 stars.... well maybe not because these taste really are bland. But still the Vitalicious muffintops do assist in being able to live a healthy lifestyle and thats what im about. I\\'m not \"dieting\" I\\'m practicing a healthy lifestyle and vitalicious will take you MUCH further then those nabisco, sunshine, and keebler 100 calorie packs. Because the flavor is exactly the same I end up eating the whole box of those tasty shortbread/oreos/chip ahoys/cheezits in one day... sometimes in 2 sittings.... but you wouldnt have that problem with these, its hard to eat more than 2 even though they\\'re pretty small. The key is eating these with something, like a smoothie or some fruit and water.**IMPORTANT TIP**:::: Before buying these I just suggest you ask yourself what your main purpose of purchasing them are. Is it to explore healthy snacks? Is it to find healthy breakfast food? Is it to help with sweet cravings? To help with oversnacking? To find good bran flavored foods? Mine was to find healthy sweets. Something that I liked that was low in calories, had vitamins, and would sufficiently curb my cravings for candy bars (lol). I love chocolate and I have sugar cravings. So in my case I would have been better off just purchasing Deep Chocolate. Everyone will come out with a slightly different conclusion, some may not need to purchase these at all.Also it generally helps to order these with low (very low) expectations. To the point that you\\'re almost scared to eat it, so that when you finally do it\\'s like , \"hmmm? okay, wow, well... this is pretty good\". lol.Good Luck everyone!PS- ** The prices on these vitatops are strange, they fluctuate... is anyone else noticing this? I went ahead and ordered the triple chocolate chunk yesterday and because they were about 26 bucks (...) plus free shipping. Now, not even 12 hours later,  they\\'re 32... what happened? Its as if the price of the chocolate ones are going up while the bran is lowering... thats just wrong. You all may just want to buy from your local store... Vitalicious Vitatops has a Facebook page and they seem to answer their fans pretty quickly. They say if a store near you doesn\\'t carry their muffintops you can put in a request at the store and Vitalicious will be sure to get them to that particular store--- as long as its one that is supposed to carry Vitatops, like Krogers, Gristedes, Food Emporium, Whole Foods, etc. (check their website for the complete listing).'"
      ]
     },
     "execution_count": 200,
     "metadata": {},
     "output_type": "execute_result"
    }
   ],
   "source": [
    "dfdataTrain[dfdataTrain.countSentences == dfdataTrain['countSentences'].max()].reviewText.values[0]"
   ]
  },
  {
   "cell_type": "code",
   "execution_count": 233,
   "id": "1a460349-cc68-40b1-bcfa-5a0632a061dc",
   "metadata": {},
   "outputs": [
    {
     "data": {
      "text/plain": [
       "\"I_PRP am_VBP a_DT sweet-aholic_JJ ._. That_DT 's_VBZ my_PRP$ main_JJ downfall_NN when_WRB it_PRP comes_VBZ to_TO eating_VBG healthy_JJ ,_, that_DT and_CC portion_NN control_NN ._. I_PRP love_VBP chocolate_NN and_CC decided_VBD to_TO one_CD day_NN google_VB ``_`` healthiest_JJS chocolate_NN ''_'' and_CC stumbled_VBD across_IN Vitalicious_JJ products_NNS ._. People_NNS were_VBD making_VBG them_PRP seem_VBP like_IN they_PRP were_VBD the_DT best_JJS things_NNS on_IN Earth_NNP --_: ``_`` taste_NN just_RB like_IN regular_JJ muffins_NNS and_CC brownies_NNS ,_, but_CC just_RB healthy_JJ PLUS_NNP they_PRP could_MD be_VB walked_VBN off_RP in_IN 13_CD minutes_NNS ._. ''_'' All_DT of_IN that_DT made_VBD me_PRP happy_JJ ,_, and_CC despite_IN the_DT huge_JJ pricetag_NN I_PRP decided_VBD to_TO purchase_VB these_DT babies_NNS anyway.To_VBP make_VB my_PRP$ review_NN more_RBR useful_JJ I_PRP 've_VBP decided_VBN to_TO eat_VB 1-2_JJ daily_JJ and_CC post_VB my_PRP$ opinions_NNS on_IN each_DT flavor_NN as_IN I_PRP eat_VBP them_PRP (_( so_IN this_DT will_MD be_VB updated_VBN until_IN I_PRP review_VBP each_DT flavor_NN )_) ,_, and_CC rate_NN them_PRP out_IN of_IN 5_CD ._. (_( To_TO give_VB you_PRP an_DT idea_NN of_IN my_PRP$ ``_`` sweet-tooth_JJ ''_'' taste_NN palette-_NN I_PRP really_RB really_RB love_VB chocolate_NN ,_, my_PRP$ favorite_JJ desserts_NNS are_VBP probably_RB chocolate_JJ cake_NN (_( devils_VB food_NN )_) with_IN vanilla_NN frosting_NN ,_, hot_JJ apple_NN pie_NN and_CC vanilla_NN ice_NN cream_NN ,_, and_CC brownie_NN and_CC ice_NN cream_NN ._. I_PRP love_VBP chocolate_JJ chip_NN cookies_NNS ,_, I_PRP 'm_VBP a_DT fan_NN of_IN most_JJS candy_NN bars_NNS ,_, I_PRP enjoy_VBP pizza_JJ hut_NN cinnamon_NN sticks_NNS and_CC krispy_VB kreme_NN doughnuts_NNS (_( even_RB though_IN I_PRP do_VBP n't_RB get_VB to_TO eat_VB these_DT things_NNS anymore-_VBP I_PRP love_VBP them_PRP :_: -_: )_) )_) .CONTENTS_NN of_IN SUPER_NNP SAMPLER_NNP :_: 2_CD MultiBran_NNP ,_, 2_CD BlueBran_NNP ,_, 2_CD Banana_NNP Nut_NNP ,_, 2_CD CranBran_NNP ,_, 2_CD AppleBerry_NNP ,_, 2_CD Golden_NNP Corn_NNP ,_, 4_CD VitaBrownies_NNS ,_, 2_CD Double_JJ Chocolate_NNP ,_, 2_CD Double_JJ Chocolate_NNP Dream_NNP ,_, 2_CD Chocolate_NNP Fig_NNP ,_, 2_CD Fudgy_NNP Peanut_NNP Butter_NNP Chip.1_NNP ._. Vitabrownies_NNS :_: (_( 2/5_CD )_) Taste_NN more_RBR like_IN a_DT cake_NN that_WDT was_VBD made_VBN with_IN apple_NN sauce_VBP instead_RB of_IN oil_NN and_CC splenda_NN instead_RB of_IN real_JJ sugar_NN and_CC egg_NN whites_NNS instead_RB of_IN the_DT full_JJ eggs_NNS ._. There_EX 's_VBZ a_DT little_JJ sweetness_NN there_RB ,_, but_CC does_VBZ not_RB compare_VB in_IN anyway_RB to_TO a_DT real_JJ brownie_NN ._. This_DT is_VBZ the_DT first_JJ one_CD I_PRP ate_VBP from_IN the_DT package_NN ..._: when_WRB the_DT FeDex_NNP truck_NN came_VBD and_CC dropped_VBD the_DT package_NN off_IN I_PRP literally_RB went_VBD straight_RB to_TO the_DT kitchen_NN opened_VBD the_DT box_NN took_VBD out_RP one_CD brownie_NN and_CC put_VBD the_DT rest_NN in_IN the_DT freezer_NN ._. I_PRP ate_VBP a_DT piece_NN ,_, then_RB warmed_VBD the_DT rest_NN up_RP for_IN about_RB 30_CD seconds_NNS ._. The_DT brownie_NN just_RB was_VBD n't_RB that_IN moist_NN ,_, there_EX were_VBD sections_NNS of_IN moistness_NN and_CC it_PRP looked_VBD moist_NN ,_, but_CC it_PRP just_RB did_VBD n't_RB hit_VB the_DT spot_NN like_IN I_PRP wanted_VBD ._. However_RB ,_, because_IN of_IN all_PDT the_DT fiber_NN it_PRP did_VBD leave_VB me_PRP sorta_JJ full_JJ or_CC satisfied_JJ afterwards_NNS (_( I_PRP ate_VBP it_PRP with_IN a_DT bottle_NN of_IN water_NN )_) .2_NN ._. Banana_NNP Nut_NNP :_: (_( 3/5_CD )_) Banana_NNP nut_NN is_VBZ my_PRP$ favorite_JJ type_NN of_IN muffin_NN and_CC I_PRP deem_VBP this_DT particuar_NN vitalicious_JJ banana_NN nut_NN as_IN a_DT healthier_JJR version_NN of_IN a_DT healthy_JJ banana_NN nut_JJ muffin_NN ._. Familiar_NNP taste_NN and_CC could_MD curb_VB a_DT banana_NN nut_NN bread_VBD fanatic_JJ 's_POS craving_VBG .._CC its_PRP$ okay.3_NN ._. Deep_JJ Chocolate_NN :_: (_( 5/5_CD )_) This_DT was_VBD pretty_RB good_JJ ,_, I_PRP 'm_VBP sure_JJ its_PRP$ the_DT best_JJS one_CD of_IN them_PRP all_DT ,_, but_CC it_PRP still_RB did_VBD n't_RB hit_VB the_DT spot_NN quite_RB like_IN I_PRP thought_VBD it_PRP would_MD given_VBN the_DT GREAT_JJ reviews_NNS everyone_NN has_VBZ written_VBN ._. The_DT sections_NNS in_IN the_DT muffin_NN top_NN with_IN the_DT chocolate_NN chips_NNS were_VBD the_DT best_JJS b/c_NN the_DT chocolate_NN chips_NNS are_VBP great_JJ ,_, but_CC there_EX 's_VBZ only_RB like_JJ 4_CD chips_NNS in_IN the_DT whole_JJ muffin_NN top_NN ._. What_WP I_PRP 'm_VBP fighuring_VBG now_RB ,_, after_IN eating_VBG this_DT one_CD is_VBZ that_IN these_DT are_VBP the_DT type_NN of_IN food_NN that_IN you_PRP probably_RB grow_VB to_TO love-_JJ like_IN if_IN you_PRP were_VBD determined_VBN to_TO lose_VB weight_NN and/or_NN eat_NN right_RB then_RB you_PRP would_MD just_RB learn_VB to_TO love_VB this_DT and_CC they_PRP would_MD satisfy_VB your_PRP$ cravings_NNS for_IN sweets_NNS especilly_RB if_IN you_PRP are_VBP n't_RB a_DT sweetaholic_JJ like_IN me_PRP ._. Also_RB the_DT Deep_NNP Chocolate_NNP tasted_VBD more_RBR like_IN a_DT brownie_NN than_IN the_DT Vitabrownies_NNP which_WDT I_PRP found_VBD surprising_NN ._. *_JJ *_NNP *_NNP *_NNP (_( Changed_NNP to_TO 4.5/5_CD after_IN eating_VBG for_IN the_DT second_JJ time_NN ,_, changed_VBD to_TO 5/5_CD after_IN eating_VBG these_DT alot_IN more_JJR )_) 4_CD ._. Blueberry_NNP (_( BlueBran_NNP )_) :_: (_( 1/5_CD )_) You_PRP know_VBP the_DT taste_NN of_IN plain_NN oats-_JJ when_WRB you_PRP just_RB add_VB water_NN ._. This_DT is_VBZ how_WRB this_DT taste-_JJ with_IN a_DT teasppon_NN of_IN sugar_NN in_IN the_DT mix_NN ._. It_PRP 's_VBZ plain_NN ,_, very_RB plain_JJ and_CC I_PRP honestly_RB feel_VBP like_IN I_PRP 'm_VBP just_RB wasting_VBG calories_NNS ._. As_IN I_PRP sit_VBP here_RB ,_, eating_VBG this_DT ,_, writing_VBG to_TO you_PRP guys_VBP I_PRP am_VBP now_RB 100_CD %_NN positive_JJ that_IN these_DT vitalicious_JJ products_NNS are_VBP meant_VBN for_IN people_NNS with_IN very_RB mild_JJ sweet_JJ toothes_NNS who_WP do_VBP n't_RB really_RB like_JJ sweets_NNS ,_, but_CC want_VBP something_NN sweet_JJ and_CC healthy_JJ every_DT now_RB and_CC again_RB ._. I_PRP would_MD rather_RB use_VB 250_CD calories_NNS and_CC eat_VB a_DT real_JJ 3_CD Musketeers_NNPS bar_NN than_IN to_TO only_RB use_VB 100_CD and_CC eat_VB something_NN that_IN doesnt_VBD even_RB taste_RB good_JJ ._. This_DT is_VBZ my_PRP$ 2nd_JJ day_NN and_CC fourth_JJ muffin_NN and_CC I_PRP honestly_RB want_VBP to_TO send_VB back_RP the_DT box_NN ._. I_PRP can_MD appreciate_VB the_DT nutrients_NNS in_IN each_DT item_NN though_IN ,_, but_CC hey_VBZ that_DT 's_VBZ what_WP Bolthouse_NNP Farms_NNP drinks_NNS are_VBP for_IN ._. I_PRP know_VBP its_PRP$ easier_JJR to_TO make_VB an_DT extremely_RB healthy_JJ tasty_NN drink_NN than_IN it_PRP is_VBZ to_TO make_VB a_DT healthy_JJ tasty_NN baked_VBD good_JJ ,_, but_CC I_PRP really_RB thought_VBD that_IN Vitalicious_NNP was_VBD going_VBG to_TO be_VB the_DT Bolthouse_NNP Farms_NNP of_IN the_DT sweets/chocolate_NN world_NN ..._: I_PRP was_VBD so_RB wrong.Though_JJ I_PRP planned_VBD to_TO post_VB the_DT review_NN after_IN eating_VBG them_PRP all_DT ,_, I_PRP think_VBP I_PRP 'll_MD post_VB it_PRP now_RB (_( 10.15.09_CD )_) because_IN I_PRP honestly_RB am_VBP just_RB going_VBG to_TO ``_`` charge_VB it_PRP to_TO the_DT game_NN ''_'' -_: meaning_NN I_PRP wasted_VBD [_NN ..._: ]_NN to_TO taste_VB test_NN ,_, but_CC I_PRP 'll_MD look_VB at_IN it_PRP as_IN a_DT sacrifice_NN for_IN others_NNS who_WP are_VBP thinking_VBG about_IN buying_VBG them_PRP ._. I_PRP will_MD very_RB randomly_RB eat_VB the_DT rest_NN ..._: and_CC just_RB add_VB the_DT reviews_NNS of_IN their_PRP$ taste_NN as_IN I_PRP eat_VBP (_( provided_VBN that_IN i_JJ actually_RB eat_VBP another_DT one_CD again_RB )_) ._. I_PRP am_VBP honestly_RB just_RB very_RB disaapointed-_JJ I_PRP thought_VBD I_PRP wouldnt_VBP have_VBP to_TO buy_VB anything_NN sweet_JJ for_IN atleast_RB 2_CD weeks_NNS ,_, now_RB I_PRP 'm_VBP somewhat_RB going_VBG back_RB to_TO the_DT drawing_VBG board.Conclusion_NN :_: At_IN 36_CD bucks_NNS (_( ..._: )_) 1.50_CD (_( ..._: )_) per_IN brownie/muffin_NN top_NN )_) I_PRP think_VBP that_IN it_PRP 's_VBZ not_RB worth_JJ it_PRP ._. For_IN me_PRP ,_, with_IN my_PRP$ budget_NN ,_, I_PRP 'm_VBP better_JJR off_RP buying_VBG the_DT 100-calorie_JJ packs_NNS in_IN the_DT store_NN and_CC just_RB leaving_VBG them_PRP in_IN the_DT car_NN if_IN I_PRP do_VBP n't_RB think_VB I_PRP can_MD control_VB myself_PRP to_TO eat_VB just_RB one_CD ._. Atleast_NN with_IN the_DT 100-calorie_JJ packs_NNS you_PRP get_VBP 6_CD for_IN about_RB (_( ..._: )_) (_( 0.67_CD per_IN pack_NN )_) and_CC if_IN you_PRP have_VBP coupons_NNS you_PRP can_MD get_VB it_PRP or_CC less_JJR than_IN that_DT ._. But_CC again_RB ,_, I_PRP know_VBP that_IN its_PRP$ hard_JJ to_TO control_VB yourself_PRP with_IN the_DT 100-calorie_JJ packs_NNS because_IN they_PRP 're_VBP just_RB so_RB darn_JJ tasty_NN ...._NNP Vitalicious_NNP products_NNS will_MD definitely_RB make_VB it_PRP easier_JJR to_TO exhibit_VB self_PRP control_VB since_IN they_PRP 're_VBP fiber_JJ rich_JJ and_CC not_RB extremely_RB tasty_JJ --_: they_PRP 're_VBP more_RBR like_IN ``_`` just_RB tasty_JJ enough_RB ''_'' ._. *_NN *_NNP (_( Please_NNP check_VB my_PRP$ FINAL_NNP CONCLUSION_NN at_IN the_DT bottom_NN )_) .Other_CC random_JJ notes_NNS :_: -_: I_PRP do_VBP not_RB suggest_VB buying_VBG this_DT particular_JJ sampler_NN ,_, if_IN you_PRP buy_VBP anything_NN buy_VBP the_DT chocolate_NN sampler-_NN the_DT chocolate_NN flavors_NNS are_VBP the_DT best_JJS and_CC will_MD grow_VB on_IN you_PRP overtime-_VBP this_DT has_VBZ happened_VBN to_TO me_PRP ._. It_PRP 's_VBZ still_RB no_DT Betty_NNP Crocker_NNP or_CC Hershey_NNP 's_POS chocolate_NN ,_, but_CC it_PRP grows_VBZ on_IN you_PRP ._. The_DT key_NN is_VBZ warming_VBG them_PRP up_RP at_IN exactly_RB the_DT right_JJ number_NN of_IN seconds.-_JJ I_PRP think_VBP these_DT may_MD be_VB better_JJR to_TO a_DT person_NN who_WP loves_VBZ muffins-_VBP the_DT texture_NN the_DT taste_NN ._. I_PRP do_VBP love_VB a_DT great_JJ muffin_NN ,_, but_CC I_PRP do_VBP n't_RB eat_VB them_PRP everyday_JJ for_IN breakfast_NN like_IN some_DT people_NNS ._. If_IN you_PRP 're_VBP the_DT kind_NN of_IN person_NN that_WDT blows_VBZ about_IN 500-600_JJ calories_NNS on_IN a_DT muffin_NN every_DT morning_NN than_IN this_DT is_VBZ probably_RB a_DT more_RBR fitting_JJ healthy_JJ alternative_NN for_IN you.-_NN I_PRP still_RB do_VBP n't_RB get_VB how_WRB all_DT their_PRP$ products_NNS are_VBP getting_VBG such_JJ high_JJ reviews_NNS ,_, I_PRP guess_VBP the_DT people_NNS who_WP do_VBP n't_RB like_VB them_PRP are_VBP n't_RB really_RB saying_VBG much_JJ ._. Do_VBP n't_RB get_VB me_PRP wrong_JJ I_PRP do_VBP think_VB this_DT is_VBZ a_DT great_JJ product-_JJ all_PDT those_DT vitamins_NNS and_CC just_RB 100_CD calories-_JJ ist_NN great_JJ ,_, but_CC it_PRP 's_VBZ great_JJ for_IN someon_NN who_WP does_VBZ n't_RB really_RB eat_VB a_DT whole_JJ lot_NN of_IN sweets_NNS anyway_RB not_RB for_IN someone_NN who_WP has_VBZ an_DT extreme_JJ sweet_JJ tooth_NNS like_IN me.-_NN If_IN for_IN some_DT reason_NN these_DT do_VBP begin_VB to_TO grow_VB on_IN me_PRP after_IN a_DT few_JJ more_JJR days/weeks_NNS ,_, I_PRP promise_VBP to_TO come_VB back_RB and_CC tell_VB you_PRP guys_NNS ..._: b/c_VBZ this_DT just_RB may_MD be_VB one_CD of_IN the_DT products_NNS that_WDT has_VBZ to_TO grow_VB on_IN you.-_JJ I_PRP gave_VBD the_DT product_NN 2_CD stars_NNS ,_, but_CC I_PRP really_RB wanted_VBD to_TO just_RB give_VB it_PRP 1_CD ._. But_CC I_PRP figured_VBD the_DT Vitalicious_JJ lovers_NNS would_MD be_VB too_RB mad_JJ at_IN me_PRP if_IN I_PRP gave_VBD their_PRP$ beloved_JJ product_NN one_CD ._. So_RB I_PRP settled_VBD with_IN two_CD because_IN of_IN that_DT and_CC because_IN they_PRP are_VBP filled_VBN with_IN vitiamins_NNS and_CC what_WP not_RB ._. *_JJ *_NNP UPDATE_NNP ,_, UPDATE_NNP ,_, UPDATE_NNP ,_, UPDATE_NNP ,_, UPDATE_NNP (_( updates_NNS below_IN )_) *_FW *_FW *_FW *_FW :5_NN ._. Fudgy_NNP Peanut_NNP Buter_NNP Chip_NNP :_: (_( 2/5_CD )_) This_DT was_VBD okay_NN ._. The_DT peanut_NN butter_NN taste_NN was_VBD watered_VBN down_RP ..._: chocolate_NN was_VBD bland_NN ._. There_EX is_VBZ nothing_NN and_CC I_PRP mean_VBP nothing_NN ``_`` fudgy_NN ''_'' about_IN this.6_NN ._. Double_JJ Chocolate_NNP Dream_NN :_: (_( 4/5_CD )_) ._. Ummmm_NN ,_, well_RB ,_, as_IN I_PRP sit_VBP here_RB eating_VBG this_DT tasty_JJ chocolate_NN treat_NN ,_, I_PRP 'm_VBP scratching_VBG my_PRP$ head_NN trying_VBG to_TO figure_VB out-_JJ is_VBZ this_DT bland_NN vitalicious_JJ chocolate_NN growing_VBG on_IN me_PRP --_: or_CC does_VBZ this_DT one_CD really_RB taste_VB good_JJ ?_. I_PRP took_VBD this_DT out_RP the_DT freezer_NN ,_, warmed_VBD it_PRP up_RP for_IN 30_CD seconds_NNS ,_, opened_VBD the_DT microwave_NN and_CC it_PRP smelled_VBD like_JJ chocolate_NN milk_NN ..._: this_DT was_VBD interesting_VBG ._. Grabbed_NNP my_PRP$ smoothie_NN ,_, sat_VBD down_RB and_CC begin_VB to_TO eat_VB ...._JJ and_CC you_PRP guys_VBP ,_, this_DT is_VBZ the_DT best_JJS one_CD so_RB far_RB ._. This_DT actually_RB taste_VBZ like_IN a_DT box_NN chocolate_NN cake_NN that_IN you_PRP just_RB added_VBD a_DT little_JJ too_RB much_JJ water_NN into_IN ._. Whatever_WDT they_PRP added_VBD in_IN this_DT one_NN they_PRP need_VBP to_TO do_VB to_TO the_DT rest_NN ._. Double_JJ Chocolate_NNP Dream_NNP will_MD actually_RB curb_VB a_DT chocolate_NN craving.-_NN I_PRP ate_VBP another_DT Vitabrownie_NNP and_CC guys_NNS after_IN the_DT 3rd_CD one_NN they_PRP 're_VBP beginning_VBG to_TO grow_VB on_IN me_PRP ._. And_CC you_PRP know_VBP what_WP eating_VBG like_IN 2-3_CD of_IN these_DT a_DT day_NN actually_RB makes_VBZ you_PRP eat_VB less-_JJ its_PRP$ weird_NN ._. You_PRP 're_VBP just_RB less_JJR hungry_JJ I_PRP 've_VBP been_VBN calculating_VBG my_PRP$ calories_NNS and_CC though_IN I_PRP was_VBD thinking_VBG I_PRP was_VBD eating_VBG 1600_CD or_CC so_RB calories_NNS a_DT day_NN ._. I_PRP 've_VBP actually_RB been_VBN eating_VBG more_RBR like_IN 800-1200_CD (_( max_NN )_) and_CC I_PRP think_VBP its_PRP$ the_DT vitabrownies_NNS and_CC muffins_NNS that_WDT are_VBP helping_VBG ..._: and_CC all_PDT the_DT protein_NN I_PRP eat_VBP --_: -_: like_IN tuna_NN and_CC salmon_NN ._. That_DT combined_VBD with_IN my_PRP$ smoothies_NNS and_CC bolthouse_VB farm_NN drinks_NNS and_CC water.7_NN ._. Appleberry_NN :_: (_( 2/5_CD )_) ._. I_PRP 'll_MD say_VB it_PRP again_RB all_DT of_IN Vitalicious_NNP 's_POS bran_NN products_NNS taste_VBP like_IN watered_VBD down_RP oats_NNS with_IN a_DT drop_NN of_IN sugar_NN ._. If_IN you_PRP 're_VBP big_JJ on_IN plain_NN granola_NN and_CC plain_NN oats_NNS and_CC similar_JJ foods_NNS then_RB you_PRP 'll_MD like_VB them_PRP otherwise_VB it_PRP very_RB barely_RB satisfies_VBZ a_DT sweet_JJ tooth_NN ._. The_DT apple_NN smell_NN is_VBZ nice_JJ ,_, I_PRP just_RB wish_VB it_PRP was_VBD more_RBR present_JJ ..._: like_IN I_PRP wish_VBP it_PRP had_VBD a_DT apple-cinnamon_JJ type_NN taste.8_NN ._. CranBran_NN :_: (_( 1/5_CD )_) ._. (_( read_VB above_IN review_NN )_) ._. Very_RB plain_JJ taste_NN ._. Can_MD I_PRP give_VB a_DT 0/5_CD ?_. Is_VBZ that_IN fair_JJ ..._: Idk_NNP ,_, these_DT Brans_NNP probably_RB deserve_VBD 0_CD out_IN of_IN 5.9_CD ._. Chocolate_NNP Fig_NNP :_: (_( 2/5_CD )_) ._. I_PRP 'm_VBP not_RB big_JJ on_IN figs_NNS ,_, and_CC actually_RB I_PRP feel_VBP like_IN chewy_NN snacks_NNS in_IN breaded/crunchy_JJ sweets_NNS are_VBP unnecessary-_JJ like_IN raisins_NNS ._. So_RB since_IN I_PRP had_VBD to_TO remove_VB the_DT figs_NNS ,_, this_DT was_VBD n't_RB my_PRP$ favorite_JJ ._. The_DT chocolate_NN was_VBD okay_JJ ..._: sort_NN of_IN bland_NN because_IN there_EX 's_VBZ no_DT chocolate_NN chips_NNS to_TO make_VB it_PRP moist_VB ._. (_( meant_NN for_IN those_DT who_WP can_MD enjoy_VB both_DT chocolate_NN and_CC fig_JJ newtons_NNS )_) -_: I_PRP ate_VBP another_DT Deep_JJ Chocolate_NN ..._: and_CC mm_VB mmm_RB good_JJ !_. The_DT Vitalicious_NNP chocolate_NN taste_NN is_VBZ growing_VBG on_IN me_PRP ._. I_PRP think_VBP these_DT may_MD taste_VB better_JJR after_IN frozen_NN for_IN 2_CD or_CC more_JJR days_NNS then_RB warmed_VBD up_RB at_IN 30_CD seconds_NNS ._. Deep_JJ Chocolate_NNP just_RB may_MD be_VB better_JJR than_IN Double_JJ Chocolate_NNP Dream_NNP ..._: it_PRP may_MD deserve_VB a_DT 4/5_CD ,_, hmmm.-_NN I_PRP have_VBP suggestions_NNS for_IN Vitalicious_JJ ..._: put_VBD more_RBR chocolate_JJ chips_NNS in_IN the_DT VitaBrownie_NNP ,_, also_RB create_VBP an_DT Apple-Cinnamon_JJ flavor_NN and_CC a_DT Carrot_NNP Cake_NNP type_NN flavor.-_NN You_PRP guys_VBP I_PRP 'm_VBP so_RB scared_JJ to_TO taste_VB the_DT Golden_NNP Corn_NNP and_CC Multi-Gran_NNP because_IN I_PRP 'm_VBP sure_JJ I_PRP wo_MD n't_RB like_VB it_PRP ._. I_PRP have_VBP 2_CD of_IN each_DT of_IN those_DT left_VBN ,_, a_DT CranBran_NNP BlueberryBran_NNP ,_, AppleBerry_NNP ,_, and_CC Chocolate_NNP Fig_NNP ._. Thats_NNS about_IN 8_CD x_NNS 1.50_CD going_VBG to_TO waste_VB ._. 12_CD bucks_NNS (_( (_( ..._: )_) -_: that_WDT could_MD have_VB went_VBD towards_NNS atleast_IN 3_CD boxes_NNS of_IN 100_CD calorie_NN snacks_NNS or_CC 3_CD bolthouse_NN farm_NN drinks_NNS or_CC 2-3_JJ days_NNS worth_IN of_IN quiznos_NN )_) ._. I_PRP 'll_MD still_RB come_VB back_RB and_CC review_VB the_DT others_NNS later_RB ,_, but_CC I_PRP now_RB feel_VBP I_PRP can_MD make_VB a_DT 100_CD %_NN call_NN on_IN Vitalicious_JJ muffins_NNS and_CC brownies_NNS ..._: here_RB 's_POS my_PRP$ final_JJ conclusion_NN ..._: 10_CD ._. Golden_NNP Corn_NNP :_: (_( 4/5_CD )_) ._. Sooooo_NNP ,_, I_PRP 'm_VBP sitting_VBG here_RB ,_, drinking_VBG my_PRP$ hot_JJ mint_NN green_JJ tea_NN and_CC delicately_RB chowing_VBG down_RP on_IN this_DT Golden_NNP Corn_NNP vitamuffin_NN ,_, and_CC people_NNS this_DT is_VBZ darn_JJ good_JJ !_. When_WRB I_PRP took_VBD the_DT first_JJ bite_NN I_PRP thought_VBD to_TO myself_VB ,_, ``_`` Duuuh_NNP ,_, its_PRP$ called_VBN golden_JJ corn_NN so_IN its_PRP$ suppose_NN to_TO taste_VB like_IN cornbread_NN !_. ``_`` ._. And_CC this_DT healthy_JJ piece_NN of_IN corn_NN bread_NN is_VBZ much_RB better_JJR than_IN most_JJS --_: it_PRP taste_VBZ like_IN a_DT healthy_JJ gourmet_NN version_NN of_IN Jiffy_NNP cornbread_NN ._. It_PRP is_VBZ sooo_JJ good_JJ ,_, I_PRP 'm_VBP not_RB sure_JJ if_IN everyone_NN will_MD have_VB this_DT same_JJ reaction_NN ,_, but_CC if_IN you_PRP 're_VBP a_DT fan_NN of_IN sweet_JJ cornbread_NN then_RB you_PRP definitely_RB will_MD ._. This_DT is_VBZ perfect_JJ for_IN those_DT of_IN you_PRP who_WP have_VBP given_VBN up_RP your_PRP$ fried_JJ chicken_NN for_IN grilled_JJ chicken_NN and_CC your_PRP$ buttery_NN mash_NN potatoes_NNS for_IN plain_NN baked_VBD potatoes_NNS --_: its_PRP$ the_DT perfect_JJ addition_NN to_TO your_PRP$ meal_NN ._. And_CC honestly_RB its_PRP$ good_JJ just_RB eaten_VBN as_IN a_DT midday_NN or_CC midnight_NN snack_NN ._. 100_CD calories_NNS ,_, 0_CD fat_NN ,_, lots_NNS of_IN fiber_NN and_CC vitamins-_NN it_PRP ca_MD n't_RB get_VB any_DT better_JJR ._. This_DT out_IN of_IN all_PDT the_DT other_JJ flavors_NNS taste_VBP the_DT most_RBS like_IN what_WP its_PRP$ supposed_VBN to_TO be_VB ,_, meaning_VBG :_: you_PRP could_MD blindfold_VB someone_NN and_CC put_VB 5-6_JJ different_JJ cornbreads_NNS in_IN front_NN of_IN them_PRP and_CC they_PRP would_MD not_RB guess_VB this_DT to_TO be_VB the_DT healthiest_NN and_CC that_DT 's_VBZ why_WRB I_PRP 'm_VBP giving_VBG it_PRP a_DT 4.5/5_CD ._. --_: -Okay_NN so_RB after_IN eating_VBG this_DT again_RB ,_, I_PRP still_RB love_VB it_PRP ,_, but_CC I_PRP feel_VBP like_IN I_PRP overdid_VBP the_DT review_NN ,_, I_PRP think_VBP I_PRP first_RB ate_VBP it_PRP when_WRB I_PRP was_VBD pretty_RB hungry_JJ and_CC craving_VBG sweetness_NN ._. On_IN the_DT second_JJ go_VBP round_IN it_PRP was_VBD still_RB really_RB good_JJ but_CC more_RBR like_IN a_DT 4/5_CD ._. *_JJ *_NNP *_NNP FINAL_NNP CONCLUSION_NNP *_NNP *_NNP *_NN :_: Run_NNP like_IN heck_NN from_IN all_DT Vitalicious_NNP Bran-flavored_NNP products_NNS ,_, they_PRP taste_VBP like_IN plain_NN quaker_NN oats_NNS with_IN too_RB much_JJ water_NN and_CC a_DT teaspoon_NN of_IN sugar_NN with_IN bits_NNS of_IN warm_JJ fruit_NN scattered_VBN throughout_IN ._. They_PRP 're_VBP only_RB for_IN those_DT who_WP delight_VBP in_IN bran_NN flavor_NN ._. Appleberry_NNP is_VBZ decent_JJ ,_, pretty_RB good_JJ even_RB ,_, if_IN you_PRP really_RB like_IN apple_NN and_CC berry_NN flavored_VBD breads_NNS and_CC muffins_NNS ._. The_DT Banana_NNP Nut_NNP is_VBZ the_DT best_JJS replica_NN muffin_NN in_IN my_PRP$ opinion_NN ,_, its_PRP$ tasty_JJ and_CC can_MD be_VB looked_VBN at_IN as_IN a_DT light_JJ version_NN of_IN a_DT banana_NN nut_NN muffin_NN ._. Golden_NNP Corn_NNP (_( sigh_NN )_) is_VBZ delicious_JJ ._. It_PRP tastes_VBZ just_RB like_IN the_DT sweet_JJ cornbread_NN most_JJS southerners_NNS looks_VBZ forward_RB to_TO at_IN Sunday_NNP Dinner_NNP meals_NNS (_( with_IN a_DT slightly_RB lighter_JJR taste_NN and_CC all_DT with_IN the_DT added_JJ benefit_NN of_IN it_PRP being_VBG healthy_JJ )_) .The_FW chocolate_NN grows_NNS on_IN you_PRP overtime_VBP ._. The_DT first_JJ 2_CD times_NNS you_PRP eat_VBP one_CD of_IN the_DT chocolate_NN flavors_NNS ,_, you_PRP 'll_MD be_VB sad_JJ and_CC wondering_VBG why_WRB you_PRP spent_VBD so_RB much_JJ money_NN ,_, but_CC then_RB by_IN day_NN 3_CD and_CC your_PRP$ 3rd_CD or_CC 4th_CD Deep_JJ Chocolate_NNP or_CC Double_NNP Chocolate_NNP Dream_NNP you_PRP 'll_MD be_VB happy_JJ ._. And_CC a_DT part_NN of_IN that_DT happiness_NN will_MD be_VB because_IN you_PRP are_VBP unintentionally_RB and_CC unnoticeably_RB eating_VBG less_JJR (_( because_IN of_IN the_DT fiber_NN you_PRP 'll_MD stay_VB fuller_RB longer_RBR )_) .I_FW work_NN from_IN home_NN so_IN its_PRP$ very_NN easy_JJ for_IN me_PRP to_TO snack_VB snack_NN snack_NN all_DT day_NN ,_, but_CC with_IN a_DT little_JJ self-control_NN and_CC the_DT chocolate_NN Vitalicious_NNP muffintop_NN it_PRP will_MD be_VB easy_JJ to_TO control_VB snacking_NN ._. If_IN I_PRP could_MD find_VB it_PRP in_IN my_PRP$ heart_NN to_TO spend_VB another_DT (_( ..._: )_) on_IN 24_CD snack_NN cakes_NNS I_PRP would_MD EASILY_VB order_NN a_DT box_NN of_IN Deep_NNP ChocolateVitalicious_NNP Deep_NNP Chocolate_NNP Vita_NNP Tops_NNP ,_, 2-Ounce_JJ Units_NNP (_( Pack_NNP of_IN 24_CD )_) ._. I_PRP can_MD safely_RB say_VB that_IN this_DT will_MD satisfy_VB a_DT chocoholics_NNS need_VBP for_IN chocolate_NN ..._: just_RB use_VB them_PRP as_IN your_PRP$ once_IN a_DT day_NN daily_JJ treat_NN ._. If_IN they_PRP 're_VBP frozen_JJ warm_NN it_PRP up_IN for_IN 30_CD seconds_NNS ._. If_IN its_PRP$ room-temperature_NN try_NN 15_CD seconds_NNS ._. You_PRP will_MD most_VB likely_RB not_RB like_IN it_PRP the_DT first_JJ time_NN ,_, but_CC it_PRP grows_VBZ on_IN you.Besides_NNS Deep_NNP Chocolate_NNP the_DT only_RB other_JJ Vitalicious_NNP muffintops_NNS that_IN I_PRP would_MD reccomend_VB trying_VBG out_RP are_VBP :_: Golden_NNP Corn_NNP ,_, Double_NNP Chocolate_NNP Dream_NNP ,_, and_CC Triple_NNP Chocolate_NNP Chunk_NNP ,_, and_CC maybe_RB Vitabrownies-_NNP and_CC that_DT 's_VBZ only_RB if_IN you_PRP 're_VBP a_DT big_JJ fan_NN of_IN nuts_NNS ,_, otherwise_RB stick_NN to_TO the_DT muffintops_NNS they_PRP taste_VBP more_RBR like_IN brownies.I_NN just_RB want_VB to_TO repeat_VB the_DT fact_NN that_IN I_PRP do_VBP n't_RB know_VB why_WRB these_DT are_VBP getting_VBG such_JJ overall_JJ high_JJ reviews_NNS ..._: I_PRP 'm_VBP guessing_VBG its_PRP$ because_IN some_DT people_NNS from_IN their_PRP$ company_NN are_VBP the_DT ones_NNS writing_VBG them_PRP (_( lol_NN )_) or_CC the_DT people_NNS who_WP are_VBP writing_VBG reviews_NNS do_VBP n't_RB have_VB INTENSE_NNP sweet_JJ cravings_NNS like_IN I_PRP do_VBP ._. If_IN you_PRP have_VBP an_DT intense_JJ sweet_JJ tooth_JJ Please_NNP do_VBP n't_RB waste_VB your_PRP$ money_NN on_IN this_DT sampler_NN --_: you_PRP will_MD most_VB likely_JJ regret_NN it_PRP ._. The_DT best_JJS flavors_NNS really_RB are_VBP Deep_JJ Chocolate_NNP and_CC Golden_NNP Corn_NNP (_( if_IN you_PRP like_VBP southern_JJ cornbread_NN )_) ._. If_IN you_PRP are_VBP looking_VBG for_IN something_NN to_TO curb_VB your_PRP$ sweet_JJ tooth_JJ just_RB stick_NN to_TO Deep_NNP Chocolate_NNP (_( I_PRP believe_VBP it_PRP has_VBZ perfect_JJ reviews_NNS )_) Whew_VBP !_. I_PRP 've_VBP written_VBN alot_NN ,_, but_CC I_PRP hope_VBP this_DT helps_VBZ you_PRP guys_VBP to_TO make_VB a_DT better_JJR decision_NN ._. I_PRP decided_VBD to_TO make_VB my_PRP$ review_NN comprehensive_NN because_IN this_DT is_VBZ alot_NN of_IN cash_NN to_TO spend_VB on_IN small_JJ sweets_NNS ..._: Plus_CC ,_, when_WRB I_PRP was_VBD trying_VBG to_TO decide_VB whether_IN or_CC not_RB to_TO buy_VB these_DT I_PRP assumed_VBD the_DT posted_VBN reviews_NNS were_VBD helpful_JJ ,_, but_CC they_PRP really_RB were_VBD n't_RB (_( except_IN for_IN the_DT tips_NNS on_IN immediately_RB freezing_VBG them_PRP )_) ._. I_PRP ended_VBD up_RP only_RB actually_RB liking_VBG 5_CD flavors_NNS (_( deep_JJ chocolate_NN ,_, golden_JJ corn_NN ,_, double_JJ chocolate_NN dream_NN ,_, banana_NN nut_NN ,_, brownie_NN )_) ._. That_DT indubitably_RB means_VBZ that_IN I_PRP ``_`` wasted_VBD ''_'' 12_CD muffintops_NNS ..._: do_VBP n't_RB let_VB those_DT muffintops_NNS have_VBP been_VBN painfully_RB eaten_JJ and_CC picked_VBD over_IN in_IN vain_NN ..._: Good_JJ Luck_NNP with_IN choosing_VBG 100-calories_NNS snack_NN foods_NNS to_TO assist_VB you_PRP with_IN your_PRP$ healthy_JJ lifestyle_NN ._. *_JJ *_NNP *_NNP Last_JJ UPDATE_NNP Nov_NNP 3_CD ,_, 2009_CD *_NN *_NNP *_VBZ 11_CD ._. MultiBran_NN :_: (_( 1/5_CD )_) ._. I_PRP 'm_VBP writing_VBG this_DT well_NN after_IN eating_VBG the_DT ones_NNS above_IN ._. Its_PRP$ been_VBN in_IN the_DT freezer_NN for_IN about_RB 2_CD weeks_NNS now_RB so_RB I_PRP figured-_VBP what_WP the_DT heck_NN let_NN 's_POS get_VB it_PRP on_IN MultiBran_NNP ._. And_CC you_PRP guys_VBP --_: this_DT bran_NN taste_NN actually_RB grows_VBZ on_IN you_PRP aferwhile_VBP ..._: I_PRP 'll_MD still_RB give_VB it_PRP a_DT 1/5_CD ,_, but_CC I_PRP 'm_VBP so_RB used_VBN to_TO the_DT plain_NN watery_NN quaker_NN oats_NNS taste_VBP that_IN it_PRP does_VBZ n't_RB bother_VB me_PRP anymore_RB ._. I_PRP feel_VBP sorta_JJ bad_JJ for_IN coming_VBG down_RP so_RB hard_JJ on_IN the_DT bran_NN since_IN ,_, after_IN all_DT ,_, it_PRP is_VBZ very_RB good_JJ for_IN you_PRP ._. After_IN eating_VBG the_DT MultiBran_NNP --_: which_WDT I_PRP dubbed_VBD from_IN day_NN one_CD the_DT ``_`` king_NN of_IN the_DT muffintop_NN brans_NNS ''_'' I_PRP realize_VBP that_IN this_DT sampler_NN is_VBZ good_JJ for_IN those_DT who_WP are_VBP health_NN nuts_NNS and_CC are_VBP used_VBN to_TO these_DT plain_JJ flavors_NNS ._. I_PRP can_MD now_RB actually_RB see_VB why_WRB people_NNS give_VBP this_DT sampler_NN high_JJ ratings_NNS ,_, its_PRP$ because_IN they_PRP eat_VBP stuff_VBP like_IN this_DT all_DT day_NN long_RB and_CC so_RB to_TO them_PRP it_PRP really_RB is_VBZ good_JJ ,_, they_PRP 're_VBP probably_RB people_NNS who_WP arent_VBP that_WDT big_JJ on_IN sweets_NNS anyway_RB ,_, and_CC who_WP easily_RB have_VBP 36_CD bucks_NNS (_( ..._: )_) to_TO spend_VB on_IN 24_CD muffins_NNS ._. Like_IN I_PRP said_VBD I_PRP work_VBP from_IN home_NN so_IN its_PRP$ easy_NN for_IN me_PRP to_TO snack_VB all_DT day_NN ,_, but_CC just_RB from_IN me_PRP starting_VBG the_DT day_NN off_IN with_IN a_DT vitalicious_JJ muffin_NN (_( and_CC fruit_NN )_) I_PRP can_MD eat_VB less_JJR ..._: I_PRP consumed_VBD 1010_CD calories_NNS total_JJ yesterday.Now_NN that_IN I_PRP know_VBP what_WP I_PRP like_VBP and_CC dislike_VBP I_PRP would_MD n't_RB buy_VB this_DT sampler_NN again_RB ,_, but_CC if_IN you_PRP really_RB are_VBP curious_JJ on_IN your_PRP$ own_JJ how_WRB all_PDT these_DT flavors_NNS taste_VBP then_RB feel_VB free_JJ to_TO indulge_VB ._. I_PRP might_MD even_RB give_VB this_DT 3_CD stars_NNS ...._RB well_RB maybe_RB not_RB because_IN these_DT taste_NN really_RB are_VBP bland_NN ._. But_CC still_RB the_DT Vitalicious_NNP muffintops_NNS do_VBP assist_VB in_IN being_VBG able_JJ to_TO live_VB a_DT healthy_JJ lifestyle_NN and_CC thats_VB what_WP im_NN about_IN ._. I_PRP 'm_VBP not_RB ``_`` dieting_VBG ''_'' I_PRP 'm_VBP practicing_VBG a_DT healthy_JJ lifestyle_NN and_CC vitalicious_JJ will_MD take_VB you_PRP MUCH_RB further_RBR then_RB those_DT nabisco_NNS ,_, sunshine_NN ,_, and_CC keebler_VB 100_CD calorie_NN packs_NNS ._. Because_IN the_DT flavor_NN is_VBZ exactly_RB the_DT same_JJ I_PRP end_VBP up_RP eating_VBG the_DT whole_JJ box_NN of_IN those_DT tasty_JJ shortbread/oreos/chip_NN ahoys/cheezits_NNS in_IN one_CD day_NN ..._: sometimes_RB in_IN 2_CD sittings_NNS ...._RB but_CC you_PRP wouldnt_VBP have_VBP that_DT problem_NN with_IN these_DT ,_, its_PRP$ hard_JJ to_TO eat_VB more_JJR than_IN 2_CD even_RB though_IN they_PRP 're_VBP pretty_RB small_JJ ._. The_DT key_NN is_VBZ eating_VBG these_DT with_IN something_NN ,_, like_IN a_DT smoothie_NN or_CC some_DT fruit_NN and_CC water_NN ._. *_NN *_RBS IMPORTANT_NNP TIP_NNP *_NNP *_NN :_: :_: :_: :_: Before_IN buying_VBG these_DT I_PRP just_RB suggest_VBP you_PRP ask_VB yourself_PRP what_WP your_PRP$ main_JJ purpose_NN of_IN purchasing_VBG them_PRP are_VBP ._. Is_VBZ it_PRP to_TO explore_VB healthy_JJ snacks_NNS ?_. Is_VBZ it_PRP to_TO find_VB healthy_JJ breakfast_NN food_NN ?_. Is_VBZ it_PRP to_TO help_VB with_IN sweet_JJ cravings_NNS ?_. To_TO help_VB with_IN oversnacking_VBG ?_. To_TO find_VB good_JJ bran_NN flavored_VBN foods_NNS ?_. Mine_NN was_VBD to_TO find_VB healthy_JJ sweets_NNS ._. Something_VBG that_IN I_PRP liked_VBD that_DT was_VBD low_JJ in_IN calories_NNS ,_, had_VBD vitamins_NNS ,_, and_CC would_MD sufficiently_RB curb_VB my_PRP$ cravings_NNS for_IN candy_NN bars_NNS (_( lol_NN )_) ._. I_PRP love_VBP chocolate_NN and_CC I_PRP have_VBP sugar_VBN cravings_NNS ._. So_RB in_IN my_PRP$ case_NN I_PRP would_MD have_VB been_VBN better_JJR off_RP just_RB purchasing_VBG Deep_JJ Chocolate_NNP ._. Everyone_NN will_MD come_VB out_RP with_IN a_DT slightly_RB different_JJ conclusion_NN ,_, some_DT may_MD not_RB need_VB to_TO purchase_VB these_DT at_IN all.Also_NN it_PRP generally_RB helps_VBZ to_TO order_NN these_DT with_IN low_JJ (_( very_RB low_JJ )_) expectations_NNS ._. To_TO the_DT point_NN that_IN you_PRP 're_VBP almost_RB scared_VBN to_TO eat_VB it_PRP ,_, so_RB that_IN when_WRB you_PRP finally_RB do_VBP it_PRP 's_VBZ like_IN ,_, ``_`` hmmm_NN ?_. okay_NN ,_, wow_NN ,_, well_RB ..._: this_DT is_VBZ pretty_RB good_JJ ''_'' ._. lol.Good_NN Luck_NNP everyone_NN !_. PS-_NNP *_NNP *_VBZ The_DT prices_NNS on_IN these_DT vitatops_NNS are_VBP strange_JJ ,_, they_PRP fluctuate_VBP ..._: is_VBZ anyone_NN else_RB noticing_VBG this_DT ?_. I_PRP went_VBD ahead_RB and_CC ordered_VBD the_DT triple_JJ chocolate_NN chunk_NN yesterday_NN and_CC because_IN they_PRP were_VBD about_RB 26_CD bucks_NNS (_( ..._: )_) plus_CC free_JJ shipping_NN ._. Now_RB ,_, not_RB even_RB 12_CD hours_NNS later_RB ,_, they_PRP 're_VBP 32_CD ..._: what_WP happened_VBD ?_. Its_PRP$ as_IN if_IN the_DT price_NN of_IN the_DT chocolate_NN ones_NNS are_VBP going_VBG up_RP while_IN the_DT bran_NN is_VBZ lowering_VBG ..._: thats_NNS just_RB wrong_RB ._. You_PRP all_DT may_MD just_RB want_VB to_TO buy_VB from_IN your_PRP$ local_JJ store_NN ..._: Vitalicious_NNP Vitatops_NNP has_VBZ a_DT Facebook_NNP page_NN and_CC they_PRP seem_VBP to_TO answer_VB their_PRP$ fans_NNS pretty_RB quickly_RB ._. They_PRP say_VBP if_IN a_DT store_NN near_IN you_PRP does_VBZ n't_RB carry_VB their_PRP$ muffintops_NNS you_PRP can_MD put_VB in_IN a_DT request_NN at_IN the_DT store_NN and_CC Vitalicious_NNP will_MD be_VB sure_JJ to_TO get_VB them_PRP to_TO that_DT particular_JJ store_NN --_: -_: as_RB long_RB as_IN its_PRP$ one_NN that_WDT is_VBZ supposed_VBN to_TO carry_VB Vitatops_NNP ,_, like_IN Krogers_NNP ,_, Gristedes_NNP ,_, Food_NNP Emporium_NNP ,_, Whole_NNP Foods_NNP ,_, etc_FW ._. (_( check_VB their_PRP$ website_NN for_IN the_DT complete_JJ listing_NN )_) ._. \""
      ]
     },
     "execution_count": 233,
     "metadata": {},
     "output_type": "execute_result"
    }
   ],
   "source": [
    "pipe_pos(dfdataTrain[dfdataTrain.countSentences == dfdataTrain['countSentences'].max()].reviewText.values[0])"
   ]
  },
  {
   "cell_type": "code",
   "execution_count": 199,
   "id": "bf0c5e4a-dce2-4df4-aa0e-f4a52b0fc138",
   "metadata": {},
   "outputs": [
    {
     "data": {
      "text/plain": [
       "\"I am a sweet-aholic . That 's my main downfall when it come to eating healthy , that and portion control . I love chocolate and decided to one day google `` healthiest chocolate '' and stumbled across Vitalicious product . People were making them seem like they were the best thing on Earth -- `` taste just like regular muffin and brownie , but just healthy PLUS they could be walked off in 13 minute . '' All of that made me happy , and despite the huge pricetag I decided to purchase these baby anyway.To make my review more useful I 've decided to eat 1-2 daily and post my opinion on each flavor a I eat them ( so this will be updated until I review each flavor ) , and rate them out of 5 . ( To give you an idea of my `` sweet-tooth '' taste palette- I really really love chocolate , my favorite dessert are probably chocolate cake ( devil food ) with vanilla frosting , hot apple pie and vanilla ice cream , and brownie and ice cream . I love chocolate chip cooky , I 'm a fan of most candy bar , I enjoy pizza hut cinnamon stick and krispy kreme doughnut ( even though I do n't get to eat these thing anymore- I love them : - ) ) .CONTENTS of SUPER SAMPLER : 2 MultiBran , 2 BlueBran , 2 Banana Nut , 2 CranBran , 2 AppleBerry , 2 Golden Corn , 4 VitaBrownies , 2 Double Chocolate , 2 Double Chocolate Dream , 2 Chocolate Fig , 2 Fudgy Peanut Butter Chip.1 . Vitabrownies : ( 2/5 ) Taste more like a cake that wa made with apple sauce instead of oil and splenda instead of real sugar and egg white instead of the full egg . There 's a little sweetness there , but doe not compare in anyway to a real brownie . This is the first one I ate from the package ... when the FeDex truck came and dropped the package off I literally went straight to the kitchen opened the box took out one brownie and put the rest in the freezer . I ate a piece , then warmed the rest up for about 30 second . The brownie just wa n't that moist , there were section of moistness and it looked moist , but it just did n't hit the spot like I wanted . However , because of all the fiber it did leave me sorta full or satisfied afterwards ( I ate it with a bottle of water ) .2 . Banana Nut : ( 3/5 ) Banana nut is my favorite type of muffin and I deem this particuar vitalicious banana nut a a healthier version of a healthy banana nut muffin . Familiar taste and could curb a banana nut bread fanatic 's craving .. it okay.3 . Deep Chocolate : ( 5/5 ) This wa pretty good , I 'm sure it the best one of them all , but it still did n't hit the spot quite like I thought it would given the GREAT review everyone ha written . The section in the muffin top with the chocolate chip were the best b/c the chocolate chip are great , but there 's only like 4 chip in the whole muffin top . What I 'm fighuring now , after eating this one is that these are the type of food that you probably grow to love- like if you were determined to lose weight and/or eat right then you would just learn to love this and they would satisfy your craving for sweet especilly if you are n't a sweetaholic like me . Also the Deep Chocolate tasted more like a brownie than the Vitabrownies which I found surprising . * * * * ( Changed to 4.5/5 after eating for the second time , changed to 5/5 after eating these alot more ) 4 . Blueberry ( BlueBran ) : ( 1/5 ) You know the taste of plain oats- when you just add water . This is how this taste- with a teasppon of sugar in the mix . It 's plain , very plain and I honestly feel like I 'm just wasting calorie . As I sit here , eating this , writing to you guy I am now 100 % positive that these vitalicious product are meant for people with very mild sweet toothes who do n't really like sweet , but want something sweet and healthy every now and again . I would rather use 250 calorie and eat a real 3 Musketeers bar than to only use 100 and eat something that doesnt even taste good . This is my 2nd day and fourth muffin and I honestly want to send back the box . I can appreciate the nutrient in each item though , but hey that 's what Bolthouse Farms drink are for . I know it easier to make an extremely healthy tasty drink than it is to make a healthy tasty baked good , but I really thought that Vitalicious wa going to be the Bolthouse Farms of the sweets/chocolate world ... I wa so wrong.Though I planned to post the review after eating them all , I think I 'll post it now ( 10.15.09 ) because I honestly am just going to `` charge it to the game '' - meaning I wasted [ ... ] to taste test , but I 'll look at it a a sacrifice for others who are thinking about buying them . I will very randomly eat the rest ... and just add the review of their taste a I eat ( provided that i actually eat another one again ) . I am honestly just very disaapointed- I thought I wouldnt have to buy anything sweet for atleast 2 week , now I 'm somewhat going back to the drawing board.Conclusion : At 36 buck ( ... ) 1.50 ( ... ) per brownie/muffin top ) I think that it 's not worth it . For me , with my budget , I 'm better off buying the 100-calorie pack in the store and just leaving them in the car if I do n't think I can control myself to eat just one . Atleast with the 100-calorie pack you get 6 for about ( ... ) ( 0.67 per pack ) and if you have coupon you can get it or le than that . But again , I know that it hard to control yourself with the 100-calorie pack because they 're just so darn tasty .... Vitalicious product will definitely make it easier to exhibit self control since they 're fiber rich and not extremely tasty -- they 're more like `` just tasty enough '' . * * ( Please check my FINAL CONCLUSION at the bottom ) .Other random note : - I do not suggest buying this particular sampler , if you buy anything buy the chocolate sampler- the chocolate flavor are the best and will grow on you overtime- this ha happened to me . It 's still no Betty Crocker or Hershey 's chocolate , but it grows on you . The key is warming them up at exactly the right number of seconds.- I think these may be better to a person who love muffins- the texture the taste . I do love a great muffin , but I do n't eat them everyday for breakfast like some people . If you 're the kind of person that blow about 500-600 calorie on a muffin every morning than this is probably a more fitting healthy alternative for you.- I still do n't get how all their product are getting such high review , I guess the people who do n't like them are n't really saying much . Do n't get me wrong I do think this is a great product- all those vitamin and just 100 calories- ist great , but it 's great for someon who doe n't really eat a whole lot of sweet anyway not for someone who ha an extreme sweet tooth like me.- If for some reason these do begin to grow on me after a few more days/weeks , I promise to come back and tell you guy ... b/c this just may be one of the product that ha to grow on you.- I gave the product 2 star , but I really wanted to just give it 1 . But I figured the Vitalicious lover would be too mad at me if I gave their beloved product one . So I settled with two because of that and because they are filled with vitiamins and what not . * * UPDATE , UPDATE , UPDATE , UPDATE , UPDATE ( update below ) * * * * :5 . Fudgy Peanut Buter Chip : ( 2/5 ) This wa okay . The peanut butter taste wa watered down ... chocolate wa bland . There is nothing and I mean nothing `` fudgy '' about this.6 . Double Chocolate Dream : ( 4/5 ) . Ummmm , well , a I sit here eating this tasty chocolate treat , I 'm scratching my head trying to figure out- is this bland vitalicious chocolate growing on me -- or doe this one really taste good ? I took this out the freezer , warmed it up for 30 second , opened the microwave and it smelled like chocolate milk ... this wa interesting . Grabbed my smoothie , sat down and begin to eat .... and you guy , this is the best one so far . This actually taste like a box chocolate cake that you just added a little too much water into . Whatever they added in this one they need to do to the rest . Double Chocolate Dream will actually curb a chocolate craving.- I ate another Vitabrownie and guy after the 3rd one they 're beginning to grow on me . And you know what eating like 2-3 of these a day actually make you eat less- it weird . You 're just le hungry I 've been calculating my calorie and though I wa thinking I wa eating 1600 or so calorie a day . I 've actually been eating more like 800-1200 ( max ) and I think it the vitabrownies and muffin that are helping ... and all the protein I eat -- - like tuna and salmon . That combined with my smoothy and bolthouse farm drink and water.7 . Appleberry : ( 2/5 ) . I 'll say it again all of Vitalicious 's bran product taste like watered down oat with a drop of sugar . If you 're big on plain granola and plain oat and similar food then you 'll like them otherwise it very barely satisfies a sweet tooth . The apple smell is nice , I just wish it wa more present ... like I wish it had a apple-cinnamon type taste.8 . CranBran : ( 1/5 ) . ( read above review ) . Very plain taste . Can I give a 0/5 ? Is that fair ... Idk , these Brans probably deserve 0 out of 5.9 . Chocolate Fig : ( 2/5 ) . I 'm not big on fig , and actually I feel like chewy snack in breaded/crunchy sweet are unnecessary- like raisin . So since I had to remove the fig , this wa n't my favorite . The chocolate wa okay ... sort of bland because there 's no chocolate chip to make it moist . ( meant for those who can enjoy both chocolate and fig newton ) - I ate another Deep Chocolate ... and mm mmm good ! The Vitalicious chocolate taste is growing on me . I think these may taste better after frozen for 2 or more day then warmed up at 30 second . Deep Chocolate just may be better than Double Chocolate Dream ... it may deserve a 4/5 , hmmm.- I have suggestion for Vitalicious ... put more chocolate chip in the VitaBrownie , also create an Apple-Cinnamon flavor and a Carrot Cake type flavor.- You guy I 'm so scared to taste the Golden Corn and Multi-Gran because I 'm sure I wo n't like it . I have 2 of each of those left , a CranBran BlueberryBran , AppleBerry , and Chocolate Fig . Thats about 8 x 1.50 going to waste . 12 buck ( ( ... ) - that could have went towards atleast 3 box of 100 calorie snack or 3 bolthouse farm drink or 2-3 day worth of quiznos ) . I 'll still come back and review the others later , but I now feel I can make a 100 % call on Vitalicious muffin and brownie ... here 's my final conclusion ... 10 . Golden Corn : ( 4/5 ) . Sooooo , I 'm sitting here , drinking my hot mint green tea and delicately chowing down on this Golden Corn vitamuffin , and people this is darn good ! When I took the first bite I thought to myself , `` Duuuh , it called golden corn so it suppose to taste like cornbread ! `` . And this healthy piece of corn bread is much better than most -- it taste like a healthy gourmet version of Jiffy cornbread . It is sooo good , I 'm not sure if everyone will have this same reaction , but if you 're a fan of sweet cornbread then you definitely will . This is perfect for those of you who have given up your fried chicken for grilled chicken and your buttery mash potato for plain baked potato -- it the perfect addition to your meal . And honestly it good just eaten a a midday or midnight snack . 100 calorie , 0 fat , lot of fiber and vitamins- it ca n't get any better . This out of all the other flavor taste the most like what it supposed to be , meaning : you could blindfold someone and put 5-6 different cornbread in front of them and they would not guess this to be the healthiest and that 's why I 'm giving it a 4.5/5 . -- -Okay so after eating this again , I still love it , but I feel like I overdid the review , I think I first ate it when I wa pretty hungry and craving sweetness . On the second go round it wa still really good but more like a 4/5 . * * * FINAL CONCLUSION * * * : Run like heck from all Vitalicious Bran-flavored product , they taste like plain quaker oat with too much water and a teaspoon of sugar with bit of warm fruit scattered throughout . They 're only for those who delight in bran flavor . Appleberry is decent , pretty good even , if you really like apple and berry flavored bread and muffin . The Banana Nut is the best replica muffin in my opinion , it tasty and can be looked at a a light version of a banana nut muffin . Golden Corn ( sigh ) is delicious . It taste just like the sweet cornbread most southerner look forward to at Sunday Dinner meal ( with a slightly lighter taste and all with the added benefit of it being healthy ) .The chocolate grows on you overtime . The first 2 time you eat one of the chocolate flavor , you 'll be sad and wondering why you spent so much money , but then by day 3 and your 3rd or 4th Deep Chocolate or Double Chocolate Dream you 'll be happy . And a part of that happiness will be because you are unintentionally and unnoticeably eating le ( because of the fiber you 'll stay fuller longer ) .I work from home so it very easy for me to snack snack snack all day , but with a little self-control and the chocolate Vitalicious muffintop it will be easy to control snacking . If I could find it in my heart to spend another ( ... ) on 24 snack cake I would EASILY order a box of Deep ChocolateVitalicious Deep Chocolate Vita Tops , 2-Ounce Units ( Pack of 24 ) . I can safely say that this will satisfy a chocoholics need for chocolate ... just use them a your once a day daily treat . If they 're frozen warm it up for 30 second . If it room-temperature try 15 second . You will most likely not like it the first time , but it grows on you.Besides Deep Chocolate the only other Vitalicious muffintops that I would reccomend trying out are : Golden Corn , Double Chocolate Dream , and Triple Chocolate Chunk , and maybe Vitabrownies- and that 's only if you 're a big fan of nut , otherwise stick to the muffintops they taste more like brownies.I just want to repeat the fact that I do n't know why these are getting such overall high review ... I 'm guessing it because some people from their company are the one writing them ( lol ) or the people who are writing review do n't have INTENSE sweet craving like I do . If you have an intense sweet tooth Please do n't waste your money on this sampler -- you will most likely regret it . The best flavor really are Deep Chocolate and Golden Corn ( if you like southern cornbread ) . If you are looking for something to curb your sweet tooth just stick to Deep Chocolate ( I believe it ha perfect review ) Whew ! I 've written alot , but I hope this help you guy to make a better decision . I decided to make my review comprehensive because this is alot of cash to spend on small sweet ... Plus , when I wa trying to decide whether or not to buy these I assumed the posted review were helpful , but they really were n't ( except for the tip on immediately freezing them ) . I ended up only actually liking 5 flavor ( deep chocolate , golden corn , double chocolate dream , banana nut , brownie ) . That indubitably mean that I `` wasted '' 12 muffintops ... do n't let those muffintops have been painfully eaten and picked over in vain ... Good Luck with choosing 100-calories snack food to assist you with your healthy lifestyle . * * * Last UPDATE Nov 3 , 2009 * * * 11 . MultiBran : ( 1/5 ) . I 'm writing this well after eating the one above . Its been in the freezer for about 2 week now so I figured- what the heck let 's get it on MultiBran . And you guy -- this bran taste actually grows on you aferwhile ... I 'll still give it a 1/5 , but I 'm so used to the plain watery quaker oat taste that it doe n't bother me anymore . I feel sorta bad for coming down so hard on the bran since , after all , it is very good for you . After eating the MultiBran -- which I dubbed from day one the `` king of the muffintop bran '' I realize that this sampler is good for those who are health nut and are used to these plain flavor . I can now actually see why people give this sampler high rating , it because they eat stuff like this all day long and so to them it really is good , they 're probably people who arent that big on sweet anyway , and who easily have 36 buck ( ... ) to spend on 24 muffin . Like I said I work from home so it easy for me to snack all day , but just from me starting the day off with a vitalicious muffin ( and fruit ) I can eat le ... I consumed 1010 calorie total yesterday.Now that I know what I like and dislike I would n't buy this sampler again , but if you really are curious on your own how all these flavor taste then feel free to indulge . I might even give this 3 star .... well maybe not because these taste really are bland . But still the Vitalicious muffintops do assist in being able to live a healthy lifestyle and thats what im about . I 'm not `` dieting '' I 'm practicing a healthy lifestyle and vitalicious will take you MUCH further then those nabisco , sunshine , and keebler 100 calorie pack . Because the flavor is exactly the same I end up eating the whole box of those tasty shortbread/oreos/chip ahoys/cheezits in one day ... sometimes in 2 sitting .... but you wouldnt have that problem with these , it hard to eat more than 2 even though they 're pretty small . The key is eating these with something , like a smoothie or some fruit and water . * * IMPORTANT TIP * * : : : : Before buying these I just suggest you ask yourself what your main purpose of purchasing them are . Is it to explore healthy snack ? Is it to find healthy breakfast food ? Is it to help with sweet craving ? To help with oversnacking ? To find good bran flavored food ? Mine wa to find healthy sweet . Something that I liked that wa low in calorie , had vitamin , and would sufficiently curb my craving for candy bar ( lol ) . I love chocolate and I have sugar craving . So in my case I would have been better off just purchasing Deep Chocolate . Everyone will come out with a slightly different conclusion , some may not need to purchase these at all.Also it generally help to order these with low ( very low ) expectation . To the point that you 're almost scared to eat it , so that when you finally do it 's like , `` hmmm ? okay , wow , well ... this is pretty good '' . lol.Good Luck everyone ! PS- * * The price on these vitatops are strange , they fluctuate ... is anyone else noticing this ? I went ahead and ordered the triple chocolate chunk yesterday and because they were about 26 buck ( ... ) plus free shipping . Now , not even 12 hour later , they 're 32 ... what happened ? Its a if the price of the chocolate one are going up while the bran is lowering ... thats just wrong . You all may just want to buy from your local store ... Vitalicious Vitatops ha a Facebook page and they seem to answer their fan pretty quickly . They say if a store near you doe n't carry their muffintops you can put in a request at the store and Vitalicious will be sure to get them to that particular store -- - a long a it one that is supposed to carry Vitatops , like Krogers , Gristedes , Food Emporium , Whole Foods , etc . ( check their website for the complete listing ) . \""
      ]
     },
     "execution_count": 199,
     "metadata": {},
     "output_type": "execute_result"
    }
   ],
   "source": [
    "lemmatization(dfdataTrain[dfdataTrain.countSentences == dfdataTrain['countSentences'].max()].reviewText.values[0])"
   ]
  },
  {
   "cell_type": "code",
   "execution_count": 191,
   "id": "11272f4f-a5e1-4dfd-8e42-e8d35b8e9bb6",
   "metadata": {},
   "outputs": [
    {
     "data": {
      "text/plain": [
       "[1,\n",
       " 2,\n",
       " 2,\n",
       " 3,\n",
       " 3,\n",
       " 3,\n",
       " 4,\n",
       " 4,\n",
       " 4,\n",
       " 4,\n",
       " 5,\n",
       " 5,\n",
       " 5,\n",
       " 5,\n",
       " 5,\n",
       " 6,\n",
       " 6,\n",
       " 6,\n",
       " 6,\n",
       " 6,\n",
       " 6,\n",
       " 7,\n",
       " 7,\n",
       " 7,\n",
       " 7,\n",
       " 7,\n",
       " 7,\n",
       " 7,\n",
       " 8,\n",
       " 8,\n",
       " 8,\n",
       " 8,\n",
       " 8,\n",
       " 8,\n",
       " 8,\n",
       " 8,\n",
       " 9,\n",
       " 9,\n",
       " 9,\n",
       " 9,\n",
       " 9,\n",
       " 9,\n",
       " 9,\n",
       " 9,\n",
       " 9]"
      ]
     },
     "execution_count": 191,
     "metadata": {},
     "output_type": "execute_result"
    }
   ],
   "source": [
    "[i for i in list(range(10)) for x in range(i)]"
   ]
  },
  {
   "cell_type": "code",
   "execution_count": null,
   "id": "497def80-86e1-4dc7-afb1-e7ec9cfd061b",
   "metadata": {},
   "outputs": [],
   "source": []
  }
 ],
 "metadata": {
  "kernelspec": {
   "display_name": "env",
   "language": "python",
   "name": "env"
  },
  "language_info": {
   "codemirror_mode": {
    "name": "ipython",
    "version": 3
   },
   "file_extension": ".py",
   "mimetype": "text/x-python",
   "name": "python",
   "nbconvert_exporter": "python",
   "pygments_lexer": "ipython3",
   "version": "3.10.5"
  }
 },
 "nbformat": 4,
 "nbformat_minor": 5
}
