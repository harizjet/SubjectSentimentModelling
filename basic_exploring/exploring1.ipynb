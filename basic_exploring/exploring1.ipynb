{
 "cells": [
  {
   "cell_type": "code",
   "execution_count": 2,
   "id": "a86e82b7-3426-409b-bcf3-d28c859d5be2",
   "metadata": {},
   "outputs": [],
   "source": [
    "import pandas as pd"
   ]
  },
  {
   "cell_type": "code",
   "execution_count": 244,
   "id": "c2e948aa-8075-4ddc-89a3-7f629428daca",
   "metadata": {},
   "outputs": [],
   "source": [
    "df = pd.read_json('../data/Amazon_GroceryandGourmetFood.json', lines=True)"
   ]
  },
  {
   "cell_type": "code",
   "execution_count": 245,
   "id": "de2b9168-ae74-4c5f-b9f0-7866c920b4e7",
   "metadata": {},
   "outputs": [
    {
     "data": {
      "text/html": [
       "<div>\n",
       "<style scoped>\n",
       "    .dataframe tbody tr th:only-of-type {\n",
       "        vertical-align: middle;\n",
       "    }\n",
       "\n",
       "    .dataframe tbody tr th {\n",
       "        vertical-align: top;\n",
       "    }\n",
       "\n",
       "    .dataframe thead th {\n",
       "        text-align: right;\n",
       "    }\n",
       "</style>\n",
       "<table border=\"1\" class=\"dataframe\">\n",
       "  <thead>\n",
       "    <tr style=\"text-align: right;\">\n",
       "      <th></th>\n",
       "      <th>reviewerID</th>\n",
       "      <th>asin</th>\n",
       "      <th>reviewerName</th>\n",
       "      <th>helpful</th>\n",
       "      <th>reviewText</th>\n",
       "      <th>overall</th>\n",
       "      <th>summary</th>\n",
       "      <th>unixReviewTime</th>\n",
       "      <th>reviewTime</th>\n",
       "    </tr>\n",
       "  </thead>\n",
       "  <tbody>\n",
       "    <tr>\n",
       "      <th>0</th>\n",
       "      <td>A1VEELTKS8NLZB</td>\n",
       "      <td>616719923X</td>\n",
       "      <td>Amazon Customer</td>\n",
       "      <td>[0, 0]</td>\n",
       "      <td>Just another flavor of Kit Kat but the taste i...</td>\n",
       "      <td>4</td>\n",
       "      <td>Good Taste</td>\n",
       "      <td>1370044800</td>\n",
       "      <td>06 1, 2013</td>\n",
       "    </tr>\n",
       "    <tr>\n",
       "      <th>1</th>\n",
       "      <td>A14R9XMZVJ6INB</td>\n",
       "      <td>616719923X</td>\n",
       "      <td>amf0001</td>\n",
       "      <td>[0, 1]</td>\n",
       "      <td>I bought this on impulse and it comes from Jap...</td>\n",
       "      <td>3</td>\n",
       "      <td>3.5 stars,  sadly not as wonderful as I had hoped</td>\n",
       "      <td>1400457600</td>\n",
       "      <td>05 19, 2014</td>\n",
       "    </tr>\n",
       "    <tr>\n",
       "      <th>2</th>\n",
       "      <td>A27IQHDZFQFNGG</td>\n",
       "      <td>616719923X</td>\n",
       "      <td>Caitlin</td>\n",
       "      <td>[3, 4]</td>\n",
       "      <td>Really good. Great gift for any fan of green t...</td>\n",
       "      <td>4</td>\n",
       "      <td>Yum!</td>\n",
       "      <td>1381190400</td>\n",
       "      <td>10 8, 2013</td>\n",
       "    </tr>\n",
       "    <tr>\n",
       "      <th>3</th>\n",
       "      <td>A31QY5TASILE89</td>\n",
       "      <td>616719923X</td>\n",
       "      <td>DebraDownSth</td>\n",
       "      <td>[0, 0]</td>\n",
       "      <td>I had never had it before, was curious to see ...</td>\n",
       "      <td>5</td>\n",
       "      <td>Unexpected flavor meld</td>\n",
       "      <td>1369008000</td>\n",
       "      <td>05 20, 2013</td>\n",
       "    </tr>\n",
       "    <tr>\n",
       "      <th>4</th>\n",
       "      <td>A2LWK003FFMCI5</td>\n",
       "      <td>616719923X</td>\n",
       "      <td>Diana X.</td>\n",
       "      <td>[1, 2]</td>\n",
       "      <td>I've been looking forward to trying these afte...</td>\n",
       "      <td>4</td>\n",
       "      <td>Not a very strong tea flavor, but still yummy ...</td>\n",
       "      <td>1369526400</td>\n",
       "      <td>05 26, 2013</td>\n",
       "    </tr>\n",
       "  </tbody>\n",
       "</table>\n",
       "</div>"
      ],
      "text/plain": [
       "       reviewerID        asin     reviewerName helpful  \\\n",
       "0  A1VEELTKS8NLZB  616719923X  Amazon Customer  [0, 0]   \n",
       "1  A14R9XMZVJ6INB  616719923X          amf0001  [0, 1]   \n",
       "2  A27IQHDZFQFNGG  616719923X          Caitlin  [3, 4]   \n",
       "3  A31QY5TASILE89  616719923X     DebraDownSth  [0, 0]   \n",
       "4  A2LWK003FFMCI5  616719923X         Diana X.  [1, 2]   \n",
       "\n",
       "                                          reviewText  overall  \\\n",
       "0  Just another flavor of Kit Kat but the taste i...        4   \n",
       "1  I bought this on impulse and it comes from Jap...        3   \n",
       "2  Really good. Great gift for any fan of green t...        4   \n",
       "3  I had never had it before, was curious to see ...        5   \n",
       "4  I've been looking forward to trying these afte...        4   \n",
       "\n",
       "                                             summary  unixReviewTime  \\\n",
       "0                                         Good Taste      1370044800   \n",
       "1  3.5 stars,  sadly not as wonderful as I had hoped      1400457600   \n",
       "2                                               Yum!      1381190400   \n",
       "3                             Unexpected flavor meld      1369008000   \n",
       "4  Not a very strong tea flavor, but still yummy ...      1369526400   \n",
       "\n",
       "    reviewTime  \n",
       "0   06 1, 2013  \n",
       "1  05 19, 2014  \n",
       "2   10 8, 2013  \n",
       "3  05 20, 2013  \n",
       "4  05 26, 2013  "
      ]
     },
     "execution_count": 245,
     "metadata": {},
     "output_type": "execute_result"
    }
   ],
   "source": [
    "df.head()"
   ]
  },
  {
   "cell_type": "code",
   "execution_count": 246,
   "id": "ed869920-4de0-4a4f-a288-6dfd66015631",
   "metadata": {},
   "outputs": [
    {
     "data": {
      "text/html": [
       "<div>\n",
       "<style scoped>\n",
       "    .dataframe tbody tr th:only-of-type {\n",
       "        vertical-align: middle;\n",
       "    }\n",
       "\n",
       "    .dataframe tbody tr th {\n",
       "        vertical-align: top;\n",
       "    }\n",
       "\n",
       "    .dataframe thead th {\n",
       "        text-align: right;\n",
       "    }\n",
       "</style>\n",
       "<table border=\"1\" class=\"dataframe\">\n",
       "  <thead>\n",
       "    <tr style=\"text-align: right;\">\n",
       "      <th></th>\n",
       "      <th>reviewerID</th>\n",
       "      <th>asin</th>\n",
       "      <th>reviewerName</th>\n",
       "      <th>helpful</th>\n",
       "      <th>reviewText</th>\n",
       "      <th>overall</th>\n",
       "      <th>summary</th>\n",
       "      <th>unixReviewTime</th>\n",
       "      <th>reviewTime</th>\n",
       "    </tr>\n",
       "  </thead>\n",
       "  <tbody>\n",
       "    <tr>\n",
       "      <th>151249</th>\n",
       "      <td>A2L6QS8SVHT9RG</td>\n",
       "      <td>B00KCJRVO2</td>\n",
       "      <td>randomartco \"period film aficionado\"</td>\n",
       "      <td>[0, 0]</td>\n",
       "      <td>Delicious gluten-free oatmeal: we tried both t...</td>\n",
       "      <td>4</td>\n",
       "      <td>Delicious gluten-free oatmeal 'quick' packs!</td>\n",
       "      <td>1405123200</td>\n",
       "      <td>07 12, 2014</td>\n",
       "    </tr>\n",
       "    <tr>\n",
       "      <th>151250</th>\n",
       "      <td>AFJFXN42RZ3G2</td>\n",
       "      <td>B00KCJRVO2</td>\n",
       "      <td>R. DelParto \"Rose2\"</td>\n",
       "      <td>[0, 0]</td>\n",
       "      <td>With the many selections of instant oatmeal ce...</td>\n",
       "      <td>4</td>\n",
       "      <td>Convenient and Instant</td>\n",
       "      <td>1404604800</td>\n",
       "      <td>07 6, 2014</td>\n",
       "    </tr>\n",
       "    <tr>\n",
       "      <th>151251</th>\n",
       "      <td>ASEBX8TBYWQWA</td>\n",
       "      <td>B00KCJRVO2</td>\n",
       "      <td>Steven I. Ramm \"Steve Ramm &amp;#34;Anything Phon...</td>\n",
       "      <td>[1, 1]</td>\n",
       "      <td>While I usually review CDs and DVDs, as well a...</td>\n",
       "      <td>5</td>\n",
       "      <td>Compares favorably in taste and texture with o...</td>\n",
       "      <td>1404172800</td>\n",
       "      <td>07 1, 2014</td>\n",
       "    </tr>\n",
       "    <tr>\n",
       "      <th>151252</th>\n",
       "      <td>ANKQGTXHREOI5</td>\n",
       "      <td>B00KCJRVO2</td>\n",
       "      <td>Titanium Lili</td>\n",
       "      <td>[0, 1]</td>\n",
       "      <td>My son and I enjoyed these oatmeal packets.  H...</td>\n",
       "      <td>4</td>\n",
       "      <td>Pretty good!</td>\n",
       "      <td>1404432000</td>\n",
       "      <td>07 4, 2014</td>\n",
       "    </tr>\n",
       "    <tr>\n",
       "      <th>151253</th>\n",
       "      <td>A2CF66KIQ3RKX3</td>\n",
       "      <td>B00KCJRVO2</td>\n",
       "      <td>Vivian Deliz</td>\n",
       "      <td>[0, 0]</td>\n",
       "      <td>I like to eat oatmeal i the mornings. I usuall...</td>\n",
       "      <td>4</td>\n",
       "      <td>I like to eat oatmeal i the mornings</td>\n",
       "      <td>1405036800</td>\n",
       "      <td>07 11, 2014</td>\n",
       "    </tr>\n",
       "  </tbody>\n",
       "</table>\n",
       "</div>"
      ],
      "text/plain": [
       "            reviewerID        asin  \\\n",
       "151249  A2L6QS8SVHT9RG  B00KCJRVO2   \n",
       "151250   AFJFXN42RZ3G2  B00KCJRVO2   \n",
       "151251   ASEBX8TBYWQWA  B00KCJRVO2   \n",
       "151252   ANKQGTXHREOI5  B00KCJRVO2   \n",
       "151253  A2CF66KIQ3RKX3  B00KCJRVO2   \n",
       "\n",
       "                                            reviewerName helpful  \\\n",
       "151249              randomartco \"period film aficionado\"  [0, 0]   \n",
       "151250                               R. DelParto \"Rose2\"  [0, 0]   \n",
       "151251  Steven I. Ramm \"Steve Ramm &#34;Anything Phon...  [1, 1]   \n",
       "151252                                     Titanium Lili  [0, 1]   \n",
       "151253                                      Vivian Deliz  [0, 0]   \n",
       "\n",
       "                                               reviewText  overall  \\\n",
       "151249  Delicious gluten-free oatmeal: we tried both t...        4   \n",
       "151250  With the many selections of instant oatmeal ce...        4   \n",
       "151251  While I usually review CDs and DVDs, as well a...        5   \n",
       "151252  My son and I enjoyed these oatmeal packets.  H...        4   \n",
       "151253  I like to eat oatmeal i the mornings. I usuall...        4   \n",
       "\n",
       "                                                  summary  unixReviewTime  \\\n",
       "151249       Delicious gluten-free oatmeal 'quick' packs!      1405123200   \n",
       "151250                             Convenient and Instant      1404604800   \n",
       "151251  Compares favorably in taste and texture with o...      1404172800   \n",
       "151252                                       Pretty good!      1404432000   \n",
       "151253               I like to eat oatmeal i the mornings      1405036800   \n",
       "\n",
       "         reviewTime  \n",
       "151249  07 12, 2014  \n",
       "151250   07 6, 2014  \n",
       "151251   07 1, 2014  \n",
       "151252   07 4, 2014  \n",
       "151253  07 11, 2014  "
      ]
     },
     "execution_count": 246,
     "metadata": {},
     "output_type": "execute_result"
    }
   ],
   "source": [
    "df.tail()"
   ]
  },
  {
   "cell_type": "code",
   "execution_count": 6,
   "id": "455dac2e-970f-465e-9088-17a0b13aa24a",
   "metadata": {},
   "outputs": [
    {
     "data": {
      "text/plain": [
       "'The coffee does have a production date and best/use by date. Maybe I am the only one, but my purchase came back as quite close to the use by date, so just be careful. The coffee is good.'"
      ]
     },
     "execution_count": 6,
     "metadata": {},
     "output_type": "execute_result"
    }
   ],
   "source": [
    "df.iloc[99,:].reviewText"
   ]
  },
  {
   "cell_type": "code",
   "execution_count": 7,
   "id": "7506e825-d86e-418b-a186-a7c781f0367f",
   "metadata": {},
   "outputs": [
    {
     "data": {
      "text/html": [
       "<div>\n",
       "<style scoped>\n",
       "    .dataframe tbody tr th:only-of-type {\n",
       "        vertical-align: middle;\n",
       "    }\n",
       "\n",
       "    .dataframe tbody tr th {\n",
       "        vertical-align: top;\n",
       "    }\n",
       "\n",
       "    .dataframe thead th {\n",
       "        text-align: right;\n",
       "    }\n",
       "</style>\n",
       "<table border=\"1\" class=\"dataframe\">\n",
       "  <thead>\n",
       "    <tr style=\"text-align: right;\">\n",
       "      <th></th>\n",
       "      <th>reviewText</th>\n",
       "      <th>overall</th>\n",
       "    </tr>\n",
       "  </thead>\n",
       "  <tbody>\n",
       "    <tr>\n",
       "      <th>0</th>\n",
       "      <td>Just another flavor of Kit Kat but the taste i...</td>\n",
       "      <td>4</td>\n",
       "    </tr>\n",
       "    <tr>\n",
       "      <th>1</th>\n",
       "      <td>I bought this on impulse and it comes from Jap...</td>\n",
       "      <td>3</td>\n",
       "    </tr>\n",
       "    <tr>\n",
       "      <th>2</th>\n",
       "      <td>Really good. Great gift for any fan of green t...</td>\n",
       "      <td>4</td>\n",
       "    </tr>\n",
       "    <tr>\n",
       "      <th>3</th>\n",
       "      <td>I had never had it before, was curious to see ...</td>\n",
       "      <td>5</td>\n",
       "    </tr>\n",
       "    <tr>\n",
       "      <th>4</th>\n",
       "      <td>I've been looking forward to trying these afte...</td>\n",
       "      <td>4</td>\n",
       "    </tr>\n",
       "    <tr>\n",
       "      <th>...</th>\n",
       "      <td>...</td>\n",
       "      <td>...</td>\n",
       "    </tr>\n",
       "    <tr>\n",
       "      <th>151249</th>\n",
       "      <td>Delicious gluten-free oatmeal: we tried both t...</td>\n",
       "      <td>4</td>\n",
       "    </tr>\n",
       "    <tr>\n",
       "      <th>151250</th>\n",
       "      <td>With the many selections of instant oatmeal ce...</td>\n",
       "      <td>4</td>\n",
       "    </tr>\n",
       "    <tr>\n",
       "      <th>151251</th>\n",
       "      <td>While I usually review CDs and DVDs, as well a...</td>\n",
       "      <td>5</td>\n",
       "    </tr>\n",
       "    <tr>\n",
       "      <th>151252</th>\n",
       "      <td>My son and I enjoyed these oatmeal packets.  H...</td>\n",
       "      <td>4</td>\n",
       "    </tr>\n",
       "    <tr>\n",
       "      <th>151253</th>\n",
       "      <td>I like to eat oatmeal i the mornings. I usuall...</td>\n",
       "      <td>4</td>\n",
       "    </tr>\n",
       "  </tbody>\n",
       "</table>\n",
       "<p>151254 rows × 2 columns</p>\n",
       "</div>"
      ],
      "text/plain": [
       "                                               reviewText  overall\n",
       "0       Just another flavor of Kit Kat but the taste i...        4\n",
       "1       I bought this on impulse and it comes from Jap...        3\n",
       "2       Really good. Great gift for any fan of green t...        4\n",
       "3       I had never had it before, was curious to see ...        5\n",
       "4       I've been looking forward to trying these afte...        4\n",
       "...                                                   ...      ...\n",
       "151249  Delicious gluten-free oatmeal: we tried both t...        4\n",
       "151250  With the many selections of instant oatmeal ce...        4\n",
       "151251  While I usually review CDs and DVDs, as well a...        5\n",
       "151252  My son and I enjoyed these oatmeal packets.  H...        4\n",
       "151253  I like to eat oatmeal i the mornings. I usuall...        4\n",
       "\n",
       "[151254 rows x 2 columns]"
      ]
     },
     "execution_count": 7,
     "metadata": {},
     "output_type": "execute_result"
    }
   ],
   "source": [
    "dfdata = df[['reviewText', 'overall']]\n",
    "dfdata"
   ]
  },
  {
   "cell_type": "code",
   "execution_count": 8,
   "id": "e7b75719-2f10-476d-a40f-6a937a40e872",
   "metadata": {},
   "outputs": [
    {
     "name": "stderr",
     "output_type": "stream",
     "text": [
      "D:\\Dropbox\\Academics\\Master (Msc)\\MSC AI\\Sem 2\\Machine Learning\\Assignment\\Mini Project\\SubjectSentimentModelling\\env\\lib\\site-packages\\seaborn\\_decorators.py:36: FutureWarning: Pass the following variable as a keyword arg: x. From version 0.12, the only valid positional argument will be `data`, and passing other arguments without an explicit keyword will result in an error or misinterpretation.\n",
      "  warnings.warn(\n"
     ]
    },
    {
     "data": {
      "text/plain": [
       "<AxesSubplot:xlabel='overall'>"
      ]
     },
     "execution_count": 8,
     "metadata": {},
     "output_type": "execute_result"
    },
    {
     "data": {
      "image/png": "[encoded data removed]",
      "text/plain": [
       "<Figure size 432x288 with 1 Axes>"
      ]
     },
     "metadata": {
      "needs_background": "light"
     },
     "output_type": "display_data"
    }
   ],
   "source": [
    "import seaborn as sns\n",
    "sns.boxplot(dfdata['overall'])"
   ]
  },
  {
   "cell_type": "code",
   "execution_count": 9,
   "id": "e11a753d-58f8-42e9-92ab-3d93cc005f1f",
   "metadata": {},
   "outputs": [
    {
     "data": {
      "text/plain": [
       "<AxesSubplot:xlabel='overall', ylabel='Count'>"
      ]
     },
     "execution_count": 9,
     "metadata": {},
     "output_type": "execute_result"
    },
    {
     "data": {
      "image/png": "[encoded data removed]",
      "text/plain": [
       "<Figure size 432x288 with 1 Axes>"
      ]
     },
     "metadata": {
      "needs_background": "light"
     },
     "output_type": "display_data"
    }
   ],
   "source": [
    "import seaborn as sns\n",
    "sns.histplot(dfdata['overall'])"
   ]
  },
  {
   "cell_type": "code",
   "execution_count": 15,
   "id": "cab47f61-fc15-4327-b518-f05a14c7199b",
   "metadata": {},
   "outputs": [],
   "source": [
    "import matplotlib.pyplot as plt"
   ]
  },
  {
   "cell_type": "code",
   "execution_count": 16,
   "id": "c4ada34e-ba1c-4741-ab71-a47b54690a50",
   "metadata": {},
   "outputs": [],
   "source": [
    "from sklearn.model_selection import train_test_split\n",
    "dfdataTrain, dfdataTest = train_test_split(dfdata, test_size=0.05, stratify=dfdata['overall'])"
   ]
  },
  {
   "cell_type": "code",
   "execution_count": 17,
   "id": "868a6c02-cfcd-474e-bc47-b01c14cb7d07",
   "metadata": {},
   "outputs": [
    {
     "name": "stderr",
     "output_type": "stream",
     "text": [
      "D:\\Dropbox\\Academics\\Master (Msc)\\MSC AI\\Sem 2\\Machine Learning\\Assignment\\Mini Project\\SubjectSentimentModelling\\env\\lib\\site-packages\\seaborn\\_decorators.py:36: FutureWarning: Pass the following variable as a keyword arg: x. From version 0.12, the only valid positional argument will be `data`, and passing other arguments without an explicit keyword will result in an error or misinterpretation.\n",
      "  warnings.warn(\n",
      "D:\\Dropbox\\Academics\\Master (Msc)\\MSC AI\\Sem 2\\Machine Learning\\Assignment\\Mini Project\\SubjectSentimentModelling\\env\\lib\\site-packages\\seaborn\\_decorators.py:36: FutureWarning: Pass the following variable as a keyword arg: x. From version 0.12, the only valid positional argument will be `data`, and passing other arguments without an explicit keyword will result in an error or misinterpretation.\n",
      "  warnings.warn(\n"
     ]
    },
    {
     "data": {
      "image/png": "[encoded data removed]",
      "text/plain": [
       "<Figure size 1080x864 with 4 Axes>"
      ]
     },
     "metadata": {
      "needs_background": "light"
     },
     "output_type": "display_data"
    }
   ],
   "source": [
    "fix, axe = plt.subplots(figsize=(15, 12), nrows=2, ncols=2)\n",
    "sns.histplot(dfdataTrain['overall'], ax=axe[0, 0])\n",
    "axe[0, 0].set_title(\"dfdataTrain\")\n",
    "sns.histplot(dfdataTest['overall'], ax=axe[0, 1])\n",
    "axe[0, 1].set_title(\"dfdataTest\")\n",
    "sns.boxplot(dfdataTrain['overall'], ax=axe[1, 0])\n",
    "axe[1, 0].set_title(\"dfdataTrain\")\n",
    "sns.boxplot(dfdataTest['overall'], ax=axe[1, 1])\n",
    "axe[1, 1].set_title(\"dfdataTest\")\n",
    "plt.show();"
   ]
  },
  {
   "cell_type": "code",
   "execution_count": 18,
   "id": "f6dc2078-2b4a-4049-a3db-29fa4bf44a5b",
   "metadata": {},
   "outputs": [
    {
     "data": {
      "text/plain": [
       "(143691, 2)"
      ]
     },
     "execution_count": 18,
     "metadata": {},
     "output_type": "execute_result"
    }
   ],
   "source": [
    "dfdataTrain.shape"
   ]
  },
  {
   "cell_type": "code",
   "execution_count": 19,
   "id": "8de3b3e7-1089-41c0-ace6-2e7e27bf154c",
   "metadata": {},
   "outputs": [
    {
     "data": {
      "text/plain": [
       "(7563, 2)"
      ]
     },
     "execution_count": 19,
     "metadata": {},
     "output_type": "execute_result"
    }
   ],
   "source": [
    "dfdataTest.shape"
   ]
  },
  {
   "cell_type": "markdown",
   "id": "92d4ee39-8415-4e56-b872-a4628ac2472f",
   "metadata": {},
   "source": [
    "---"
   ]
  },
  {
   "cell_type": "code",
   "execution_count": 20,
   "id": "8e53437c-150e-4bbd-925a-41f1f4798610",
   "metadata": {},
   "outputs": [
    {
     "ename": "NameError",
     "evalue": "name 'word_tokenize' is not defined",
     "output_type": "error",
     "traceback": [
      "\u001b[1;31m---------------------------------------------------------------------------\u001b[0m",
      "\u001b[1;31mNameError\u001b[0m                                 Traceback (most recent call last)",
      "Input \u001b[1;32mIn [20]\u001b[0m, in \u001b[0;36m<cell line: 1>\u001b[1;34m()\u001b[0m\n\u001b[1;32m----> 1\u001b[0m \u001b[43mword_tokenize\u001b[49m(\u001b[38;5;124m\"\u001b[39m\u001b[38;5;124meat...\u001b[39m\u001b[38;5;124m\"\u001b[39m)\n",
      "\u001b[1;31mNameError\u001b[0m: name 'word_tokenize' is not defined"
     ]
    }
   ],
   "source": [
    "word_tokenize(\"eat...\")"
   ]
  },
  {
   "cell_type": "code",
   "execution_count": 21,
   "id": "f843c8ce-53ad-4f15-91ee-fb32d7a35e9f",
   "metadata": {},
   "outputs": [],
   "source": [
    "from nltk.tokenize import word_tokenize, sent_tokenize"
   ]
  },
  {
   "cell_type": "code",
   "execution_count": 22,
   "id": "60dcabcf-486a-48b6-83cf-d3d88b9c2f3e",
   "metadata": {},
   "outputs": [],
   "source": [
    "dfdataTrain['countSentences'] = dfdataTrain.reviewText.apply(lambda x: len(sent_tokenize(x)))"
   ]
  },
  {
   "cell_type": "code",
   "execution_count": 23,
   "id": "632eea17-3a41-496e-ac06-1721d2441b75",
   "metadata": {},
   "outputs": [
    {
     "data": {
      "text/plain": [
       "<AxesSubplot:xlabel='countSentences', ylabel='Count'>"
      ]
     },
     "execution_count": 23,
     "metadata": {},
     "output_type": "execute_result"
    },
    {
     "data": {
      "image/png": "[encoded data removed]",
      "text/plain": [
       "<Figure size 432x288 with 1 Axes>"
      ]
     },
     "metadata": {
      "needs_background": "light"
     },
     "output_type": "display_data"
    }
   ],
   "source": [
    "sns.histplot(dfdataTrain['countSentences'])"
   ]
  },
  {
   "cell_type": "code",
   "execution_count": 24,
   "id": "50fbfa9e-0ad6-4262-a06d-93b4a4f3e252",
   "metadata": {},
   "outputs": [
    {
     "data": {
      "text/plain": [
       "array(['I am a sweet-aholic. That\\'s my main downfall when it comes to eating healthy, that and portion control. I love chocolate and decided to one day google \"healthiest chocolate\" and stumbled across Vitalicious products. People were making them seem like they were the best things on Earth-- \"taste just like regular muffins and brownies, but just healthy PLUS they could be walked off in 13 minutes.\" All of that made me happy, and despite the huge pricetag I decided to purchase these babies anyway.To make my review more useful I\\'ve decided to eat 1-2 daily and post my opinions on each flavor as I eat them (so this will be updated until I review each flavor), and rate them out of 5. (To give you an idea of my \"sweet-tooth\" taste palette- I really really love chocolate, my favorite desserts are probably chocolate cake (devils food) with vanilla frosting, hot apple pie and vanilla ice cream, and brownie and ice cream. I love chocolate chip cookies, I\\'m a fan of most candy bars, I enjoy pizza hut cinnamon sticks and krispy kreme doughnuts (even though I don\\'t get to eat these things anymore- I love them :-) ).CONTENTS of SUPER SAMPLER: 2 MultiBran, 2 BlueBran, 2 Banana Nut, 2 CranBran, 2 AppleBerry, 2 Golden Corn, 4 VitaBrownies, 2 Double Chocolate, 2 Double Chocolate Dream, 2 Chocolate Fig, 2 Fudgy Peanut Butter Chip.1. Vitabrownies: (2/5) Taste more like a cake that was made with apple sauce instead of oil and splenda instead of real sugar and egg whites instead of the full eggs. There\\'s a little sweetness there, but does not compare in anyway to a real brownie. This is the first one I ate from the package... when the FeDex truck came and dropped the package off I literally went straight to the kitchen opened the box took out one brownie and put the rest in the freezer. I ate a piece, then warmed the rest up for about 30 seconds. The brownie just wasn\\'t that moist, there were sections of moistness and it looked moist, but it just didn\\'t hit the spot like I wanted. However, because of all the fiber it did leave me sorta full or satisfied afterwards (I ate it with a bottle of water).2. Banana Nut: (3/5)  Banana nut is my favorite type of muffin and I deem this particuar vitalicious banana nut as a healthier version of a healthy banana nut muffin. Familiar taste and could curb a banana nut bread fanatic\\'s craving.. its okay.3. Deep Chocolate: (5/5) This was pretty good, I\\'m sure its the best one of them all, but it still didn\\'t hit the spot quite like I thought it would given the GREAT reviews everyone has written. The sections in the muffin top with the chocolate chips were the best b/c the chocolate chips are great, but there\\'s only like 4 chips in the whole muffin top. What I\\'m fighuring now, after eating this one is that these are the type of food that you probably grow to love- like if you were determined to lose weight and/or eat right then you would just learn to love this and they would satisfy your cravings for sweets especilly if you aren\\'t a sweetaholic like me. Also the Deep Chocolate tasted more like a brownie than the Vitabrownies which I found surprising.  ****(Changed to 4.5/5 after eating for the second time, changed to 5/5 after eating these alot more)4. Blueberry (BlueBran): (1/5) You know the taste of plain oats- when you just add water. This is how this taste- with a teasppon of sugar in the mix. It\\'s plain, very plain and I honestly feel like I\\'m just wasting calories. As I sit here, eating this, writing to you guys I am now 100% positive that these vitalicious products are meant for people with very mild sweet toothes who don\\'t really like sweets, but want something sweet and healthy every now and again. I would rather use 250 calories and eat a real 3 Musketeers bar than to only use 100 and eat something that doesnt even taste good. This is my 2nd day and fourth muffin and  I honestly want to send back the box. I can appreciate the nutrients in each item though, but hey that\\'s what Bolthouse Farms drinks are for. I know its easier to make an extremely healthy tasty drink than it is to make a healthy tasty baked good, but I really thought that Vitalicious was going to be the Bolthouse Farms of the sweets/chocolate world... I was so wrong.Though I planned to post the review after eating them all, I think I\\'ll post it now (10.15.09) because I honestly am just going to \"charge it to the game\"- meaning I wasted [...] to taste test, but I\\'ll look at it as a sacrifice for others who are thinking about buying them. I will very randomly eat the rest... and just add the reviews of their taste as I eat (provided that i actually eat another one again). I am honestly just very disaapointed- I thought I wouldnt have to buy anything sweet for atleast 2 weeks, now I\\'m somewhat going back to the drawing board.Conclusion: At 36 bucks(...) 1.50(...) per brownie/muffin top) I think that it\\'s not worth it. For me, with my budget, I\\'m better off buying the 100-calorie packs in the store and just leaving them in the car if I don\\'t think I can control myself to eat just one. Atleast with the 100-calorie packs you get 6 for about (...)  (0.67 per pack) and if you have coupons you can get it or less than that.  But again, I know that its hard to control yourself with the 100-calorie packs because they\\'re just so darn tasty.... Vitalicious products will definitely make it easier to exhibit self control since they\\'re fiber rich and not extremely tasty-- they\\'re more like \"just tasty enough\". **(Please check my FINAL CONCLUSION at the bottom).Other random notes:- I do not suggest buying this particular sampler, if you buy anything buy the chocolate sampler- the chocolate flavors are the best and will grow on you overtime- this has happened to me. It\\'s still no Betty Crocker or Hershey\\'s chocolate, but it grows on you. The key is warming them up at exactly the right number of seconds.- I think these may be better to a person who loves muffins- the texture the taste. I do love a great muffin, but I don\\'t eat them everyday for breakfast like some people. If you\\'re the kind of person that blows about 500-600 calories on a muffin every morning than this is probably a more fitting healthy alternative for you.- I still don\\'t get how all their products are getting such high reviews, I guess the people who don\\'t like them aren\\'t really saying much. Don\\'t get me wrong I do think this is a great product- all those vitamins and just 100 calories- ist great, but it\\'s great for someon who doesn\\'t really eat a whole lot of sweets anyway not for someone who has an extreme sweet tooth like me.- If for some reason these do begin to grow on me after a few more days/weeks, I promise to come back and tell you guys... b/c this just may be one of the products that has to grow on you.- I gave the product 2 stars, but I really wanted to just give it 1. But I figured the Vitalicious lovers would be too mad at me if I gave their beloved product one. So I settled with two because of that and because they are filled with vitiamins and what not.**UPDATE, UPDATE, UPDATE, UPDATE, UPDATE (updates below)****:5.  Fudgy Peanut Buter Chip: (2/5) This was okay. The peanut butter taste was watered down... chocolate was bland. There is nothing  and I mean nothing \"fudgy\" about this.6. Double Chocolate Dream: (4/5). Ummmm, well, as I sit here eating this tasty chocolate treat, I\\'m scratching my head trying to figure out- is this bland vitalicious chocolate growing on me-- or does this one really taste good? I took this out the freezer, warmed it up for 30 seconds, opened the microwave and it smelled like chocolate milk... this was interesting. Grabbed my smoothie, sat down and begin to eat.... and you guys, this is the best one so far. This actually taste like a box chocolate cake that you just added a little too much water into. Whatever they added in this one they need to do to the rest. Double Chocolate Dream will actually curb a chocolate craving.- I ate another Vitabrownie and guys after the 3rd one they\\'re beginning to grow on me. And you know what eating like 2-3 of these a day actually makes you eat less- its weird. You\\'re just less hungry I\\'ve been calculating my calories and though I was thinking I was eating 1600 or so calories a day. I\\'ve actually been eating more like 800-1200 (max) and I think its the vitabrownies and muffins that are helping... and all the protein I eat--- like tuna and salmon. That combined with my smoothies and bolthouse farm drinks and water.7. Appleberry: (2/5). I\\'ll say it again all of Vitalicious\\'s bran products taste like watered down oats with a drop of sugar. If you\\'re big on plain granola and plain oats and similar foods then you\\'ll like them otherwise it very barely satisfies a sweet tooth. The apple smell is nice, I just wish it was more present... like I wish it had a apple-cinnamon type taste.8. CranBran: (1/5). (read above review). Very plain taste. Can I give a 0/5? Is that fair... Idk, these Brans probably deserve 0 out of 5.9. Chocolate Fig: (2/5). I\\'m not big on figs, and actually I feel like chewy snacks in breaded/crunchy sweets are unnecessary- like raisins. So since I had to remove the figs, this wasn\\'t my favorite. The chocolate was okay... sort of bland because there\\'s no chocolate chips to make it moist. (meant for those who can enjoy both chocolate and fig newtons)- I ate another Deep Chocolate... and mm mmm good! The Vitalicious chocolate taste is growing on me. I think these may taste better after frozen for 2 or more days then warmed up at 30 seconds. Deep Chocolate just may be better than Double Chocolate Dream... it may deserve a 4/5, hmmm.- I have suggestions for Vitalicious... put more chocolate chips in the VitaBrownie, also create an Apple-Cinnamon flavor and a Carrot Cake type flavor.- You guys I\\'m so scared to taste the Golden Corn and Multi-Gran because I\\'m sure I won\\'t like it. I have 2 of each of those left, a CranBran BlueberryBran, AppleBerry, and Chocolate Fig. Thats about 8 x 1.50 going to waste. 12 bucks((...)- that could have went towards atleast 3 boxes of 100 calorie snacks or 3 bolthouse farm drinks or 2-3 days worth of quiznos). I\\'ll still come back and review the others later, but I now feel I can make a 100% call on Vitalicious muffins and brownies... here\\'s my final conclusion...10. Golden Corn: (4/5). Sooooo, I\\'m sitting here, drinking my hot mint green tea and delicately chowing down on this Golden Corn vitamuffin, and people this is darn good! When I took the first bite I thought to myself, \"Duuuh, its called golden corn so its suppose to taste like cornbread!\". And this healthy piece of corn bread is much better than most-- it taste like a healthy gourmet version of Jiffy cornbread. It is sooo good, I\\'m not sure if everyone will have this same reaction, but if you\\'re a fan of sweet cornbread then you definitely will. This is perfect for those of you who have given up your fried chicken for grilled chicken and your buttery mash potatoes for plain baked potatoes-- its the perfect addition to your meal. And honestly its good just eaten as a midday or midnight snack. 100 calories, 0 fat, lots of fiber and vitamins- it can\\'t get any better. This out of all the other flavors taste the most like what its supposed to be, meaning: you could blindfold someone and put 5-6 different cornbreads in front of them and they would not guess this to be the healthiest and that\\'s why I\\'m giving it a 4.5/5.  ---Okay so after eating this again, I still love it, but I feel like I overdid the review, I think I first ate it when I was pretty hungry and craving sweetness. On the second go round it was still really good but more like a 4/5.***FINAL CONCLUSION***: Run like heck from all Vitalicious Bran-flavored products, they taste like plain quaker oats with too much water and a teaspoon of sugar with bits of warm fruit scattered throughout. They\\'re only for those who delight in bran flavor. Appleberry is decent, pretty good even, if you really like apple and berry flavored breads and muffins. The Banana Nut is the best replica muffin in my opinion, its tasty and can be looked at as a light version of a banana nut muffin. Golden Corn (sigh) is delicious. It tastes just like the sweet cornbread most southerners looks forward to at Sunday Dinner meals (with a slightly lighter taste and all with the added benefit of it being healthy).The chocolate grows on you overtime. The first 2 times you eat one of the chocolate flavors, you\\'ll be sad and wondering why you spent so much money, but then by day 3 and your 3rd or 4th Deep Chocolate or Double Chocolate Dream you\\'ll be happy. And a part of that happiness will be because you are unintentionally and unnoticeably eating less (because of the fiber you\\'ll stay fuller longer).I work from home so its very easy for me to snack snack snack all day, but with a little self-control and the chocolate Vitalicious muffintop it will be easy to control snacking. If I could find it in my heart to spend another (...) on 24 snack cakes I would EASILY order a box of Deep ChocolateVitalicious Deep Chocolate Vita Tops , 2-Ounce Units (Pack of 24). I can safely say that this will satisfy a chocoholics need for chocolate... just use them as your once a day daily treat. If they\\'re frozen warm it up for 30 seconds. If its room-temperature try 15 seconds. You will most likely not like it the first time, but it grows on you.Besides Deep Chocolate the only other Vitalicious muffintops that I would reccomend trying out are: Golden Corn, Double Chocolate Dream, and Triple Chocolate Chunk, and maybe Vitabrownies- and that\\'s only if you\\'re a big fan of nuts, otherwise stick to the muffintops they taste more like brownies.I just want to repeat the fact that I don\\'t know why these are getting such overall high reviews... I\\'m guessing its because some people from their company are the ones writing them (lol) or the people who are writing reviews don\\'t have INTENSE sweet cravings like I do. If you have an intense sweet tooth Please don\\'t waste your money on this sampler-- you will most likely regret it. The best flavors really are Deep Chocolate and Golden Corn (if you like southern cornbread). If you are looking for something to curb your sweet tooth just stick to Deep Chocolate ( I believe it has perfect reviews)Whew! I\\'ve written alot, but I hope this helps you guys to make a better decision. I decided to make my review comprehensive because this is alot of cash to spend on small sweets... Plus, when I was trying to decide whether or not to buy these I assumed the posted reviews were helpful, but they really weren\\'t (except for the tips on immediately freezing them).  I ended up only actually liking 5 flavors (deep chocolate, golden corn, double chocolate dream, banana nut, brownie). That indubitably means that I \"wasted\" 12 muffintops... don\\'t let those muffintops have been painfully eaten and picked over in vain...Good Luck with choosing 100-calories snack foods to assist you with your healthy lifestyle.***Last UPDATE Nov 3, 2009***11. MultiBran: (1/5). I\\'m writing this well after eating the ones above. Its been in the freezer for about 2 weeks now so I figured- what the heck let\\'s get it on MultiBran. And you guys-- this bran taste actually grows on you aferwhile... I\\'ll still give it a 1/5, but I\\'m so used to the plain watery quaker oats taste that it doesn\\'t bother me anymore. I feel sorta bad for coming down so hard on the bran since, after all, it is very good for you. After eating the MultiBran-- which I dubbed from day one the \"king of the muffintop brans\" I realize that this sampler is good for those who are health nuts and are used to these plain flavors. I can now actually see why people give this sampler high ratings, its because they eat stuff like this all day long and so to them it really is good, they\\'re probably people who arent that big on sweets anyway, and who easily have 36 bucks (...) to spend on 24 muffins.  Like I said I work from home so its easy for me to snack all day, but just from me starting the day off with a vitalicious muffin (and fruit) I can eat less... I consumed 1010 calories total yesterday.Now that I know what I like and dislike I wouldn\\'t buy this sampler again, but if you really are curious on your own how all these flavors taste then feel free to indulge. I might even give this 3 stars.... well maybe not because these taste really are bland. But still the Vitalicious muffintops do assist in being able to live a healthy lifestyle and thats what im about. I\\'m not \"dieting\" I\\'m practicing a healthy lifestyle and vitalicious will take you MUCH further then those nabisco, sunshine, and keebler 100 calorie packs. Because the flavor is exactly the same I end up eating the whole box of those tasty shortbread/oreos/chip ahoys/cheezits in one day... sometimes in 2 sittings.... but you wouldnt have that problem with these, its hard to eat more than 2 even though they\\'re pretty small. The key is eating these with something, like a smoothie or some fruit and water.**IMPORTANT TIP**:::: Before buying these I just suggest you ask yourself what your main purpose of purchasing them are. Is it to explore healthy snacks? Is it to find healthy breakfast food? Is it to help with sweet cravings? To help with oversnacking? To find good bran flavored foods? Mine was to find healthy sweets. Something that I liked that was low in calories, had vitamins, and would sufficiently curb my cravings for candy bars (lol). I love chocolate and I have sugar cravings. So in my case I would have been better off just purchasing Deep Chocolate. Everyone will come out with a slightly different conclusion, some may not need to purchase these at all.Also it generally helps to order these with low (very low) expectations. To the point that you\\'re almost scared to eat it, so that when you finally do it\\'s like , \"hmmm? okay, wow, well... this is pretty good\". lol.Good Luck everyone!PS- ** The prices on these vitatops are strange, they fluctuate... is anyone else noticing this? I went ahead and ordered the triple chocolate chunk yesterday and because they were about 26 bucks (...) plus free shipping. Now, not even 12 hours later,  they\\'re 32... what happened? Its as if the price of the chocolate ones are going up while the bran is lowering... thats just wrong. You all may just want to buy from your local store... Vitalicious Vitatops has a Facebook page and they seem to answer their fans pretty quickly. They say if a store near you doesn\\'t carry their muffintops you can put in a request at the store and Vitalicious will be sure to get them to that particular store--- as long as its one that is supposed to carry Vitatops, like Krogers, Gristedes, Food Emporium, Whole Foods, etc. (check their website for the complete listing).'],\n",
       "      dtype=object)"
      ]
     },
     "execution_count": 24,
     "metadata": {},
     "output_type": "execute_result"
    }
   ],
   "source": [
    "dfdataTrain[dfdataTrain.countSentences == dfdataTrain['countSentences'].max()].reviewText.values"
   ]
  },
  {
   "cell_type": "code",
   "execution_count": 25,
   "id": "634b2671-ee5f-474b-ac90-620862748a21",
   "metadata": {},
   "outputs": [
    {
     "data": {
      "text/plain": [
       "array(['', '', '', '', '', '', '', '', '', '', '', '', '', '', '', '', '',\n",
       "       '', '', ''], dtype=object)"
      ]
     },
     "execution_count": 25,
     "metadata": {},
     "output_type": "execute_result"
    }
   ],
   "source": [
    "dfdataTrain[dfdataTrain.countSentences == dfdataTrain['countSentences'].min()].reviewText.values"
   ]
  },
  {
   "cell_type": "code",
   "execution_count": 26,
   "id": "e5117a14-1753-45d5-a928-6d340d4ded31",
   "metadata": {},
   "outputs": [],
   "source": [
    "from collections import defaultdict"
   ]
  },
  {
   "cell_type": "code",
   "execution_count": 27,
   "id": "2d5c24c4-74eb-4a8a-ad1b-c62946b0c56e",
   "metadata": {},
   "outputs": [],
   "source": [
    "dictionary = defaultdict(lambda: 0)\n",
    "for _, row in dfdataTrain.iterrows():\n",
    "    for w in word_tokenize(row['reviewText']):\n",
    "        dictionary[w] += 1"
   ]
  },
  {
   "cell_type": "code",
   "execution_count": 28,
   "id": "7bc1460a-32c4-45bc-a283-73857eec4031",
   "metadata": {},
   "outputs": [
    {
     "data": {
      "text/plain": [
       "[('.', 693693),\n",
       " (',', 586111),\n",
       " ('the', 481118),\n",
       " ('I', 454619),\n",
       " ('a', 384988),\n",
       " ('and', 368245),\n",
       " ('to', 292050),\n",
       " ('of', 266289),\n",
       " ('it', 254008),\n",
       " ('is', 238609),\n",
       " ('in', 162575),\n",
       " ('for', 150122),\n",
       " ('this', 149617),\n",
       " ('that', 137760),\n",
       " ('you', 112542),\n",
       " ('with', 110516),\n",
       " ('but', 108842),\n",
       " ('are', 100829),\n",
       " ('not', 100118),\n",
       " (\"n't\", 93459)]"
      ]
     },
     "execution_count": 28,
     "metadata": {},
     "output_type": "execute_result"
    }
   ],
   "source": [
    "sorted(dictionary.items(), key=lambda x: x[1], reverse=True)[:20]"
   ]
  },
  {
   "cell_type": "code",
   "execution_count": 29,
   "id": "4c163344-8845-4219-9be1-fb3c409fe452",
   "metadata": {},
   "outputs": [
    {
     "data": {
      "text/plain": [
       "['i', 'do', \"n't\", 'want', 'you']"
      ]
     },
     "execution_count": 29,
     "metadata": {},
     "output_type": "execute_result"
    }
   ],
   "source": [
    "word_tokenize(\"i don't want you\")"
   ]
  },
  {
   "cell_type": "markdown",
   "id": "bc434af4-c046-40d1-8c13-01ca99a4862f",
   "metadata": {},
   "source": [
    "---"
   ]
  },
  {
   "cell_type": "code",
   "execution_count": 30,
   "id": "5559f350-7b5e-4af8-b368-455592880171",
   "metadata": {},
   "outputs": [],
   "source": [
    "dfdataTrainExp, _ = train_test_split(dfdataTrain, train_size=0.05, stratify=dfdataTrain['overall'])"
   ]
  },
  {
   "cell_type": "code",
   "execution_count": 31,
   "id": "5ff287f7-c86c-4077-9086-5b3a05e67a65",
   "metadata": {},
   "outputs": [
    {
     "data": {
      "text/plain": [
       "<AxesSubplot:xlabel='overall', ylabel='Count'>"
      ]
     },
     "execution_count": 31,
     "metadata": {},
     "output_type": "execute_result"
    },
    {
     "data": {
      "image/png": "[encoded data removed]",
      "text/plain": [
       "<Figure size 432x288 with 1 Axes>"
      ]
     },
     "metadata": {
      "needs_background": "light"
     },
     "output_type": "display_data"
    }
   ],
   "source": [
    "sns.histplot(dfdataTrainExp['overall'])"
   ]
  },
  {
   "cell_type": "code",
   "execution_count": 32,
   "id": "136f9764-ca8f-4f0a-8fc6-e1f23ef060c9",
   "metadata": {},
   "outputs": [
    {
     "data": {
      "text/plain": [
       "(7184, 3)"
      ]
     },
     "execution_count": 32,
     "metadata": {},
     "output_type": "execute_result"
    }
   ],
   "source": [
    "dfdataTrainExp.shape"
   ]
  },
  {
   "cell_type": "code",
   "execution_count": 33,
   "id": "f646b7c2-8b62-4601-88b6-6506cdcaba7f",
   "metadata": {},
   "outputs": [
    {
     "data": {
      "text/html": [
       "<div>\n",
       "<style scoped>\n",
       "    .dataframe tbody tr th:only-of-type {\n",
       "        vertical-align: middle;\n",
       "    }\n",
       "\n",
       "    .dataframe tbody tr th {\n",
       "        vertical-align: top;\n",
       "    }\n",
       "\n",
       "    .dataframe thead th {\n",
       "        text-align: right;\n",
       "    }\n",
       "</style>\n",
       "<table border=\"1\" class=\"dataframe\">\n",
       "  <thead>\n",
       "    <tr style=\"text-align: right;\">\n",
       "      <th></th>\n",
       "      <th>overall</th>\n",
       "      <th>countSentences</th>\n",
       "    </tr>\n",
       "  </thead>\n",
       "  <tbody>\n",
       "    <tr>\n",
       "      <th>count</th>\n",
       "      <td>7184.000000</td>\n",
       "      <td>7184.000000</td>\n",
       "    </tr>\n",
       "    <tr>\n",
       "      <th>mean</th>\n",
       "      <td>4.242762</td>\n",
       "      <td>5.519627</td>\n",
       "    </tr>\n",
       "    <tr>\n",
       "      <th>std</th>\n",
       "      <td>1.090415</td>\n",
       "      <td>4.231555</td>\n",
       "    </tr>\n",
       "    <tr>\n",
       "      <th>min</th>\n",
       "      <td>1.000000</td>\n",
       "      <td>0.000000</td>\n",
       "    </tr>\n",
       "    <tr>\n",
       "      <th>25%</th>\n",
       "      <td>4.000000</td>\n",
       "      <td>3.000000</td>\n",
       "    </tr>\n",
       "    <tr>\n",
       "      <th>50%</th>\n",
       "      <td>5.000000</td>\n",
       "      <td>4.000000</td>\n",
       "    </tr>\n",
       "    <tr>\n",
       "      <th>75%</th>\n",
       "      <td>5.000000</td>\n",
       "      <td>7.000000</td>\n",
       "    </tr>\n",
       "    <tr>\n",
       "      <th>max</th>\n",
       "      <td>5.000000</td>\n",
       "      <td>48.000000</td>\n",
       "    </tr>\n",
       "  </tbody>\n",
       "</table>\n",
       "</div>"
      ],
      "text/plain": [
       "           overall  countSentences\n",
       "count  7184.000000     7184.000000\n",
       "mean      4.242762        5.519627\n",
       "std       1.090415        4.231555\n",
       "min       1.000000        0.000000\n",
       "25%       4.000000        3.000000\n",
       "50%       5.000000        4.000000\n",
       "75%       5.000000        7.000000\n",
       "max       5.000000       48.000000"
      ]
     },
     "execution_count": 33,
     "metadata": {},
     "output_type": "execute_result"
    }
   ],
   "source": [
    "dfdataTrainExp.describe()"
   ]
  },
  {
   "cell_type": "markdown",
   "id": "1dba7f68-8da5-45e7-b8ee-c33d33f71ecd",
   "metadata": {},
   "source": [
    "---"
   ]
  },
  {
   "cell_type": "markdown",
   "id": "1de9b580-96fe-463b-85bb-f0047f5e35e1",
   "metadata": {},
   "source": [
    "#### Goal: Check the hypothesis of the model & processing"
   ]
  },
  {
   "cell_type": "markdown",
   "id": "f67e021c-83b1-4614-9fa7-db935249385c",
   "metadata": {},
   "source": [
    "#### Processing Planning\n",
    "<p> Use exploring sets </p>\n",
    "\n",
    "<ol>\n",
    "    <li> No cleaning </li>\n",
    "    <li> Tokenized words </li>\n",
    "    <li> BOW </li>\n",
    "</ol>\n",
    "\n",
    "<ol>\n",
    "    <li> No cleaning </li>\n",
    "    <li> Tokenized words </li>\n",
    "    <li> TFIDF </li>\n",
    "</ol>\n",
    "\n",
    "<ol>\n",
    "    <li> No cleaning </li>\n",
    "    <li> Tokenized words </li>\n",
    "    <li> Embedding </li>\n",
    "</ol>\n",
    "\n",
    "<ol>\n",
    "    <li> cleaning & standardized </li>\n",
    "    <li> lemmatized </li>\n",
    "    <li> subject finding </li>\n",
    "    <li> ehanced-embedding </li>\n",
    "</ol>\n",
    "\n",
    "#### ML Planning\n",
    "<ol>\n",
    "    <li> Naive Bayes </li>\n",
    "    <li> SVM </li>\n",
    "    <li> RNN </li>\n",
    "</ol>"
   ]
  },
  {
   "cell_type": "markdown",
   "id": "890b5fca-a56c-49d9-8c6a-d133a64936ea",
   "metadata": {},
   "source": [
    "#### Goal: Tuning the model"
   ]
  },
  {
   "cell_type": "markdown",
   "id": "9f6fe49b-bef8-4421-af90-ee68f027ea6b",
   "metadata": {},
   "source": [
    "#### Tuning Planning\n",
    "<ol>\n",
    "    <li> Use training & validation sets </li>\n",
    "    <li> For ml models, tuned the hyperparameter by grid search</li>\n",
    "    <li> For dl models, tuned the architecture</li>\n",
    "</ol>"
   ]
  },
  {
   "cell_type": "markdown",
   "id": "69de1e47-890b-41b2-9535-834d1e42bd90",
   "metadata": {},
   "source": [
    "#### Goal: Check the performances of model"
   ]
  },
  {
   "cell_type": "markdown",
   "id": "71907ea1-25a9-4c58-8656-2f7952dd7ca5",
   "metadata": {},
   "source": [
    "#### Performance Planning\n",
    "<ol>\n",
    "    <li> Use test sets</li>\n",
    "    <li> RMSE should be below than 3</li>\n",
    "</ol>"
   ]
  },
  {
   "cell_type": "code",
   "execution_count": 36,
   "id": "1c8fc917-f506-4eab-a70a-92843f6981d7",
   "metadata": {},
   "outputs": [
    {
     "data": {
      "text/html": [
       "<div>\n",
       "<style scoped>\n",
       "    .dataframe tbody tr th:only-of-type {\n",
       "        vertical-align: middle;\n",
       "    }\n",
       "\n",
       "    .dataframe tbody tr th {\n",
       "        vertical-align: top;\n",
       "    }\n",
       "\n",
       "    .dataframe thead th {\n",
       "        text-align: right;\n",
       "    }\n",
       "</style>\n",
       "<table border=\"1\" class=\"dataframe\">\n",
       "  <thead>\n",
       "    <tr style=\"text-align: right;\">\n",
       "      <th></th>\n",
       "      <th>reviewText</th>\n",
       "      <th>overall</th>\n",
       "      <th>countSentences</th>\n",
       "    </tr>\n",
       "  </thead>\n",
       "  <tbody>\n",
       "    <tr>\n",
       "      <th>115681</th>\n",
       "      <td>I do not eat gluten, so it was important to me...</td>\n",
       "      <td>5</td>\n",
       "      <td>18</td>\n",
       "    </tr>\n",
       "    <tr>\n",
       "      <th>64681</th>\n",
       "      <td>This is the best GF cracker I have found.  Eve...</td>\n",
       "      <td>5</td>\n",
       "      <td>3</td>\n",
       "    </tr>\n",
       "    <tr>\n",
       "      <th>100792</th>\n",
       "      <td>I was hoping it would be a little more spicy w...</td>\n",
       "      <td>4</td>\n",
       "      <td>2</td>\n",
       "    </tr>\n",
       "    <tr>\n",
       "      <th>135227</th>\n",
       "      <td>This is an awesome product... certified organi...</td>\n",
       "      <td>5</td>\n",
       "      <td>8</td>\n",
       "    </tr>\n",
       "    <tr>\n",
       "      <th>63710</th>\n",
       "      <td>I get these for my class store. The students l...</td>\n",
       "      <td>5</td>\n",
       "      <td>2</td>\n",
       "    </tr>\n",
       "  </tbody>\n",
       "</table>\n",
       "</div>"
      ],
      "text/plain": [
       "                                               reviewText  overall  \\\n",
       "115681  I do not eat gluten, so it was important to me...        5   \n",
       "64681   This is the best GF cracker I have found.  Eve...        5   \n",
       "100792  I was hoping it would be a little more spicy w...        4   \n",
       "135227  This is an awesome product... certified organi...        5   \n",
       "63710   I get these for my class store. The students l...        5   \n",
       "\n",
       "        countSentences  \n",
       "115681              18  \n",
       "64681                3  \n",
       "100792               2  \n",
       "135227               8  \n",
       "63710                2  "
      ]
     },
     "execution_count": 36,
     "metadata": {},
     "output_type": "execute_result"
    }
   ],
   "source": [
    "dfdataTrainExp.head()"
   ]
  },
  {
   "cell_type": "code",
   "execution_count": 54,
   "id": "06c7c2b8-7a2e-4e49-81e2-4f0d105f1548",
   "metadata": {},
   "outputs": [],
   "source": [
    "import numpy as np\n",
    "from sklearn.metrics import mean_squared_error\n",
    "from sklearn.pipeline import Pipeline"
   ]
  },
  {
   "cell_type": "code",
   "execution_count": 40,
   "id": "244693c0-5a0d-4cfd-a7d2-b4d0cb865482",
   "metadata": {},
   "outputs": [],
   "source": [
    "from sklearn.model_selection import GridSearchCV"
   ]
  },
  {
   "cell_type": "code",
   "execution_count": 90,
   "id": "bc544c61-7b52-4cfc-aee8-3dbd81ba1555",
   "metadata": {},
   "outputs": [
    {
     "name": "stderr",
     "output_type": "stream",
     "text": [
      "[nltk_data] Downloading package wordnet to\n",
      "[nltk_data]     C:\\Users\\hariz\\AppData\\Roaming\\nltk_data...\n"
     ]
    }
   ],
   "source": [
    "import nltk\n",
    "from nltk.stem import WordNetLemmatizer \n",
    "\n",
    "nltk.download('wordnet')\n",
    "lemmatizer = WordNetLemmatizer()"
   ]
  },
  {
   "cell_type": "code",
   "execution_count": 91,
   "id": "8e1f1871-99a6-4bd4-8163-dc093b3f4131",
   "metadata": {},
   "outputs": [],
   "source": [
    "from nltk.tokenize import word_tokenize, sent_tokenize"
   ]
  },
  {
   "cell_type": "code",
   "execution_count": 92,
   "id": "62db152f-3cfe-4e17-b65e-80e529a221dc",
   "metadata": {},
   "outputs": [],
   "source": [
    "from sklearn.naive_bayes import MultinomialNB\n",
    "from sklearn.svm import LinearSVR\n",
    "import torch"
   ]
  },
  {
   "cell_type": "code",
   "execution_count": 212,
   "id": "bd917ad6-e41e-4289-849e-d637f0769c90",
   "metadata": {},
   "outputs": [
    {
     "name": "stderr",
     "output_type": "stream",
     "text": [
      "[nltk_data] Downloading package averaged_perceptron_tagger to\n",
      "[nltk_data]     C:\\Users\\hariz\\AppData\\Roaming\\nltk_data...\n",
      "[nltk_data]   Unzipping taggers\\averaged_perceptron_tagger.zip.\n"
     ]
    },
    {
     "data": {
      "text/plain": [
       "True"
      ]
     },
     "execution_count": 212,
     "metadata": {},
     "output_type": "execute_result"
    }
   ],
   "source": [
    "from nltk import pos_tag\n",
    "nltk.download('averaged_perceptron_tagger')"
   ]
  },
  {
   "cell_type": "code",
   "execution_count": 222,
   "id": "2a1fbe09-8d05-4414-9734-7d1b3dd234f5",
   "metadata": {},
   "outputs": [
    {
     "name": "stderr",
     "output_type": "stream",
     "text": [
      "[nltk_data] Downloading package tagsets to\n",
      "[nltk_data]     C:\\Users\\hariz\\AppData\\Roaming\\nltk_data...\n"
     ]
    },
    {
     "name": "stdout",
     "output_type": "stream",
     "text": [
      "$: dollar\n",
      "    $ -$ --$ A$ C$ HK$ M$ NZ$ S$ U.S.$ US$\n",
      "'': closing quotation mark\n",
      "    ' ''\n",
      "(: opening parenthesis\n",
      "    ( [ {\n",
      "): closing parenthesis\n",
      "    ) ] }\n",
      ",: comma\n",
      "    ,\n",
      "--: dash\n",
      "    --\n",
      ".: sentence terminator\n",
      "    . ! ?\n",
      ":: colon or ellipsis\n",
      "    : ; ...\n",
      "CC: conjunction, coordinating\n",
      "    & 'n and both but either et for less minus neither nor or plus so\n",
      "    therefore times v. versus vs. whether yet\n",
      "CD: numeral, cardinal\n",
      "    mid-1890 nine-thirty forty-two one-tenth ten million 0.5 one forty-\n",
      "    seven 1987 twenty '79 zero two 78-degrees eighty-four IX '60s .025\n",
      "    fifteen 271,124 dozen quintillion DM2,000 ...\n",
      "DT: determiner\n",
      "    all an another any both del each either every half la many much nary\n",
      "    neither no some such that the them these this those\n",
      "EX: existential there\n",
      "    there\n",
      "FW: foreign word\n",
      "    gemeinschaft hund ich jeux habeas Haementeria Herr K'ang-si vous\n",
      "    lutihaw alai je jour objets salutaris fille quibusdam pas trop Monte\n",
      "    terram fiche oui corporis ...\n",
      "IN: preposition or conjunction, subordinating\n",
      "    astride among uppon whether out inside pro despite on by throughout\n",
      "    below within for towards near behind atop around if like until below\n",
      "    next into if beside ...\n",
      "JJ: adjective or numeral, ordinal\n",
      "    third ill-mannered pre-war regrettable oiled calamitous first separable\n",
      "    ectoplasmic battery-powered participatory fourth still-to-be-named\n",
      "    multilingual multi-disciplinary ...\n",
      "JJR: adjective, comparative\n",
      "    bleaker braver breezier briefer brighter brisker broader bumper busier\n",
      "    calmer cheaper choosier cleaner clearer closer colder commoner costlier\n",
      "    cozier creamier crunchier cuter ...\n",
      "JJS: adjective, superlative\n",
      "    calmest cheapest choicest classiest cleanest clearest closest commonest\n",
      "    corniest costliest crassest creepiest crudest cutest darkest deadliest\n",
      "    dearest deepest densest dinkiest ...\n",
      "LS: list item marker\n",
      "    A A. B B. C C. D E F First G H I J K One SP-44001 SP-44002 SP-44005\n",
      "    SP-44007 Second Third Three Two * a b c d first five four one six three\n",
      "    two\n",
      "MD: modal auxiliary\n",
      "    can cannot could couldn't dare may might must need ought shall should\n",
      "    shouldn't will would\n",
      "NN: noun, common, singular or mass\n",
      "    common-carrier cabbage knuckle-duster Casino afghan shed thermostat\n",
      "    investment slide humour falloff slick wind hyena override subhumanity\n",
      "    machinist ...\n",
      "NNP: noun, proper, singular\n",
      "    Motown Venneboerger Czestochwa Ranzer Conchita Trumplane Christos\n",
      "    Oceanside Escobar Kreisler Sawyer Cougar Yvette Ervin ODI Darryl CTCA\n",
      "    Shannon A.K.C. Meltex Liverpool ...\n",
      "NNPS: noun, proper, plural\n",
      "    Americans Americas Amharas Amityvilles Amusements Anarcho-Syndicalists\n",
      "    Andalusians Andes Andruses Angels Animals Anthony Antilles Antiques\n",
      "    Apache Apaches Apocrypha ...\n",
      "NNS: noun, common, plural\n",
      "    undergraduates scotches bric-a-brac products bodyguards facets coasts\n",
      "    divestitures storehouses designs clubs fragrances averages\n",
      "    subjectivists apprehensions muses factory-jobs ...\n",
      "PDT: pre-determiner\n",
      "    all both half many quite such sure this\n",
      "POS: genitive marker\n",
      "    ' 's\n",
      "PRP: pronoun, personal\n",
      "    hers herself him himself hisself it itself me myself one oneself ours\n",
      "    ourselves ownself self she thee theirs them themselves they thou thy us\n",
      "PRP$: pronoun, possessive\n",
      "    her his mine my our ours their thy your\n",
      "RB: adverb\n",
      "    occasionally unabatingly maddeningly adventurously professedly\n",
      "    stirringly prominently technologically magisterially predominately\n",
      "    swiftly fiscally pitilessly ...\n",
      "RBR: adverb, comparative\n",
      "    further gloomier grander graver greater grimmer harder harsher\n",
      "    healthier heavier higher however larger later leaner lengthier less-\n",
      "    perfectly lesser lonelier longer louder lower more ...\n",
      "RBS: adverb, superlative\n",
      "    best biggest bluntest earliest farthest first furthest hardest\n",
      "    heartiest highest largest least less most nearest second tightest worst\n",
      "RP: particle\n",
      "    aboard about across along apart around aside at away back before behind\n",
      "    by crop down ever fast for forth from go high i.e. in into just later\n",
      "    low more off on open out over per pie raising start teeth that through\n",
      "    under unto up up-pp upon whole with you\n",
      "SYM: symbol\n",
      "    % & ' '' ''. ) ). * + ,. < = > @ A[fj] U.S U.S.S.R * ** ***\n",
      "TO: \"to\" as preposition or infinitive marker\n",
      "    to\n",
      "UH: interjection\n",
      "    Goodbye Goody Gosh Wow Jeepers Jee-sus Hubba Hey Kee-reist Oops amen\n",
      "    huh howdy uh dammit whammo shucks heck anyways whodunnit honey golly\n",
      "    man baby diddle hush sonuvabitch ...\n",
      "VB: verb, base form\n",
      "    ask assemble assess assign assume atone attention avoid bake balkanize\n",
      "    bank begin behold believe bend benefit bevel beware bless boil bomb\n",
      "    boost brace break bring broil brush build ...\n",
      "VBD: verb, past tense\n",
      "    dipped pleaded swiped regummed soaked tidied convened halted registered\n",
      "    cushioned exacted snubbed strode aimed adopted belied figgered\n",
      "    speculated wore appreciated contemplated ...\n",
      "VBG: verb, present participle or gerund\n",
      "    telegraphing stirring focusing angering judging stalling lactating\n",
      "    hankerin' alleging veering capping approaching traveling besieging\n",
      "    encrypting interrupting erasing wincing ...\n",
      "VBN: verb, past participle\n",
      "    multihulled dilapidated aerosolized chaired languished panelized used\n",
      "    experimented flourished imitated reunifed factored condensed sheared\n",
      "    unsettled primed dubbed desired ...\n",
      "VBP: verb, present tense, not 3rd person singular\n",
      "    predominate wrap resort sue twist spill cure lengthen brush terminate\n",
      "    appear tend stray glisten obtain comprise detest tease attract\n",
      "    emphasize mold postpone sever return wag ...\n",
      "VBZ: verb, present tense, 3rd person singular\n",
      "    bases reconstructs marks mixes displeases seals carps weaves snatches\n",
      "    slumps stretches authorizes smolders pictures emerges stockpiles\n",
      "    seduces fizzes uses bolsters slaps speaks pleads ...\n",
      "WDT: WH-determiner\n",
      "    that what whatever which whichever\n",
      "WP: WH-pronoun\n",
      "    that what whatever whatsoever which who whom whosoever\n",
      "WP$: WH-pronoun, possessive\n",
      "    whose\n",
      "WRB: Wh-adverb\n",
      "    how however whence whenever where whereby whereever wherein whereof why\n",
      "``: opening quotation mark\n",
      "    ` ``\n"
     ]
    },
    {
     "name": "stderr",
     "output_type": "stream",
     "text": [
      "[nltk_data]   Unzipping help\\tagsets.zip.\n"
     ]
    }
   ],
   "source": [
    "nltk.download('tagsets')\n",
    "nltk.help.upenn_tagset()"
   ]
  },
  {
   "cell_type": "code",
   "execution_count": 234,
   "id": "f847b5f1-0c5c-4673-9bab-e54263cbd9f1",
   "metadata": {},
   "outputs": [],
   "source": [
    "import re"
   ]
  },
  {
   "cell_type": "code",
   "execution_count": null,
   "id": "3e67be7f-6558-4586-90dd-e9df1cc099da",
   "metadata": {},
   "outputs": [],
   "source": [
    "class "
   ]
  },
  {
   "cell_type": "code",
   "execution_count": 283,
   "id": "b3822a7a-41b6-47e7-a66f-fb0021ec22a3",
   "metadata": {},
   "outputs": [],
   "source": [
    "def accuracyTrainTest(model, trainX: np.array, trainY: np.array, testX: np.array, testY: np.array) -> (float, float):\n",
    "    mod = model.fit(trainX, trainY)\n",
    "    yfit = mod.predict(trainX)\n",
    "    ypred = mod.predict(testX)\n",
    "    \n",
    "    # train result, test result\n",
    "    return mean_squared_error(trainY, yfit), mean_squared_error(testY, ypred)\n",
    "\n",
    "def pipe_cleaningText(text: str) -> str:\n",
    "    text = text.lower()\n",
    "    return text.strip()\n",
    "\n",
    "def pipe_lemmatization(text: str) -> str:\n",
    "    txt = \"\"\n",
    "    for s in sent_tokenize(text):\n",
    "        for w in word_tokenize(s):\n",
    "            txt += lemmatizer.lemmatize(w) + ' '\n",
    "    return txt.strip()\n",
    "\n",
    "def pipe_addPos(text: str) -> str:\n",
    "    txt = \"\"\n",
    "    for s in sent_tokenize(text):\n",
    "        for w in pos_tag(word_tokenize(s)):\n",
    "            txt += '_'.join(w) + ' '\n",
    "    return txt.strip()\n",
    "\n",
    "def pipe_subjectCleaning(text: str) -> str:\n",
    "    txt = \"\"\n",
    "    for s in sent_tokenize(text):\n",
    "        for w in pos_tag(word_tokenize(s)):\n",
    "            if w[1] != 'NNP':\n",
    "                continue\n",
    "            txt += w[0] + ' '\n",
    "    return txt.strip()\n",
    "\n",
    "def "
   ]
  },
  {
   "cell_type": "code",
   "execution_count": 209,
   "id": "27d13a96-c639-41eb-a6bb-9dae89ea1f81",
   "metadata": {},
   "outputs": [
    {
     "data": {
      "text/plain": [
       "['I', 'am', 'a', 'sweet-aholic', '.']"
      ]
     },
     "execution_count": 209,
     "metadata": {},
     "output_type": "execute_result"
    }
   ],
   "source": [
    "word_tokenize(txt)"
   ]
  },
  {
   "cell_type": "code",
   "execution_count": 236,
   "id": "91696f2b-3bae-41fa-a572-c2c8be3dccc0",
   "metadata": {},
   "outputs": [
    {
     "data": {
      "text/plain": [
       "[('the', 'DT'),\n",
       " ('right', 'JJ'),\n",
       " ('man', 'NN'),\n",
       " ('for', 'IN'),\n",
       " ('the', 'DT'),\n",
       " ('job', 'NN')]"
      ]
     },
     "execution_count": 236,
     "metadata": {},
     "output_type": "execute_result"
    }
   ],
   "source": [
    "txt = 'the right man for the job'\n",
    "pos_tag(word_tokenize(txt))"
   ]
  },
  {
   "cell_type": "code",
   "execution_count": null,
   "id": "59ac8397-6e65-4f27-9182-242631edcc30",
   "metadata": {},
   "outputs": [],
   "source": []
  },
  {
   "cell_type": "code",
   "execution_count": 224,
   "id": "ef503089-ba6d-4012-ba79-fec55d4e8b05",
   "metadata": {},
   "outputs": [
    {
     "data": {
      "text/plain": [
       "[('...', ':')]"
      ]
     },
     "execution_count": 224,
     "metadata": {},
     "output_type": "execute_result"
    }
   ],
   "source": [
    "pos_tag(['...'])"
   ]
  },
  {
   "cell_type": "code",
   "execution_count": 198,
   "id": "78e5d62a-27d3-4983-a684-30fa6cbe4a88",
   "metadata": {},
   "outputs": [
    {
     "data": {
      "text/plain": [
       "'asdf'"
      ]
     },
     "execution_count": 198,
     "metadata": {},
     "output_type": "execute_result"
    }
   ],
   "source": [
    "'asdf'.lower()"
   ]
  },
  {
   "cell_type": "code",
   "execution_count": 206,
   "id": "f7c02b84-8e3a-4271-9493-2cdff32ffa73",
   "metadata": {},
   "outputs": [],
   "source": []
  },
  {
   "cell_type": "code",
   "execution_count": 207,
   "id": "7acfad51-4185-477e-a8ca-323a643e8f0d",
   "metadata": {},
   "outputs": [
    {
     "data": {
      "text/plain": [
       "'I am a sweet-aholic.'"
      ]
     },
     "execution_count": 207,
     "metadata": {},
     "output_type": "execute_result"
    }
   ],
   "source": [
    "lemmatizer.lemmatize(txt)"
   ]
  },
  {
   "cell_type": "code",
   "execution_count": 242,
   "id": "99d5a0c4-9171-4e23-aaed-451d1fe62707",
   "metadata": {},
   "outputs": [
    {
     "data": {
      "text/html": [
       "<div>\n",
       "<style scoped>\n",
       "    .dataframe tbody tr th:only-of-type {\n",
       "        vertical-align: middle;\n",
       "    }\n",
       "\n",
       "    .dataframe tbody tr th {\n",
       "        vertical-align: top;\n",
       "    }\n",
       "\n",
       "    .dataframe thead th {\n",
       "        text-align: right;\n",
       "    }\n",
       "</style>\n",
       "<table border=\"1\" class=\"dataframe\">\n",
       "  <thead>\n",
       "    <tr style=\"text-align: right;\">\n",
       "      <th></th>\n",
       "      <th>reviewText</th>\n",
       "      <th>overall</th>\n",
       "      <th>countSentences</th>\n",
       "    </tr>\n",
       "  </thead>\n",
       "  <tbody>\n",
       "    <tr>\n",
       "      <th>117023</th>\n",
       "      <td>this item is something that I would buy again ...</td>\n",
       "      <td>5</td>\n",
       "      <td>3</td>\n",
       "    </tr>\n",
       "    <tr>\n",
       "      <th>109289</th>\n",
       "      <td>Fresh tasting pistachio nuts in a big bag made...</td>\n",
       "      <td>5</td>\n",
       "      <td>3</td>\n",
       "    </tr>\n",
       "    <tr>\n",
       "      <th>48267</th>\n",
       "      <td>I think this tasted slightly less medicinal th...</td>\n",
       "      <td>2</td>\n",
       "      <td>2</td>\n",
       "    </tr>\n",
       "    <tr>\n",
       "      <th>15024</th>\n",
       "      <td>This is one of my my favorite flavors of the S...</td>\n",
       "      <td>5</td>\n",
       "      <td>5</td>\n",
       "    </tr>\n",
       "    <tr>\n",
       "      <th>142748</th>\n",
       "      <td>I do not drink coffee but enjoy tea.  I am not...</td>\n",
       "      <td>3</td>\n",
       "      <td>4</td>\n",
       "    </tr>\n",
       "  </tbody>\n",
       "</table>\n",
       "</div>"
      ],
      "text/plain": [
       "                                               reviewText  overall  \\\n",
       "117023  this item is something that I would buy again ...        5   \n",
       "109289  Fresh tasting pistachio nuts in a big bag made...        5   \n",
       "48267   I think this tasted slightly less medicinal th...        2   \n",
       "15024   This is one of my my favorite flavors of the S...        5   \n",
       "142748  I do not drink coffee but enjoy tea.  I am not...        3   \n",
       "\n",
       "        countSentences  \n",
       "117023               3  \n",
       "109289               3  \n",
       "48267                2  \n",
       "15024                5  \n",
       "142748               4  "
      ]
     },
     "execution_count": 242,
     "metadata": {},
     "output_type": "execute_result"
    }
   ],
   "source": [
    "dfdataTrain.head()"
   ]
  },
  {
   "cell_type": "code",
   "execution_count": 257,
   "id": "12c7f4ac-4a35-4da8-8626-2b2e7a5a00b6",
   "metadata": {},
   "outputs": [],
   "source": [
    "df = pd.read_json('../data/AmazonMeta_GroceryandGourmetFood.json', lines=True)"
   ]
  },
  {
   "cell_type": "code",
   "execution_count": 253,
   "id": "4465f72e-85d9-443e-a12c-8ed6d82e2984",
   "metadata": {},
   "outputs": [
    {
     "data": {
      "text/html": [
       "<div>\n",
       "<style scoped>\n",
       "    .dataframe tbody tr th:only-of-type {\n",
       "        vertical-align: middle;\n",
       "    }\n",
       "\n",
       "    .dataframe tbody tr th {\n",
       "        vertical-align: top;\n",
       "    }\n",
       "\n",
       "    .dataframe thead th {\n",
       "        text-align: right;\n",
       "    }\n",
       "</style>\n",
       "<table border=\"1\" class=\"dataframe\">\n",
       "  <thead>\n",
       "    <tr style=\"text-align: right;\">\n",
       "      <th></th>\n",
       "      <th>reviewerID</th>\n",
       "      <th>asin</th>\n",
       "      <th>reviewerName</th>\n",
       "      <th>helpful</th>\n",
       "      <th>reviewText</th>\n",
       "      <th>overall</th>\n",
       "      <th>summary</th>\n",
       "      <th>unixReviewTime</th>\n",
       "      <th>reviewTime</th>\n",
       "    </tr>\n",
       "  </thead>\n",
       "  <tbody>\n",
       "    <tr>\n",
       "      <th>151231</th>\n",
       "      <td>A3H8PA7AG48K33</td>\n",
       "      <td>B00KCJRVO2</td>\n",
       "      <td>A. Silverstone</td>\n",
       "      <td>[0, 0]</td>\n",
       "      <td>Usually the label &amp;#34;gluten free&amp;#34; is a c...</td>\n",
       "      <td>5</td>\n",
       "      <td>Get Your Morning Going Right</td>\n",
       "      <td>1405123200</td>\n",
       "      <td>07 12, 2014</td>\n",
       "    </tr>\n",
       "    <tr>\n",
       "      <th>151232</th>\n",
       "      <td>A2H2I5FY1PUHP1</td>\n",
       "      <td>B00KCJRVO2</td>\n",
       "      <td>Boilermate</td>\n",
       "      <td>[0, 0]</td>\n",
       "      <td>I love oatmeal, and I'm always up to trying a ...</td>\n",
       "      <td>5</td>\n",
       "      <td>What Instant Oatmeal Is Supposed to Be Like</td>\n",
       "      <td>1405900800</td>\n",
       "      <td>07 21, 2014</td>\n",
       "    </tr>\n",
       "    <tr>\n",
       "      <th>151233</th>\n",
       "      <td>A3JH18T58CY65P</td>\n",
       "      <td>B00KCJRVO2</td>\n",
       "      <td>Carolyn Howard-Johnson \"Multi award-winning w...</td>\n",
       "      <td>[0, 0]</td>\n",
       "      <td>I am constantly searching for gluten-free prod...</td>\n",
       "      <td>4</td>\n",
       "      <td>Two Lists--What I Love and What I Don't Like S...</td>\n",
       "      <td>1404086400</td>\n",
       "      <td>06 30, 2014</td>\n",
       "    </tr>\n",
       "    <tr>\n",
       "      <th>151234</th>\n",
       "      <td>A3KPJ1MOGTZVGC</td>\n",
       "      <td>B00KCJRVO2</td>\n",
       "      <td>Catfish Kozmo</td>\n",
       "      <td>[0, 0]</td>\n",
       "      <td>My daughter and husband are both gluten free a...</td>\n",
       "      <td>5</td>\n",
       "      <td>Vital for those with gluten alergies</td>\n",
       "      <td>1405382400</td>\n",
       "      <td>07 15, 2014</td>\n",
       "    </tr>\n",
       "    <tr>\n",
       "      <th>151235</th>\n",
       "      <td>A3A7Y3TSPPZU9T</td>\n",
       "      <td>B00KCJRVO2</td>\n",
       "      <td>coffeebrain</td>\n",
       "      <td>[0, 0]</td>\n",
       "      <td>Oh my!  Insanely good oatmeal and GLUTEN FREE....</td>\n",
       "      <td>5</td>\n",
       "      <td>Yay!  Gluten Free Oatmeal!</td>\n",
       "      <td>1404086400</td>\n",
       "      <td>06 30, 2014</td>\n",
       "    </tr>\n",
       "    <tr>\n",
       "      <th>151236</th>\n",
       "      <td>A1UV5NB0DXTSWH</td>\n",
       "      <td>B00KCJRVO2</td>\n",
       "      <td>CrimsonGirl \"homeschooling mom\"</td>\n",
       "      <td>[0, 0]</td>\n",
       "      <td>My 3rd child has non-celiac gluten intolerance...</td>\n",
       "      <td>3</td>\n",
       "      <td>Tasty but flavored varieties are high in sugar</td>\n",
       "      <td>1404604800</td>\n",
       "      <td>07 6, 2014</td>\n",
       "    </tr>\n",
       "    <tr>\n",
       "      <th>151237</th>\n",
       "      <td>AQNX0WN00JEVE</td>\n",
       "      <td>B00KCJRVO2</td>\n",
       "      <td>C. Thilmany</td>\n",
       "      <td>[0, 0]</td>\n",
       "      <td>Tastes pretty much on par with other instant o...</td>\n",
       "      <td>4</td>\n",
       "      <td>Decent covenience breakfast</td>\n",
       "      <td>1404777600</td>\n",
       "      <td>07 8, 2014</td>\n",
       "    </tr>\n",
       "    <tr>\n",
       "      <th>151238</th>\n",
       "      <td>A55PK06Q6AKFY</td>\n",
       "      <td>B00KCJRVO2</td>\n",
       "      <td>ephemeral</td>\n",
       "      <td>[0, 0]</td>\n",
       "      <td>I don't usually eat quick-cooking oats, but so...</td>\n",
       "      <td>4</td>\n",
       "      <td>maple syrup flavor too sweet, others great</td>\n",
       "      <td>1405382400</td>\n",
       "      <td>07 15, 2014</td>\n",
       "    </tr>\n",
       "    <tr>\n",
       "      <th>151239</th>\n",
       "      <td>A3MZNRSDQ32UUH</td>\n",
       "      <td>B00KCJRVO2</td>\n",
       "      <td>imsocrazy \"frenzied reader\"</td>\n",
       "      <td>[0, 0]</td>\n",
       "      <td>I don't need to eat gluten free but since I go...</td>\n",
       "      <td>5</td>\n",
       "      <td>Tastes great</td>\n",
       "      <td>1404172800</td>\n",
       "      <td>07 1, 2014</td>\n",
       "    </tr>\n",
       "    <tr>\n",
       "      <th>151240</th>\n",
       "      <td>A1EARN5PUVIF1S</td>\n",
       "      <td>B00KCJRVO2</td>\n",
       "      <td>Jerry P. Danzig</td>\n",
       "      <td>[0, 0]</td>\n",
       "      <td>If you need to avoid gluten in your diet (or s...</td>\n",
       "      <td>4</td>\n",
       "      <td>Cool Gruel</td>\n",
       "      <td>1405123200</td>\n",
       "      <td>07 12, 2014</td>\n",
       "    </tr>\n",
       "    <tr>\n",
       "      <th>151241</th>\n",
       "      <td>A3SLC8F6VIWXIR</td>\n",
       "      <td>B00KCJRVO2</td>\n",
       "      <td>John T. Horner \"jthorner\"</td>\n",
       "      <td>[0, 0]</td>\n",
       "      <td>Surprisingly delicious for instant oatmeal. Wh...</td>\n",
       "      <td>5</td>\n",
       "      <td>Surprisingly delicious for instant oatmeal</td>\n",
       "      <td>1404950400</td>\n",
       "      <td>07 10, 2014</td>\n",
       "    </tr>\n",
       "    <tr>\n",
       "      <th>151242</th>\n",
       "      <td>AI2XINIZFPBI8</td>\n",
       "      <td>B00KCJRVO2</td>\n",
       "      <td>Kitty \"Kitty\"</td>\n",
       "      <td>[0, 0]</td>\n",
       "      <td>This is a wonderful product.  It is comforting...</td>\n",
       "      <td>5</td>\n",
       "      <td>Wonderful!</td>\n",
       "      <td>1404345600</td>\n",
       "      <td>07 3, 2014</td>\n",
       "    </tr>\n",
       "    <tr>\n",
       "      <th>151243</th>\n",
       "      <td>A398R165PXFOSS</td>\n",
       "      <td>B00KCJRVO2</td>\n",
       "      <td>Mental Mommy \"Mental Mommy\"</td>\n",
       "      <td>[0, 0]</td>\n",
       "      <td>Unlike most GF breakfast products, this isn't ...</td>\n",
       "      <td>5</td>\n",
       "      <td>Just like \"normal\" oatmeal!</td>\n",
       "      <td>1405900800</td>\n",
       "      <td>07 21, 2014</td>\n",
       "    </tr>\n",
       "    <tr>\n",
       "      <th>151244</th>\n",
       "      <td>A11T807LX2EF00</td>\n",
       "      <td>B00KCJRVO2</td>\n",
       "      <td>Michael</td>\n",
       "      <td>[1, 1]</td>\n",
       "      <td>A lot of these quick oatmeal products don't ma...</td>\n",
       "      <td>5</td>\n",
       "      <td>Easy to make and the taste is quite good. Exce...</td>\n",
       "      <td>1404604800</td>\n",
       "      <td>07 6, 2014</td>\n",
       "    </tr>\n",
       "    <tr>\n",
       "      <th>151245</th>\n",
       "      <td>A3W4D8XOGLWUN5</td>\n",
       "      <td>B00KCJRVO2</td>\n",
       "      <td>Michael Kerner \"Michael Kerner\"</td>\n",
       "      <td>[0, 0]</td>\n",
       "      <td>When it has came down to General Mills, they h...</td>\n",
       "      <td>3</td>\n",
       "      <td>Oatmeal, But Not More</td>\n",
       "      <td>1404086400</td>\n",
       "      <td>06 30, 2014</td>\n",
       "    </tr>\n",
       "    <tr>\n",
       "      <th>151246</th>\n",
       "      <td>A3H0ZQ74ITU83J</td>\n",
       "      <td>B00KCJRVO2</td>\n",
       "      <td>Mom and Teacher</td>\n",
       "      <td>[0, 0]</td>\n",
       "      <td>My daughter thinks it tastes just like the reg...</td>\n",
       "      <td>5</td>\n",
       "      <td>Thank you Chex!</td>\n",
       "      <td>1405900800</td>\n",
       "      <td>07 21, 2014</td>\n",
       "    </tr>\n",
       "    <tr>\n",
       "      <th>151247</th>\n",
       "      <td>A3RJR9UL7HEROC</td>\n",
       "      <td>B00KCJRVO2</td>\n",
       "      <td>Phelps Gates</td>\n",
       "      <td>[0, 0]</td>\n",
       "      <td>It may seem surprising to see an oatmeal produ...</td>\n",
       "      <td>4</td>\n",
       "      <td>Would have liked more information on gluten pr...</td>\n",
       "      <td>1404259200</td>\n",
       "      <td>07 2, 2014</td>\n",
       "    </tr>\n",
       "    <tr>\n",
       "      <th>151248</th>\n",
       "      <td>A3VYKXHQDICC6</td>\n",
       "      <td>B00KCJRVO2</td>\n",
       "      <td>philo_vance</td>\n",
       "      <td>[0, 0]</td>\n",
       "      <td>I like oatmeal and will often make a pot of Mc...</td>\n",
       "      <td>5</td>\n",
       "      <td>Excellent</td>\n",
       "      <td>1404604800</td>\n",
       "      <td>07 6, 2014</td>\n",
       "    </tr>\n",
       "    <tr>\n",
       "      <th>151249</th>\n",
       "      <td>A2L6QS8SVHT9RG</td>\n",
       "      <td>B00KCJRVO2</td>\n",
       "      <td>randomartco \"period film aficionado\"</td>\n",
       "      <td>[0, 0]</td>\n",
       "      <td>Delicious gluten-free oatmeal: we tried both t...</td>\n",
       "      <td>4</td>\n",
       "      <td>Delicious gluten-free oatmeal 'quick' packs!</td>\n",
       "      <td>1405123200</td>\n",
       "      <td>07 12, 2014</td>\n",
       "    </tr>\n",
       "    <tr>\n",
       "      <th>151250</th>\n",
       "      <td>AFJFXN42RZ3G2</td>\n",
       "      <td>B00KCJRVO2</td>\n",
       "      <td>R. DelParto \"Rose2\"</td>\n",
       "      <td>[0, 0]</td>\n",
       "      <td>With the many selections of instant oatmeal ce...</td>\n",
       "      <td>4</td>\n",
       "      <td>Convenient and Instant</td>\n",
       "      <td>1404604800</td>\n",
       "      <td>07 6, 2014</td>\n",
       "    </tr>\n",
       "    <tr>\n",
       "      <th>151251</th>\n",
       "      <td>ASEBX8TBYWQWA</td>\n",
       "      <td>B00KCJRVO2</td>\n",
       "      <td>Steven I. Ramm \"Steve Ramm &amp;#34;Anything Phon...</td>\n",
       "      <td>[1, 1]</td>\n",
       "      <td>While I usually review CDs and DVDs, as well a...</td>\n",
       "      <td>5</td>\n",
       "      <td>Compares favorably in taste and texture with o...</td>\n",
       "      <td>1404172800</td>\n",
       "      <td>07 1, 2014</td>\n",
       "    </tr>\n",
       "    <tr>\n",
       "      <th>151252</th>\n",
       "      <td>ANKQGTXHREOI5</td>\n",
       "      <td>B00KCJRVO2</td>\n",
       "      <td>Titanium Lili</td>\n",
       "      <td>[0, 1]</td>\n",
       "      <td>My son and I enjoyed these oatmeal packets.  H...</td>\n",
       "      <td>4</td>\n",
       "      <td>Pretty good!</td>\n",
       "      <td>1404432000</td>\n",
       "      <td>07 4, 2014</td>\n",
       "    </tr>\n",
       "    <tr>\n",
       "      <th>151253</th>\n",
       "      <td>A2CF66KIQ3RKX3</td>\n",
       "      <td>B00KCJRVO2</td>\n",
       "      <td>Vivian Deliz</td>\n",
       "      <td>[0, 0]</td>\n",
       "      <td>I like to eat oatmeal i the mornings. I usuall...</td>\n",
       "      <td>4</td>\n",
       "      <td>I like to eat oatmeal i the mornings</td>\n",
       "      <td>1405036800</td>\n",
       "      <td>07 11, 2014</td>\n",
       "    </tr>\n",
       "  </tbody>\n",
       "</table>\n",
       "</div>"
      ],
      "text/plain": [
       "            reviewerID        asin  \\\n",
       "151231  A3H8PA7AG48K33  B00KCJRVO2   \n",
       "151232  A2H2I5FY1PUHP1  B00KCJRVO2   \n",
       "151233  A3JH18T58CY65P  B00KCJRVO2   \n",
       "151234  A3KPJ1MOGTZVGC  B00KCJRVO2   \n",
       "151235  A3A7Y3TSPPZU9T  B00KCJRVO2   \n",
       "151236  A1UV5NB0DXTSWH  B00KCJRVO2   \n",
       "151237   AQNX0WN00JEVE  B00KCJRVO2   \n",
       "151238   A55PK06Q6AKFY  B00KCJRVO2   \n",
       "151239  A3MZNRSDQ32UUH  B00KCJRVO2   \n",
       "151240  A1EARN5PUVIF1S  B00KCJRVO2   \n",
       "151241  A3SLC8F6VIWXIR  B00KCJRVO2   \n",
       "151242   AI2XINIZFPBI8  B00KCJRVO2   \n",
       "151243  A398R165PXFOSS  B00KCJRVO2   \n",
       "151244  A11T807LX2EF00  B00KCJRVO2   \n",
       "151245  A3W4D8XOGLWUN5  B00KCJRVO2   \n",
       "151246  A3H0ZQ74ITU83J  B00KCJRVO2   \n",
       "151247  A3RJR9UL7HEROC  B00KCJRVO2   \n",
       "151248   A3VYKXHQDICC6  B00KCJRVO2   \n",
       "151249  A2L6QS8SVHT9RG  B00KCJRVO2   \n",
       "151250   AFJFXN42RZ3G2  B00KCJRVO2   \n",
       "151251   ASEBX8TBYWQWA  B00KCJRVO2   \n",
       "151252   ANKQGTXHREOI5  B00KCJRVO2   \n",
       "151253  A2CF66KIQ3RKX3  B00KCJRVO2   \n",
       "\n",
       "                                            reviewerName helpful  \\\n",
       "151231                                    A. Silverstone  [0, 0]   \n",
       "151232                                        Boilermate  [0, 0]   \n",
       "151233  Carolyn Howard-Johnson \"Multi award-winning w...  [0, 0]   \n",
       "151234                                     Catfish Kozmo  [0, 0]   \n",
       "151235                                       coffeebrain  [0, 0]   \n",
       "151236                   CrimsonGirl \"homeschooling mom\"  [0, 0]   \n",
       "151237                                       C. Thilmany  [0, 0]   \n",
       "151238                                         ephemeral  [0, 0]   \n",
       "151239                       imsocrazy \"frenzied reader\"  [0, 0]   \n",
       "151240                                   Jerry P. Danzig  [0, 0]   \n",
       "151241                         John T. Horner \"jthorner\"  [0, 0]   \n",
       "151242                                     Kitty \"Kitty\"  [0, 0]   \n",
       "151243                       Mental Mommy \"Mental Mommy\"  [0, 0]   \n",
       "151244                                           Michael  [1, 1]   \n",
       "151245                   Michael Kerner \"Michael Kerner\"  [0, 0]   \n",
       "151246                                   Mom and Teacher  [0, 0]   \n",
       "151247                                      Phelps Gates  [0, 0]   \n",
       "151248                                       philo_vance  [0, 0]   \n",
       "151249              randomartco \"period film aficionado\"  [0, 0]   \n",
       "151250                               R. DelParto \"Rose2\"  [0, 0]   \n",
       "151251  Steven I. Ramm \"Steve Ramm &#34;Anything Phon...  [1, 1]   \n",
       "151252                                     Titanium Lili  [0, 1]   \n",
       "151253                                      Vivian Deliz  [0, 0]   \n",
       "\n",
       "                                               reviewText  overall  \\\n",
       "151231  Usually the label &#34;gluten free&#34; is a c...        5   \n",
       "151232  I love oatmeal, and I'm always up to trying a ...        5   \n",
       "151233  I am constantly searching for gluten-free prod...        4   \n",
       "151234  My daughter and husband are both gluten free a...        5   \n",
       "151235  Oh my!  Insanely good oatmeal and GLUTEN FREE....        5   \n",
       "151236  My 3rd child has non-celiac gluten intolerance...        3   \n",
       "151237  Tastes pretty much on par with other instant o...        4   \n",
       "151238  I don't usually eat quick-cooking oats, but so...        4   \n",
       "151239  I don't need to eat gluten free but since I go...        5   \n",
       "151240  If you need to avoid gluten in your diet (or s...        4   \n",
       "151241  Surprisingly delicious for instant oatmeal. Wh...        5   \n",
       "151242  This is a wonderful product.  It is comforting...        5   \n",
       "151243  Unlike most GF breakfast products, this isn't ...        5   \n",
       "151244  A lot of these quick oatmeal products don't ma...        5   \n",
       "151245  When it has came down to General Mills, they h...        3   \n",
       "151246  My daughter thinks it tastes just like the reg...        5   \n",
       "151247  It may seem surprising to see an oatmeal produ...        4   \n",
       "151248  I like oatmeal and will often make a pot of Mc...        5   \n",
       "151249  Delicious gluten-free oatmeal: we tried both t...        4   \n",
       "151250  With the many selections of instant oatmeal ce...        4   \n",
       "151251  While I usually review CDs and DVDs, as well a...        5   \n",
       "151252  My son and I enjoyed these oatmeal packets.  H...        4   \n",
       "151253  I like to eat oatmeal i the mornings. I usuall...        4   \n",
       "\n",
       "                                                  summary  unixReviewTime  \\\n",
       "151231                       Get Your Morning Going Right      1405123200   \n",
       "151232        What Instant Oatmeal Is Supposed to Be Like      1405900800   \n",
       "151233  Two Lists--What I Love and What I Don't Like S...      1404086400   \n",
       "151234               Vital for those with gluten alergies      1405382400   \n",
       "151235                         Yay!  Gluten Free Oatmeal!      1404086400   \n",
       "151236     Tasty but flavored varieties are high in sugar      1404604800   \n",
       "151237                        Decent covenience breakfast      1404777600   \n",
       "151238         maple syrup flavor too sweet, others great      1405382400   \n",
       "151239                                       Tastes great      1404172800   \n",
       "151240                                         Cool Gruel      1405123200   \n",
       "151241         Surprisingly delicious for instant oatmeal      1404950400   \n",
       "151242                                         Wonderful!      1404345600   \n",
       "151243                        Just like \"normal\" oatmeal!      1405900800   \n",
       "151244  Easy to make and the taste is quite good. Exce...      1404604800   \n",
       "151245                              Oatmeal, But Not More      1404086400   \n",
       "151246                                    Thank you Chex!      1405900800   \n",
       "151247  Would have liked more information on gluten pr...      1404259200   \n",
       "151248                                          Excellent      1404604800   \n",
       "151249       Delicious gluten-free oatmeal 'quick' packs!      1405123200   \n",
       "151250                             Convenient and Instant      1404604800   \n",
       "151251  Compares favorably in taste and texture with o...      1404172800   \n",
       "151252                                       Pretty good!      1404432000   \n",
       "151253               I like to eat oatmeal i the mornings      1405036800   \n",
       "\n",
       "         reviewTime  \n",
       "151231  07 12, 2014  \n",
       "151232  07 21, 2014  \n",
       "151233  06 30, 2014  \n",
       "151234  07 15, 2014  \n",
       "151235  06 30, 2014  \n",
       "151236   07 6, 2014  \n",
       "151237   07 8, 2014  \n",
       "151238  07 15, 2014  \n",
       "151239   07 1, 2014  \n",
       "151240  07 12, 2014  \n",
       "151241  07 10, 2014  \n",
       "151242   07 3, 2014  \n",
       "151243  07 21, 2014  \n",
       "151244   07 6, 2014  \n",
       "151245  06 30, 2014  \n",
       "151246  07 21, 2014  \n",
       "151247   07 2, 2014  \n",
       "151248   07 6, 2014  \n",
       "151249  07 12, 2014  \n",
       "151250   07 6, 2014  \n",
       "151251   07 1, 2014  \n",
       "151252   07 4, 2014  \n",
       "151253  07 11, 2014  "
      ]
     },
     "execution_count": 253,
     "metadata": {},
     "output_type": "execute_result"
    }
   ],
   "source": [
    "df[df.asin == 'B00KCJRVO2']"
   ]
  },
  {
   "cell_type": "code",
   "execution_count": 256,
   "id": "eeb293e8-9612-4a76-9d7a-965f51c638f5",
   "metadata": {},
   "outputs": [
    {
     "data": {
      "text/plain": [
       "array([\"I like to eat oatmeal i the mornings. I usually buy Quaker Oats or Wegman's house brand. I found that the cost was a lot more since I pay about $4 for a box of ten packets. This is almost double for only 6 packets.The taste was good as it compares to the two brands that I normally buy. The claim of heartier is suspect as the amount of oatmeal in the gluten free chex oatmeal is slightly more.I would only recommend this product if you are gluten intolerant otherwise purchase any other that is cheaper.\"],\n",
       "      dtype=object)"
      ]
     },
     "execution_count": 256,
     "metadata": {},
     "output_type": "execute_result"
    }
   ],
   "source": [
    "df[df.asin == 'B00KCJRVO2'].loc[151253:, 'reviewText'].values"
   ]
  },
  {
   "cell_type": "code",
   "execution_count": 259,
   "id": "6e735a73-4919-43fd-89cc-707814d215f0",
   "metadata": {},
   "outputs": [
    {
     "data": {
      "text/plain": [
       "0    Beemster Gouda - Aged 18/24 Months - App. 1.5 Lbs\n",
       "1                            Trim Healthy Mama Xylitol\n",
       "2    Letter C - Swarovski Crystal Monogram Wedding ...\n",
       "3    Letter H - Swarovski Crystal Monogram Wedding ...\n",
       "4    Letter S - Swarovski Crystal Monogram Wedding ...\n",
       "Name: title, dtype: object"
      ]
     },
     "execution_count": 259,
     "metadata": {},
     "output_type": "execute_result"
    }
   ],
   "source": [
    "df['title'].head()"
   ]
  },
  {
   "cell_type": "code",
   "execution_count": 260,
   "id": "badad91a-cc81-40c7-9bf7-af7653f086ff",
   "metadata": {},
   "outputs": [
    {
     "data": {
      "text/html": [
       "<div>\n",
       "<style scoped>\n",
       "    .dataframe tbody tr th:only-of-type {\n",
       "        vertical-align: middle;\n",
       "    }\n",
       "\n",
       "    .dataframe tbody tr th {\n",
       "        vertical-align: top;\n",
       "    }\n",
       "\n",
       "    .dataframe thead th {\n",
       "        text-align: right;\n",
       "    }\n",
       "</style>\n",
       "<table border=\"1\" class=\"dataframe\">\n",
       "  <thead>\n",
       "    <tr style=\"text-align: right;\">\n",
       "      <th></th>\n",
       "      <th>category</th>\n",
       "      <th>tech1</th>\n",
       "      <th>description</th>\n",
       "      <th>fit</th>\n",
       "      <th>title</th>\n",
       "      <th>also_buy</th>\n",
       "      <th>tech2</th>\n",
       "      <th>brand</th>\n",
       "      <th>feature</th>\n",
       "      <th>rank</th>\n",
       "      <th>also_view</th>\n",
       "      <th>main_cat</th>\n",
       "      <th>similar_item</th>\n",
       "      <th>date</th>\n",
       "      <th>price</th>\n",
       "      <th>asin</th>\n",
       "      <th>imageURL</th>\n",
       "      <th>imageURLHighRes</th>\n",
       "      <th>details</th>\n",
       "    </tr>\n",
       "  </thead>\n",
       "  <tbody>\n",
       "    <tr>\n",
       "      <th>196269</th>\n",
       "      <td>[Grocery &amp; Gourmet Food, Breakfast Foods, Cere...</td>\n",
       "      <td></td>\n",
       "      <td>[Enjoy your gluten freedom. Chex Gluten Free O...</td>\n",
       "      <td></td>\n",
       "      <td>Chex Gluten Free Oatmeal Variety Pack, 8.84 Ounce</td>\n",
       "      <td>[]</td>\n",
       "      <td></td>\n",
       "      <td>Chex</td>\n",
       "      <td>[]</td>\n",
       "      <td>709,598 in Grocery &amp; Gourmet Food (</td>\n",
       "      <td>[]</td>\n",
       "      <td>Grocery</td>\n",
       "      <td></td>\n",
       "      <td></td>\n",
       "      <td></td>\n",
       "      <td>B00KCJRVO2</td>\n",
       "      <td>[]</td>\n",
       "      <td>[]</td>\n",
       "      <td>{'\n",
       "    Item Weight: \n",
       "    ': '8.8 ounces', 'Shi...</td>\n",
       "    </tr>\n",
       "  </tbody>\n",
       "</table>\n",
       "</div>"
      ],
      "text/plain": [
       "                                                 category tech1  \\\n",
       "196269  [Grocery & Gourmet Food, Breakfast Foods, Cere...         \n",
       "\n",
       "                                              description fit  \\\n",
       "196269  [Enjoy your gluten freedom. Chex Gluten Free O...       \n",
       "\n",
       "                                                    title also_buy tech2  \\\n",
       "196269  Chex Gluten Free Oatmeal Variety Pack, 8.84 Ounce       []         \n",
       "\n",
       "       brand feature                                 rank also_view main_cat  \\\n",
       "196269  Chex      []  709,598 in Grocery & Gourmet Food (        []  Grocery   \n",
       "\n",
       "       similar_item date price        asin imageURL imageURLHighRes  \\\n",
       "196269                          B00KCJRVO2       []              []   \n",
       "\n",
       "                                                  details  \n",
       "196269  {'\n",
       "    Item Weight: \n",
       "    ': '8.8 ounces', 'Shi...  "
      ]
     },
     "execution_count": 260,
     "metadata": {},
     "output_type": "execute_result"
    }
   ],
   "source": [
    "df[df.asin == 'B00KCJRVO2']"
   ]
  },
  {
   "cell_type": "code",
   "execution_count": 277,
   "id": "a5411717-7fbe-485e-85de-8706e6c954c4",
   "metadata": {},
   "outputs": [
    {
     "data": {
      "text/plain": [
       "'he_PRP is_VBZ lazy_JJ '"
      ]
     },
     "execution_count": 277,
     "metadata": {},
     "output_type": "execute_result"
    }
   ],
   "source": [
    "pipe_pos('he is lazy')"
   ]
  },
  {
   "cell_type": "code",
   "execution_count": 276,
   "id": "11599ef3-6028-4e73-bef8-cf36267280fd",
   "metadata": {},
   "outputs": [
    {
     "data": {
      "text/plain": [
       "'hes_NNS lazy_VBP '"
      ]
     },
     "execution_count": 276,
     "metadata": {},
     "output_type": "execute_result"
    }
   ],
   "source": [
    "pipe_pos('hes lazy')"
   ]
  },
  {
   "cell_type": "code",
   "execution_count": 284,
   "id": "783c6ff6-0d07-47ae-880b-0dff35263240",
   "metadata": {},
   "outputs": [
    {
     "data": {
      "text/plain": [
       "'TBeemster Gouda Months App Lbs '"
      ]
     },
     "execution_count": 284,
     "metadata": {},
     "output_type": "execute_result"
    }
   ],
   "source": [
    "pipe_subjectCleaning('TBeemster Gouda - Aged 18/24 Months - App. 1.5 Lbs')"
   ]
  },
  {
   "cell_type": "code",
   "execution_count": 200,
   "id": "0b803889-2b4d-4ee7-9ff3-7428fb12d722",
   "metadata": {},
   "outputs": [
    {
     "data": {
      "text/plain": [
       "'I am a sweet-aholic. That\\'s my main downfall when it comes to eating healthy, that and portion control. I love chocolate and decided to one day google \"healthiest chocolate\" and stumbled across Vitalicious products. People were making them seem like they were the best things on Earth-- \"taste just like regular muffins and brownies, but just healthy PLUS they could be walked off in 13 minutes.\" All of that made me happy, and despite the huge pricetag I decided to purchase these babies anyway.To make my review more useful I\\'ve decided to eat 1-2 daily and post my opinions on each flavor as I eat them (so this will be updated until I review each flavor), and rate them out of 5. (To give you an idea of my \"sweet-tooth\" taste palette- I really really love chocolate, my favorite desserts are probably chocolate cake (devils food) with vanilla frosting, hot apple pie and vanilla ice cream, and brownie and ice cream. I love chocolate chip cookies, I\\'m a fan of most candy bars, I enjoy pizza hut cinnamon sticks and krispy kreme doughnuts (even though I don\\'t get to eat these things anymore- I love them :-) ).CONTENTS of SUPER SAMPLER: 2 MultiBran, 2 BlueBran, 2 Banana Nut, 2 CranBran, 2 AppleBerry, 2 Golden Corn, 4 VitaBrownies, 2 Double Chocolate, 2 Double Chocolate Dream, 2 Chocolate Fig, 2 Fudgy Peanut Butter Chip.1. Vitabrownies: (2/5) Taste more like a cake that was made with apple sauce instead of oil and splenda instead of real sugar and egg whites instead of the full eggs. There\\'s a little sweetness there, but does not compare in anyway to a real brownie. This is the first one I ate from the package... when the FeDex truck came and dropped the package off I literally went straight to the kitchen opened the box took out one brownie and put the rest in the freezer. I ate a piece, then warmed the rest up for about 30 seconds. The brownie just wasn\\'t that moist, there were sections of moistness and it looked moist, but it just didn\\'t hit the spot like I wanted. However, because of all the fiber it did leave me sorta full or satisfied afterwards (I ate it with a bottle of water).2. Banana Nut: (3/5)  Banana nut is my favorite type of muffin and I deem this particuar vitalicious banana nut as a healthier version of a healthy banana nut muffin. Familiar taste and could curb a banana nut bread fanatic\\'s craving.. its okay.3. Deep Chocolate: (5/5) This was pretty good, I\\'m sure its the best one of them all, but it still didn\\'t hit the spot quite like I thought it would given the GREAT reviews everyone has written. The sections in the muffin top with the chocolate chips were the best b/c the chocolate chips are great, but there\\'s only like 4 chips in the whole muffin top. What I\\'m fighuring now, after eating this one is that these are the type of food that you probably grow to love- like if you were determined to lose weight and/or eat right then you would just learn to love this and they would satisfy your cravings for sweets especilly if you aren\\'t a sweetaholic like me. Also the Deep Chocolate tasted more like a brownie than the Vitabrownies which I found surprising.  ****(Changed to 4.5/5 after eating for the second time, changed to 5/5 after eating these alot more)4. Blueberry (BlueBran): (1/5) You know the taste of plain oats- when you just add water. This is how this taste- with a teasppon of sugar in the mix. It\\'s plain, very plain and I honestly feel like I\\'m just wasting calories. As I sit here, eating this, writing to you guys I am now 100% positive that these vitalicious products are meant for people with very mild sweet toothes who don\\'t really like sweets, but want something sweet and healthy every now and again. I would rather use 250 calories and eat a real 3 Musketeers bar than to only use 100 and eat something that doesnt even taste good. This is my 2nd day and fourth muffin and  I honestly want to send back the box. I can appreciate the nutrients in each item though, but hey that\\'s what Bolthouse Farms drinks are for. I know its easier to make an extremely healthy tasty drink than it is to make a healthy tasty baked good, but I really thought that Vitalicious was going to be the Bolthouse Farms of the sweets/chocolate world... I was so wrong.Though I planned to post the review after eating them all, I think I\\'ll post it now (10.15.09) because I honestly am just going to \"charge it to the game\"- meaning I wasted [...] to taste test, but I\\'ll look at it as a sacrifice for others who are thinking about buying them. I will very randomly eat the rest... and just add the reviews of their taste as I eat (provided that i actually eat another one again). I am honestly just very disaapointed- I thought I wouldnt have to buy anything sweet for atleast 2 weeks, now I\\'m somewhat going back to the drawing board.Conclusion: At 36 bucks(...) 1.50(...) per brownie/muffin top) I think that it\\'s not worth it. For me, with my budget, I\\'m better off buying the 100-calorie packs in the store and just leaving them in the car if I don\\'t think I can control myself to eat just one. Atleast with the 100-calorie packs you get 6 for about (...)  (0.67 per pack) and if you have coupons you can get it or less than that.  But again, I know that its hard to control yourself with the 100-calorie packs because they\\'re just so darn tasty.... Vitalicious products will definitely make it easier to exhibit self control since they\\'re fiber rich and not extremely tasty-- they\\'re more like \"just tasty enough\". **(Please check my FINAL CONCLUSION at the bottom).Other random notes:- I do not suggest buying this particular sampler, if you buy anything buy the chocolate sampler- the chocolate flavors are the best and will grow on you overtime- this has happened to me. It\\'s still no Betty Crocker or Hershey\\'s chocolate, but it grows on you. The key is warming them up at exactly the right number of seconds.- I think these may be better to a person who loves muffins- the texture the taste. I do love a great muffin, but I don\\'t eat them everyday for breakfast like some people. If you\\'re the kind of person that blows about 500-600 calories on a muffin every morning than this is probably a more fitting healthy alternative for you.- I still don\\'t get how all their products are getting such high reviews, I guess the people who don\\'t like them aren\\'t really saying much. Don\\'t get me wrong I do think this is a great product- all those vitamins and just 100 calories- ist great, but it\\'s great for someon who doesn\\'t really eat a whole lot of sweets anyway not for someone who has an extreme sweet tooth like me.- If for some reason these do begin to grow on me after a few more days/weeks, I promise to come back and tell you guys... b/c this just may be one of the products that has to grow on you.- I gave the product 2 stars, but I really wanted to just give it 1. But I figured the Vitalicious lovers would be too mad at me if I gave their beloved product one. So I settled with two because of that and because they are filled with vitiamins and what not.**UPDATE, UPDATE, UPDATE, UPDATE, UPDATE (updates below)****:5.  Fudgy Peanut Buter Chip: (2/5) This was okay. The peanut butter taste was watered down... chocolate was bland. There is nothing  and I mean nothing \"fudgy\" about this.6. Double Chocolate Dream: (4/5). Ummmm, well, as I sit here eating this tasty chocolate treat, I\\'m scratching my head trying to figure out- is this bland vitalicious chocolate growing on me-- or does this one really taste good? I took this out the freezer, warmed it up for 30 seconds, opened the microwave and it smelled like chocolate milk... this was interesting. Grabbed my smoothie, sat down and begin to eat.... and you guys, this is the best one so far. This actually taste like a box chocolate cake that you just added a little too much water into. Whatever they added in this one they need to do to the rest. Double Chocolate Dream will actually curb a chocolate craving.- I ate another Vitabrownie and guys after the 3rd one they\\'re beginning to grow on me. And you know what eating like 2-3 of these a day actually makes you eat less- its weird. You\\'re just less hungry I\\'ve been calculating my calories and though I was thinking I was eating 1600 or so calories a day. I\\'ve actually been eating more like 800-1200 (max) and I think its the vitabrownies and muffins that are helping... and all the protein I eat--- like tuna and salmon. That combined with my smoothies and bolthouse farm drinks and water.7. Appleberry: (2/5). I\\'ll say it again all of Vitalicious\\'s bran products taste like watered down oats with a drop of sugar. If you\\'re big on plain granola and plain oats and similar foods then you\\'ll like them otherwise it very barely satisfies a sweet tooth. The apple smell is nice, I just wish it was more present... like I wish it had a apple-cinnamon type taste.8. CranBran: (1/5). (read above review). Very plain taste. Can I give a 0/5? Is that fair... Idk, these Brans probably deserve 0 out of 5.9. Chocolate Fig: (2/5). I\\'m not big on figs, and actually I feel like chewy snacks in breaded/crunchy sweets are unnecessary- like raisins. So since I had to remove the figs, this wasn\\'t my favorite. The chocolate was okay... sort of bland because there\\'s no chocolate chips to make it moist. (meant for those who can enjoy both chocolate and fig newtons)- I ate another Deep Chocolate... and mm mmm good! The Vitalicious chocolate taste is growing on me. I think these may taste better after frozen for 2 or more days then warmed up at 30 seconds. Deep Chocolate just may be better than Double Chocolate Dream... it may deserve a 4/5, hmmm.- I have suggestions for Vitalicious... put more chocolate chips in the VitaBrownie, also create an Apple-Cinnamon flavor and a Carrot Cake type flavor.- You guys I\\'m so scared to taste the Golden Corn and Multi-Gran because I\\'m sure I won\\'t like it. I have 2 of each of those left, a CranBran BlueberryBran, AppleBerry, and Chocolate Fig. Thats about 8 x 1.50 going to waste. 12 bucks((...)- that could have went towards atleast 3 boxes of 100 calorie snacks or 3 bolthouse farm drinks or 2-3 days worth of quiznos). I\\'ll still come back and review the others later, but I now feel I can make a 100% call on Vitalicious muffins and brownies... here\\'s my final conclusion...10. Golden Corn: (4/5). Sooooo, I\\'m sitting here, drinking my hot mint green tea and delicately chowing down on this Golden Corn vitamuffin, and people this is darn good! When I took the first bite I thought to myself, \"Duuuh, its called golden corn so its suppose to taste like cornbread!\". And this healthy piece of corn bread is much better than most-- it taste like a healthy gourmet version of Jiffy cornbread. It is sooo good, I\\'m not sure if everyone will have this same reaction, but if you\\'re a fan of sweet cornbread then you definitely will. This is perfect for those of you who have given up your fried chicken for grilled chicken and your buttery mash potatoes for plain baked potatoes-- its the perfect addition to your meal. And honestly its good just eaten as a midday or midnight snack. 100 calories, 0 fat, lots of fiber and vitamins- it can\\'t get any better. This out of all the other flavors taste the most like what its supposed to be, meaning: you could blindfold someone and put 5-6 different cornbreads in front of them and they would not guess this to be the healthiest and that\\'s why I\\'m giving it a 4.5/5.  ---Okay so after eating this again, I still love it, but I feel like I overdid the review, I think I first ate it when I was pretty hungry and craving sweetness. On the second go round it was still really good but more like a 4/5.***FINAL CONCLUSION***: Run like heck from all Vitalicious Bran-flavored products, they taste like plain quaker oats with too much water and a teaspoon of sugar with bits of warm fruit scattered throughout. They\\'re only for those who delight in bran flavor. Appleberry is decent, pretty good even, if you really like apple and berry flavored breads and muffins. The Banana Nut is the best replica muffin in my opinion, its tasty and can be looked at as a light version of a banana nut muffin. Golden Corn (sigh) is delicious. It tastes just like the sweet cornbread most southerners looks forward to at Sunday Dinner meals (with a slightly lighter taste and all with the added benefit of it being healthy).The chocolate grows on you overtime. The first 2 times you eat one of the chocolate flavors, you\\'ll be sad and wondering why you spent so much money, but then by day 3 and your 3rd or 4th Deep Chocolate or Double Chocolate Dream you\\'ll be happy. And a part of that happiness will be because you are unintentionally and unnoticeably eating less (because of the fiber you\\'ll stay fuller longer).I work from home so its very easy for me to snack snack snack all day, but with a little self-control and the chocolate Vitalicious muffintop it will be easy to control snacking. If I could find it in my heart to spend another (...) on 24 snack cakes I would EASILY order a box of Deep ChocolateVitalicious Deep Chocolate Vita Tops , 2-Ounce Units (Pack of 24). I can safely say that this will satisfy a chocoholics need for chocolate... just use them as your once a day daily treat. If they\\'re frozen warm it up for 30 seconds. If its room-temperature try 15 seconds. You will most likely not like it the first time, but it grows on you.Besides Deep Chocolate the only other Vitalicious muffintops that I would reccomend trying out are: Golden Corn, Double Chocolate Dream, and Triple Chocolate Chunk, and maybe Vitabrownies- and that\\'s only if you\\'re a big fan of nuts, otherwise stick to the muffintops they taste more like brownies.I just want to repeat the fact that I don\\'t know why these are getting such overall high reviews... I\\'m guessing its because some people from their company are the ones writing them (lol) or the people who are writing reviews don\\'t have INTENSE sweet cravings like I do. If you have an intense sweet tooth Please don\\'t waste your money on this sampler-- you will most likely regret it. The best flavors really are Deep Chocolate and Golden Corn (if you like southern cornbread). If you are looking for something to curb your sweet tooth just stick to Deep Chocolate ( I believe it has perfect reviews)Whew! I\\'ve written alot, but I hope this helps you guys to make a better decision. I decided to make my review comprehensive because this is alot of cash to spend on small sweets... Plus, when I was trying to decide whether or not to buy these I assumed the posted reviews were helpful, but they really weren\\'t (except for the tips on immediately freezing them).  I ended up only actually liking 5 flavors (deep chocolate, golden corn, double chocolate dream, banana nut, brownie). That indubitably means that I \"wasted\" 12 muffintops... don\\'t let those muffintops have been painfully eaten and picked over in vain...Good Luck with choosing 100-calories snack foods to assist you with your healthy lifestyle.***Last UPDATE Nov 3, 2009***11. MultiBran: (1/5). I\\'m writing this well after eating the ones above. Its been in the freezer for about 2 weeks now so I figured- what the heck let\\'s get it on MultiBran. And you guys-- this bran taste actually grows on you aferwhile... I\\'ll still give it a 1/5, but I\\'m so used to the plain watery quaker oats taste that it doesn\\'t bother me anymore. I feel sorta bad for coming down so hard on the bran since, after all, it is very good for you. After eating the MultiBran-- which I dubbed from day one the \"king of the muffintop brans\" I realize that this sampler is good for those who are health nuts and are used to these plain flavors. I can now actually see why people give this sampler high ratings, its because they eat stuff like this all day long and so to them it really is good, they\\'re probably people who arent that big on sweets anyway, and who easily have 36 bucks (...) to spend on 24 muffins.  Like I said I work from home so its easy for me to snack all day, but just from me starting the day off with a vitalicious muffin (and fruit) I can eat less... I consumed 1010 calories total yesterday.Now that I know what I like and dislike I wouldn\\'t buy this sampler again, but if you really are curious on your own how all these flavors taste then feel free to indulge. I might even give this 3 stars.... well maybe not because these taste really are bland. But still the Vitalicious muffintops do assist in being able to live a healthy lifestyle and thats what im about. I\\'m not \"dieting\" I\\'m practicing a healthy lifestyle and vitalicious will take you MUCH further then those nabisco, sunshine, and keebler 100 calorie packs. Because the flavor is exactly the same I end up eating the whole box of those tasty shortbread/oreos/chip ahoys/cheezits in one day... sometimes in 2 sittings.... but you wouldnt have that problem with these, its hard to eat more than 2 even though they\\'re pretty small. The key is eating these with something, like a smoothie or some fruit and water.**IMPORTANT TIP**:::: Before buying these I just suggest you ask yourself what your main purpose of purchasing them are. Is it to explore healthy snacks? Is it to find healthy breakfast food? Is it to help with sweet cravings? To help with oversnacking? To find good bran flavored foods? Mine was to find healthy sweets. Something that I liked that was low in calories, had vitamins, and would sufficiently curb my cravings for candy bars (lol). I love chocolate and I have sugar cravings. So in my case I would have been better off just purchasing Deep Chocolate. Everyone will come out with a slightly different conclusion, some may not need to purchase these at all.Also it generally helps to order these with low (very low) expectations. To the point that you\\'re almost scared to eat it, so that when you finally do it\\'s like , \"hmmm? okay, wow, well... this is pretty good\". lol.Good Luck everyone!PS- ** The prices on these vitatops are strange, they fluctuate... is anyone else noticing this? I went ahead and ordered the triple chocolate chunk yesterday and because they were about 26 bucks (...) plus free shipping. Now, not even 12 hours later,  they\\'re 32... what happened? Its as if the price of the chocolate ones are going up while the bran is lowering... thats just wrong. You all may just want to buy from your local store... Vitalicious Vitatops has a Facebook page and they seem to answer their fans pretty quickly. They say if a store near you doesn\\'t carry their muffintops you can put in a request at the store and Vitalicious will be sure to get them to that particular store--- as long as its one that is supposed to carry Vitatops, like Krogers, Gristedes, Food Emporium, Whole Foods, etc. (check their website for the complete listing).'"
      ]
     },
     "execution_count": 200,
     "metadata": {},
     "output_type": "execute_result"
    }
   ],
   "source": [
    "dfdataTrain[dfdataTrain.countSentences == dfdataTrain['countSentences'].max()].reviewText.values[0]"
   ]
  },
  {
   "cell_type": "code",
   "execution_count": 233,
   "id": "1a460349-cc68-40b1-bcfa-5a0632a061dc",
   "metadata": {},
   "outputs": [
    {
     "data": {
      "text/plain": [
       "\"I_PRP am_VBP a_DT sweet-aholic_JJ ._. That_DT 's_VBZ my_PRP$ main_JJ downfall_NN when_WRB it_PRP comes_VBZ to_TO eating_VBG healthy_JJ ,_, that_DT and_CC portion_NN control_NN ._. I_PRP love_VBP chocolate_NN and_CC decided_VBD to_TO one_CD day_NN google_VB ``_`` healthiest_JJS chocolate_NN ''_'' and_CC stumbled_VBD across_IN Vitalicious_JJ products_NNS ._. People_NNS were_VBD making_VBG them_PRP seem_VBP like_IN they_PRP were_VBD the_DT best_JJS things_NNS on_IN Earth_NNP --_: ``_`` taste_NN just_RB like_IN regular_JJ muffins_NNS and_CC brownies_NNS ,_, but_CC just_RB healthy_JJ PLUS_NNP they_PRP could_MD be_VB walked_VBN off_RP in_IN 13_CD minutes_NNS ._. ''_'' All_DT of_IN that_DT made_VBD me_PRP happy_JJ ,_, and_CC despite_IN the_DT huge_JJ pricetag_NN I_PRP decided_VBD to_TO purchase_VB these_DT babies_NNS anyway.To_VBP make_VB my_PRP$ review_NN more_RBR useful_JJ I_PRP 've_VBP decided_VBN to_TO eat_VB 1-2_JJ daily_JJ and_CC post_VB my_PRP$ opinions_NNS on_IN each_DT flavor_NN as_IN I_PRP eat_VBP them_PRP (_( so_IN this_DT will_MD be_VB updated_VBN until_IN I_PRP review_VBP each_DT flavor_NN )_) ,_, and_CC rate_NN them_PRP out_IN of_IN 5_CD ._. (_( To_TO give_VB you_PRP an_DT idea_NN of_IN my_PRP$ ``_`` sweet-tooth_JJ ''_'' taste_NN palette-_NN I_PRP really_RB really_RB love_VB chocolate_NN ,_, my_PRP$ favorite_JJ desserts_NNS are_VBP probably_RB chocolate_JJ cake_NN (_( devils_VB food_NN )_) with_IN vanilla_NN frosting_NN ,_, hot_JJ apple_NN pie_NN and_CC vanilla_NN ice_NN cream_NN ,_, and_CC brownie_NN and_CC ice_NN cream_NN ._. I_PRP love_VBP chocolate_JJ chip_NN cookies_NNS ,_, I_PRP 'm_VBP a_DT fan_NN of_IN most_JJS candy_NN bars_NNS ,_, I_PRP enjoy_VBP pizza_JJ hut_NN cinnamon_NN sticks_NNS and_CC krispy_VB kreme_NN doughnuts_NNS (_( even_RB though_IN I_PRP do_VBP n't_RB get_VB to_TO eat_VB these_DT things_NNS anymore-_VBP I_PRP love_VBP them_PRP :_: -_: )_) )_) .CONTENTS_NN of_IN SUPER_NNP SAMPLER_NNP :_: 2_CD MultiBran_NNP ,_, 2_CD BlueBran_NNP ,_, 2_CD Banana_NNP Nut_NNP ,_, 2_CD CranBran_NNP ,_, 2_CD AppleBerry_NNP ,_, 2_CD Golden_NNP Corn_NNP ,_, 4_CD VitaBrownies_NNS ,_, 2_CD Double_JJ Chocolate_NNP ,_, 2_CD Double_JJ Chocolate_NNP Dream_NNP ,_, 2_CD Chocolate_NNP Fig_NNP ,_, 2_CD Fudgy_NNP Peanut_NNP Butter_NNP Chip.1_NNP ._. Vitabrownies_NNS :_: (_( 2/5_CD )_) Taste_NN more_RBR like_IN a_DT cake_NN that_WDT was_VBD made_VBN with_IN apple_NN sauce_VBP instead_RB of_IN oil_NN and_CC splenda_NN instead_RB of_IN real_JJ sugar_NN and_CC egg_NN whites_NNS instead_RB of_IN the_DT full_JJ eggs_NNS ._. There_EX 's_VBZ a_DT little_JJ sweetness_NN there_RB ,_, but_CC does_VBZ not_RB compare_VB in_IN anyway_RB to_TO a_DT real_JJ brownie_NN ._. This_DT is_VBZ the_DT first_JJ one_CD I_PRP ate_VBP from_IN the_DT package_NN ..._: when_WRB the_DT FeDex_NNP truck_NN came_VBD and_CC dropped_VBD the_DT package_NN off_IN I_PRP literally_RB went_VBD straight_RB to_TO the_DT kitchen_NN opened_VBD the_DT box_NN took_VBD out_RP one_CD brownie_NN and_CC put_VBD the_DT rest_NN in_IN the_DT freezer_NN ._. I_PRP ate_VBP a_DT piece_NN ,_, then_RB warmed_VBD the_DT rest_NN up_RP for_IN about_RB 30_CD seconds_NNS ._. The_DT brownie_NN just_RB was_VBD n't_RB that_IN moist_NN ,_, there_EX were_VBD sections_NNS of_IN moistness_NN and_CC it_PRP looked_VBD moist_NN ,_, but_CC it_PRP just_RB did_VBD n't_RB hit_VB the_DT spot_NN like_IN I_PRP wanted_VBD ._. However_RB ,_, because_IN of_IN all_PDT the_DT fiber_NN it_PRP did_VBD leave_VB me_PRP sorta_JJ full_JJ or_CC satisfied_JJ afterwards_NNS (_( I_PRP ate_VBP it_PRP with_IN a_DT bottle_NN of_IN water_NN )_) .2_NN ._. Banana_NNP Nut_NNP :_: (_( 3/5_CD )_) Banana_NNP nut_NN is_VBZ my_PRP$ favorite_JJ type_NN of_IN muffin_NN and_CC I_PRP deem_VBP this_DT particuar_NN vitalicious_JJ banana_NN nut_NN as_IN a_DT healthier_JJR version_NN of_IN a_DT healthy_JJ banana_NN nut_JJ muffin_NN ._. Familiar_NNP taste_NN and_CC could_MD curb_VB a_DT banana_NN nut_NN bread_VBD fanatic_JJ 's_POS craving_VBG .._CC its_PRP$ okay.3_NN ._. Deep_JJ Chocolate_NN :_: (_( 5/5_CD )_) This_DT was_VBD pretty_RB good_JJ ,_, I_PRP 'm_VBP sure_JJ its_PRP$ the_DT best_JJS one_CD of_IN them_PRP all_DT ,_, but_CC it_PRP still_RB did_VBD n't_RB hit_VB the_DT spot_NN quite_RB like_IN I_PRP thought_VBD it_PRP would_MD given_VBN the_DT GREAT_JJ reviews_NNS everyone_NN has_VBZ written_VBN ._. The_DT sections_NNS in_IN the_DT muffin_NN top_NN with_IN the_DT chocolate_NN chips_NNS were_VBD the_DT best_JJS b/c_NN the_DT chocolate_NN chips_NNS are_VBP great_JJ ,_, but_CC there_EX 's_VBZ only_RB like_JJ 4_CD chips_NNS in_IN the_DT whole_JJ muffin_NN top_NN ._. What_WP I_PRP 'm_VBP fighuring_VBG now_RB ,_, after_IN eating_VBG this_DT one_CD is_VBZ that_IN these_DT are_VBP the_DT type_NN of_IN food_NN that_IN you_PRP probably_RB grow_VB to_TO love-_JJ like_IN if_IN you_PRP were_VBD determined_VBN to_TO lose_VB weight_NN and/or_NN eat_NN right_RB then_RB you_PRP would_MD just_RB learn_VB to_TO love_VB this_DT and_CC they_PRP would_MD satisfy_VB your_PRP$ cravings_NNS for_IN sweets_NNS especilly_RB if_IN you_PRP are_VBP n't_RB a_DT sweetaholic_JJ like_IN me_PRP ._. Also_RB the_DT Deep_NNP Chocolate_NNP tasted_VBD more_RBR like_IN a_DT brownie_NN than_IN the_DT Vitabrownies_NNP which_WDT I_PRP found_VBD surprising_NN ._. *_JJ *_NNP *_NNP *_NNP (_( Changed_NNP to_TO 4.5/5_CD after_IN eating_VBG for_IN the_DT second_JJ time_NN ,_, changed_VBD to_TO 5/5_CD after_IN eating_VBG these_DT alot_IN more_JJR )_) 4_CD ._. Blueberry_NNP (_( BlueBran_NNP )_) :_: (_( 1/5_CD )_) You_PRP know_VBP the_DT taste_NN of_IN plain_NN oats-_JJ when_WRB you_PRP just_RB add_VB water_NN ._. This_DT is_VBZ how_WRB this_DT taste-_JJ with_IN a_DT teasppon_NN of_IN sugar_NN in_IN the_DT mix_NN ._. It_PRP 's_VBZ plain_NN ,_, very_RB plain_JJ and_CC I_PRP honestly_RB feel_VBP like_IN I_PRP 'm_VBP just_RB wasting_VBG calories_NNS ._. As_IN I_PRP sit_VBP here_RB ,_, eating_VBG this_DT ,_, writing_VBG to_TO you_PRP guys_VBP I_PRP am_VBP now_RB 100_CD %_NN positive_JJ that_IN these_DT vitalicious_JJ products_NNS are_VBP meant_VBN for_IN people_NNS with_IN very_RB mild_JJ sweet_JJ toothes_NNS who_WP do_VBP n't_RB really_RB like_JJ sweets_NNS ,_, but_CC want_VBP something_NN sweet_JJ and_CC healthy_JJ every_DT now_RB and_CC again_RB ._. I_PRP would_MD rather_RB use_VB 250_CD calories_NNS and_CC eat_VB a_DT real_JJ 3_CD Musketeers_NNPS bar_NN than_IN to_TO only_RB use_VB 100_CD and_CC eat_VB something_NN that_IN doesnt_VBD even_RB taste_RB good_JJ ._. This_DT is_VBZ my_PRP$ 2nd_JJ day_NN and_CC fourth_JJ muffin_NN and_CC I_PRP honestly_RB want_VBP to_TO send_VB back_RP the_DT box_NN ._. I_PRP can_MD appreciate_VB the_DT nutrients_NNS in_IN each_DT item_NN though_IN ,_, but_CC hey_VBZ that_DT 's_VBZ what_WP Bolthouse_NNP Farms_NNP drinks_NNS are_VBP for_IN ._. I_PRP know_VBP its_PRP$ easier_JJR to_TO make_VB an_DT extremely_RB healthy_JJ tasty_NN drink_NN than_IN it_PRP is_VBZ to_TO make_VB a_DT healthy_JJ tasty_NN baked_VBD good_JJ ,_, but_CC I_PRP really_RB thought_VBD that_IN Vitalicious_NNP was_VBD going_VBG to_TO be_VB the_DT Bolthouse_NNP Farms_NNP of_IN the_DT sweets/chocolate_NN world_NN ..._: I_PRP was_VBD so_RB wrong.Though_JJ I_PRP planned_VBD to_TO post_VB the_DT review_NN after_IN eating_VBG them_PRP all_DT ,_, I_PRP think_VBP I_PRP 'll_MD post_VB it_PRP now_RB (_( 10.15.09_CD )_) because_IN I_PRP honestly_RB am_VBP just_RB going_VBG to_TO ``_`` charge_VB it_PRP to_TO the_DT game_NN ''_'' -_: meaning_NN I_PRP wasted_VBD [_NN ..._: ]_NN to_TO taste_VB test_NN ,_, but_CC I_PRP 'll_MD look_VB at_IN it_PRP as_IN a_DT sacrifice_NN for_IN others_NNS who_WP are_VBP thinking_VBG about_IN buying_VBG them_PRP ._. I_PRP will_MD very_RB randomly_RB eat_VB the_DT rest_NN ..._: and_CC just_RB add_VB the_DT reviews_NNS of_IN their_PRP$ taste_NN as_IN I_PRP eat_VBP (_( provided_VBN that_IN i_JJ actually_RB eat_VBP another_DT one_CD again_RB )_) ._. I_PRP am_VBP honestly_RB just_RB very_RB disaapointed-_JJ I_PRP thought_VBD I_PRP wouldnt_VBP have_VBP to_TO buy_VB anything_NN sweet_JJ for_IN atleast_RB 2_CD weeks_NNS ,_, now_RB I_PRP 'm_VBP somewhat_RB going_VBG back_RB to_TO the_DT drawing_VBG board.Conclusion_NN :_: At_IN 36_CD bucks_NNS (_( ..._: )_) 1.50_CD (_( ..._: )_) per_IN brownie/muffin_NN top_NN )_) I_PRP think_VBP that_IN it_PRP 's_VBZ not_RB worth_JJ it_PRP ._. For_IN me_PRP ,_, with_IN my_PRP$ budget_NN ,_, I_PRP 'm_VBP better_JJR off_RP buying_VBG the_DT 100-calorie_JJ packs_NNS in_IN the_DT store_NN and_CC just_RB leaving_VBG them_PRP in_IN the_DT car_NN if_IN I_PRP do_VBP n't_RB think_VB I_PRP can_MD control_VB myself_PRP to_TO eat_VB just_RB one_CD ._. Atleast_NN with_IN the_DT 100-calorie_JJ packs_NNS you_PRP get_VBP 6_CD for_IN about_RB (_( ..._: )_) (_( 0.67_CD per_IN pack_NN )_) and_CC if_IN you_PRP have_VBP coupons_NNS you_PRP can_MD get_VB it_PRP or_CC less_JJR than_IN that_DT ._. But_CC again_RB ,_, I_PRP know_VBP that_IN its_PRP$ hard_JJ to_TO control_VB yourself_PRP with_IN the_DT 100-calorie_JJ packs_NNS because_IN they_PRP 're_VBP just_RB so_RB darn_JJ tasty_NN ...._NNP Vitalicious_NNP products_NNS will_MD definitely_RB make_VB it_PRP easier_JJR to_TO exhibit_VB self_PRP control_VB since_IN they_PRP 're_VBP fiber_JJ rich_JJ and_CC not_RB extremely_RB tasty_JJ --_: they_PRP 're_VBP more_RBR like_IN ``_`` just_RB tasty_JJ enough_RB ''_'' ._. *_NN *_NNP (_( Please_NNP check_VB my_PRP$ FINAL_NNP CONCLUSION_NN at_IN the_DT bottom_NN )_) .Other_CC random_JJ notes_NNS :_: -_: I_PRP do_VBP not_RB suggest_VB buying_VBG this_DT particular_JJ sampler_NN ,_, if_IN you_PRP buy_VBP anything_NN buy_VBP the_DT chocolate_NN sampler-_NN the_DT chocolate_NN flavors_NNS are_VBP the_DT best_JJS and_CC will_MD grow_VB on_IN you_PRP overtime-_VBP this_DT has_VBZ happened_VBN to_TO me_PRP ._. It_PRP 's_VBZ still_RB no_DT Betty_NNP Crocker_NNP or_CC Hershey_NNP 's_POS chocolate_NN ,_, but_CC it_PRP grows_VBZ on_IN you_PRP ._. The_DT key_NN is_VBZ warming_VBG them_PRP up_RP at_IN exactly_RB the_DT right_JJ number_NN of_IN seconds.-_JJ I_PRP think_VBP these_DT may_MD be_VB better_JJR to_TO a_DT person_NN who_WP loves_VBZ muffins-_VBP the_DT texture_NN the_DT taste_NN ._. I_PRP do_VBP love_VB a_DT great_JJ muffin_NN ,_, but_CC I_PRP do_VBP n't_RB eat_VB them_PRP everyday_JJ for_IN breakfast_NN like_IN some_DT people_NNS ._. If_IN you_PRP 're_VBP the_DT kind_NN of_IN person_NN that_WDT blows_VBZ about_IN 500-600_JJ calories_NNS on_IN a_DT muffin_NN every_DT morning_NN than_IN this_DT is_VBZ probably_RB a_DT more_RBR fitting_JJ healthy_JJ alternative_NN for_IN you.-_NN I_PRP still_RB do_VBP n't_RB get_VB how_WRB all_DT their_PRP$ products_NNS are_VBP getting_VBG such_JJ high_JJ reviews_NNS ,_, I_PRP guess_VBP the_DT people_NNS who_WP do_VBP n't_RB like_VB them_PRP are_VBP n't_RB really_RB saying_VBG much_JJ ._. Do_VBP n't_RB get_VB me_PRP wrong_JJ I_PRP do_VBP think_VB this_DT is_VBZ a_DT great_JJ product-_JJ all_PDT those_DT vitamins_NNS and_CC just_RB 100_CD calories-_JJ ist_NN great_JJ ,_, but_CC it_PRP 's_VBZ great_JJ for_IN someon_NN who_WP does_VBZ n't_RB really_RB eat_VB a_DT whole_JJ lot_NN of_IN sweets_NNS anyway_RB not_RB for_IN someone_NN who_WP has_VBZ an_DT extreme_JJ sweet_JJ tooth_NNS like_IN me.-_NN If_IN for_IN some_DT reason_NN these_DT do_VBP begin_VB to_TO grow_VB on_IN me_PRP after_IN a_DT few_JJ more_JJR days/weeks_NNS ,_, I_PRP promise_VBP to_TO come_VB back_RB and_CC tell_VB you_PRP guys_NNS ..._: b/c_VBZ this_DT just_RB may_MD be_VB one_CD of_IN the_DT products_NNS that_WDT has_VBZ to_TO grow_VB on_IN you.-_JJ I_PRP gave_VBD the_DT product_NN 2_CD stars_NNS ,_, but_CC I_PRP really_RB wanted_VBD to_TO just_RB give_VB it_PRP 1_CD ._. But_CC I_PRP figured_VBD the_DT Vitalicious_JJ lovers_NNS would_MD be_VB too_RB mad_JJ at_IN me_PRP if_IN I_PRP gave_VBD their_PRP$ beloved_JJ product_NN one_CD ._. So_RB I_PRP settled_VBD with_IN two_CD because_IN of_IN that_DT and_CC because_IN they_PRP are_VBP filled_VBN with_IN vitiamins_NNS and_CC what_WP not_RB ._. *_JJ *_NNP UPDATE_NNP ,_, UPDATE_NNP ,_, UPDATE_NNP ,_, UPDATE_NNP ,_, UPDATE_NNP (_( updates_NNS below_IN )_) *_FW *_FW *_FW *_FW :5_NN ._. Fudgy_NNP Peanut_NNP Buter_NNP Chip_NNP :_: (_( 2/5_CD )_) This_DT was_VBD okay_NN ._. The_DT peanut_NN butter_NN taste_NN was_VBD watered_VBN down_RP ..._: chocolate_NN was_VBD bland_NN ._. There_EX is_VBZ nothing_NN and_CC I_PRP mean_VBP nothing_NN ``_`` fudgy_NN ''_'' about_IN this.6_NN ._. Double_JJ Chocolate_NNP Dream_NN :_: (_( 4/5_CD )_) ._. Ummmm_NN ,_, well_RB ,_, as_IN I_PRP sit_VBP here_RB eating_VBG this_DT tasty_JJ chocolate_NN treat_NN ,_, I_PRP 'm_VBP scratching_VBG my_PRP$ head_NN trying_VBG to_TO figure_VB out-_JJ is_VBZ this_DT bland_NN vitalicious_JJ chocolate_NN growing_VBG on_IN me_PRP --_: or_CC does_VBZ this_DT one_CD really_RB taste_VB good_JJ ?_. I_PRP took_VBD this_DT out_RP the_DT freezer_NN ,_, warmed_VBD it_PRP up_RP for_IN 30_CD seconds_NNS ,_, opened_VBD the_DT microwave_NN and_CC it_PRP smelled_VBD like_JJ chocolate_NN milk_NN ..._: this_DT was_VBD interesting_VBG ._. Grabbed_NNP my_PRP$ smoothie_NN ,_, sat_VBD down_RB and_CC begin_VB to_TO eat_VB ...._JJ and_CC you_PRP guys_VBP ,_, this_DT is_VBZ the_DT best_JJS one_CD so_RB far_RB ._. This_DT actually_RB taste_VBZ like_IN a_DT box_NN chocolate_NN cake_NN that_IN you_PRP just_RB added_VBD a_DT little_JJ too_RB much_JJ water_NN into_IN ._. Whatever_WDT they_PRP added_VBD in_IN this_DT one_NN they_PRP need_VBP to_TO do_VB to_TO the_DT rest_NN ._. Double_JJ Chocolate_NNP Dream_NNP will_MD actually_RB curb_VB a_DT chocolate_NN craving.-_NN I_PRP ate_VBP another_DT Vitabrownie_NNP and_CC guys_NNS after_IN the_DT 3rd_CD one_NN they_PRP 're_VBP beginning_VBG to_TO grow_VB on_IN me_PRP ._. And_CC you_PRP know_VBP what_WP eating_VBG like_IN 2-3_CD of_IN these_DT a_DT day_NN actually_RB makes_VBZ you_PRP eat_VB less-_JJ its_PRP$ weird_NN ._. You_PRP 're_VBP just_RB less_JJR hungry_JJ I_PRP 've_VBP been_VBN calculating_VBG my_PRP$ calories_NNS and_CC though_IN I_PRP was_VBD thinking_VBG I_PRP was_VBD eating_VBG 1600_CD or_CC so_RB calories_NNS a_DT day_NN ._. I_PRP 've_VBP actually_RB been_VBN eating_VBG more_RBR like_IN 800-1200_CD (_( max_NN )_) and_CC I_PRP think_VBP its_PRP$ the_DT vitabrownies_NNS and_CC muffins_NNS that_WDT are_VBP helping_VBG ..._: and_CC all_PDT the_DT protein_NN I_PRP eat_VBP --_: -_: like_IN tuna_NN and_CC salmon_NN ._. That_DT combined_VBD with_IN my_PRP$ smoothies_NNS and_CC bolthouse_VB farm_NN drinks_NNS and_CC water.7_NN ._. Appleberry_NN :_: (_( 2/5_CD )_) ._. I_PRP 'll_MD say_VB it_PRP again_RB all_DT of_IN Vitalicious_NNP 's_POS bran_NN products_NNS taste_VBP like_IN watered_VBD down_RP oats_NNS with_IN a_DT drop_NN of_IN sugar_NN ._. If_IN you_PRP 're_VBP big_JJ on_IN plain_NN granola_NN and_CC plain_NN oats_NNS and_CC similar_JJ foods_NNS then_RB you_PRP 'll_MD like_VB them_PRP otherwise_VB it_PRP very_RB barely_RB satisfies_VBZ a_DT sweet_JJ tooth_NN ._. The_DT apple_NN smell_NN is_VBZ nice_JJ ,_, I_PRP just_RB wish_VB it_PRP was_VBD more_RBR present_JJ ..._: like_IN I_PRP wish_VBP it_PRP had_VBD a_DT apple-cinnamon_JJ type_NN taste.8_NN ._. CranBran_NN :_: (_( 1/5_CD )_) ._. (_( read_VB above_IN review_NN )_) ._. Very_RB plain_JJ taste_NN ._. Can_MD I_PRP give_VB a_DT 0/5_CD ?_. Is_VBZ that_IN fair_JJ ..._: Idk_NNP ,_, these_DT Brans_NNP probably_RB deserve_VBD 0_CD out_IN of_IN 5.9_CD ._. Chocolate_NNP Fig_NNP :_: (_( 2/5_CD )_) ._. I_PRP 'm_VBP not_RB big_JJ on_IN figs_NNS ,_, and_CC actually_RB I_PRP feel_VBP like_IN chewy_NN snacks_NNS in_IN breaded/crunchy_JJ sweets_NNS are_VBP unnecessary-_JJ like_IN raisins_NNS ._. So_RB since_IN I_PRP had_VBD to_TO remove_VB the_DT figs_NNS ,_, this_DT was_VBD n't_RB my_PRP$ favorite_JJ ._. The_DT chocolate_NN was_VBD okay_JJ ..._: sort_NN of_IN bland_NN because_IN there_EX 's_VBZ no_DT chocolate_NN chips_NNS to_TO make_VB it_PRP moist_VB ._. (_( meant_NN for_IN those_DT who_WP can_MD enjoy_VB both_DT chocolate_NN and_CC fig_JJ newtons_NNS )_) -_: I_PRP ate_VBP another_DT Deep_JJ Chocolate_NN ..._: and_CC mm_VB mmm_RB good_JJ !_. The_DT Vitalicious_NNP chocolate_NN taste_NN is_VBZ growing_VBG on_IN me_PRP ._. I_PRP think_VBP these_DT may_MD taste_VB better_JJR after_IN frozen_NN for_IN 2_CD or_CC more_JJR days_NNS then_RB warmed_VBD up_RB at_IN 30_CD seconds_NNS ._. Deep_JJ Chocolate_NNP just_RB may_MD be_VB better_JJR than_IN Double_JJ Chocolate_NNP Dream_NNP ..._: it_PRP may_MD deserve_VB a_DT 4/5_CD ,_, hmmm.-_NN I_PRP have_VBP suggestions_NNS for_IN Vitalicious_JJ ..._: put_VBD more_RBR chocolate_JJ chips_NNS in_IN the_DT VitaBrownie_NNP ,_, also_RB create_VBP an_DT Apple-Cinnamon_JJ flavor_NN and_CC a_DT Carrot_NNP Cake_NNP type_NN flavor.-_NN You_PRP guys_VBP I_PRP 'm_VBP so_RB scared_JJ to_TO taste_VB the_DT Golden_NNP Corn_NNP and_CC Multi-Gran_NNP because_IN I_PRP 'm_VBP sure_JJ I_PRP wo_MD n't_RB like_VB it_PRP ._. I_PRP have_VBP 2_CD of_IN each_DT of_IN those_DT left_VBN ,_, a_DT CranBran_NNP BlueberryBran_NNP ,_, AppleBerry_NNP ,_, and_CC Chocolate_NNP Fig_NNP ._. Thats_NNS about_IN 8_CD x_NNS 1.50_CD going_VBG to_TO waste_VB ._. 12_CD bucks_NNS (_( (_( ..._: )_) -_: that_WDT could_MD have_VB went_VBD towards_NNS atleast_IN 3_CD boxes_NNS of_IN 100_CD calorie_NN snacks_NNS or_CC 3_CD bolthouse_NN farm_NN drinks_NNS or_CC 2-3_JJ days_NNS worth_IN of_IN quiznos_NN )_) ._. I_PRP 'll_MD still_RB come_VB back_RB and_CC review_VB the_DT others_NNS later_RB ,_, but_CC I_PRP now_RB feel_VBP I_PRP can_MD make_VB a_DT 100_CD %_NN call_NN on_IN Vitalicious_JJ muffins_NNS and_CC brownies_NNS ..._: here_RB 's_POS my_PRP$ final_JJ conclusion_NN ..._: 10_CD ._. Golden_NNP Corn_NNP :_: (_( 4/5_CD )_) ._. Sooooo_NNP ,_, I_PRP 'm_VBP sitting_VBG here_RB ,_, drinking_VBG my_PRP$ hot_JJ mint_NN green_JJ tea_NN and_CC delicately_RB chowing_VBG down_RP on_IN this_DT Golden_NNP Corn_NNP vitamuffin_NN ,_, and_CC people_NNS this_DT is_VBZ darn_JJ good_JJ !_. When_WRB I_PRP took_VBD the_DT first_JJ bite_NN I_PRP thought_VBD to_TO myself_VB ,_, ``_`` Duuuh_NNP ,_, its_PRP$ called_VBN golden_JJ corn_NN so_IN its_PRP$ suppose_NN to_TO taste_VB like_IN cornbread_NN !_. ``_`` ._. And_CC this_DT healthy_JJ piece_NN of_IN corn_NN bread_NN is_VBZ much_RB better_JJR than_IN most_JJS --_: it_PRP taste_VBZ like_IN a_DT healthy_JJ gourmet_NN version_NN of_IN Jiffy_NNP cornbread_NN ._. It_PRP is_VBZ sooo_JJ good_JJ ,_, I_PRP 'm_VBP not_RB sure_JJ if_IN everyone_NN will_MD have_VB this_DT same_JJ reaction_NN ,_, but_CC if_IN you_PRP 're_VBP a_DT fan_NN of_IN sweet_JJ cornbread_NN then_RB you_PRP definitely_RB will_MD ._. This_DT is_VBZ perfect_JJ for_IN those_DT of_IN you_PRP who_WP have_VBP given_VBN up_RP your_PRP$ fried_JJ chicken_NN for_IN grilled_JJ chicken_NN and_CC your_PRP$ buttery_NN mash_NN potatoes_NNS for_IN plain_NN baked_VBD potatoes_NNS --_: its_PRP$ the_DT perfect_JJ addition_NN to_TO your_PRP$ meal_NN ._. And_CC honestly_RB its_PRP$ good_JJ just_RB eaten_VBN as_IN a_DT midday_NN or_CC midnight_NN snack_NN ._. 100_CD calories_NNS ,_, 0_CD fat_NN ,_, lots_NNS of_IN fiber_NN and_CC vitamins-_NN it_PRP ca_MD n't_RB get_VB any_DT better_JJR ._. This_DT out_IN of_IN all_PDT the_DT other_JJ flavors_NNS taste_VBP the_DT most_RBS like_IN what_WP its_PRP$ supposed_VBN to_TO be_VB ,_, meaning_VBG :_: you_PRP could_MD blindfold_VB someone_NN and_CC put_VB 5-6_JJ different_JJ cornbreads_NNS in_IN front_NN of_IN them_PRP and_CC they_PRP would_MD not_RB guess_VB this_DT to_TO be_VB the_DT healthiest_NN and_CC that_DT 's_VBZ why_WRB I_PRP 'm_VBP giving_VBG it_PRP a_DT 4.5/5_CD ._. --_: -Okay_NN so_RB after_IN eating_VBG this_DT again_RB ,_, I_PRP still_RB love_VB it_PRP ,_, but_CC I_PRP feel_VBP like_IN I_PRP overdid_VBP the_DT review_NN ,_, I_PRP think_VBP I_PRP first_RB ate_VBP it_PRP when_WRB I_PRP was_VBD pretty_RB hungry_JJ and_CC craving_VBG sweetness_NN ._. On_IN the_DT second_JJ go_VBP round_IN it_PRP was_VBD still_RB really_RB good_JJ but_CC more_RBR like_IN a_DT 4/5_CD ._. *_JJ *_NNP *_NNP FINAL_NNP CONCLUSION_NNP *_NNP *_NNP *_NN :_: Run_NNP like_IN heck_NN from_IN all_DT Vitalicious_NNP Bran-flavored_NNP products_NNS ,_, they_PRP taste_VBP like_IN plain_NN quaker_NN oats_NNS with_IN too_RB much_JJ water_NN and_CC a_DT teaspoon_NN of_IN sugar_NN with_IN bits_NNS of_IN warm_JJ fruit_NN scattered_VBN throughout_IN ._. They_PRP 're_VBP only_RB for_IN those_DT who_WP delight_VBP in_IN bran_NN flavor_NN ._. Appleberry_NNP is_VBZ decent_JJ ,_, pretty_RB good_JJ even_RB ,_, if_IN you_PRP really_RB like_IN apple_NN and_CC berry_NN flavored_VBD breads_NNS and_CC muffins_NNS ._. The_DT Banana_NNP Nut_NNP is_VBZ the_DT best_JJS replica_NN muffin_NN in_IN my_PRP$ opinion_NN ,_, its_PRP$ tasty_JJ and_CC can_MD be_VB looked_VBN at_IN as_IN a_DT light_JJ version_NN of_IN a_DT banana_NN nut_NN muffin_NN ._. Golden_NNP Corn_NNP (_( sigh_NN )_) is_VBZ delicious_JJ ._. It_PRP tastes_VBZ just_RB like_IN the_DT sweet_JJ cornbread_NN most_JJS southerners_NNS looks_VBZ forward_RB to_TO at_IN Sunday_NNP Dinner_NNP meals_NNS (_( with_IN a_DT slightly_RB lighter_JJR taste_NN and_CC all_DT with_IN the_DT added_JJ benefit_NN of_IN it_PRP being_VBG healthy_JJ )_) .The_FW chocolate_NN grows_NNS on_IN you_PRP overtime_VBP ._. The_DT first_JJ 2_CD times_NNS you_PRP eat_VBP one_CD of_IN the_DT chocolate_NN flavors_NNS ,_, you_PRP 'll_MD be_VB sad_JJ and_CC wondering_VBG why_WRB you_PRP spent_VBD so_RB much_JJ money_NN ,_, but_CC then_RB by_IN day_NN 3_CD and_CC your_PRP$ 3rd_CD or_CC 4th_CD Deep_JJ Chocolate_NNP or_CC Double_NNP Chocolate_NNP Dream_NNP you_PRP 'll_MD be_VB happy_JJ ._. And_CC a_DT part_NN of_IN that_DT happiness_NN will_MD be_VB because_IN you_PRP are_VBP unintentionally_RB and_CC unnoticeably_RB eating_VBG less_JJR (_( because_IN of_IN the_DT fiber_NN you_PRP 'll_MD stay_VB fuller_RB longer_RBR )_) .I_FW work_NN from_IN home_NN so_IN its_PRP$ very_NN easy_JJ for_IN me_PRP to_TO snack_VB snack_NN snack_NN all_DT day_NN ,_, but_CC with_IN a_DT little_JJ self-control_NN and_CC the_DT chocolate_NN Vitalicious_NNP muffintop_NN it_PRP will_MD be_VB easy_JJ to_TO control_VB snacking_NN ._. If_IN I_PRP could_MD find_VB it_PRP in_IN my_PRP$ heart_NN to_TO spend_VB another_DT (_( ..._: )_) on_IN 24_CD snack_NN cakes_NNS I_PRP would_MD EASILY_VB order_NN a_DT box_NN of_IN Deep_NNP ChocolateVitalicious_NNP Deep_NNP Chocolate_NNP Vita_NNP Tops_NNP ,_, 2-Ounce_JJ Units_NNP (_( Pack_NNP of_IN 24_CD )_) ._. I_PRP can_MD safely_RB say_VB that_IN this_DT will_MD satisfy_VB a_DT chocoholics_NNS need_VBP for_IN chocolate_NN ..._: just_RB use_VB them_PRP as_IN your_PRP$ once_IN a_DT day_NN daily_JJ treat_NN ._. If_IN they_PRP 're_VBP frozen_JJ warm_NN it_PRP up_IN for_IN 30_CD seconds_NNS ._. If_IN its_PRP$ room-temperature_NN try_NN 15_CD seconds_NNS ._. You_PRP will_MD most_VB likely_RB not_RB like_IN it_PRP the_DT first_JJ time_NN ,_, but_CC it_PRP grows_VBZ on_IN you.Besides_NNS Deep_NNP Chocolate_NNP the_DT only_RB other_JJ Vitalicious_NNP muffintops_NNS that_IN I_PRP would_MD reccomend_VB trying_VBG out_RP are_VBP :_: Golden_NNP Corn_NNP ,_, Double_NNP Chocolate_NNP Dream_NNP ,_, and_CC Triple_NNP Chocolate_NNP Chunk_NNP ,_, and_CC maybe_RB Vitabrownies-_NNP and_CC that_DT 's_VBZ only_RB if_IN you_PRP 're_VBP a_DT big_JJ fan_NN of_IN nuts_NNS ,_, otherwise_RB stick_NN to_TO the_DT muffintops_NNS they_PRP taste_VBP more_RBR like_IN brownies.I_NN just_RB want_VB to_TO repeat_VB the_DT fact_NN that_IN I_PRP do_VBP n't_RB know_VB why_WRB these_DT are_VBP getting_VBG such_JJ overall_JJ high_JJ reviews_NNS ..._: I_PRP 'm_VBP guessing_VBG its_PRP$ because_IN some_DT people_NNS from_IN their_PRP$ company_NN are_VBP the_DT ones_NNS writing_VBG them_PRP (_( lol_NN )_) or_CC the_DT people_NNS who_WP are_VBP writing_VBG reviews_NNS do_VBP n't_RB have_VB INTENSE_NNP sweet_JJ cravings_NNS like_IN I_PRP do_VBP ._. If_IN you_PRP have_VBP an_DT intense_JJ sweet_JJ tooth_JJ Please_NNP do_VBP n't_RB waste_VB your_PRP$ money_NN on_IN this_DT sampler_NN --_: you_PRP will_MD most_VB likely_JJ regret_NN it_PRP ._. The_DT best_JJS flavors_NNS really_RB are_VBP Deep_JJ Chocolate_NNP and_CC Golden_NNP Corn_NNP (_( if_IN you_PRP like_VBP southern_JJ cornbread_NN )_) ._. If_IN you_PRP are_VBP looking_VBG for_IN something_NN to_TO curb_VB your_PRP$ sweet_JJ tooth_JJ just_RB stick_NN to_TO Deep_NNP Chocolate_NNP (_( I_PRP believe_VBP it_PRP has_VBZ perfect_JJ reviews_NNS )_) Whew_VBP !_. I_PRP 've_VBP written_VBN alot_NN ,_, but_CC I_PRP hope_VBP this_DT helps_VBZ you_PRP guys_VBP to_TO make_VB a_DT better_JJR decision_NN ._. I_PRP decided_VBD to_TO make_VB my_PRP$ review_NN comprehensive_NN because_IN this_DT is_VBZ alot_NN of_IN cash_NN to_TO spend_VB on_IN small_JJ sweets_NNS ..._: Plus_CC ,_, when_WRB I_PRP was_VBD trying_VBG to_TO decide_VB whether_IN or_CC not_RB to_TO buy_VB these_DT I_PRP assumed_VBD the_DT posted_VBN reviews_NNS were_VBD helpful_JJ ,_, but_CC they_PRP really_RB were_VBD n't_RB (_( except_IN for_IN the_DT tips_NNS on_IN immediately_RB freezing_VBG them_PRP )_) ._. I_PRP ended_VBD up_RP only_RB actually_RB liking_VBG 5_CD flavors_NNS (_( deep_JJ chocolate_NN ,_, golden_JJ corn_NN ,_, double_JJ chocolate_NN dream_NN ,_, banana_NN nut_NN ,_, brownie_NN )_) ._. That_DT indubitably_RB means_VBZ that_IN I_PRP ``_`` wasted_VBD ''_'' 12_CD muffintops_NNS ..._: do_VBP n't_RB let_VB those_DT muffintops_NNS have_VBP been_VBN painfully_RB eaten_JJ and_CC picked_VBD over_IN in_IN vain_NN ..._: Good_JJ Luck_NNP with_IN choosing_VBG 100-calories_NNS snack_NN foods_NNS to_TO assist_VB you_PRP with_IN your_PRP$ healthy_JJ lifestyle_NN ._. *_JJ *_NNP *_NNP Last_JJ UPDATE_NNP Nov_NNP 3_CD ,_, 2009_CD *_NN *_NNP *_VBZ 11_CD ._. MultiBran_NN :_: (_( 1/5_CD )_) ._. I_PRP 'm_VBP writing_VBG this_DT well_NN after_IN eating_VBG the_DT ones_NNS above_IN ._. Its_PRP$ been_VBN in_IN the_DT freezer_NN for_IN about_RB 2_CD weeks_NNS now_RB so_RB I_PRP figured-_VBP what_WP the_DT heck_NN let_NN 's_POS get_VB it_PRP on_IN MultiBran_NNP ._. And_CC you_PRP guys_VBP --_: this_DT bran_NN taste_NN actually_RB grows_VBZ on_IN you_PRP aferwhile_VBP ..._: I_PRP 'll_MD still_RB give_VB it_PRP a_DT 1/5_CD ,_, but_CC I_PRP 'm_VBP so_RB used_VBN to_TO the_DT plain_NN watery_NN quaker_NN oats_NNS taste_VBP that_IN it_PRP does_VBZ n't_RB bother_VB me_PRP anymore_RB ._. I_PRP feel_VBP sorta_JJ bad_JJ for_IN coming_VBG down_RP so_RB hard_JJ on_IN the_DT bran_NN since_IN ,_, after_IN all_DT ,_, it_PRP is_VBZ very_RB good_JJ for_IN you_PRP ._. After_IN eating_VBG the_DT MultiBran_NNP --_: which_WDT I_PRP dubbed_VBD from_IN day_NN one_CD the_DT ``_`` king_NN of_IN the_DT muffintop_NN brans_NNS ''_'' I_PRP realize_VBP that_IN this_DT sampler_NN is_VBZ good_JJ for_IN those_DT who_WP are_VBP health_NN nuts_NNS and_CC are_VBP used_VBN to_TO these_DT plain_JJ flavors_NNS ._. I_PRP can_MD now_RB actually_RB see_VB why_WRB people_NNS give_VBP this_DT sampler_NN high_JJ ratings_NNS ,_, its_PRP$ because_IN they_PRP eat_VBP stuff_VBP like_IN this_DT all_DT day_NN long_RB and_CC so_RB to_TO them_PRP it_PRP really_RB is_VBZ good_JJ ,_, they_PRP 're_VBP probably_RB people_NNS who_WP arent_VBP that_WDT big_JJ on_IN sweets_NNS anyway_RB ,_, and_CC who_WP easily_RB have_VBP 36_CD bucks_NNS (_( ..._: )_) to_TO spend_VB on_IN 24_CD muffins_NNS ._. Like_IN I_PRP said_VBD I_PRP work_VBP from_IN home_NN so_IN its_PRP$ easy_NN for_IN me_PRP to_TO snack_VB all_DT day_NN ,_, but_CC just_RB from_IN me_PRP starting_VBG the_DT day_NN off_IN with_IN a_DT vitalicious_JJ muffin_NN (_( and_CC fruit_NN )_) I_PRP can_MD eat_VB less_JJR ..._: I_PRP consumed_VBD 1010_CD calories_NNS total_JJ yesterday.Now_NN that_IN I_PRP know_VBP what_WP I_PRP like_VBP and_CC dislike_VBP I_PRP would_MD n't_RB buy_VB this_DT sampler_NN again_RB ,_, but_CC if_IN you_PRP really_RB are_VBP curious_JJ on_IN your_PRP$ own_JJ how_WRB all_PDT these_DT flavors_NNS taste_VBP then_RB feel_VB free_JJ to_TO indulge_VB ._. I_PRP might_MD even_RB give_VB this_DT 3_CD stars_NNS ...._RB well_RB maybe_RB not_RB because_IN these_DT taste_NN really_RB are_VBP bland_NN ._. But_CC still_RB the_DT Vitalicious_NNP muffintops_NNS do_VBP assist_VB in_IN being_VBG able_JJ to_TO live_VB a_DT healthy_JJ lifestyle_NN and_CC thats_VB what_WP im_NN about_IN ._. I_PRP 'm_VBP not_RB ``_`` dieting_VBG ''_'' I_PRP 'm_VBP practicing_VBG a_DT healthy_JJ lifestyle_NN and_CC vitalicious_JJ will_MD take_VB you_PRP MUCH_RB further_RBR then_RB those_DT nabisco_NNS ,_, sunshine_NN ,_, and_CC keebler_VB 100_CD calorie_NN packs_NNS ._. Because_IN the_DT flavor_NN is_VBZ exactly_RB the_DT same_JJ I_PRP end_VBP up_RP eating_VBG the_DT whole_JJ box_NN of_IN those_DT tasty_JJ shortbread/oreos/chip_NN ahoys/cheezits_NNS in_IN one_CD day_NN ..._: sometimes_RB in_IN 2_CD sittings_NNS ...._RB but_CC you_PRP wouldnt_VBP have_VBP that_DT problem_NN with_IN these_DT ,_, its_PRP$ hard_JJ to_TO eat_VB more_JJR than_IN 2_CD even_RB though_IN they_PRP 're_VBP pretty_RB small_JJ ._. The_DT key_NN is_VBZ eating_VBG these_DT with_IN something_NN ,_, like_IN a_DT smoothie_NN or_CC some_DT fruit_NN and_CC water_NN ._. *_NN *_RBS IMPORTANT_NNP TIP_NNP *_NNP *_NN :_: :_: :_: :_: Before_IN buying_VBG these_DT I_PRP just_RB suggest_VBP you_PRP ask_VB yourself_PRP what_WP your_PRP$ main_JJ purpose_NN of_IN purchasing_VBG them_PRP are_VBP ._. Is_VBZ it_PRP to_TO explore_VB healthy_JJ snacks_NNS ?_. Is_VBZ it_PRP to_TO find_VB healthy_JJ breakfast_NN food_NN ?_. Is_VBZ it_PRP to_TO help_VB with_IN sweet_JJ cravings_NNS ?_. To_TO help_VB with_IN oversnacking_VBG ?_. To_TO find_VB good_JJ bran_NN flavored_VBN foods_NNS ?_. Mine_NN was_VBD to_TO find_VB healthy_JJ sweets_NNS ._. Something_VBG that_IN I_PRP liked_VBD that_DT was_VBD low_JJ in_IN calories_NNS ,_, had_VBD vitamins_NNS ,_, and_CC would_MD sufficiently_RB curb_VB my_PRP$ cravings_NNS for_IN candy_NN bars_NNS (_( lol_NN )_) ._. I_PRP love_VBP chocolate_NN and_CC I_PRP have_VBP sugar_VBN cravings_NNS ._. So_RB in_IN my_PRP$ case_NN I_PRP would_MD have_VB been_VBN better_JJR off_RP just_RB purchasing_VBG Deep_JJ Chocolate_NNP ._. Everyone_NN will_MD come_VB out_RP with_IN a_DT slightly_RB different_JJ conclusion_NN ,_, some_DT may_MD not_RB need_VB to_TO purchase_VB these_DT at_IN all.Also_NN it_PRP generally_RB helps_VBZ to_TO order_NN these_DT with_IN low_JJ (_( very_RB low_JJ )_) expectations_NNS ._. To_TO the_DT point_NN that_IN you_PRP 're_VBP almost_RB scared_VBN to_TO eat_VB it_PRP ,_, so_RB that_IN when_WRB you_PRP finally_RB do_VBP it_PRP 's_VBZ like_IN ,_, ``_`` hmmm_NN ?_. okay_NN ,_, wow_NN ,_, well_RB ..._: this_DT is_VBZ pretty_RB good_JJ ''_'' ._. lol.Good_NN Luck_NNP everyone_NN !_. PS-_NNP *_NNP *_VBZ The_DT prices_NNS on_IN these_DT vitatops_NNS are_VBP strange_JJ ,_, they_PRP fluctuate_VBP ..._: is_VBZ anyone_NN else_RB noticing_VBG this_DT ?_. I_PRP went_VBD ahead_RB and_CC ordered_VBD the_DT triple_JJ chocolate_NN chunk_NN yesterday_NN and_CC because_IN they_PRP were_VBD about_RB 26_CD bucks_NNS (_( ..._: )_) plus_CC free_JJ shipping_NN ._. Now_RB ,_, not_RB even_RB 12_CD hours_NNS later_RB ,_, they_PRP 're_VBP 32_CD ..._: what_WP happened_VBD ?_. Its_PRP$ as_IN if_IN the_DT price_NN of_IN the_DT chocolate_NN ones_NNS are_VBP going_VBG up_RP while_IN the_DT bran_NN is_VBZ lowering_VBG ..._: thats_NNS just_RB wrong_RB ._. You_PRP all_DT may_MD just_RB want_VB to_TO buy_VB from_IN your_PRP$ local_JJ store_NN ..._: Vitalicious_NNP Vitatops_NNP has_VBZ a_DT Facebook_NNP page_NN and_CC they_PRP seem_VBP to_TO answer_VB their_PRP$ fans_NNS pretty_RB quickly_RB ._. They_PRP say_VBP if_IN a_DT store_NN near_IN you_PRP does_VBZ n't_RB carry_VB their_PRP$ muffintops_NNS you_PRP can_MD put_VB in_IN a_DT request_NN at_IN the_DT store_NN and_CC Vitalicious_NNP will_MD be_VB sure_JJ to_TO get_VB them_PRP to_TO that_DT particular_JJ store_NN --_: -_: as_RB long_RB as_IN its_PRP$ one_NN that_WDT is_VBZ supposed_VBN to_TO carry_VB Vitatops_NNP ,_, like_IN Krogers_NNP ,_, Gristedes_NNP ,_, Food_NNP Emporium_NNP ,_, Whole_NNP Foods_NNP ,_, etc_FW ._. (_( check_VB their_PRP$ website_NN for_IN the_DT complete_JJ listing_NN )_) ._. \""
      ]
     },
     "execution_count": 233,
     "metadata": {},
     "output_type": "execute_result"
    }
   ],
   "source": [
    "pipe_pos(dfdataTrain[dfdataTrain.countSentences == dfdataTrain['countSentences'].max()].reviewText.values[0])"
   ]
  },
  {
   "cell_type": "code",
   "execution_count": 199,
   "id": "bf0c5e4a-dce2-4df4-aa0e-f4a52b0fc138",
   "metadata": {},
   "outputs": [
    {
     "data": {
      "text/plain": [
       "\"I am a sweet-aholic . That 's my main downfall when it come to eating healthy , that and portion control . I love chocolate and decided to one day google `` healthiest chocolate '' and stumbled across Vitalicious product . People were making them seem like they were the best thing on Earth -- `` taste just like regular muffin and brownie , but just healthy PLUS they could be walked off in 13 minute . '' All of that made me happy , and despite the huge pricetag I decided to purchase these baby anyway.To make my review more useful I 've decided to eat 1-2 daily and post my opinion on each flavor a I eat them ( so this will be updated until I review each flavor ) , and rate them out of 5 . ( To give you an idea of my `` sweet-tooth '' taste palette- I really really love chocolate , my favorite dessert are probably chocolate cake ( devil food ) with vanilla frosting , hot apple pie and vanilla ice cream , and brownie and ice cream . I love chocolate chip cooky , I 'm a fan of most candy bar , I enjoy pizza hut cinnamon stick and krispy kreme doughnut ( even though I do n't get to eat these thing anymore- I love them : - ) ) .CONTENTS of SUPER SAMPLER : 2 MultiBran , 2 BlueBran , 2 Banana Nut , 2 CranBran , 2 AppleBerry , 2 Golden Corn , 4 VitaBrownies , 2 Double Chocolate , 2 Double Chocolate Dream , 2 Chocolate Fig , 2 Fudgy Peanut Butter Chip.1 . Vitabrownies : ( 2/5 ) Taste more like a cake that wa made with apple sauce instead of oil and splenda instead of real sugar and egg white instead of the full egg . There 's a little sweetness there , but doe not compare in anyway to a real brownie . This is the first one I ate from the package ... when the FeDex truck came and dropped the package off I literally went straight to the kitchen opened the box took out one brownie and put the rest in the freezer . I ate a piece , then warmed the rest up for about 30 second . The brownie just wa n't that moist , there were section of moistness and it looked moist , but it just did n't hit the spot like I wanted . However , because of all the fiber it did leave me sorta full or satisfied afterwards ( I ate it with a bottle of water ) .2 . Banana Nut : ( 3/5 ) Banana nut is my favorite type of muffin and I deem this particuar vitalicious banana nut a a healthier version of a healthy banana nut muffin . Familiar taste and could curb a banana nut bread fanatic 's craving .. it okay.3 . Deep Chocolate : ( 5/5 ) This wa pretty good , I 'm sure it the best one of them all , but it still did n't hit the spot quite like I thought it would given the GREAT review everyone ha written . The section in the muffin top with the chocolate chip were the best b/c the chocolate chip are great , but there 's only like 4 chip in the whole muffin top . What I 'm fighuring now , after eating this one is that these are the type of food that you probably grow to love- like if you were determined to lose weight and/or eat right then you would just learn to love this and they would satisfy your craving for sweet especilly if you are n't a sweetaholic like me . Also the Deep Chocolate tasted more like a brownie than the Vitabrownies which I found surprising . * * * * ( Changed to 4.5/5 after eating for the second time , changed to 5/5 after eating these alot more ) 4 . Blueberry ( BlueBran ) : ( 1/5 ) You know the taste of plain oats- when you just add water . This is how this taste- with a teasppon of sugar in the mix . It 's plain , very plain and I honestly feel like I 'm just wasting calorie . As I sit here , eating this , writing to you guy I am now 100 % positive that these vitalicious product are meant for people with very mild sweet toothes who do n't really like sweet , but want something sweet and healthy every now and again . I would rather use 250 calorie and eat a real 3 Musketeers bar than to only use 100 and eat something that doesnt even taste good . This is my 2nd day and fourth muffin and I honestly want to send back the box . I can appreciate the nutrient in each item though , but hey that 's what Bolthouse Farms drink are for . I know it easier to make an extremely healthy tasty drink than it is to make a healthy tasty baked good , but I really thought that Vitalicious wa going to be the Bolthouse Farms of the sweets/chocolate world ... I wa so wrong.Though I planned to post the review after eating them all , I think I 'll post it now ( 10.15.09 ) because I honestly am just going to `` charge it to the game '' - meaning I wasted [ ... ] to taste test , but I 'll look at it a a sacrifice for others who are thinking about buying them . I will very randomly eat the rest ... and just add the review of their taste a I eat ( provided that i actually eat another one again ) . I am honestly just very disaapointed- I thought I wouldnt have to buy anything sweet for atleast 2 week , now I 'm somewhat going back to the drawing board.Conclusion : At 36 buck ( ... ) 1.50 ( ... ) per brownie/muffin top ) I think that it 's not worth it . For me , with my budget , I 'm better off buying the 100-calorie pack in the store and just leaving them in the car if I do n't think I can control myself to eat just one . Atleast with the 100-calorie pack you get 6 for about ( ... ) ( 0.67 per pack ) and if you have coupon you can get it or le than that . But again , I know that it hard to control yourself with the 100-calorie pack because they 're just so darn tasty .... Vitalicious product will definitely make it easier to exhibit self control since they 're fiber rich and not extremely tasty -- they 're more like `` just tasty enough '' . * * ( Please check my FINAL CONCLUSION at the bottom ) .Other random note : - I do not suggest buying this particular sampler , if you buy anything buy the chocolate sampler- the chocolate flavor are the best and will grow on you overtime- this ha happened to me . It 's still no Betty Crocker or Hershey 's chocolate , but it grows on you . The key is warming them up at exactly the right number of seconds.- I think these may be better to a person who love muffins- the texture the taste . I do love a great muffin , but I do n't eat them everyday for breakfast like some people . If you 're the kind of person that blow about 500-600 calorie on a muffin every morning than this is probably a more fitting healthy alternative for you.- I still do n't get how all their product are getting such high review , I guess the people who do n't like them are n't really saying much . Do n't get me wrong I do think this is a great product- all those vitamin and just 100 calories- ist great , but it 's great for someon who doe n't really eat a whole lot of sweet anyway not for someone who ha an extreme sweet tooth like me.- If for some reason these do begin to grow on me after a few more days/weeks , I promise to come back and tell you guy ... b/c this just may be one of the product that ha to grow on you.- I gave the product 2 star , but I really wanted to just give it 1 . But I figured the Vitalicious lover would be too mad at me if I gave their beloved product one . So I settled with two because of that and because they are filled with vitiamins and what not . * * UPDATE , UPDATE , UPDATE , UPDATE , UPDATE ( update below ) * * * * :5 . Fudgy Peanut Buter Chip : ( 2/5 ) This wa okay . The peanut butter taste wa watered down ... chocolate wa bland . There is nothing and I mean nothing `` fudgy '' about this.6 . Double Chocolate Dream : ( 4/5 ) . Ummmm , well , a I sit here eating this tasty chocolate treat , I 'm scratching my head trying to figure out- is this bland vitalicious chocolate growing on me -- or doe this one really taste good ? I took this out the freezer , warmed it up for 30 second , opened the microwave and it smelled like chocolate milk ... this wa interesting . Grabbed my smoothie , sat down and begin to eat .... and you guy , this is the best one so far . This actually taste like a box chocolate cake that you just added a little too much water into . Whatever they added in this one they need to do to the rest . Double Chocolate Dream will actually curb a chocolate craving.- I ate another Vitabrownie and guy after the 3rd one they 're beginning to grow on me . And you know what eating like 2-3 of these a day actually make you eat less- it weird . You 're just le hungry I 've been calculating my calorie and though I wa thinking I wa eating 1600 or so calorie a day . I 've actually been eating more like 800-1200 ( max ) and I think it the vitabrownies and muffin that are helping ... and all the protein I eat -- - like tuna and salmon . That combined with my smoothy and bolthouse farm drink and water.7 . Appleberry : ( 2/5 ) . I 'll say it again all of Vitalicious 's bran product taste like watered down oat with a drop of sugar . If you 're big on plain granola and plain oat and similar food then you 'll like them otherwise it very barely satisfies a sweet tooth . The apple smell is nice , I just wish it wa more present ... like I wish it had a apple-cinnamon type taste.8 . CranBran : ( 1/5 ) . ( read above review ) . Very plain taste . Can I give a 0/5 ? Is that fair ... Idk , these Brans probably deserve 0 out of 5.9 . Chocolate Fig : ( 2/5 ) . I 'm not big on fig , and actually I feel like chewy snack in breaded/crunchy sweet are unnecessary- like raisin . So since I had to remove the fig , this wa n't my favorite . The chocolate wa okay ... sort of bland because there 's no chocolate chip to make it moist . ( meant for those who can enjoy both chocolate and fig newton ) - I ate another Deep Chocolate ... and mm mmm good ! The Vitalicious chocolate taste is growing on me . I think these may taste better after frozen for 2 or more day then warmed up at 30 second . Deep Chocolate just may be better than Double Chocolate Dream ... it may deserve a 4/5 , hmmm.- I have suggestion for Vitalicious ... put more chocolate chip in the VitaBrownie , also create an Apple-Cinnamon flavor and a Carrot Cake type flavor.- You guy I 'm so scared to taste the Golden Corn and Multi-Gran because I 'm sure I wo n't like it . I have 2 of each of those left , a CranBran BlueberryBran , AppleBerry , and Chocolate Fig . Thats about 8 x 1.50 going to waste . 12 buck ( ( ... ) - that could have went towards atleast 3 box of 100 calorie snack or 3 bolthouse farm drink or 2-3 day worth of quiznos ) . I 'll still come back and review the others later , but I now feel I can make a 100 % call on Vitalicious muffin and brownie ... here 's my final conclusion ... 10 . Golden Corn : ( 4/5 ) . Sooooo , I 'm sitting here , drinking my hot mint green tea and delicately chowing down on this Golden Corn vitamuffin , and people this is darn good ! When I took the first bite I thought to myself , `` Duuuh , it called golden corn so it suppose to taste like cornbread ! `` . And this healthy piece of corn bread is much better than most -- it taste like a healthy gourmet version of Jiffy cornbread . It is sooo good , I 'm not sure if everyone will have this same reaction , but if you 're a fan of sweet cornbread then you definitely will . This is perfect for those of you who have given up your fried chicken for grilled chicken and your buttery mash potato for plain baked potato -- it the perfect addition to your meal . And honestly it good just eaten a a midday or midnight snack . 100 calorie , 0 fat , lot of fiber and vitamins- it ca n't get any better . This out of all the other flavor taste the most like what it supposed to be , meaning : you could blindfold someone and put 5-6 different cornbread in front of them and they would not guess this to be the healthiest and that 's why I 'm giving it a 4.5/5 . -- -Okay so after eating this again , I still love it , but I feel like I overdid the review , I think I first ate it when I wa pretty hungry and craving sweetness . On the second go round it wa still really good but more like a 4/5 . * * * FINAL CONCLUSION * * * : Run like heck from all Vitalicious Bran-flavored product , they taste like plain quaker oat with too much water and a teaspoon of sugar with bit of warm fruit scattered throughout . They 're only for those who delight in bran flavor . Appleberry is decent , pretty good even , if you really like apple and berry flavored bread and muffin . The Banana Nut is the best replica muffin in my opinion , it tasty and can be looked at a a light version of a banana nut muffin . Golden Corn ( sigh ) is delicious . It taste just like the sweet cornbread most southerner look forward to at Sunday Dinner meal ( with a slightly lighter taste and all with the added benefit of it being healthy ) .The chocolate grows on you overtime . The first 2 time you eat one of the chocolate flavor , you 'll be sad and wondering why you spent so much money , but then by day 3 and your 3rd or 4th Deep Chocolate or Double Chocolate Dream you 'll be happy . And a part of that happiness will be because you are unintentionally and unnoticeably eating le ( because of the fiber you 'll stay fuller longer ) .I work from home so it very easy for me to snack snack snack all day , but with a little self-control and the chocolate Vitalicious muffintop it will be easy to control snacking . If I could find it in my heart to spend another ( ... ) on 24 snack cake I would EASILY order a box of Deep ChocolateVitalicious Deep Chocolate Vita Tops , 2-Ounce Units ( Pack of 24 ) . I can safely say that this will satisfy a chocoholics need for chocolate ... just use them a your once a day daily treat . If they 're frozen warm it up for 30 second . If it room-temperature try 15 second . You will most likely not like it the first time , but it grows on you.Besides Deep Chocolate the only other Vitalicious muffintops that I would reccomend trying out are : Golden Corn , Double Chocolate Dream , and Triple Chocolate Chunk , and maybe Vitabrownies- and that 's only if you 're a big fan of nut , otherwise stick to the muffintops they taste more like brownies.I just want to repeat the fact that I do n't know why these are getting such overall high review ... I 'm guessing it because some people from their company are the one writing them ( lol ) or the people who are writing review do n't have INTENSE sweet craving like I do . If you have an intense sweet tooth Please do n't waste your money on this sampler -- you will most likely regret it . The best flavor really are Deep Chocolate and Golden Corn ( if you like southern cornbread ) . If you are looking for something to curb your sweet tooth just stick to Deep Chocolate ( I believe it ha perfect review ) Whew ! I 've written alot , but I hope this help you guy to make a better decision . I decided to make my review comprehensive because this is alot of cash to spend on small sweet ... Plus , when I wa trying to decide whether or not to buy these I assumed the posted review were helpful , but they really were n't ( except for the tip on immediately freezing them ) . I ended up only actually liking 5 flavor ( deep chocolate , golden corn , double chocolate dream , banana nut , brownie ) . That indubitably mean that I `` wasted '' 12 muffintops ... do n't let those muffintops have been painfully eaten and picked over in vain ... Good Luck with choosing 100-calories snack food to assist you with your healthy lifestyle . * * * Last UPDATE Nov 3 , 2009 * * * 11 . MultiBran : ( 1/5 ) . I 'm writing this well after eating the one above . Its been in the freezer for about 2 week now so I figured- what the heck let 's get it on MultiBran . And you guy -- this bran taste actually grows on you aferwhile ... I 'll still give it a 1/5 , but I 'm so used to the plain watery quaker oat taste that it doe n't bother me anymore . I feel sorta bad for coming down so hard on the bran since , after all , it is very good for you . After eating the MultiBran -- which I dubbed from day one the `` king of the muffintop bran '' I realize that this sampler is good for those who are health nut and are used to these plain flavor . I can now actually see why people give this sampler high rating , it because they eat stuff like this all day long and so to them it really is good , they 're probably people who arent that big on sweet anyway , and who easily have 36 buck ( ... ) to spend on 24 muffin . Like I said I work from home so it easy for me to snack all day , but just from me starting the day off with a vitalicious muffin ( and fruit ) I can eat le ... I consumed 1010 calorie total yesterday.Now that I know what I like and dislike I would n't buy this sampler again , but if you really are curious on your own how all these flavor taste then feel free to indulge . I might even give this 3 star .... well maybe not because these taste really are bland . But still the Vitalicious muffintops do assist in being able to live a healthy lifestyle and thats what im about . I 'm not `` dieting '' I 'm practicing a healthy lifestyle and vitalicious will take you MUCH further then those nabisco , sunshine , and keebler 100 calorie pack . Because the flavor is exactly the same I end up eating the whole box of those tasty shortbread/oreos/chip ahoys/cheezits in one day ... sometimes in 2 sitting .... but you wouldnt have that problem with these , it hard to eat more than 2 even though they 're pretty small . The key is eating these with something , like a smoothie or some fruit and water . * * IMPORTANT TIP * * : : : : Before buying these I just suggest you ask yourself what your main purpose of purchasing them are . Is it to explore healthy snack ? Is it to find healthy breakfast food ? Is it to help with sweet craving ? To help with oversnacking ? To find good bran flavored food ? Mine wa to find healthy sweet . Something that I liked that wa low in calorie , had vitamin , and would sufficiently curb my craving for candy bar ( lol ) . I love chocolate and I have sugar craving . So in my case I would have been better off just purchasing Deep Chocolate . Everyone will come out with a slightly different conclusion , some may not need to purchase these at all.Also it generally help to order these with low ( very low ) expectation . To the point that you 're almost scared to eat it , so that when you finally do it 's like , `` hmmm ? okay , wow , well ... this is pretty good '' . lol.Good Luck everyone ! PS- * * The price on these vitatops are strange , they fluctuate ... is anyone else noticing this ? I went ahead and ordered the triple chocolate chunk yesterday and because they were about 26 buck ( ... ) plus free shipping . Now , not even 12 hour later , they 're 32 ... what happened ? Its a if the price of the chocolate one are going up while the bran is lowering ... thats just wrong . You all may just want to buy from your local store ... Vitalicious Vitatops ha a Facebook page and they seem to answer their fan pretty quickly . They say if a store near you doe n't carry their muffintops you can put in a request at the store and Vitalicious will be sure to get them to that particular store -- - a long a it one that is supposed to carry Vitatops , like Krogers , Gristedes , Food Emporium , Whole Foods , etc . ( check their website for the complete listing ) . \""
      ]
     },
     "execution_count": 199,
     "metadata": {},
     "output_type": "execute_result"
    }
   ],
   "source": [
    "lemmatization(dfdataTrain[dfdataTrain.countSentences == dfdataTrain['countSentences'].max()].reviewText.values[0])"
   ]
  },
  {
   "cell_type": "code",
   "execution_count": 191,
   "id": "11272f4f-a5e1-4dfd-8e42-e8d35b8e9bb6",
   "metadata": {},
   "outputs": [
    {
     "data": {
      "text/plain": [
       "[1,\n",
       " 2,\n",
       " 2,\n",
       " 3,\n",
       " 3,\n",
       " 3,\n",
       " 4,\n",
       " 4,\n",
       " 4,\n",
       " 4,\n",
       " 5,\n",
       " 5,\n",
       " 5,\n",
       " 5,\n",
       " 5,\n",
       " 6,\n",
       " 6,\n",
       " 6,\n",
       " 6,\n",
       " 6,\n",
       " 6,\n",
       " 7,\n",
       " 7,\n",
       " 7,\n",
       " 7,\n",
       " 7,\n",
       " 7,\n",
       " 7,\n",
       " 8,\n",
       " 8,\n",
       " 8,\n",
       " 8,\n",
       " 8,\n",
       " 8,\n",
       " 8,\n",
       " 8,\n",
       " 9,\n",
       " 9,\n",
       " 9,\n",
       " 9,\n",
       " 9,\n",
       " 9,\n",
       " 9,\n",
       " 9,\n",
       " 9]"
      ]
     },
     "execution_count": 191,
     "metadata": {},
     "output_type": "execute_result"
    }
   ],
   "source": [
    "[i for i in list(range(10)) for x in range(i)]"
   ]
  },
  {
   "cell_type": "code",
   "execution_count": null,
   "id": "497def80-86e1-4dc7-afb1-e7ec9cfd061b",
   "metadata": {},
   "outputs": [],
   "source": []
  }
 ],
 "metadata": {
  "kernelspec": {
   "display_name": "env",
   "language": "python",
   "name": "env"
  },
  "language_info": {
   "codemirror_mode": {
    "name": "ipython",
    "version": 3
   },
   "file_extension": ".py",
   "mimetype": "text/x-python",
   "name": "python",
   "nbconvert_exporter": "python",
   "pygments_lexer": "ipython3",
   "version": "3.10.5"
  }
 },
 "nbformat": 4,
 "nbformat_minor": 5
}
