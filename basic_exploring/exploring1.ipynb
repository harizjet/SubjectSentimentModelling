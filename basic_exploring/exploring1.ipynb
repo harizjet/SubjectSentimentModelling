{
 "cells": [
  {
   "cell_type": "code",
   "execution_count": 1,
   "id": "a86e82b7-3426-409b-bcf3-d28c859d5be2",
   "metadata": {},
   "outputs": [],
   "source": [
    "import pandas as pd"
   ]
  },
  {
   "cell_type": "code",
   "execution_count": 2,
   "id": "c2e948aa-8075-4ddc-89a3-7f629428daca",
   "metadata": {},
   "outputs": [],
   "source": [
    "df = pd.read_json('../data/Amazon_GroceryandGourmetFood.json', lines=True)"
   ]
  },
  {
   "cell_type": "code",
   "execution_count": 3,
   "id": "de2b9168-ae74-4c5f-b9f0-7866c920b4e7",
   "metadata": {},
   "outputs": [
    {
     "data": {
      "text/html": [
       "<div>\n",
       "<style scoped>\n",
       "    .dataframe tbody tr th:only-of-type {\n",
       "        vertical-align: middle;\n",
       "    }\n",
       "\n",
       "    .dataframe tbody tr th {\n",
       "        vertical-align: top;\n",
       "    }\n",
       "\n",
       "    .dataframe thead th {\n",
       "        text-align: right;\n",
       "    }\n",
       "</style>\n",
       "<table border=\"1\" class=\"dataframe\">\n",
       "  <thead>\n",
       "    <tr style=\"text-align: right;\">\n",
       "      <th></th>\n",
       "      <th>overall</th>\n",
       "      <th>verified</th>\n",
       "      <th>reviewTime</th>\n",
       "      <th>reviewerID</th>\n",
       "      <th>asin</th>\n",
       "      <th>reviewerName</th>\n",
       "      <th>reviewText</th>\n",
       "      <th>summary</th>\n",
       "      <th>unixReviewTime</th>\n",
       "      <th>vote</th>\n",
       "      <th>image</th>\n",
       "      <th>style</th>\n",
       "    </tr>\n",
       "  </thead>\n",
       "  <tbody>\n",
       "    <tr>\n",
       "      <th>0</th>\n",
       "      <td>5</td>\n",
       "      <td>True</td>\n",
       "      <td>06 4, 2013</td>\n",
       "      <td>ALP49FBWT4I7V</td>\n",
       "      <td>1888861614</td>\n",
       "      <td>Lori</td>\n",
       "      <td>Very pleased with my purchase. Looks exactly l...</td>\n",
       "      <td>Love it</td>\n",
       "      <td>1370304000</td>\n",
       "      <td>NaN</td>\n",
       "      <td>NaN</td>\n",
       "      <td>NaN</td>\n",
       "    </tr>\n",
       "    <tr>\n",
       "      <th>1</th>\n",
       "      <td>4</td>\n",
       "      <td>True</td>\n",
       "      <td>05 23, 2014</td>\n",
       "      <td>A1KPIZOCLB9FZ8</td>\n",
       "      <td>1888861614</td>\n",
       "      <td>BK Shopper</td>\n",
       "      <td>Very nicely crafted but too small. Am going to...</td>\n",
       "      <td>Nice but small</td>\n",
       "      <td>1400803200</td>\n",
       "      <td>NaN</td>\n",
       "      <td>NaN</td>\n",
       "      <td>NaN</td>\n",
       "    </tr>\n",
       "    <tr>\n",
       "      <th>2</th>\n",
       "      <td>4</td>\n",
       "      <td>True</td>\n",
       "      <td>05 9, 2014</td>\n",
       "      <td>A2W0FA06IYAYQE</td>\n",
       "      <td>1888861614</td>\n",
       "      <td>daninethequeen</td>\n",
       "      <td>still very pretty and well made...i am super p...</td>\n",
       "      <td>the \"s\" looks like a 5, kina</td>\n",
       "      <td>1399593600</td>\n",
       "      <td>NaN</td>\n",
       "      <td>NaN</td>\n",
       "      <td>NaN</td>\n",
       "    </tr>\n",
       "    <tr>\n",
       "      <th>3</th>\n",
       "      <td>5</td>\n",
       "      <td>True</td>\n",
       "      <td>04 20, 2014</td>\n",
       "      <td>A2PTZTCH2QUYBC</td>\n",
       "      <td>1888861614</td>\n",
       "      <td>Tammara</td>\n",
       "      <td>I got this for our wedding cake, and it was ev...</td>\n",
       "      <td>Would recommend this to a friend!</td>\n",
       "      <td>1397952000</td>\n",
       "      <td>NaN</td>\n",
       "      <td>NaN</td>\n",
       "      <td>NaN</td>\n",
       "    </tr>\n",
       "    <tr>\n",
       "      <th>4</th>\n",
       "      <td>4</td>\n",
       "      <td>True</td>\n",
       "      <td>04 16, 2014</td>\n",
       "      <td>A2VNHGJ59N4Z90</td>\n",
       "      <td>1888861614</td>\n",
       "      <td>LaQuinta Alexander</td>\n",
       "      <td>It was just what I want to put at the top of m...</td>\n",
       "      <td>Topper</td>\n",
       "      <td>1397606400</td>\n",
       "      <td>NaN</td>\n",
       "      <td>NaN</td>\n",
       "      <td>NaN</td>\n",
       "    </tr>\n",
       "  </tbody>\n",
       "</table>\n",
       "</div>"
      ],
      "text/plain": [
       "   overall  verified   reviewTime      reviewerID        asin  \\\n",
       "0        5      True   06 4, 2013   ALP49FBWT4I7V  1888861614   \n",
       "1        4      True  05 23, 2014  A1KPIZOCLB9FZ8  1888861614   \n",
       "2        4      True   05 9, 2014  A2W0FA06IYAYQE  1888861614   \n",
       "3        5      True  04 20, 2014  A2PTZTCH2QUYBC  1888861614   \n",
       "4        4      True  04 16, 2014  A2VNHGJ59N4Z90  1888861614   \n",
       "\n",
       "         reviewerName                                         reviewText  \\\n",
       "0                Lori  Very pleased with my purchase. Looks exactly l...   \n",
       "1          BK Shopper  Very nicely crafted but too small. Am going to...   \n",
       "2      daninethequeen  still very pretty and well made...i am super p...   \n",
       "3             Tammara  I got this for our wedding cake, and it was ev...   \n",
       "4  LaQuinta Alexander  It was just what I want to put at the top of m...   \n",
       "\n",
       "                             summary  unixReviewTime vote image style  \n",
       "0                            Love it      1370304000  NaN   NaN   NaN  \n",
       "1                     Nice but small      1400803200  NaN   NaN   NaN  \n",
       "2       the \"s\" looks like a 5, kina      1399593600  NaN   NaN   NaN  \n",
       "3  Would recommend this to a friend!      1397952000  NaN   NaN   NaN  \n",
       "4                             Topper      1397606400  NaN   NaN   NaN  "
      ]
     },
     "execution_count": 3,
     "metadata": {},
     "output_type": "execute_result"
    }
   ],
   "source": [
    "df.head()"
   ]
  },
  {
   "cell_type": "code",
   "execution_count": 4,
   "id": "ed869920-4de0-4a4f-a288-6dfd66015631",
   "metadata": {},
   "outputs": [
    {
     "data": {
      "text/html": [
       "<div>\n",
       "<style scoped>\n",
       "    .dataframe tbody tr th:only-of-type {\n",
       "        vertical-align: middle;\n",
       "    }\n",
       "\n",
       "    .dataframe tbody tr th {\n",
       "        vertical-align: top;\n",
       "    }\n",
       "\n",
       "    .dataframe thead th {\n",
       "        text-align: right;\n",
       "    }\n",
       "</style>\n",
       "<table border=\"1\" class=\"dataframe\">\n",
       "  <thead>\n",
       "    <tr style=\"text-align: right;\">\n",
       "      <th></th>\n",
       "      <th>overall</th>\n",
       "      <th>verified</th>\n",
       "      <th>reviewTime</th>\n",
       "      <th>reviewerID</th>\n",
       "      <th>asin</th>\n",
       "      <th>reviewerName</th>\n",
       "      <th>reviewText</th>\n",
       "      <th>summary</th>\n",
       "      <th>unixReviewTime</th>\n",
       "      <th>vote</th>\n",
       "      <th>image</th>\n",
       "      <th>style</th>\n",
       "    </tr>\n",
       "  </thead>\n",
       "  <tbody>\n",
       "    <tr>\n",
       "      <th>5074155</th>\n",
       "      <td>5</td>\n",
       "      <td>True</td>\n",
       "      <td>10 4, 2018</td>\n",
       "      <td>AGOPF2VTEOP57</td>\n",
       "      <td>B01HJHSVG6</td>\n",
       "      <td>Bob</td>\n",
       "      <td>Love this product, very fresh, complete full f...</td>\n",
       "      <td>Exceclent product</td>\n",
       "      <td>1538611200</td>\n",
       "      <td>NaN</td>\n",
       "      <td>NaN</td>\n",
       "      <td>{'Size:': ' 2.29 oz'}</td>\n",
       "    </tr>\n",
       "    <tr>\n",
       "      <th>5074156</th>\n",
       "      <td>3</td>\n",
       "      <td>True</td>\n",
       "      <td>10 3, 2018</td>\n",
       "      <td>A5X5TI4JCH9CN</td>\n",
       "      <td>B01HJHSVG6</td>\n",
       "      <td>Jacqueline Schafer</td>\n",
       "      <td>Good taste but small quantity for the expensiv...</td>\n",
       "      <td>Good taste but small quantity for the price us...</td>\n",
       "      <td>1538524800</td>\n",
       "      <td>NaN</td>\n",
       "      <td>NaN</td>\n",
       "      <td>{'Size:': ' 2.29 oz'}</td>\n",
       "    </tr>\n",
       "    <tr>\n",
       "      <th>5074157</th>\n",
       "      <td>4</td>\n",
       "      <td>True</td>\n",
       "      <td>10 2, 2018</td>\n",
       "      <td>A1WMQQLC3TVAFI</td>\n",
       "      <td>B01HJHSVG6</td>\n",
       "      <td>Motionjunkie</td>\n",
       "      <td>Unlike some of the bad reviews regarding aroma...</td>\n",
       "      <td>See Comments below</td>\n",
       "      <td>1538438400</td>\n",
       "      <td>NaN</td>\n",
       "      <td>NaN</td>\n",
       "      <td>{'Size:': ' 2.29 oz'}</td>\n",
       "    </tr>\n",
       "    <tr>\n",
       "      <th>5074158</th>\n",
       "      <td>5</td>\n",
       "      <td>True</td>\n",
       "      <td>09 30, 2018</td>\n",
       "      <td>ALVP6JZRTEDY6</td>\n",
       "      <td>B01HJHSVG6</td>\n",
       "      <td>Marissa</td>\n",
       "      <td>I absolutely love this vanilla bean paste. I h...</td>\n",
       "      <td>Love!!</td>\n",
       "      <td>1538265600</td>\n",
       "      <td>NaN</td>\n",
       "      <td>NaN</td>\n",
       "      <td>{'Size:': ' 2.29 oz'}</td>\n",
       "    </tr>\n",
       "    <tr>\n",
       "      <th>5074159</th>\n",
       "      <td>5</td>\n",
       "      <td>True</td>\n",
       "      <td>09 29, 2018</td>\n",
       "      <td>AZFPVUZOVGBYR</td>\n",
       "      <td>B01HJHSVG6</td>\n",
       "      <td>Amazon Customer</td>\n",
       "      <td>So delicious!</td>\n",
       "      <td>Worth it</td>\n",
       "      <td>1538179200</td>\n",
       "      <td>NaN</td>\n",
       "      <td>NaN</td>\n",
       "      <td>{'Size:': ' 2.29 oz'}</td>\n",
       "    </tr>\n",
       "  </tbody>\n",
       "</table>\n",
       "</div>"
      ],
      "text/plain": [
       "         overall  verified   reviewTime      reviewerID        asin  \\\n",
       "5074155        5      True   10 4, 2018   AGOPF2VTEOP57  B01HJHSVG6   \n",
       "5074156        3      True   10 3, 2018   A5X5TI4JCH9CN  B01HJHSVG6   \n",
       "5074157        4      True   10 2, 2018  A1WMQQLC3TVAFI  B01HJHSVG6   \n",
       "5074158        5      True  09 30, 2018   ALVP6JZRTEDY6  B01HJHSVG6   \n",
       "5074159        5      True  09 29, 2018   AZFPVUZOVGBYR  B01HJHSVG6   \n",
       "\n",
       "               reviewerName  \\\n",
       "5074155                 Bob   \n",
       "5074156  Jacqueline Schafer   \n",
       "5074157        Motionjunkie   \n",
       "5074158             Marissa   \n",
       "5074159     Amazon Customer   \n",
       "\n",
       "                                                reviewText  \\\n",
       "5074155  Love this product, very fresh, complete full f...   \n",
       "5074156  Good taste but small quantity for the expensiv...   \n",
       "5074157  Unlike some of the bad reviews regarding aroma...   \n",
       "5074158  I absolutely love this vanilla bean paste. I h...   \n",
       "5074159                                      So delicious!   \n",
       "\n",
       "                                                   summary  unixReviewTime  \\\n",
       "5074155                                  Exceclent product      1538611200   \n",
       "5074156  Good taste but small quantity for the price us...      1538524800   \n",
       "5074157                                 See Comments below      1538438400   \n",
       "5074158                                             Love!!      1538265600   \n",
       "5074159                                           Worth it      1538179200   \n",
       "\n",
       "        vote image                  style  \n",
       "5074155  NaN   NaN  {'Size:': ' 2.29 oz'}  \n",
       "5074156  NaN   NaN  {'Size:': ' 2.29 oz'}  \n",
       "5074157  NaN   NaN  {'Size:': ' 2.29 oz'}  \n",
       "5074158  NaN   NaN  {'Size:': ' 2.29 oz'}  \n",
       "5074159  NaN   NaN  {'Size:': ' 2.29 oz'}  "
      ]
     },
     "execution_count": 4,
     "metadata": {},
     "output_type": "execute_result"
    }
   ],
   "source": [
    "df.tail()"
   ]
  },
  {
   "cell_type": "code",
   "execution_count": 5,
   "id": "455dac2e-970f-465e-9088-17a0b13aa24a",
   "metadata": {},
   "outputs": [
    {
     "data": {
      "text/plain": [
       "\"TEA IS FINE. WASN'T TO SURE ABOUT TEA BEADS OR ROLLED TEA LEAVES AT FIRST BUT TASTES AND BREWS FINE. DEAN\""
      ]
     },
     "execution_count": 5,
     "metadata": {},
     "output_type": "execute_result"
    }
   ],
   "source": [
    "df.iloc[99,:].reviewText"
   ]
  },
  {
   "cell_type": "code",
   "execution_count": 6,
   "id": "7506e825-d86e-418b-a186-a7c781f0367f",
   "metadata": {},
   "outputs": [
    {
     "data": {
      "text/html": [
       "<div>\n",
       "<style scoped>\n",
       "    .dataframe tbody tr th:only-of-type {\n",
       "        vertical-align: middle;\n",
       "    }\n",
       "\n",
       "    .dataframe tbody tr th {\n",
       "        vertical-align: top;\n",
       "    }\n",
       "\n",
       "    .dataframe thead th {\n",
       "        text-align: right;\n",
       "    }\n",
       "</style>\n",
       "<table border=\"1\" class=\"dataframe\">\n",
       "  <thead>\n",
       "    <tr style=\"text-align: right;\">\n",
       "      <th></th>\n",
       "      <th>reviewText</th>\n",
       "      <th>overall</th>\n",
       "    </tr>\n",
       "  </thead>\n",
       "  <tbody>\n",
       "    <tr>\n",
       "      <th>0</th>\n",
       "      <td>Very pleased with my purchase. Looks exactly l...</td>\n",
       "      <td>5</td>\n",
       "    </tr>\n",
       "    <tr>\n",
       "      <th>1</th>\n",
       "      <td>Very nicely crafted but too small. Am going to...</td>\n",
       "      <td>4</td>\n",
       "    </tr>\n",
       "    <tr>\n",
       "      <th>2</th>\n",
       "      <td>still very pretty and well made...i am super p...</td>\n",
       "      <td>4</td>\n",
       "    </tr>\n",
       "    <tr>\n",
       "      <th>3</th>\n",
       "      <td>I got this for our wedding cake, and it was ev...</td>\n",
       "      <td>5</td>\n",
       "    </tr>\n",
       "    <tr>\n",
       "      <th>4</th>\n",
       "      <td>It was just what I want to put at the top of m...</td>\n",
       "      <td>4</td>\n",
       "    </tr>\n",
       "    <tr>\n",
       "      <th>...</th>\n",
       "      <td>...</td>\n",
       "      <td>...</td>\n",
       "    </tr>\n",
       "    <tr>\n",
       "      <th>5074155</th>\n",
       "      <td>Love this product, very fresh, complete full f...</td>\n",
       "      <td>5</td>\n",
       "    </tr>\n",
       "    <tr>\n",
       "      <th>5074156</th>\n",
       "      <td>Good taste but small quantity for the expensiv...</td>\n",
       "      <td>3</td>\n",
       "    </tr>\n",
       "    <tr>\n",
       "      <th>5074157</th>\n",
       "      <td>Unlike some of the bad reviews regarding aroma...</td>\n",
       "      <td>4</td>\n",
       "    </tr>\n",
       "    <tr>\n",
       "      <th>5074158</th>\n",
       "      <td>I absolutely love this vanilla bean paste. I h...</td>\n",
       "      <td>5</td>\n",
       "    </tr>\n",
       "    <tr>\n",
       "      <th>5074159</th>\n",
       "      <td>So delicious!</td>\n",
       "      <td>5</td>\n",
       "    </tr>\n",
       "  </tbody>\n",
       "</table>\n",
       "<p>5074160 rows × 2 columns</p>\n",
       "</div>"
      ],
      "text/plain": [
       "                                                reviewText  overall\n",
       "0        Very pleased with my purchase. Looks exactly l...        5\n",
       "1        Very nicely crafted but too small. Am going to...        4\n",
       "2        still very pretty and well made...i am super p...        4\n",
       "3        I got this for our wedding cake, and it was ev...        5\n",
       "4        It was just what I want to put at the top of m...        4\n",
       "...                                                    ...      ...\n",
       "5074155  Love this product, very fresh, complete full f...        5\n",
       "5074156  Good taste but small quantity for the expensiv...        3\n",
       "5074157  Unlike some of the bad reviews regarding aroma...        4\n",
       "5074158  I absolutely love this vanilla bean paste. I h...        5\n",
       "5074159                                      So delicious!        5\n",
       "\n",
       "[5074160 rows x 2 columns]"
      ]
     },
     "execution_count": 6,
     "metadata": {},
     "output_type": "execute_result"
    }
   ],
   "source": [
    "dfdata = df[['reviewText', 'overall']]\n",
    "dfdata"
   ]
  },
  {
   "cell_type": "code",
   "execution_count": 7,
   "id": "6c2b3e3f",
   "metadata": {},
   "outputs": [
    {
     "data": {
      "text/plain": [
       "reviewText    2883\n",
       "overall          0\n",
       "dtype: int64"
      ]
     },
     "execution_count": 7,
     "metadata": {},
     "output_type": "execute_result"
    }
   ],
   "source": [
    "dfdata.isnull().sum()"
   ]
  },
  {
   "cell_type": "code",
   "execution_count": 8,
   "id": "a19d4399",
   "metadata": {},
   "outputs": [
    {
     "name": "stderr",
     "output_type": "stream",
     "text": [
      "d:\\Dropbox\\Academics\\Master (Msc)\\MSC AI\\Sem 2\\Machine Learning\\Assignment\\Mini Project\\SubjectSentimentModelling\\env\\lib\\site-packages\\pandas\\core\\frame.py:5176: SettingWithCopyWarning: \n",
      "A value is trying to be set on a copy of a slice from a DataFrame\n",
      "\n",
      "See the caveats in the documentation: https://pandas.pydata.org/pandas-docs/stable/user_guide/indexing.html#returning-a-view-versus-a-copy\n",
      "  return super().fillna(\n"
     ]
    }
   ],
   "source": [
    "dfdata.fillna(\"\", inplace=True)"
   ]
  },
  {
   "cell_type": "code",
   "execution_count": 9,
   "id": "e7b75719-2f10-476d-a40f-6a937a40e872",
   "metadata": {},
   "outputs": [
    {
     "name": "stderr",
     "output_type": "stream",
     "text": [
      "d:\\Dropbox\\Academics\\Master (Msc)\\MSC AI\\Sem 2\\Machine Learning\\Assignment\\Mini Project\\SubjectSentimentModelling\\env\\lib\\site-packages\\seaborn\\_decorators.py:36: FutureWarning: Pass the following variable as a keyword arg: x. From version 0.12, the only valid positional argument will be `data`, and passing other arguments without an explicit keyword will result in an error or misinterpretation.\n",
      "  warnings.warn(\n"
     ]
    },
    {
     "data": {
      "text/plain": [
       "<AxesSubplot:xlabel='overall'>"
      ]
     },
     "execution_count": 9,
     "metadata": {},
     "output_type": "execute_result"
    },
    {
     "data": {
      "image/png": "[encoded data removed]",
      "text/plain": [
       "<Figure size 432x288 with 1 Axes>"
      ]
     },
     "metadata": {
      "needs_background": "light"
     },
     "output_type": "display_data"
    }
   ],
   "source": [
    "import seaborn as sns\n",
    "sns.boxplot(dfdata['overall'])"
   ]
  },
  {
   "cell_type": "code",
   "execution_count": 10,
   "id": "e11a753d-58f8-42e9-92ab-3d93cc005f1f",
   "metadata": {},
   "outputs": [
    {
     "data": {
      "text/plain": [
       "<AxesSubplot:xlabel='overall', ylabel='Count'>"
      ]
     },
     "execution_count": 10,
     "metadata": {},
     "output_type": "execute_result"
    },
    {
     "data": {
      "image/png": "[encoded data removed]",
      "text/plain": [
       "<Figure size 432x288 with 1 Axes>"
      ]
     },
     "metadata": {
      "needs_background": "light"
     },
     "output_type": "display_data"
    }
   ],
   "source": [
    "import seaborn as sns\n",
    "sns.histplot(dfdata['overall'])"
   ]
  },
  {
   "cell_type": "code",
   "execution_count": 11,
   "id": "cab47f61-fc15-4327-b518-f05a14c7199b",
   "metadata": {},
   "outputs": [],
   "source": [
    "import matplotlib.pyplot as plt"
   ]
  },
  {
   "cell_type": "code",
   "execution_count": 12,
   "id": "c4ada34e-ba1c-4741-ab71-a47b54690a50",
   "metadata": {},
   "outputs": [],
   "source": [
    "from sklearn.model_selection import train_test_split\n",
    "dfdataTrain, dfdataTest = train_test_split(dfdata, test_size=0.05, stratify=dfdata['overall'])"
   ]
  },
  {
   "cell_type": "code",
   "execution_count": 13,
   "id": "868a6c02-cfcd-474e-bc47-b01c14cb7d07",
   "metadata": {},
   "outputs": [
    {
     "name": "stderr",
     "output_type": "stream",
     "text": [
      "d:\\Dropbox\\Academics\\Master (Msc)\\MSC AI\\Sem 2\\Machine Learning\\Assignment\\Mini Project\\SubjectSentimentModelling\\env\\lib\\site-packages\\seaborn\\_decorators.py:36: FutureWarning: Pass the following variable as a keyword arg: x. From version 0.12, the only valid positional argument will be `data`, and passing other arguments without an explicit keyword will result in an error or misinterpretation.\n",
      "  warnings.warn(\n",
      "d:\\Dropbox\\Academics\\Master (Msc)\\MSC AI\\Sem 2\\Machine Learning\\Assignment\\Mini Project\\SubjectSentimentModelling\\env\\lib\\site-packages\\seaborn\\_decorators.py:36: FutureWarning: Pass the following variable as a keyword arg: x. From version 0.12, the only valid positional argument will be `data`, and passing other arguments without an explicit keyword will result in an error or misinterpretation.\n",
      "  warnings.warn(\n"
     ]
    },
    {
     "data": {
      "image/png": "[encoded data removed]",
      "text/plain": [
       "<Figure size 1080x864 with 4 Axes>"
      ]
     },
     "metadata": {
      "needs_background": "light"
     },
     "output_type": "display_data"
    }
   ],
   "source": [
    "fix, axe = plt.subplots(figsize=(15, 12), nrows=2, ncols=2)\n",
    "sns.histplot(dfdataTrain['overall'], ax=axe[0, 0])\n",
    "axe[0, 0].set_title(\"dfdataTrain\")\n",
    "sns.histplot(dfdataTest['overall'], ax=axe[0, 1])\n",
    "axe[0, 1].set_title(\"dfdataTest\")\n",
    "sns.boxplot(dfdataTrain['overall'], ax=axe[1, 0])\n",
    "axe[1, 0].set_title(\"dfdataTrain\")\n",
    "sns.boxplot(dfdataTest['overall'], ax=axe[1, 1])\n",
    "axe[1, 1].set_title(\"dfdataTest\")\n",
    "plt.show();"
   ]
  },
  {
   "cell_type": "code",
   "execution_count": 14,
   "id": "f6dc2078-2b4a-4049-a3db-29fa4bf44a5b",
   "metadata": {},
   "outputs": [
    {
     "data": {
      "text/plain": [
       "(4820452, 2)"
      ]
     },
     "execution_count": 14,
     "metadata": {},
     "output_type": "execute_result"
    }
   ],
   "source": [
    "dfdataTrain.shape"
   ]
  },
  {
   "cell_type": "code",
   "execution_count": 15,
   "id": "8de3b3e7-1089-41c0-ace6-2e7e27bf154c",
   "metadata": {},
   "outputs": [
    {
     "data": {
      "text/plain": [
       "(253708, 2)"
      ]
     },
     "execution_count": 15,
     "metadata": {},
     "output_type": "execute_result"
    }
   ],
   "source": [
    "dfdataTest.shape"
   ]
  },
  {
   "cell_type": "markdown",
   "id": "92d4ee39-8415-4e56-b872-a4628ac2472f",
   "metadata": {},
   "source": [
    "---"
   ]
  },
  {
   "cell_type": "code",
   "execution_count": 42,
   "id": "f843c8ce-53ad-4f15-91ee-fb32d7a35e9f",
   "metadata": {},
   "outputs": [],
   "source": [
    "from nltk.tokenize import word_tokenize, sent_tokenize"
   ]
  },
  {
   "cell_type": "code",
   "execution_count": 43,
   "id": "90aad509",
   "metadata": {},
   "outputs": [
    {
     "data": {
      "text/plain": [
       "['eat', '...']"
      ]
     },
     "execution_count": 43,
     "metadata": {},
     "output_type": "execute_result"
    }
   ],
   "source": [
    "word_tokenize(\"eat...\")"
   ]
  },
  {
   "cell_type": "code",
   "execution_count": 44,
   "id": "60dcabcf-486a-48b6-83cf-d3d88b9c2f3e",
   "metadata": {},
   "outputs": [],
   "source": [
    "dfdataTrain['countSentences'] = dfdataTrain.reviewText.apply(lambda x: len(sent_tokenize(x)))"
   ]
  },
  {
   "cell_type": "code",
   "execution_count": 50,
   "id": "632eea17-3a41-496e-ac06-1721d2441b75",
   "metadata": {},
   "outputs": [
    {
     "data": {
      "text/plain": [
       "<AxesSubplot:xlabel='countSentences', ylabel='Count'>"
      ]
     },
     "execution_count": 50,
     "metadata": {},
     "output_type": "execute_result"
    },
    {
     "data": {
      "image/png": "[encoded data removed]",
      "text/plain": [
       "<Figure size 432x288 with 1 Axes>"
      ]
     },
     "metadata": {
      "needs_background": "light"
     },
     "output_type": "display_data"
    }
   ],
   "source": [
    "sns.histplot(dfdataTrain['countSentences'], bins=10)"
   ]
  },
  {
   "cell_type": "code",
   "execution_count": 46,
   "id": "50fbfa9e-0ad6-4262-a06d-93b4a4f3e252",
   "metadata": {},
   "outputs": [
    {
     "data": {
      "text/plain": [
       "array(['I\\'m not a member of the food police. However; I get really mad when a company short changes their customers hoping they will not notice. ESPECIALLY a supposed higher end \"GOURMET\" producer like Ghirardelli!\\n\\nThe quick and dirty for those who don\\'t want to read my detailed review.\\n\\n**Is it better than \"Swiss Miss,\" YES.\\n\\n**Did it used to be better before they over-sweetened, cut the # of servings from 20 to 12 and generally ruined a decent product? YES!\\n\\n**Is it over-priced and resting on the Ghirardelli name? OH YES.\\n\\n**Is it a way to impress people who don\\'t know any better albiet for a price? Probably.\\n\\n**Do I still recommend Ghirardelli Hot Chocolates. NOPE Not Any More. (want to know why? read on)\\n\\nFor years I have enjoyed the Ghirardelli line of hot chocolates. That is about to change!\\n\\nNOTE: Until this year they have born the subtitle \"Old Fashioned.\" That designation has been dropped for reasons which will soon become apparent. They have also quite conspicuously dropped the Product Satisfaction Guarantee along with the Ghirardelli address for applying for reimbursement if you the consumer were dissatisfied. Does this bode well for us? You be the judge and by all means let Ghirardelli know. I cannot include the address due to Amazon review policies. You may however contact them by email at their website.\\n\\nSomething I strongly encourage. As a hot chocolate lover I want the original recipie back. I hope after reading my review you will too.\\n\\nWhat is Ghirardelli doing? Quite simply boosting the sugar levels to astronomical levels and engaging in what I call \"shorting.\"\\n\\nBefore a serving of any Ghirardelli hot chocolate mix consisted of (3) Tbsp., (22g) yielding twenty, (20) servings per 16oz. can.\\n\\nNOW one serving is (4) Tbsp., (39 grams) yielding only TWELVE (12) servings for the same 16oz. can. This gives us 40 percent LESS servings per can. And at an average of $5.50 per can less s&h an increase from 27.5 cents/serving to 45.8 cents/serving. -- Some may say this is gourmet hot chocolate why quarrel over a few cents. Fair question, but lets be sure were talking about chocolate and not cheap fillers.\\n\\nI have a few cans still left from the \"Old Fashioned\" style which is what Ghirardelli has marketed for years. It IS different and I can taste the difference. However, I will post both Nutrition labels side by side for you to compare and add my analysis at the end. Hopefully the facts will be as clear to you as they are me.\\n\\nNOTE: the nutrition label is a requirement of the USDA. Further they are reprinted everywhere so I am assuming that this is PUBLIC DOMAIN information.  (That doesn\\'t mean that Ghirardelli will like me telling you about it.)\\n\\nI will be comparing Ghirardelli OLD FASHIONED HOT CHOCOLATE \"DOUBLE CHOCOLATE\" to the new replacement Ghirardelli PREMIUM HOT COCOA \"DOUBLE CHOCOLATE.\"  Note it is now called Hot Cocoa & not Hot Chocolate.\\n\\nI have Chocolate Mocha and Chocolate Hazelnut to compare as well and that the differences are negligible. It is usually only 0.5g of fat but mostly 1 - 2g of sugar is the usual difference. And of course both use natural & artificial flavors.\\n\\nTHE COMPARISON\\n\\nOLD FASHIONED HOT CHOCOLATE_________PREMIUM HOT COCOA\\n\\nServ Size 3 tbsp (22g) . . . . . . . . . . . . . . . . . Serv Size 4 Tbsp. (39g)\\n\\nServ Per container about 20 . . . . . . . . . . . . Serv Per container about 12\\n\\nPer Serving\\n\\nCalories 80  Cal from Fat 15 . . . . . . . . . . .  Calories 140  Cal from Fat 20\\n\\nTotal Fat  1.5g . . . . . . . . . . . . . . . . . . . . . . . Total Fat  2.5g\\n\\n  Saturated Fat  0.5g . . . . . . . . . . . . . . . . . . Saturated Fat  1g - - -Trans Fat  0g\\n\\nCholesterol  0mg . . . . . . . . . . . . . . . . . . .  Cholesterol  0mg\\n\\nSodium  0mg . . . . . . . . . . . . . . . . . . . . . . .Sodium  55mg\\n\\nTotal Carbohydrate  19g . . . . . . . . . . . . . .Total Carbohydrate  34g\\n\\n  Dietary Fiber  1g . . . . . . . . . . . . . . . . .  . .  Dietary Fiber 2g\\n\\n  Sugars  17g . . . . . . . . . . . . . . . . . . . . . . . .Sugars  29g\\n\\nProtein  1g . . . . . . . . . . . . . . . . . . . . . . . . Protein  2g\\n\\nVitamin A  0% - - C  0% . . . . . . . . . . . . . . Vitamin A  0% - - C  0%\\n\\nCalcium  0% - -  Iron  2% . . . . . . . . . . . . . Calcium  2% - - Iron  6%\\n\\nIngredients: Virtually Identical for old and new. All are in same order except for some grammatical changes with ONE exception. The Unsweetened Chocolate does not list being processed with Alkali on the new formula where it was on the old.\\n\\nNow the uncomfortable facts:  (given Fat = 9 cal/g, Carbohydrate and Protein = 4 Cal/g)\\n\\nServing Size UP: . . . . . 17g  (77.27% increase)  ******\\n\\nServings DOWN: . . . . . . 8  (40% Decrease)  ******\\n\\nCalories UP: . . . . . . . . 60 Cal (75% Increase)\\n\\nCalories from fat UP: . . 5 Cal  (33% Increase - about 1/2 g worth)\\n\\nTotal Fat UP: . . . . . . . . 1g  (66% Increase ~ 9 Calories)\\n\\nSodium UP:  . . . . . . . . . from 0\\n\\nTotal Carbs UP: . . . . .15g  (79% Increase  15 x 4 = 60 Calories) ******\\n\\nSUGAR UP: . . . . . . . . .12g  (71% Increase 12 x 4 = 48 Calories) ******\\n\\nFiber UP:  . . . . . . . . . . .1g  (100% Increase)\\n\\nProtein UP:  . . . . . . . . . 1g  (100% increase  4 Calories)\\n\\nBOTTOM LINE: I am no food scientist and I know sometimes the numbers don\\'t always add up exactly but it is painfully obvious that most of the extra 60 calories went into sugar.\\n\\nHowever, others have complained about the Ghirardelli mixes being too sweet. To my taste the NEW formula is much too sweet!\\n\\nThe Nutrition label bears out my biggest gripes with this REFORMULATED product:\\n\\n  (1) It was sweet before. Now by UPPING the SUGAR so dramatically and adding salt as a sugar booster I no longer like it.\\n\\n  (2) Not enough fat and other ingredients were added to convince me that any REAL gains in CHOCOLATE were made.\\n\\n  ## The TASTE of the new formula bears this out. (I have taken to cutting the serving size and adding Cocoa powder to get more Chocolate and less sugar.\\n\\n  (3) I DESPISE the shorting (Pumping it full of sugar and Cutting the servings by almost HALF.)\\n\\n  (4) And the price stays the same for less. That really frosts my goblet\\n\\nI can no longer recommend this product.\\n\\nGhirardelli You had a decent thing going and you blew it.\\n\\nPERSONALLY, I\\'m forwarding this review to the company and since Hot chocolate is just that. I\\'m going to experiment making either a home-made ganache syrup (melted chocolate & cream) or trying to find a way to finely grate or powder high quality chocolate to make my own brand. That\\'s Really All The Old Style Was. Hot \"Chocolate\" not Cocoa.  I\\'m sure for people with way too much money there are Hot chocolates available through boutiques where price is no object or... it IS the object. I\\'m not that rich. Besides if I come up with a home version that curls your toes then I may go into business myself or just enjoy it with a few friends.'],\n",
       "      dtype=object)"
      ]
     },
     "execution_count": 46,
     "metadata": {},
     "output_type": "execute_result"
    }
   ],
   "source": [
    "dfdataTrain[dfdataTrain.countSentences == dfdataTrain['countSentences'].max()].reviewText.values"
   ]
  },
  {
   "cell_type": "code",
   "execution_count": 47,
   "id": "634b2671-ee5f-474b-ac90-620862748a21",
   "metadata": {},
   "outputs": [
    {
     "data": {
      "text/plain": [
       "array(['', '', '', ..., '', '', ''], dtype=object)"
      ]
     },
     "execution_count": 47,
     "metadata": {},
     "output_type": "execute_result"
    }
   ],
   "source": [
    "dfdataTrain[dfdataTrain.countSentences == dfdataTrain['countSentences'].min()].reviewText.values"
   ]
  },
  {
   "cell_type": "code",
   "execution_count": 51,
   "id": "4c163344-8845-4219-9be1-fb3c409fe452",
   "metadata": {},
   "outputs": [
    {
     "data": {
      "text/plain": [
       "['i', 'do', \"n't\", 'want', 'you']"
      ]
     },
     "execution_count": 51,
     "metadata": {},
     "output_type": "execute_result"
    }
   ],
   "source": [
    "word_tokenize(\"i don't want you\")"
   ]
  },
  {
   "cell_type": "markdown",
   "id": "bc434af4-c046-40d1-8c13-01ca99a4862f",
   "metadata": {},
   "source": [
    "---"
   ]
  },
  {
   "cell_type": "code",
   "execution_count": 16,
   "id": "5559f350-7b5e-4af8-b368-455592880171",
   "metadata": {},
   "outputs": [],
   "source": [
    "dfdataTrainExp, _ = train_test_split(dfdataTrain, train_size=0.05, stratify=dfdataTrain['overall'])"
   ]
  },
  {
   "cell_type": "code",
   "execution_count": 53,
   "id": "73a95a7a",
   "metadata": {},
   "outputs": [],
   "source": [
    "from collections import defaultdict"
   ]
  },
  {
   "cell_type": "code",
   "execution_count": 55,
   "id": "bcebd9eb",
   "metadata": {},
   "outputs": [],
   "source": [
    "dictionary = defaultdict(lambda: 0)\n",
    "for _, row in dfdataTrainExp.iterrows():\n",
    "    for w in word_tokenize(row['reviewText']):\n",
    "        dictionary[w] += 1"
   ]
  },
  {
   "cell_type": "code",
   "execution_count": 56,
   "id": "a3edcb02",
   "metadata": {},
   "outputs": [
    {
     "data": {
      "text/plain": [
       "[('.', 522434),\n",
       " ('I', 297229),\n",
       " ('the', 264926),\n",
       " (',', 256104),\n",
       " ('and', 218735),\n",
       " ('a', 194666),\n",
       " ('to', 164591),\n",
       " ('it', 161162),\n",
       " ('!', 135215),\n",
       " ('is', 124696),\n",
       " ('of', 122925),\n",
       " ('this', 98707),\n",
       " ('for', 98397),\n",
       " ('in', 94511),\n",
       " ('my', 68762),\n",
       " ('was', 63265),\n",
       " ('that', 61758),\n",
       " ('but', 61647),\n",
       " ('with', 58722),\n",
       " ('not', 56367)]"
      ]
     },
     "execution_count": 56,
     "metadata": {},
     "output_type": "execute_result"
    }
   ],
   "source": [
    "sorted(dictionary.items(), key=lambda x: x[1], reverse=True)[:20]"
   ]
  },
  {
   "cell_type": "code",
   "execution_count": 60,
   "id": "5ff287f7-c86c-4077-9086-5b3a05e67a65",
   "metadata": {},
   "outputs": [
    {
     "data": {
      "text/plain": [
       "<AxesSubplot:xlabel='overall', ylabel='Count'>"
      ]
     },
     "execution_count": 60,
     "metadata": {},
     "output_type": "execute_result"
    },
    {
     "data": {
      "image/png": "[encoded data removed]",
      "text/plain": [
       "<Figure size 432x288 with 1 Axes>"
      ]
     },
     "metadata": {
      "needs_background": "light"
     },
     "output_type": "display_data"
    }
   ],
   "source": [
    "sns.histplot(dfdataTrainExp['overall'])"
   ]
  },
  {
   "cell_type": "code",
   "execution_count": 61,
   "id": "136f9764-ca8f-4f0a-8fc6-e1f23ef060c9",
   "metadata": {},
   "outputs": [
    {
     "data": {
      "text/plain": [
       "(241022, 3)"
      ]
     },
     "execution_count": 61,
     "metadata": {},
     "output_type": "execute_result"
    }
   ],
   "source": [
    "dfdataTrainExp.shape"
   ]
  },
  {
   "cell_type": "code",
   "execution_count": 62,
   "id": "f646b7c2-8b62-4601-88b6-6506cdcaba7f",
   "metadata": {},
   "outputs": [
    {
     "data": {
      "text/html": [
       "<div>\n",
       "<style scoped>\n",
       "    .dataframe tbody tr th:only-of-type {\n",
       "        vertical-align: middle;\n",
       "    }\n",
       "\n",
       "    .dataframe tbody tr th {\n",
       "        vertical-align: top;\n",
       "    }\n",
       "\n",
       "    .dataframe thead th {\n",
       "        text-align: right;\n",
       "    }\n",
       "</style>\n",
       "<table border=\"1\" class=\"dataframe\">\n",
       "  <thead>\n",
       "    <tr style=\"text-align: right;\">\n",
       "      <th></th>\n",
       "      <th>overall</th>\n",
       "      <th>countSentences</th>\n",
       "    </tr>\n",
       "  </thead>\n",
       "  <tbody>\n",
       "    <tr>\n",
       "      <th>count</th>\n",
       "      <td>241022.000000</td>\n",
       "      <td>241022.000000</td>\n",
       "    </tr>\n",
       "    <tr>\n",
       "      <th>mean</th>\n",
       "      <td>4.314714</td>\n",
       "      <td>2.921418</td>\n",
       "    </tr>\n",
       "    <tr>\n",
       "      <th>std</th>\n",
       "      <td>1.249302</td>\n",
       "      <td>2.835193</td>\n",
       "    </tr>\n",
       "    <tr>\n",
       "      <th>min</th>\n",
       "      <td>1.000000</td>\n",
       "      <td>0.000000</td>\n",
       "    </tr>\n",
       "    <tr>\n",
       "      <th>25%</th>\n",
       "      <td>4.000000</td>\n",
       "      <td>1.000000</td>\n",
       "    </tr>\n",
       "    <tr>\n",
       "      <th>50%</th>\n",
       "      <td>5.000000</td>\n",
       "      <td>2.000000</td>\n",
       "    </tr>\n",
       "    <tr>\n",
       "      <th>75%</th>\n",
       "      <td>5.000000</td>\n",
       "      <td>4.000000</td>\n",
       "    </tr>\n",
       "    <tr>\n",
       "      <th>max</th>\n",
       "      <td>5.000000</td>\n",
       "      <td>110.000000</td>\n",
       "    </tr>\n",
       "  </tbody>\n",
       "</table>\n",
       "</div>"
      ],
      "text/plain": [
       "             overall  countSentences\n",
       "count  241022.000000   241022.000000\n",
       "mean        4.314714        2.921418\n",
       "std         1.249302        2.835193\n",
       "min         1.000000        0.000000\n",
       "25%         4.000000        1.000000\n",
       "50%         5.000000        2.000000\n",
       "75%         5.000000        4.000000\n",
       "max         5.000000      110.000000"
      ]
     },
     "execution_count": 62,
     "metadata": {},
     "output_type": "execute_result"
    }
   ],
   "source": [
    "dfdataTrainExp.describe()"
   ]
  },
  {
   "cell_type": "markdown",
   "id": "1dba7f68-8da5-45e7-b8ee-c33d33f71ecd",
   "metadata": {},
   "source": [
    "---"
   ]
  },
  {
   "cell_type": "markdown",
   "id": "1de9b580-96fe-463b-85bb-f0047f5e35e1",
   "metadata": {},
   "source": [
    "#### Goal: Check the hypothesis of the model & processing"
   ]
  },
  {
   "cell_type": "markdown",
   "id": "f67e021c-83b1-4614-9fa7-db935249385c",
   "metadata": {},
   "source": [
    "#### Processing Planning\n",
    "<p> Use exploring sets </p>\n",
    "\n",
    "<ol>\n",
    "    <li> No cleaning </li>\n",
    "    <li> Tokenized words </li>\n",
    "    <li> BOW </li>\n",
    "</ol>\n",
    "\n",
    "<ol>\n",
    "    <li> No cleaning </li>\n",
    "    <li> Tokenized words </li>\n",
    "    <li> TFIDF </li>\n",
    "</ol>\n",
    "\n",
    "<ol>\n",
    "    <li> No cleaning </li>\n",
    "    <li> Tokenized words </li>\n",
    "    <li> Embedding </li>\n",
    "</ol>\n",
    "\n",
    "<ol>\n",
    "    <li> cleaning & standardized </li>\n",
    "    <li> lemmatized </li>\n",
    "    <li> subject finding </li>\n",
    "    <li> ehanced-embedding </li>\n",
    "</ol>\n",
    "\n",
    "#### ML Planning\n",
    "<ol>\n",
    "    <li> Naive Bayes </li>\n",
    "    <li> SVM </li>\n",
    "    <li> RNN </li>\n",
    "</ol>"
   ]
  },
  {
   "cell_type": "markdown",
   "id": "890b5fca-a56c-49d9-8c6a-d133a64936ea",
   "metadata": {},
   "source": [
    "#### Goal: Tuning the model"
   ]
  },
  {
   "cell_type": "markdown",
   "id": "9f6fe49b-bef8-4421-af90-ee68f027ea6b",
   "metadata": {},
   "source": [
    "#### Tuning Planning\n",
    "<ol>\n",
    "    <li> Use training & validation sets </li>\n",
    "    <li> For ml models, tuned the hyperparameter by grid search</li>\n",
    "    <li> For dl models, tuned the architecture</li>\n",
    "</ol>"
   ]
  },
  {
   "cell_type": "markdown",
   "id": "69de1e47-890b-41b2-9535-834d1e42bd90",
   "metadata": {},
   "source": [
    "#### Goal: Check the performances of model"
   ]
  },
  {
   "cell_type": "markdown",
   "id": "71907ea1-25a9-4c58-8656-2f7952dd7ca5",
   "metadata": {},
   "source": [
    "#### Performance Planning\n",
    "<ol>\n",
    "    <li> Use test sets</li>\n",
    "    <li> RMSE should be below than 3</li>\n",
    "</ol>"
   ]
  },
  {
   "cell_type": "code",
   "execution_count": 63,
   "id": "1c8fc917-f506-4eab-a70a-92843f6981d7",
   "metadata": {},
   "outputs": [
    {
     "data": {
      "text/html": [
       "<div>\n",
       "<style scoped>\n",
       "    .dataframe tbody tr th:only-of-type {\n",
       "        vertical-align: middle;\n",
       "    }\n",
       "\n",
       "    .dataframe tbody tr th {\n",
       "        vertical-align: top;\n",
       "    }\n",
       "\n",
       "    .dataframe thead th {\n",
       "        text-align: right;\n",
       "    }\n",
       "</style>\n",
       "<table border=\"1\" class=\"dataframe\">\n",
       "  <thead>\n",
       "    <tr style=\"text-align: right;\">\n",
       "      <th></th>\n",
       "      <th>reviewText</th>\n",
       "      <th>overall</th>\n",
       "      <th>countSentences</th>\n",
       "    </tr>\n",
       "  </thead>\n",
       "  <tbody>\n",
       "    <tr>\n",
       "      <th>4041347</th>\n",
       "      <td>I love this poster! And I'm so pleased with th...</td>\n",
       "      <td>5</td>\n",
       "      <td>6</td>\n",
       "    </tr>\n",
       "    <tr>\n",
       "      <th>155575</th>\n",
       "      <td>Really great taste, and lasts forever! It even...</td>\n",
       "      <td>5</td>\n",
       "      <td>2</td>\n",
       "    </tr>\n",
       "    <tr>\n",
       "      <th>2858001</th>\n",
       "      <td>I truly enjoyed this coffee I have had coffee ...</td>\n",
       "      <td>5</td>\n",
       "      <td>4</td>\n",
       "    </tr>\n",
       "    <tr>\n",
       "      <th>2556309</th>\n",
       "      <td>These candies were all either broken or melted</td>\n",
       "      <td>1</td>\n",
       "      <td>1</td>\n",
       "    </tr>\n",
       "    <tr>\n",
       "      <th>1787409</th>\n",
       "      <td>EZ-Sweetz is like spenda without all the extra...</td>\n",
       "      <td>5</td>\n",
       "      <td>4</td>\n",
       "    </tr>\n",
       "  </tbody>\n",
       "</table>\n",
       "</div>"
      ],
      "text/plain": [
       "                                                reviewText  overall  \\\n",
       "4041347  I love this poster! And I'm so pleased with th...        5   \n",
       "155575   Really great taste, and lasts forever! It even...        5   \n",
       "2858001  I truly enjoyed this coffee I have had coffee ...        5   \n",
       "2556309     These candies were all either broken or melted        1   \n",
       "1787409  EZ-Sweetz is like spenda without all the extra...        5   \n",
       "\n",
       "         countSentences  \n",
       "4041347               6  \n",
       "155575                2  \n",
       "2858001               4  \n",
       "2556309               1  \n",
       "1787409               4  "
      ]
     },
     "execution_count": 63,
     "metadata": {},
     "output_type": "execute_result"
    }
   ],
   "source": [
    "dfdataTrainExp.head()"
   ]
  },
  {
   "cell_type": "code",
   "execution_count": 17,
   "id": "06c7c2b8-7a2e-4e49-81e2-4f0d105f1548",
   "metadata": {},
   "outputs": [],
   "source": [
    "import numpy as np\n",
    "from sklearn.metrics import mean_squared_error, accuracy_score\n",
    "from sklearn.pipeline import Pipeline"
   ]
  },
  {
   "cell_type": "code",
   "execution_count": 18,
   "id": "244693c0-5a0d-4cfd-a7d2-b4d0cb865482",
   "metadata": {},
   "outputs": [],
   "source": [
    "from sklearn.model_selection import GridSearchCV"
   ]
  },
  {
   "cell_type": "code",
   "execution_count": 19,
   "id": "bc544c61-7b52-4cfc-aee8-3dbd81ba1555",
   "metadata": {},
   "outputs": [
    {
     "name": "stderr",
     "output_type": "stream",
     "text": [
      "[nltk_data] Downloading package wordnet to\n",
      "[nltk_data]     C:\\Users\\hariz\\AppData\\Roaming\\nltk_data...\n",
      "[nltk_data]   Package wordnet is already up-to-date!\n"
     ]
    }
   ],
   "source": [
    "import nltk\n",
    "from nltk.stem import WordNetLemmatizer \n",
    "\n",
    "nltk.download('wordnet')\n",
    "lemmatizer = WordNetLemmatizer()"
   ]
  },
  {
   "cell_type": "code",
   "execution_count": 20,
   "id": "8e1f1871-99a6-4bd4-8163-dc093b3f4131",
   "metadata": {},
   "outputs": [],
   "source": [
    "from nltk.tokenize import word_tokenize, sent_tokenize"
   ]
  },
  {
   "cell_type": "code",
   "execution_count": 21,
   "id": "e4f1c4d7",
   "metadata": {},
   "outputs": [],
   "source": [
    "from nltk.corpus import stopwords\n",
    "stop_words = set(stopwords.words('english'))"
   ]
  },
  {
   "cell_type": "code",
   "execution_count": 22,
   "id": "62db152f-3cfe-4e17-b65e-80e529a221dc",
   "metadata": {},
   "outputs": [
    {
     "name": "stderr",
     "output_type": "stream",
     "text": [
      "d:\\Dropbox\\Academics\\Master (Msc)\\MSC AI\\Sem 2\\Machine Learning\\Assignment\\Mini Project\\SubjectSentimentModelling\\env\\lib\\site-packages\\tqdm\\auto.py:22: TqdmWarning: IProgress not found. Please update jupyter and ipywidgets. See https://ipywidgets.readthedocs.io/en/stable/user_install.html\n",
      "  from .autonotebook import tqdm as notebook_tqdm\n"
     ]
    }
   ],
   "source": [
    "from sklearn.naive_bayes import MultinomialNB\n",
    "from sklearn.svm import LinearSVC\n",
    "import torch"
   ]
  },
  {
   "cell_type": "code",
   "execution_count": 23,
   "id": "bd917ad6-e41e-4289-849e-d637f0769c90",
   "metadata": {},
   "outputs": [
    {
     "name": "stderr",
     "output_type": "stream",
     "text": [
      "[nltk_data] Downloading package averaged_perceptron_tagger to\n",
      "[nltk_data]     C:\\Users\\hariz\\AppData\\Roaming\\nltk_data...\n",
      "[nltk_data]   Package averaged_perceptron_tagger is already up-to-\n",
      "[nltk_data]       date!\n"
     ]
    },
    {
     "data": {
      "text/plain": [
       "True"
      ]
     },
     "execution_count": 23,
     "metadata": {},
     "output_type": "execute_result"
    }
   ],
   "source": [
    "from nltk import pos_tag\n",
    "nltk.download('averaged_perceptron_tagger')"
   ]
  },
  {
   "cell_type": "code",
   "execution_count": 70,
   "id": "2a1fbe09-8d05-4414-9734-7d1b3dd234f5",
   "metadata": {},
   "outputs": [
    {
     "name": "stdout",
     "output_type": "stream",
     "text": [
      "$: dollar\n",
      "    $ -$ --$ A$ C$ HK$ M$ NZ$ S$ U.S.$ US$\n",
      "'': closing quotation mark\n",
      "    ' ''\n",
      "(: opening parenthesis\n",
      "    ( [ {\n",
      "): closing parenthesis\n",
      "    ) ] }\n",
      ",: comma\n",
      "    ,\n",
      "--: dash\n",
      "    --\n",
      ".: sentence terminator\n",
      "    . ! ?\n",
      ":: colon or ellipsis\n",
      "    : ; ...\n",
      "CC: conjunction, coordinating\n",
      "    & 'n and both but either et for less minus neither nor or plus so\n",
      "    therefore times v. versus vs. whether yet\n",
      "CD: numeral, cardinal\n",
      "    mid-1890 nine-thirty forty-two one-tenth ten million 0.5 one forty-\n",
      "    seven 1987 twenty '79 zero two 78-degrees eighty-four IX '60s .025\n",
      "    fifteen 271,124 dozen quintillion DM2,000 ...\n",
      "DT: determiner\n",
      "    all an another any both del each either every half la many much nary\n",
      "    neither no some such that the them these this those\n",
      "EX: existential there\n",
      "    there\n",
      "FW: foreign word\n",
      "    gemeinschaft hund ich jeux habeas Haementeria Herr K'ang-si vous\n",
      "    lutihaw alai je jour objets salutaris fille quibusdam pas trop Monte\n",
      "    terram fiche oui corporis ...\n",
      "IN: preposition or conjunction, subordinating\n",
      "    astride among uppon whether out inside pro despite on by throughout\n",
      "    below within for towards near behind atop around if like until below\n",
      "    next into if beside ...\n",
      "JJ: adjective or numeral, ordinal\n",
      "    third ill-mannered pre-war regrettable oiled calamitous first separable\n",
      "    ectoplasmic battery-powered participatory fourth still-to-be-named\n",
      "    multilingual multi-disciplinary ...\n",
      "JJR: adjective, comparative\n",
      "    bleaker braver breezier briefer brighter brisker broader bumper busier\n",
      "    calmer cheaper choosier cleaner clearer closer colder commoner costlier\n",
      "    cozier creamier crunchier cuter ...\n",
      "JJS: adjective, superlative\n",
      "    calmest cheapest choicest classiest cleanest clearest closest commonest\n",
      "    corniest costliest crassest creepiest crudest cutest darkest deadliest\n",
      "    dearest deepest densest dinkiest ...\n",
      "LS: list item marker\n",
      "    A A. B B. C C. D E F First G H I J K One SP-44001 SP-44002 SP-44005\n",
      "    SP-44007 Second Third Three Two * a b c d first five four one six three\n",
      "    two\n",
      "MD: modal auxiliary\n",
      "    can cannot could couldn't dare may might must need ought shall should\n",
      "    shouldn't will would\n",
      "NN: noun, common, singular or mass\n",
      "    common-carrier cabbage knuckle-duster Casino afghan shed thermostat\n",
      "    investment slide humour falloff slick wind hyena override subhumanity\n",
      "    machinist ...\n",
      "NNP: noun, proper, singular\n",
      "    Motown Venneboerger Czestochwa Ranzer Conchita Trumplane Christos\n",
      "    Oceanside Escobar Kreisler Sawyer Cougar Yvette Ervin ODI Darryl CTCA\n",
      "    Shannon A.K.C. Meltex Liverpool ...\n",
      "NNPS: noun, proper, plural\n",
      "    Americans Americas Amharas Amityvilles Amusements Anarcho-Syndicalists\n",
      "    Andalusians Andes Andruses Angels Animals Anthony Antilles Antiques\n",
      "    Apache Apaches Apocrypha ...\n",
      "NNS: noun, common, plural\n",
      "    undergraduates scotches bric-a-brac products bodyguards facets coasts\n",
      "    divestitures storehouses designs clubs fragrances averages\n",
      "    subjectivists apprehensions muses factory-jobs ...\n",
      "PDT: pre-determiner\n",
      "    all both half many quite such sure this\n",
      "POS: genitive marker\n",
      "    ' 's\n",
      "PRP: pronoun, personal\n",
      "    hers herself him himself hisself it itself me myself one oneself ours\n",
      "    ourselves ownself self she thee theirs them themselves they thou thy us\n",
      "PRP$: pronoun, possessive\n",
      "    her his mine my our ours their thy your\n",
      "RB: adverb\n",
      "    occasionally unabatingly maddeningly adventurously professedly\n",
      "    stirringly prominently technologically magisterially predominately\n",
      "    swiftly fiscally pitilessly ...\n",
      "RBR: adverb, comparative\n",
      "    further gloomier grander graver greater grimmer harder harsher\n",
      "    healthier heavier higher however larger later leaner lengthier less-\n",
      "    perfectly lesser lonelier longer louder lower more ...\n",
      "RBS: adverb, superlative\n",
      "    best biggest bluntest earliest farthest first furthest hardest\n",
      "    heartiest highest largest least less most nearest second tightest worst\n",
      "RP: particle\n",
      "    aboard about across along apart around aside at away back before behind\n",
      "    by crop down ever fast for forth from go high i.e. in into just later\n",
      "    low more off on open out over per pie raising start teeth that through\n",
      "    under unto up up-pp upon whole with you\n",
      "SYM: symbol\n",
      "    % & ' '' ''. ) ). * + ,. < = > @ A[fj] U.S U.S.S.R * ** ***\n",
      "TO: \"to\" as preposition or infinitive marker\n",
      "    to\n",
      "UH: interjection\n",
      "    Goodbye Goody Gosh Wow Jeepers Jee-sus Hubba Hey Kee-reist Oops amen\n",
      "    huh howdy uh dammit whammo shucks heck anyways whodunnit honey golly\n",
      "    man baby diddle hush sonuvabitch ...\n",
      "VB: verb, base form\n",
      "    ask assemble assess assign assume atone attention avoid bake balkanize\n",
      "    bank begin behold believe bend benefit bevel beware bless boil bomb\n",
      "    boost brace break bring broil brush build ...\n",
      "VBD: verb, past tense\n",
      "    dipped pleaded swiped regummed soaked tidied convened halted registered\n",
      "    cushioned exacted snubbed strode aimed adopted belied figgered\n",
      "    speculated wore appreciated contemplated ...\n",
      "VBG: verb, present participle or gerund\n",
      "    telegraphing stirring focusing angering judging stalling lactating\n",
      "    hankerin' alleging veering capping approaching traveling besieging\n",
      "    encrypting interrupting erasing wincing ...\n",
      "VBN: verb, past participle\n",
      "    multihulled dilapidated aerosolized chaired languished panelized used\n",
      "    experimented flourished imitated reunifed factored condensed sheared\n",
      "    unsettled primed dubbed desired ...\n",
      "VBP: verb, present tense, not 3rd person singular\n",
      "    predominate wrap resort sue twist spill cure lengthen brush terminate\n",
      "    appear tend stray glisten obtain comprise detest tease attract\n",
      "    emphasize mold postpone sever return wag ...\n",
      "VBZ: verb, present tense, 3rd person singular\n",
      "    bases reconstructs marks mixes displeases seals carps weaves snatches\n",
      "    slumps stretches authorizes smolders pictures emerges stockpiles\n",
      "    seduces fizzes uses bolsters slaps speaks pleads ...\n",
      "WDT: WH-determiner\n",
      "    that what whatever which whichever\n",
      "WP: WH-pronoun\n",
      "    that what whatever whatsoever which who whom whosoever\n",
      "WP$: WH-pronoun, possessive\n",
      "    whose\n",
      "WRB: Wh-adverb\n",
      "    how however whence whenever where whereby whereever wherein whereof why\n",
      "``: opening quotation mark\n",
      "    ` ``\n"
     ]
    },
    {
     "name": "stderr",
     "output_type": "stream",
     "text": [
      "[nltk_data] Downloading package tagsets to\n",
      "[nltk_data]     C:\\Users\\hariz\\AppData\\Roaming\\nltk_data...\n",
      "[nltk_data]   Package tagsets is already up-to-date!\n"
     ]
    }
   ],
   "source": [
    "nltk.download('tagsets')\n",
    "nltk.help.upenn_tagset()"
   ]
  },
  {
   "cell_type": "code",
   "execution_count": 97,
   "id": "c3800a85",
   "metadata": {},
   "outputs": [
    {
     "data": {
      "text/plain": [
       "['haha', '--']"
      ]
     },
     "execution_count": 97,
     "metadata": {},
     "output_type": "execute_result"
    }
   ],
   "source": [
    "word_tokenize(\"haha--\")"
   ]
  },
  {
   "cell_type": "code",
   "execution_count": 24,
   "id": "2c6b8a53",
   "metadata": {},
   "outputs": [],
   "source": [
    "import math"
   ]
  },
  {
   "cell_type": "code",
   "execution_count": 25,
   "id": "f847b5f1-0c5c-4673-9bab-e54263cbd9f1",
   "metadata": {},
   "outputs": [],
   "source": [
    "import re"
   ]
  },
  {
   "cell_type": "code",
   "execution_count": 26,
   "id": "0d084cee",
   "metadata": {},
   "outputs": [],
   "source": [
    "import scipy as sp "
   ]
  },
  {
   "cell_type": "markdown",
   "id": "0e853d2e",
   "metadata": {},
   "source": [
    "##### Pipeline"
   ]
  },
  {
   "cell_type": "code",
   "execution_count": 27,
   "id": "b3822a7a-41b6-47e7-a66f-fb0021ec22a3",
   "metadata": {},
   "outputs": [],
   "source": [
    "def pipe_cleaningText(text: str) -> str:\n",
    "    txt = text.lower()\n",
    "    return txt\n",
    "\n",
    "def pipe_removeStopWords(text: str) -> str:\n",
    "    return \" \".join([w for w in word_tokenize(text) if w not in stop_words])\n",
    "\n",
    "def pipe_lemmatization(text: str) -> str:\n",
    "    txt = \"\"\n",
    "    for w in word_tokenize(text):\n",
    "        txt += lemmatizer.lemmatize(w) + ' '\n",
    "    return txt.strip()\n",
    "\n",
    "def pipe_addPos(text: str) -> str:\n",
    "    txt = \"\"\n",
    "    for w in pos_tag(word_tokenize(text)):\n",
    "        txt += '__'.join(w) + ' '\n",
    "    return txt.strip()\n",
    "\n",
    "def pipe_normalized(text: str, bin: int) -> str:\n",
    "    txt = \"\"\n",
    "    elements = word_tokenize(text)\n",
    "    n = len(elements)\n",
    "    for i, w in enumerate(elements):\n",
    "        normVal = math.floor((i / (n - 1)) * (bin - 1)) + 1 if n != 1 else 1\n",
    "        txt += w + '__' + str(normVal) + ' '\n",
    "    return txt.strip()\n",
    "\n",
    "def pipe_subjectCleaning(text: str) -> str:\n",
    "    txt = \"\"\n",
    "    for s in sent_tokenize(text):\n",
    "        for w in pos_tag(word_tokenize(s)):\n",
    "            if w[1] != 'NNP':\n",
    "                continue\n",
    "            txt += w[0] + ' '\n",
    "    return txt.strip()"
   ]
  },
  {
   "cell_type": "markdown",
   "id": "e24d8bf5",
   "metadata": {},
   "source": [
    "##### Feature extraction"
   ]
  },
  {
   "cell_type": "code",
   "execution_count": 29,
   "id": "78bd49f4",
   "metadata": {},
   "outputs": [],
   "source": [
    "from sklearn.feature_extraction.text import TfidfVectorizer, CountVectorizer\n",
    "\n",
    "def feature_tfidfUni(series: pd.Series) -> sp.sparse.csr_matrix:\n",
    "    tfidf_vectorizer = TfidfVectorizer(ngram_range=(1,1))\n",
    "    tfidf_vectorizer.fit(series)\n",
    "    return tfidf_vectorizer.transform(series)\n",
    "\n",
    "def feature_bowUni(series: pd.Series) -> sp.sparse.csr_matrix:\n",
    "    bow_vectorizer = CountVectorizer(ngram_range=(1,1))\n",
    "    bow_vectorizer.fit(series)\n",
    "    return bow_vectorizer.transform(series)\n",
    "\n",
    "def feature_tfidfUniBi(series: pd.Series) -> sp.sparse.csr_matrix:\n",
    "    tfidf_vectorizer = TfidfVectorizer(ngram_range=(1,2))\n",
    "    tfidf_vectorizer.fit(series)\n",
    "    return tfidf_vectorizer.transform(series)\n",
    "\n",
    "def feature_bowUniBi(series: pd.Series) -> sp.sparse.csr_matrix:\n",
    "    bow_vectorizer = CountVectorizer(ngram_range=(1,2))\n",
    "    bow_vectorizer.fit(series)\n",
    "    return bow_vectorizer.transform(series)\n"
   ]
  },
  {
   "cell_type": "code",
   "execution_count": 30,
   "id": "b537bd4b",
   "metadata": {},
   "outputs": [
    {
     "data": {
      "text/plain": [
       "'I__PRP__1 really__RB__2 like__IN__3 you__PRP__4 girl__VBP__5'"
      ]
     },
     "execution_count": 30,
     "metadata": {},
     "output_type": "execute_result"
    }
   ],
   "source": [
    "# sample result\n",
    "pipe_normalized(pipe_addPos('I really like you girl'), 5)"
   ]
  },
  {
   "cell_type": "code",
   "execution_count": 31,
   "id": "410b0d0c",
   "metadata": {},
   "outputs": [
    {
     "data": {
      "text/plain": [
       "'I__PRP__1 really__RB__3 like__IN__5'"
      ]
     },
     "execution_count": 31,
     "metadata": {},
     "output_type": "execute_result"
    }
   ],
   "source": [
    "pipe_normalized(pipe_addPos('I really like'), 5)"
   ]
  },
  {
   "cell_type": "code",
   "execution_count": 32,
   "id": "b34b174a",
   "metadata": {},
   "outputs": [
    {
     "data": {
      "text/plain": [
       "'I__1 like__3 you__5'"
      ]
     },
     "execution_count": 32,
     "metadata": {},
     "output_type": "execute_result"
    }
   ],
   "source": [
    "pipe_normalized('I like you', 5)"
   ]
  },
  {
   "cell_type": "code",
   "execution_count": 33,
   "id": "739358fa",
   "metadata": {},
   "outputs": [
    {
     "data": {
      "text/plain": [
       "'I__PRP really__RB like__IN you__PRP .__. Not__RB really__RB'"
      ]
     },
     "execution_count": 33,
     "metadata": {},
     "output_type": "execute_result"
    }
   ],
   "source": [
    "pipe_addPos('I really like you. Not really')"
   ]
  },
  {
   "cell_type": "code",
   "execution_count": 34,
   "id": "3a7f5670",
   "metadata": {},
   "outputs": [],
   "source": [
    "from sklearn.naive_bayes import MultinomialNB\n",
    "from sklearn.svm import LinearSVR\n",
    "import torch"
   ]
  },
  {
   "cell_type": "markdown",
   "id": "497def80-86e1-4dc7-afb1-e7ec9cfd061b",
   "metadata": {},
   "source": [
    "##### Modelling\n"
   ]
  },
  {
   "cell_type": "code",
   "execution_count": 35,
   "id": "680e7606",
   "metadata": {},
   "outputs": [],
   "source": [
    "nb_model = MultinomialNB() # can modify the hyper-parameter\n",
    "svm_model = LinearSVC() # can modify the hyper-parameter"
   ]
  },
  {
   "cell_type": "markdown",
   "id": "bd1ea480",
   "metadata": {},
   "source": [
    "##### Sampling"
   ]
  },
  {
   "cell_type": "code",
   "execution_count": 333,
   "id": "cf71cc19",
   "metadata": {},
   "outputs": [],
   "source": [
    "def balancing_upsampling(data: pd.DataFrame, target: int=None) -> pd.DataFrame:\n",
    "    group_res = data.groupby(by=['overall'])['overall'].count()\n",
    "    highest_n = max(group_res.values) if not target else target\n",
    "    thedata = data[data.overall == group_res[group_res == highest_n].index[0]] if not target else data.drop(data.index)\n",
    "    for i in group_res.index:\n",
    "        if group_res.loc[i] == highest_n:\n",
    "            continue\n",
    "        tdata = data[data.overall == i]\n",
    "        sample_ind = np.random.choice(tdata.index, highest_n - group_res.loc[i], replace=True)\n",
    "        thedata = pd.concat([thedata, tdata, tdata.loc[sample_ind]])\n",
    "    return thedata\n",
    "\n",
    "def balancing_downsampling(data: pd.DataFrame, target: int=None) -> pd.DataFrame:\n",
    "    group_res = data.groupby(by=['overall'])['overall'].count()\n",
    "    lowest_n = min(group_res.values) if not target else target\n",
    "    thedata = data[data.overall == group_res[group_res == lowest_n].index[0]] if not target else data.drop(data.index)\n",
    "    for i in group_res.index:\n",
    "        if group_res.loc[i] == lowest_n:\n",
    "            continue\n",
    "        tdata = data[data.overall == i]\n",
    "        sample_ind = np.random.choice(tdata.index, lowest_n, replace=False)\n",
    "        thedata = pd.concat([thedata, tdata.loc[sample_ind]])\n",
    "    return thedata"
   ]
  },
  {
   "cell_type": "markdown",
   "id": "853d60d5",
   "metadata": {},
   "source": [
    "##### Testing"
   ]
  },
  {
   "cell_type": "code",
   "execution_count": null,
   "id": "5cc7220b",
   "metadata": {},
   "outputs": [],
   "source": [
    "def accuracyTrainTest(model, trainX: np.array, trainY: np.array, testX: np.array, testY: np.array) -> (float, float):\n",
    "    mod = model.fit(trainX, trainY)\n",
    "    yfit = mod.predict(trainX)\n",
    "    ypred = mod.predict(testX)\n",
    "    \n",
    "    # train result, test result\n",
    "    return accuracy_score(trainY, yfit), accuracy_score(testY, ypred)\n",
    "    \n",
    "def loop_testing(model, n_test: int, xArr: sp.sparse.csr_matrix, yArr: np.array) -> dict[str: list([float, float])]:\n",
    "    thedict = {}\n",
    "    splitter = StratifiedKFold(n_splits=n_test)\n",
    "    train_inx, test_inx = np.array([]), np.array([])\n",
    "    for tr_ind, tst_ind in splitter.split(xArr, yArr):\n",
    "        train_inx = np.hstack((train_inx, tr_ind)).astype(int)\n",
    "        test_inx = np.hstack((test_inx, tst_ind)).astype(int)\n",
    "\n",
    "        trainX, trainY = xArr[train_inx], yArr[train_inx]\n",
    "        testX, testY = xArr[test_inx], yArr[test_inx]\n",
    "\n",
    "        resTrain, resTest = accuracyTrainTest(model, trainX, trainY, testX, testY)\n",
    "        thedict[len(train_inx)] = [resTrain, resTest]\n",
    "    return thedict"
   ]
  },
  {
   "cell_type": "markdown",
   "id": "35e88260",
   "metadata": {},
   "source": [
    "##### Visualized Result"
   ]
  },
  {
   "cell_type": "code",
   "execution_count": 199,
   "id": "aba630a0",
   "metadata": {},
   "outputs": [],
   "source": [
    "from sklearn.metrics import classification_report"
   ]
  },
  {
   "cell_type": "code",
   "execution_count": 205,
   "id": "b8dc350d",
   "metadata": {},
   "outputs": [],
   "source": [
    "from matplotlib.ticker import FormatStrFormatter"
   ]
  },
  {
   "cell_type": "code",
   "execution_count": 212,
   "id": "c8ac1b66",
   "metadata": {},
   "outputs": [],
   "source": [
    "def show_result(ypred: np.array, ytarget: np.array) -> None:\n",
    "    label = range(1, 6)\n",
    "    report = classification_report(ypred, ytarget, labels=label)\n",
    "    conf_matrix = confusion_matrix(ypred, ytarget, labels=label)\n",
    "    df_cm = pd.DataFrame(data=conf_matrix, index=label, columns=label)\n",
    "\n",
    "    print(report)\n",
    "    fix, axe = plt.subplots(figsize=(15, 8), nrows=1, ncols=1)\n",
    "    sns.heatmap(df_cm, annot=True, ax=axe, fmt='.0f', cmap=sns.cm.rocket_r, vmax=100*1000)\n",
    "    plt.show();\n",
    "\n",
    "def visualized_loopTesting(result_loopTesting: dict[str: list([float, float])]) -> None:\n",
    "    train_res, test_res = dict(), dict()\n",
    "    for res in result_loopTesting:\n",
    "        train_res[res] = result[res][0]\n",
    "        test_res[res] = result[res][1]\n",
    "\n",
    "    fig, axe = plt.subplots(figsize=(15, 8), nrows=1, ncols=1)\n",
    "    sns.lineplot(y=train_res.values(), x=train_res.keys() , ax=axe, label='train-result')\n",
    "    sns.lineplot(y=test_res.values(), x=test_res.keys(), ax=axe, label='test-result')\n",
    "    axe.set_title(\"Highest Score: {}\".format(max(test_res.values())))\n",
    "    axe.set_xlabel(\"Dataset Size\")\n",
    "    axe.set_ylabel(\"Accuracy\")\n",
    "    axe.set_ylim([0.7, 1.0])\n",
    "    axe.xaxis.set_major_formatter(FormatStrFormatter('%.0f'))\n",
    "    plt.show();\n",
    "    "
   ]
  },
  {
   "cell_type": "markdown",
   "id": "f3925a87",
   "metadata": {},
   "source": [
    "---"
   ]
  },
  {
   "cell_type": "code",
   "execution_count": 134,
   "id": "d130fff2",
   "metadata": {},
   "outputs": [
    {
     "data": {
      "text/html": [
       "<div>\n",
       "<style scoped>\n",
       "    .dataframe tbody tr th:only-of-type {\n",
       "        vertical-align: middle;\n",
       "    }\n",
       "\n",
       "    .dataframe tbody tr th {\n",
       "        vertical-align: top;\n",
       "    }\n",
       "\n",
       "    .dataframe thead th {\n",
       "        text-align: right;\n",
       "    }\n",
       "</style>\n",
       "<table border=\"1\" class=\"dataframe\">\n",
       "  <thead>\n",
       "    <tr style=\"text-align: right;\">\n",
       "      <th></th>\n",
       "      <th>reviewText</th>\n",
       "      <th>overall</th>\n",
       "    </tr>\n",
       "  </thead>\n",
       "  <tbody>\n",
       "    <tr>\n",
       "      <th>3148599</th>\n",
       "      <td>ok</td>\n",
       "      <td>4</td>\n",
       "    </tr>\n",
       "    <tr>\n",
       "      <th>4188628</th>\n",
       "      <td>I needed 5inch dolphins those are to small tha...</td>\n",
       "      <td>1</td>\n",
       "    </tr>\n",
       "    <tr>\n",
       "      <th>2754969</th>\n",
       "      <td>Love this dressing/dip</td>\n",
       "      <td>5</td>\n",
       "    </tr>\n",
       "    <tr>\n",
       "      <th>37571</th>\n",
       "      <td>I like this cheese powder very much.  It taste...</td>\n",
       "      <td>4</td>\n",
       "    </tr>\n",
       "    <tr>\n",
       "      <th>2037187</th>\n",
       "      <td>Great and addictive</td>\n",
       "      <td>5</td>\n",
       "    </tr>\n",
       "  </tbody>\n",
       "</table>\n",
       "</div>"
      ],
      "text/plain": [
       "                                                reviewText  overall\n",
       "3148599                                                 ok        4\n",
       "4188628  I needed 5inch dolphins those are to small tha...        1\n",
       "2754969                             Love this dressing/dip        5\n",
       "37571    I like this cheese powder very much.  It taste...        4\n",
       "2037187                                Great and addictive        5"
      ]
     },
     "execution_count": 134,
     "metadata": {},
     "output_type": "execute_result"
    }
   ],
   "source": [
    "dfdataTrainExp.head()"
   ]
  },
  {
   "cell_type": "code",
   "execution_count": 135,
   "id": "c5b75bc8",
   "metadata": {},
   "outputs": [
    {
     "data": {
      "text/plain": [
       "'I needed 5inch dolphins those are to small thanks !!'"
      ]
     },
     "execution_count": 135,
     "metadata": {},
     "output_type": "execute_result"
    }
   ],
   "source": [
    "dfdataTrainExp.loc[4188628, 'reviewText']"
   ]
  },
  {
   "cell_type": "code",
   "execution_count": 194,
   "id": "1042c34b",
   "metadata": {},
   "outputs": [
    {
     "data": {
      "text/plain": [
       "(241022, 3)"
      ]
     },
     "execution_count": 194,
     "metadata": {},
     "output_type": "execute_result"
    }
   ],
   "source": [
    "dfdataTrainExp.shape"
   ]
  },
  {
   "cell_type": "code",
   "execution_count": 52,
   "id": "dee418a9",
   "metadata": {},
   "outputs": [],
   "source": [
    "from sklearn.model_selection import StratifiedKFold"
   ]
  },
  {
   "cell_type": "code",
   "execution_count": 54,
   "id": "a3c577ce",
   "metadata": {},
   "outputs": [],
   "source": [
    "def accuracyTrainTest(model, trainX: np.array, trainY: np.array, testX: np.array, testY: np.array) -> (float, float):\n",
    "    mod = model.fit(trainX, trainY)\n",
    "    yfit = mod.predict(trainX)\n",
    "    ypred = mod.predict(testX)\n",
    "    \n",
    "    # train result, test result\n",
    "    return accuracy_score(trainY, yfit), accuracy_score(testY, ypred)\n",
    "    \n",
    "def loop_testing(model, n_test: int, xArr: sp.sparse.csr_matrix, yArr: np.array) -> dict[str: list([float, float])]:\n",
    "    thedict = {}\n",
    "    splitter = StratifiedKFold(n_splits=n_test)\n",
    "    train_inx, test_inx = np.array([]), np.array([])\n",
    "    for tr_ind, tst_ind in splitter.split(xArr, yArr):\n",
    "        train_inx = np.hstack((train_inx, tr_ind)).astype(int)\n",
    "        test_inx = np.hstack((test_inx, tst_ind)).astype(int)\n",
    "\n",
    "        trainX, trainY = xArr[train_inx], yArr[train_inx]\n",
    "        testX, testY = xArr[test_inx], yArr[test_inx]\n",
    "\n",
    "        resTrain, resTest = accuracyTrainTest(model, trainX, trainY, testX, testY)\n",
    "        thedict[len(train_inx)] = [resTrain, resTest]\n",
    "    return thedict"
   ]
  },
  {
   "cell_type": "code",
   "execution_count": 340,
   "id": "ab2e3c2e",
   "metadata": {},
   "outputs": [],
   "source": [
    "def pipeProcess_1(text: str) -> str:\n",
    "    text = pipe_cleaningText(text)\n",
    "    text = pipe_removeStopWords(text)\n",
    "    return text\n",
    "\n",
    "def extractFeaturesAndTarget_1(data: pd.DataFrame) -> (np.array, np.array):\n",
    "    return feature_tfidf(data['reviewText']), data['overall'].to_numpy()"
   ]
  },
  {
   "cell_type": "code",
   "execution_count": 341,
   "id": "cad69d6f",
   "metadata": {},
   "outputs": [
    {
     "data": {
      "text/html": [
       "<div>\n",
       "<style scoped>\n",
       "    .dataframe tbody tr th:only-of-type {\n",
       "        vertical-align: middle;\n",
       "    }\n",
       "\n",
       "    .dataframe tbody tr th {\n",
       "        vertical-align: top;\n",
       "    }\n",
       "\n",
       "    .dataframe thead th {\n",
       "        text-align: right;\n",
       "    }\n",
       "</style>\n",
       "<table border=\"1\" class=\"dataframe\">\n",
       "  <thead>\n",
       "    <tr style=\"text-align: right;\">\n",
       "      <th></th>\n",
       "      <th>reviewText</th>\n",
       "      <th>overall</th>\n",
       "      <th>countSentences</th>\n",
       "    </tr>\n",
       "  </thead>\n",
       "  <tbody>\n",
       "    <tr>\n",
       "      <th>4041347</th>\n",
       "      <td>love poster ! 'm pleased quality . came large ...</td>\n",
       "      <td>5</td>\n",
       "      <td>6</td>\n",
       "    </tr>\n",
       "    <tr>\n",
       "      <th>155575</th>\n",
       "      <td>really great taste , lasts forever ! even tast...</td>\n",
       "      <td>5</td>\n",
       "      <td>2</td>\n",
       "    </tr>\n",
       "    <tr>\n",
       "      <th>2858001</th>\n",
       "      <td>truly enjoyed coffee coffee around globe good ...</td>\n",
       "      <td>5</td>\n",
       "      <td>4</td>\n",
       "    </tr>\n",
       "    <tr>\n",
       "      <th>2556309</th>\n",
       "      <td>candies either broken melted</td>\n",
       "      <td>1</td>\n",
       "      <td>1</td>\n",
       "    </tr>\n",
       "    <tr>\n",
       "      <th>1787409</th>\n",
       "      <td>ez-sweetz like spenda without extra ingredient...</td>\n",
       "      <td>5</td>\n",
       "      <td>4</td>\n",
       "    </tr>\n",
       "  </tbody>\n",
       "</table>\n",
       "</div>"
      ],
      "text/plain": [
       "                                                reviewText  overall  \\\n",
       "4041347  love poster ! 'm pleased quality . came large ...        5   \n",
       "155575   really great taste , lasts forever ! even tast...        5   \n",
       "2858001  truly enjoyed coffee coffee around globe good ...        5   \n",
       "2556309                       candies either broken melted        1   \n",
       "1787409  ez-sweetz like spenda without extra ingredient...        5   \n",
       "\n",
       "         countSentences  \n",
       "4041347               6  \n",
       "155575                2  \n",
       "2858001               4  \n",
       "2556309               1  \n",
       "1787409               4  "
      ]
     },
     "execution_count": 341,
     "metadata": {},
     "output_type": "execute_result"
    }
   ],
   "source": [
    "data1 = dfdataTrainExp.copy()\n",
    "data1['reviewText'] = data1.reviewText.apply(lambda x: pipeProcess_1(x))\n",
    "data1.head()"
   ]
  },
  {
   "cell_type": "code",
   "execution_count": 342,
   "id": "a01b6a3b",
   "metadata": {},
   "outputs": [],
   "source": [
    "xArr, yArr = extractFeaturesAndTarget_1(data1)\n",
    "result = loop_testing(nb_model, 10, xArr, yArr)"
   ]
  },
  {
   "cell_type": "code",
   "execution_count": 343,
   "id": "b11e7672",
   "metadata": {},
   "outputs": [],
   "source": [
    "train_res, test_res = [], []\n",
    "for res in result:\n",
    "    train_res += [res[0]]\n",
    "    test_res += [res[1]]"
   ]
  },
  {
   "cell_type": "code",
   "execution_count": 344,
   "id": "cdca2da7",
   "metadata": {},
   "outputs": [
    {
     "data": {
      "image/png": "[encoded data removed]",
      "text/plain": [
       "<Figure size 1080x576 with 1 Axes>"
      ]
     },
     "metadata": {
      "needs_background": "light"
     },
     "output_type": "display_data"
    }
   ],
   "source": [
    "fig, axe = plt.subplots(figsize=(15, 8), nrows=1, ncols=1)\n",
    "sns.lineplot(data=train_res, ax=axe, label='train-result')\n",
    "sns.lineplot(data=test_res, ax=axe, label='test-result')\n",
    "axe.set_xlim([0, 10])\n",
    "axe.set_ylim([0, 3])\n",
    "axe.set_title(\"lowest RMSE: {}\".format(min(train_res)))\n",
    "plt.show();"
   ]
  },
  {
   "cell_type": "code",
   "execution_count": 384,
   "id": "ab2e3c2e",
   "metadata": {},
   "outputs": [],
   "source": [
    "def pipeProcess_1(text: str) -> str:\n",
    "    text = pipe_cleaningText(text)\n",
    "    text = pipe_removeStopWords(text)\n",
    "    text = pipe_lemmatization(text)\n",
    "    text = pipe_normalized(text, 5)\n",
    "    return text\n",
    "\n",
    "def extractFeaturesAndTarget_1(data: pd.DataFrame) -> (np.array, np.array):\n",
    "    return feature_tfidfUniBi(data['reviewText']), data['overall'].to_numpy()"
   ]
  },
  {
   "cell_type": "code",
   "execution_count": 346,
   "id": "cad69d6f",
   "metadata": {},
   "outputs": [
    {
     "ename": "KeyboardInterrupt",
     "evalue": "",
     "output_type": "error",
     "traceback": [
      "\u001b[1;31m---------------------------------------------------------------------------\u001b[0m",
      "\u001b[1;31mFileNotFoundError\u001b[0m                         Traceback (most recent call last)",
      "File \u001b[1;32m~\\AppData\\Local\\Programs\\Python\\Python310\\lib\\genericpath.py:42\u001b[0m, in \u001b[0;36misdir\u001b[1;34m(s)\u001b[0m\n\u001b[0;32m     41\u001b[0m \u001b[39mtry\u001b[39;00m:\n\u001b[1;32m---> 42\u001b[0m     st \u001b[39m=\u001b[39m os\u001b[39m.\u001b[39;49mstat(s)\n\u001b[0;32m     43\u001b[0m \u001b[39mexcept\u001b[39;00m (\u001b[39mOSError\u001b[39;00m, \u001b[39mValueError\u001b[39;00m):\n",
      "\u001b[1;31mFileNotFoundError\u001b[0m: [WinError 2] The system cannot find the file specified: 'C:\\\\Users\\\\hariz/nltk_data'",
      "\nDuring handling of the above exception, another exception occurred:\n",
      "\u001b[1;31mKeyboardInterrupt\u001b[0m                         Traceback (most recent call last)",
      "\u001b[1;32md:\\Dropbox\\Academics\\Master (Msc)\\MSC AI\\Sem 2\\Machine Learning\\Assignment\\Mini Project\\SubjectSentimentModelling\\basic_exploring\\exploring1.ipynb Cell 74'\u001b[0m in \u001b[0;36m<cell line: 2>\u001b[1;34m()\u001b[0m\n\u001b[0;32m      <a href='vscode-notebook-cell:/d%3A/Dropbox/Academics/Master%20%28Msc%29/MSC%20AI/Sem%202/Machine%20Learning/Assignment/Mini%20Project/SubjectSentimentModelling/basic_exploring/exploring1.ipynb#ch0000127?line=0'>1</a>\u001b[0m data1 \u001b[39m=\u001b[39m dfdataTrainExp\u001b[39m.\u001b[39mcopy()\n\u001b[1;32m----> <a href='vscode-notebook-cell:/d%3A/Dropbox/Academics/Master%20%28Msc%29/MSC%20AI/Sem%202/Machine%20Learning/Assignment/Mini%20Project/SubjectSentimentModelling/basic_exploring/exploring1.ipynb#ch0000127?line=1'>2</a>\u001b[0m data1[\u001b[39m'\u001b[39m\u001b[39mreviewText\u001b[39m\u001b[39m'\u001b[39m] \u001b[39m=\u001b[39m data1\u001b[39m.\u001b[39;49mreviewText\u001b[39m.\u001b[39;49mapply(\u001b[39mlambda\u001b[39;49;00m x: pipeProcess_1(x))\n\u001b[0;32m      <a href='vscode-notebook-cell:/d%3A/Dropbox/Academics/Master%20%28Msc%29/MSC%20AI/Sem%202/Machine%20Learning/Assignment/Mini%20Project/SubjectSentimentModelling/basic_exploring/exploring1.ipynb#ch0000127?line=2'>3</a>\u001b[0m data1\u001b[39m.\u001b[39mhead()\n",
      "File \u001b[1;32md:\\Dropbox\\Academics\\Master (Msc)\\MSC AI\\Sem 2\\Machine Learning\\Assignment\\Mini Project\\SubjectSentimentModelling\\env\\lib\\site-packages\\pandas\\core\\series.py:4357\u001b[0m, in \u001b[0;36mSeries.apply\u001b[1;34m(self, func, convert_dtype, args, **kwargs)\u001b[0m\n\u001b[0;32m   4247\u001b[0m \u001b[39mdef\u001b[39;00m \u001b[39mapply\u001b[39m(\n\u001b[0;32m   4248\u001b[0m     \u001b[39mself\u001b[39m,\n\u001b[0;32m   4249\u001b[0m     func: AggFuncType,\n\u001b[1;32m   (...)\u001b[0m\n\u001b[0;32m   4252\u001b[0m     \u001b[39m*\u001b[39m\u001b[39m*\u001b[39mkwargs,\n\u001b[0;32m   4253\u001b[0m ) \u001b[39m-\u001b[39m\u001b[39m>\u001b[39m FrameOrSeriesUnion:\n\u001b[0;32m   4254\u001b[0m     \u001b[39m\"\"\"\u001b[39;00m\n\u001b[0;32m   4255\u001b[0m \u001b[39m    Invoke function on values of Series.\u001b[39;00m\n\u001b[0;32m   4256\u001b[0m \n\u001b[1;32m   (...)\u001b[0m\n\u001b[0;32m   4355\u001b[0m \u001b[39m    dtype: float64\u001b[39;00m\n\u001b[0;32m   4356\u001b[0m \u001b[39m    \"\"\"\u001b[39;00m\n\u001b[1;32m-> 4357\u001b[0m     \u001b[39mreturn\u001b[39;00m SeriesApply(\u001b[39mself\u001b[39;49m, func, convert_dtype, args, kwargs)\u001b[39m.\u001b[39;49mapply()\n",
      "File \u001b[1;32md:\\Dropbox\\Academics\\Master (Msc)\\MSC AI\\Sem 2\\Machine Learning\\Assignment\\Mini Project\\SubjectSentimentModelling\\env\\lib\\site-packages\\pandas\\core\\apply.py:1043\u001b[0m, in \u001b[0;36mSeriesApply.apply\u001b[1;34m(self)\u001b[0m\n\u001b[0;32m   1039\u001b[0m \u001b[39mif\u001b[39;00m \u001b[39misinstance\u001b[39m(\u001b[39mself\u001b[39m\u001b[39m.\u001b[39mf, \u001b[39mstr\u001b[39m):\n\u001b[0;32m   1040\u001b[0m     \u001b[39m# if we are a string, try to dispatch\u001b[39;00m\n\u001b[0;32m   1041\u001b[0m     \u001b[39mreturn\u001b[39;00m \u001b[39mself\u001b[39m\u001b[39m.\u001b[39mapply_str()\n\u001b[1;32m-> 1043\u001b[0m \u001b[39mreturn\u001b[39;00m \u001b[39mself\u001b[39;49m\u001b[39m.\u001b[39;49mapply_standard()\n",
      "File \u001b[1;32md:\\Dropbox\\Academics\\Master (Msc)\\MSC AI\\Sem 2\\Machine Learning\\Assignment\\Mini Project\\SubjectSentimentModelling\\env\\lib\\site-packages\\pandas\\core\\apply.py:1098\u001b[0m, in \u001b[0;36mSeriesApply.apply_standard\u001b[1;34m(self)\u001b[0m\n\u001b[0;32m   1092\u001b[0m         values \u001b[39m=\u001b[39m obj\u001b[39m.\u001b[39mastype(\u001b[39mobject\u001b[39m)\u001b[39m.\u001b[39m_values\n\u001b[0;32m   1093\u001b[0m         \u001b[39m# error: Argument 2 to \"map_infer\" has incompatible type\u001b[39;00m\n\u001b[0;32m   1094\u001b[0m         \u001b[39m# \"Union[Callable[..., Any], str, List[Union[Callable[..., Any], str]],\u001b[39;00m\n\u001b[0;32m   1095\u001b[0m         \u001b[39m# Dict[Hashable, Union[Union[Callable[..., Any], str],\u001b[39;00m\n\u001b[0;32m   1096\u001b[0m         \u001b[39m# List[Union[Callable[..., Any], str]]]]]\"; expected\u001b[39;00m\n\u001b[0;32m   1097\u001b[0m         \u001b[39m# \"Callable[[Any], Any]\"\u001b[39;00m\n\u001b[1;32m-> 1098\u001b[0m         mapped \u001b[39m=\u001b[39m lib\u001b[39m.\u001b[39;49mmap_infer(\n\u001b[0;32m   1099\u001b[0m             values,\n\u001b[0;32m   1100\u001b[0m             f,  \u001b[39m# type: ignore[arg-type]\u001b[39;49;00m\n\u001b[0;32m   1101\u001b[0m             convert\u001b[39m=\u001b[39;49m\u001b[39mself\u001b[39;49m\u001b[39m.\u001b[39;49mconvert_dtype,\n\u001b[0;32m   1102\u001b[0m         )\n\u001b[0;32m   1104\u001b[0m \u001b[39mif\u001b[39;00m \u001b[39mlen\u001b[39m(mapped) \u001b[39mand\u001b[39;00m \u001b[39misinstance\u001b[39m(mapped[\u001b[39m0\u001b[39m], ABCSeries):\n\u001b[0;32m   1105\u001b[0m     \u001b[39m# GH 25959 use pd.array instead of tolist\u001b[39;00m\n\u001b[0;32m   1106\u001b[0m     \u001b[39m# so extension arrays can be used\u001b[39;00m\n\u001b[0;32m   1107\u001b[0m     \u001b[39mreturn\u001b[39;00m obj\u001b[39m.\u001b[39m_constructor_expanddim(pd_array(mapped), index\u001b[39m=\u001b[39mobj\u001b[39m.\u001b[39mindex)\n",
      "File \u001b[1;32md:\\Dropbox\\Academics\\Master (Msc)\\MSC AI\\Sem 2\\Machine Learning\\Assignment\\Mini Project\\SubjectSentimentModelling\\env\\lib\\site-packages\\pandas\\_libs\\lib.pyx:2859\u001b[0m, in \u001b[0;36mpandas._libs.lib.map_infer\u001b[1;34m()\u001b[0m\n",
      "\u001b[1;32md:\\Dropbox\\Academics\\Master (Msc)\\MSC AI\\Sem 2\\Machine Learning\\Assignment\\Mini Project\\SubjectSentimentModelling\\basic_exploring\\exploring1.ipynb Cell 74'\u001b[0m in \u001b[0;36m<lambda>\u001b[1;34m(x)\u001b[0m\n\u001b[0;32m      <a href='vscode-notebook-cell:/d%3A/Dropbox/Academics/Master%20%28Msc%29/MSC%20AI/Sem%202/Machine%20Learning/Assignment/Mini%20Project/SubjectSentimentModelling/basic_exploring/exploring1.ipynb#ch0000127?line=0'>1</a>\u001b[0m data1 \u001b[39m=\u001b[39m dfdataTrainExp\u001b[39m.\u001b[39mcopy()\n\u001b[1;32m----> <a href='vscode-notebook-cell:/d%3A/Dropbox/Academics/Master%20%28Msc%29/MSC%20AI/Sem%202/Machine%20Learning/Assignment/Mini%20Project/SubjectSentimentModelling/basic_exploring/exploring1.ipynb#ch0000127?line=1'>2</a>\u001b[0m data1[\u001b[39m'\u001b[39m\u001b[39mreviewText\u001b[39m\u001b[39m'\u001b[39m] \u001b[39m=\u001b[39m data1\u001b[39m.\u001b[39mreviewText\u001b[39m.\u001b[39mapply(\u001b[39mlambda\u001b[39;00m x: pipeProcess_1(x))\n\u001b[0;32m      <a href='vscode-notebook-cell:/d%3A/Dropbox/Academics/Master%20%28Msc%29/MSC%20AI/Sem%202/Machine%20Learning/Assignment/Mini%20Project/SubjectSentimentModelling/basic_exploring/exploring1.ipynb#ch0000127?line=2'>3</a>\u001b[0m data1\u001b[39m.\u001b[39mhead()\n",
      "\u001b[1;32md:\\Dropbox\\Academics\\Master (Msc)\\MSC AI\\Sem 2\\Machine Learning\\Assignment\\Mini Project\\SubjectSentimentModelling\\basic_exploring\\exploring1.ipynb Cell 73'\u001b[0m in \u001b[0;36mpipeProcess_1\u001b[1;34m(text)\u001b[0m\n\u001b[0;32m      <a href='vscode-notebook-cell:/d%3A/Dropbox/Academics/Master%20%28Msc%29/MSC%20AI/Sem%202/Machine%20Learning/Assignment/Mini%20Project/SubjectSentimentModelling/basic_exploring/exploring1.ipynb#ch0000126?line=1'>2</a>\u001b[0m text \u001b[39m=\u001b[39m pipe_cleaningText(text)\n\u001b[0;32m      <a href='vscode-notebook-cell:/d%3A/Dropbox/Academics/Master%20%28Msc%29/MSC%20AI/Sem%202/Machine%20Learning/Assignment/Mini%20Project/SubjectSentimentModelling/basic_exploring/exploring1.ipynb#ch0000126?line=2'>3</a>\u001b[0m text \u001b[39m=\u001b[39m pipe_lemmatization(text)\n\u001b[1;32m----> <a href='vscode-notebook-cell:/d%3A/Dropbox/Academics/Master%20%28Msc%29/MSC%20AI/Sem%202/Machine%20Learning/Assignment/Mini%20Project/SubjectSentimentModelling/basic_exploring/exploring1.ipynb#ch0000126?line=3'>4</a>\u001b[0m text \u001b[39m=\u001b[39m pipe_addPos(text)\n\u001b[0;32m      <a href='vscode-notebook-cell:/d%3A/Dropbox/Academics/Master%20%28Msc%29/MSC%20AI/Sem%202/Machine%20Learning/Assignment/Mini%20Project/SubjectSentimentModelling/basic_exploring/exploring1.ipynb#ch0000126?line=4'>5</a>\u001b[0m text \u001b[39m=\u001b[39m pipe_normalized(text, \u001b[39m5\u001b[39m)\n\u001b[0;32m      <a href='vscode-notebook-cell:/d%3A/Dropbox/Academics/Master%20%28Msc%29/MSC%20AI/Sem%202/Machine%20Learning/Assignment/Mini%20Project/SubjectSentimentModelling/basic_exploring/exploring1.ipynb#ch0000126?line=5'>6</a>\u001b[0m \u001b[39mreturn\u001b[39;00m text\n",
      "\u001b[1;32md:\\Dropbox\\Academics\\Master (Msc)\\MSC AI\\Sem 2\\Machine Learning\\Assignment\\Mini Project\\SubjectSentimentModelling\\basic_exploring\\exploring1.ipynb Cell 52'\u001b[0m in \u001b[0;36mpipe_addPos\u001b[1;34m(text)\u001b[0m\n\u001b[0;32m     <a href='vscode-notebook-cell:/d%3A/Dropbox/Academics/Master%20%28Msc%29/MSC%20AI/Sem%202/Machine%20Learning/Assignment/Mini%20Project/SubjectSentimentModelling/basic_exploring/exploring1.ipynb#ch0000046?line=13'>14</a>\u001b[0m \u001b[39mdef\u001b[39;00m \u001b[39mpipe_addPos\u001b[39m(text: \u001b[39mstr\u001b[39m) \u001b[39m-\u001b[39m\u001b[39m>\u001b[39m \u001b[39mstr\u001b[39m:\n\u001b[0;32m     <a href='vscode-notebook-cell:/d%3A/Dropbox/Academics/Master%20%28Msc%29/MSC%20AI/Sem%202/Machine%20Learning/Assignment/Mini%20Project/SubjectSentimentModelling/basic_exploring/exploring1.ipynb#ch0000046?line=14'>15</a>\u001b[0m     txt \u001b[39m=\u001b[39m \u001b[39m\"\u001b[39m\u001b[39m\"\u001b[39m\n\u001b[1;32m---> <a href='vscode-notebook-cell:/d%3A/Dropbox/Academics/Master%20%28Msc%29/MSC%20AI/Sem%202/Machine%20Learning/Assignment/Mini%20Project/SubjectSentimentModelling/basic_exploring/exploring1.ipynb#ch0000046?line=15'>16</a>\u001b[0m     \u001b[39mfor\u001b[39;00m w \u001b[39min\u001b[39;00m pos_tag(word_tokenize(text)):\n\u001b[0;32m     <a href='vscode-notebook-cell:/d%3A/Dropbox/Academics/Master%20%28Msc%29/MSC%20AI/Sem%202/Machine%20Learning/Assignment/Mini%20Project/SubjectSentimentModelling/basic_exploring/exploring1.ipynb#ch0000046?line=16'>17</a>\u001b[0m         txt \u001b[39m+\u001b[39m\u001b[39m=\u001b[39m \u001b[39m'\u001b[39m\u001b[39m__\u001b[39m\u001b[39m'\u001b[39m\u001b[39m.\u001b[39mjoin(w) \u001b[39m+\u001b[39m \u001b[39m'\u001b[39m\u001b[39m \u001b[39m\u001b[39m'\u001b[39m\n\u001b[0;32m     <a href='vscode-notebook-cell:/d%3A/Dropbox/Academics/Master%20%28Msc%29/MSC%20AI/Sem%202/Machine%20Learning/Assignment/Mini%20Project/SubjectSentimentModelling/basic_exploring/exploring1.ipynb#ch0000046?line=17'>18</a>\u001b[0m     \u001b[39mreturn\u001b[39;00m txt\u001b[39m.\u001b[39mstrip()\n",
      "File \u001b[1;32md:\\Dropbox\\Academics\\Master (Msc)\\MSC AI\\Sem 2\\Machine Learning\\Assignment\\Mini Project\\SubjectSentimentModelling\\env\\lib\\site-packages\\nltk\\tag\\__init__.py:160\u001b[0m, in \u001b[0;36mpos_tag\u001b[1;34m(tokens, tagset, lang)\u001b[0m\n\u001b[0;32m    135\u001b[0m \u001b[39mdef\u001b[39;00m \u001b[39mpos_tag\u001b[39m(tokens, tagset\u001b[39m=\u001b[39m\u001b[39mNone\u001b[39;00m, lang\u001b[39m=\u001b[39m\u001b[39m\"\u001b[39m\u001b[39meng\u001b[39m\u001b[39m\"\u001b[39m):\n\u001b[0;32m    136\u001b[0m     \u001b[39m\"\"\"\u001b[39;00m\n\u001b[0;32m    137\u001b[0m \u001b[39m    Use NLTK's currently recommended part of speech tagger to\u001b[39;00m\n\u001b[0;32m    138\u001b[0m \u001b[39m    tag the given list of tokens.\u001b[39;00m\n\u001b[1;32m   (...)\u001b[0m\n\u001b[0;32m    158\u001b[0m \u001b[39m    :rtype: list(tuple(str, str))\u001b[39;00m\n\u001b[0;32m    159\u001b[0m \u001b[39m    \"\"\"\u001b[39;00m\n\u001b[1;32m--> 160\u001b[0m     tagger \u001b[39m=\u001b[39m _get_tagger(lang)\n\u001b[0;32m    161\u001b[0m     \u001b[39mreturn\u001b[39;00m _pos_tag(tokens, tagset, tagger, lang)\n",
      "File \u001b[1;32md:\\Dropbox\\Academics\\Master (Msc)\\MSC AI\\Sem 2\\Machine Learning\\Assignment\\Mini Project\\SubjectSentimentModelling\\env\\lib\\site-packages\\nltk\\tag\\__init__.py:106\u001b[0m, in \u001b[0;36m_get_tagger\u001b[1;34m(lang)\u001b[0m\n\u001b[0;32m    104\u001b[0m     tagger\u001b[39m.\u001b[39mload(ap_russian_model_loc)\n\u001b[0;32m    105\u001b[0m \u001b[39melse\u001b[39;00m:\n\u001b[1;32m--> 106\u001b[0m     tagger \u001b[39m=\u001b[39m PerceptronTagger()\n\u001b[0;32m    107\u001b[0m \u001b[39mreturn\u001b[39;00m tagger\n",
      "File \u001b[1;32md:\\Dropbox\\Academics\\Master (Msc)\\MSC AI\\Sem 2\\Machine Learning\\Assignment\\Mini Project\\SubjectSentimentModelling\\env\\lib\\site-packages\\nltk\\tag\\perceptron.py:168\u001b[0m, in \u001b[0;36mPerceptronTagger.__init__\u001b[1;34m(self, load)\u001b[0m\n\u001b[0;32m    165\u001b[0m \u001b[39mself\u001b[39m\u001b[39m.\u001b[39mclasses \u001b[39m=\u001b[39m \u001b[39mset\u001b[39m()\n\u001b[0;32m    166\u001b[0m \u001b[39mif\u001b[39;00m load:\n\u001b[0;32m    167\u001b[0m     AP_MODEL_LOC \u001b[39m=\u001b[39m \u001b[39m\"\u001b[39m\u001b[39mfile:\u001b[39m\u001b[39m\"\u001b[39m \u001b[39m+\u001b[39m \u001b[39mstr\u001b[39m(\n\u001b[1;32m--> 168\u001b[0m         find(\u001b[39m\"\u001b[39;49m\u001b[39mtaggers/averaged_perceptron_tagger/\u001b[39;49m\u001b[39m\"\u001b[39;49m \u001b[39m+\u001b[39;49m PICKLE)\n\u001b[0;32m    169\u001b[0m     )\n\u001b[0;32m    170\u001b[0m     \u001b[39mself\u001b[39m\u001b[39m.\u001b[39mload(AP_MODEL_LOC)\n",
      "File \u001b[1;32md:\\Dropbox\\Academics\\Master (Msc)\\MSC AI\\Sem 2\\Machine Learning\\Assignment\\Mini Project\\SubjectSentimentModelling\\env\\lib\\site-packages\\nltk\\data.py:532\u001b[0m, in \u001b[0;36mfind\u001b[1;34m(resource_name, paths)\u001b[0m\n\u001b[0;32m    529\u001b[0m         \u001b[39mcontinue\u001b[39;00m\n\u001b[0;32m    531\u001b[0m \u001b[39m# Is the path item a directory or is resource_name an absolute path?\u001b[39;00m\n\u001b[1;32m--> 532\u001b[0m \u001b[39melif\u001b[39;00m \u001b[39mnot\u001b[39;00m path_ \u001b[39mor\u001b[39;00m os\u001b[39m.\u001b[39;49mpath\u001b[39m.\u001b[39;49misdir(path_):\n\u001b[0;32m    533\u001b[0m     \u001b[39mif\u001b[39;00m zipfile \u001b[39mis\u001b[39;00m \u001b[39mNone\u001b[39;00m:\n\u001b[0;32m    534\u001b[0m         p \u001b[39m=\u001b[39m os\u001b[39m.\u001b[39mpath\u001b[39m.\u001b[39mjoin(path_, url2pathname(resource_name))\n",
      "File \u001b[1;32m~\\AppData\\Local\\Programs\\Python\\Python310\\lib\\genericpath.py:42\u001b[0m, in \u001b[0;36misdir\u001b[1;34m(s)\u001b[0m\n\u001b[0;32m     40\u001b[0m \u001b[39m\"\"\"Return true if the pathname refers to an existing directory.\"\"\"\u001b[39;00m\n\u001b[0;32m     41\u001b[0m \u001b[39mtry\u001b[39;00m:\n\u001b[1;32m---> 42\u001b[0m     st \u001b[39m=\u001b[39m os\u001b[39m.\u001b[39;49mstat(s)\n\u001b[0;32m     43\u001b[0m \u001b[39mexcept\u001b[39;00m (\u001b[39mOSError\u001b[39;00m, \u001b[39mValueError\u001b[39;00m):\n\u001b[0;32m     44\u001b[0m     \u001b[39mreturn\u001b[39;00m \u001b[39mFalse\u001b[39;00m\n",
      "\u001b[1;31mKeyboardInterrupt\u001b[0m: "
     ]
    }
   ],
   "source": [
    "data1 = dfdataTrainExp.copy()\n",
    "data1['reviewText'] = data1.reviewText.apply(lambda x: pipeProcess_1(x))\n",
    "data1.head()"
   ]
  },
  {
   "cell_type": "code",
   "execution_count": null,
   "id": "a01b6a3b",
   "metadata": {},
   "outputs": [],
   "source": [
    "xArr, yArr = extractFeaturesAndTarget_1(data1)\n",
    "result = loop_testing(nb_model, 10, xArr, yArr)"
   ]
  },
  {
   "cell_type": "code",
   "execution_count": null,
   "id": "b11e7672",
   "metadata": {},
   "outputs": [],
   "source": [
    "train_res, test_res = [], []\n",
    "for res in result:\n",
    "    train_res += [res[0]]\n",
    "    test_res += [res[1]]"
   ]
  },
  {
   "cell_type": "code",
   "execution_count": null,
   "id": "cdca2da7",
   "metadata": {},
   "outputs": [
    {
     "data": {
      "image/png": "[encoded data removed]",
      "text/plain": [
       "<Figure size 1080x576 with 1 Axes>"
      ]
     },
     "metadata": {
      "needs_background": "light"
     },
     "output_type": "display_data"
    }
   ],
   "source": [
    "fig, axe = plt.subplots(figsize=(15, 8), nrows=1, ncols=1)\n",
    "sns.lineplot(data=train_res, ax=axe, label='train-result')\n",
    "sns.lineplot(data=test_res, ax=axe, label='test-result')\n",
    "axe.set_xlim([0, 10])\n",
    "axe.set_ylim([0, 3])\n",
    "axe.set_title(\"lowest RMSE: {}\".format(min(train_res)))\n",
    "plt.show();"
   ]
  },
  {
   "cell_type": "markdown",
   "id": "5f368b9a",
   "metadata": {},
   "source": []
  },
  {
   "cell_type": "code",
   "execution_count": 40,
   "id": "ab2e3c2e",
   "metadata": {},
   "outputs": [],
   "source": [
    "def pipeProcess_1(text: str) -> str:\n",
    "    text = pipe_cleaningText(text)\n",
    "    text = pipe_lemmatization(text)\n",
    "    text = pipe_addPos(text)\n",
    "    text = pipe_normalized(text, 5)\n",
    "    return text\n",
    "\n",
    "def extractFeaturesAndTarget_1(data: pd.DataFrame) -> (np.array, np.array):\n",
    "    return feature_tfidf(data['reviewText']), data['overall'].to_numpy()"
   ]
  },
  {
   "cell_type": "code",
   "execution_count": 348,
   "id": "cad69d6f",
   "metadata": {},
   "outputs": [
    {
     "data": {
      "text/html": [
       "<div>\n",
       "<style scoped>\n",
       "    .dataframe tbody tr th:only-of-type {\n",
       "        vertical-align: middle;\n",
       "    }\n",
       "\n",
       "    .dataframe tbody tr th {\n",
       "        vertical-align: top;\n",
       "    }\n",
       "\n",
       "    .dataframe thead th {\n",
       "        text-align: right;\n",
       "    }\n",
       "</style>\n",
       "<table border=\"1\" class=\"dataframe\">\n",
       "  <thead>\n",
       "    <tr style=\"text-align: right;\">\n",
       "      <th></th>\n",
       "      <th>reviewText</th>\n",
       "      <th>overall</th>\n",
       "      <th>countSentences</th>\n",
       "    </tr>\n",
       "  </thead>\n",
       "  <tbody>\n",
       "    <tr>\n",
       "      <th>4041347</th>\n",
       "      <td>i__RB__1 love__VBP__1 this__DT__1 poster__NN__...</td>\n",
       "      <td>5</td>\n",
       "      <td>6</td>\n",
       "    </tr>\n",
       "    <tr>\n",
       "      <th>155575</th>\n",
       "      <td>really__RB__1 great__JJ__1 taste__NN__1 ,__1 _...</td>\n",
       "      <td>5</td>\n",
       "      <td>2</td>\n",
       "    </tr>\n",
       "    <tr>\n",
       "      <th>2858001</th>\n",
       "      <td>i__NN__1 truly__RB__1 enjoyed__VBD__1 this__DT...</td>\n",
       "      <td>5</td>\n",
       "      <td>4</td>\n",
       "    </tr>\n",
       "    <tr>\n",
       "      <th>2556309</th>\n",
       "      <td>these__DT__1 candy__NN__1 were__VBD__2 all__DT...</td>\n",
       "      <td>1</td>\n",
       "      <td>1</td>\n",
       "    </tr>\n",
       "    <tr>\n",
       "      <th>1787409</th>\n",
       "      <td>ez-sweetz__NN__1 is__VBZ__1 like__IN__1 spenda...</td>\n",
       "      <td>5</td>\n",
       "      <td>4</td>\n",
       "    </tr>\n",
       "  </tbody>\n",
       "</table>\n",
       "</div>"
      ],
      "text/plain": [
       "                                                reviewText  overall  \\\n",
       "4041347  i__RB__1 love__VBP__1 this__DT__1 poster__NN__...        5   \n",
       "155575   really__RB__1 great__JJ__1 taste__NN__1 ,__1 _...        5   \n",
       "2858001  i__NN__1 truly__RB__1 enjoyed__VBD__1 this__DT...        5   \n",
       "2556309  these__DT__1 candy__NN__1 were__VBD__2 all__DT...        1   \n",
       "1787409  ez-sweetz__NN__1 is__VBZ__1 like__IN__1 spenda...        5   \n",
       "\n",
       "         countSentences  \n",
       "4041347               6  \n",
       "155575                2  \n",
       "2858001               4  \n",
       "2556309               1  \n",
       "1787409               4  "
      ]
     },
     "execution_count": 348,
     "metadata": {},
     "output_type": "execute_result"
    }
   ],
   "source": [
    "data1 = dfdataTrainExp.copy()\n",
    "data1['reviewText'] = data1.reviewText.apply(lambda x: pipeProcess_1(x))\n",
    "data1.head()"
   ]
  },
  {
   "cell_type": "code",
   "execution_count": 391,
   "id": "a01b6a3b",
   "metadata": {},
   "outputs": [],
   "source": [
    "xArr, yArr = extractFeaturesAndTarget_1(data1)\n",
    "result = loop_testing(nb_model, 10, xArr, yArr)"
   ]
  },
  {
   "cell_type": "code",
   "execution_count": 392,
   "id": "b11e7672",
   "metadata": {},
   "outputs": [],
   "source": [
    "train_res, test_res = [], []\n",
    "for res in result:\n",
    "    train_res += [res[0]]\n",
    "    test_res += [res[1]]"
   ]
  },
  {
   "cell_type": "code",
   "execution_count": 393,
   "id": "cdca2da7",
   "metadata": {},
   "outputs": [
    {
     "data": {
      "image/png": "[encoded data removed]",
      "text/plain": [
       "<Figure size 1080x576 with 1 Axes>"
      ]
     },
     "metadata": {
      "needs_background": "light"
     },
     "output_type": "display_data"
    }
   ],
   "source": [
    "fig, axe = plt.subplots(figsize=(15, 8), nrows=1, ncols=1)\n",
    "sns.lineplot(data=train_res, ax=axe, label='train-result')\n",
    "sns.lineplot(data=test_res, ax=axe, label='test-result')\n",
    "axe.set_xlim([0, 10])\n",
    "axe.set_ylim([0, 3])\n",
    "axe.set_title(\"lowest RMSE: {}\".format(min(train_res)))\n",
    "plt.show();"
   ]
  },
  {
   "cell_type": "code",
   "execution_count": 239,
   "id": "3a343adf",
   "metadata": {},
   "outputs": [
    {
     "data": {
      "text/plain": [
       "overall\n",
       "1     38506\n",
       "2     20852\n",
       "3     30603\n",
       "4     52554\n",
       "5    339530\n",
       "Name: overall, dtype: int64"
      ]
     },
     "execution_count": 239,
     "metadata": {},
     "output_type": "execute_result"
    }
   ],
   "source": [
    "t = data1.groupby(by=['overall'])['overall'].count()\n",
    "t"
   ]
  },
  {
   "cell_type": "code",
   "execution_count": 288,
   "id": "4beae1fb",
   "metadata": {},
   "outputs": [
    {
     "data": {
      "text/html": [
       "<div>\n",
       "<style scoped>\n",
       "    .dataframe tbody tr th:only-of-type {\n",
       "        vertical-align: middle;\n",
       "    }\n",
       "\n",
       "    .dataframe tbody tr th {\n",
       "        vertical-align: top;\n",
       "    }\n",
       "\n",
       "    .dataframe thead th {\n",
       "        text-align: right;\n",
       "    }\n",
       "</style>\n",
       "<table border=\"1\" class=\"dataframe\">\n",
       "  <thead>\n",
       "    <tr style=\"text-align: right;\">\n",
       "      <th></th>\n",
       "      <th>reviewText</th>\n",
       "      <th>overall</th>\n",
       "    </tr>\n",
       "  </thead>\n",
       "  <tbody>\n",
       "    <tr>\n",
       "      <th>4558637</th>\n",
       "      <td>wa__VB__1 too__RB__1 small__JJ__1 and__CC__1 d...</td>\n",
       "      <td>3</td>\n",
       "    </tr>\n",
       "    <tr>\n",
       "      <th>3950451</th>\n",
       "      <td>lot__NN__1 of__IN__1 strange__JJ__1 ingredient...</td>\n",
       "      <td>3</td>\n",
       "    </tr>\n",
       "    <tr>\n",
       "      <th>4429932</th>\n",
       "      <td>these__DT__1 were__VBD__1 good__JJ__1 ,__1 ___...</td>\n",
       "      <td>3</td>\n",
       "    </tr>\n",
       "    <tr>\n",
       "      <th>3926184</th>\n",
       "      <td>not__RB__1 what__WP__1 i__NN__1 wanted__VBD__1...</td>\n",
       "      <td>3</td>\n",
       "    </tr>\n",
       "    <tr>\n",
       "      <th>1120971</th>\n",
       "      <td>i__NN__1 love__VBP__1 annie__NN__1 's__POS__1 ...</td>\n",
       "      <td>3</td>\n",
       "    </tr>\n",
       "    <tr>\n",
       "      <th>...</th>\n",
       "      <td>...</td>\n",
       "      <td>...</td>\n",
       "    </tr>\n",
       "    <tr>\n",
       "      <th>3219091</th>\n",
       "      <td>very__RB__1 expensive__JJ__1 but__CC__2 cute__...</td>\n",
       "      <td>3</td>\n",
       "    </tr>\n",
       "    <tr>\n",
       "      <th>3334119</th>\n",
       "      <td>for__IN__1 what__WP__1 ever__RB__1 reason__NN_...</td>\n",
       "      <td>3</td>\n",
       "    </tr>\n",
       "    <tr>\n",
       "      <th>3572817</th>\n",
       "      <td>be__VB__1 careful__JJ__1 to__TO__1 hold__VB__1...</td>\n",
       "      <td>3</td>\n",
       "    </tr>\n",
       "    <tr>\n",
       "      <th>4897141</th>\n",
       "      <td>taste__NN__1 wa__NN__2 okay__NN__3 .____4 .__5</td>\n",
       "      <td>3</td>\n",
       "    </tr>\n",
       "    <tr>\n",
       "      <th>3560820</th>\n",
       "      <td>smelled__VBN__1 and__CC__1 tasted__VBN__1 ``__...</td>\n",
       "      <td>3</td>\n",
       "    </tr>\n",
       "  </tbody>\n",
       "</table>\n",
       "<p>30603 rows × 2 columns</p>\n",
       "</div>"
      ],
      "text/plain": [
       "                                                reviewText  overall\n",
       "4558637  wa__VB__1 too__RB__1 small__JJ__1 and__CC__1 d...        3\n",
       "3950451  lot__NN__1 of__IN__1 strange__JJ__1 ingredient...        3\n",
       "4429932  these__DT__1 were__VBD__1 good__JJ__1 ,__1 ___...        3\n",
       "3926184  not__RB__1 what__WP__1 i__NN__1 wanted__VBD__1...        3\n",
       "1120971  i__NN__1 love__VBP__1 annie__NN__1 's__POS__1 ...        3\n",
       "...                                                    ...      ...\n",
       "3219091  very__RB__1 expensive__JJ__1 but__CC__2 cute__...        3\n",
       "3334119  for__IN__1 what__WP__1 ever__RB__1 reason__NN_...        3\n",
       "3572817  be__VB__1 careful__JJ__1 to__TO__1 hold__VB__1...        3\n",
       "4897141     taste__NN__1 wa__NN__2 okay__NN__3 .____4 .__5        3\n",
       "3560820  smelled__VBN__1 and__CC__1 tasted__VBN__1 ``__...        3\n",
       "\n",
       "[30603 rows x 2 columns]"
      ]
     },
     "execution_count": 288,
     "metadata": {},
     "output_type": "execute_result"
    }
   ],
   "source": [
    "data1[data1.overall == 3]"
   ]
  },
  {
   "cell_type": "code",
   "execution_count": 335,
   "id": "290c70d7",
   "metadata": {},
   "outputs": [
    {
     "data": {
      "text/plain": [
       "overall\n",
       "1    1000000\n",
       "2    1000000\n",
       "3    1000000\n",
       "4    1000000\n",
       "5    1000000\n",
       "Name: overall, dtype: int64"
      ]
     },
     "execution_count": 335,
     "metadata": {},
     "output_type": "execute_result"
    }
   ],
   "source": [
    "balancing_upsampling(data1, 1000*1000).groupby(by=['overall'])['overall'].count()"
   ]
  },
  {
   "cell_type": "code",
   "execution_count": 328,
   "id": "bfbd8663",
   "metadata": {},
   "outputs": [
    {
     "data": {
      "text/plain": [
       "overall\n",
       "1    2344\n",
       "2    2344\n",
       "3    2344\n",
       "4    2344\n",
       "5    2344\n",
       "Name: overall, dtype: int64"
      ]
     },
     "execution_count": 328,
     "metadata": {},
     "output_type": "execute_result"
    }
   ],
   "source": [
    "balancing_downsampling(data1, 2344).groupby(by=['overall'])['overall'].count()"
   ]
  },
  {
   "cell_type": "code",
   "execution_count": 277,
   "id": "93a92580",
   "metadata": {},
   "outputs": [
    {
     "data": {
      "text/html": [
       "<div>\n",
       "<style scoped>\n",
       "    .dataframe tbody tr th:only-of-type {\n",
       "        vertical-align: middle;\n",
       "    }\n",
       "\n",
       "    .dataframe tbody tr th {\n",
       "        vertical-align: top;\n",
       "    }\n",
       "\n",
       "    .dataframe thead th {\n",
       "        text-align: right;\n",
       "    }\n",
       "</style>\n",
       "<table border=\"1\" class=\"dataframe\">\n",
       "  <thead>\n",
       "    <tr style=\"text-align: right;\">\n",
       "      <th></th>\n",
       "      <th>reviewText</th>\n",
       "      <th>overall</th>\n",
       "    </tr>\n",
       "  </thead>\n",
       "  <tbody>\n",
       "  </tbody>\n",
       "</table>\n",
       "</div>"
      ],
      "text/plain": [
       "Empty DataFrame\n",
       "Columns: [reviewText, overall]\n",
       "Index: []"
      ]
     },
     "execution_count": 277,
     "metadata": {},
     "output_type": "execute_result"
    }
   ],
   "source": [
    "data1[data1.overall == 90]"
   ]
  },
  {
   "cell_type": "code",
   "execution_count": 252,
   "id": "c87339fc",
   "metadata": {},
   "outputs": [
    {
     "data": {
      "text/html": [
       "<div>\n",
       "<style scoped>\n",
       "    .dataframe tbody tr th:only-of-type {\n",
       "        vertical-align: middle;\n",
       "    }\n",
       "\n",
       "    .dataframe tbody tr th {\n",
       "        vertical-align: top;\n",
       "    }\n",
       "\n",
       "    .dataframe thead th {\n",
       "        text-align: right;\n",
       "    }\n",
       "</style>\n",
       "<table border=\"1\" class=\"dataframe\">\n",
       "  <thead>\n",
       "    <tr style=\"text-align: right;\">\n",
       "      <th></th>\n",
       "      <th>reviewText</th>\n",
       "      <th>overall</th>\n",
       "    </tr>\n",
       "  </thead>\n",
       "  <tbody>\n",
       "    <tr>\n",
       "      <th>2754969</th>\n",
       "      <td>love__VB__1 this__DT__3 dressing/dip__NN__5</td>\n",
       "      <td>5</td>\n",
       "    </tr>\n",
       "    <tr>\n",
       "      <th>2754969</th>\n",
       "      <td>love__VB__1 this__DT__3 dressing/dip__NN__5</td>\n",
       "      <td>5</td>\n",
       "    </tr>\n",
       "    <tr>\n",
       "      <th>2754969</th>\n",
       "      <td>love__VB__1 this__DT__3 dressing/dip__NN__5</td>\n",
       "      <td>5</td>\n",
       "    </tr>\n",
       "    <tr>\n",
       "      <th>2754969</th>\n",
       "      <td>love__VB__1 this__DT__3 dressing/dip__NN__5</td>\n",
       "      <td>5</td>\n",
       "    </tr>\n",
       "  </tbody>\n",
       "</table>\n",
       "</div>"
      ],
      "text/plain": [
       "                                          reviewText  overall\n",
       "2754969  love__VB__1 this__DT__3 dressing/dip__NN__5        5\n",
       "2754969  love__VB__1 this__DT__3 dressing/dip__NN__5        5\n",
       "2754969  love__VB__1 this__DT__3 dressing/dip__NN__5        5\n",
       "2754969  love__VB__1 this__DT__3 dressing/dip__NN__5        5"
      ]
     },
     "execution_count": 252,
     "metadata": {},
     "output_type": "execute_result"
    }
   ],
   "source": [
    "data1.loc[[2754969, 2754969]].loc[[2754969, 2754969]]"
   ]
  },
  {
   "cell_type": "code",
   "execution_count": 248,
   "id": "0b3df4b2",
   "metadata": {},
   "outputs": [
    {
     "data": {
      "text/plain": [
       "array([2872586, 4622827, 2293935, 2349409,  248481, 3840020, 3551199,\n",
       "       4232511, 2573641, 4388326, 4888110, 3453607, 4520066, 2191293,\n",
       "       3345425, 1753528,  536052, 2438171, 5033256, 4117986, 3560444,\n",
       "       2877385, 1937759], dtype=int64)"
      ]
     },
     "execution_count": 248,
     "metadata": {},
     "output_type": "execute_result"
    }
   ],
   "source": [
    "np.random.choice(data1.index, 23, replace=True)"
   ]
  },
  {
   "cell_type": "code",
   "execution_count": 245,
   "id": "c3b49296",
   "metadata": {},
   "outputs": [
    {
     "data": {
      "text/plain": [
       "Int64Index([1, 2, 3, 4, 5], dtype='int64', name='overall')"
      ]
     },
     "execution_count": 245,
     "metadata": {},
     "output_type": "execute_result"
    }
   ],
   "source": [
    "t.index``"
   ]
  },
  {
   "cell_type": "code",
   "execution_count": 246,
   "id": "81d379ca",
   "metadata": {},
   "outputs": [
    {
     "data": {
      "text/plain": [
       "20852"
      ]
     },
     "execution_count": 246,
     "metadata": {},
     "output_type": "execute_result"
    }
   ],
   "source": [
    "t.loc[2]"
   ]
  },
  {
   "cell_type": "code",
   "execution_count": 41,
   "id": "367edf0e",
   "metadata": {},
   "outputs": [],
   "source": [
    "dfdataTrainExp, _ = train_test_split(dfdataTrain, train_size=0.1, stratify=dfdataTrain['overall'])"
   ]
  },
  {
   "cell_type": "code",
   "execution_count": 42,
   "id": "d888a000",
   "metadata": {},
   "outputs": [],
   "source": [
    "def extractFeaturesAndTarget_1(data: pd.DataFrame) -> (np.array, np.array):\n",
    "    return feature_tfidfUniBi(data['reviewText']), data['overall'].to_numpy()"
   ]
  },
  {
   "cell_type": "code",
   "execution_count": 337,
   "id": "83807377",
   "metadata": {},
   "outputs": [
    {
     "data": {
      "text/plain": [
       "(482045, 2)"
      ]
     },
     "execution_count": 337,
     "metadata": {},
     "output_type": "execute_result"
    }
   ],
   "source": [
    "dfdataTrainExp.shape"
   ]
  },
  {
   "cell_type": "code",
   "execution_count": 43,
   "id": "8072e3f5",
   "metadata": {},
   "outputs": [
    {
     "data": {
      "text/html": [
       "<div>\n",
       "<style scoped>\n",
       "    .dataframe tbody tr th:only-of-type {\n",
       "        vertical-align: middle;\n",
       "    }\n",
       "\n",
       "    .dataframe tbody tr th {\n",
       "        vertical-align: top;\n",
       "    }\n",
       "\n",
       "    .dataframe thead th {\n",
       "        text-align: right;\n",
       "    }\n",
       "</style>\n",
       "<table border=\"1\" class=\"dataframe\">\n",
       "  <thead>\n",
       "    <tr style=\"text-align: right;\">\n",
       "      <th></th>\n",
       "      <th>reviewText</th>\n",
       "      <th>overall</th>\n",
       "    </tr>\n",
       "  </thead>\n",
       "  <tbody>\n",
       "    <tr>\n",
       "      <th>3148599</th>\n",
       "      <td>ok__NN__1</td>\n",
       "      <td>4</td>\n",
       "    </tr>\n",
       "    <tr>\n",
       "      <th>4188628</th>\n",
       "      <td>i__NN__1 needed__VBD__1 5inch__CD__1 dolphin__...</td>\n",
       "      <td>1</td>\n",
       "    </tr>\n",
       "    <tr>\n",
       "      <th>2754969</th>\n",
       "      <td>love__VB__1 this__DT__3 dressing/dip__NN__5</td>\n",
       "      <td>5</td>\n",
       "    </tr>\n",
       "    <tr>\n",
       "      <th>37571</th>\n",
       "      <td>i__NN__1 like__IN__1 this__DT__1 cheese__JJ__1...</td>\n",
       "      <td>4</td>\n",
       "    </tr>\n",
       "    <tr>\n",
       "      <th>2037187</th>\n",
       "      <td>great__JJ__1 and__CC__3 addictive__JJ__5</td>\n",
       "      <td>5</td>\n",
       "    </tr>\n",
       "  </tbody>\n",
       "</table>\n",
       "</div>"
      ],
      "text/plain": [
       "                                                reviewText  overall\n",
       "3148599                                          ok__NN__1        4\n",
       "4188628  i__NN__1 needed__VBD__1 5inch__CD__1 dolphin__...        1\n",
       "2754969        love__VB__1 this__DT__3 dressing/dip__NN__5        5\n",
       "37571    i__NN__1 like__IN__1 this__DT__1 cheese__JJ__1...        4\n",
       "2037187           great__JJ__1 and__CC__3 addictive__JJ__5        5"
      ]
     },
     "execution_count": 43,
     "metadata": {},
     "output_type": "execute_result"
    }
   ],
   "source": [
    "data1 = dfdataTrainExp.copy()\n",
    "data1['reviewText'] = data1.reviewText.apply(lambda x: pipeProcess_1(x))\n",
    "data1.head()"
   ]
  },
  {
   "cell_type": "code",
   "execution_count": 55,
   "id": "a01b6a3b",
   "metadata": {},
   "outputs": [],
   "source": [
    "xArr, yArr = extractFeaturesAndTarget_1(data1)\n",
    "result = loop_testing(svm_model, 10, xArr, yArr)"
   ]
  },
  {
   "cell_type": "code",
   "execution_count": 213,
   "id": "4cfe2bf3",
   "metadata": {},
   "outputs": [
    {
     "data": {
      "image/png": "[encoded data removed]",
      "text/plain": [
       "<Figure size 1080x576 with 1 Axes>"
      ]
     },
     "metadata": {
      "needs_background": "light"
     },
     "output_type": "display_data"
    }
   ],
   "source": [
    "visualized_loopTesting(result)"
   ]
  },
  {
   "cell_type": "code",
   "execution_count": 62,
   "id": "b11e7672",
   "metadata": {},
   "outputs": [],
   "source": [
    "train_res, test_res = dict(), dict()\n",
    "for res in result:\n",
    "    train_res[res] = result[res][0]\n",
    "    test_res[res] = result[res][1]"
   ]
  },
  {
   "cell_type": "code",
   "execution_count": 67,
   "id": "cdca2da7",
   "metadata": {},
   "outputs": [
    {
     "data": {
      "image/png": "[encoded data removed]",
      "text/plain": [
       "<Figure size 1080x576 with 1 Axes>"
      ]
     },
     "metadata": {
      "needs_background": "light"
     },
     "output_type": "display_data"
    }
   ],
   "source": [
    "fig, axe = plt.subplots(figsize=(15, 8), nrows=1, ncols=1)\n",
    "sns.lineplot(y=train_res.values(), x=train_res.keys() , ax=axe, label='train-result')\n",
    "sns.lineplot(y=test_res.values(), x=test_res.keys(), ax=axe, label='test-result')\n",
    "axe.set_title(\"Highest Score: {}\".format(max(test_res.values())))\n",
    "plt.show();"
   ]
  },
  {
   "cell_type": "code",
   "execution_count": 68,
   "id": "28904abe",
   "metadata": {},
   "outputs": [],
   "source": []
  },
  {
   "cell_type": "code",
   "execution_count": 70,
   "id": "d68d7a6f",
   "metadata": {},
   "outputs": [
    {
     "data": {
      "text/html": [
       "<style>#sk-container-id-1 {color: black;background-color: white;}#sk-container-id-1 pre{padding: 0;}#sk-container-id-1 div.sk-toggleable {background-color: white;}#sk-container-id-1 label.sk-toggleable__label {cursor: pointer;display: block;width: 100%;margin-bottom: 0;padding: 0.3em;box-sizing: border-box;text-align: center;}#sk-container-id-1 label.sk-toggleable__label-arrow:before {content: \"▸\";float: left;margin-right: 0.25em;color: #696969;}#sk-container-id-1 label.sk-toggleable__label-arrow:hover:before {color: black;}#sk-container-id-1 div.sk-estimator:hover label.sk-toggleable__label-arrow:before {color: black;}#sk-container-id-1 div.sk-toggleable__content {max-height: 0;max-width: 0;overflow: hidden;text-align: left;background-color: #f0f8ff;}#sk-container-id-1 div.sk-toggleable__content pre {margin: 0.2em;color: black;border-radius: 0.25em;background-color: #f0f8ff;}#sk-container-id-1 input.sk-toggleable__control:checked~div.sk-toggleable__content {max-height: 200px;max-width: 100%;overflow: auto;}#sk-container-id-1 input.sk-toggleable__control:checked~label.sk-toggleable__label-arrow:before {content: \"▾\";}#sk-container-id-1 div.sk-estimator input.sk-toggleable__control:checked~label.sk-toggleable__label {background-color: #d4ebff;}#sk-container-id-1 div.sk-label input.sk-toggleable__control:checked~label.sk-toggleable__label {background-color: #d4ebff;}#sk-container-id-1 input.sk-hidden--visually {border: 0;clip: rect(1px 1px 1px 1px);clip: rect(1px, 1px, 1px, 1px);height: 1px;margin: -1px;overflow: hidden;padding: 0;position: absolute;width: 1px;}#sk-container-id-1 div.sk-estimator {font-family: monospace;background-color: #f0f8ff;border: 1px dotted black;border-radius: 0.25em;box-sizing: border-box;margin-bottom: 0.5em;}#sk-container-id-1 div.sk-estimator:hover {background-color: #d4ebff;}#sk-container-id-1 div.sk-parallel-item::after {content: \"\";width: 100%;border-bottom: 1px solid gray;flex-grow: 1;}#sk-container-id-1 div.sk-label:hover label.sk-toggleable__label {background-color: #d4ebff;}#sk-container-id-1 div.sk-serial::before {content: \"\";position: absolute;border-left: 1px solid gray;box-sizing: border-box;top: 0;bottom: 0;left: 50%;z-index: 0;}#sk-container-id-1 div.sk-serial {display: flex;flex-direction: column;align-items: center;background-color: white;padding-right: 0.2em;padding-left: 0.2em;position: relative;}#sk-container-id-1 div.sk-item {position: relative;z-index: 1;}#sk-container-id-1 div.sk-parallel {display: flex;align-items: stretch;justify-content: center;background-color: white;position: relative;}#sk-container-id-1 div.sk-item::before, #sk-container-id-1 div.sk-parallel-item::before {content: \"\";position: absolute;border-left: 1px solid gray;box-sizing: border-box;top: 0;bottom: 0;left: 50%;z-index: -1;}#sk-container-id-1 div.sk-parallel-item {display: flex;flex-direction: column;z-index: 1;position: relative;background-color: white;}#sk-container-id-1 div.sk-parallel-item:first-child::after {align-self: flex-end;width: 50%;}#sk-container-id-1 div.sk-parallel-item:last-child::after {align-self: flex-start;width: 50%;}#sk-container-id-1 div.sk-parallel-item:only-child::after {width: 0;}#sk-container-id-1 div.sk-dashed-wrapped {border: 1px dashed gray;margin: 0 0.4em 0.5em 0.4em;box-sizing: border-box;padding-bottom: 0.4em;background-color: white;}#sk-container-id-1 div.sk-label label {font-family: monospace;font-weight: bold;display: inline-block;line-height: 1.2em;}#sk-container-id-1 div.sk-label-container {text-align: center;}#sk-container-id-1 div.sk-container {/* jupyter's `normalize.less` sets `[hidden] { display: none; }` but bootstrap.min.css set `[hidden] { display: none !important; }` so we also need the `!important` here to be able to override the default hidden behavior on the sphinx rendered scikit-learn.org. See: https://github.com/scikit-learn/scikit-learn/issues/21755 */display: inline-block !important;position: relative;}#sk-container-id-1 div.sk-text-repr-fallback {display: none;}</style><div id=\"sk-container-id-1\" class=\"sk-top-container\"><div class=\"sk-text-repr-fallback\"><pre>LinearSVC()</pre><b>In a Jupyter environment, please rerun this cell to show the HTML representation or trust the notebook. <br />On GitHub, the HTML representation is unable to render, please try loading this page with nbviewer.org.</b></div><div class=\"sk-container\" hidden><div class=\"sk-item\"><div class=\"sk-estimator sk-toggleable\"><input class=\"sk-toggleable__control sk-hidden--visually\" id=\"sk-estimator-id-1\" type=\"checkbox\" checked><label for=\"sk-estimator-id-1\" class=\"sk-toggleable__label sk-toggleable__label-arrow\">LinearSVC</label><div class=\"sk-toggleable__content\"><pre>LinearSVC()</pre></div></div></div></div></div>"
      ],
      "text/plain": [
       "LinearSVC()"
      ]
     },
     "execution_count": 70,
     "metadata": {},
     "output_type": "execute_result"
    }
   ],
   "source": [
    "svm_model"
   ]
  },
  {
   "cell_type": "code",
   "execution_count": 74,
   "id": "4722438e",
   "metadata": {},
   "outputs": [
    {
     "data": {
      "text/plain": [
       "<1x25 sparse matrix of type '<class 'numpy.float64'>'\n",
       "\twith 25 stored elements in Compressed Sparse Row format>"
      ]
     },
     "execution_count": 74,
     "metadata": {},
     "output_type": "execute_result"
    }
   ],
   "source": [
    "feature_tfidfUniBi([pipeProcess_1(text)])"
   ]
  },
  {
   "cell_type": "code",
   "execution_count": 79,
   "id": "473b747e",
   "metadata": {},
   "outputs": [
    {
     "data": {
      "text/html": [
       "<style>#sk-container-id-3 {color: black;background-color: white;}#sk-container-id-3 pre{padding: 0;}#sk-container-id-3 div.sk-toggleable {background-color: white;}#sk-container-id-3 label.sk-toggleable__label {cursor: pointer;display: block;width: 100%;margin-bottom: 0;padding: 0.3em;box-sizing: border-box;text-align: center;}#sk-container-id-3 label.sk-toggleable__label-arrow:before {content: \"▸\";float: left;margin-right: 0.25em;color: #696969;}#sk-container-id-3 label.sk-toggleable__label-arrow:hover:before {color: black;}#sk-container-id-3 div.sk-estimator:hover label.sk-toggleable__label-arrow:before {color: black;}#sk-container-id-3 div.sk-toggleable__content {max-height: 0;max-width: 0;overflow: hidden;text-align: left;background-color: #f0f8ff;}#sk-container-id-3 div.sk-toggleable__content pre {margin: 0.2em;color: black;border-radius: 0.25em;background-color: #f0f8ff;}#sk-container-id-3 input.sk-toggleable__control:checked~div.sk-toggleable__content {max-height: 200px;max-width: 100%;overflow: auto;}#sk-container-id-3 input.sk-toggleable__control:checked~label.sk-toggleable__label-arrow:before {content: \"▾\";}#sk-container-id-3 div.sk-estimator input.sk-toggleable__control:checked~label.sk-toggleable__label {background-color: #d4ebff;}#sk-container-id-3 div.sk-label input.sk-toggleable__control:checked~label.sk-toggleable__label {background-color: #d4ebff;}#sk-container-id-3 input.sk-hidden--visually {border: 0;clip: rect(1px 1px 1px 1px);clip: rect(1px, 1px, 1px, 1px);height: 1px;margin: -1px;overflow: hidden;padding: 0;position: absolute;width: 1px;}#sk-container-id-3 div.sk-estimator {font-family: monospace;background-color: #f0f8ff;border: 1px dotted black;border-radius: 0.25em;box-sizing: border-box;margin-bottom: 0.5em;}#sk-container-id-3 div.sk-estimator:hover {background-color: #d4ebff;}#sk-container-id-3 div.sk-parallel-item::after {content: \"\";width: 100%;border-bottom: 1px solid gray;flex-grow: 1;}#sk-container-id-3 div.sk-label:hover label.sk-toggleable__label {background-color: #d4ebff;}#sk-container-id-3 div.sk-serial::before {content: \"\";position: absolute;border-left: 1px solid gray;box-sizing: border-box;top: 0;bottom: 0;left: 50%;z-index: 0;}#sk-container-id-3 div.sk-serial {display: flex;flex-direction: column;align-items: center;background-color: white;padding-right: 0.2em;padding-left: 0.2em;position: relative;}#sk-container-id-3 div.sk-item {position: relative;z-index: 1;}#sk-container-id-3 div.sk-parallel {display: flex;align-items: stretch;justify-content: center;background-color: white;position: relative;}#sk-container-id-3 div.sk-item::before, #sk-container-id-3 div.sk-parallel-item::before {content: \"\";position: absolute;border-left: 1px solid gray;box-sizing: border-box;top: 0;bottom: 0;left: 50%;z-index: -1;}#sk-container-id-3 div.sk-parallel-item {display: flex;flex-direction: column;z-index: 1;position: relative;background-color: white;}#sk-container-id-3 div.sk-parallel-item:first-child::after {align-self: flex-end;width: 50%;}#sk-container-id-3 div.sk-parallel-item:last-child::after {align-self: flex-start;width: 50%;}#sk-container-id-3 div.sk-parallel-item:only-child::after {width: 0;}#sk-container-id-3 div.sk-dashed-wrapped {border: 1px dashed gray;margin: 0 0.4em 0.5em 0.4em;box-sizing: border-box;padding-bottom: 0.4em;background-color: white;}#sk-container-id-3 div.sk-label label {font-family: monospace;font-weight: bold;display: inline-block;line-height: 1.2em;}#sk-container-id-3 div.sk-label-container {text-align: center;}#sk-container-id-3 div.sk-container {/* jupyter's `normalize.less` sets `[hidden] { display: none; }` but bootstrap.min.css set `[hidden] { display: none !important; }` so we also need the `!important` here to be able to override the default hidden behavior on the sphinx rendered scikit-learn.org. See: https://github.com/scikit-learn/scikit-learn/issues/21755 */display: inline-block !important;position: relative;}#sk-container-id-3 div.sk-text-repr-fallback {display: none;}</style><div id=\"sk-container-id-3\" class=\"sk-top-container\"><div class=\"sk-text-repr-fallback\"><pre>TfidfVectorizer(ngram_range=(1, 2))</pre><b>In a Jupyter environment, please rerun this cell to show the HTML representation or trust the notebook. <br />On GitHub, the HTML representation is unable to render, please try loading this page with nbviewer.org.</b></div><div class=\"sk-container\" hidden><div class=\"sk-item\"><div class=\"sk-estimator sk-toggleable\"><input class=\"sk-toggleable__control sk-hidden--visually\" id=\"sk-estimator-id-3\" type=\"checkbox\" checked><label for=\"sk-estimator-id-3\" class=\"sk-toggleable__label sk-toggleable__label-arrow\">TfidfVectorizer</label><div class=\"sk-toggleable__content\"><pre>TfidfVectorizer(ngram_range=(1, 2))</pre></div></div></div></div></div>"
      ],
      "text/plain": [
       "TfidfVectorizer(ngram_range=(1, 2))"
      ]
     },
     "execution_count": 79,
     "metadata": {},
     "output_type": "execute_result"
    }
   ],
   "source": [
    "tfidf_vectorizer = TfidfVectorizer(ngram_range=(1,2))\n",
    "tfidf_vectorizer.fit(data1['reviewText'])"
   ]
  },
  {
   "cell_type": "code",
   "execution_count": 147,
   "id": "5ad7b5e2",
   "metadata": {},
   "outputs": [],
   "source": [
    "text = dfdataTest.loc[2837833, 'reviewText']"
   ]
  },
  {
   "cell_type": "code",
   "execution_count": 148,
   "id": "944d95e4",
   "metadata": {},
   "outputs": [
    {
     "data": {
      "text/plain": [
       "\"our__PRP__1 $__1 family__NN__1 love__VB__1 home__NN__1 popped__VBN__1 popcorn__RB__1 .____1 .__1 not__RB__1 the__DT__1 microwave__NN__1 kind__NN__1 .____1 .__1 i__NN__1 wa__VBP__1 so__RB__1 excited__JJ__1 to__TO__1 try__VB__1 the__DT__1 mushroom__NN__1 popcorn__NN__1 .____1 .__1 i__VB__2 tried__VBD__2 this__DT__2 brand__NN__2 hoping__VBG__2 for__IN__2 large__JJ__2 movie__NN__2 style__NN__2 popcorn__NN__2 .____2 .__2 it__PRP__2 produced__VBD__2 the__DT__2 desired__JJ__2 size__NN__2 popcorn__NN__2 and__CC__2 the__DT__2 flavor__NN__2 wa__NN__2 good__JJ__2 ,__2 ____2 ,__2 but__CC__3 nearly__RB__3 1/3__CD__3 of__IN__3 the__DT__3 amount__NN__3 placed__VBD__3 in__IN__3 the__DT__3 ``__3 ____3 ``__3 tried__JJ__3 and__CC__3 proven__JJ__3 ``__3 ____3 ``__3 electric__JJ__3 popcorn__JJ__3 popper__NN__3 did__VBD__3 n't__RB__3 pop__VB__3 .____3 .__3 what__WP__4 is__VBZ__4 worse__JJR__4 is__VBZ__4 that__IN__4 when__WRB__4 it__PRP__4 popped__VBD__4 ,__4 ____4 ,__4 it__PRP__4 wa__VBZ__4 full__JJ__4 of__IN__4 hull__NN__4 .____4 .__4 i__NN__4 will__MD__4 not__RB__4 be__VB__4 purchasing__VBG__4 this__DT__4 again__RB__4 .____4 .__5\""
      ]
     },
     "execution_count": 148,
     "metadata": {},
     "output_type": "execute_result"
    }
   ],
   "source": [
    "pipeProcess_1(text)"
   ]
  },
  {
   "cell_type": "code",
   "execution_count": 149,
   "id": "6332b029",
   "metadata": {},
   "outputs": [
    {
     "data": {
      "text/plain": [
       "array([4], dtype=int64)"
      ]
     },
     "execution_count": 149,
     "metadata": {},
     "output_type": "execute_result"
    }
   ],
   "source": [
    "svm_model.predict(tfidf_vectorizer.transform([pipeProcess_1(text)]))"
   ]
  },
  {
   "cell_type": "code",
   "execution_count": 150,
   "id": "2f507491",
   "metadata": {},
   "outputs": [
    {
     "data": {
      "text/plain": [
       "<1x178 sparse matrix of type '<class 'numpy.float64'>'\n",
       "\twith 178 stored elements in Compressed Sparse Row format>"
      ]
     },
     "execution_count": 150,
     "metadata": {},
     "output_type": "execute_result"
    }
   ],
   "source": [
    "feature_tfidfUniBi([pipeProcess_1(text)])"
   ]
  },
  {
   "cell_type": "code",
   "execution_count": 378,
   "id": "cc3e7661",
   "metadata": {},
   "outputs": [
    {
     "data": {
      "text/html": [
       "<div>\n",
       "<style scoped>\n",
       "    .dataframe tbody tr th:only-of-type {\n",
       "        vertical-align: middle;\n",
       "    }\n",
       "\n",
       "    .dataframe tbody tr th {\n",
       "        vertical-align: top;\n",
       "    }\n",
       "\n",
       "    .dataframe thead th {\n",
       "        text-align: right;\n",
       "    }\n",
       "</style>\n",
       "<table border=\"1\" class=\"dataframe\">\n",
       "  <thead>\n",
       "    <tr style=\"text-align: right;\">\n",
       "      <th></th>\n",
       "      <th>overall</th>\n",
       "    </tr>\n",
       "  </thead>\n",
       "  <tbody>\n",
       "    <tr>\n",
       "      <th>0</th>\n",
       "      <td>29679</td>\n",
       "    </tr>\n",
       "    <tr>\n",
       "      <th>1</th>\n",
       "      <td>211343</td>\n",
       "    </tr>\n",
       "  </tbody>\n",
       "</table>\n",
       "</div>"
      ],
      "text/plain": [
       "   overall\n",
       "0    29679\n",
       "1   211343"
      ]
     },
     "execution_count": 378,
     "metadata": {},
     "output_type": "execute_result"
    }
   ],
   "source": [
    "data2.groupby(by=['overall'], as_index=False)['overall'].count()"
   ]
  },
  {
   "cell_type": "code",
   "execution_count": 382,
   "id": "28ace5e4",
   "metadata": {},
   "outputs": [
    {
     "data": {
      "text/plain": [
       "(241022, 3)"
      ]
     },
     "execution_count": 382,
     "metadata": {},
     "output_type": "execute_result"
    }
   ],
   "source": [
    "data2.shape"
   ]
  },
  {
   "cell_type": "code",
   "execution_count": 399,
   "id": "e944f378",
   "metadata": {},
   "outputs": [
    {
     "data": {
      "text/html": [
       "<div>\n",
       "<style scoped>\n",
       "    .dataframe tbody tr th:only-of-type {\n",
       "        vertical-align: middle;\n",
       "    }\n",
       "\n",
       "    .dataframe tbody tr th {\n",
       "        vertical-align: top;\n",
       "    }\n",
       "\n",
       "    .dataframe thead th {\n",
       "        text-align: right;\n",
       "    }\n",
       "</style>\n",
       "<table border=\"1\" class=\"dataframe\">\n",
       "  <thead>\n",
       "    <tr style=\"text-align: right;\">\n",
       "      <th></th>\n",
       "      <th>reviewText</th>\n",
       "      <th>overall</th>\n",
       "      <th>countSentences</th>\n",
       "    </tr>\n",
       "  </thead>\n",
       "  <tbody>\n",
       "    <tr>\n",
       "      <th>4041347</th>\n",
       "      <td>I love this poster! And I'm so pleased with th...</td>\n",
       "      <td>5</td>\n",
       "      <td>6</td>\n",
       "    </tr>\n",
       "    <tr>\n",
       "      <th>155575</th>\n",
       "      <td>Really great taste, and lasts forever! It even...</td>\n",
       "      <td>5</td>\n",
       "      <td>2</td>\n",
       "    </tr>\n",
       "    <tr>\n",
       "      <th>2858001</th>\n",
       "      <td>I truly enjoyed this coffee I have had coffee ...</td>\n",
       "      <td>5</td>\n",
       "      <td>4</td>\n",
       "    </tr>\n",
       "    <tr>\n",
       "      <th>2556309</th>\n",
       "      <td>These candies were all either broken or melted</td>\n",
       "      <td>1</td>\n",
       "      <td>1</td>\n",
       "    </tr>\n",
       "    <tr>\n",
       "      <th>1787409</th>\n",
       "      <td>EZ-Sweetz is like spenda without all the extra...</td>\n",
       "      <td>5</td>\n",
       "      <td>4</td>\n",
       "    </tr>\n",
       "  </tbody>\n",
       "</table>\n",
       "</div>"
      ],
      "text/plain": [
       "                                                reviewText  overall  \\\n",
       "4041347  I love this poster! And I'm so pleased with th...        5   \n",
       "155575   Really great taste, and lasts forever! It even...        5   \n",
       "2858001  I truly enjoyed this coffee I have had coffee ...        5   \n",
       "2556309     These candies were all either broken or melted        1   \n",
       "1787409  EZ-Sweetz is like spenda without all the extra...        5   \n",
       "\n",
       "         countSentences  \n",
       "4041347               6  \n",
       "155575                2  \n",
       "2858001               4  \n",
       "2556309               1  \n",
       "1787409               4  "
      ]
     },
     "execution_count": 399,
     "metadata": {},
     "output_type": "execute_result"
    }
   ],
   "source": [
    "dfdataTrainExp.head()"
   ]
  },
  {
   "cell_type": "code",
   "execution_count": null,
   "id": "a51c230a",
   "metadata": {},
   "outputs": [],
   "source": []
  },
  {
   "cell_type": "code",
   "execution_count": 152,
   "id": "626edcb5",
   "metadata": {},
   "outputs": [],
   "source": [
    "def extractFeaturesAndTarget_1(data: pd.DataFrame) -> (np.array, np.array):\n",
    "    return feature_tfidfUniBi(data['reviewText']), data['overall'].to_numpy()"
   ]
  },
  {
   "cell_type": "code",
   "execution_count": 157,
   "id": "5ea3ca02",
   "metadata": {},
   "outputs": [
    {
     "data": {
      "text/html": [
       "<div>\n",
       "<style scoped>\n",
       "    .dataframe tbody tr th:only-of-type {\n",
       "        vertical-align: middle;\n",
       "    }\n",
       "\n",
       "    .dataframe tbody tr th {\n",
       "        vertical-align: top;\n",
       "    }\n",
       "\n",
       "    .dataframe thead th {\n",
       "        text-align: right;\n",
       "    }\n",
       "</style>\n",
       "<table border=\"1\" class=\"dataframe\">\n",
       "  <thead>\n",
       "    <tr style=\"text-align: right;\">\n",
       "      <th></th>\n",
       "      <th>reviewText</th>\n",
       "      <th>overall</th>\n",
       "    </tr>\n",
       "  </thead>\n",
       "  <tbody>\n",
       "    <tr>\n",
       "      <th>810630</th>\n",
       "      <td>HUGE bag! Product is fresh and smells great.  ...</td>\n",
       "      <td>4</td>\n",
       "    </tr>\n",
       "    <tr>\n",
       "      <th>1297354</th>\n",
       "      <td>Perfect for on the go sandwiches</td>\n",
       "      <td>5</td>\n",
       "    </tr>\n",
       "    <tr>\n",
       "      <th>3132643</th>\n",
       "      <td>I didn't care for the way these nuts were prep...</td>\n",
       "      <td>2</td>\n",
       "    </tr>\n",
       "    <tr>\n",
       "      <th>4864570</th>\n",
       "      <td>I just tried this product which I purchased fr...</td>\n",
       "      <td>5</td>\n",
       "    </tr>\n",
       "    <tr>\n",
       "      <th>1625979</th>\n",
       "      <td>This is some of the best sweetener going. On a...</td>\n",
       "      <td>5</td>\n",
       "    </tr>\n",
       "  </tbody>\n",
       "</table>\n",
       "</div>"
      ],
      "text/plain": [
       "                                                reviewText  overall\n",
       "810630   HUGE bag! Product is fresh and smells great.  ...        4\n",
       "1297354                   Perfect for on the go sandwiches        5\n",
       "3132643  I didn't care for the way these nuts were prep...        2\n",
       "4864570  I just tried this product which I purchased fr...        5\n",
       "1625979  This is some of the best sweetener going. On a...        5"
      ]
     },
     "execution_count": 157,
     "metadata": {},
     "output_type": "execute_result"
    }
   ],
   "source": [
    "dfdataTest.head()"
   ]
  },
  {
   "cell_type": "code",
   "execution_count": 164,
   "id": "b848527e",
   "metadata": {},
   "outputs": [],
   "source": [
    "dfdataTest['reviewText'] = dfdataTest['reviewText'].apply(lambda x: pipeProcess_1(x))"
   ]
  },
  {
   "cell_type": "code",
   "execution_count": 166,
   "id": "0d206b48",
   "metadata": {},
   "outputs": [],
   "source": [
    "xArr, yArr = tfidf_vectorizer.transform(dfdataTest['reviewText']), dfdataTest['overall'].to_numpy()\n",
    "ypred = svm_model.predict(xArr)"
   ]
  },
  {
   "cell_type": "code",
   "execution_count": 338,
   "id": "e2ed6ccc",
   "metadata": {},
   "outputs": [],
   "source": [
    "xArr, yArr = tfidf_vectorizer.transform(dfdataTest['reviewText']), dfdataTest['overall'].to_numpy()\n",
    "ypred = svm_model.predict(xArr)"
   ]
  },
  {
   "cell_type": "code",
   "execution_count": 339,
   "id": "da12c96c",
   "metadata": {},
   "outputs": [
    {
     "data": {
      "text/plain": [
       "0.7705590679048355"
      ]
     },
     "execution_count": 339,
     "metadata": {},
     "output_type": "execute_result"
    }
   ],
   "source": [
    "accuracy_score(ypred, yArr)"
   ]
  },
  {
   "cell_type": "code",
   "execution_count": 172,
   "id": "f83d869c",
   "metadata": {},
   "outputs": [],
   "source": [
    "from sklearn.metrics import confusion_matrix"
   ]
  },
  {
   "cell_type": "code",
   "execution_count": 340,
   "id": "b2cdded3",
   "metadata": {},
   "outputs": [
    {
     "name": "stdout",
     "output_type": "stream",
     "text": [
      "              precision    recall  f1-score   support\n",
      "\n",
      "           1       0.65      0.65      0.65     20216\n",
      "           2       0.21      0.32      0.25      6934\n",
      "           3       0.32      0.41      0.36     12436\n",
      "           4       0.24      0.36      0.29     18694\n",
      "           5       0.94      0.86      0.90    195428\n",
      "\n",
      "    accuracy                           0.77    253708\n",
      "   macro avg       0.47      0.52      0.49    253708\n",
      "weighted avg       0.82      0.77      0.79    253708\n",
      "\n"
     ]
    },
    {
     "data": {
      "image/png": "[encoded data removed]",
      "text/plain": [
       "<Figure size 1080x576 with 2 Axes>"
      ]
     },
     "metadata": {
      "needs_background": "light"
     },
     "output_type": "display_data"
    }
   ],
   "source": [
    "show_result(ypred, yArr)"
   ]
  },
  {
   "cell_type": "code",
   "execution_count": 179,
   "id": "2c689ed1",
   "metadata": {},
   "outputs": [
    {
     "data": {
      "text/plain": [
       "array([[ 38204,    198,     92,     20,     15],\n",
       "       [   116,  20449,     95,     17,      4],\n",
       "       [    79,    125,  29647,    102,     53],\n",
       "       [     5,     15,    115,  47185,    226],\n",
       "       [   102,     65,    654,   5230, 339232]], dtype=int64)"
      ]
     },
     "execution_count": 179,
     "metadata": {},
     "output_type": "execute_result"
    }
   ],
   "source": [
    "confusion_matrix(ypred, yArr, labels=range(1, 6))"
   ]
  },
  {
   "cell_type": "code",
   "execution_count": 174,
   "id": "04c84efe",
   "metadata": {},
   "outputs": [
    {
     "data": {
      "text/plain": [
       "['T',\n",
       " '__abs__',\n",
       " '__add__',\n",
       " '__and__',\n",
       " '__array__',\n",
       " '__array_finalize__',\n",
       " '__array_function__',\n",
       " '__array_interface__',\n",
       " '__array_prepare__',\n",
       " '__array_priority__',\n",
       " '__array_struct__',\n",
       " '__array_ufunc__',\n",
       " '__array_wrap__',\n",
       " '__bool__',\n",
       " '__class__',\n",
       " '__complex__',\n",
       " '__contains__',\n",
       " '__copy__',\n",
       " '__deepcopy__',\n",
       " '__delattr__',\n",
       " '__delitem__',\n",
       " '__dir__',\n",
       " '__divmod__',\n",
       " '__doc__',\n",
       " '__eq__',\n",
       " '__float__',\n",
       " '__floordiv__',\n",
       " '__format__',\n",
       " '__ge__',\n",
       " '__getattribute__',\n",
       " '__getitem__',\n",
       " '__gt__',\n",
       " '__hash__',\n",
       " '__iadd__',\n",
       " '__iand__',\n",
       " '__ifloordiv__',\n",
       " '__ilshift__',\n",
       " '__imatmul__',\n",
       " '__imod__',\n",
       " '__imul__',\n",
       " '__index__',\n",
       " '__init__',\n",
       " '__init_subclass__',\n",
       " '__int__',\n",
       " '__invert__',\n",
       " '__ior__',\n",
       " '__ipow__',\n",
       " '__irshift__',\n",
       " '__isub__',\n",
       " '__iter__',\n",
       " '__itruediv__',\n",
       " '__ixor__',\n",
       " '__le__',\n",
       " '__len__',\n",
       " '__lshift__',\n",
       " '__lt__',\n",
       " '__matmul__',\n",
       " '__mod__',\n",
       " '__mul__',\n",
       " '__ne__',\n",
       " '__neg__',\n",
       " '__new__',\n",
       " '__or__',\n",
       " '__pos__',\n",
       " '__pow__',\n",
       " '__radd__',\n",
       " '__rand__',\n",
       " '__rdivmod__',\n",
       " '__reduce__',\n",
       " '__reduce_ex__',\n",
       " '__repr__',\n",
       " '__rfloordiv__',\n",
       " '__rlshift__',\n",
       " '__rmatmul__',\n",
       " '__rmod__',\n",
       " '__rmul__',\n",
       " '__ror__',\n",
       " '__rpow__',\n",
       " '__rrshift__',\n",
       " '__rshift__',\n",
       " '__rsub__',\n",
       " '__rtruediv__',\n",
       " '__rxor__',\n",
       " '__setattr__',\n",
       " '__setitem__',\n",
       " '__setstate__',\n",
       " '__sizeof__',\n",
       " '__str__',\n",
       " '__sub__',\n",
       " '__subclasshook__',\n",
       " '__truediv__',\n",
       " '__xor__',\n",
       " 'all',\n",
       " 'any',\n",
       " 'argmax',\n",
       " 'argmin',\n",
       " 'argpartition',\n",
       " 'argsort',\n",
       " 'astype',\n",
       " 'base',\n",
       " 'byteswap',\n",
       " 'choose',\n",
       " 'clip',\n",
       " 'compress',\n",
       " 'conj',\n",
       " 'conjugate',\n",
       " 'copy',\n",
       " 'ctypes',\n",
       " 'cumprod',\n",
       " 'cumsum',\n",
       " 'data',\n",
       " 'diagonal',\n",
       " 'dot',\n",
       " 'dtype',\n",
       " 'dump',\n",
       " 'dumps',\n",
       " 'fill',\n",
       " 'flags',\n",
       " 'flat',\n",
       " 'flatten',\n",
       " 'getfield',\n",
       " 'imag',\n",
       " 'item',\n",
       " 'itemset',\n",
       " 'itemsize',\n",
       " 'max',\n",
       " 'mean',\n",
       " 'min',\n",
       " 'nbytes',\n",
       " 'ndim',\n",
       " 'newbyteorder',\n",
       " 'nonzero',\n",
       " 'partition',\n",
       " 'prod',\n",
       " 'ptp',\n",
       " 'put',\n",
       " 'ravel',\n",
       " 'real',\n",
       " 'repeat',\n",
       " 'reshape',\n",
       " 'resize',\n",
       " 'round',\n",
       " 'searchsorted',\n",
       " 'setfield',\n",
       " 'setflags',\n",
       " 'shape',\n",
       " 'size',\n",
       " 'sort',\n",
       " 'squeeze',\n",
       " 'std',\n",
       " 'strides',\n",
       " 'sum',\n",
       " 'swapaxes',\n",
       " 'take',\n",
       " 'tobytes',\n",
       " 'tofile',\n",
       " 'tolist',\n",
       " 'tostring',\n",
       " 'trace',\n",
       " 'transpose',\n",
       " 'var',\n",
       " 'view']"
      ]
     },
     "execution_count": 174,
     "metadata": {},
     "output_type": "execute_result"
    }
   ],
   "source": [
    "dir(confusion_matrix(ypred, yArr))"
   ]
  },
  {
   "cell_type": "code",
   "execution_count": 163,
   "id": "ef803a46",
   "metadata": {},
   "outputs": [
    {
     "data": {
      "text/plain": [
       "<482045x3150511 sparse matrix of type '<class 'numpy.float64'>'\n",
       "\twith 37128180 stored elements in Compressed Sparse Row format>"
      ]
     },
     "execution_count": 163,
     "metadata": {},
     "output_type": "execute_result"
    }
   ],
   "source": [
    "tfidf_vectorizer.transform(data1['reviewText'])"
   ]
  },
  {
   "cell_type": "code",
   "execution_count": 170,
   "id": "277216e9",
   "metadata": {},
   "outputs": [
    {
     "data": {
      "text/html": [
       "<div>\n",
       "<style scoped>\n",
       "    .dataframe tbody tr th:only-of-type {\n",
       "        vertical-align: middle;\n",
       "    }\n",
       "\n",
       "    .dataframe tbody tr th {\n",
       "        vertical-align: top;\n",
       "    }\n",
       "\n",
       "    .dataframe thead th {\n",
       "        text-align: right;\n",
       "    }\n",
       "</style>\n",
       "<table border=\"1\" class=\"dataframe\">\n",
       "  <thead>\n",
       "    <tr style=\"text-align: right;\">\n",
       "      <th></th>\n",
       "      <th>reviewText</th>\n",
       "      <th>overall</th>\n",
       "    </tr>\n",
       "  </thead>\n",
       "  <tbody>\n",
       "    <tr>\n",
       "      <th>810630</th>\n",
       "      <td>huge__JJ__1 bag__NN__1 !__1 ____1 .__1 product...</td>\n",
       "      <td>4</td>\n",
       "    </tr>\n",
       "    <tr>\n",
       "      <th>1297354</th>\n",
       "      <td>perfect__NN__1 for__IN__1 on__IN__2 the__DT__3...</td>\n",
       "      <td>5</td>\n",
       "    </tr>\n",
       "    <tr>\n",
       "      <th>3132643</th>\n",
       "      <td>i__NN__1 did__VBD__1 n't__RB__1 care__VB__1 fo...</td>\n",
       "      <td>2</td>\n",
       "    </tr>\n",
       "    <tr>\n",
       "      <th>4864570</th>\n",
       "      <td>i__NN__1 just__RB__1 tried__VBN__1 this__DT__1...</td>\n",
       "      <td>5</td>\n",
       "    </tr>\n",
       "    <tr>\n",
       "      <th>1625979</th>\n",
       "      <td>this__DT__1 is__VBZ__1 some__DT__1 of__IN__1 t...</td>\n",
       "      <td>5</td>\n",
       "    </tr>\n",
       "    <tr>\n",
       "      <th>...</th>\n",
       "      <td>...</td>\n",
       "      <td>...</td>\n",
       "    </tr>\n",
       "    <tr>\n",
       "      <th>3361146</th>\n",
       "      <td>i__RB__1 tried__VBD__1 this__DT__1 tea__NN__1 ...</td>\n",
       "      <td>5</td>\n",
       "    </tr>\n",
       "    <tr>\n",
       "      <th>1830281</th>\n",
       "      <td>i__NN__1 use__VBP__1 this__DT__1 for__IN__1 th...</td>\n",
       "      <td>5</td>\n",
       "    </tr>\n",
       "    <tr>\n",
       "      <th>2837833</th>\n",
       "      <td>our__PRP__1 $__1 family__NN__1 love__VB__1 hom...</td>\n",
       "      <td>1</td>\n",
       "    </tr>\n",
       "    <tr>\n",
       "      <th>4873766</th>\n",
       "      <td>arrived__VBN__1 exceptionally__RB__2 fresh__JJ...</td>\n",
       "      <td>5</td>\n",
       "    </tr>\n",
       "    <tr>\n",
       "      <th>936702</th>\n",
       "      <td>some__DT__1 of__IN__1 the__DT__1 best__JJS__1 ...</td>\n",
       "      <td>5</td>\n",
       "    </tr>\n",
       "  </tbody>\n",
       "</table>\n",
       "<p>253708 rows × 2 columns</p>\n",
       "</div>"
      ],
      "text/plain": [
       "                                                reviewText  overall\n",
       "810630   huge__JJ__1 bag__NN__1 !__1 ____1 .__1 product...        4\n",
       "1297354  perfect__NN__1 for__IN__1 on__IN__2 the__DT__3...        5\n",
       "3132643  i__NN__1 did__VBD__1 n't__RB__1 care__VB__1 fo...        2\n",
       "4864570  i__NN__1 just__RB__1 tried__VBN__1 this__DT__1...        5\n",
       "1625979  this__DT__1 is__VBZ__1 some__DT__1 of__IN__1 t...        5\n",
       "...                                                    ...      ...\n",
       "3361146  i__RB__1 tried__VBD__1 this__DT__1 tea__NN__1 ...        5\n",
       "1830281  i__NN__1 use__VBP__1 this__DT__1 for__IN__1 th...        5\n",
       "2837833  our__PRP__1 $__1 family__NN__1 love__VB__1 hom...        1\n",
       "4873766  arrived__VBN__1 exceptionally__RB__2 fresh__JJ...        5\n",
       "936702   some__DT__1 of__IN__1 the__DT__1 best__JJS__1 ...        5\n",
       "\n",
       "[253708 rows x 2 columns]"
      ]
     },
     "execution_count": 170,
     "metadata": {},
     "output_type": "execute_result"
    }
   ],
   "source": [
    "dfdataTest"
   ]
  },
  {
   "cell_type": "code",
   "execution_count": null,
   "id": "100fde2b",
   "metadata": {},
   "outputs": [],
   "source": []
  }
 ],
 "metadata": {
  "kernelspec": {
   "display_name": "env",
   "language": "python",
   "name": "env"
  },
  "language_info": {
   "codemirror_mode": {
    "name": "ipython",
    "version": 3
   },
   "file_extension": ".py",
   "mimetype": "text/x-python",
   "name": "python",
   "nbconvert_exporter": "python",
   "pygments_lexer": "ipython3",
   "version": "3.10.5"
  }
 },
 "nbformat": 4,
 "nbformat_minor": 5
}
