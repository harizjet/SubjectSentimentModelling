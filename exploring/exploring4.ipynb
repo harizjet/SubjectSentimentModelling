{
 "cells": [
  {
   "cell_type": "code",
   "execution_count": 5,
   "metadata": {},
   "outputs": [],
   "source": [
    "# general tools\n",
    "import pandas as pd\n",
    "import matplotlib.pyplot as plt\n",
    "import seaborn as sns\n",
    "import io\n",
    "import re\n",
    "import datetime as dt\n",
    "import json\n",
    "import requests\n",
    "import scipy as sp\n",
    "import numpy as np\n",
    "import tempfile\n",
    "import random\n",
    "import time\n",
    "import math\n",
    "import statistics\n",
    "import os\n",
    "from typing import Tuple, Dict, List\n",
    "import sys\n",
    "import warnings\n",
    "warnings.filterwarnings('ignore')\n",
    "\n",
    "# preprocessing & utils\n",
    "import nltk\n",
    "from nltk import pos_tag\n",
    "from nltk import word_tokenize\n",
    "from nltk import pos_tag\n",
    "from nltk.stem import WordNetLemmatizer \n",
    "from nltk.corpus import stopwords\n",
    "from nltk.tokenize import word_tokenize, sent_tokenize\n",
    "from sklearn.model_selection import GridSearchCV, train_test_split\n",
    "from sklearn.metrics import confusion_matrix, accuracy_score, classification_report\n",
    "from sklearn.feature_extraction.text import TfidfVectorizer, CountVectorizer\n",
    "\n",
    "# ml models\n",
    "from sklearn.naive_bayes import MultinomialNB\n",
    "from sklearn.svm import LinearSVC\n",
    "from sklearn.linear_model import SGDClassifier, LogisticRegression\n",
    "from sklearn.neural_network import MLPClassifier\n",
    "\n",
    "# others\n",
    "from wordcloud import WordCloud\n",
    "from matplotlib.ticker import FormatStrFormatter"
   ]
  },
  {
   "cell_type": "markdown",
   "metadata": {},
   "source": [
    "<center>\n",
    "    <h3>Constant</h3>\n",
    "</center>"
   ]
  },
  {
   "cell_type": "code",
   "execution_count": 7,
   "metadata": {},
   "outputs": [],
   "source": [
    "stop_words = set(stopwords.words('english'))\n",
    "lemmatizer = WordNetLemmatizer()"
   ]
  },
  {
   "cell_type": "markdown",
   "metadata": {},
   "source": [
    "<center>\n",
    "    <h3>Utility Function</h3>\n",
    "</center>"
   ]
  },
  {
   "cell_type": "code",
   "execution_count": 69,
   "metadata": {},
   "outputs": [],
   "source": [
    "# processsing\n",
    "def pipe_cleaningText(text: str) -> str:\n",
    "    txt = text.lower()\n",
    "    return txt\n",
    "\n",
    "def pipe_removeStopWords(text: str, tokenized: bool = False) -> str:\n",
    "    if tokenized:\n",
    "        return \" \".join([w for w in text.split(\" \") if w not in stop_words])\n",
    "    return \" \".join([w for w in word_tokenize(text) if w not in stop_words])\n",
    "\n",
    "def pipe_lemmatization(text: str, tokenized: bool = False) -> str:\n",
    "    txt = \"\"\n",
    "    collections = word_tokenize(text) if not tokenized else text.split(\" \")\n",
    "    for w in collections:\n",
    "        txt += lemmatizer.lemmatize(w) + ' '\n",
    "    return txt.strip()\n",
    "\n",
    "def pipe_addPos(text: str, tokenized: bool = False) -> str:\n",
    "    txt = \"\"\n",
    "    collections = word_tokenize(text) if not tokenized else text.split(\" \")\n",
    "    for w in pos_tag(collections):\n",
    "        txt += '__'.join(w) + ' '\n",
    "    return txt.strip()\n",
    "\n",
    "def pipe_normalized(text: str, bin: int, tokenized: bool = False) -> str:\n",
    "    txt = \"\"\n",
    "    collections = word_tokenize(text) if not tokenized else text.split(\" \")\n",
    "    n = len(collections)\n",
    "    for i, w in enumerate(collections):\n",
    "        normVal = math.floor((i / (n - 1)) * (bin - 1)) + 1 if n != 1 else 1\n",
    "        txt += w + '__' + str(normVal) + ' '\n",
    "    return txt.strip()\n",
    "\n",
    "def pipe_subjectCleaning(text: str, tokenized: bool = False) -> str:\n",
    "    txt = \"\"\n",
    "    collections = sent_tokenize(text) if not tokenized else text.split(\" \")\n",
    "    for s in collections:\n",
    "        for w in pos_tag(word_tokenize(s)):\n",
    "            if w[1] != 'NNP':\n",
    "                continue\n",
    "            txt += w[0] + ' '\n",
    "    return txt.strip()\n",
    "\n",
    "# feature extraction\n",
    "def feature_tfidfUni(series: pd.Series, max_features=None) -> Tuple[sp.sparse.csr_matrix, TfidfVectorizer]:\n",
    "    tfidf_vectorizer = TfidfVectorizer(ngram_range=(1,1), max_features=max_features)\n",
    "    tfidf_vectorizer.fit(series)\n",
    "    return tfidf_vectorizer.transform(series), tfidf_vectorizer\n",
    "\n",
    "def feature_bowUni(series: pd.Series, max_features=None) -> Tuple[sp.sparse.csr_matrix, CountVectorizer]:\n",
    "    bow_vectorizer = CountVectorizer(ngram_range=(1,1), max_features=max_features)\n",
    "    bow_vectorizer.fit(series)\n",
    "    return bow_vectorizer.transform(series), bow_vectorizer\n",
    "\n",
    "def feature_tfidfUniBi(series: pd.Series, max_features=None) -> Tuple[sp.sparse.csr_matrix, TfidfVectorizer]:\n",
    "    tfidf_vectorizer = TfidfVectorizer(ngram_range=(1,2), max_features=max_features)\n",
    "    tfidf_vectorizer.fit(series)\n",
    "    return tfidf_vectorizer.transform(series), tfidf_vectorizer\n",
    "\n",
    "def feature_bowUniBi(series: pd.Series, max_features=None) -> Tuple[sp.sparse.csr_matrix, CountVectorizer]:\n",
    "    bow_vectorizer = CountVectorizer(ngram_range=(1,2), max_features=max_features)\n",
    "    bow_vectorizer.fit(series)\n",
    "    return bow_vectorizer.transform(series), bow_vectorizer\n",
    "\n",
    "# sampling\n",
    "def balancing_upsampling(data: pd.DataFrame, target: int=None) -> pd.DataFrame:\n",
    "    group_res = data.groupby(by=['overall'])['overall'].count()\n",
    "    highest_n = max(group_res.values) if not target else target\n",
    "    thedata = data[data.overall == group_res[group_res == highest_n].index[0]] if not target else data.drop(data.index)\n",
    "    for i in group_res.index:\n",
    "        if group_res.loc[i] == highest_n:\n",
    "            continue\n",
    "        tdata = data[data.overall == i]\n",
    "        sample_ind = np.random.choice(tdata.index, highest_n - group_res.loc[i], replace=True)\n",
    "        thedata = pd.concat([thedata, tdata, tdata.loc[sample_ind]])\n",
    "    return thedata\n",
    "\n",
    "def balancing_downsampling(data: pd.DataFrame, target: int=None) -> pd.DataFrame:\n",
    "    group_res = data.groupby(by=['overall'])['overall'].count()\n",
    "    lowest_n = min(group_res.values) if not target else target\n",
    "    thedata = data[data.overall == group_res[group_res == lowest_n].index[0]] if not target else data.drop(data.index)\n",
    "    for i in group_res.index:\n",
    "        if group_res.loc[i] == lowest_n:\n",
    "            continue\n",
    "        tdata = data[data.overall == i]\n",
    "        sample_ind = np.random.choice(tdata.index, lowest_n, replace=False)\n",
    "        thedata = pd.concat([thedata, tdata.loc[sample_ind]])\n",
    "    return thedata\n",
    "\n",
    "# testing\n",
    "def accuracyTrainTest(model, trainX: np.array, trainY: np.array, valX: np.array, valY: np.array, testX: np.array, testY: np.array) -> Tuple[float, float, float]:\n",
    "    mod = model.fit(trainX, trainY)\n",
    "    yfit = mod.predict(trainX)\n",
    "    ypredVal = mod.predict(valX)\n",
    "    ypredTest = mod.predict(testX)\n",
    "    \n",
    "    # train result, validation result, test result\n",
    "    return accuracy_score(trainY, yfit), accuracy_score(valY, ypredVal), accuracy_score(testY, ypredTest)\n",
    "    \n",
    "def loop_testing(model, n_test: int, xArr: sp.sparse.csr_matrix, yArr: np.array, testXArr: sp.sparse.csr_matrix, testYArr: np.array) -> Dict[str, List[float]]:\n",
    "    thedict = {}\n",
    "\n",
    "    i = 0\n",
    "    n = xArr.shape[0]\n",
    "    n_sample = math.ceil(n / n_test)\n",
    "    x_sam, y_sam = np.array([]), np.array([])\n",
    "    while i < n_test:\n",
    "        percent_sample = n_sample/xArr.shape[0]\n",
    "        if percent_sample >= 1:\n",
    "            xmain, ymain = xArr, yArr\n",
    "        else:\n",
    "            xmain, xArr, ymain, yArr = train_test_split(xArr, yArr, train_size=percent_sample, stratify=yArr, random_state=123)\n",
    "        \n",
    "        x_sam = sp.sparse.vstack((x_sam, xmain)) if x_sam.shape[0] != 0 else xmain\n",
    "        y_sam = np.hstack((y_sam, ymain)) if y_sam.shape[0] != 0 else ymain\n",
    "        xtrain, xtest, ytrain, ytest = train_test_split(x_sam, y_sam, train_size=0.9, stratify=y_sam, random_state=123)\n",
    "\n",
    "        resTrain, resVal, resTest = accuracyTrainTest(model, xtrain, ytrain, xtest, ytest, testXArr, testYArr)\n",
    "        thedict[x_sam.shape[0]] = [resTrain, resVal, resTest]\n",
    "\n",
    "        i += 1\n",
    "    return thedict\n",
    "\n",
    "# visualization\n",
    "def show_result(ypred: np.array, ytarget: np.array) -> None:\n",
    "    label = ['Positive', 'Neutral', 'Negative']\n",
    "    report = classification_report(ypred, ytarget, labels=label)\n",
    "    conf_matrix = confusion_matrix(ypred, ytarget, labels=label)\n",
    "\n",
    "    group_names = ['True Pos', 'False Neu', 'False Neg',\n",
    "                   'False Pos', 'True Neu', 'False Neg',\n",
    "                   'False Pos', 'False Neu', 'True Neg']\n",
    "    group_percentages = ['{0:.2%}'.format(value) for value in conf_matrix.flatten() / np.sum(conf_matrix)]\n",
    "    labels = [f'{v1}\\n{v2}\\n{v3}' for v1, v2, v3 in zip(group_names, group_percentages, conf_matrix.flatten())]\n",
    "    labels = np.asarray(labels).reshape(3, 3)\n",
    "\n",
    "    df_cm = pd.DataFrame(data=conf_matrix, index=label, columns=label)\n",
    "\n",
    "    print(report)\n",
    "    fix, axe = plt.subplots(figsize=(15, 8), nrows=1, ncols=1)\n",
    "    sns.heatmap(df_cm, xticklabels=label, yticklabels=label, annot=labels, ax=axe, cmap = 'Blues', fmt = '')\n",
    "    plt.show();\n",
    "\n",
    "def visualized_loopTesting(result_loopTesting: Dict[str, List[float]]) -> None:\n",
    "    train_res, val_res, test_res = dict(), dict(), dict()\n",
    "    for res in result_loopTesting:\n",
    "        train_res[res] = result[res][0]\n",
    "        val_res[res] = result[res][1]\n",
    "        test_res[res] = result[res][2]\n",
    "\n",
    "    fig, axe = plt.subplots(figsize=(15, 8), nrows=1, ncols=1)\n",
    "    sns.lineplot(y=train_res.values(), x=train_res.keys() , ax=axe, label='train-result')\n",
    "    sns.lineplot(y=val_res.values(), x=val_res.keys(), ax=axe, label='val-result')\n",
    "    sns.lineplot(y=test_res.values(), x=test_res.keys(), ax=axe, label='test-result')\n",
    "    axe.set_title(\"Highest Score: {}\".format(max(test_res.values())))\n",
    "    axe.set_xlabel(\"Dataset Size\")\n",
    "    axe.set_ylabel(\"Accuracy\")\n",
    "    axe.set_ylim([0.65, 1.0])\n",
    "    axe.xaxis.set_major_formatter(FormatStrFormatter('%.0f'))\n",
    "    plt.show();\n",
    "\n",
    "# others\n",
    "def correlation(x: list, y: list) -> float:\n",
    "    x = np.array(x)\n",
    "    y = np.array(y)\n",
    "    bar_x = x.mean()\n",
    "    bar_y = y.mean()\n",
    "    sum_xixbar_yiybar = sum((x - bar_x) * (y - bar_y))\n",
    "    sum_xixbar2 = sum((x - bar_x) ** 2)\n",
    "    sum_yiybar2 = sum((y - bar_y) ** 2)\n",
    "\n",
    "    numer = sum_xixbar_yiybar\n",
    "    denom = (sum_xixbar2 * sum_yiybar2) ** (1 / 2)\n",
    "\n",
    "    r = numer / denom if denom != 0 else 0\n",
    "\n",
    "    return r\n",
    "\n",
    "def gradient(x: list, y: list) -> float:\n",
    "    p1 = [x[0], y[0]]\n",
    "    p2 = [x[2], y[2]]\n",
    "\n",
    "    numer = p1[1] - p2[1]\n",
    "    denom = p1[0] - p2[0]\n",
    "\n",
    "    return numer / denom\n",
    "    "
   ]
  },
  {
   "cell_type": "markdown",
   "metadata": {},
   "source": [
    "<center>\n",
    "    <h3>Process</h3>\n",
    "</center>"
   ]
  },
  {
   "cell_type": "markdown",
   "metadata": {},
   "source": [
    "Goals\n",
    "- Try training using binary output (1 & 5) & measure performance on all output (1 to 5)"
   ]
  },
  {
   "cell_type": "code",
   "execution_count": 10,
   "metadata": {},
   "outputs": [],
   "source": [
    "df = pd.read_csv('../data/Amazon_Electronics.csv')"
   ]
  },
  {
   "cell_type": "code",
   "execution_count": 11,
   "metadata": {},
   "outputs": [
    {
     "data": {
      "text/html": [
       "<div>\n",
       "<style scoped>\n",
       "    .dataframe tbody tr th:only-of-type {\n",
       "        vertical-align: middle;\n",
       "    }\n",
       "\n",
       "    .dataframe tbody tr th {\n",
       "        vertical-align: top;\n",
       "    }\n",
       "\n",
       "    .dataframe thead th {\n",
       "        text-align: right;\n",
       "    }\n",
       "</style>\n",
       "<table border=\"1\" class=\"dataframe\">\n",
       "  <thead>\n",
       "    <tr style=\"text-align: right;\">\n",
       "      <th></th>\n",
       "      <th>overall</th>\n",
       "      <th>unixReviewTime</th>\n",
       "    </tr>\n",
       "  </thead>\n",
       "  <tbody>\n",
       "    <tr>\n",
       "      <th>count</th>\n",
       "      <td>2.094154e+07</td>\n",
       "      <td>2.094154e+07</td>\n",
       "    </tr>\n",
       "    <tr>\n",
       "      <th>mean</th>\n",
       "      <td>4.073490e+00</td>\n",
       "      <td>1.425820e+09</td>\n",
       "    </tr>\n",
       "    <tr>\n",
       "      <th>std</th>\n",
       "      <td>1.385862e+00</td>\n",
       "      <td>7.772530e+07</td>\n",
       "    </tr>\n",
       "    <tr>\n",
       "      <th>min</th>\n",
       "      <td>1.000000e+00</td>\n",
       "      <td>8.811936e+08</td>\n",
       "    </tr>\n",
       "    <tr>\n",
       "      <th>25%</th>\n",
       "      <td>4.000000e+00</td>\n",
       "      <td>1.393891e+09</td>\n",
       "    </tr>\n",
       "    <tr>\n",
       "      <th>50%</th>\n",
       "      <td>5.000000e+00</td>\n",
       "      <td>1.440461e+09</td>\n",
       "    </tr>\n",
       "    <tr>\n",
       "      <th>75%</th>\n",
       "      <td>5.000000e+00</td>\n",
       "      <td>1.478563e+09</td>\n",
       "    </tr>\n",
       "    <tr>\n",
       "      <th>max</th>\n",
       "      <td>5.000000e+00</td>\n",
       "      <td>1.538698e+09</td>\n",
       "    </tr>\n",
       "  </tbody>\n",
       "</table>\n",
       "</div>"
      ],
      "text/plain": [
       "            overall  unixReviewTime\n",
       "count  2.094154e+07    2.094154e+07\n",
       "mean   4.073490e+00    1.425820e+09\n",
       "std    1.385862e+00    7.772530e+07\n",
       "min    1.000000e+00    8.811936e+08\n",
       "25%    4.000000e+00    1.393891e+09\n",
       "50%    5.000000e+00    1.440461e+09\n",
       "75%    5.000000e+00    1.478563e+09\n",
       "max    5.000000e+00    1.538698e+09"
      ]
     },
     "execution_count": 11,
     "metadata": {},
     "output_type": "execute_result"
    }
   ],
   "source": [
    "df.describe()"
   ]
  },
  {
   "cell_type": "code",
   "execution_count": 12,
   "metadata": {},
   "outputs": [
    {
     "data": {
      "text/plain": [
       "overall                  0\n",
       "verified                 0\n",
       "reviewTime               0\n",
       "reviewerID               0\n",
       "asin                     0\n",
       "style             10476370\n",
       "reviewerName          2668\n",
       "reviewText            9670\n",
       "summary               4896\n",
       "unixReviewTime           0\n",
       "vote              18254610\n",
       "image             20594419\n",
       "dtype: int64"
      ]
     },
     "execution_count": 12,
     "metadata": {},
     "output_type": "execute_result"
    }
   ],
   "source": [
    "df.isnull().sum()"
   ]
  },
  {
   "cell_type": "code",
   "execution_count": 13,
   "metadata": {},
   "outputs": [
    {
     "data": {
      "text/plain": [
       "<AxesSubplot:xlabel='overall'>"
      ]
     },
     "execution_count": 13,
     "metadata": {},
     "output_type": "execute_result"
    },
    {
     "data": {
      "image/png": "[encoded data removed]",
      "text/plain": [
       "<Figure size 432x288 with 1 Axes>"
      ]
     },
     "metadata": {
      "needs_background": "light"
     },
     "output_type": "display_data"
    }
   ],
   "source": [
    "sns.boxplot(df['overall'])"
   ]
  },
  {
   "cell_type": "code",
   "execution_count": 14,
   "metadata": {},
   "outputs": [
    {
     "data": {
      "text/plain": [
       "<AxesSubplot:xlabel='overall', ylabel='Count'>"
      ]
     },
     "execution_count": 14,
     "metadata": {},
     "output_type": "execute_result"
    },
    {
     "data": {
      "image/png": "[encoded data removed]",
      "text/plain": [
       "<Figure size 432x288 with 1 Axes>"
      ]
     },
     "metadata": {
      "needs_background": "light"
     },
     "output_type": "display_data"
    }
   ],
   "source": [
    "sns.histplot(df['overall'])"
   ]
  },
  {
   "cell_type": "code",
   "execution_count": 28,
   "metadata": {},
   "outputs": [
    {
     "data": {
      "text/html": [
       "<div>\n",
       "<style scoped>\n",
       "    .dataframe tbody tr th:only-of-type {\n",
       "        vertical-align: middle;\n",
       "    }\n",
       "\n",
       "    .dataframe tbody tr th {\n",
       "        vertical-align: top;\n",
       "    }\n",
       "\n",
       "    .dataframe thead th {\n",
       "        text-align: right;\n",
       "    }\n",
       "</style>\n",
       "<table border=\"1\" class=\"dataframe\">\n",
       "  <thead>\n",
       "    <tr style=\"text-align: right;\">\n",
       "      <th></th>\n",
       "      <th>reviewText</th>\n",
       "      <th>overall</th>\n",
       "    </tr>\n",
       "  </thead>\n",
       "  <tbody>\n",
       "    <tr>\n",
       "      <th>0</th>\n",
       "      <td>This was the first time I read Garcia-Aguilera...</td>\n",
       "      <td>5</td>\n",
       "    </tr>\n",
       "    <tr>\n",
       "      <th>1</th>\n",
       "      <td>As with all of Ms. Garcia-Aguilera's books, I ...</td>\n",
       "      <td>5</td>\n",
       "    </tr>\n",
       "    <tr>\n",
       "      <th>2</th>\n",
       "      <td>I've not read any of Ms Aguilera's works befor...</td>\n",
       "      <td>5</td>\n",
       "    </tr>\n",
       "    <tr>\n",
       "      <th>3</th>\n",
       "      <td>This romance novel is right up there with the ...</td>\n",
       "      <td>4</td>\n",
       "    </tr>\n",
       "    <tr>\n",
       "      <th>4</th>\n",
       "      <td>Carolina Garcia Aguilera has done it again.  S...</td>\n",
       "      <td>5</td>\n",
       "    </tr>\n",
       "  </tbody>\n",
       "</table>\n",
       "</div>"
      ],
      "text/plain": [
       "                                          reviewText  overall\n",
       "0  This was the first time I read Garcia-Aguilera...        5\n",
       "1  As with all of Ms. Garcia-Aguilera's books, I ...        5\n",
       "2  I've not read any of Ms Aguilera's works befor...        5\n",
       "3  This romance novel is right up there with the ...        4\n",
       "4  Carolina Garcia Aguilera has done it again.  S...        5"
      ]
     },
     "execution_count": 28,
     "metadata": {},
     "output_type": "execute_result"
    }
   ],
   "source": [
    "dfdata = df[['reviewText', 'overall']]\n",
    "dfdata.head()"
   ]
  },
  {
   "cell_type": "code",
   "execution_count": 29,
   "metadata": {},
   "outputs": [
    {
     "data": {
      "text/plain": [
       "reviewText    9670\n",
       "overall          0\n",
       "dtype: int64"
      ]
     },
     "execution_count": 29,
     "metadata": {},
     "output_type": "execute_result"
    }
   ],
   "source": [
    "dfdata.isnull().sum()"
   ]
  },
  {
   "cell_type": "code",
   "execution_count": 30,
   "metadata": {},
   "outputs": [],
   "source": [
    "dfdata = dfdata[(~dfdata.isnull().any(axis=1)) & (dfdata.reviewText.apply(lambda x: str(x).strip() != \"\"))]"
   ]
  },
  {
   "cell_type": "code",
   "execution_count": 31,
   "metadata": {},
   "outputs": [
    {
     "data": {
      "text/plain": [
       "reviewText    0\n",
       "overall       0\n",
       "dtype: int64"
      ]
     },
     "execution_count": 31,
     "metadata": {},
     "output_type": "execute_result"
    }
   ],
   "source": [
    "dfdata.isnull().sum()"
   ]
  },
  {
   "cell_type": "code",
   "execution_count": 35,
   "metadata": {},
   "outputs": [],
   "source": [
    "target_n = 500 * 1000\n",
    "dfdataMain, _ = train_test_split(dfdata, train_size=target_n / dfdata.shape[0], stratify=dfdata['overall'], random_state=123)"
   ]
  },
  {
   "cell_type": "code",
   "execution_count": 36,
   "metadata": {},
   "outputs": [
    {
     "data": {
      "text/plain": [
       "(500000, 2)"
      ]
     },
     "execution_count": 36,
     "metadata": {},
     "output_type": "execute_result"
    }
   ],
   "source": [
    "dfdataMain.shape"
   ]
  },
  {
   "cell_type": "code",
   "execution_count": 38,
   "metadata": {},
   "outputs": [],
   "source": [
    "# for training & testing\n",
    "target_n = 480 * 1000\n",
    "dfdataTrain, dfdataTest = train_test_split(dfdataMain, train_size=target_n / dfdataMain.shape[0], stratify=dfdataMain['overall'], random_state=123)"
   ]
  },
  {
   "cell_type": "code",
   "execution_count": 39,
   "metadata": {},
   "outputs": [],
   "source": [
    "# for validation\n",
    "target_n = 48 * 1000\n",
    "dfdataValid, dfdataTrainSub = train_test_split(dfdataTrain, train_size=target_n / dfdataTrain.shape[0], stratify=dfdataTrain['overall'], random_state=123)"
   ]
  },
  {
   "cell_type": "code",
   "execution_count": 40,
   "metadata": {},
   "outputs": [],
   "source": [
    "# for validation training & testing\n",
    "target_n = 45 * 1000\n",
    "dfdataValidTrain, dfdataValidTest = train_test_split(dfdataValid, train_size=target_n / dfdataValid.shape[0], stratify=dfdataValid['overall'], random_state=123)"
   ]
  },
  {
   "cell_type": "code",
   "execution_count": 42,
   "metadata": {},
   "outputs": [],
   "source": [
    "# update the dataset for training, to only use 1 & 5 as output\n",
    "dfdataTrain = dfdataTrain[dfdataTrain['overall'].apply(lambda x: x in (1, 5))]\n",
    "dfdataTrainSub = dfdataTrainSub[dfdataTrainSub['overall'].apply(lambda x: x in (1, 5))]\n",
    "dfdataValidTrain = dfdataValidTrain[dfdataValidTrain['overall'].apply(lambda x: x in (1, 5))]"
   ]
  },
  {
   "cell_type": "code",
   "execution_count": 48,
   "metadata": {},
   "outputs": [
    {
     "name": "stdout",
     "output_type": "stream",
     "text": [
      "71.52395833333334\n",
      "71.52407407407408\n",
      "71.52444444444444\n"
     ]
    }
   ],
   "source": [
    "print((dfdataTrain.shape[0]/480000) * 100)\n",
    "print((dfdataTrainSub.shape[0]/432000) * 100)\n",
    "print((dfdataValidTrain.shape[0]/45000) * 100)"
   ]
  },
  {
   "cell_type": "code",
   "execution_count": 61,
   "metadata": {},
   "outputs": [
    {
     "data": {
      "text/plain": [
       "<AxesSubplot:xlabel='overall', ylabel='Count'>"
      ]
     },
     "execution_count": 61,
     "metadata": {},
     "output_type": "execute_result"
    },
    {
     "data": {
      "image/png": "[encoded data removed]",
      "text/plain": [
       "<Figure size 1080x504 with 3 Axes>"
      ]
     },
     "metadata": {
      "needs_background": "light"
     },
     "output_type": "display_data"
    }
   ],
   "source": [
    "fig, axes = plt.subplots(figsize=(15,7), nrows=1, ncols=3)\n",
    "sns.histplot(dfdataTrain['overall'], ax=axes[0])\n",
    "sns.histplot(dfdataTrainSub['overall'], ax=axes[1])\n",
    "sns.histplot(dfdataValidTrain['overall'], ax=axes[2])"
   ]
  },
  {
   "cell_type": "code",
   "execution_count": 62,
   "metadata": {},
   "outputs": [
    {
     "data": {
      "text/plain": [
       "238187138"
      ]
     },
     "execution_count": 62,
     "metadata": {},
     "output_type": "execute_result"
    }
   ],
   "source": [
    "statistics.variance(dfdataValidTrain.groupby(by=['overall'])['overall'].count().values)"
   ]
  },
  {
   "cell_type": "code",
   "execution_count": 63,
   "metadata": {},
   "outputs": [],
   "source": [
    "# validation for processing"
   ]
  },
  {
   "cell_type": "code",
   "execution_count": 64,
   "metadata": {},
   "outputs": [],
   "source": [
    "# upsampling minority group for validation training\n",
    "if statistics.variance(dfdataValidTrain.groupby(by=['overall'])['overall'].count().values) >= 10 * 1000:\n",
    "    dfdataValidTrain = balancing_upsampling(dfdataValidTrain)"
   ]
  },
  {
   "cell_type": "code",
   "execution_count": 65,
   "metadata": {},
   "outputs": [
    {
     "data": {
      "text/plain": [
       "<AxesSubplot:xlabel='overall', ylabel='Count'>"
      ]
     },
     "execution_count": 65,
     "metadata": {},
     "output_type": "execute_result"
    },
    {
     "data": {
      "image/png": "[encoded data removed]",
      "text/plain": [
       "<Figure size 432x288 with 1 Axes>"
      ]
     },
     "metadata": {
      "needs_background": "light"
     },
     "output_type": "display_data"
    }
   ],
   "source": [
    "# sample resulf of sampling\n",
    "sns.histplot(dfdataValidTrain['overall'])"
   ]
  },
  {
   "cell_type": "code",
   "execution_count": 66,
   "metadata": {},
   "outputs": [
    {
     "data": {
      "text/plain": [
       "0"
      ]
     },
     "execution_count": 66,
     "metadata": {},
     "output_type": "execute_result"
    }
   ],
   "source": [
    "statistics.variance(dfdataValidTrain.groupby(by=['overall'])['overall'].count().values)"
   ]
  },
  {
   "cell_type": "code",
   "execution_count": 67,
   "metadata": {},
   "outputs": [],
   "source": [
    "mlp_model = MLPClassifier(verbose=True, early_stopping=True, tol=1e-5)"
   ]
  },
  {
   "cell_type": "code",
   "execution_count": 70,
   "metadata": {},
   "outputs": [
    {
     "name": "stdout",
     "output_type": "stream",
     "text": [
      "Iteration 1, loss = 0.58649740\n",
      "Validation score: 0.874743\n",
      "Iteration 2, loss = 0.29907426\n",
      "Validation score: 0.903491\n",
      "Iteration 3, loss = 0.17128245\n",
      "Validation score: 0.901437\n",
      "Iteration 4, loss = 0.10971423\n",
      "Validation score: 0.899384\n",
      "Iteration 5, loss = 0.07596988\n",
      "Validation score: 0.895277\n",
      "Iteration 6, loss = 0.05564607\n",
      "Validation score: 0.901437\n",
      "Iteration 7, loss = 0.04234824\n",
      "Validation score: 0.901437\n",
      "Iteration 8, loss = 0.03325580\n",
      "Validation score: 0.899384\n",
      "Iteration 9, loss = 0.02679484\n",
      "Validation score: 0.901437\n",
      "Iteration 10, loss = 0.02206464\n",
      "Validation score: 0.901437\n",
      "Iteration 11, loss = 0.01839779\n",
      "Validation score: 0.905544\n",
      "Iteration 12, loss = 0.01559822\n",
      "Validation score: 0.899384\n",
      "Iteration 13, loss = 0.01342089\n",
      "Validation score: 0.901437\n",
      "Iteration 14, loss = 0.01163802\n",
      "Validation score: 0.901437\n",
      "Iteration 15, loss = 0.01021337\n",
      "Validation score: 0.901437\n",
      "Iteration 16, loss = 0.00903463\n",
      "Validation score: 0.901437\n",
      "Iteration 17, loss = 0.00803718\n",
      "Validation score: 0.901437\n",
      "Iteration 18, loss = 0.00723074\n",
      "Validation score: 0.901437\n",
      "Iteration 19, loss = 0.00652100\n",
      "Validation score: 0.901437\n",
      "Iteration 20, loss = 0.00590355\n",
      "Validation score: 0.901437\n",
      "Iteration 21, loss = 0.00538214\n",
      "Validation score: 0.901437\n",
      "Iteration 22, loss = 0.00492930\n",
      "Validation score: 0.901437\n",
      "Validation score did not improve more than tol=0.000010 for 10 consecutive epochs. Stopping.\n",
      "Iteration 1, loss = 0.46879654\n",
      "Validation score: 0.913669\n",
      "Iteration 2, loss = 0.17525986\n",
      "Validation score: 0.929085\n",
      "Iteration 3, loss = 0.08948552\n",
      "Validation score: 0.937307\n",
      "Iteration 4, loss = 0.05353528\n",
      "Validation score: 0.932169\n",
      "Iteration 5, loss = 0.03599691\n",
      "Validation score: 0.935252\n",
      "Iteration 6, loss = 0.02575539\n",
      "Validation score: 0.931141\n",
      "Iteration 1, loss = 0.42176603\n",
      "Validation score: 0.945168\n",
      "Iteration 2, loss = 0.13795644\n",
      "Validation score: 0.947910\n",
      "Iteration 3, loss = 0.06743862\n",
      "Validation score: 0.951337\n",
      "Iteration 4, loss = 0.04003786\n",
      "Validation score: 0.955449\n",
      "Iteration 5, loss = 0.02663865\n",
      "Validation score: 0.951337\n",
      "Iteration 6, loss = 0.01907124\n",
      "Validation score: 0.951337\n",
      "Iteration 7, loss = 0.01428096\n",
      "Validation score: 0.949966\n",
      "Iteration 8, loss = 0.01120799\n",
      "Validation score: 0.948595\n",
      "Iteration 9, loss = 0.00899938\n",
      "Validation score: 0.950651\n",
      "Iteration 10, loss = 0.00742201\n",
      "Validation score: 0.945853\n",
      "Iteration 11, loss = 0.00626036\n",
      "Validation score: 0.949280\n",
      "Iteration 12, loss = 0.00537451\n",
      "Validation score: 0.943797\n",
      "Iteration 13, loss = 0.00467817\n",
      "Validation score: 0.947910\n",
      "Iteration 14, loss = 0.00412684\n",
      "Validation score: 0.945853\n",
      "Iteration 15, loss = 0.00366558\n",
      "Validation score: 0.948595\n",
      "Validation score did not improve more than tol=0.000010 for 10 consecutive epochs. Stopping.\n",
      "Iteration 1, loss = 0.36084703\n",
      "Validation score: 0.947558\n",
      "Iteration 2, loss = 0.10696619\n",
      "Validation score: 0.960411\n",
      "Iteration 3, loss = 0.05117729\n",
      "Validation score: 0.964010\n",
      "Iteration 4, loss = 0.02990115\n",
      "Validation score: 0.970180\n",
      "Iteration 5, loss = 0.01960487\n",
      "Validation score: 0.968638\n",
      "Iteration 6, loss = 0.01388103\n",
      "Validation score: 0.968123\n",
      "Iteration 7, loss = 0.01039340\n",
      "Validation score: 0.965553\n",
      "Iteration 8, loss = 0.00810341\n",
      "Validation score: 0.964524\n",
      "Iteration 9, loss = 0.00655278\n",
      "Validation score: 0.964524\n",
      "Iteration 10, loss = 0.00542566\n",
      "Validation score: 0.964524\n",
      "Iteration 11, loss = 0.00460057\n",
      "Validation score: 0.962468\n",
      "Iteration 12, loss = 0.00396181\n",
      "Validation score: 0.963496\n",
      "Iteration 13, loss = 0.00348315\n",
      "Validation score: 0.962468\n",
      "Iteration 14, loss = 0.00310993\n",
      "Validation score: 0.960925\n",
      "Iteration 15, loss = 0.00280096\n",
      "Validation score: 0.962468\n",
      "Validation score did not improve more than tol=0.000010 for 10 consecutive epochs. Stopping.\n",
      "Iteration 1, loss = 0.34714292\n",
      "Validation score: 0.953106\n",
      "Iteration 2, loss = 0.09560463\n",
      "Validation score: 0.966269\n",
      "Iteration 3, loss = 0.04362838\n",
      "Validation score: 0.971205\n",
      "Iteration 4, loss = 0.02489159\n",
      "Validation score: 0.967503\n",
      "Iteration 5, loss = 0.01583502\n",
      "Validation score: 0.967092\n",
      "Iteration 6, loss = 0.01096641\n",
      "Validation score: 0.967914\n",
      "Iteration 7, loss = 0.00807060\n",
      "Validation score: 0.966680\n",
      "Iteration 8, loss = 0.00626247\n",
      "Validation score: 0.966680\n",
      "Iteration 9, loss = 0.00507069\n",
      "Validation score: 0.967092\n",
      "Iteration 10, loss = 0.00419015\n",
      "Validation score: 0.965858\n",
      "Iteration 11, loss = 0.00356235\n",
      "Validation score: 0.965446\n",
      "Iteration 12, loss = 0.00308685\n",
      "Validation score: 0.966269\n",
      "Iteration 13, loss = 0.00272376\n",
      "Validation score: 0.966269\n",
      "Iteration 14, loss = 0.00242965\n",
      "Validation score: 0.965446\n",
      "Validation score did not improve more than tol=0.000010 for 10 consecutive epochs. Stopping.\n",
      "Iteration 1, loss = 0.30650214\n",
      "Validation score: 0.958176\n",
      "Iteration 2, loss = 0.08400746\n",
      "Validation score: 0.967775\n",
      "Iteration 3, loss = 0.03947315\n",
      "Validation score: 0.971546\n",
      "Iteration 4, loss = 0.02226445\n",
      "Validation score: 0.970175\n",
      "Iteration 5, loss = 0.01456530\n",
      "Validation score: 0.970860\n",
      "Iteration 6, loss = 0.01041994\n",
      "Validation score: 0.971889\n",
      "Iteration 7, loss = 0.00792520\n",
      "Validation score: 0.970518\n",
      "Iteration 8, loss = 0.00623229\n",
      "Validation score: 0.971203\n",
      "Iteration 9, loss = 0.00508217\n",
      "Validation score: 0.969832\n",
      "Iteration 10, loss = 0.00423771\n",
      "Validation score: 0.970175\n",
      "Iteration 11, loss = 0.00364461\n",
      "Validation score: 0.969832\n",
      "Iteration 12, loss = 0.00318345\n",
      "Validation score: 0.969489\n",
      "Iteration 13, loss = 0.00284582\n",
      "Validation score: 0.969832\n",
      "Iteration 14, loss = 0.00256858\n",
      "Validation score: 0.969146\n",
      "Iteration 15, loss = 0.00235169\n",
      "Validation score: 0.967775\n",
      "Iteration 16, loss = 0.00218044\n",
      "Validation score: 0.969489\n",
      "Iteration 17, loss = 0.00204318\n",
      "Validation score: 0.968804\n",
      "Validation score did not improve more than tol=0.000010 for 10 consecutive epochs. Stopping.\n",
      "Iteration 1, loss = 0.28170060\n",
      "Validation score: 0.966500\n",
      "Iteration 2, loss = 0.07096982\n",
      "Validation score: 0.972671\n",
      "Iteration 3, loss = 0.03134047\n",
      "Validation score: 0.976491\n",
      "Iteration 4, loss = 0.01743011\n",
      "Validation score: 0.974728\n",
      "Iteration 5, loss = 0.01138042\n",
      "Validation score: 0.974434\n",
      "Iteration 6, loss = 0.00814611\n",
      "Validation score: 0.974140\n",
      "Iteration 7, loss = 0.00611787\n",
      "Validation score: 0.974140\n",
      "Iteration 8, loss = 0.00487499\n",
      "Validation score: 0.973553\n",
      "Iteration 9, loss = 0.00399988\n",
      "Validation score: 0.973847\n",
      "Iteration 10, loss = 0.00338545\n",
      "Validation score: 0.972965\n",
      "Iteration 11, loss = 0.00293136\n",
      "Validation score: 0.972671\n",
      "Iteration 12, loss = 0.00260723\n",
      "Validation score: 0.972377\n",
      "Iteration 13, loss = 0.00236174\n",
      "Validation score: 0.972671\n",
      "Iteration 14, loss = 0.00220220\n",
      "Validation score: 0.971496\n",
      "Validation score did not improve more than tol=0.000010 for 10 consecutive epochs. Stopping.\n",
      "Iteration 1, loss = 0.28239285\n",
      "Validation score: 0.969152\n",
      "Iteration 2, loss = 0.06919633\n",
      "Validation score: 0.977892\n",
      "Iteration 3, loss = 0.03153495\n",
      "Validation score: 0.980206\n",
      "Iteration 4, loss = 0.01798147\n",
      "Validation score: 0.981491\n",
      "Iteration 5, loss = 0.01181887\n",
      "Validation score: 0.980977\n",
      "Iteration 6, loss = 0.00845588\n",
      "Validation score: 0.979692\n",
      "Iteration 7, loss = 0.00641615\n",
      "Validation score: 0.980206\n",
      "Iteration 8, loss = 0.00514050\n",
      "Validation score: 0.979692\n",
      "Iteration 9, loss = 0.01314937\n",
      "Validation score: 0.976350\n",
      "Iteration 10, loss = 0.01844152\n",
      "Validation score: 0.979692\n",
      "Iteration 11, loss = 0.00793863\n",
      "Validation score: 0.978406\n",
      "Iteration 12, loss = 0.00834513\n",
      "Validation score: 0.978406\n",
      "Iteration 13, loss = 0.00420482\n",
      "Validation score: 0.979949\n",
      "Iteration 14, loss = 0.00360767\n",
      "Validation score: 0.979177\n",
      "Iteration 15, loss = 0.00325095\n",
      "Validation score: 0.980206\n",
      "Validation score did not improve more than tol=0.000010 for 10 consecutive epochs. Stopping.\n",
      "Iteration 1, loss = 0.25572292\n",
      "Validation score: 0.971207\n",
      "Iteration 2, loss = 0.05782668\n",
      "Validation score: 0.987203\n",
      "Iteration 3, loss = 0.02497773\n",
      "Validation score: 0.986517\n",
      "Iteration 4, loss = 0.01399861\n",
      "Validation score: 0.986060\n",
      "Iteration 5, loss = 0.00916033\n",
      "Validation score: 0.987660\n",
      "Iteration 6, loss = 0.00654438\n",
      "Validation score: 0.984689\n",
      "Iteration 7, loss = 0.00500813\n",
      "Validation score: 0.985375\n",
      "Iteration 8, loss = 0.00404122\n",
      "Validation score: 0.985375\n",
      "Iteration 9, loss = 0.00340118\n",
      "Validation score: 0.984689\n",
      "Iteration 10, loss = 0.00295802\n",
      "Validation score: 0.985375\n",
      "Iteration 11, loss = 0.00259874\n",
      "Validation score: 0.983775\n",
      "Iteration 12, loss = 0.00234652\n",
      "Validation score: 0.983318\n",
      "Iteration 13, loss = 0.00215835\n",
      "Validation score: 0.983775\n",
      "Iteration 14, loss = 0.00202708\n",
      "Validation score: 0.983318\n",
      "Iteration 15, loss = 0.00190285\n",
      "Validation score: 0.983090\n",
      "Iteration 16, loss = 0.00180442\n",
      "Validation score: 0.983090\n",
      "Validation score did not improve more than tol=0.000010 for 10 consecutive epochs. Stopping.\n",
      "Iteration 1, loss = 0.23635583\n",
      "Validation score: 0.975725\n",
      "Iteration 2, loss = 0.05017046\n",
      "Validation score: 0.979428\n",
      "Iteration 3, loss = 0.02223680\n",
      "Validation score: 0.981691\n",
      "Iteration 4, loss = 0.01262874\n",
      "Validation score: 0.979840\n",
      "Iteration 5, loss = 0.00835707\n",
      "Validation score: 0.980251\n",
      "Iteration 6, loss = 0.00593353\n",
      "Validation score: 0.981691\n",
      "Iteration 7, loss = 0.00459551\n",
      "Validation score: 0.980457\n",
      "Iteration 8, loss = 0.00374385\n",
      "Validation score: 0.978194\n",
      "Iteration 9, loss = 0.00314395\n",
      "Validation score: 0.978400\n",
      "Iteration 10, loss = 0.00271681\n",
      "Validation score: 0.978811\n",
      "Iteration 11, loss = 0.00241941\n",
      "Validation score: 0.978605\n",
      "Iteration 12, loss = 0.00219876\n",
      "Validation score: 0.977782\n",
      "Iteration 13, loss = 0.00203784\n",
      "Validation score: 0.978400\n",
      "Iteration 14, loss = 0.00192872\n",
      "Validation score: 0.977165\n",
      "Validation score did not improve more than tol=0.000010 for 10 consecutive epochs. Stopping.\n",
      "Correlation last 3: 0.9607\n",
      "Gradient last 3: 0.0020\n"
     ]
    },
    {
     "data": {
      "image/png": "[encoded data removed]",
      "text/plain": [
       "<Figure size 1080x576 with 1 Axes>"
      ]
     },
     "metadata": {
      "needs_background": "light"
     },
     "output_type": "display_data"
    }
   ],
   "source": [
    "def pipeline(txt: str) -> str:\n",
    "    txt = pipe_cleaningText(txt)\n",
    "    txt = pipe_addPos(txt)\n",
    "    txt = pipe_normalized(txt, 5, tokenized=True)\n",
    "    return txt\n",
    "\n",
    "tdf1 = dfdataValidTrain.copy()\n",
    "tdf2 = dfdataValidTest.copy()\n",
    "tdf1['reviewText'] = tdf1['reviewText'].apply(lambda x: pipeline(x))\n",
    "tdf2['reviewText'] = tdf2['reviewText'].apply(lambda x: pipeline(x))\n",
    "xArr, featureModel = feature_bowUni(tdf1['reviewText'])\n",
    "yArr = tdf1['overall'].to_numpy()\n",
    "testXArr, testYArr = featureModel.transform(tdf2['reviewText']), tdf2['overall'].to_numpy()\n",
    "result = loop_testing(mlp_model, 10, xArr, yArr, testXArr, testYArr)\n",
    "print(\"Correlation last 3: {:.4f}\".format(correlation(list(result.keys())[-3:], [x[2] for x in result.values()][-3:])))\n",
    "print(\"Gradient last 3: {:.4f}\".format(gradient(range(1, 4), [x[2] for x in result.values()][-3:])))\n",
    "visualized_loopTesting(result)"
   ]
  },
  {
   "cell_type": "code",
   "execution_count": 74,
   "metadata": {},
   "outputs": [
    {
     "data": {
      "text/plain": [
       "18203098    i__NN__1 bought__VBD__1 the__DT__1 square__NN_...\n",
       "4261385     this__DT__1 unit__NN__1 has__VBZ__1 both__DT__...\n",
       "19291915    tedious__JJ__1 installation__NN__1 ,__,__1 dul...\n",
       "Name: reviewText, dtype: object"
      ]
     },
     "execution_count": 74,
     "metadata": {},
     "output_type": "execute_result"
    }
   ],
   "source": []
  },
  {
   "cell_type": "code",
   "execution_count": 83,
   "metadata": {},
   "outputs": [
    {
     "data": {
      "text/plain": [
       "array([[0, 0, 0, ..., 0, 0, 0]], dtype=int64)"
      ]
     },
     "execution_count": 83,
     "metadata": {},
     "output_type": "execute_result"
    }
   ],
   "source": [
    "testXArr[:4][0].toarray()"
   ]
  },
  {
   "cell_type": "code",
   "execution_count": 93,
   "metadata": {},
   "outputs": [
    {
     "data": {
      "text/plain": [
       "array([0.99997833, 0.98089782, 0.52083078, 0.9996048 ])"
      ]
     },
     "execution_count": 93,
     "metadata": {},
     "output_type": "execute_result"
    }
   ],
   "source": [
    "mlp_model.predict_proba(testXArr[:4])[:,1]"
   ]
  },
  {
   "cell_type": "code",
   "execution_count": 92,
   "metadata": {},
   "outputs": [
    {
     "data": {
      "text/plain": [
       "array([5., 5., 3., 5.])"
      ]
     },
     "execution_count": 92,
     "metadata": {},
     "output_type": "execute_result"
    }
   ],
   "source": [
    "(mlp_model.predict_proba(testXArr[:4])[:,1]//0.2) + 1"
   ]
  },
  {
   "cell_type": "code",
   "execution_count": 84,
   "metadata": {},
   "outputs": [
    {
     "data": {
      "text/plain": [
       "array([5, 5, 5, 5], dtype=int64)"
      ]
     },
     "execution_count": 84,
     "metadata": {},
     "output_type": "execute_result"
    }
   ],
   "source": [
    "mlp_model.predict(testXArr[:4])"
   ]
  },
  {
   "cell_type": "code",
   "execution_count": 96,
   "metadata": {},
   "outputs": [
    {
     "data": {
      "text/plain": [
       "(3000, 88084)"
      ]
     },
     "execution_count": 96,
     "metadata": {},
     "output_type": "execute_result"
    }
   ],
   "source": [
    "testXArr.shape"
   ]
  },
  {
   "cell_type": "code",
   "execution_count": 97,
   "metadata": {},
   "outputs": [
    {
     "data": {
      "text/plain": [
       "(3000,)"
      ]
     },
     "execution_count": 97,
     "metadata": {},
     "output_type": "execute_result"
    }
   ],
   "source": [
    "testYArr.shape"
   ]
  },
  {
   "cell_type": "code",
   "execution_count": 102,
   "metadata": {},
   "outputs": [
    {
     "data": {
      "text/plain": [
       "{1, 2, 3, 4, 5}"
      ]
     },
     "execution_count": 102,
     "metadata": {},
     "output_type": "execute_result"
    }
   ],
   "source": [
    "set(testYArr)"
   ]
  },
  {
   "cell_type": "code",
   "execution_count": null,
   "metadata": {},
   "outputs": [],
   "source": [
    "set(mlp_model.predict(testXArr))"
   ]
  },
  {
   "cell_type": "code",
   "execution_count": 103,
   "metadata": {},
   "outputs": [
    {
     "ename": "TypeError",
     "evalue": "ufunc 'isnan' not supported for the input types, and the inputs could not be safely coerced to any supported types according to the casting rule ''safe''",
     "output_type": "error",
     "traceback": [
      "\u001b[1;31m---------------------------------------------------------------------------\u001b[0m",
      "\u001b[1;31mTypeError\u001b[0m                                 Traceback (most recent call last)",
      "\u001b[1;32md:\\Dropbox\\Project\\LegitProject\\SubjectSentimentModelling\\exploring\\exploring4.ipynb Cell 40\u001b[0m in \u001b[0;36m<cell line: 2>\u001b[1;34m()\u001b[0m\n\u001b[0;32m      <a href='vscode-notebook-cell:/d%3A/Dropbox/Project/LegitProject/SubjectSentimentModelling/exploring/exploring4.ipynb#X65sZmlsZQ%3D%3D?line=0'>1</a>\u001b[0m yHat \u001b[39m=\u001b[39m (mlp_model\u001b[39m.\u001b[39mpredict_proba(testXArr)[:,\u001b[39m1\u001b[39m]\u001b[39m/\u001b[39m\u001b[39m/\u001b[39m\u001b[39m0.2\u001b[39m) \u001b[39m+\u001b[39m \u001b[39m1\u001b[39m\n\u001b[1;32m----> <a href='vscode-notebook-cell:/d%3A/Dropbox/Project/LegitProject/SubjectSentimentModelling/exploring/exploring4.ipynb#X65sZmlsZQ%3D%3D?line=1'>2</a>\u001b[0m show_result(yHat, testYArr)\n",
      "\u001b[1;32md:\\Dropbox\\Project\\LegitProject\\SubjectSentimentModelling\\exploring\\exploring4.ipynb Cell 40\u001b[0m in \u001b[0;36mshow_result\u001b[1;34m(ypred, ytarget)\u001b[0m\n\u001b[0;32m    <a href='vscode-notebook-cell:/d%3A/Dropbox/Project/LegitProject/SubjectSentimentModelling/exploring/exploring4.ipynb#X65sZmlsZQ%3D%3D?line=124'>125</a>\u001b[0m \u001b[39mdef\u001b[39;00m \u001b[39mshow_result\u001b[39m(ypred: np\u001b[39m.\u001b[39marray, ytarget: np\u001b[39m.\u001b[39marray) \u001b[39m-\u001b[39m\u001b[39m>\u001b[39m \u001b[39mNone\u001b[39;00m:\n\u001b[0;32m    <a href='vscode-notebook-cell:/d%3A/Dropbox/Project/LegitProject/SubjectSentimentModelling/exploring/exploring4.ipynb#X65sZmlsZQ%3D%3D?line=125'>126</a>\u001b[0m     label \u001b[39m=\u001b[39m [\u001b[39m'\u001b[39m\u001b[39mPositive\u001b[39m\u001b[39m'\u001b[39m, \u001b[39m'\u001b[39m\u001b[39mNeutral\u001b[39m\u001b[39m'\u001b[39m, \u001b[39m'\u001b[39m\u001b[39mNegative\u001b[39m\u001b[39m'\u001b[39m]\n\u001b[1;32m--> <a href='vscode-notebook-cell:/d%3A/Dropbox/Project/LegitProject/SubjectSentimentModelling/exploring/exploring4.ipynb#X65sZmlsZQ%3D%3D?line=126'>127</a>\u001b[0m     report \u001b[39m=\u001b[39m classification_report(ypred, ytarget, labels\u001b[39m=\u001b[39;49mlabel)\n\u001b[0;32m    <a href='vscode-notebook-cell:/d%3A/Dropbox/Project/LegitProject/SubjectSentimentModelling/exploring/exploring4.ipynb#X65sZmlsZQ%3D%3D?line=127'>128</a>\u001b[0m     conf_matrix \u001b[39m=\u001b[39m confusion_matrix(ypred, ytarget, labels\u001b[39m=\u001b[39mlabel)\n\u001b[0;32m    <a href='vscode-notebook-cell:/d%3A/Dropbox/Project/LegitProject/SubjectSentimentModelling/exploring/exploring4.ipynb#X65sZmlsZQ%3D%3D?line=129'>130</a>\u001b[0m     group_names \u001b[39m=\u001b[39m [\u001b[39m'\u001b[39m\u001b[39mTrue Pos\u001b[39m\u001b[39m'\u001b[39m, \u001b[39m'\u001b[39m\u001b[39mFalse Neu\u001b[39m\u001b[39m'\u001b[39m, \u001b[39m'\u001b[39m\u001b[39mFalse Neg\u001b[39m\u001b[39m'\u001b[39m,\n\u001b[0;32m    <a href='vscode-notebook-cell:/d%3A/Dropbox/Project/LegitProject/SubjectSentimentModelling/exploring/exploring4.ipynb#X65sZmlsZQ%3D%3D?line=130'>131</a>\u001b[0m                    \u001b[39m'\u001b[39m\u001b[39mFalse Pos\u001b[39m\u001b[39m'\u001b[39m, \u001b[39m'\u001b[39m\u001b[39mTrue Neu\u001b[39m\u001b[39m'\u001b[39m, \u001b[39m'\u001b[39m\u001b[39mFalse Neg\u001b[39m\u001b[39m'\u001b[39m,\n\u001b[0;32m    <a href='vscode-notebook-cell:/d%3A/Dropbox/Project/LegitProject/SubjectSentimentModelling/exploring/exploring4.ipynb#X65sZmlsZQ%3D%3D?line=131'>132</a>\u001b[0m                    \u001b[39m'\u001b[39m\u001b[39mFalse Pos\u001b[39m\u001b[39m'\u001b[39m, \u001b[39m'\u001b[39m\u001b[39mFalse Neu\u001b[39m\u001b[39m'\u001b[39m, \u001b[39m'\u001b[39m\u001b[39mTrue Neg\u001b[39m\u001b[39m'\u001b[39m]\n",
      "File \u001b[1;32md:\\Dropbox\\Project\\LegitProject\\SubjectSentimentModelling\\env\\lib\\site-packages\\sklearn\\metrics\\_classification.py:2157\u001b[0m, in \u001b[0;36mclassification_report\u001b[1;34m(y_true, y_pred, labels, target_names, sample_weight, digits, output_dict, zero_division)\u001b[0m\n\u001b[0;32m   2155\u001b[0m headers \u001b[39m=\u001b[39m [\u001b[39m\"\u001b[39m\u001b[39mprecision\u001b[39m\u001b[39m\"\u001b[39m, \u001b[39m\"\u001b[39m\u001b[39mrecall\u001b[39m\u001b[39m\"\u001b[39m, \u001b[39m\"\u001b[39m\u001b[39mf1-score\u001b[39m\u001b[39m\"\u001b[39m, \u001b[39m\"\u001b[39m\u001b[39msupport\u001b[39m\u001b[39m\"\u001b[39m]\n\u001b[0;32m   2156\u001b[0m \u001b[39m# compute per-class results without averaging\u001b[39;00m\n\u001b[1;32m-> 2157\u001b[0m p, r, f1, s \u001b[39m=\u001b[39m precision_recall_fscore_support(\n\u001b[0;32m   2158\u001b[0m     y_true,\n\u001b[0;32m   2159\u001b[0m     y_pred,\n\u001b[0;32m   2160\u001b[0m     labels\u001b[39m=\u001b[39;49mlabels,\n\u001b[0;32m   2161\u001b[0m     average\u001b[39m=\u001b[39;49m\u001b[39mNone\u001b[39;49;00m,\n\u001b[0;32m   2162\u001b[0m     sample_weight\u001b[39m=\u001b[39;49msample_weight,\n\u001b[0;32m   2163\u001b[0m     zero_division\u001b[39m=\u001b[39;49mzero_division,\n\u001b[0;32m   2164\u001b[0m )\n\u001b[0;32m   2165\u001b[0m rows \u001b[39m=\u001b[39m \u001b[39mzip\u001b[39m(target_names, p, r, f1, s)\n\u001b[0;32m   2167\u001b[0m \u001b[39mif\u001b[39;00m y_type\u001b[39m.\u001b[39mstartswith(\u001b[39m\"\u001b[39m\u001b[39mmultilabel\u001b[39m\u001b[39m\"\u001b[39m):\n",
      "File \u001b[1;32md:\\Dropbox\\Project\\LegitProject\\SubjectSentimentModelling\\env\\lib\\site-packages\\sklearn\\metrics\\_classification.py:1560\u001b[0m, in \u001b[0;36mprecision_recall_fscore_support\u001b[1;34m(y_true, y_pred, beta, labels, pos_label, average, warn_for, sample_weight, zero_division)\u001b[0m\n\u001b[0;32m   1558\u001b[0m \u001b[39m# Calculate tp_sum, pred_sum, true_sum ###\u001b[39;00m\n\u001b[0;32m   1559\u001b[0m samplewise \u001b[39m=\u001b[39m average \u001b[39m==\u001b[39m \u001b[39m\"\u001b[39m\u001b[39msamples\u001b[39m\u001b[39m\"\u001b[39m\n\u001b[1;32m-> 1560\u001b[0m MCM \u001b[39m=\u001b[39m multilabel_confusion_matrix(\n\u001b[0;32m   1561\u001b[0m     y_true,\n\u001b[0;32m   1562\u001b[0m     y_pred,\n\u001b[0;32m   1563\u001b[0m     sample_weight\u001b[39m=\u001b[39;49msample_weight,\n\u001b[0;32m   1564\u001b[0m     labels\u001b[39m=\u001b[39;49mlabels,\n\u001b[0;32m   1565\u001b[0m     samplewise\u001b[39m=\u001b[39;49msamplewise,\n\u001b[0;32m   1566\u001b[0m )\n\u001b[0;32m   1567\u001b[0m tp_sum \u001b[39m=\u001b[39m MCM[:, \u001b[39m1\u001b[39m, \u001b[39m1\u001b[39m]\n\u001b[0;32m   1568\u001b[0m pred_sum \u001b[39m=\u001b[39m tp_sum \u001b[39m+\u001b[39m MCM[:, \u001b[39m0\u001b[39m, \u001b[39m1\u001b[39m]\n",
      "File \u001b[1;32md:\\Dropbox\\Project\\LegitProject\\SubjectSentimentModelling\\env\\lib\\site-packages\\sklearn\\metrics\\_classification.py:506\u001b[0m, in \u001b[0;36mmultilabel_confusion_matrix\u001b[1;34m(y_true, y_pred, sample_weight, labels, samplewise)\u001b[0m\n\u001b[0;32m    504\u001b[0m le \u001b[39m=\u001b[39m LabelEncoder()\n\u001b[0;32m    505\u001b[0m le\u001b[39m.\u001b[39mfit(labels)\n\u001b[1;32m--> 506\u001b[0m y_true \u001b[39m=\u001b[39m le\u001b[39m.\u001b[39;49mtransform(y_true)\n\u001b[0;32m    507\u001b[0m y_pred \u001b[39m=\u001b[39m le\u001b[39m.\u001b[39mtransform(y_pred)\n\u001b[0;32m    508\u001b[0m sorted_labels \u001b[39m=\u001b[39m le\u001b[39m.\u001b[39mclasses_\n",
      "File \u001b[1;32md:\\Dropbox\\Project\\LegitProject\\SubjectSentimentModelling\\env\\lib\\site-packages\\sklearn\\preprocessing\\_label.py:138\u001b[0m, in \u001b[0;36mLabelEncoder.transform\u001b[1;34m(self, y)\u001b[0m\n\u001b[0;32m    135\u001b[0m \u001b[39mif\u001b[39;00m _num_samples(y) \u001b[39m==\u001b[39m \u001b[39m0\u001b[39m:\n\u001b[0;32m    136\u001b[0m     \u001b[39mreturn\u001b[39;00m np\u001b[39m.\u001b[39marray([])\n\u001b[1;32m--> 138\u001b[0m \u001b[39mreturn\u001b[39;00m _encode(y, uniques\u001b[39m=\u001b[39;49m\u001b[39mself\u001b[39;49m\u001b[39m.\u001b[39;49mclasses_)\n",
      "File \u001b[1;32md:\\Dropbox\\Project\\LegitProject\\SubjectSentimentModelling\\env\\lib\\site-packages\\sklearn\\utils\\_encode.py:229\u001b[0m, in \u001b[0;36m_encode\u001b[1;34m(values, uniques, check_unknown)\u001b[0m\n\u001b[0;32m    227\u001b[0m \u001b[39melse\u001b[39;00m:\n\u001b[0;32m    228\u001b[0m     \u001b[39mif\u001b[39;00m check_unknown:\n\u001b[1;32m--> 229\u001b[0m         diff \u001b[39m=\u001b[39m _check_unknown(values, uniques)\n\u001b[0;32m    230\u001b[0m         \u001b[39mif\u001b[39;00m diff:\n\u001b[0;32m    231\u001b[0m             \u001b[39mraise\u001b[39;00m \u001b[39mValueError\u001b[39;00m(\u001b[39mf\u001b[39m\u001b[39m\"\u001b[39m\u001b[39my contains previously unseen labels: \u001b[39m\u001b[39m{\u001b[39;00m\u001b[39mstr\u001b[39m(diff)\u001b[39m}\u001b[39;00m\u001b[39m\"\u001b[39m)\n",
      "File \u001b[1;32md:\\Dropbox\\Project\\LegitProject\\SubjectSentimentModelling\\env\\lib\\site-packages\\sklearn\\utils\\_encode.py:303\u001b[0m, in \u001b[0;36m_check_unknown\u001b[1;34m(values, known_values, return_mask)\u001b[0m\n\u001b[0;32m    300\u001b[0m         valid_mask \u001b[39m=\u001b[39m np\u001b[39m.\u001b[39mones(\u001b[39mlen\u001b[39m(values), dtype\u001b[39m=\u001b[39m\u001b[39mbool\u001b[39m)\n\u001b[0;32m    302\u001b[0m \u001b[39m# check for nans in the known_values\u001b[39;00m\n\u001b[1;32m--> 303\u001b[0m \u001b[39mif\u001b[39;00m np\u001b[39m.\u001b[39;49misnan(known_values)\u001b[39m.\u001b[39many():\n\u001b[0;32m    304\u001b[0m     diff_is_nan \u001b[39m=\u001b[39m np\u001b[39m.\u001b[39misnan(diff)\n\u001b[0;32m    305\u001b[0m     \u001b[39mif\u001b[39;00m diff_is_nan\u001b[39m.\u001b[39many():\n\u001b[0;32m    306\u001b[0m         \u001b[39m# removes nan from valid_mask\u001b[39;00m\n",
      "\u001b[1;31mTypeError\u001b[0m: ufunc 'isnan' not supported for the input types, and the inputs could not be safely coerced to any supported types according to the casting rule ''safe''"
     ]
    }
   ],
   "source": [
    "yHat = (mlp_model.predict_proba(testXArr)[:,1]//0.2) + 1\n",
    "show_result(yHat, testYArr)"
   ]
  },
  {
   "cell_type": "code",
   "execution_count": null,
   "metadata": {},
   "outputs": [],
   "source": []
  }
 ],
 "metadata": {
  "kernelspec": {
   "display_name": "Python 3.10.5 ('env': venv)",
   "language": "python",
   "name": "python3"
  },
  "language_info": {
   "codemirror_mode": {
    "name": "ipython",
    "version": 3
   },
   "file_extension": ".py",
   "mimetype": "text/x-python",
   "name": "python",
   "nbconvert_exporter": "python",
   "pygments_lexer": "ipython3",
   "version": "3.10.5"
  },
  "orig_nbformat": 4,
  "vscode": {
   "interpreter": {
    "hash": "055ed1be4b0fa29866f2e2aeab85b185190bfa779d52a08d11b266bfb238964b"
   }
  }
 },
 "nbformat": 4,
 "nbformat_minor": 2
}
