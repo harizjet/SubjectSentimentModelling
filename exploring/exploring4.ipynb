{
 "cells": [
  {
   "cell_type": "markdown",
   "metadata": {},
   "source": [
    "*#*"
   ]
  },
  {
   "cell_type": "code",
   "execution_count": 5,
   "metadata": {},
   "outputs": [],
   "source": [
    "# general tools\n",
    "import pandas as pd\n",
    "import matplotlib.pyplot as plt\n",
    "import seaborn as sns\n",
    "import io\n",
    "import re\n",
    "import datetime as dt\n",
    "import json\n",
    "import requests\n",
    "import scipy as sp\n",
    "import numpy as np\n",
    "import tempfile\n",
    "import random\n",
    "import time\n",
    "import math\n",
    "import statistics\n",
    "import os\n",
    "from typing import Tuple, Dict, List\n",
    "import sys\n",
    "import warnings\n",
    "warnings.filterwarnings('ignore')\n",
    "\n",
    "# preprocessing & utils\n",
    "import nltk\n",
    "from nltk import pos_tag\n",
    "from nltk import word_tokenize\n",
    "from nltk import pos_tag\n",
    "from nltk.stem import WordNetLemmatizer \n",
    "from nltk.corpus import stopwords\n",
    "from nltk.tokenize import word_tokenize, sent_tokenize\n",
    "from sklearn.model_selection import GridSearchCV, train_test_split\n",
    "from sklearn.metrics import confusion_matrix, accuracy_score, classification_report\n",
    "from sklearn.feature_extraction.text import TfidfVectorizer, CountVectorizer\n",
    "\n",
    "# ml models\n",
    "from sklearn.naive_bayes import MultinomialNB\n",
    "from sklearn.svm import LinearSVC\n",
    "from sklearn.linear_model import SGDClassifier, LogisticRegression\n",
    "from sklearn.neural_network import MLPClassifier\n",
    "\n",
    "# others\n",
    "from wordcloud import WordCloud\n",
    "from matplotlib.ticker import FormatStrFormatter"
   ]
  },
  {
   "cell_type": "markdown",
   "metadata": {},
   "source": [
    "<center>\n",
    "    <h3>Constant</h3>\n",
    "</center>"
   ]
  },
  {
   "cell_type": "code",
   "execution_count": 7,
   "metadata": {},
   "outputs": [],
   "source": [
    "stop_words = set(stopwords.words('english'))\n",
    "lemmatizer = WordNetLemmatizer()"
   ]
  },
  {
   "cell_type": "markdown",
   "metadata": {},
   "source": [
    "<center>\n",
    "    <h3>Utility Function</h3>\n",
    "</center>"
   ]
  },
  {
   "cell_type": "code",
   "execution_count": 188,
   "metadata": {},
   "outputs": [],
   "source": [
    "# processsing\n",
    "def pipe_cleaningText(text: str) -> str:\n",
    "    txt = text.lower()\n",
    "    return txt\n",
    "\n",
    "def pipe_removeStopWords(text: str, tokenized: bool = False) -> str:\n",
    "    if tokenized:\n",
    "        return \" \".join([w for w in text.split(\" \") if w not in stop_words])\n",
    "    return \" \".join([w for w in word_tokenize(text) if w not in stop_words])\n",
    "\n",
    "def pipe_lemmatization(text: str, tokenized: bool = False) -> str:\n",
    "    txt = \"\"\n",
    "    collections = word_tokenize(text) if not tokenized else text.split(\" \")\n",
    "    for w in collections:\n",
    "        txt += lemmatizer.lemmatize(w) + ' '\n",
    "    return txt.strip()\n",
    "\n",
    "def pipe_addPos(text: str, tokenized: bool = False) -> str:\n",
    "    txt = \"\"\n",
    "    collections = word_tokenize(text) if not tokenized else text.split(\" \")\n",
    "    for w in pos_tag(collections):\n",
    "        txt += '__'.join(w) + ' '\n",
    "    return txt.strip()\n",
    "\n",
    "def pipe_normalized(text: str, bin: int, tokenized: bool = False) -> str:\n",
    "    txt = \"\"\n",
    "    collections = word_tokenize(text) if not tokenized else text.split(\" \")\n",
    "    n = len(collections)\n",
    "    for i, w in enumerate(collections):\n",
    "        normVal = math.floor((i / (n - 1)) * (bin - 1)) + 1 if n != 1 else 1\n",
    "        txt += w + '__' + str(normVal) + ' '\n",
    "    return txt.strip()\n",
    "\n",
    "def pipe_subjectCleaning(text: str, tokenized: bool = False) -> str:\n",
    "    txt = \"\"\n",
    "    collections = sent_tokenize(text) if not tokenized else text.split(\" \")\n",
    "    for s in collections:\n",
    "        for w in pos_tag(word_tokenize(s)):\n",
    "            if w[1] != 'NNP':\n",
    "                continue\n",
    "            txt += w[0] + ' '\n",
    "    return txt.strip()\n",
    "\n",
    "# feature extraction\n",
    "def feature_tfidfUni(series: pd.Series, max_features=None) -> Tuple[sp.sparse.csr_matrix, TfidfVectorizer]:\n",
    "    tfidf_vectorizer = TfidfVectorizer(ngram_range=(1,1), max_features=max_features)\n",
    "    tfidf_vectorizer.fit(series)\n",
    "    return tfidf_vectorizer.transform(series), tfidf_vectorizer\n",
    "\n",
    "def feature_bowUni(series: pd.Series, max_features=None) -> Tuple[sp.sparse.csr_matrix, CountVectorizer]:\n",
    "    bow_vectorizer = CountVectorizer(ngram_range=(1,1), max_features=max_features)\n",
    "    bow_vectorizer.fit(series)\n",
    "    return bow_vectorizer.transform(series), bow_vectorizer\n",
    "\n",
    "def feature_tfidfUniBi(series: pd.Series, max_features=None) -> Tuple[sp.sparse.csr_matrix, TfidfVectorizer]:\n",
    "    tfidf_vectorizer = TfidfVectorizer(ngram_range=(1,2), max_features=max_features)\n",
    "    tfidf_vectorizer.fit(series)\n",
    "    return tfidf_vectorizer.transform(series), tfidf_vectorizer\n",
    "\n",
    "def feature_bowUniBi(series: pd.Series, max_features=None) -> Tuple[sp.sparse.csr_matrix, CountVectorizer]:\n",
    "    bow_vectorizer = CountVectorizer(ngram_range=(1,2), max_features=max_features)\n",
    "    bow_vectorizer.fit(series)\n",
    "    return bow_vectorizer.transform(series), bow_vectorizer\n",
    "\n",
    "# sampling\n",
    "def balancing_upsampling(data: pd.DataFrame, target: int=None) -> pd.DataFrame:\n",
    "    group_res = data.groupby(by=['overall'])['overall'].count()\n",
    "    highest_n = max(group_res.values) if not target else target\n",
    "    thedata = data[data.overall == group_res[group_res == highest_n].index[0]] if not target else data.drop(data.index)\n",
    "    for i in group_res.index:\n",
    "        if group_res.loc[i] == highest_n:\n",
    "            continue\n",
    "        tdata = data[data.overall == i]\n",
    "        sample_ind = np.random.choice(tdata.index, highest_n - group_res.loc[i], replace=True)\n",
    "        thedata = pd.concat([thedata, tdata, tdata.loc[sample_ind]])\n",
    "    return thedata\n",
    "\n",
    "def balancing_downsampling(data: pd.DataFrame, target: int=None) -> pd.DataFrame:\n",
    "    group_res = data.groupby(by=['overall'])['overall'].count()\n",
    "    lowest_n = min(group_res.values) if not target else target\n",
    "    thedata = data[data.overall == group_res[group_res == lowest_n].index[0]] if not target else data.drop(data.index)\n",
    "    for i in group_res.index:\n",
    "        if group_res.loc[i] == lowest_n:\n",
    "            continue\n",
    "        tdata = data[data.overall == i]\n",
    "        sample_ind = np.random.choice(tdata.index, lowest_n, replace=False)\n",
    "        thedata = pd.concat([thedata, tdata.loc[sample_ind]])\n",
    "    return thedata\n",
    "\n",
    "# testing\n",
    "def accuracyTrainTest(model, trainX: np.array, trainY: np.array, valX: np.array, valY: np.array, testX: np.array, testY: np.array) -> Tuple[float, float, float]:\n",
    "    mod = model.fit(trainX, trainY)\n",
    "    yfit = mod.predict(trainX)\n",
    "    ypredVal = mod.predict(valX)\n",
    "    ypredTest = mod.predict(testX)\n",
    "    \n",
    "    # train result, validation result, test result\n",
    "    return accuracy_score(trainY, yfit), accuracy_score(valY, ypredVal), accuracy_score(testY, ypredTest)\n",
    "    \n",
    "def loop_testing(model, n_test: int, xArr: sp.sparse.csr_matrix, yArr: np.array, testXArr: sp.sparse.csr_matrix, testYArr: np.array) -> Dict[str, List[float]]:\n",
    "    thedict = {}\n",
    "\n",
    "    i = 0\n",
    "    n = xArr.shape[0]\n",
    "    n_sample = math.ceil(n / n_test)\n",
    "    x_sam, y_sam = np.array([]), np.array([])\n",
    "    while i < n_test:\n",
    "        percent_sample = n_sample/xArr.shape[0]\n",
    "        if percent_sample >= 1:\n",
    "            xmain, ymain = xArr, yArr\n",
    "        else:\n",
    "            xmain, xArr, ymain, yArr = train_test_split(xArr, yArr, train_size=percent_sample, stratify=yArr, random_state=123)\n",
    "        \n",
    "        x_sam = sp.sparse.vstack((x_sam, xmain)) if x_sam.shape[0] != 0 else xmain\n",
    "        y_sam = np.hstack((y_sam, ymain)) if y_sam.shape[0] != 0 else ymain\n",
    "        xtrain, xtest, ytrain, ytest = train_test_split(x_sam, y_sam, train_size=0.9, stratify=y_sam, random_state=123)\n",
    "\n",
    "        resTrain, resVal, resTest = accuracyTrainTest(model, xtrain, ytrain, xtest, ytest, testXArr, testYArr)\n",
    "        thedict[x_sam.shape[0]] = [resTrain, resVal, resTest]\n",
    "\n",
    "        i += 1\n",
    "    return thedict\n",
    "\n",
    "# visualization\n",
    "def show_result(ypred: np.array, ytarget: np.array) -> None:\n",
    "    label = ['Positive', 'Neutral', 'Negative']\n",
    "    report = classification_report(ypred, ytarget, labels=label)\n",
    "    conf_matrix = confusion_matrix(ypred, ytarget, labels=label)\n",
    "\n",
    "    group_names = ['True Pos', 'False Neu', 'False Neg',\n",
    "                   'False Pos', 'True Neu', 'False Neg',\n",
    "                   'False Pos', 'False Neu', 'True Neg']\n",
    "    group_percentages = ['{0:.2%}'.format(value) for value in conf_matrix.flatten() / np.sum(conf_matrix)]\n",
    "    labels = [f'{v1}\\n{v2}\\n{v3}' for v1, v2, v3 in zip(group_names, group_percentages, conf_matrix.flatten())]\n",
    "    labels = np.asarray(labels).reshape(3, 3)\n",
    "\n",
    "    df_cm = pd.DataFrame(data=conf_matrix, index=label, columns=label)\n",
    "\n",
    "    print(report)\n",
    "    fix, axe = plt.subplots(figsize=(15, 8), nrows=1, ncols=1)\n",
    "    sns.heatmap(df_cm, xticklabels=label, yticklabels=label, annot=labels, ax=axe, cmap = 'Blues', fmt = '')\n",
    "    plt.show();\n",
    "\n",
    "# visualization\n",
    "def show_result2group(ypred: np.array, ytarget: np.array) -> None:\n",
    "    label = ['Positive', 'Negative']\n",
    "    report = classification_report(ypred, ytarget, labels=label)\n",
    "    conf_matrix = confusion_matrix(ypred, ytarget, labels=label)\n",
    "\n",
    "    group_names = ['True Pos', 'False Neg',\n",
    "                   'False Pos', 'True Neg']\n",
    "    group_percentages = ['{0:.2%}'.format(value) for value in conf_matrix.flatten() / np.sum(conf_matrix)]\n",
    "    labels = [f'{v1}\\n{v2}\\n{v3}' for v1, v2, v3 in zip(group_names, group_percentages, conf_matrix.flatten())]\n",
    "    labels = np.asarray(labels).reshape(2,2)\n",
    "\n",
    "    df_cm = pd.DataFrame(data=conf_matrix, index=label, columns=label)\n",
    "\n",
    "    print(report)\n",
    "    fix, axe = plt.subplots(figsize=(15, 8), nrows=1, ncols=1)\n",
    "    sns.heatmap(df_cm, xticklabels=label, yticklabels=label, annot=labels, ax=axe, cmap = 'Blues', fmt = '')\n",
    "    plt.show();\n",
    "\n",
    "def show_result5group(ypred: np.array, ytarget: np.array) -> None:\n",
    "    label = [1,2,3,4,5][::-1]\n",
    "    report = classification_report(ypred, ytarget, labels=label)\n",
    "    conf_matrix = confusion_matrix(ypred, ytarget, labels=label)\n",
    "\n",
    "    group_names = ['True Pos', 'False Meh-Pos', 'False Neu', 'False Meh-Neg', 'False Neg',\n",
    "                   'False Pos', 'True Meh-Pos', 'False Neu', 'False Meh-Neg', 'False Neg',\n",
    "                   'False Pos', 'False Meh-Pos', 'True Neu', 'False Meh-Neg', 'False Neg',\n",
    "                   'False Pos', 'False Meh-Pos', 'False Neu', 'True Meh-Neg', 'False Neg',\n",
    "                   'False Pos', 'False Meh-Pos', 'False Neu', 'False Meh-Neg', 'True Neg']\n",
    "    group_percentages = ['{0:.2%}'.format(value) for value in conf_matrix.flatten() / np.sum(conf_matrix)]\n",
    "    labels = [f'{v1}\\n{v2}\\n{v3}' for v1, v2, v3 in zip(group_names, group_percentages, conf_matrix.flatten())]\n",
    "    labels = np.asarray(labels).reshape(5, 5)\n",
    "\n",
    "    df_cm = pd.DataFrame(data=conf_matrix, index=label, columns=label)\n",
    "\n",
    "    print(report)\n",
    "    fix, axe = plt.subplots(figsize=(15, 8), nrows=1, ncols=1)\n",
    "    sns.heatmap(df_cm, xticklabels=label, yticklabels=label, annot=labels, ax=axe, cmap = 'Blues', fmt = '')\n",
    "    plt.show();\n",
    "\n",
    "def visualized_loopTesting(result_loopTesting: Dict[str, List[float]]) -> None:\n",
    "    train_res, val_res, test_res = dict(), dict(), dict()\n",
    "    for res in result_loopTesting:\n",
    "        train_res[res] = result[res][0]\n",
    "        val_res[res] = result[res][1]\n",
    "        test_res[res] = result[res][2]\n",
    "\n",
    "    fig, axe = plt.subplots(figsize=(15, 8), nrows=1, ncols=1)\n",
    "    sns.lineplot(y=train_res.values(), x=train_res.keys() , ax=axe, label='train-result')\n",
    "    sns.lineplot(y=val_res.values(), x=val_res.keys(), ax=axe, label='val-result')\n",
    "    sns.lineplot(y=test_res.values(), x=test_res.keys(), ax=axe, label='test-result')\n",
    "    axe.set_title(\"Highest Score: {}\".format(max(test_res.values())))\n",
    "    axe.set_xlabel(\"Dataset Size\")\n",
    "    axe.set_ylabel(\"Accuracy\")\n",
    "    axe.set_ylim([0.65, 1.0])\n",
    "    axe.xaxis.set_major_formatter(FormatStrFormatter('%.0f'))\n",
    "    plt.show();\n",
    "\n",
    "# others\n",
    "def correlation(x: list, y: list) -> float:\n",
    "    x = np.array(x)\n",
    "    y = np.array(y)\n",
    "    bar_x = x.mean()\n",
    "    bar_y = y.mean()\n",
    "    sum_xixbar_yiybar = sum((x - bar_x) * (y - bar_y))\n",
    "    sum_xixbar2 = sum((x - bar_x) ** 2)\n",
    "    sum_yiybar2 = sum((y - bar_y) ** 2)\n",
    "\n",
    "    numer = sum_xixbar_yiybar\n",
    "    denom = (sum_xixbar2 * sum_yiybar2) ** (1 / 2)\n",
    "\n",
    "    r = numer / denom if denom != 0 else 0\n",
    "\n",
    "    return r\n",
    "\n",
    "def gradient(x: list, y: list) -> float:\n",
    "    p1 = [x[0], y[0]]\n",
    "    p2 = [x[2], y[2]]\n",
    "\n",
    "    numer = p1[1] - p2[1]\n",
    "    denom = p1[0] - p2[0]\n",
    "\n",
    "    return numer / denom\n",
    "    "
   ]
  },
  {
   "cell_type": "markdown",
   "metadata": {},
   "source": [
    "<center>\n",
    "    <h3>Process</h3>\n",
    "</center>"
   ]
  },
  {
   "cell_type": "markdown",
   "metadata": {},
   "source": [
    "Goals\n",
    "- Try training using binary output (1 & 5) & measure performance on all output (1 to 5)"
   ]
  },
  {
   "cell_type": "code",
   "execution_count": 10,
   "metadata": {},
   "outputs": [],
   "source": [
    "df = pd.read_csv('../data/Amazon_Electronics.csv')"
   ]
  },
  {
   "cell_type": "code",
   "execution_count": 11,
   "metadata": {},
   "outputs": [
    {
     "data": {
      "text/html": [
       "<div>\n",
       "<style scoped>\n",
       "    .dataframe tbody tr th:only-of-type {\n",
       "        vertical-align: middle;\n",
       "    }\n",
       "\n",
       "    .dataframe tbody tr th {\n",
       "        vertical-align: top;\n",
       "    }\n",
       "\n",
       "    .dataframe thead th {\n",
       "        text-align: right;\n",
       "    }\n",
       "</style>\n",
       "<table border=\"1\" class=\"dataframe\">\n",
       "  <thead>\n",
       "    <tr style=\"text-align: right;\">\n",
       "      <th></th>\n",
       "      <th>overall</th>\n",
       "      <th>unixReviewTime</th>\n",
       "    </tr>\n",
       "  </thead>\n",
       "  <tbody>\n",
       "    <tr>\n",
       "      <th>count</th>\n",
       "      <td>2.094154e+07</td>\n",
       "      <td>2.094154e+07</td>\n",
       "    </tr>\n",
       "    <tr>\n",
       "      <th>mean</th>\n",
       "      <td>4.073490e+00</td>\n",
       "      <td>1.425820e+09</td>\n",
       "    </tr>\n",
       "    <tr>\n",
       "      <th>std</th>\n",
       "      <td>1.385862e+00</td>\n",
       "      <td>7.772530e+07</td>\n",
       "    </tr>\n",
       "    <tr>\n",
       "      <th>min</th>\n",
       "      <td>1.000000e+00</td>\n",
       "      <td>8.811936e+08</td>\n",
       "    </tr>\n",
       "    <tr>\n",
       "      <th>25%</th>\n",
       "      <td>4.000000e+00</td>\n",
       "      <td>1.393891e+09</td>\n",
       "    </tr>\n",
       "    <tr>\n",
       "      <th>50%</th>\n",
       "      <td>5.000000e+00</td>\n",
       "      <td>1.440461e+09</td>\n",
       "    </tr>\n",
       "    <tr>\n",
       "      <th>75%</th>\n",
       "      <td>5.000000e+00</td>\n",
       "      <td>1.478563e+09</td>\n",
       "    </tr>\n",
       "    <tr>\n",
       "      <th>max</th>\n",
       "      <td>5.000000e+00</td>\n",
       "      <td>1.538698e+09</td>\n",
       "    </tr>\n",
       "  </tbody>\n",
       "</table>\n",
       "</div>"
      ],
      "text/plain": [
       "            overall  unixReviewTime\n",
       "count  2.094154e+07    2.094154e+07\n",
       "mean   4.073490e+00    1.425820e+09\n",
       "std    1.385862e+00    7.772530e+07\n",
       "min    1.000000e+00    8.811936e+08\n",
       "25%    4.000000e+00    1.393891e+09\n",
       "50%    5.000000e+00    1.440461e+09\n",
       "75%    5.000000e+00    1.478563e+09\n",
       "max    5.000000e+00    1.538698e+09"
      ]
     },
     "execution_count": 11,
     "metadata": {},
     "output_type": "execute_result"
    }
   ],
   "source": [
    "df.describe()"
   ]
  },
  {
   "cell_type": "code",
   "execution_count": 12,
   "metadata": {},
   "outputs": [
    {
     "data": {
      "text/plain": [
       "overall                  0\n",
       "verified                 0\n",
       "reviewTime               0\n",
       "reviewerID               0\n",
       "asin                     0\n",
       "style             10476370\n",
       "reviewerName          2668\n",
       "reviewText            9670\n",
       "summary               4896\n",
       "unixReviewTime           0\n",
       "vote              18254610\n",
       "image             20594419\n",
       "dtype: int64"
      ]
     },
     "execution_count": 12,
     "metadata": {},
     "output_type": "execute_result"
    }
   ],
   "source": [
    "df.isnull().sum()"
   ]
  },
  {
   "cell_type": "code",
   "execution_count": 13,
   "metadata": {},
   "outputs": [
    {
     "data": {
      "text/plain": [
       "<AxesSubplot:xlabel='overall'>"
      ]
     },
     "execution_count": 13,
     "metadata": {},
     "output_type": "execute_result"
    },
    {
     "data": {
      "image/png": "[encoded data removed]",
      "text/plain": [
       "<Figure size 432x288 with 1 Axes>"
      ]
     },
     "metadata": {
      "needs_background": "light"
     },
     "output_type": "display_data"
    }
   ],
   "source": [
    "sns.boxplot(df['overall'])"
   ]
  },
  {
   "cell_type": "code",
   "execution_count": 14,
   "metadata": {},
   "outputs": [
    {
     "data": {
      "text/plain": [
       "<AxesSubplot:xlabel='overall', ylabel='Count'>"
      ]
     },
     "execution_count": 14,
     "metadata": {},
     "output_type": "execute_result"
    },
    {
     "data": {
      "image/png": "[encoded data removed]",
      "text/plain": [
       "<Figure size 432x288 with 1 Axes>"
      ]
     },
     "metadata": {
      "needs_background": "light"
     },
     "output_type": "display_data"
    }
   ],
   "source": [
    "sns.histplot(df['overall'])"
   ]
  },
  {
   "cell_type": "code",
   "execution_count": 28,
   "metadata": {},
   "outputs": [
    {
     "data": {
      "text/html": [
       "<div>\n",
       "<style scoped>\n",
       "    .dataframe tbody tr th:only-of-type {\n",
       "        vertical-align: middle;\n",
       "    }\n",
       "\n",
       "    .dataframe tbody tr th {\n",
       "        vertical-align: top;\n",
       "    }\n",
       "\n",
       "    .dataframe thead th {\n",
       "        text-align: right;\n",
       "    }\n",
       "</style>\n",
       "<table border=\"1\" class=\"dataframe\">\n",
       "  <thead>\n",
       "    <tr style=\"text-align: right;\">\n",
       "      <th></th>\n",
       "      <th>reviewText</th>\n",
       "      <th>overall</th>\n",
       "    </tr>\n",
       "  </thead>\n",
       "  <tbody>\n",
       "    <tr>\n",
       "      <th>0</th>\n",
       "      <td>This was the first time I read Garcia-Aguilera...</td>\n",
       "      <td>5</td>\n",
       "    </tr>\n",
       "    <tr>\n",
       "      <th>1</th>\n",
       "      <td>As with all of Ms. Garcia-Aguilera's books, I ...</td>\n",
       "      <td>5</td>\n",
       "    </tr>\n",
       "    <tr>\n",
       "      <th>2</th>\n",
       "      <td>I've not read any of Ms Aguilera's works befor...</td>\n",
       "      <td>5</td>\n",
       "    </tr>\n",
       "    <tr>\n",
       "      <th>3</th>\n",
       "      <td>This romance novel is right up there with the ...</td>\n",
       "      <td>4</td>\n",
       "    </tr>\n",
       "    <tr>\n",
       "      <th>4</th>\n",
       "      <td>Carolina Garcia Aguilera has done it again.  S...</td>\n",
       "      <td>5</td>\n",
       "    </tr>\n",
       "  </tbody>\n",
       "</table>\n",
       "</div>"
      ],
      "text/plain": [
       "                                          reviewText  overall\n",
       "0  This was the first time I read Garcia-Aguilera...        5\n",
       "1  As with all of Ms. Garcia-Aguilera's books, I ...        5\n",
       "2  I've not read any of Ms Aguilera's works befor...        5\n",
       "3  This romance novel is right up there with the ...        4\n",
       "4  Carolina Garcia Aguilera has done it again.  S...        5"
      ]
     },
     "execution_count": 28,
     "metadata": {},
     "output_type": "execute_result"
    }
   ],
   "source": [
    "dfdata = df[['reviewText', 'overall']]\n",
    "dfdata.head()"
   ]
  },
  {
   "cell_type": "code",
   "execution_count": 29,
   "metadata": {},
   "outputs": [
    {
     "data": {
      "text/plain": [
       "reviewText    9670\n",
       "overall          0\n",
       "dtype: int64"
      ]
     },
     "execution_count": 29,
     "metadata": {},
     "output_type": "execute_result"
    }
   ],
   "source": [
    "dfdata.isnull().sum()"
   ]
  },
  {
   "cell_type": "code",
   "execution_count": 30,
   "metadata": {},
   "outputs": [],
   "source": [
    "dfdata = dfdata[(~dfdata.isnull().any(axis=1)) & (dfdata.reviewText.apply(lambda x: str(x).strip() != \"\"))]"
   ]
  },
  {
   "cell_type": "code",
   "execution_count": 31,
   "metadata": {},
   "outputs": [
    {
     "data": {
      "text/plain": [
       "reviewText    0\n",
       "overall       0\n",
       "dtype: int64"
      ]
     },
     "execution_count": 31,
     "metadata": {},
     "output_type": "execute_result"
    }
   ],
   "source": [
    "dfdata.isnull().sum()"
   ]
  },
  {
   "cell_type": "code",
   "execution_count": 35,
   "metadata": {},
   "outputs": [],
   "source": [
    "target_n = 500 * 1000\n",
    "dfdataMain, _ = train_test_split(dfdata, train_size=target_n / dfdata.shape[0], stratify=dfdata['overall'], random_state=123)"
   ]
  },
  {
   "cell_type": "code",
   "execution_count": 36,
   "metadata": {},
   "outputs": [
    {
     "data": {
      "text/plain": [
       "(500000, 2)"
      ]
     },
     "execution_count": 36,
     "metadata": {},
     "output_type": "execute_result"
    }
   ],
   "source": [
    "dfdataMain.shape"
   ]
  },
  {
   "cell_type": "code",
   "execution_count": 38,
   "metadata": {},
   "outputs": [],
   "source": [
    "# for training & testing\n",
    "target_n = 480 * 1000\n",
    "dfdataTrain, dfdataTest = train_test_split(dfdataMain, train_size=target_n / dfdataMain.shape[0], stratify=dfdataMain['overall'], random_state=123)"
   ]
  },
  {
   "cell_type": "code",
   "execution_count": 39,
   "metadata": {},
   "outputs": [],
   "source": [
    "# for validation\n",
    "target_n = 48 * 1000\n",
    "dfdataValid, dfdataTrainSub = train_test_split(dfdataTrain, train_size=target_n / dfdataTrain.shape[0], stratify=dfdataTrain['overall'], random_state=123)"
   ]
  },
  {
   "cell_type": "code",
   "execution_count": 40,
   "metadata": {},
   "outputs": [],
   "source": [
    "# for validation training & testing\n",
    "target_n = 45 * 1000\n",
    "dfdataValidTrain, dfdataValidTest = train_test_split(dfdataValid, train_size=target_n / dfdataValid.shape[0], stratify=dfdataValid['overall'], random_state=123)"
   ]
  },
  {
   "cell_type": "code",
   "execution_count": 42,
   "metadata": {},
   "outputs": [],
   "source": [
    "# update the dataset for training, to only use 1 & 5 as output\n",
    "dfdataTrain = dfdataTrain[dfdataTrain['overall'].apply(lambda x: x in (1, 5))]\n",
    "dfdataTrainSub = dfdataTrainSub[dfdataTrainSub['overall'].apply(lambda x: x in (1, 5))]\n",
    "dfdataValidTrain = dfdataValidTrain[dfdataValidTrain['overall'].apply(lambda x: x in (1, 5))]"
   ]
  },
  {
   "cell_type": "code",
   "execution_count": 48,
   "metadata": {},
   "outputs": [
    {
     "name": "stdout",
     "output_type": "stream",
     "text": [
      "71.52395833333334\n",
      "71.52407407407408\n",
      "71.52444444444444\n"
     ]
    }
   ],
   "source": [
    "print((dfdataTrain.shape[0]/480000) * 100)\n",
    "print((dfdataTrainSub.shape[0]/432000) * 100)\n",
    "print((dfdataValidTrain.shape[0]/45000) * 100)"
   ]
  },
  {
   "cell_type": "code",
   "execution_count": 61,
   "metadata": {},
   "outputs": [
    {
     "data": {
      "text/plain": [
       "<AxesSubplot:xlabel='overall', ylabel='Count'>"
      ]
     },
     "execution_count": 61,
     "metadata": {},
     "output_type": "execute_result"
    },
    {
     "data": {
      "image/png": "[encoded data removed]",
      "text/plain": [
       "<Figure size 1080x504 with 3 Axes>"
      ]
     },
     "metadata": {
      "needs_background": "light"
     },
     "output_type": "display_data"
    }
   ],
   "source": [
    "fig, axes = plt.subplots(figsize=(15,7), nrows=1, ncols=3)\n",
    "sns.histplot(dfdataTrain['overall'], ax=axes[0])\n",
    "sns.histplot(dfdataTrainSub['overall'], ax=axes[1])\n",
    "sns.histplot(dfdataValidTrain['overall'], ax=axes[2])"
   ]
  },
  {
   "cell_type": "code",
   "execution_count": 62,
   "metadata": {},
   "outputs": [
    {
     "data": {
      "text/plain": [
       "238187138"
      ]
     },
     "execution_count": 62,
     "metadata": {},
     "output_type": "execute_result"
    }
   ],
   "source": [
    "statistics.variance(dfdataValidTrain.groupby(by=['overall'])['overall'].count().values)"
   ]
  },
  {
   "cell_type": "code",
   "execution_count": 63,
   "metadata": {},
   "outputs": [],
   "source": [
    "# validation for processing"
   ]
  },
  {
   "cell_type": "code",
   "execution_count": 64,
   "metadata": {},
   "outputs": [],
   "source": [
    "# upsampling minority group for validation training\n",
    "if statistics.variance(dfdataValidTrain.groupby(by=['overall'])['overall'].count().values) >= 10 * 1000:\n",
    "    dfdataValidTrain = balancing_upsampling(dfdataValidTrain)"
   ]
  },
  {
   "cell_type": "code",
   "execution_count": 65,
   "metadata": {},
   "outputs": [
    {
     "data": {
      "text/plain": [
       "<AxesSubplot:xlabel='overall', ylabel='Count'>"
      ]
     },
     "execution_count": 65,
     "metadata": {},
     "output_type": "execute_result"
    },
    {
     "data": {
      "image/png": "[encoded data removed]",
      "text/plain": [
       "<Figure size 432x288 with 1 Axes>"
      ]
     },
     "metadata": {
      "needs_background": "light"
     },
     "output_type": "display_data"
    }
   ],
   "source": [
    "# sample resulf of sampling\n",
    "sns.histplot(dfdataValidTrain['overall'])"
   ]
  },
  {
   "cell_type": "code",
   "execution_count": 66,
   "metadata": {},
   "outputs": [
    {
     "data": {
      "text/plain": [
       "0"
      ]
     },
     "execution_count": 66,
     "metadata": {},
     "output_type": "execute_result"
    }
   ],
   "source": [
    "statistics.variance(dfdataValidTrain.groupby(by=['overall'])['overall'].count().values)"
   ]
  },
  {
   "cell_type": "code",
   "execution_count": 67,
   "metadata": {},
   "outputs": [],
   "source": [
    "mlp_model = MLPClassifier(verbose=True, early_stopping=True, tol=1e-5)"
   ]
  },
  {
   "cell_type": "code",
   "execution_count": 194,
   "metadata": {},
   "outputs": [
    {
     "name": "stdout",
     "output_type": "stream",
     "text": [
      "Iteration 1, loss = 0.66566150\n",
      "Validation score: 0.889117\n",
      "Iteration 2, loss = 0.50062813\n",
      "Validation score: 0.917864\n",
      "Iteration 3, loss = 0.32732978\n",
      "Validation score: 0.903491\n",
      "Iteration 4, loss = 0.19981850\n",
      "Validation score: 0.915811\n",
      "Iteration 5, loss = 0.12410114\n",
      "Validation score: 0.917864\n",
      "Iteration 6, loss = 0.08181139\n",
      "Validation score: 0.913758\n",
      "Iteration 7, loss = 0.05749460\n",
      "Validation score: 0.913758\n",
      "Iteration 8, loss = 0.04271325\n",
      "Validation score: 0.913758\n",
      "Iteration 9, loss = 0.03310731\n",
      "Validation score: 0.917864\n",
      "Iteration 10, loss = 0.02659296\n",
      "Validation score: 0.909651\n",
      "Iteration 11, loss = 0.02191835\n",
      "Validation score: 0.909651\n",
      "Iteration 12, loss = 0.01852968\n",
      "Validation score: 0.911704\n",
      "Iteration 13, loss = 0.01594969\n",
      "Validation score: 0.911704\n",
      "Validation score did not improve more than tol=0.000010 for 10 consecutive epochs. Stopping.\n",
      "Iteration 1, loss = 0.61862919\n",
      "Validation score: 0.944502\n",
      "Iteration 2, loss = 0.32735048\n",
      "Validation score: 0.941418\n",
      "Iteration 3, loss = 0.14222090\n",
      "Validation score: 0.950668\n",
      "Iteration 4, loss = 0.07111694\n",
      "Validation score: 0.950668\n",
      "Iteration 5, loss = 0.04231056\n",
      "Validation score: 0.952724\n",
      "Iteration 6, loss = 0.02857476\n",
      "Validation score: 0.952724\n",
      "Iteration 7, loss = 0.02098719\n",
      "Validation score: 0.952724\n",
      "Iteration 8, loss = 0.01638319\n",
      "Validation score: 0.953751\n",
      "Iteration 9, loss = 0.01337608\n",
      "Validation score: 0.952724\n",
      "Iteration 10, loss = 0.01132171\n",
      "Validation score: 0.952724\n",
      "Iteration 11, loss = 0.00984693\n",
      "Validation score: 0.950668\n",
      "Iteration 12, loss = 0.00875378\n",
      "Validation score: 0.952724\n",
      "Iteration 13, loss = 0.00792304\n",
      "Validation score: 0.950668\n",
      "Iteration 14, loss = 0.00725964\n",
      "Validation score: 0.952724\n",
      "Iteration 15, loss = 0.00673810\n",
      "Validation score: 0.952724\n",
      "Iteration 16, loss = 0.00632071\n",
      "Validation score: 0.952724\n",
      "Iteration 17, loss = 0.00596636\n",
      "Validation score: 0.952724\n",
      "Iteration 18, loss = 0.00567731\n",
      "Validation score: 0.951696\n",
      "Iteration 19, loss = 0.00542913\n",
      "Validation score: 0.951696\n",
      "Validation score did not improve more than tol=0.000010 for 10 consecutive epochs. Stopping.\n",
      "Iteration 1, loss = 0.55682838\n",
      "Validation score: 0.963674\n",
      "Iteration 2, loss = 0.20739254\n",
      "Validation score: 0.967786\n",
      "Iteration 3, loss = 0.07657801\n",
      "Validation score: 0.970528\n",
      "Iteration 4, loss = 0.03819770\n",
      "Validation score: 0.969157\n",
      "Iteration 5, loss = 0.02323644\n",
      "Validation score: 0.963674\n",
      "Iteration 6, loss = 0.01626332\n",
      "Validation score: 0.965045\n",
      "Iteration 7, loss = 0.01252009\n",
      "Validation score: 0.965045\n",
      "Iteration 8, loss = 0.01025721\n",
      "Validation score: 0.965730\n",
      "Iteration 9, loss = 0.00878894\n",
      "Validation score: 0.964359\n",
      "Iteration 10, loss = 0.00778358\n",
      "Validation score: 0.961618\n",
      "Iteration 11, loss = 0.00707252\n",
      "Validation score: 0.963674\n",
      "Iteration 12, loss = 0.00652155\n",
      "Validation score: 0.962988\n",
      "Iteration 13, loss = 0.00610777\n",
      "Validation score: 0.960932\n",
      "Iteration 14, loss = 0.00576681\n",
      "Validation score: 0.962988\n",
      "Validation score did not improve more than tol=0.000010 for 10 consecutive epochs. Stopping.\n",
      "Iteration 1, loss = 0.49788879\n",
      "Validation score: 0.967609\n",
      "Iteration 2, loss = 0.13977527\n",
      "Validation score: 0.976350\n",
      "Iteration 3, loss = 0.05013298\n",
      "Validation score: 0.973779\n",
      "Iteration 4, loss = 0.02622893\n",
      "Validation score: 0.976350\n",
      "Iteration 5, loss = 0.01705440\n",
      "Validation score: 0.976864\n",
      "Iteration 6, loss = 0.01266101\n",
      "Validation score: 0.978920\n",
      "Iteration 7, loss = 0.01018584\n",
      "Validation score: 0.976350\n",
      "Iteration 8, loss = 0.00864520\n",
      "Validation score: 0.978406\n",
      "Iteration 9, loss = 0.00761991\n",
      "Validation score: 0.977892\n",
      "Iteration 10, loss = 0.00689685\n",
      "Validation score: 0.978920\n",
      "Iteration 11, loss = 0.00637602\n",
      "Validation score: 0.978920\n",
      "Iteration 12, loss = 0.00597353\n",
      "Validation score: 0.979949\n",
      "Iteration 13, loss = 0.00566996\n",
      "Validation score: 0.979949\n",
      "Iteration 14, loss = 0.00541242\n",
      "Validation score: 0.979949\n",
      "Iteration 15, loss = 0.00519643\n",
      "Validation score: 0.979949\n",
      "Iteration 16, loss = 0.00503112\n",
      "Validation score: 0.979949\n",
      "Iteration 17, loss = 0.00486828\n",
      "Validation score: 0.979949\n",
      "Iteration 18, loss = 0.00472253\n",
      "Validation score: 0.979434\n",
      "Iteration 19, loss = 0.00460368\n",
      "Validation score: 0.979949\n",
      "Iteration 20, loss = 0.00449646\n",
      "Validation score: 0.979434\n",
      "Iteration 21, loss = 0.00440839\n",
      "Validation score: 0.979949\n",
      "Iteration 22, loss = 0.00432082\n",
      "Validation score: 0.978920\n",
      "Iteration 23, loss = 0.00421982\n",
      "Validation score: 0.977892\n",
      "Validation score did not improve more than tol=0.000010 for 10 consecutive epochs. Stopping.\n",
      "Iteration 1, loss = 0.45468973\n",
      "Validation score: 0.956808\n",
      "Iteration 2, loss = 0.10310413\n",
      "Validation score: 0.968737\n",
      "Iteration 3, loss = 0.03650824\n",
      "Validation score: 0.969148\n",
      "Iteration 4, loss = 0.01925542\n",
      "Validation score: 0.969971\n",
      "Iteration 5, loss = 0.01285678\n",
      "Validation score: 0.972028\n",
      "Iteration 6, loss = 0.00985529\n",
      "Validation score: 0.971617\n",
      "Iteration 7, loss = 0.00816752\n",
      "Validation score: 0.971205\n",
      "Iteration 8, loss = 0.00715026\n",
      "Validation score: 0.972851\n",
      "Iteration 9, loss = 0.00646210\n",
      "Validation score: 0.972028\n",
      "Iteration 10, loss = 0.00597817\n",
      "Validation score: 0.972439\n",
      "Iteration 11, loss = 0.00560179\n",
      "Validation score: 0.972439\n",
      "Iteration 12, loss = 0.00529824\n",
      "Validation score: 0.972439\n",
      "Iteration 13, loss = 0.00508182\n",
      "Validation score: 0.972028\n",
      "Iteration 14, loss = 0.00487098\n",
      "Validation score: 0.972028\n",
      "Iteration 15, loss = 0.00469612\n",
      "Validation score: 0.972028\n",
      "Iteration 16, loss = 0.00453771\n",
      "Validation score: 0.971617\n",
      "Iteration 17, loss = 0.00441624\n",
      "Validation score: 0.972439\n",
      "Iteration 18, loss = 0.00430223\n",
      "Validation score: 0.974085\n",
      "Iteration 19, loss = 0.00418984\n",
      "Validation score: 0.974085\n",
      "Iteration 20, loss = 0.00408640\n",
      "Validation score: 0.974085\n",
      "Iteration 21, loss = 0.00397745\n",
      "Validation score: 0.972439\n",
      "Iteration 22, loss = 0.00391156\n",
      "Validation score: 0.972439\n",
      "Iteration 23, loss = 0.00381234\n",
      "Validation score: 0.973262\n",
      "Iteration 24, loss = 0.00374628\n",
      "Validation score: 0.972851\n",
      "Iteration 25, loss = 0.00367934\n",
      "Validation score: 0.972028\n",
      "Iteration 26, loss = 0.00359644\n",
      "Validation score: 0.973262\n",
      "Iteration 27, loss = 0.00351624\n",
      "Validation score: 0.972851\n",
      "Iteration 28, loss = 0.00344965\n",
      "Validation score: 0.972439\n",
      "Iteration 29, loss = 0.00340703\n",
      "Validation score: 0.972439\n",
      "Validation score did not improve more than tol=0.000010 for 10 consecutive epochs. Stopping.\n",
      "Iteration 1, loss = 0.41110816\n",
      "Validation score: 0.973603\n",
      "Iteration 2, loss = 0.07862221\n",
      "Validation score: 0.980459\n",
      "Iteration 3, loss = 0.02813429\n",
      "Validation score: 0.980802\n",
      "Iteration 4, loss = 0.01569355\n",
      "Validation score: 0.981145\n",
      "Iteration 5, loss = 0.01102909\n",
      "Validation score: 0.981831\n",
      "Iteration 6, loss = 0.00875700\n",
      "Validation score: 0.982173\n",
      "Iteration 7, loss = 0.00746122\n",
      "Validation score: 0.981831\n",
      "Iteration 8, loss = 0.00668045\n",
      "Validation score: 0.981831\n",
      "Iteration 9, loss = 0.00610298\n",
      "Validation score: 0.981831\n",
      "Iteration 10, loss = 0.00569191\n",
      "Validation score: 0.981831\n",
      "Iteration 11, loss = 0.00536086\n",
      "Validation score: 0.982173\n",
      "Iteration 12, loss = 0.00509979\n",
      "Validation score: 0.982173\n",
      "Iteration 13, loss = 0.00487735\n",
      "Validation score: 0.982173\n",
      "Iteration 14, loss = 0.00471367\n",
      "Validation score: 0.982173\n",
      "Iteration 15, loss = 0.00453646\n",
      "Validation score: 0.982516\n",
      "Iteration 16, loss = 0.00437574\n",
      "Validation score: 0.981831\n",
      "Iteration 17, loss = 0.00428793\n",
      "Validation score: 0.980802\n",
      "Iteration 18, loss = 0.00416734\n",
      "Validation score: 0.982173\n",
      "Iteration 19, loss = 0.00402846\n",
      "Validation score: 0.982859\n",
      "Iteration 20, loss = 0.00393869\n",
      "Validation score: 0.982859\n",
      "Iteration 21, loss = 0.00383914\n",
      "Validation score: 0.982516\n",
      "Iteration 22, loss = 0.00373364\n",
      "Validation score: 0.982173\n",
      "Iteration 23, loss = 0.00364031\n",
      "Validation score: 0.982859\n",
      "Iteration 24, loss = 0.00357824\n",
      "Validation score: 0.982516\n",
      "Iteration 25, loss = 0.00350026\n",
      "Validation score: 0.981488\n",
      "Iteration 26, loss = 0.00340993\n",
      "Validation score: 0.981831\n",
      "Iteration 27, loss = 0.00336216\n",
      "Validation score: 0.981831\n",
      "Iteration 28, loss = 0.00327869\n",
      "Validation score: 0.982173\n",
      "Iteration 29, loss = 0.00323131\n",
      "Validation score: 0.982173\n",
      "Iteration 30, loss = 0.00318598\n",
      "Validation score: 0.981488\n",
      "Validation score did not improve more than tol=0.000010 for 10 consecutive epochs. Stopping.\n",
      "Iteration 1, loss = 0.35476409\n",
      "Validation score: 0.975610\n",
      "Iteration 2, loss = 0.05868607\n",
      "Validation score: 0.985307\n",
      "Iteration 3, loss = 0.02179143\n",
      "Validation score: 0.985307\n",
      "Iteration 4, loss = 0.01265577\n",
      "Validation score: 0.985601\n",
      "Iteration 5, loss = 0.00915957\n",
      "Validation score: 0.985013\n",
      "Iteration 6, loss = 0.00745241\n",
      "Validation score: 0.986189\n",
      "Iteration 7, loss = 0.00645621\n",
      "Validation score: 0.985895\n",
      "Iteration 8, loss = 0.00585040\n",
      "Validation score: 0.986483\n",
      "Iteration 9, loss = 0.00540027\n",
      "Validation score: 0.986189\n",
      "Iteration 10, loss = 0.00505227\n",
      "Validation score: 0.986189\n",
      "Iteration 11, loss = 0.00480227\n",
      "Validation score: 0.985895\n",
      "Iteration 12, loss = 0.00458792\n",
      "Validation score: 0.986189\n",
      "Iteration 13, loss = 0.00438985\n",
      "Validation score: 0.985307\n",
      "Iteration 14, loss = 0.00423186\n",
      "Validation score: 0.985013\n",
      "Iteration 15, loss = 0.00409348\n",
      "Validation score: 0.985895\n",
      "Iteration 16, loss = 0.00396287\n",
      "Validation score: 0.985307\n",
      "Iteration 17, loss = 0.00386299\n",
      "Validation score: 0.985895\n",
      "Iteration 18, loss = 0.00374247\n",
      "Validation score: 0.985013\n",
      "Iteration 19, loss = 0.00363239\n",
      "Validation score: 0.984719\n",
      "Validation score did not improve more than tol=0.000010 for 10 consecutive epochs. Stopping.\n",
      "Iteration 1, loss = 0.34676444\n",
      "Validation score: 0.983548\n",
      "Iteration 2, loss = 0.05203330\n",
      "Validation score: 0.989974\n",
      "Iteration 3, loss = 0.02006836\n",
      "Validation score: 0.992031\n",
      "Iteration 4, loss = 0.01213586\n",
      "Validation score: 0.993316\n",
      "Iteration 5, loss = 0.00904916\n",
      "Validation score: 0.992288\n",
      "Iteration 6, loss = 0.00748333\n",
      "Validation score: 0.993316\n",
      "Iteration 7, loss = 0.00650869\n",
      "Validation score: 0.992545\n",
      "Iteration 8, loss = 0.00587918\n",
      "Validation score: 0.992545\n",
      "Iteration 9, loss = 0.00542709\n",
      "Validation score: 0.992545\n",
      "Iteration 10, loss = 0.00505351\n",
      "Validation score: 0.992031\n",
      "Iteration 11, loss = 0.00475136\n",
      "Validation score: 0.992031\n",
      "Iteration 12, loss = 0.00453872\n",
      "Validation score: 0.991517\n",
      "Iteration 13, loss = 0.00431808\n",
      "Validation score: 0.992545\n",
      "Iteration 14, loss = 0.00414174\n",
      "Validation score: 0.992288\n",
      "Iteration 15, loss = 0.00400352\n",
      "Validation score: 0.992031\n",
      "Validation score did not improve more than tol=0.000010 for 10 consecutive epochs. Stopping.\n",
      "Iteration 1, loss = 0.30918795\n",
      "Validation score: 0.986746\n",
      "Iteration 2, loss = 0.04285156\n",
      "Validation score: 0.991088\n",
      "Iteration 3, loss = 0.01659370\n",
      "Validation score: 0.991773\n",
      "Iteration 4, loss = 0.01021395\n",
      "Validation score: 0.991773\n",
      "Iteration 5, loss = 0.00770778\n",
      "Validation score: 0.992459\n",
      "Iteration 6, loss = 0.00648442\n",
      "Validation score: 0.992230\n",
      "Iteration 7, loss = 0.00578412\n",
      "Validation score: 0.992002\n",
      "Iteration 8, loss = 0.00530274\n",
      "Validation score: 0.991545\n",
      "Iteration 9, loss = 0.00492458\n",
      "Validation score: 0.992459\n",
      "Iteration 10, loss = 0.00466121\n",
      "Validation score: 0.992002\n",
      "Iteration 11, loss = 0.00444077\n",
      "Validation score: 0.992002\n",
      "Iteration 12, loss = 0.00424623\n",
      "Validation score: 0.991773\n",
      "Iteration 13, loss = 0.00408542\n",
      "Validation score: 0.992002\n",
      "Iteration 14, loss = 0.00393479\n",
      "Validation score: 0.992002\n",
      "Iteration 15, loss = 0.00377983\n",
      "Validation score: 0.991545\n",
      "Iteration 16, loss = 0.00366126\n",
      "Validation score: 0.992002\n",
      "Validation score did not improve more than tol=0.000010 for 10 consecutive epochs. Stopping.\n",
      "Iteration 1, loss = 0.29096276\n",
      "Validation score: 0.987451\n",
      "Iteration 2, loss = 0.03717619\n",
      "Validation score: 0.992388\n",
      "Iteration 3, loss = 0.01482113\n",
      "Validation score: 0.992800\n",
      "Iteration 4, loss = 0.00942516\n",
      "Validation score: 0.993211\n",
      "Iteration 5, loss = 0.00738420\n",
      "Validation score: 0.993417\n",
      "Iteration 6, loss = 0.00634235\n",
      "Validation score: 0.993211\n",
      "Iteration 7, loss = 0.00567643\n",
      "Validation score: 0.993417\n",
      "Iteration 8, loss = 0.00525619\n",
      "Validation score: 0.993417\n",
      "Iteration 9, loss = 0.00491241\n",
      "Validation score: 0.993006\n",
      "Iteration 10, loss = 0.00463946\n",
      "Validation score: 0.992594\n",
      "Iteration 11, loss = 0.00444164\n",
      "Validation score: 0.992388\n",
      "Iteration 12, loss = 0.00420603\n",
      "Validation score: 0.991360\n",
      "Iteration 13, loss = 0.00405204\n",
      "Validation score: 0.992388\n",
      "Iteration 14, loss = 0.00388884\n",
      "Validation score: 0.991360\n",
      "Iteration 15, loss = 0.00372805\n",
      "Validation score: 0.992594\n",
      "Iteration 16, loss = 0.00361536\n",
      "Validation score: 0.991360\n",
      "Validation score did not improve more than tol=0.000010 for 10 consecutive epochs. Stopping.\n",
      "Correlation last 3: 0.7561\n",
      "Gradient last 3: 0.0007\n"
     ]
    },
    {
     "data": {
      "image/png": "[encoded data removed]",
      "text/plain": [
       "<Figure size 1080x576 with 1 Axes>"
      ]
     },
     "metadata": {
      "needs_background": "light"
     },
     "output_type": "display_data"
    }
   ],
   "source": [
    "def pipeline(txt: str) -> str:\n",
    "    txt = pipe_cleaningText(txt)\n",
    "    txt = pipe_addPos(txt)\n",
    "    txt = pipe_normalized(txt, 5, tokenized=True)\n",
    "    return txt\n",
    "\n",
    "tdf1 = dfdataValidTrain.copy()\n",
    "tdf2 = dfdataValidTest.copy()\n",
    "tdf1['reviewText'] = tdf1['reviewText'].apply(lambda x: pipeline(x))\n",
    "tdf2['reviewText'] = tdf2['reviewText'].apply(lambda x: pipeline(x))\n",
    "xArr, featureModel = feature_tfidfUniBi(tdf1['reviewText'], 200000)\n",
    "yArr = tdf1['overall'].to_numpy()\n",
    "testXArr, testYArr = featureModel.transform(tdf2['reviewText']), tdf2['overall'].to_numpy()\n",
    "result = loop_testing(mlp_model, 10, xArr, yArr, testXArr, testYArr)\n",
    "print(\"Correlation last 3: {:.4f}\".format(correlation(list(result.keys())[-3:], [x[2] for x in result.values()][-3:])))\n",
    "print(\"Gradient last 3: {:.4f}\".format(gradient(range(1, 4), [x[2] for x in result.values()][-3:])))\n",
    "visualized_loopTesting(result)"
   ]
  },
  {
   "cell_type": "code",
   "execution_count": 195,
   "metadata": {},
   "outputs": [
    {
     "name": "stdout",
     "output_type": "stream",
     "text": [
      "              precision    recall  f1-score   support\n",
      "\n",
      "    Positive       0.97      0.89      0.93      2491\n",
      "     Neutral       0.00      0.00      0.00         0\n",
      "    Negative       0.74      0.74      0.74       509\n",
      "\n",
      "    accuracy                           0.86      3000\n",
      "   macro avg       0.57      0.54      0.56      3000\n",
      "weighted avg       0.93      0.86      0.90      3000\n",
      "\n"
     ]
    },
    {
     "data": {
      "image/png": "[encoded data removed]",
      "text/plain": [
       "<Figure size 1080x576 with 2 Axes>"
      ]
     },
     "metadata": {
      "needs_background": "light"
     },
     "output_type": "display_data"
    }
   ],
   "source": [
    "yHat = ['Negative' if x < 3 else 'Positive' if x > 3 else 'Neutral' for x in (mlp_model.predict_proba(testXArr)[:,1]/0.2)]\n",
    "show_result(yHat, ['Negative' if x < 3 else 'Positive' if x > 3 else 'Neutral' for x in testYArr])"
   ]
  },
  {
   "cell_type": "code",
   "execution_count": 196,
   "metadata": {},
   "outputs": [
    {
     "name": "stdout",
     "output_type": "stream",
     "text": [
      "              precision    recall  f1-score   support\n",
      "\n",
      "           5       0.97      0.73      0.83      2377\n",
      "           4       0.06      0.26      0.10       114\n",
      "           3       0.10      0.25      0.14        87\n",
      "           2       0.12      0.24      0.16        84\n",
      "           1       0.65      0.66      0.66       338\n",
      "\n",
      "    accuracy                           0.68      3000\n",
      "   macro avg       0.38      0.43      0.38      3000\n",
      "weighted avg       0.85      0.68      0.75      3000\n",
      "\n"
     ]
    },
    {
     "data": {
      "image/png": "[encoded data removed]",
      "text/plain": [
       "<Figure size 1080x576 with 2 Axes>"
      ]
     },
     "metadata": {
      "needs_background": "light"
     },
     "output_type": "display_data"
    }
   ],
   "source": [
    "yHat = (mlp_model.predict_proba(testXArr)[:,1]//0.2)+1\n",
    "show_result5group(yHat, testYArr)"
   ]
  },
  {
   "cell_type": "code",
   "execution_count": 197,
   "metadata": {},
   "outputs": [
    {
     "name": "stdout",
     "output_type": "stream",
     "text": [
      "              precision    recall  f1-score   support\n",
      "\n",
      "    Positive       0.98      0.96      0.97      1850\n",
      "    Negative       0.78      0.91      0.84       295\n",
      "\n",
      "    accuracy                           0.95      2145\n",
      "   macro avg       0.88      0.93      0.90      2145\n",
      "weighted avg       0.96      0.95      0.95      2145\n",
      "\n"
     ]
    },
    {
     "data": {
      "image/png": "[encoded data removed]",
      "text/plain": [
       "<Figure size 1080x576 with 2 Axes>"
      ]
     },
     "metadata": {
      "needs_background": "light"
     },
     "output_type": "display_data"
    }
   ],
   "source": [
    "t = [x for x in zip(testXArr, testYArr) if x[1] in (1,5)]\n",
    "yHat = ['Negative' if x == 1 else 'Positive' for x in mlp_model.predict(sp.sparse.vstack([x[0] for x in t]))]\n",
    "show_result2group(yHat, ['Negative' if x == 1 else 'Positive' for x in [x[1] for x in t] if x in (1,5)])"
   ]
  },
  {
   "cell_type": "code",
   "execution_count": 198,
   "metadata": {},
   "outputs": [],
   "source": [
    "# due to sparcity and possibility of bias in 1 < x < 5 group, we will use the binary output moving forward\n",
    "# the accuracy on all output range also did not differ much from our previous model\n",
    "# lets see the result on whole data with binary output"
   ]
  },
  {
   "cell_type": "code",
   "execution_count": 199,
   "metadata": {},
   "outputs": [],
   "source": [
    "def pipeline(txt: str) -> str:\n",
    "    txt = pipe_cleaningText(txt)\n",
    "    txt = pipe_addPos(txt)\n",
    "    txt = pipe_normalized(txt, 5, tokenized=True)\n",
    "    return txt\n",
    "\n",
    "tdf1 = dfdataTrain.copy()\n",
    "tdf2 = dfdataTest.copy()\n",
    "tdf1['reviewText'] = tdf1['reviewText'].apply(lambda x: pipeline(x))\n",
    "tdf2['reviewText'] = tdf2['reviewText'].apply(lambda x: pipeline(x))"
   ]
  },
  {
   "cell_type": "code",
   "execution_count": 200,
   "metadata": {},
   "outputs": [],
   "source": [
    "xArr, featureModel = feature_tfidfUniBi(tdf1['reviewText'], 200000)\n",
    "yArr = tdf1['overall'].to_numpy()\n",
    "t = tdf2[tdf2['overall'].apply(lambda x: x in (1, 5))]\n",
    "testXArr, testYArr = featureModel.transform(t['reviewText']), t['overall'].to_numpy()"
   ]
  },
  {
   "cell_type": "code",
   "execution_count": 201,
   "metadata": {},
   "outputs": [
    {
     "name": "stdout",
     "output_type": "stream",
     "text": [
      "Iteration 1, loss = 0.13211332\n",
      "Validation score: 0.971543\n",
      "Iteration 2, loss = 0.04269344\n",
      "Validation score: 0.969620\n",
      "Iteration 3, loss = 0.02367332\n",
      "Validation score: 0.967640\n",
      "Iteration 4, loss = 0.01776854\n",
      "Validation score: 0.965659\n",
      "Iteration 5, loss = 0.01929326\n",
      "Validation score: 0.965280\n",
      "Iteration 6, loss = 0.02044259\n",
      "Validation score: 0.964610\n",
      "Iteration 7, loss = 0.01736023\n",
      "Validation score: 0.964261\n",
      "Iteration 8, loss = 0.01610820\n",
      "Validation score: 0.964698\n",
      "Iteration 9, loss = 0.01654592\n",
      "Validation score: 0.963212\n",
      "Iteration 10, loss = 0.01610052\n",
      "Validation score: 0.963999\n",
      "Iteration 11, loss = 0.01473822\n",
      "Validation score: 0.963503\n",
      "Iteration 12, loss = 0.01412058\n",
      "Validation score: 0.963067\n",
      "Validation score did not improve more than tol=0.000010 for 10 consecutive epochs. Stopping.\n"
     ]
    },
    {
     "data": {
      "text/html": [
       "<style>#sk-container-id-1 {color: black;background-color: white;}#sk-container-id-1 pre{padding: 0;}#sk-container-id-1 div.sk-toggleable {background-color: white;}#sk-container-id-1 label.sk-toggleable__label {cursor: pointer;display: block;width: 100%;margin-bottom: 0;padding: 0.3em;box-sizing: border-box;text-align: center;}#sk-container-id-1 label.sk-toggleable__label-arrow:before {content: \"▸\";float: left;margin-right: 0.25em;color: #696969;}#sk-container-id-1 label.sk-toggleable__label-arrow:hover:before {color: black;}#sk-container-id-1 div.sk-estimator:hover label.sk-toggleable__label-arrow:before {color: black;}#sk-container-id-1 div.sk-toggleable__content {max-height: 0;max-width: 0;overflow: hidden;text-align: left;background-color: #f0f8ff;}#sk-container-id-1 div.sk-toggleable__content pre {margin: 0.2em;color: black;border-radius: 0.25em;background-color: #f0f8ff;}#sk-container-id-1 input.sk-toggleable__control:checked~div.sk-toggleable__content {max-height: 200px;max-width: 100%;overflow: auto;}#sk-container-id-1 input.sk-toggleable__control:checked~label.sk-toggleable__label-arrow:before {content: \"▾\";}#sk-container-id-1 div.sk-estimator input.sk-toggleable__control:checked~label.sk-toggleable__label {background-color: #d4ebff;}#sk-container-id-1 div.sk-label input.sk-toggleable__control:checked~label.sk-toggleable__label {background-color: #d4ebff;}#sk-container-id-1 input.sk-hidden--visually {border: 0;clip: rect(1px 1px 1px 1px);clip: rect(1px, 1px, 1px, 1px);height: 1px;margin: -1px;overflow: hidden;padding: 0;position: absolute;width: 1px;}#sk-container-id-1 div.sk-estimator {font-family: monospace;background-color: #f0f8ff;border: 1px dotted black;border-radius: 0.25em;box-sizing: border-box;margin-bottom: 0.5em;}#sk-container-id-1 div.sk-estimator:hover {background-color: #d4ebff;}#sk-container-id-1 div.sk-parallel-item::after {content: \"\";width: 100%;border-bottom: 1px solid gray;flex-grow: 1;}#sk-container-id-1 div.sk-label:hover label.sk-toggleable__label {background-color: #d4ebff;}#sk-container-id-1 div.sk-serial::before {content: \"\";position: absolute;border-left: 1px solid gray;box-sizing: border-box;top: 0;bottom: 0;left: 50%;z-index: 0;}#sk-container-id-1 div.sk-serial {display: flex;flex-direction: column;align-items: center;background-color: white;padding-right: 0.2em;padding-left: 0.2em;position: relative;}#sk-container-id-1 div.sk-item {position: relative;z-index: 1;}#sk-container-id-1 div.sk-parallel {display: flex;align-items: stretch;justify-content: center;background-color: white;position: relative;}#sk-container-id-1 div.sk-item::before, #sk-container-id-1 div.sk-parallel-item::before {content: \"\";position: absolute;border-left: 1px solid gray;box-sizing: border-box;top: 0;bottom: 0;left: 50%;z-index: -1;}#sk-container-id-1 div.sk-parallel-item {display: flex;flex-direction: column;z-index: 1;position: relative;background-color: white;}#sk-container-id-1 div.sk-parallel-item:first-child::after {align-self: flex-end;width: 50%;}#sk-container-id-1 div.sk-parallel-item:last-child::after {align-self: flex-start;width: 50%;}#sk-container-id-1 div.sk-parallel-item:only-child::after {width: 0;}#sk-container-id-1 div.sk-dashed-wrapped {border: 1px dashed gray;margin: 0 0.4em 0.5em 0.4em;box-sizing: border-box;padding-bottom: 0.4em;background-color: white;}#sk-container-id-1 div.sk-label label {font-family: monospace;font-weight: bold;display: inline-block;line-height: 1.2em;}#sk-container-id-1 div.sk-label-container {text-align: center;}#sk-container-id-1 div.sk-container {/* jupyter's `normalize.less` sets `[hidden] { display: none; }` but bootstrap.min.css set `[hidden] { display: none !important; }` so we also need the `!important` here to be able to override the default hidden behavior on the sphinx rendered scikit-learn.org. See: https://github.com/scikit-learn/scikit-learn/issues/21755 */display: inline-block !important;position: relative;}#sk-container-id-1 div.sk-text-repr-fallback {display: none;}</style><div id=\"sk-container-id-1\" class=\"sk-top-container\"><div class=\"sk-text-repr-fallback\"><pre>MLPClassifier(early_stopping=True, tol=1e-05, verbose=True)</pre><b>In a Jupyter environment, please rerun this cell to show the HTML representation or trust the notebook. <br />On GitHub, the HTML representation is unable to render, please try loading this page with nbviewer.org.</b></div><div class=\"sk-container\" hidden><div class=\"sk-item\"><div class=\"sk-estimator sk-toggleable\"><input class=\"sk-toggleable__control sk-hidden--visually\" id=\"sk-estimator-id-1\" type=\"checkbox\" checked><label for=\"sk-estimator-id-1\" class=\"sk-toggleable__label sk-toggleable__label-arrow\">MLPClassifier</label><div class=\"sk-toggleable__content\"><pre>MLPClassifier(early_stopping=True, tol=1e-05, verbose=True)</pre></div></div></div></div></div>"
      ],
      "text/plain": [
       "MLPClassifier(early_stopping=True, tol=1e-05, verbose=True)"
      ]
     },
     "execution_count": 201,
     "metadata": {},
     "output_type": "execute_result"
    }
   ],
   "source": [
    "mlp_model = MLPClassifier(verbose=True, early_stopping=True, tol=1e-5)\n",
    "mlp_model.fit(xArr, yArr)"
   ]
  },
  {
   "cell_type": "code",
   "execution_count": 202,
   "metadata": {},
   "outputs": [
    {
     "name": "stdout",
     "output_type": "stream",
     "text": [
      "              precision    recall  f1-score   support\n",
      "\n",
      "    Positive       0.99      0.98      0.98     12063\n",
      "    Negative       0.90      0.92      0.91      2242\n",
      "\n",
      "    accuracy                           0.97     14305\n",
      "   macro avg       0.94      0.95      0.95     14305\n",
      "weighted avg       0.97      0.97      0.97     14305\n",
      "\n"
     ]
    },
    {
     "data": {
      "image/png": "[encoded data removed]",
      "text/plain": [
       "<Figure size 1080x576 with 2 Axes>"
      ]
     },
     "metadata": {
      "needs_background": "light"
     },
     "output_type": "display_data"
    }
   ],
   "source": [
    "t = [x for x in zip(testXArr, testYArr) if x[1] in (1,5)]\n",
    "yHat = ['Negative' if x == 1 else 'Positive' for x in mlp_model.predict(sp.sparse.vstack([x[0] for x in t]))]\n",
    "show_result2group(yHat, ['Negative' if x == 1 else 'Positive' for x in [x[1] for x in t] if x in (1,5)])"
   ]
  },
  {
   "cell_type": "code",
   "execution_count": 203,
   "metadata": {},
   "outputs": [],
   "source": [
    "# Performance looks better with 91% f-1 score on Negative labels\n",
    "# Moving forward, we will only target binary output (1 & 5)"
   ]
  }
 ],
 "metadata": {
  "kernelspec": {
   "display_name": "Python 3.10.5 ('env': venv)",
   "language": "python",
   "name": "python3"
  },
  "language_info": {
   "codemirror_mode": {
    "name": "ipython",
    "version": 3
   },
   "file_extension": ".py",
   "mimetype": "text/x-python",
   "name": "python",
   "nbconvert_exporter": "python",
   "pygments_lexer": "ipython3",
   "version": "3.10.5"
  },
  "orig_nbformat": 4,
  "vscode": {
   "interpreter": {
    "hash": "055ed1be4b0fa29866f2e2aeab85b185190bfa779d52a08d11b266bfb238964b"
   }
  }
 },
 "nbformat": 4,
 "nbformat_minor": 2
}
