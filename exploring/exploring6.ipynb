{
 "cells": [
  {
   "cell_type": "code",
   "execution_count": 3,
   "metadata": {},
   "outputs": [],
   "source": [
    "# general tools\n",
    "import pandas as pd\n",
    "import matplotlib.pyplot as plt\n",
    "import seaborn as sns\n",
    "import io\n",
    "import re\n",
    "import datetime as dt\n",
    "import json\n",
    "import requests\n",
    "import scipy as sp\n",
    "import numpy as np\n",
    "import tempfile\n",
    "import random\n",
    "import time\n",
    "import math\n",
    "import statistics\n",
    "import os\n",
    "from typing import Tuple, Dict, List\n",
    "import sys\n",
    "import warnings\n",
    "warnings.filterwarnings('ignore')\n",
    "\n",
    "# preprocessing & utils\n",
    "import nltk\n",
    "from nltk import pos_tag\n",
    "from nltk import word_tokenize\n",
    "from nltk import pos_tag\n",
    "from nltk.stem import WordNetLemmatizer \n",
    "from nltk.corpus import stopwords\n",
    "from nltk.tokenize import word_tokenize, sent_tokenize\n",
    "from sklearn.model_selection import GridSearchCV, train_test_split\n",
    "from sklearn.metrics import confusion_matrix, accuracy_score, classification_report\n",
    "from sklearn.feature_extraction.text import TfidfVectorizer, CountVectorizer\n",
    "\n",
    "# ml models\n",
    "from sklearn.naive_bayes import MultinomialNB\n",
    "from sklearn.svm import LinearSVC\n",
    "from sklearn.linear_model import SGDClassifier, LogisticRegression\n",
    "from sklearn.neural_network import MLPClassifier\n",
    "\n",
    "# others\n",
    "from wordcloud import WordCloud\n",
    "from matplotlib.ticker import FormatStrFormatter"
   ]
  },
  {
   "cell_type": "markdown",
   "metadata": {},
   "source": [
    "<center>\n",
    "    <h3>Constant</h3>\n",
    "</center>"
   ]
  },
  {
   "cell_type": "code",
   "execution_count": 5,
   "metadata": {},
   "outputs": [],
   "source": [
    "stop_words = set(stopwords.words('english'))\n",
    "lemmatizer = WordNetLemmatizer()"
   ]
  },
  {
   "cell_type": "markdown",
   "metadata": {},
   "source": [
    "<center>\n",
    "    <h3>Utitility Function</h3>\n",
    "</center>"
   ]
  },
  {
   "cell_type": "code",
   "execution_count": 6,
   "metadata": {},
   "outputs": [],
   "source": [
    "# processsing\n",
    "def pipe_cleaningText(text: str) -> str:\n",
    "    txt = text.lower()\n",
    "    return txt\n",
    "\n",
    "def pipe_removeStopWords(text: str, tokenized: bool = False) -> str:\n",
    "    if tokenized:\n",
    "        return \" \".join([w for w in text.split(\" \") if w not in stop_words])\n",
    "    return \" \".join([w for w in word_tokenize(text) if w not in stop_words])\n",
    "\n",
    "def pipe_lemmatization(text: str, tokenized: bool = False) -> str:\n",
    "    txt = \"\"\n",
    "    collections = word_tokenize(text) if not tokenized else text.split(\" \")\n",
    "    for w in collections:\n",
    "        txt += lemmatizer.lemmatize(w) + ' '\n",
    "    return txt.strip()\n",
    "\n",
    "def pipe_addPos(text: str, tokenized: bool = False) -> str:\n",
    "    txt = \"\"\n",
    "    collections = word_tokenize(text) if not tokenized else text.split(\" \")\n",
    "    for w in pos_tag(collections):\n",
    "        txt += '__'.join(w) + ' '\n",
    "    return txt.strip()\n",
    "\n",
    "def pipe_normalized(text: str, bin: int, tokenized: bool = False) -> str:\n",
    "    txt = \"\"\n",
    "    collections = word_tokenize(text) if not tokenized else text.split(\" \")\n",
    "    n = len(collections)\n",
    "    for i, w in enumerate(collections):\n",
    "        normVal = math.floor((i / (n - 1)) * (bin - 1)) + 1 if n != 1 else 1\n",
    "        txt += w + '__' + str(normVal) + ' '\n",
    "    return txt.strip()\n",
    "\n",
    "def pipe_subjectCleaning(text: str, tokenized: bool = False) -> str:\n",
    "    txt = \"\"\n",
    "    collections = sent_tokenize(text) if not tokenized else text.split(\" \")\n",
    "    for s in collections:\n",
    "        for w in pos_tag(word_tokenize(s)):\n",
    "            if w[1] != 'NNP':\n",
    "                continue\n",
    "            txt += w[0] + ' '\n",
    "    return txt.strip()\n",
    "\n",
    "# feature extraction\n",
    "def feature_tfidfUni(series: pd.Series, max_features=None) -> Tuple[sp.sparse.csr_matrix, TfidfVectorizer]:\n",
    "    tfidf_vectorizer = TfidfVectorizer(ngram_range=(1,1), max_features=max_features)\n",
    "    tfidf_vectorizer.fit(series)\n",
    "    return tfidf_vectorizer.transform(series), tfidf_vectorizer\n",
    "\n",
    "def feature_bowUni(series: pd.Series, max_features=None) -> Tuple[sp.sparse.csr_matrix, CountVectorizer]:\n",
    "    bow_vectorizer = CountVectorizer(ngram_range=(1,1), max_features=max_features)\n",
    "    bow_vectorizer.fit(series)\n",
    "    return bow_vectorizer.transform(series), bow_vectorizer\n",
    "\n",
    "def feature_tfidfUniBi(series: pd.Series, max_features=None) -> Tuple[sp.sparse.csr_matrix, TfidfVectorizer]:\n",
    "    tfidf_vectorizer = TfidfVectorizer(ngram_range=(1,2), max_features=max_features)\n",
    "    tfidf_vectorizer.fit(series)\n",
    "    return tfidf_vectorizer.transform(series), tfidf_vectorizer\n",
    "\n",
    "def feature_bowUniBi(series: pd.Series, max_features=None) -> Tuple[sp.sparse.csr_matrix, CountVectorizer]:\n",
    "    bow_vectorizer = CountVectorizer(ngram_range=(1,2), max_features=max_features)\n",
    "    bow_vectorizer.fit(series)\n",
    "    return bow_vectorizer.transform(series), bow_vectorizer\n",
    "\n",
    "# sampling\n",
    "def balancing_upsampling(data: pd.DataFrame, target: int=None) -> pd.DataFrame:\n",
    "    group_res = data.groupby(by=['overall'])['overall'].count()\n",
    "    highest_n = max(group_res.values) if not target else target\n",
    "    thedata = data[data.overall == group_res[group_res == highest_n].index[0]] if not target else data.drop(data.index)\n",
    "    for i in group_res.index:\n",
    "        if group_res.loc[i] == highest_n:\n",
    "            continue\n",
    "        tdata = data[data.overall == i]\n",
    "        sample_ind = np.random.choice(tdata.index, highest_n - group_res.loc[i], replace=True)\n",
    "        thedata = pd.concat([thedata, tdata, tdata.loc[sample_ind]])\n",
    "    return thedata\n",
    "\n",
    "def balancing_downsampling(data: pd.DataFrame, target: int=None) -> pd.DataFrame:\n",
    "    group_res = data.groupby(by=['overall'])['overall'].count()\n",
    "    lowest_n = min(group_res.values) if not target else target\n",
    "    thedata = data[data.overall == group_res[group_res == lowest_n].index[0]] if not target else data.drop(data.index)\n",
    "    for i in group_res.index:\n",
    "        if group_res.loc[i] == lowest_n:\n",
    "            continue\n",
    "        tdata = data[data.overall == i]\n",
    "        sample_ind = np.random.choice(tdata.index, lowest_n, replace=False)\n",
    "        thedata = pd.concat([thedata, tdata.loc[sample_ind]])\n",
    "    return thedata\n",
    "\n",
    "# testing\n",
    "def accuracyTrainTest(model, trainX: np.array, trainY: np.array, valX: np.array, valY: np.array, testX: np.array, testY: np.array) -> Tuple[float, float, float]:\n",
    "    mod = model.fit(trainX, trainY)\n",
    "    yfit = mod.predict(trainX)\n",
    "    ypredVal = mod.predict(valX)\n",
    "    ypredTest = mod.predict(testX)\n",
    "    \n",
    "    # train result, validation result, test result\n",
    "    return accuracy_score(trainY, yfit), accuracy_score(valY, ypredVal), accuracy_score(testY, ypredTest)\n",
    "    \n",
    "def loop_testing(model, n_test: int, xArr: sp.sparse.csr_matrix, yArr: np.array, testXArr: sp.sparse.csr_matrix, testYArr: np.array) -> Dict[str, List[float]]:\n",
    "    thedict = {}\n",
    "\n",
    "    i = 0\n",
    "    n = xArr.shape[0]\n",
    "    n_sample = math.ceil(n / n_test)\n",
    "    x_sam, y_sam = np.array([]), np.array([])\n",
    "    while i < n_test:\n",
    "        percent_sample = n_sample/xArr.shape[0]\n",
    "        if percent_sample >= 1:\n",
    "            xmain, ymain = xArr, yArr\n",
    "        else:\n",
    "            xmain, xArr, ymain, yArr = train_test_split(xArr, yArr, train_size=percent_sample, stratify=yArr, random_state=123)\n",
    "        \n",
    "        x_sam = sp.sparse.vstack((x_sam, xmain)) if x_sam.shape[0] != 0 else xmain\n",
    "        y_sam = np.hstack((y_sam, ymain)) if y_sam.shape[0] != 0 else ymain\n",
    "        xtrain, xtest, ytrain, ytest = train_test_split(x_sam, y_sam, train_size=0.9, stratify=y_sam, random_state=123)\n",
    "\n",
    "        resTrain, resVal, resTest = accuracyTrainTest(model, xtrain, ytrain, xtest, ytest, testXArr, testYArr)\n",
    "        thedict[x_sam.shape[0]] = [resTrain, resVal, resTest]\n",
    "\n",
    "        i += 1\n",
    "    return thedict\n",
    "\n",
    "# visualization\n",
    "def show_result(ypred: np.array, ytarget: np.array) -> None:\n",
    "    label = ['Positive', 'Neutral', 'Negative']\n",
    "    report = classification_report(ypred, ytarget, labels=label)\n",
    "    conf_matrix = confusion_matrix(ypred, ytarget, labels=label)\n",
    "\n",
    "    group_names = ['True Pos', 'False Neu', 'False Neg',\n",
    "                   'False Pos', 'True Neu', 'False Neg',\n",
    "                   'False Pos', 'False Neu', 'True Neg']\n",
    "    group_percentages = ['{0:.2%}'.format(value) for value in conf_matrix.flatten() / np.sum(conf_matrix)]\n",
    "    labels = [f'{v1}\\n{v2}\\n{v3}' for v1, v2, v3 in zip(group_names, group_percentages, conf_matrix.flatten())]\n",
    "    labels = np.asarray(labels).reshape(3, 3)\n",
    "\n",
    "    df_cm = pd.DataFrame(data=conf_matrix, index=label, columns=label)\n",
    "\n",
    "    print(report)\n",
    "    fix, axe = plt.subplots(figsize=(15, 8), nrows=1, ncols=1)\n",
    "    sns.heatmap(df_cm, xticklabels=label, yticklabels=label, annot=labels, ax=axe, cmap = 'Blues', fmt = '')\n",
    "    plt.show();\n",
    "\n",
    "# visualization\n",
    "def show_result2group(ypred: np.array, ytarget: np.array) -> None:\n",
    "    label = ['Positive', 'Negative']\n",
    "    report = classification_report(ypred, ytarget, labels=label)\n",
    "    conf_matrix = confusion_matrix(ypred, ytarget, labels=label)\n",
    "\n",
    "    group_names = ['True Pos', 'False Neg',\n",
    "                   'False Pos', 'True Neg']\n",
    "    group_percentages = ['{0:.2%}'.format(value) for value in conf_matrix.flatten() / np.sum(conf_matrix)]\n",
    "    labels = [f'{v1}\\n{v2}\\n{v3}' for v1, v2, v3 in zip(group_names, group_percentages, conf_matrix.flatten())]\n",
    "    labels = np.asarray(labels).reshape(2,2)\n",
    "\n",
    "    df_cm = pd.DataFrame(data=conf_matrix, index=label, columns=label)\n",
    "\n",
    "    print(report)\n",
    "    fix, axe = plt.subplots(figsize=(15, 8), nrows=1, ncols=1)\n",
    "    sns.heatmap(df_cm, xticklabels=label, yticklabels=label, annot=labels, ax=axe, cmap = 'Blues', fmt = '')\n",
    "    plt.show();\n",
    "\n",
    "def show_result5group(ypred: np.array, ytarget: np.array) -> None:\n",
    "    label = [1,2,3,4,5][::-1]\n",
    "    report = classification_report(ypred, ytarget, labels=label)\n",
    "    conf_matrix = confusion_matrix(ypred, ytarget, labels=label)\n",
    "\n",
    "    group_names = ['True Pos', 'False Meh-Pos', 'False Neu', 'False Meh-Neg', 'False Neg',\n",
    "                   'False Pos', 'True Meh-Pos', 'False Neu', 'False Meh-Neg', 'False Neg',\n",
    "                   'False Pos', 'False Meh-Pos', 'True Neu', 'False Meh-Neg', 'False Neg',\n",
    "                   'False Pos', 'False Meh-Pos', 'False Neu', 'True Meh-Neg', 'False Neg',\n",
    "                   'False Pos', 'False Meh-Pos', 'False Neu', 'False Meh-Neg', 'True Neg']\n",
    "    group_percentages = ['{0:.2%}'.format(value) for value in conf_matrix.flatten() / np.sum(conf_matrix)]\n",
    "    labels = [f'{v1}\\n{v2}\\n{v3}' for v1, v2, v3 in zip(group_names, group_percentages, conf_matrix.flatten())]\n",
    "    labels = np.asarray(labels).reshape(5, 5)\n",
    "\n",
    "    df_cm = pd.DataFrame(data=conf_matrix, index=label, columns=label)\n",
    "\n",
    "    print(report)\n",
    "    fix, axe = plt.subplots(figsize=(15, 8), nrows=1, ncols=1)\n",
    "    sns.heatmap(df_cm, xticklabels=label, yticklabels=label, annot=labels, ax=axe, cmap = 'Blues', fmt = '')\n",
    "    plt.show();\n",
    "\n",
    "def visualized_loopTesting(result_loopTesting: Dict[str, List[float]]) -> None:\n",
    "    train_res, val_res, test_res = dict(), dict(), dict()\n",
    "    for res in result_loopTesting:\n",
    "        train_res[res] = result[res][0]\n",
    "        val_res[res] = result[res][1]\n",
    "        test_res[res] = result[res][2]\n",
    "\n",
    "    fig, axe = plt.subplots(figsize=(15, 8), nrows=1, ncols=1)\n",
    "    sns.lineplot(y=train_res.values(), x=train_res.keys() , ax=axe, label='train-result')\n",
    "    sns.lineplot(y=val_res.values(), x=val_res.keys(), ax=axe, label='val-result')\n",
    "    sns.lineplot(y=test_res.values(), x=test_res.keys(), ax=axe, label='test-result')\n",
    "    axe.set_title(\"Highest Score: {}\".format(max(test_res.values())))\n",
    "    axe.set_xlabel(\"Dataset Size\")\n",
    "    axe.set_ylabel(\"Accuracy\")\n",
    "    axe.set_ylim([0.65, 1.0])\n",
    "    axe.xaxis.set_major_formatter(FormatStrFormatter('%.0f'))\n",
    "    plt.show();\n",
    "\n",
    "# others\n",
    "def correlation(x: list, y: list) -> float:\n",
    "    x = np.array(x)\n",
    "    y = np.array(y)\n",
    "    bar_x = x.mean()\n",
    "    bar_y = y.mean()\n",
    "    sum_xixbar_yiybar = sum((x - bar_x) * (y - bar_y))\n",
    "    sum_xixbar2 = sum((x - bar_x) ** 2)\n",
    "    sum_yiybar2 = sum((y - bar_y) ** 2)\n",
    "\n",
    "    numer = sum_xixbar_yiybar\n",
    "    denom = (sum_xixbar2 * sum_yiybar2) ** (1 / 2)\n",
    "\n",
    "    r = numer / denom if denom != 0 else 0\n",
    "\n",
    "    return r\n",
    "\n",
    "def gradient(x: list, y: list) -> float:\n",
    "    p1 = [x[0], y[0]]\n",
    "    p2 = [x[2], y[2]]\n",
    "\n",
    "    numer = p1[1] - p2[1]\n",
    "    denom = p1[0] - p2[0]\n",
    "\n",
    "    return numer / denom\n",
    "    "
   ]
  },
  {
   "cell_type": "markdown",
   "metadata": {},
   "source": [
    "<center>\n",
    "    <h3>NN Utility Function</h3>\n",
    "</center>"
   ]
  },
  {
   "cell_type": "code",
   "execution_count": 43,
   "metadata": {},
   "outputs": [],
   "source": [
    "import gensim\n",
    "import multiprocessing\n",
    "from tensorflow.keras import models, layers, preprocessing as kprocessing\n",
    "\n",
    "\n",
    "def skipGram(training_corpus: list) -> None:\n",
    "    \"\"\"\n",
    "    This model will be use to embedded the words\n",
    "\n",
    "    training_corpus: list of list of words, i.e list of split sentences\n",
    "    \"\"\"\n",
    "    \n",
    "    w2v_model = gensim.models.word2vec.Word2Vec(\n",
    "        training_corpus, \n",
    "        epochs=50, \n",
    "        vector_size=300, \n",
    "        sample=6e-5,\n",
    "        alpha=0.001, \n",
    "        min_alpha=0.0007, \n",
    "        window=15, \n",
    "        min_count=5,\n",
    "        workers=multiprocessing.cpu_count()-1)\n",
    "    w2v_model.init_sims(replace=True)\n",
    "\n",
    "    return w2v_model\n",
    "\n",
    "def textTokenizer(training_corpus: list) -> None:\n",
    "    \"\"\"\n",
    "    This model will be use to tokenized the text and get the id\n",
    "\n",
    "    training_corpus: list of list of words, i.e list of split sentences\n",
    "    \"\"\"\n",
    "\n",
    "    tokenizer = kprocessing.text.Tokenizer(lower=True, split=' ', oov_token=\"NaN\")\n",
    "    tokenizer.fit_on_texts(training_corpus)\n",
    "\n",
    "    return tokenizer\n",
    "\n",
    "def textToIDs(tokenizer: kprocessing.text.Tokenizer, training_corpus: list) -> None:\n",
    "    \"\"\"\n",
    "    This function will be use to convert texts to id & added padding\n",
    "\n",
    "    tokenizer: needs to be kprocessing.text.Tokenizer object\n",
    "    training_corpus: list of list of words, i.e list of split sentences\n",
    "    \"\"\"\n",
    "\n",
    "    text2seq= tokenizer.texts_to_sequences(training_corpus)\n",
    "    data = kprocessing.sequence.pad_sequences(\n",
    "        text2seq, \n",
    "        maxlen=75, \n",
    "        padding=\"post\", \n",
    "        truncating=\"post\")\n",
    "\n",
    "    return data\n",
    "\n",
    "def getEmbeddedData(w2v_model: gensim.models.word2vec.Word2Vec, tokenizer: kprocessing.text.Tokenizer) -> None:\n",
    "    \"\"\"\n",
    "    This function will generate the embedded matrix to map the word id\n",
    "    \n",
    "    w2v_model: will be use to get the vector\n",
    "    tokenizer: will be use to get the corpus mapping dictionary\n",
    "    \"\"\"\n",
    "    \n",
    "    embeddings = np.zeros((len(tokenizer.word_index)+1, w2v_model.wv.vector_size))\n",
    "    for word, index in tokenizer.word_index.items():\n",
    "        if word in w2v_model.wv:\n",
    "            embeddings[index] = w2v_model.wv[word]\n",
    "    \n",
    "    return embeddings"
   ]
  },
  {
   "cell_type": "markdown",
   "metadata": {},
   "source": [
    "<center>\n",
    "    <h3>Pre-Process</h3>\n",
    "</center>"
   ]
  },
  {
   "cell_type": "markdown",
   "metadata": {},
   "source": [
    "Goals\n",
    "- Explore embedding from raw text instead of processed text with NN\n",
    "- Processed text without embedding with NN"
   ]
  },
  {
   "cell_type": "code",
   "execution_count": 8,
   "metadata": {},
   "outputs": [],
   "source": [
    "df = pd.read_csv('../data/Amazon_Electronics.csv')"
   ]
  },
  {
   "cell_type": "code",
   "execution_count": 9,
   "metadata": {},
   "outputs": [
    {
     "data": {
      "text/html": [
       "<div>\n",
       "<style scoped>\n",
       "    .dataframe tbody tr th:only-of-type {\n",
       "        vertical-align: middle;\n",
       "    }\n",
       "\n",
       "    .dataframe tbody tr th {\n",
       "        vertical-align: top;\n",
       "    }\n",
       "\n",
       "    .dataframe thead th {\n",
       "        text-align: right;\n",
       "    }\n",
       "</style>\n",
       "<table border=\"1\" class=\"dataframe\">\n",
       "  <thead>\n",
       "    <tr style=\"text-align: right;\">\n",
       "      <th></th>\n",
       "      <th>overall</th>\n",
       "      <th>unixReviewTime</th>\n",
       "    </tr>\n",
       "  </thead>\n",
       "  <tbody>\n",
       "    <tr>\n",
       "      <th>count</th>\n",
       "      <td>2.094154e+07</td>\n",
       "      <td>2.094154e+07</td>\n",
       "    </tr>\n",
       "    <tr>\n",
       "      <th>mean</th>\n",
       "      <td>4.073490e+00</td>\n",
       "      <td>1.425820e+09</td>\n",
       "    </tr>\n",
       "    <tr>\n",
       "      <th>std</th>\n",
       "      <td>1.385862e+00</td>\n",
       "      <td>7.772530e+07</td>\n",
       "    </tr>\n",
       "    <tr>\n",
       "      <th>min</th>\n",
       "      <td>1.000000e+00</td>\n",
       "      <td>8.811936e+08</td>\n",
       "    </tr>\n",
       "    <tr>\n",
       "      <th>25%</th>\n",
       "      <td>4.000000e+00</td>\n",
       "      <td>1.393891e+09</td>\n",
       "    </tr>\n",
       "    <tr>\n",
       "      <th>50%</th>\n",
       "      <td>5.000000e+00</td>\n",
       "      <td>1.440461e+09</td>\n",
       "    </tr>\n",
       "    <tr>\n",
       "      <th>75%</th>\n",
       "      <td>5.000000e+00</td>\n",
       "      <td>1.478563e+09</td>\n",
       "    </tr>\n",
       "    <tr>\n",
       "      <th>max</th>\n",
       "      <td>5.000000e+00</td>\n",
       "      <td>1.538698e+09</td>\n",
       "    </tr>\n",
       "  </tbody>\n",
       "</table>\n",
       "</div>"
      ],
      "text/plain": [
       "            overall  unixReviewTime\n",
       "count  2.094154e+07    2.094154e+07\n",
       "mean   4.073490e+00    1.425820e+09\n",
       "std    1.385862e+00    7.772530e+07\n",
       "min    1.000000e+00    8.811936e+08\n",
       "25%    4.000000e+00    1.393891e+09\n",
       "50%    5.000000e+00    1.440461e+09\n",
       "75%    5.000000e+00    1.478563e+09\n",
       "max    5.000000e+00    1.538698e+09"
      ]
     },
     "execution_count": 9,
     "metadata": {},
     "output_type": "execute_result"
    }
   ],
   "source": [
    "df.describe()"
   ]
  },
  {
   "cell_type": "code",
   "execution_count": 10,
   "metadata": {},
   "outputs": [
    {
     "data": {
      "text/plain": [
       "overall                  0\n",
       "verified                 0\n",
       "reviewTime               0\n",
       "reviewerID               0\n",
       "asin                     0\n",
       "style             10476370\n",
       "reviewerName          2668\n",
       "reviewText            9670\n",
       "summary               4896\n",
       "unixReviewTime           0\n",
       "vote              18254610\n",
       "image             20594419\n",
       "dtype: int64"
      ]
     },
     "execution_count": 10,
     "metadata": {},
     "output_type": "execute_result"
    }
   ],
   "source": [
    "df.isnull().sum()"
   ]
  },
  {
   "cell_type": "code",
   "execution_count": 11,
   "metadata": {},
   "outputs": [
    {
     "data": {
      "text/plain": [
       "<AxesSubplot:xlabel='overall'>"
      ]
     },
     "execution_count": 11,
     "metadata": {},
     "output_type": "execute_result"
    },
    {
     "data": {
      "image/png": "[encoded data removed]",
      "text/plain": [
       "<Figure size 432x288 with 1 Axes>"
      ]
     },
     "metadata": {
      "needs_background": "light"
     },
     "output_type": "display_data"
    }
   ],
   "source": [
    "sns.boxplot(df['overall'])"
   ]
  },
  {
   "cell_type": "code",
   "execution_count": 12,
   "metadata": {},
   "outputs": [
    {
     "data": {
      "text/plain": [
       "<AxesSubplot:xlabel='overall', ylabel='Count'>"
      ]
     },
     "execution_count": 12,
     "metadata": {},
     "output_type": "execute_result"
    },
    {
     "data": {
      "image/png": "[encoded data removed]",
      "text/plain": [
       "<Figure size 432x288 with 1 Axes>"
      ]
     },
     "metadata": {
      "needs_background": "light"
     },
     "output_type": "display_data"
    }
   ],
   "source": [
    "sns.histplot(df['overall'])"
   ]
  },
  {
   "cell_type": "code",
   "execution_count": 13,
   "metadata": {},
   "outputs": [
    {
     "data": {
      "text/html": [
       "<div>\n",
       "<style scoped>\n",
       "    .dataframe tbody tr th:only-of-type {\n",
       "        vertical-align: middle;\n",
       "    }\n",
       "\n",
       "    .dataframe tbody tr th {\n",
       "        vertical-align: top;\n",
       "    }\n",
       "\n",
       "    .dataframe thead th {\n",
       "        text-align: right;\n",
       "    }\n",
       "</style>\n",
       "<table border=\"1\" class=\"dataframe\">\n",
       "  <thead>\n",
       "    <tr style=\"text-align: right;\">\n",
       "      <th></th>\n",
       "      <th>reviewText</th>\n",
       "      <th>overall</th>\n",
       "    </tr>\n",
       "  </thead>\n",
       "  <tbody>\n",
       "    <tr>\n",
       "      <th>0</th>\n",
       "      <td>This was the first time I read Garcia-Aguilera...</td>\n",
       "      <td>5</td>\n",
       "    </tr>\n",
       "    <tr>\n",
       "      <th>1</th>\n",
       "      <td>As with all of Ms. Garcia-Aguilera's books, I ...</td>\n",
       "      <td>5</td>\n",
       "    </tr>\n",
       "    <tr>\n",
       "      <th>2</th>\n",
       "      <td>I've not read any of Ms Aguilera's works befor...</td>\n",
       "      <td>5</td>\n",
       "    </tr>\n",
       "    <tr>\n",
       "      <th>3</th>\n",
       "      <td>This romance novel is right up there with the ...</td>\n",
       "      <td>4</td>\n",
       "    </tr>\n",
       "    <tr>\n",
       "      <th>4</th>\n",
       "      <td>Carolina Garcia Aguilera has done it again.  S...</td>\n",
       "      <td>5</td>\n",
       "    </tr>\n",
       "  </tbody>\n",
       "</table>\n",
       "</div>"
      ],
      "text/plain": [
       "                                          reviewText  overall\n",
       "0  This was the first time I read Garcia-Aguilera...        5\n",
       "1  As with all of Ms. Garcia-Aguilera's books, I ...        5\n",
       "2  I've not read any of Ms Aguilera's works befor...        5\n",
       "3  This romance novel is right up there with the ...        4\n",
       "4  Carolina Garcia Aguilera has done it again.  S...        5"
      ]
     },
     "execution_count": 13,
     "metadata": {},
     "output_type": "execute_result"
    }
   ],
   "source": [
    "dfdata = df[['reviewText', 'overall']]\n",
    "dfdata.head()"
   ]
  },
  {
   "cell_type": "code",
   "execution_count": 14,
   "metadata": {},
   "outputs": [
    {
     "data": {
      "text/plain": [
       "reviewText    9670\n",
       "overall          0\n",
       "dtype: int64"
      ]
     },
     "execution_count": 14,
     "metadata": {},
     "output_type": "execute_result"
    }
   ],
   "source": [
    "dfdata.isnull().sum()"
   ]
  },
  {
   "cell_type": "code",
   "execution_count": 15,
   "metadata": {},
   "outputs": [],
   "source": [
    "dfdata = dfdata[(~dfdata.isnull().any(axis=1)) & (dfdata.reviewText.apply(lambda x: str(x).strip() != \"\"))]"
   ]
  },
  {
   "cell_type": "code",
   "execution_count": 16,
   "metadata": {},
   "outputs": [
    {
     "data": {
      "text/plain": [
       "reviewText    0\n",
       "overall       0\n",
       "dtype: int64"
      ]
     },
     "execution_count": 16,
     "metadata": {},
     "output_type": "execute_result"
    }
   ],
   "source": [
    "dfdata.isnull().sum()"
   ]
  },
  {
   "cell_type": "code",
   "execution_count": 17,
   "metadata": {},
   "outputs": [],
   "source": [
    "# filter to only get 1 & 5 output\n",
    "dfdata = dfdata[dfdata['overall'].apply(lambda x: x in (1, 5))]"
   ]
  },
  {
   "cell_type": "code",
   "execution_count": 18,
   "metadata": {},
   "outputs": [],
   "source": [
    "target_n = 500 * 1000\n",
    "dfdataMain, _ = train_test_split(dfdata, train_size=target_n / dfdata.shape[0], stratify=dfdata['overall'], random_state=123)"
   ]
  },
  {
   "cell_type": "code",
   "execution_count": 19,
   "metadata": {},
   "outputs": [
    {
     "data": {
      "text/plain": [
       "(500000, 2)"
      ]
     },
     "execution_count": 19,
     "metadata": {},
     "output_type": "execute_result"
    }
   ],
   "source": [
    "dfdataMain.shape"
   ]
  },
  {
   "cell_type": "code",
   "execution_count": 20,
   "metadata": {},
   "outputs": [],
   "source": [
    "# for training & testing\n",
    "target_n = 480 * 1000\n",
    "dfdataTrain, dfdataTest = train_test_split(dfdataMain, train_size=target_n / dfdataMain.shape[0], stratify=dfdataMain['overall'], random_state=123)"
   ]
  },
  {
   "cell_type": "code",
   "execution_count": 21,
   "metadata": {},
   "outputs": [],
   "source": [
    "# for validation\n",
    "target_n = 48 * 1000\n",
    "dfdataValid, dfdataTrainSub = train_test_split(dfdataTrain, train_size=target_n / dfdataTrain.shape[0], stratify=dfdataTrain['overall'], random_state=123)"
   ]
  },
  {
   "cell_type": "code",
   "execution_count": 22,
   "metadata": {},
   "outputs": [],
   "source": [
    "# for validation training & testing\n",
    "target_n = 45 * 1000\n",
    "dfdataValidTrain, dfdataValidTest = train_test_split(dfdataValid, train_size=target_n / dfdataValid.shape[0], stratify=dfdataValid['overall'], random_state=123)"
   ]
  },
  {
   "cell_type": "code",
   "execution_count": 23,
   "metadata": {},
   "outputs": [
    {
     "data": {
      "text/plain": [
       "<AxesSubplot:xlabel='overall', ylabel='Count'>"
      ]
     },
     "execution_count": 23,
     "metadata": {},
     "output_type": "execute_result"
    },
    {
     "data": {
      "image/png": "[encoded data removed]",
      "text/plain": [
       "<Figure size 1080x504 with 3 Axes>"
      ]
     },
     "metadata": {
      "needs_background": "light"
     },
     "output_type": "display_data"
    }
   ],
   "source": [
    "fig, axes = plt.subplots(figsize=(15,7), nrows=1, ncols=3)\n",
    "sns.histplot(dfdataTrain['overall'], ax=axes[0])\n",
    "sns.histplot(dfdataTrainSub['overall'], ax=axes[1])\n",
    "sns.histplot(dfdataValidTrain['overall'], ax=axes[2])"
   ]
  },
  {
   "cell_type": "code",
   "execution_count": 24,
   "metadata": {},
   "outputs": [
    {
     "data": {
      "text/plain": [
       "465613128"
      ]
     },
     "execution_count": 24,
     "metadata": {},
     "output_type": "execute_result"
    }
   ],
   "source": [
    "statistics.variance(dfdataValidTrain.groupby(by=['overall'])['overall'].count().values)"
   ]
  },
  {
   "cell_type": "code",
   "execution_count": 25,
   "metadata": {},
   "outputs": [],
   "source": [
    "# validation for processing"
   ]
  },
  {
   "cell_type": "code",
   "execution_count": 26,
   "metadata": {},
   "outputs": [],
   "source": [
    "# upsampling minority group for validation training\n",
    "if statistics.variance(dfdataValidTrain.groupby(by=['overall'])['overall'].count().values) >= 10 * 1000:\n",
    "    dfdataValidTrain = balancing_upsampling(dfdataValidTrain)"
   ]
  },
  {
   "cell_type": "code",
   "execution_count": 27,
   "metadata": {},
   "outputs": [
    {
     "data": {
      "text/plain": [
       "<AxesSubplot:xlabel='overall', ylabel='Count'>"
      ]
     },
     "execution_count": 27,
     "metadata": {},
     "output_type": "execute_result"
    },
    {
     "data": {
      "image/png": "[encoded data removed]",
      "text/plain": [
       "<Figure size 432x288 with 1 Axes>"
      ]
     },
     "metadata": {
      "needs_background": "light"
     },
     "output_type": "display_data"
    }
   ],
   "source": [
    "# sample resulf of sampling\n",
    "sns.histplot(dfdataValidTrain['overall'])"
   ]
  },
  {
   "cell_type": "code",
   "execution_count": 28,
   "metadata": {},
   "outputs": [
    {
     "data": {
      "text/plain": [
       "0"
      ]
     },
     "execution_count": 28,
     "metadata": {},
     "output_type": "execute_result"
    }
   ],
   "source": [
    "statistics.variance(dfdataValidTrain.groupby(by=['overall'])['overall'].count().values)"
   ]
  },
  {
   "cell_type": "markdown",
   "metadata": {},
   "source": [
    "<center>\n",
    "    <h3>NN Layer</h3>\n",
    "</center>"
   ]
  },
  {
   "cell_type": "markdown",
   "metadata": {},
   "source": [
    "<div style=\"white-space:pre-line\"> Architecture with Embedding\n",
    "Original Input: (75, 300) -> Flattened(75 * 300)\n",
    "Layer1: {Input: (1, 22500) -> Output: (22500, 100)} = 100 Neurons\n",
    "Layer2: {Input: (1, 100) -> Output: (100, 25)} = 25 Neurons\n",
    "Output: {Input: (25, 2) -> Output: (2, )} = 2 Neurons\n",
    "</div>"
   ]
  },
  {
   "cell_type": "code",
   "execution_count": 46,
   "metadata": {},
   "outputs": [],
   "source": [
    "import torch\n",
    "from torchinfo import summary\n",
    "import torchtext\n",
    "import torchvision\n",
    "from torch.utils.data import Dataset, DataLoader\n",
    "\n",
    "\n",
    "class NeuralNetworkEmbedding(torch.nn.Module):\n",
    "    def __init__(self, embeddings, dropout_rate):\n",
    "        super(NeuralNetworkEmbedding, self).__init__()\n",
    "        \n",
    "        # embedding layer\n",
    "        self.embedding = torch.nn.Embedding.from_pretrained(torch.from_numpy(embeddings)).float()\n",
    "        # flatten layer\n",
    "        self.flatten = torch.nn.Flatten(1)\n",
    "        # fully-connected layer 1\n",
    "        self.nn1 = torch.nn.Linear(22500, 100)\n",
    "        # full-connected layer 2\n",
    "        self.nn2 = torch.nn.Linear(100, 25)\n",
    "        # output layer\n",
    "        self.nn3 = torch.nn.Linear(25, 2)\n",
    "        \n",
    "        # dropout rate\n",
    "        self.dropout = torch.nn.Dropout(dropout_rate)\n",
    "\n",
    "    def forward(self, x):\n",
    "        x = self.embedding(x)\n",
    "        x = self.flatten(x)\n",
    "        x = self.dropout(x)\n",
    "        x = self.nn1(x)\n",
    "        x = torch.nn.functional.relu(x)\n",
    "        x = self.dropout(x)\n",
    "        x = self.nn2(x)\n",
    "        x = torch.nn.functional.relu(x)\n",
    "        x = self.dropout(x)\n",
    "        x = self.nn3(x)\n",
    "        x = torch.nn.functional.sigmoid(x)\n",
    "        return x"
   ]
  },
  {
   "cell_type": "markdown",
   "metadata": {},
   "source": [
    "<div style=\"white-space:pre-line\"> Architecture without Embedding\n",
    "Original Input: (150000, ) \n",
    "Layer1: {Input: (1, 150000) -> Output: (150000, 100)} = 100 Neurons\n",
    "Layer2: {Input: (1, 100) -> Output: (100, 25)} = 25 Neurons\n",
    "Output: {Input: (25, 2) -> Output: (2, )} = 2 Neurons\n",
    "</div>"
   ]
  },
  {
   "cell_type": "code",
   "execution_count": 145,
   "metadata": {},
   "outputs": [],
   "source": [
    "import torch\n",
    "from torchinfo import summary\n",
    "import torchtext\n",
    "import torchvision\n",
    "from torch.utils.data import Dataset, DataLoader\n",
    "\n",
    "\n",
    "class NeuralNetworkUnibi(torch.nn.Module):\n",
    "    def __init__(self, dropout_rate):\n",
    "        super(NeuralNetworkUnibi, self).__init__()\n",
    "        \n",
    "        # flatten layer\n",
    "        self.flatten = torch.nn.Flatten(1)\n",
    "        # fully-connected layer 1\n",
    "        self.nn1 = torch.nn.Linear(150000, 100)\n",
    "        # full-connected layer 2\n",
    "        self.nn2 = torch.nn.Linear(100, 25)\n",
    "        # output layer\n",
    "        self.nn3 = torch.nn.Linear(25, 2)\n",
    "        \n",
    "        # dropout rate\n",
    "        self.dropout = torch.nn.Dropout(dropout_rate)\n",
    "\n",
    "    def forward(self, x):\n",
    "        x = self.flatten(x)\n",
    "        x = self.dropout(x)\n",
    "        x = self.nn1(x)\n",
    "        x = torch.nn.functional.relu(x)\n",
    "        x = self.dropout(x)\n",
    "        x = self.nn2(x)\n",
    "        x = torch.nn.functional.relu(x)\n",
    "        x = self.dropout(x)\n",
    "        x = self.nn3(x)\n",
    "        x = torch.nn.functional.sigmoid(x)\n",
    "        return x"
   ]
  },
  {
   "cell_type": "markdown",
   "metadata": {},
   "source": [
    "<center>\n",
    "    <h3>Process</h3>\n",
    "</center>"
   ]
  },
  {
   "cell_type": "code",
   "execution_count": 132,
   "metadata": {},
   "outputs": [],
   "source": [
    "def pipeline(txt: str) -> str:\n",
    "    txt = pipe_cleaningText(txt)\n",
    "    txt = pipe_removeStopWords(txt)\n",
    "    txt = pipe_lemmatization(txt)\n",
    "    txt = re.sub('[^A-Za-z ]+', '', txt)\n",
    "    return txt\n",
    "\n",
    "tdf1 = dfdataValidTrain.copy()\n",
    "tdf2 = dfdataValidTest.copy()\n",
    "tdf1['reviewText'] = tdf1['reviewText'].apply(lambda x: pipeline(x))\n",
    "tdf2['reviewText'] = tdf2['reviewText'].apply(lambda x: pipeline(x))\n",
    "tdf1['overall'] = tdf1['overall'].apply(lambda x: 1 if x > 1 else 0)\n",
    "tdf2['overall'] = tdf2['overall'].apply(lambda x: 1 if x > 1 else 0)\n",
    "tdf1['lenW'] = tdf1['reviewText'].apply(lambda x: len(x))\n",
    "tdf2['lenW'] = tdf2['reviewText'].apply(lambda x: len(x))"
   ]
  },
  {
   "cell_type": "code",
   "execution_count": 134,
   "metadata": {},
   "outputs": [],
   "source": [
    "training_corpus = [x.split() for x in tdf1['reviewText'].tolist()]\n",
    "\n",
    "skipgram_model = skipGram(training_corpus)\n",
    "texttokenizer_model = textTokenizer(training_corpus)\n",
    "embeddedingMatrix = getEmbeddedData(skipgram_model, texttokenizer_model)\n",
    "\n",
    "embeddedtrainX, embeddedtrainY = textToIDs(texttokenizer_model, training_corpus), tdf1['overall'].to_numpy()\n",
    "embeddedtestX, embeddedtestY = textToIDs(texttokenizer_model, [x.split() for x in tdf2['reviewText'].tolist()]), tdf2['overall'].to_numpy()"
   ]
  },
  {
   "cell_type": "code",
   "execution_count": 135,
   "metadata": {},
   "outputs": [],
   "source": [
    "unibitrainX, featureModel = feature_bowUniBi(tdf1['reviewText'], 150000)\n",
    "unibitrainY = tdf1['overall'].to_numpy()\n",
    "unibitestX, unibitestY = featureModel.transform(tdf2['reviewText']), tdf2['overall'].to_numpy()"
   ]
  },
  {
   "cell_type": "code",
   "execution_count": 136,
   "metadata": {},
   "outputs": [],
   "source": [
    "# create torch dataset object\n",
    "\n",
    "class CustomTextDataset(Dataset):\n",
    "    def __init__(self, x, y, transform_x, transform_y):\n",
    "        self.x = x\n",
    "        self.y = y\n",
    "        self.transform_x = transform_x \n",
    "        self.transform_y = transform_y\n",
    "        self.n = x.shape[0]\n",
    "\n",
    "    def __len__(self):\n",
    "        return self.n\n",
    "    \n",
    "    def __getitem__(self, idx):\n",
    "        return self.transform_x(self.x[idx]), self.transform_y(self.y[idx])"
   ]
  },
  {
   "cell_type": "code",
   "execution_count": 137,
   "metadata": {},
   "outputs": [
    {
     "data": {
      "text/plain": [
       "=================================================================\n",
       "Layer (type:depth-idx)                   Param #\n",
       "=================================================================\n",
       "NeuralNetworkEmbedding                   --\n",
       "├─Embedding: 1-1                         (9,444,000)\n",
       "├─Flatten: 1-2                           --\n",
       "├─Linear: 1-3                            2,250,100\n",
       "├─Linear: 1-4                            2,525\n",
       "├─Linear: 1-5                            52\n",
       "├─Dropout: 1-6                           --\n",
       "=================================================================\n",
       "Total params: 11,696,677\n",
       "Trainable params: 2,252,677\n",
       "Non-trainable params: 9,444,000\n",
       "================================================================="
      ]
     },
     "execution_count": 137,
     "metadata": {},
     "output_type": "execute_result"
    }
   ],
   "source": [
    "modelEmbedding = NeuralNetworkEmbedding(embeddedingMatrix, 0.9)\n",
    "summary(modelEmbedding)"
   ]
  },
  {
   "cell_type": "code",
   "execution_count": 146,
   "metadata": {},
   "outputs": [
    {
     "data": {
      "text/plain": [
       "tensor([[0.4958, 0.5042]], grad_fn=<SigmoidBackward0>)"
      ]
     },
     "execution_count": 146,
     "metadata": {},
     "output_type": "execute_result"
    }
   ],
   "source": [
    "# test sample NeuralNetworkEmbedding\n",
    "model = NeuralNetworkEmbedding(embeddedingMatrix, 0.8)\n",
    "datasample = torch.from_numpy(embeddedtrainX[0]).type(torch.LongTensor).reshape(1, -1)\n",
    "model(datasample)"
   ]
  },
  {
   "cell_type": "code",
   "execution_count": 147,
   "metadata": {},
   "outputs": [
    {
     "data": {
      "text/plain": [
       "=================================================================\n",
       "Layer (type:depth-idx)                   Param #\n",
       "=================================================================\n",
       "NeuralNetworkUnibi                       --\n",
       "├─Flatten: 1-1                           --\n",
       "├─Linear: 1-2                            15,000,100\n",
       "├─Linear: 1-3                            2,525\n",
       "├─Linear: 1-4                            52\n",
       "├─Dropout: 1-5                           --\n",
       "=================================================================\n",
       "Total params: 15,002,677\n",
       "Trainable params: 15,002,677\n",
       "Non-trainable params: 0\n",
       "================================================================="
      ]
     },
     "execution_count": 147,
     "metadata": {},
     "output_type": "execute_result"
    }
   ],
   "source": [
    "modelUnibi = NeuralNetworkUnibi(0.9)\n",
    "summary(modelUnibi)"
   ]
  },
  {
   "cell_type": "code",
   "execution_count": 148,
   "metadata": {},
   "outputs": [
    {
     "data": {
      "text/plain": [
       "tensor([[0.5352, 0.5225]], grad_fn=<SigmoidBackward0>)"
      ]
     },
     "execution_count": 148,
     "metadata": {},
     "output_type": "execute_result"
    }
   ],
   "source": [
    "# test sample NeuralNetworkUnibi\n",
    "model = NeuralNetworkUnibi(0.8)\n",
    "datasample = torch.from_numpy(unibitrainX[0].todense()).type(torch.float).reshape(1, -1)\n",
    "model(datasample)"
   ]
  },
  {
   "cell_type": "code",
   "execution_count": 149,
   "metadata": {},
   "outputs": [
    {
     "data": {
      "text/plain": [
       "device(type='cuda')"
      ]
     },
     "execution_count": 149,
     "metadata": {},
     "output_type": "execute_result"
    }
   ],
   "source": [
    "device = torch.device('cuda' if torch.cuda.is_available() else 'cpu')\n",
    "device"
   ]
  },
  {
   "cell_type": "code",
   "execution_count": 150,
   "metadata": {},
   "outputs": [],
   "source": [
    "transform_x_embedding = torch.from_numpy\n",
    "transform_y_embedding = torchvision.transforms.Compose([\n",
    "    torchvision.transforms.Lambda(lambda x: torch.tensor(x)),\n",
    "    torchvision.transforms.Lambda(lambda x: torch.nn.functional.one_hot(x, num_classes=2).type(torch.float)),\n",
    "])"
   ]
  },
  {
   "cell_type": "code",
   "execution_count": 151,
   "metadata": {},
   "outputs": [
    {
     "name": "stdout",
     "output_type": "stream",
     "text": [
      "Epoch: 1, Accuracy: 0.8, Loss: 0.6967705038960202\n",
      "Epoch: 2, Accuracy: 0.8, Loss: 0.6971511965286050\n",
      "Epoch: 3, Accuracy: 0.8, Loss: 0.6971581290886437\n",
      "Epoch: 4, Accuracy: 0.81, Loss: 0.6969388088416624\n",
      "Epoch: 5, Accuracy: 0.81, Loss: 0.6970130950054627\n",
      "Epoch: 6, Accuracy: 0.81, Loss: 0.6972987053568586\n",
      "Epoch: 7, Accuracy: 0.81, Loss: 0.6971299340869537\n",
      "Epoch: 8, Accuracy: 0.8, Loss: 0.6972812903666142\n",
      "Epoch: 9, Accuracy: 0.81, Loss: 0.6969796785516507\n",
      "Epoch: 10, Accuracy: 0.81, Loss: 0.6971148323757037\n",
      "Epoch: 11, Accuracy: 0.81, Loss: 0.6969442246323925\n",
      "Epoch: 12, Accuracy: 0.81, Loss: 0.6968936079765781\n",
      "Epoch: 13, Accuracy: 0.8, Loss: 0.6968010990659438\n",
      "Epoch: 14, Accuracy: 0.8, Loss: 0.6969215930834159\n",
      "Epoch: 15, Accuracy: 0.8, Loss: 0.6971195569119842\n",
      "Epoch: 16, Accuracy: 0.81, Loss: 0.6971488082307881\n",
      "Epoch: 17, Accuracy: 0.8, Loss: 0.6971105238012338\n",
      "Epoch: 18, Accuracy: 0.81, Loss: 0.6971234855936619\n",
      "Epoch: 19, Accuracy: 0.81, Loss: 0.6973005307254271\n",
      "Epoch: 20, Accuracy: 0.81, Loss: 0.6971968442469961\n",
      "Epoch: 21, Accuracy: 0.81, Loss: 0.6972158683179799\n",
      "Epoch: 22, Accuracy: 0.81, Loss: 0.6973353740601342\n",
      "Epoch: 23, Accuracy: 0.81, Loss: 0.6972020658490768\n",
      "Epoch: 24, Accuracy: 0.81, Loss: 0.6971940235945128\n",
      "Epoch: 25, Accuracy: 0.8, Loss: 0.6970612289447148\n",
      "Epoch: 26, Accuracy: 0.8, Loss: 0.6969267105904676\n",
      "Epoch: 27, Accuracy: 0.81, Loss: 0.6973530873498421\n",
      "Epoch: 28, Accuracy: 0.81, Loss: 0.6971268922295737\n",
      "Epoch: 29, Accuracy: 0.81, Loss: 0.6972461723312104\n",
      "Epoch: 30, Accuracy: 0.8, Loss: 0.6970948317656451\n",
      "Epoch: 31, Accuracy: 0.81, Loss: 0.6969197934051439\n",
      "Epoch: 32, Accuracy: 0.8, Loss: 0.6968368190514335\n",
      "Epoch: 33, Accuracy: 0.81, Loss: 0.6973037493209970\n",
      "Epoch: 34, Accuracy: 0.8, Loss: 0.6969721726915341\n",
      "Epoch: 35, Accuracy: 0.8, Loss: 0.6971146842007035\n",
      "Epoch: 36, Accuracy: 0.8, Loss: 0.6969888177068936\n",
      "Epoch: 37, Accuracy: 0.8, Loss: 0.6970734598304508\n",
      "Epoch: 38, Accuracy: 0.81, Loss: 0.6970163441926115\n",
      "Epoch: 39, Accuracy: 0.81, Loss: 0.6972866916508114\n",
      "Epoch: 40, Accuracy: 0.8, Loss: 0.6969783174789558\n",
      "Epoch: 41, Accuracy: 0.81, Loss: 0.6970650885901335\n",
      "Epoch: 42, Accuracy: 0.81, Loss: 0.6971794835575935\n",
      "Epoch: 43, Accuracy: 0.8, Loss: 0.6972196978453736\n",
      "Epoch: 44, Accuracy: 0.81, Loss: 0.6970533350782501\n",
      "Epoch: 45, Accuracy: 0.8, Loss: 0.6970851582601287\n",
      "Epoch: 46, Accuracy: 0.81, Loss: 0.6969431635797403\n",
      "Epoch: 47, Accuracy: 0.81, Loss: 0.6968308244200455\n",
      "Epoch: 48, Accuracy: 0.81, Loss: 0.6972560367657471\n",
      "Epoch: 49, Accuracy: 0.81, Loss: 0.6971019957672363\n",
      "Epoch: 50, Accuracy: 0.8, Loss: 0.6970280417541074\n",
      "CPU times: total: 9min 29s\n",
      "Wall time: 9min 43s\n"
     ]
    }
   ],
   "source": [
    "%%time\n",
    "# run model\n",
    "\n",
    "# constant\n",
    "LEARNING_RATE = 0.0001\n",
    "BATCH_SIZE = 10\n",
    "EPOCHS = 50\n",
    "MOMENTUM = 0.9\n",
    "DROPOUT = 0.9\n",
    "\n",
    "# model\n",
    "embeddingmodel = NeuralNetworkEmbedding(embeddedingMatrix, DROPOUT).to(device)\n",
    "\n",
    "# dataset\n",
    "trainset = CustomTextDataset(embeddedtrainX, embeddedtrainY, transform_x_embedding, transform_y_embedding)\n",
    "trainloader = DataLoader(trainset, batch_size=BATCH_SIZE, shuffle=True)\n",
    "\n",
    "valset = CustomTextDataset(embeddedtestX, embeddedtestY, transform_x_embedding, transform_y_embedding)\n",
    "valloader = DataLoader(valset, batch_size=BATCH_SIZE, shuffle=True)\n",
    "\n",
    "# loss and optimizer\n",
    "criterion = torch.nn.BCELoss()\n",
    "optimizer = torch.optim.Adam(model.parameters(), lr=LEARNING_RATE)\n",
    "\n",
    "\n",
    "accuracy_list = []\n",
    "loss_list = []\n",
    "for epoch in range(EPOCHS):\n",
    "    epoch_list = []\n",
    "    for x, y in trainloader:\n",
    "        x, y = x.to(device), y.to(device)\n",
    "        optimizer.zero_grad()\n",
    "\n",
    "        y_hat = embeddingmodel(x)\n",
    "        loss = criterion(y_hat, y)\n",
    "\n",
    "        loss.backward()\n",
    "        optimizer.step()\n",
    "\n",
    "        epoch_list.append(loss.item())\n",
    "    \n",
    "    val_size = 0\n",
    "    accurate = 0\n",
    "    for x, y in valloader:\n",
    "        x, y = x.to(device), y.to(device)\n",
    "        with torch.no_grad():\n",
    "            optimizer.zero_grad()\n",
    "            y_hat = embeddingmodel(x)\n",
    "            accurate += (torch.argmax(y_hat, dim=1)==torch.argmax(y, dim=1)).sum()\n",
    "        val_size += len(y)\n",
    "\n",
    "    print(\"Epoch: {}, Accuracy: {}, Loss: {:.16f}\".format(epoch+1, round(float(accurate/val_size), 2), np.mean(epoch_list)))"
   ]
  },
  {
   "cell_type": "code",
   "execution_count": 152,
   "metadata": {},
   "outputs": [
    {
     "name": "stdout",
     "output_type": "stream",
     "text": [
      "              precision    recall  f1-score   support\n",
      "\n",
      "    Positive       0.05      0.15      0.08       171\n",
      "    Negative       0.94      0.84      0.89      2829\n",
      "\n",
      "    accuracy                           0.80      3000\n",
      "   macro avg       0.50      0.50      0.48      3000\n",
      "weighted avg       0.89      0.80      0.84      3000\n",
      "\n"
     ]
    },
    {
     "data": {
      "image/png": "[encoded data removed]",
      "text/plain": [
       "<Figure size 1080x576 with 2 Axes>"
      ]
     },
     "metadata": {
      "needs_background": "light"
     },
     "output_type": "display_data"
    }
   ],
   "source": [
    "predict, original = [], []\n",
    "for x, y in valloader:\n",
    "    x, y = x.to(device), y.to(device)\n",
    "    with torch.no_grad():\n",
    "        optimizer.zero_grad()\n",
    "        y_hat = embeddingmodel(x)\n",
    "        predict.extend(torch.argmax(y_hat, dim=1).cpu())\n",
    "        original.extend(torch.argmax(y, dim=1).cpu())\n",
    "\n",
    "show_result2group(['Negative' if int(x) == 1 else 'Positive' for x in predict], ['Negative' if int(x) == 1 else 'Positive' for x in original])"
   ]
  },
  {
   "cell_type": "code",
   "execution_count": 153,
   "metadata": {},
   "outputs": [],
   "source": [
    "transform_x_unibi = torchvision.transforms.Compose([\n",
    "    torchvision.transforms.Lambda(lambda x: x.todense()),\n",
    "    torchvision.transforms.Lambda(lambda x: torch.from_numpy(x).type(torch.float)),\n",
    "])\n",
    "transform_y_unibi = torchvision.transforms.Compose([\n",
    "    torchvision.transforms.Lambda(lambda x: torch.tensor(x)),\n",
    "    torchvision.transforms.Lambda(lambda x: torch.nn.functional.one_hot(x, num_classes=2).type(torch.float)),\n",
    "])"
   ]
  },
  {
   "cell_type": "code",
   "execution_count": 154,
   "metadata": {},
   "outputs": [
    {
     "name": "stdout",
     "output_type": "stream",
     "text": [
      "Epoch: 1, Accuracy: 0.6, Loss: 0.6947544368883689\n",
      "Epoch: 2, Accuracy: 0.59, Loss: 0.6946373842893390\n",
      "Epoch: 3, Accuracy: 0.61, Loss: 0.6947049761538283\n",
      "Epoch: 4, Accuracy: 0.61, Loss: 0.6946481600545852\n",
      "Epoch: 5, Accuracy: 0.6, Loss: 0.6948528633910721\n",
      "Epoch: 6, Accuracy: 0.6, Loss: 0.6947877997122074\n",
      "Epoch: 7, Accuracy: 0.62, Loss: 0.6946145253319104\n",
      "Epoch: 8, Accuracy: 0.6, Loss: 0.6948800494941740\n",
      "Epoch: 9, Accuracy: 0.61, Loss: 0.6948963067952102\n",
      "Epoch: 10, Accuracy: 0.6, Loss: 0.6946597245553414\n",
      "Epoch: 11, Accuracy: 0.6, Loss: 0.6946939872262083\n",
      "Epoch: 12, Accuracy: 0.61, Loss: 0.6946553666049898\n",
      "Epoch: 13, Accuracy: 0.6, Loss: 0.6947935145600872\n",
      "Epoch: 14, Accuracy: 0.6, Loss: 0.6948832880263611\n",
      "Epoch: 15, Accuracy: 0.6, Loss: 0.6948087458830263\n",
      "Epoch: 16, Accuracy: 0.61, Loss: 0.6947750598428992\n",
      "Epoch: 17, Accuracy: 0.6, Loss: 0.6947803960055492\n",
      "Epoch: 18, Accuracy: 0.6, Loss: 0.6946306107407909\n",
      "Epoch: 19, Accuracy: 0.6, Loss: 0.6947654712771586\n",
      "Epoch: 20, Accuracy: 0.6, Loss: 0.6945658527251523\n",
      "Epoch: 21, Accuracy: 0.61, Loss: 0.6946410654680961\n",
      "Epoch: 22, Accuracy: 0.62, Loss: 0.6946568818036782\n",
      "Epoch: 23, Accuracy: 0.61, Loss: 0.6948895014159507\n",
      "Epoch: 24, Accuracy: 0.61, Loss: 0.6948467135208390\n",
      "Epoch: 25, Accuracy: 0.6, Loss: 0.6946425671468220\n",
      "Epoch: 26, Accuracy: 0.61, Loss: 0.6947074872520516\n",
      "Epoch: 27, Accuracy: 0.6, Loss: 0.6945058754013883\n",
      "Epoch: 28, Accuracy: 0.6, Loss: 0.6947785445757336\n",
      "Epoch: 29, Accuracy: 0.6, Loss: 0.6947881664559876\n",
      "Epoch: 30, Accuracy: 0.6, Loss: 0.6945828330639939\n",
      "Epoch: 31, Accuracy: 0.6, Loss: 0.6947507764275928\n",
      "Epoch: 32, Accuracy: 0.6, Loss: 0.6946627499251548\n",
      "Epoch: 33, Accuracy: 0.61, Loss: 0.6948127217622380\n",
      "Epoch: 34, Accuracy: 0.6, Loss: 0.6945541342720389\n",
      "Epoch: 35, Accuracy: 0.62, Loss: 0.6946699360811736\n",
      "Epoch: 36, Accuracy: 0.62, Loss: 0.6946007218132964\n",
      "Epoch: 37, Accuracy: 0.59, Loss: 0.6945542148235491\n",
      "Epoch: 38, Accuracy: 0.58, Loss: 0.6949035161395826\n",
      "Epoch: 39, Accuracy: 0.62, Loss: 0.6948440510274495\n",
      "Epoch: 40, Accuracy: 0.61, Loss: 0.6948834358383034\n",
      "Epoch: 41, Accuracy: 0.61, Loss: 0.6948119579040903\n",
      "Epoch: 42, Accuracy: 0.62, Loss: 0.6947155719765036\n",
      "Epoch: 43, Accuracy: 0.62, Loss: 0.6948712453072480\n",
      "Epoch: 44, Accuracy: 0.61, Loss: 0.6946744950788127\n",
      "Epoch: 45, Accuracy: 0.61, Loss: 0.6949286436646293\n",
      "Epoch: 46, Accuracy: 0.62, Loss: 0.6947203317372981\n",
      "Epoch: 47, Accuracy: 0.6, Loss: 0.6947488866004524\n",
      "Epoch: 48, Accuracy: 0.6, Loss: 0.6948145096805893\n",
      "Epoch: 49, Accuracy: 0.61, Loss: 0.6945396181022337\n",
      "Epoch: 50, Accuracy: 0.61, Loss: 0.6949432642925215\n",
      "CPU times: total: 2h 10min 34s\n",
      "Wall time: 1h 7min 22s\n"
     ]
    }
   ],
   "source": [
    "%%time\n",
    "# run model\n",
    "\n",
    "# constant\n",
    "LEARNING_RATE = 0.0001\n",
    "BATCH_SIZE = 10\n",
    "EPOCHS = 50\n",
    "MOMENTUM = 0.9\n",
    "DROPOUT = 0.9\n",
    "\n",
    "# model\n",
    "unibimodel = NeuralNetworkUnibi(DROPOUT).to(device)\n",
    "\n",
    "# dataset\n",
    "trainset = CustomTextDataset(unibitrainX, unibitrainY, transform_x_unibi, transform_y_unibi)\n",
    "trainloader = DataLoader(trainset, batch_size=BATCH_SIZE, shuffle=True)\n",
    "\n",
    "valset = CustomTextDataset(unibitestX, unibitestY, transform_x_unibi, transform_y_unibi)\n",
    "valloader = DataLoader(valset, batch_size=BATCH_SIZE, shuffle=True)\n",
    "\n",
    "# loss and optimizer\n",
    "criterion = torch.nn.BCELoss()\n",
    "optimizer = torch.optim.Adam(model.parameters(), lr=LEARNING_RATE)\n",
    "\n",
    "\n",
    "accuracy_list = []\n",
    "loss_list = []\n",
    "for epoch in range(EPOCHS):\n",
    "    epoch_list = []\n",
    "    for x, y in trainloader:\n",
    "        x, y = x.to(device), y.to(device)\n",
    "        optimizer.zero_grad()\n",
    "\n",
    "        y_hat = unibimodel(x)\n",
    "        loss = criterion(y_hat, y)\n",
    "\n",
    "        loss.backward()\n",
    "        optimizer.step()\n",
    "\n",
    "        epoch_list.append(loss.item())\n",
    "    \n",
    "    val_size = 0\n",
    "    accurate = 0\n",
    "    for x, y in valloader:\n",
    "        x, y = x.to(device), y.to(device)\n",
    "        with torch.no_grad():\n",
    "            optimizer.zero_grad()\n",
    "            y_hat = unibimodel(x)\n",
    "            accurate += (torch.argmax(y_hat, dim=1)==torch.argmax(y, dim=1)).sum()\n",
    "        val_size += len(y)\n",
    "\n",
    "    print(\"Epoch: {}, Accuracy: {}, Loss: {:.16f}\".format(epoch+1, round(float(accurate/val_size), 2), np.mean(epoch_list)))"
   ]
  },
  {
   "cell_type": "code",
   "execution_count": 155,
   "metadata": {},
   "outputs": [
    {
     "name": "stdout",
     "output_type": "stream",
     "text": [
      "              precision    recall  f1-score   support\n",
      "\n",
      "    Positive       0.37      0.16      0.22      1129\n",
      "    Negative       0.62      0.84      0.71      1871\n",
      "\n",
      "    accuracy                           0.58      3000\n",
      "   macro avg       0.50      0.50      0.47      3000\n",
      "weighted avg       0.53      0.58      0.53      3000\n",
      "\n"
     ]
    },
    {
     "data": {
      "image/png": "[encoded data removed]",
      "text/plain": [
       "<Figure size 1080x576 with 2 Axes>"
      ]
     },
     "metadata": {
      "needs_background": "light"
     },
     "output_type": "display_data"
    }
   ],
   "source": [
    "predict, original = [], []\n",
    "for x, y in valloader:\n",
    "    x, y = x.to(device), y.to(device)\n",
    "    with torch.no_grad():\n",
    "        optimizer.zero_grad()\n",
    "        y_hat = unibimodel(x)\n",
    "        predict.extend(torch.argmax(y_hat, dim=1).cpu())\n",
    "        original.extend(torch.argmax(y, dim=1).cpu())\n",
    "\n",
    "show_result2group(['Negative' if int(x) == 1 else 'Positive' for x in predict], ['Negative' if int(x) == 1 else 'Positive' for x in original])"
   ]
  },
  {
   "cell_type": "code",
   "execution_count": null,
   "metadata": {},
   "outputs": [],
   "source": []
  }
 ],
 "metadata": {
  "kernelspec": {
   "display_name": "Python 3.10.5 ('env': venv)",
   "language": "python",
   "name": "python3"
  },
  "language_info": {
   "codemirror_mode": {
    "name": "ipython",
    "version": 3
   },
   "file_extension": ".py",
   "mimetype": "text/x-python",
   "name": "python",
   "nbconvert_exporter": "python",
   "pygments_lexer": "ipython3",
   "version": "3.10.5"
  },
  "orig_nbformat": 4,
  "vscode": {
   "interpreter": {
    "hash": "055ed1be4b0fa29866f2e2aeab85b185190bfa779d52a08d11b266bfb238964b"
   }
  }
 },
 "nbformat": 4,
 "nbformat_minor": 2
}
