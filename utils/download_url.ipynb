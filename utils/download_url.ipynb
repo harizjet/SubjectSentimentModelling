{
 "cells": [
  {
   "cell_type": "code",
   "execution_count": 1,
   "metadata": {},
   "outputs": [],
   "source": [
    "import os\n",
    "import configparser\n",
    "from urllib.request import urlopen"
   ]
  },
  {
   "cell_type": "code",
   "execution_count": 2,
   "metadata": {},
   "outputs": [],
   "source": [
    "import pandas"
   ]
  },
  {
   "cell_type": "code",
   "execution_count": 3,
   "metadata": {},
   "outputs": [],
   "source": [
    "datadir = '../data'\n",
    "bucketname = 'data_exploration'\n",
    "config = configparser.RawConfigParser()\n",
    "for filedir in os.listdir(datadir):\n",
    "    if filedir.split('.')[-1] != 'url':\n",
    "        continue\n",
    "    fileloc = os.path.join(datadir, filedir)\n",
    "    config.read(fileloc)\n",
    "    urlpath = config.get('InternetShortcut', 'URL')\n",
    "\n",
    "    res = urlopen('https://storage.googleapis.com/data_exploration/SubjectSentimentModelling/AmazonMeta_GroceryandGourmetFood.json')\n",
    "   \n",
    "   with open('test.json', 'w').write(r.read().decode('utf-8'))"
   ]
  },
  {
   "cell_type": "code",
   "execution_count": 16,
   "metadata": {},
   "outputs": [
    {
     "ename": "NameError",
     "evalue": "name 'urlpath' is not defined",
     "output_type": "error",
     "traceback": [
      "\u001b[1;31m---------------------------------------------------------------------------\u001b[0m",
      "\u001b[1;31mNameError\u001b[0m                                 Traceback (most recent call last)",
      "\u001b[1;32md:\\Dropbox\\Project\\LegitProject\\SubjectSentimentModelling\\utils\\download_url.ipynb Cell 4\u001b[0m in \u001b[0;36m<cell line: 1>\u001b[1;34m()\u001b[0m\n\u001b[1;32m----> <a href='vscode-notebook-cell:/d%3A/Dropbox/Project/LegitProject/SubjectSentimentModelling/utils/download_url.ipynb#X20sZmlsZQ%3D%3D?line=0'>1</a>\u001b[0m urlpath\n",
      "\u001b[1;31mNameError\u001b[0m: name 'urlpath' is not defined"
     ]
    }
   ],
   "source": [
    "urlpath"
   ]
  },
  {
   "cell_type": "code",
   "execution_count": null,
   "metadata": {},
   "outputs": [],
   "source": []
  },
  {
   "cell_type": "code",
   "execution_count": 6,
   "metadata": {},
   "outputs": [
    {
     "ename": "ValueError",
     "evalue": "Anonymous credentials cannot be refreshed.",
     "output_type": "error",
     "traceback": [
      "\u001b[1;31m---------------------------------------------------------------------------\u001b[0m",
      "\u001b[1;31mValueError\u001b[0m                                Traceback (most recent call last)",
      "\u001b[1;32md:\\Dropbox\\Project\\LegitProject\\SubjectSentimentModelling\\utils\\download_url.ipynb Cell 5\u001b[0m in \u001b[0;36m<cell line: 8>\u001b[1;34m()\u001b[0m\n\u001b[0;32m      <a href='vscode-notebook-cell:/d%3A/Dropbox/Project/LegitProject/SubjectSentimentModelling/utils/download_url.ipynb#W3sZmlsZQ%3D%3D?line=5'>6</a>\u001b[0m bucket \u001b[39m=\u001b[39m storage_client\u001b[39m.\u001b[39mbucket(bucketname)\n\u001b[0;32m      <a href='vscode-notebook-cell:/d%3A/Dropbox/Project/LegitProject/SubjectSentimentModelling/utils/download_url.ipynb#W3sZmlsZQ%3D%3D?line=6'>7</a>\u001b[0m blob \u001b[39m=\u001b[39m bucket\u001b[39m.\u001b[39mblob(\u001b[39m'\u001b[39m\u001b[39mhttps://storage.googleapis.com/data_exploration/SubjectSentimentModelling/AmazonMeta_Electronics.json\u001b[39m\u001b[39m'\u001b[39m)\n\u001b[1;32m----> <a href='vscode-notebook-cell:/d%3A/Dropbox/Project/LegitProject/SubjectSentimentModelling/utils/download_url.ipynb#W3sZmlsZQ%3D%3D?line=7'>8</a>\u001b[0m blob\u001b[39m.\u001b[39;49mdownload_to_filename(\u001b[39m'\u001b[39;49m\u001b[39mtest.csv\u001b[39;49m\u001b[39m'\u001b[39;49m)\n",
      "File \u001b[1;32md:\\Dropbox\\Project\\LegitProject\\SubjectSentimentModelling\\env\\lib\\site-packages\\google\\cloud\\storage\\blob.py:1270\u001b[0m, in \u001b[0;36mBlob.download_to_filename\u001b[1;34m(self, filename, client, start, end, raw_download, if_etag_match, if_etag_not_match, if_generation_match, if_generation_not_match, if_metageneration_match, if_metageneration_not_match, timeout, checksum, retry)\u001b[0m\n\u001b[0;32m   1268\u001b[0m \u001b[39mtry\u001b[39;00m:\n\u001b[0;32m   1269\u001b[0m     \u001b[39mwith\u001b[39;00m \u001b[39mopen\u001b[39m(filename, \u001b[39m\"\u001b[39m\u001b[39mwb\u001b[39m\u001b[39m\"\u001b[39m) \u001b[39mas\u001b[39;00m file_obj:\n\u001b[1;32m-> 1270\u001b[0m         client\u001b[39m.\u001b[39;49mdownload_blob_to_file(\n\u001b[0;32m   1271\u001b[0m             \u001b[39mself\u001b[39;49m,\n\u001b[0;32m   1272\u001b[0m             file_obj,\n\u001b[0;32m   1273\u001b[0m             start\u001b[39m=\u001b[39;49mstart,\n\u001b[0;32m   1274\u001b[0m             end\u001b[39m=\u001b[39;49mend,\n\u001b[0;32m   1275\u001b[0m             raw_download\u001b[39m=\u001b[39;49mraw_download,\n\u001b[0;32m   1276\u001b[0m             if_etag_match\u001b[39m=\u001b[39;49mif_etag_match,\n\u001b[0;32m   1277\u001b[0m             if_etag_not_match\u001b[39m=\u001b[39;49mif_etag_not_match,\n\u001b[0;32m   1278\u001b[0m             if_generation_match\u001b[39m=\u001b[39;49mif_generation_match,\n\u001b[0;32m   1279\u001b[0m             if_generation_not_match\u001b[39m=\u001b[39;49mif_generation_not_match,\n\u001b[0;32m   1280\u001b[0m             if_metageneration_match\u001b[39m=\u001b[39;49mif_metageneration_match,\n\u001b[0;32m   1281\u001b[0m             if_metageneration_not_match\u001b[39m=\u001b[39;49mif_metageneration_not_match,\n\u001b[0;32m   1282\u001b[0m             timeout\u001b[39m=\u001b[39;49mtimeout,\n\u001b[0;32m   1283\u001b[0m             checksum\u001b[39m=\u001b[39;49mchecksum,\n\u001b[0;32m   1284\u001b[0m             retry\u001b[39m=\u001b[39;49mretry,\n\u001b[0;32m   1285\u001b[0m         )\n\u001b[0;32m   1286\u001b[0m \u001b[39mexcept\u001b[39;00m resumable_media\u001b[39m.\u001b[39mDataCorruption:\n\u001b[0;32m   1287\u001b[0m     \u001b[39m# Delete the corrupt downloaded file.\u001b[39;00m\n\u001b[0;32m   1288\u001b[0m     os\u001b[39m.\u001b[39mremove(filename)\n",
      "File \u001b[1;32md:\\Dropbox\\Project\\LegitProject\\SubjectSentimentModelling\\env\\lib\\site-packages\\google\\cloud\\storage\\client.py:1151\u001b[0m, in \u001b[0;36mClient.download_blob_to_file\u001b[1;34m(self, blob_or_uri, file_obj, start, end, raw_download, if_etag_match, if_etag_not_match, if_generation_match, if_generation_not_match, if_metageneration_match, if_metageneration_not_match, timeout, checksum, retry)\u001b[0m\n\u001b[0;32m   1149\u001b[0m transport \u001b[39m=\u001b[39m \u001b[39mself\u001b[39m\u001b[39m.\u001b[39m_http\n\u001b[0;32m   1150\u001b[0m \u001b[39mtry\u001b[39;00m:\n\u001b[1;32m-> 1151\u001b[0m     blob_or_uri\u001b[39m.\u001b[39;49m_do_download(\n\u001b[0;32m   1152\u001b[0m         transport,\n\u001b[0;32m   1153\u001b[0m         file_obj,\n\u001b[0;32m   1154\u001b[0m         download_url,\n\u001b[0;32m   1155\u001b[0m         headers,\n\u001b[0;32m   1156\u001b[0m         start,\n\u001b[0;32m   1157\u001b[0m         end,\n\u001b[0;32m   1158\u001b[0m         raw_download,\n\u001b[0;32m   1159\u001b[0m         timeout\u001b[39m=\u001b[39;49mtimeout,\n\u001b[0;32m   1160\u001b[0m         checksum\u001b[39m=\u001b[39;49mchecksum,\n\u001b[0;32m   1161\u001b[0m         retry\u001b[39m=\u001b[39;49mretry,\n\u001b[0;32m   1162\u001b[0m     )\n\u001b[0;32m   1163\u001b[0m \u001b[39mexcept\u001b[39;00m resumable_media\u001b[39m.\u001b[39mInvalidResponse \u001b[39mas\u001b[39;00m exc:\n\u001b[0;32m   1164\u001b[0m     _raise_from_invalid_response(exc)\n",
      "File \u001b[1;32md:\\Dropbox\\Project\\LegitProject\\SubjectSentimentModelling\\env\\lib\\site-packages\\google\\cloud\\storage\\blob.py:989\u001b[0m, in \u001b[0;36mBlob._do_download\u001b[1;34m(self, transport, file_obj, download_url, headers, start, end, raw_download, timeout, checksum, retry)\u001b[0m\n\u001b[0;32m    980\u001b[0m     download \u001b[39m=\u001b[39m klass(\n\u001b[0;32m    981\u001b[0m         download_url,\n\u001b[0;32m    982\u001b[0m         stream\u001b[39m=\u001b[39mfile_obj,\n\u001b[1;32m   (...)\u001b[0m\n\u001b[0;32m    986\u001b[0m         checksum\u001b[39m=\u001b[39mchecksum,\n\u001b[0;32m    987\u001b[0m     )\n\u001b[0;32m    988\u001b[0m     download\u001b[39m.\u001b[39m_retry_strategy \u001b[39m=\u001b[39m retry_strategy\n\u001b[1;32m--> 989\u001b[0m     response \u001b[39m=\u001b[39m download\u001b[39m.\u001b[39;49mconsume(transport, timeout\u001b[39m=\u001b[39;49mtimeout)\n\u001b[0;32m    990\u001b[0m     \u001b[39mself\u001b[39m\u001b[39m.\u001b[39m_extract_headers_from_download(response)\n\u001b[0;32m    991\u001b[0m \u001b[39melse\u001b[39;00m:\n",
      "File \u001b[1;32md:\\Dropbox\\Project\\LegitProject\\SubjectSentimentModelling\\env\\lib\\site-packages\\google\\resumable_media\\requests\\download.py:214\u001b[0m, in \u001b[0;36mDownload.consume\u001b[1;34m(self, transport, timeout)\u001b[0m\n\u001b[0;32m    210\u001b[0m         \u001b[39mself\u001b[39m\u001b[39m.\u001b[39m_write_to_stream(result)\n\u001b[0;32m    212\u001b[0m     \u001b[39mreturn\u001b[39;00m result\n\u001b[1;32m--> 214\u001b[0m \u001b[39mreturn\u001b[39;00m _request_helpers\u001b[39m.\u001b[39;49mwait_and_retry(\n\u001b[0;32m    215\u001b[0m     retriable_request, \u001b[39mself\u001b[39;49m\u001b[39m.\u001b[39;49m_get_status_code, \u001b[39mself\u001b[39;49m\u001b[39m.\u001b[39;49m_retry_strategy\n\u001b[0;32m    216\u001b[0m )\n",
      "File \u001b[1;32md:\\Dropbox\\Project\\LegitProject\\SubjectSentimentModelling\\env\\lib\\site-packages\\google\\resumable_media\\requests\\_request_helpers.py:148\u001b[0m, in \u001b[0;36mwait_and_retry\u001b[1;34m(func, get_status_code, retry_strategy)\u001b[0m\n\u001b[0;32m    146\u001b[0m error \u001b[39m=\u001b[39m \u001b[39mNone\u001b[39;00m\n\u001b[0;32m    147\u001b[0m \u001b[39mtry\u001b[39;00m:\n\u001b[1;32m--> 148\u001b[0m     response \u001b[39m=\u001b[39m func()\n\u001b[0;32m    149\u001b[0m \u001b[39mexcept\u001b[39;00m _CONNECTION_ERROR_CLASSES \u001b[39mas\u001b[39;00m e:\n\u001b[0;32m    150\u001b[0m     error \u001b[39m=\u001b[39m e  \u001b[39m# Fall through to retry, if there are retries left.\u001b[39;00m\n",
      "File \u001b[1;32md:\\Dropbox\\Project\\LegitProject\\SubjectSentimentModelling\\env\\lib\\site-packages\\google\\resumable_media\\requests\\download.py:198\u001b[0m, in \u001b[0;36mDownload.consume.<locals>.retriable_request\u001b[1;34m()\u001b[0m\n\u001b[0;32m    195\u001b[0m         query_param \u001b[39m=\u001b[39m {\u001b[39m\"\u001b[39m\u001b[39mgeneration\u001b[39m\u001b[39m\"\u001b[39m: \u001b[39mself\u001b[39m\u001b[39m.\u001b[39m_object_generation}\n\u001b[0;32m    196\u001b[0m         url \u001b[39m=\u001b[39m _helpers\u001b[39m.\u001b[39madd_query_parameters(\u001b[39mself\u001b[39m\u001b[39m.\u001b[39mmedia_url, query_param)\n\u001b[1;32m--> 198\u001b[0m result \u001b[39m=\u001b[39m transport\u001b[39m.\u001b[39mrequest(method, url, \u001b[39m*\u001b[39m\u001b[39m*\u001b[39mrequest_kwargs)\n\u001b[0;32m    200\u001b[0m \u001b[39m# If a generation hasn't been specified, and this is the first response we get, let's record the\u001b[39;00m\n\u001b[0;32m    201\u001b[0m \u001b[39m# generation. In future requests we'll specify the generation query param to avoid data races.\u001b[39;00m\n\u001b[0;32m    202\u001b[0m \u001b[39mif\u001b[39;00m \u001b[39mself\u001b[39m\u001b[39m.\u001b[39m_object_generation \u001b[39mis\u001b[39;00m \u001b[39mNone\u001b[39;00m:\n",
      "File \u001b[1;32md:\\Dropbox\\Project\\LegitProject\\SubjectSentimentModelling\\env\\lib\\site-packages\\google\\auth\\transport\\requests.py:585\u001b[0m, in \u001b[0;36mAuthorizedSession.request\u001b[1;34m(self, method, url, data, headers, max_allowed_time, timeout, **kwargs)\u001b[0m\n\u001b[0;32m    578\u001b[0m auth_request \u001b[39m=\u001b[39m (\n\u001b[0;32m    579\u001b[0m     \u001b[39mself\u001b[39m\u001b[39m.\u001b[39m_auth_request\n\u001b[0;32m    580\u001b[0m     \u001b[39mif\u001b[39;00m timeout \u001b[39mis\u001b[39;00m \u001b[39mNone\u001b[39;00m\n\u001b[0;32m    581\u001b[0m     \u001b[39melse\u001b[39;00m functools\u001b[39m.\u001b[39mpartial(\u001b[39mself\u001b[39m\u001b[39m.\u001b[39m_auth_request, timeout\u001b[39m=\u001b[39mtimeout)\n\u001b[0;32m    582\u001b[0m )\n\u001b[0;32m    584\u001b[0m \u001b[39mwith\u001b[39;00m TimeoutGuard(remaining_time) \u001b[39mas\u001b[39;00m guard:\n\u001b[1;32m--> 585\u001b[0m     \u001b[39mself\u001b[39;49m\u001b[39m.\u001b[39;49mcredentials\u001b[39m.\u001b[39;49mrefresh(auth_request)\n\u001b[0;32m    586\u001b[0m remaining_time \u001b[39m=\u001b[39m guard\u001b[39m.\u001b[39mremaining_timeout\n\u001b[0;32m    588\u001b[0m \u001b[39m# Recurse. Pass in the original headers, not our modified set, but\u001b[39;00m\n\u001b[0;32m    589\u001b[0m \u001b[39m# do pass the adjusted max allowed time (i.e. the remaining total time).\u001b[39;00m\n",
      "File \u001b[1;32md:\\Dropbox\\Project\\LegitProject\\SubjectSentimentModelling\\env\\lib\\site-packages\\google\\auth\\credentials.py:173\u001b[0m, in \u001b[0;36mAnonymousCredentials.refresh\u001b[1;34m(self, request)\u001b[0m\n\u001b[0;32m    170\u001b[0m \u001b[39mdef\u001b[39;00m \u001b[39mrefresh\u001b[39m(\u001b[39mself\u001b[39m, request):\n\u001b[0;32m    171\u001b[0m     \u001b[39m\"\"\"Raises :class:`ValueError``, anonymous credentials cannot be\u001b[39;00m\n\u001b[0;32m    172\u001b[0m \u001b[39m    refreshed.\"\"\"\u001b[39;00m\n\u001b[1;32m--> 173\u001b[0m     \u001b[39mraise\u001b[39;00m \u001b[39mValueError\u001b[39;00m(\u001b[39m\"\u001b[39m\u001b[39mAnonymous credentials cannot be refreshed.\u001b[39m\u001b[39m\"\u001b[39m)\n",
      "\u001b[1;31mValueError\u001b[0m: Anonymous credentials cannot be refreshed."
     ]
    }
   ],
   "source": [
    "datadir = '../data'\n",
    "bucketname = 'data_exploration'\n",
    "\n",
    "storage_client = storage.Client.create_anonymous_client()\n",
    "\n",
    "bucket = storage_client.bucket(bucketname)\n",
    "blob = bucket.blob('https://storage.googleapis.com/data_exploration/SubjectSentimentModelling/AmazonMeta_Electronics.json')\n",
    "blob.download_to_filename('test.csv')"
   ]
  },
  {
   "cell_type": "code",
   "execution_count": 19,
   "metadata": {},
   "outputs": [
    {
     "ename": "ValueError",
     "evalue": "Anonymous credentials cannot be refreshed.",
     "output_type": "error",
     "traceback": [
      "\u001b[1;31m---------------------------------------------------------------------------\u001b[0m",
      "\u001b[1;31mValueError\u001b[0m                                Traceback (most recent call last)",
      "\u001b[1;32md:\\Dropbox\\Project\\LegitProject\\SubjectSentimentModelling\\utils\\download_url.ipynb Cell 6\u001b[0m in \u001b[0;36m<cell line: 5>\u001b[1;34m()\u001b[0m\n\u001b[0;32m      <a href='vscode-notebook-cell:/d%3A/Dropbox/Project/LegitProject/SubjectSentimentModelling/utils/download_url.ipynb#X21sZmlsZQ%3D%3D?line=0'>1</a>\u001b[0m client \u001b[39m=\u001b[39m storage\u001b[39m.\u001b[39mClient\u001b[39m.\u001b[39mcreate_anonymous_client()\n\u001b[0;32m      <a href='vscode-notebook-cell:/d%3A/Dropbox/Project/LegitProject/SubjectSentimentModelling/utils/download_url.ipynb#X21sZmlsZQ%3D%3D?line=2'>3</a>\u001b[0m bucket \u001b[39m=\u001b[39m client\u001b[39m.\u001b[39mbucket(\u001b[39m'\u001b[39m\u001b[39mdata_exploration\u001b[39m\u001b[39m'\u001b[39m)\n\u001b[1;32m----> <a href='vscode-notebook-cell:/d%3A/Dropbox/Project/LegitProject/SubjectSentimentModelling/utils/download_url.ipynb#X21sZmlsZQ%3D%3D?line=4'>5</a>\u001b[0m blobs \u001b[39m=\u001b[39m \u001b[39mlist\u001b[39;49m(bucket\u001b[39m.\u001b[39;49mlist_blobs())\n",
      "File \u001b[1;32md:\\Dropbox\\Project\\LegitProject\\SubjectSentimentModelling\\env\\lib\\site-packages\\google\\api_core\\page_iterator.py:208\u001b[0m, in \u001b[0;36mIterator._items_iter\u001b[1;34m(self)\u001b[0m\n\u001b[0;32m    206\u001b[0m \u001b[39mdef\u001b[39;00m \u001b[39m_items_iter\u001b[39m(\u001b[39mself\u001b[39m):\n\u001b[0;32m    207\u001b[0m     \u001b[39m\"\"\"Iterator for each item returned.\"\"\"\u001b[39;00m\n\u001b[1;32m--> 208\u001b[0m     \u001b[39mfor\u001b[39;00m page \u001b[39min\u001b[39;00m \u001b[39mself\u001b[39m\u001b[39m.\u001b[39m_page_iter(increment\u001b[39m=\u001b[39m\u001b[39mFalse\u001b[39;00m):\n\u001b[0;32m    209\u001b[0m         \u001b[39mfor\u001b[39;00m item \u001b[39min\u001b[39;00m page:\n\u001b[0;32m    210\u001b[0m             \u001b[39mself\u001b[39m\u001b[39m.\u001b[39mnum_results \u001b[39m+\u001b[39m\u001b[39m=\u001b[39m \u001b[39m1\u001b[39m\n",
      "File \u001b[1;32md:\\Dropbox\\Project\\LegitProject\\SubjectSentimentModelling\\env\\lib\\site-packages\\google\\api_core\\page_iterator.py:244\u001b[0m, in \u001b[0;36mIterator._page_iter\u001b[1;34m(self, increment)\u001b[0m\n\u001b[0;32m    232\u001b[0m \u001b[39mdef\u001b[39;00m \u001b[39m_page_iter\u001b[39m(\u001b[39mself\u001b[39m, increment):\n\u001b[0;32m    233\u001b[0m     \u001b[39m\"\"\"Generator of pages of API responses.\u001b[39;00m\n\u001b[0;32m    234\u001b[0m \n\u001b[0;32m    235\u001b[0m \u001b[39m    Args:\u001b[39;00m\n\u001b[1;32m   (...)\u001b[0m\n\u001b[0;32m    242\u001b[0m \u001b[39m        Page: each page of items from the API.\u001b[39;00m\n\u001b[0;32m    243\u001b[0m \u001b[39m    \"\"\"\u001b[39;00m\n\u001b[1;32m--> 244\u001b[0m     page \u001b[39m=\u001b[39m \u001b[39mself\u001b[39;49m\u001b[39m.\u001b[39;49m_next_page()\n\u001b[0;32m    245\u001b[0m     \u001b[39mwhile\u001b[39;00m page \u001b[39mis\u001b[39;00m \u001b[39mnot\u001b[39;00m \u001b[39mNone\u001b[39;00m:\n\u001b[0;32m    246\u001b[0m         \u001b[39mself\u001b[39m\u001b[39m.\u001b[39mpage_number \u001b[39m+\u001b[39m\u001b[39m=\u001b[39m \u001b[39m1\u001b[39m\n",
      "File \u001b[1;32md:\\Dropbox\\Project\\LegitProject\\SubjectSentimentModelling\\env\\lib\\site-packages\\google\\api_core\\page_iterator.py:373\u001b[0m, in \u001b[0;36mHTTPIterator._next_page\u001b[1;34m(self)\u001b[0m\n\u001b[0;32m    366\u001b[0m \u001b[39m\"\"\"Get the next page in the iterator.\u001b[39;00m\n\u001b[0;32m    367\u001b[0m \n\u001b[0;32m    368\u001b[0m \u001b[39mReturns:\u001b[39;00m\n\u001b[0;32m    369\u001b[0m \u001b[39m    Optional[Page]: The next page in the iterator or :data:`None` if\u001b[39;00m\n\u001b[0;32m    370\u001b[0m \u001b[39m        there are no pages left.\u001b[39;00m\n\u001b[0;32m    371\u001b[0m \u001b[39m\"\"\"\u001b[39;00m\n\u001b[0;32m    372\u001b[0m \u001b[39mif\u001b[39;00m \u001b[39mself\u001b[39m\u001b[39m.\u001b[39m_has_next_page():\n\u001b[1;32m--> 373\u001b[0m     response \u001b[39m=\u001b[39m \u001b[39mself\u001b[39;49m\u001b[39m.\u001b[39;49m_get_next_page_response()\n\u001b[0;32m    374\u001b[0m     items \u001b[39m=\u001b[39m response\u001b[39m.\u001b[39mget(\u001b[39mself\u001b[39m\u001b[39m.\u001b[39m_items_key, ())\n\u001b[0;32m    375\u001b[0m     page \u001b[39m=\u001b[39m Page(\u001b[39mself\u001b[39m, items, \u001b[39mself\u001b[39m\u001b[39m.\u001b[39mitem_to_value, raw_page\u001b[39m=\u001b[39mresponse)\n",
      "File \u001b[1;32md:\\Dropbox\\Project\\LegitProject\\SubjectSentimentModelling\\env\\lib\\site-packages\\google\\api_core\\page_iterator.py:432\u001b[0m, in \u001b[0;36mHTTPIterator._get_next_page_response\u001b[1;34m(self)\u001b[0m\n\u001b[0;32m    430\u001b[0m params \u001b[39m=\u001b[39m \u001b[39mself\u001b[39m\u001b[39m.\u001b[39m_get_query_params()\n\u001b[0;32m    431\u001b[0m \u001b[39mif\u001b[39;00m \u001b[39mself\u001b[39m\u001b[39m.\u001b[39m_HTTP_METHOD \u001b[39m==\u001b[39m \u001b[39m\"\u001b[39m\u001b[39mGET\u001b[39m\u001b[39m\"\u001b[39m:\n\u001b[1;32m--> 432\u001b[0m     \u001b[39mreturn\u001b[39;00m \u001b[39mself\u001b[39;49m\u001b[39m.\u001b[39;49mapi_request(\n\u001b[0;32m    433\u001b[0m         method\u001b[39m=\u001b[39;49m\u001b[39mself\u001b[39;49m\u001b[39m.\u001b[39;49m_HTTP_METHOD, path\u001b[39m=\u001b[39;49m\u001b[39mself\u001b[39;49m\u001b[39m.\u001b[39;49mpath, query_params\u001b[39m=\u001b[39;49mparams\n\u001b[0;32m    434\u001b[0m     )\n\u001b[0;32m    435\u001b[0m \u001b[39melif\u001b[39;00m \u001b[39mself\u001b[39m\u001b[39m.\u001b[39m_HTTP_METHOD \u001b[39m==\u001b[39m \u001b[39m\"\u001b[39m\u001b[39mPOST\u001b[39m\u001b[39m\"\u001b[39m:\n\u001b[0;32m    436\u001b[0m     \u001b[39mreturn\u001b[39;00m \u001b[39mself\u001b[39m\u001b[39m.\u001b[39mapi_request(\n\u001b[0;32m    437\u001b[0m         method\u001b[39m=\u001b[39m\u001b[39mself\u001b[39m\u001b[39m.\u001b[39m_HTTP_METHOD, path\u001b[39m=\u001b[39m\u001b[39mself\u001b[39m\u001b[39m.\u001b[39mpath, data\u001b[39m=\u001b[39mparams\n\u001b[0;32m    438\u001b[0m     )\n",
      "File \u001b[1;32md:\\Dropbox\\Project\\LegitProject\\SubjectSentimentModelling\\env\\lib\\site-packages\\google\\cloud\\storage\\_http.py:73\u001b[0m, in \u001b[0;36mConnection.api_request\u001b[1;34m(self, *args, **kwargs)\u001b[0m\n\u001b[0;32m     71\u001b[0m     \u001b[39mif\u001b[39;00m retry:\n\u001b[0;32m     72\u001b[0m         call \u001b[39m=\u001b[39m retry(call)\n\u001b[1;32m---> 73\u001b[0m \u001b[39mreturn\u001b[39;00m call()\n",
      "File \u001b[1;32md:\\Dropbox\\Project\\LegitProject\\SubjectSentimentModelling\\env\\lib\\site-packages\\google\\api_core\\retry.py:283\u001b[0m, in \u001b[0;36mRetry.__call__.<locals>.retry_wrapped_func\u001b[1;34m(*args, **kwargs)\u001b[0m\n\u001b[0;32m    279\u001b[0m target \u001b[39m=\u001b[39m functools\u001b[39m.\u001b[39mpartial(func, \u001b[39m*\u001b[39margs, \u001b[39m*\u001b[39m\u001b[39m*\u001b[39mkwargs)\n\u001b[0;32m    280\u001b[0m sleep_generator \u001b[39m=\u001b[39m exponential_sleep_generator(\n\u001b[0;32m    281\u001b[0m     \u001b[39mself\u001b[39m\u001b[39m.\u001b[39m_initial, \u001b[39mself\u001b[39m\u001b[39m.\u001b[39m_maximum, multiplier\u001b[39m=\u001b[39m\u001b[39mself\u001b[39m\u001b[39m.\u001b[39m_multiplier\n\u001b[0;32m    282\u001b[0m )\n\u001b[1;32m--> 283\u001b[0m \u001b[39mreturn\u001b[39;00m retry_target(\n\u001b[0;32m    284\u001b[0m     target,\n\u001b[0;32m    285\u001b[0m     \u001b[39mself\u001b[39;49m\u001b[39m.\u001b[39;49m_predicate,\n\u001b[0;32m    286\u001b[0m     sleep_generator,\n\u001b[0;32m    287\u001b[0m     \u001b[39mself\u001b[39;49m\u001b[39m.\u001b[39;49m_deadline,\n\u001b[0;32m    288\u001b[0m     on_error\u001b[39m=\u001b[39;49mon_error,\n\u001b[0;32m    289\u001b[0m )\n",
      "File \u001b[1;32md:\\Dropbox\\Project\\LegitProject\\SubjectSentimentModelling\\env\\lib\\site-packages\\google\\api_core\\retry.py:190\u001b[0m, in \u001b[0;36mretry_target\u001b[1;34m(target, predicate, sleep_generator, deadline, on_error)\u001b[0m\n\u001b[0;32m    188\u001b[0m \u001b[39mfor\u001b[39;00m sleep \u001b[39min\u001b[39;00m sleep_generator:\n\u001b[0;32m    189\u001b[0m     \u001b[39mtry\u001b[39;00m:\n\u001b[1;32m--> 190\u001b[0m         \u001b[39mreturn\u001b[39;00m target()\n\u001b[0;32m    192\u001b[0m     \u001b[39m# pylint: disable=broad-except\u001b[39;00m\n\u001b[0;32m    193\u001b[0m     \u001b[39m# This function explicitly must deal with broad exceptions.\u001b[39;00m\n\u001b[0;32m    194\u001b[0m     \u001b[39mexcept\u001b[39;00m \u001b[39mException\u001b[39;00m \u001b[39mas\u001b[39;00m exc:\n",
      "File \u001b[1;32md:\\Dropbox\\Project\\LegitProject\\SubjectSentimentModelling\\env\\lib\\site-packages\\google\\cloud\\_http\\__init__.py:482\u001b[0m, in \u001b[0;36mJSONConnection.api_request\u001b[1;34m(self, method, path, query_params, data, content_type, headers, api_base_url, api_version, expect_json, _target_object, timeout, extra_api_info)\u001b[0m\n\u001b[0;32m    479\u001b[0m     data \u001b[39m=\u001b[39m json\u001b[39m.\u001b[39mdumps(data)\n\u001b[0;32m    480\u001b[0m     content_type \u001b[39m=\u001b[39m \u001b[39m\"\u001b[39m\u001b[39mapplication/json\u001b[39m\u001b[39m\"\u001b[39m\n\u001b[1;32m--> 482\u001b[0m response \u001b[39m=\u001b[39m \u001b[39mself\u001b[39;49m\u001b[39m.\u001b[39;49m_make_request(\n\u001b[0;32m    483\u001b[0m     method\u001b[39m=\u001b[39;49mmethod,\n\u001b[0;32m    484\u001b[0m     url\u001b[39m=\u001b[39;49murl,\n\u001b[0;32m    485\u001b[0m     data\u001b[39m=\u001b[39;49mdata,\n\u001b[0;32m    486\u001b[0m     content_type\u001b[39m=\u001b[39;49mcontent_type,\n\u001b[0;32m    487\u001b[0m     headers\u001b[39m=\u001b[39;49mheaders,\n\u001b[0;32m    488\u001b[0m     target_object\u001b[39m=\u001b[39;49m_target_object,\n\u001b[0;32m    489\u001b[0m     timeout\u001b[39m=\u001b[39;49mtimeout,\n\u001b[0;32m    490\u001b[0m     extra_api_info\u001b[39m=\u001b[39;49mextra_api_info,\n\u001b[0;32m    491\u001b[0m )\n\u001b[0;32m    493\u001b[0m \u001b[39mif\u001b[39;00m \u001b[39mnot\u001b[39;00m \u001b[39m200\u001b[39m \u001b[39m<\u001b[39m\u001b[39m=\u001b[39m response\u001b[39m.\u001b[39mstatus_code \u001b[39m<\u001b[39m \u001b[39m300\u001b[39m:\n\u001b[0;32m    494\u001b[0m     \u001b[39mraise\u001b[39;00m exceptions\u001b[39m.\u001b[39mfrom_http_response(response)\n",
      "File \u001b[1;32md:\\Dropbox\\Project\\LegitProject\\SubjectSentimentModelling\\env\\lib\\site-packages\\google\\cloud\\_http\\__init__.py:341\u001b[0m, in \u001b[0;36mJSONConnection._make_request\u001b[1;34m(self, method, url, data, content_type, headers, target_object, timeout, extra_api_info)\u001b[0m\n\u001b[0;32m    338\u001b[0m     headers[CLIENT_INFO_HEADER] \u001b[39m=\u001b[39m \u001b[39mself\u001b[39m\u001b[39m.\u001b[39muser_agent\n\u001b[0;32m    339\u001b[0m headers[\u001b[39m\"\u001b[39m\u001b[39mUser-Agent\u001b[39m\u001b[39m\"\u001b[39m] \u001b[39m=\u001b[39m \u001b[39mself\u001b[39m\u001b[39m.\u001b[39muser_agent\n\u001b[1;32m--> 341\u001b[0m \u001b[39mreturn\u001b[39;00m \u001b[39mself\u001b[39;49m\u001b[39m.\u001b[39;49m_do_request(\n\u001b[0;32m    342\u001b[0m     method, url, headers, data, target_object, timeout\u001b[39m=\u001b[39;49mtimeout\n\u001b[0;32m    343\u001b[0m )\n",
      "File \u001b[1;32md:\\Dropbox\\Project\\LegitProject\\SubjectSentimentModelling\\env\\lib\\site-packages\\google\\cloud\\_http\\__init__.py:379\u001b[0m, in \u001b[0;36mJSONConnection._do_request\u001b[1;34m(self, method, url, headers, data, target_object, timeout)\u001b[0m\n\u001b[0;32m    345\u001b[0m \u001b[39mdef\u001b[39;00m \u001b[39m_do_request\u001b[39m(\n\u001b[0;32m    346\u001b[0m     \u001b[39mself\u001b[39m, method, url, headers, data, target_object, timeout\u001b[39m=\u001b[39m_DEFAULT_TIMEOUT\n\u001b[0;32m    347\u001b[0m ):  \u001b[39m# pylint: disable=unused-argument\u001b[39;00m\n\u001b[0;32m    348\u001b[0m     \u001b[39m\"\"\"Low-level helper:  perform the actual API request over HTTP.\u001b[39;00m\n\u001b[0;32m    349\u001b[0m \n\u001b[0;32m    350\u001b[0m \u001b[39m    Allows batch context managers to override and defer a request.\u001b[39;00m\n\u001b[1;32m   (...)\u001b[0m\n\u001b[0;32m    377\u001b[0m \u001b[39m    :returns: The HTTP response.\u001b[39;00m\n\u001b[0;32m    378\u001b[0m \u001b[39m    \"\"\"\u001b[39;00m\n\u001b[1;32m--> 379\u001b[0m     \u001b[39mreturn\u001b[39;00m \u001b[39mself\u001b[39;49m\u001b[39m.\u001b[39;49mhttp\u001b[39m.\u001b[39;49mrequest(\n\u001b[0;32m    380\u001b[0m         url\u001b[39m=\u001b[39;49murl, method\u001b[39m=\u001b[39;49mmethod, headers\u001b[39m=\u001b[39;49mheaders, data\u001b[39m=\u001b[39;49mdata, timeout\u001b[39m=\u001b[39;49mtimeout\n\u001b[0;32m    381\u001b[0m     )\n",
      "File \u001b[1;32md:\\Dropbox\\Project\\LegitProject\\SubjectSentimentModelling\\env\\lib\\site-packages\\google\\auth\\transport\\requests.py:585\u001b[0m, in \u001b[0;36mAuthorizedSession.request\u001b[1;34m(self, method, url, data, headers, max_allowed_time, timeout, **kwargs)\u001b[0m\n\u001b[0;32m    578\u001b[0m auth_request \u001b[39m=\u001b[39m (\n\u001b[0;32m    579\u001b[0m     \u001b[39mself\u001b[39m\u001b[39m.\u001b[39m_auth_request\n\u001b[0;32m    580\u001b[0m     \u001b[39mif\u001b[39;00m timeout \u001b[39mis\u001b[39;00m \u001b[39mNone\u001b[39;00m\n\u001b[0;32m    581\u001b[0m     \u001b[39melse\u001b[39;00m functools\u001b[39m.\u001b[39mpartial(\u001b[39mself\u001b[39m\u001b[39m.\u001b[39m_auth_request, timeout\u001b[39m=\u001b[39mtimeout)\n\u001b[0;32m    582\u001b[0m )\n\u001b[0;32m    584\u001b[0m \u001b[39mwith\u001b[39;00m TimeoutGuard(remaining_time) \u001b[39mas\u001b[39;00m guard:\n\u001b[1;32m--> 585\u001b[0m     \u001b[39mself\u001b[39;49m\u001b[39m.\u001b[39;49mcredentials\u001b[39m.\u001b[39;49mrefresh(auth_request)\n\u001b[0;32m    586\u001b[0m remaining_time \u001b[39m=\u001b[39m guard\u001b[39m.\u001b[39mremaining_timeout\n\u001b[0;32m    588\u001b[0m \u001b[39m# Recurse. Pass in the original headers, not our modified set, but\u001b[39;00m\n\u001b[0;32m    589\u001b[0m \u001b[39m# do pass the adjusted max allowed time (i.e. the remaining total time).\u001b[39;00m\n",
      "File \u001b[1;32md:\\Dropbox\\Project\\LegitProject\\SubjectSentimentModelling\\env\\lib\\site-packages\\google\\auth\\credentials.py:173\u001b[0m, in \u001b[0;36mAnonymousCredentials.refresh\u001b[1;34m(self, request)\u001b[0m\n\u001b[0;32m    170\u001b[0m \u001b[39mdef\u001b[39;00m \u001b[39mrefresh\u001b[39m(\u001b[39mself\u001b[39m, request):\n\u001b[0;32m    171\u001b[0m     \u001b[39m\"\"\"Raises :class:`ValueError``, anonymous credentials cannot be\u001b[39;00m\n\u001b[0;32m    172\u001b[0m \u001b[39m    refreshed.\"\"\"\u001b[39;00m\n\u001b[1;32m--> 173\u001b[0m     \u001b[39mraise\u001b[39;00m \u001b[39mValueError\u001b[39;00m(\u001b[39m\"\u001b[39m\u001b[39mAnonymous credentials cannot be refreshed.\u001b[39m\u001b[39m\"\u001b[39m)\n",
      "\u001b[1;31mValueError\u001b[0m: Anonymous credentials cannot be refreshed."
     ]
    }
   ],
   "source": [
    "client = storage.Client.create_anonymous_client()\n",
    "\n",
    "bucket = client.bucket('data_exploration')\n",
    "\n",
    "blobs = list(bucket.list_blobs())"
   ]
  },
  {
   "cell_type": "code",
   "execution_count": 4,
   "metadata": {},
   "outputs": [],
   "source": [
    "config = configparser.RawConfigParser()"
   ]
  },
  {
   "cell_type": "code",
   "execution_count": 5,
   "metadata": {},
   "outputs": [
    {
     "data": {
      "text/plain": [
       "['.ipynb_checkpoints',\n",
       " 'AmazonMeta_Electronics.url',\n",
       " 'AmazonMeta_GroceryandGourmetFood.url',\n",
       " 'Amazon_Electronics.url',\n",
       " 'Amazon_GroceryandGourmetFood.url',\n",
       " 'README.md',\n",
       " 'twitter_data.url']"
      ]
     },
     "execution_count": 5,
     "metadata": {},
     "output_type": "execute_result"
    }
   ],
   "source": [
    "os.listdir('../data')"
   ]
  },
  {
   "cell_type": "code",
   "execution_count": 16,
   "metadata": {},
   "outputs": [
    {
     "ename": "NameError",
     "evalue": "name 'config' is not defined",
     "output_type": "error",
     "traceback": [
      "\u001b[1;31m---------------------------------------------------------------------------\u001b[0m",
      "\u001b[1;31mNameError\u001b[0m                                 Traceback (most recent call last)",
      "\u001b[1;32md:\\Dropbox\\Project\\LegitProject\\SubjectSentimentModelling\\utils\\download_url.ipynb Cell 8\u001b[0m in \u001b[0;36m<cell line: 1>\u001b[1;34m()\u001b[0m\n\u001b[1;32m----> <a href='vscode-notebook-cell:/d%3A/Dropbox/Project/LegitProject/SubjectSentimentModelling/utils/download_url.ipynb#X10sZmlsZQ%3D%3D?line=0'>1</a>\u001b[0m config\u001b[39m.\u001b[39mread(\u001b[39m'\u001b[39m\u001b[39m../data/AmazonMeta_Electronics.url\u001b[39m\u001b[39m'\u001b[39m)\n\u001b[0;32m      <a href='vscode-notebook-cell:/d%3A/Dropbox/Project/LegitProject/SubjectSentimentModelling/utils/download_url.ipynb#X10sZmlsZQ%3D%3D?line=1'>2</a>\u001b[0m file \u001b[39m=\u001b[39m config\u001b[39m.\u001b[39mget(\u001b[39m'\u001b[39m\u001b[39mInternetShortcut\u001b[39m\u001b[39m'\u001b[39m, \u001b[39m'\u001b[39m\u001b[39mURL\u001b[39m\u001b[39m'\u001b[39m)\n",
      "\u001b[1;31mNameError\u001b[0m: name 'config' is not defined"
     ]
    }
   ],
   "source": [
    "config.read('../data/AmazonMeta_Electronics.url')\n",
    "file = config.get('InternetShortcut', 'URL')"
   ]
  },
  {
   "cell_type": "code",
   "execution_count": 15,
   "metadata": {},
   "outputs": [
    {
     "ename": "NameError",
     "evalue": "name 'file' is not defined",
     "output_type": "error",
     "traceback": [
      "\u001b[1;31m---------------------------------------------------------------------------\u001b[0m",
      "\u001b[1;31mNameError\u001b[0m                                 Traceback (most recent call last)",
      "\u001b[1;32md:\\Dropbox\\Project\\LegitProject\\SubjectSentimentModelling\\utils\\download_url.ipynb Cell 9\u001b[0m in \u001b[0;36m<cell line: 1>\u001b[1;34m()\u001b[0m\n\u001b[1;32m----> <a href='vscode-notebook-cell:/d%3A/Dropbox/Project/LegitProject/SubjectSentimentModelling/utils/download_url.ipynb#X11sZmlsZQ%3D%3D?line=0'>1</a>\u001b[0m \u001b[39mprint\u001b[39m(file)\n",
      "\u001b[1;31mNameError\u001b[0m: name 'file' is not defined"
     ]
    }
   ],
   "source": [
    "print(file)"
   ]
  },
  {
   "cell_type": "code",
   "execution_count": 22,
   "metadata": {},
   "outputs": [],
   "source": [
    "import csv"
   ]
  },
  {
   "cell_type": "code",
   "execution_count": 5,
   "metadata": {},
   "outputs": [],
   "source": [
    "from urllib.request import urlopen"
   ]
  },
  {
   "cell_type": "code",
   "execution_count": 14,
   "metadata": {},
   "outputs": [],
   "source": []
  },
  {
   "cell_type": "code",
   "execution_count": 8,
   "metadata": {},
   "outputs": [],
   "source": [
    "import json"
   ]
  },
  {
   "cell_type": "code",
   "execution_count": null,
   "metadata": {},
   "outputs": [],
   "source": [
    "r.read().split()"
   ]
  },
  {
   "cell_type": "code",
   "execution_count": 9,
   "metadata": {},
   "outputs": [
    {
     "ename": "JSONDecodeError",
     "evalue": "Extra data: line 2 column 1 (char 752)",
     "output_type": "error",
     "traceback": [
      "\u001b[1;31m---------------------------------------------------------------------------\u001b[0m",
      "\u001b[1;31mJSONDecodeError\u001b[0m                           Traceback (most recent call last)",
      "\u001b[1;32md:\\Dropbox\\Project\\LegitProject\\SubjectSentimentModelling\\utils\\download_url.ipynb Cell 15\u001b[0m in \u001b[0;36m<cell line: 1>\u001b[1;34m()\u001b[0m\n\u001b[1;32m----> <a href='vscode-notebook-cell:/d%3A/Dropbox/Project/LegitProject/SubjectSentimentModelling/utils/download_url.ipynb#X34sZmlsZQ%3D%3D?line=0'>1</a>\u001b[0m data_json \u001b[39m=\u001b[39m json\u001b[39m.\u001b[39;49mloads(r\u001b[39m.\u001b[39;49mread())\n",
      "File \u001b[1;32m~\\AppData\\Local\\Programs\\Python\\Python310\\lib\\json\\__init__.py:346\u001b[0m, in \u001b[0;36mloads\u001b[1;34m(s, cls, object_hook, parse_float, parse_int, parse_constant, object_pairs_hook, **kw)\u001b[0m\n\u001b[0;32m    341\u001b[0m     s \u001b[39m=\u001b[39m s\u001b[39m.\u001b[39mdecode(detect_encoding(s), \u001b[39m'\u001b[39m\u001b[39msurrogatepass\u001b[39m\u001b[39m'\u001b[39m)\n\u001b[0;32m    343\u001b[0m \u001b[39mif\u001b[39;00m (\u001b[39mcls\u001b[39m \u001b[39mis\u001b[39;00m \u001b[39mNone\u001b[39;00m \u001b[39mand\u001b[39;00m object_hook \u001b[39mis\u001b[39;00m \u001b[39mNone\u001b[39;00m \u001b[39mand\u001b[39;00m\n\u001b[0;32m    344\u001b[0m         parse_int \u001b[39mis\u001b[39;00m \u001b[39mNone\u001b[39;00m \u001b[39mand\u001b[39;00m parse_float \u001b[39mis\u001b[39;00m \u001b[39mNone\u001b[39;00m \u001b[39mand\u001b[39;00m\n\u001b[0;32m    345\u001b[0m         parse_constant \u001b[39mis\u001b[39;00m \u001b[39mNone\u001b[39;00m \u001b[39mand\u001b[39;00m object_pairs_hook \u001b[39mis\u001b[39;00m \u001b[39mNone\u001b[39;00m \u001b[39mand\u001b[39;00m \u001b[39mnot\u001b[39;00m kw):\n\u001b[1;32m--> 346\u001b[0m     \u001b[39mreturn\u001b[39;00m _default_decoder\u001b[39m.\u001b[39;49mdecode(s)\n\u001b[0;32m    347\u001b[0m \u001b[39mif\u001b[39;00m \u001b[39mcls\u001b[39m \u001b[39mis\u001b[39;00m \u001b[39mNone\u001b[39;00m:\n\u001b[0;32m    348\u001b[0m     \u001b[39mcls\u001b[39m \u001b[39m=\u001b[39m JSONDecoder\n",
      "File \u001b[1;32m~\\AppData\\Local\\Programs\\Python\\Python310\\lib\\json\\decoder.py:340\u001b[0m, in \u001b[0;36mJSONDecoder.decode\u001b[1;34m(self, s, _w)\u001b[0m\n\u001b[0;32m    338\u001b[0m end \u001b[39m=\u001b[39m _w(s, end)\u001b[39m.\u001b[39mend()\n\u001b[0;32m    339\u001b[0m \u001b[39mif\u001b[39;00m end \u001b[39m!=\u001b[39m \u001b[39mlen\u001b[39m(s):\n\u001b[1;32m--> 340\u001b[0m     \u001b[39mraise\u001b[39;00m JSONDecodeError(\u001b[39m\"\u001b[39m\u001b[39mExtra data\u001b[39m\u001b[39m\"\u001b[39m, s, end)\n\u001b[0;32m    341\u001b[0m \u001b[39mreturn\u001b[39;00m obj\n",
      "\u001b[1;31mJSONDecodeError\u001b[0m: Extra data: line 2 column 1 (char 752)"
     ]
    }
   ],
   "source": [
    "data_json = json.loads(r.read())"
   ]
  },
  {
   "cell_type": "code",
   "execution_count": 15,
   "metadata": {},
   "outputs": [
    {
     "data": {
      "text/plain": [
       "520079735"
      ]
     },
     "execution_count": 15,
     "metadata": {},
     "output_type": "execute_result"
    }
   ],
   "source": [
    "open('test.json', 'w').write(r.read().decode('utf-8'))"
   ]
  },
  {
   "cell_type": "code",
   "execution_count": 11,
   "metadata": {},
   "outputs": [],
   "source": [
    "import pandas as pd"
   ]
  },
  {
   "cell_type": "code",
   "execution_count": 14,
   "metadata": {},
   "outputs": [],
   "source": [
    "df = pd.read_json('test.json', chunksize=10e2, lines=True)"
   ]
  },
  {
   "cell_type": "code",
   "execution_count": 15,
   "metadata": {},
   "outputs": [
    {
     "ename": "AttributeError",
     "evalue": "'JsonReader' object has no attribute 'head'",
     "output_type": "error",
     "traceback": [
      "\u001b[1;31m---------------------------------------------------------------------------\u001b[0m",
      "\u001b[1;31mAttributeError\u001b[0m                            Traceback (most recent call last)",
      "\u001b[1;32md:\\Dropbox\\Project\\LegitProject\\SubjectSentimentModelling\\utils\\download_url.ipynb Cell 16\u001b[0m in \u001b[0;36m<cell line: 1>\u001b[1;34m()\u001b[0m\n\u001b[1;32m----> <a href='vscode-notebook-cell:/d%3A/Dropbox/Project/LegitProject/SubjectSentimentModelling/utils/download_url.ipynb#X23sZmlsZQ%3D%3D?line=0'>1</a>\u001b[0m df\u001b[39m.\u001b[39;49mhead()\n",
      "\u001b[1;31mAttributeError\u001b[0m: 'JsonReader' object has no attribute 'head'"
     ]
    }
   ],
   "source": [
    "df.head()"
   ]
  },
  {
   "cell_type": "code",
   "execution_count": 18,
   "metadata": {},
   "outputs": [
    {
     "ename": "JSONDecodeError",
     "evalue": "Extra data: line 2 column 1 (char 1846)",
     "output_type": "error",
     "traceback": [
      "\u001b[1;31m---------------------------------------------------------------------------\u001b[0m",
      "\u001b[1;31mJSONDecodeError\u001b[0m                           Traceback (most recent call last)",
      "File \u001b[1;32md:\\Dropbox\\Project\\LegitProject\\SubjectSentimentModelling\\env\\lib\\site-packages\\requests\\models.py:971\u001b[0m, in \u001b[0;36mResponse.json\u001b[1;34m(self, **kwargs)\u001b[0m\n\u001b[0;32m    970\u001b[0m \u001b[39mtry\u001b[39;00m:\n\u001b[1;32m--> 971\u001b[0m     \u001b[39mreturn\u001b[39;00m complexjson\u001b[39m.\u001b[39mloads(\u001b[39mself\u001b[39m\u001b[39m.\u001b[39mtext, \u001b[39m*\u001b[39m\u001b[39m*\u001b[39mkwargs)\n\u001b[0;32m    972\u001b[0m \u001b[39mexcept\u001b[39;00m JSONDecodeError \u001b[39mas\u001b[39;00m e:\n\u001b[0;32m    973\u001b[0m     \u001b[39m# Catch JSON-related errors and raise as requests.JSONDecodeError\u001b[39;00m\n\u001b[0;32m    974\u001b[0m     \u001b[39m# This aliases json.JSONDecodeError and simplejson.JSONDecodeError\u001b[39;00m\n",
      "File \u001b[1;32m~\\AppData\\Local\\Programs\\Python\\Python310\\lib\\json\\__init__.py:346\u001b[0m, in \u001b[0;36mloads\u001b[1;34m(s, cls, object_hook, parse_float, parse_int, parse_constant, object_pairs_hook, **kw)\u001b[0m\n\u001b[0;32m    343\u001b[0m \u001b[39mif\u001b[39;00m (\u001b[39mcls\u001b[39m \u001b[39mis\u001b[39;00m \u001b[39mNone\u001b[39;00m \u001b[39mand\u001b[39;00m object_hook \u001b[39mis\u001b[39;00m \u001b[39mNone\u001b[39;00m \u001b[39mand\u001b[39;00m\n\u001b[0;32m    344\u001b[0m         parse_int \u001b[39mis\u001b[39;00m \u001b[39mNone\u001b[39;00m \u001b[39mand\u001b[39;00m parse_float \u001b[39mis\u001b[39;00m \u001b[39mNone\u001b[39;00m \u001b[39mand\u001b[39;00m\n\u001b[0;32m    345\u001b[0m         parse_constant \u001b[39mis\u001b[39;00m \u001b[39mNone\u001b[39;00m \u001b[39mand\u001b[39;00m object_pairs_hook \u001b[39mis\u001b[39;00m \u001b[39mNone\u001b[39;00m \u001b[39mand\u001b[39;00m \u001b[39mnot\u001b[39;00m kw):\n\u001b[1;32m--> 346\u001b[0m     \u001b[39mreturn\u001b[39;00m _default_decoder\u001b[39m.\u001b[39;49mdecode(s)\n\u001b[0;32m    347\u001b[0m \u001b[39mif\u001b[39;00m \u001b[39mcls\u001b[39m \u001b[39mis\u001b[39;00m \u001b[39mNone\u001b[39;00m:\n",
      "File \u001b[1;32m~\\AppData\\Local\\Programs\\Python\\Python310\\lib\\json\\decoder.py:340\u001b[0m, in \u001b[0;36mJSONDecoder.decode\u001b[1;34m(self, s, _w)\u001b[0m\n\u001b[0;32m    339\u001b[0m \u001b[39mif\u001b[39;00m end \u001b[39m!=\u001b[39m \u001b[39mlen\u001b[39m(s):\n\u001b[1;32m--> 340\u001b[0m     \u001b[39mraise\u001b[39;00m JSONDecodeError(\u001b[39m\"\u001b[39m\u001b[39mExtra data\u001b[39m\u001b[39m\"\u001b[39m, s, end)\n\u001b[0;32m    341\u001b[0m \u001b[39mreturn\u001b[39;00m obj\n",
      "\u001b[1;31mJSONDecodeError\u001b[0m: Extra data: line 2 column 1 (char 1846)",
      "\nDuring handling of the above exception, another exception occurred:\n",
      "\u001b[1;31mJSONDecodeError\u001b[0m                           Traceback (most recent call last)",
      "\u001b[1;32md:\\Dropbox\\Project\\LegitProject\\SubjectSentimentModelling\\utils\\download_url.ipynb Cell 17\u001b[0m in \u001b[0;36m<cell line: 1>\u001b[1;34m()\u001b[0m\n\u001b[1;32m----> <a href='vscode-notebook-cell:/d%3A/Dropbox/Project/LegitProject/SubjectSentimentModelling/utils/download_url.ipynb#X30sZmlsZQ%3D%3D?line=0'>1</a>\u001b[0m r\u001b[39m.\u001b[39;49mjson()[:\u001b[39m100\u001b[39m]\n",
      "File \u001b[1;32md:\\Dropbox\\Project\\LegitProject\\SubjectSentimentModelling\\env\\lib\\site-packages\\requests\\models.py:975\u001b[0m, in \u001b[0;36mResponse.json\u001b[1;34m(self, **kwargs)\u001b[0m\n\u001b[0;32m    971\u001b[0m     \u001b[39mreturn\u001b[39;00m complexjson\u001b[39m.\u001b[39mloads(\u001b[39mself\u001b[39m\u001b[39m.\u001b[39mtext, \u001b[39m*\u001b[39m\u001b[39m*\u001b[39mkwargs)\n\u001b[0;32m    972\u001b[0m \u001b[39mexcept\u001b[39;00m JSONDecodeError \u001b[39mas\u001b[39;00m e:\n\u001b[0;32m    973\u001b[0m     \u001b[39m# Catch JSON-related errors and raise as requests.JSONDecodeError\u001b[39;00m\n\u001b[0;32m    974\u001b[0m     \u001b[39m# This aliases json.JSONDecodeError and simplejson.JSONDecodeError\u001b[39;00m\n\u001b[1;32m--> 975\u001b[0m     \u001b[39mraise\u001b[39;00m RequestsJSONDecodeError(e\u001b[39m.\u001b[39mmsg, e\u001b[39m.\u001b[39mdoc, e\u001b[39m.\u001b[39mpos)\n",
      "\u001b[1;31mJSONDecodeError\u001b[0m: Extra data: line 2 column 1 (char 1846)"
     ]
    }
   ],
   "source": [
    "r.json()[:100]"
   ]
  },
  {
   "cell_type": "code",
   "execution_count": 20,
   "metadata": {},
   "outputs": [
    {
     "data": {
      "text/plain": [
       "'{\"category\": [\"Electronics\", \"Camera &amp; Photo\", \"Video Surveillance\", \"Surveillance Systems\", \"Su'"
      ]
     },
     "execution_count": 20,
     "metadata": {},
     "output_type": "execute_result"
    }
   ],
   "source": [
    "r.text[:100]"
   ]
  },
  {
   "cell_type": "code",
   "execution_count": 10,
   "metadata": {},
   "outputs": [
    {
     "ename": "TypeError",
     "evalue": "a bytes-like object is required, not 'str'",
     "output_type": "error",
     "traceback": [
      "\u001b[1;31m---------------------------------------------------------------------------\u001b[0m",
      "\u001b[1;31mTypeError\u001b[0m                                 Traceback (most recent call last)",
      "\u001b[1;32md:\\Dropbox\\Project\\LegitProject\\SubjectSentimentModelling\\utils\\download_url.ipynb Cell 23\u001b[0m in \u001b[0;36m<cell line: 1>\u001b[1;34m()\u001b[0m\n\u001b[1;32m----> <a href='vscode-notebook-cell:/d%3A/Dropbox/Project/LegitProject/SubjectSentimentModelling/utils/download_url.ipynb#X26sZmlsZQ%3D%3D?line=0'>1</a>\u001b[0m json\u001b[39m.\u001b[39mloads(r\u001b[39m.\u001b[39;49mread()\u001b[39m.\u001b[39;49msplit(\u001b[39m'\u001b[39;49m\u001b[39m'\u001b[39;49m))\n",
      "\u001b[1;31mTypeError\u001b[0m: a bytes-like object is required, not 'str'"
     ]
    }
   ],
   "source": [
    "json.loads(r.read().split(''))"
   ]
  },
  {
   "cell_type": "code",
   "execution_count": 23,
   "metadata": {},
   "outputs": [
    {
     "ename": "MemoryError",
     "evalue": "",
     "output_type": "error",
     "traceback": [
      "\u001b[1;31m---------------------------------------------------------------------------\u001b[0m",
      "\u001b[1;31mMemoryError\u001b[0m                               Traceback (most recent call last)",
      "\u001b[1;32md:\\Dropbox\\Project\\LegitProject\\SubjectSentimentModelling\\utils\\download_url.ipynb Cell 20\u001b[0m in \u001b[0;36m<cell line: 2>\u001b[1;34m()\u001b[0m\n\u001b[0;32m      <a href='vscode-notebook-cell:/d%3A/Dropbox/Project/LegitProject/SubjectSentimentModelling/utils/download_url.ipynb#X31sZmlsZQ%3D%3D?line=0'>1</a>\u001b[0m \u001b[39mimport\u001b[39;00m \u001b[39mre\u001b[39;00m\n\u001b[1;32m----> <a href='vscode-notebook-cell:/d%3A/Dropbox/Project/LegitProject/SubjectSentimentModelling/utils/download_url.ipynb#X31sZmlsZQ%3D%3D?line=1'>2</a>\u001b[0m re\u001b[39m.\u001b[39msplit(\u001b[39m'\u001b[39m\u001b[39m,\u001b[39m\u001b[39m\\n\u001b[39;00m\u001b[39m'\u001b[39m, r\u001b[39m.\u001b[39mtext)[\u001b[39m0\u001b[39m]\n",
      "File \u001b[1;32md:\\Dropbox\\Project\\LegitProject\\SubjectSentimentModelling\\env\\lib\\site-packages\\IPython\\core\\displayhook.py:268\u001b[0m, in \u001b[0;36mDisplayHook.__call__\u001b[1;34m(self, result)\u001b[0m\n\u001b[0;32m    266\u001b[0m     \u001b[39mself\u001b[39m\u001b[39m.\u001b[39mwrite_format_data(format_dict, md_dict)\n\u001b[0;32m    267\u001b[0m     \u001b[39mself\u001b[39m\u001b[39m.\u001b[39mlog_output(format_dict)\n\u001b[1;32m--> 268\u001b[0m \u001b[39mself\u001b[39;49m\u001b[39m.\u001b[39;49mfinish_displayhook()\n",
      "File \u001b[1;32md:\\Dropbox\\Project\\LegitProject\\SubjectSentimentModelling\\env\\lib\\site-packages\\ipykernel\\displayhook.py:89\u001b[0m, in \u001b[0;36mZMQShellDisplayHook.finish_displayhook\u001b[1;34m(self)\u001b[0m\n\u001b[0;32m     87\u001b[0m sys\u001b[39m.\u001b[39mstderr\u001b[39m.\u001b[39mflush()\n\u001b[0;32m     88\u001b[0m \u001b[39mif\u001b[39;00m \u001b[39mself\u001b[39m\u001b[39m.\u001b[39mmsg[\u001b[39m\"\u001b[39m\u001b[39mcontent\u001b[39m\u001b[39m\"\u001b[39m][\u001b[39m\"\u001b[39m\u001b[39mdata\u001b[39m\u001b[39m\"\u001b[39m]:\n\u001b[1;32m---> 89\u001b[0m     \u001b[39mself\u001b[39;49m\u001b[39m.\u001b[39;49msession\u001b[39m.\u001b[39;49msend(\u001b[39mself\u001b[39;49m\u001b[39m.\u001b[39;49mpub_socket, \u001b[39mself\u001b[39;49m\u001b[39m.\u001b[39;49mmsg, ident\u001b[39m=\u001b[39;49m\u001b[39mself\u001b[39;49m\u001b[39m.\u001b[39;49mtopic)\n\u001b[0;32m     90\u001b[0m \u001b[39mself\u001b[39m\u001b[39m.\u001b[39mmsg \u001b[39m=\u001b[39m \u001b[39mNone\u001b[39;00m\n",
      "File \u001b[1;32md:\\Dropbox\\Project\\LegitProject\\SubjectSentimentModelling\\env\\lib\\site-packages\\jupyter_client\\session.py:844\u001b[0m, in \u001b[0;36mSession.send\u001b[1;34m(self, stream, msg_or_type, content, parent, ident, buffers, track, header, metadata)\u001b[0m\n\u001b[0;32m    842\u001b[0m \u001b[39mif\u001b[39;00m \u001b[39mself\u001b[39m\u001b[39m.\u001b[39madapt_version:\n\u001b[0;32m    843\u001b[0m     msg \u001b[39m=\u001b[39m adapt(msg, \u001b[39mself\u001b[39m\u001b[39m.\u001b[39madapt_version)\n\u001b[1;32m--> 844\u001b[0m to_send \u001b[39m=\u001b[39m \u001b[39mself\u001b[39;49m\u001b[39m.\u001b[39;49mserialize(msg, ident)\n\u001b[0;32m    845\u001b[0m to_send\u001b[39m.\u001b[39mextend(buffers)\n\u001b[0;32m    846\u001b[0m longest \u001b[39m=\u001b[39m \u001b[39mmax\u001b[39m([\u001b[39mlen\u001b[39m(s) \u001b[39mfor\u001b[39;00m s \u001b[39min\u001b[39;00m to_send])\n",
      "File \u001b[1;32md:\\Dropbox\\Project\\LegitProject\\SubjectSentimentModelling\\env\\lib\\site-packages\\jupyter_client\\session.py:718\u001b[0m, in \u001b[0;36mSession.serialize\u001b[1;34m(self, msg, ident)\u001b[0m\n\u001b[0;32m    716\u001b[0m     content \u001b[39m=\u001b[39m \u001b[39mself\u001b[39m\u001b[39m.\u001b[39mnone\n\u001b[0;32m    717\u001b[0m \u001b[39melif\u001b[39;00m \u001b[39misinstance\u001b[39m(content, \u001b[39mdict\u001b[39m):\n\u001b[1;32m--> 718\u001b[0m     content \u001b[39m=\u001b[39m \u001b[39mself\u001b[39;49m\u001b[39m.\u001b[39;49mpack(content)\n\u001b[0;32m    719\u001b[0m \u001b[39melif\u001b[39;00m \u001b[39misinstance\u001b[39m(content, \u001b[39mbytes\u001b[39m):\n\u001b[0;32m    720\u001b[0m     \u001b[39m# content is already packed, as in a relayed message\u001b[39;00m\n\u001b[0;32m    721\u001b[0m     \u001b[39mpass\u001b[39;00m\n",
      "File \u001b[1;32md:\\Dropbox\\Project\\LegitProject\\SubjectSentimentModelling\\env\\lib\\site-packages\\jupyter_client\\session.py:99\u001b[0m, in \u001b[0;36mjson_packer\u001b[1;34m(obj)\u001b[0m\n\u001b[0;32m     97\u001b[0m \u001b[39mdef\u001b[39;00m \u001b[39mjson_packer\u001b[39m(obj):\n\u001b[0;32m     98\u001b[0m     \u001b[39mtry\u001b[39;00m:\n\u001b[1;32m---> 99\u001b[0m         \u001b[39mreturn\u001b[39;00m json\u001b[39m.\u001b[39;49mdumps(\n\u001b[0;32m    100\u001b[0m             obj,\n\u001b[0;32m    101\u001b[0m             default\u001b[39m=\u001b[39;49mjson_default,\n\u001b[0;32m    102\u001b[0m             ensure_ascii\u001b[39m=\u001b[39;49m\u001b[39mFalse\u001b[39;49;00m,\n\u001b[0;32m    103\u001b[0m             allow_nan\u001b[39m=\u001b[39;49m\u001b[39mFalse\u001b[39;49;00m,\n\u001b[0;32m    104\u001b[0m         )\u001b[39m.\u001b[39mencode(\u001b[39m\"\u001b[39m\u001b[39mutf8\u001b[39m\u001b[39m\"\u001b[39m, errors\u001b[39m=\u001b[39m\u001b[39m\"\u001b[39m\u001b[39msurrogateescape\u001b[39m\u001b[39m\"\u001b[39m)\n\u001b[0;32m    105\u001b[0m     \u001b[39mexcept\u001b[39;00m (\u001b[39mTypeError\u001b[39;00m, \u001b[39mValueError\u001b[39;00m) \u001b[39mas\u001b[39;00m e:\n\u001b[0;32m    106\u001b[0m         \u001b[39m# Fallback to trying to clean the json before serializing\u001b[39;00m\n\u001b[0;32m    107\u001b[0m         packed \u001b[39m=\u001b[39m json\u001b[39m.\u001b[39mdumps(\n\u001b[0;32m    108\u001b[0m             json_clean(obj),\n\u001b[0;32m    109\u001b[0m             default\u001b[39m=\u001b[39mjson_default,\n\u001b[0;32m    110\u001b[0m             ensure_ascii\u001b[39m=\u001b[39m\u001b[39mFalse\u001b[39;00m,\n\u001b[0;32m    111\u001b[0m             allow_nan\u001b[39m=\u001b[39m\u001b[39mFalse\u001b[39;00m,\n\u001b[0;32m    112\u001b[0m         )\u001b[39m.\u001b[39mencode(\u001b[39m\"\u001b[39m\u001b[39mutf8\u001b[39m\u001b[39m\"\u001b[39m, errors\u001b[39m=\u001b[39m\u001b[39m\"\u001b[39m\u001b[39msurrogateescape\u001b[39m\u001b[39m\"\u001b[39m)\n",
      "File \u001b[1;32m~\\AppData\\Local\\Programs\\Python\\Python310\\lib\\json\\__init__.py:238\u001b[0m, in \u001b[0;36mdumps\u001b[1;34m(obj, skipkeys, ensure_ascii, check_circular, allow_nan, cls, indent, separators, default, sort_keys, **kw)\u001b[0m\n\u001b[0;32m    232\u001b[0m \u001b[39mif\u001b[39;00m \u001b[39mcls\u001b[39m \u001b[39mis\u001b[39;00m \u001b[39mNone\u001b[39;00m:\n\u001b[0;32m    233\u001b[0m     \u001b[39mcls\u001b[39m \u001b[39m=\u001b[39m JSONEncoder\n\u001b[0;32m    234\u001b[0m \u001b[39mreturn\u001b[39;00m \u001b[39mcls\u001b[39;49m(\n\u001b[0;32m    235\u001b[0m     skipkeys\u001b[39m=\u001b[39;49mskipkeys, ensure_ascii\u001b[39m=\u001b[39;49mensure_ascii,\n\u001b[0;32m    236\u001b[0m     check_circular\u001b[39m=\u001b[39;49mcheck_circular, allow_nan\u001b[39m=\u001b[39;49mallow_nan, indent\u001b[39m=\u001b[39;49mindent,\n\u001b[0;32m    237\u001b[0m     separators\u001b[39m=\u001b[39;49mseparators, default\u001b[39m=\u001b[39;49mdefault, sort_keys\u001b[39m=\u001b[39;49msort_keys,\n\u001b[1;32m--> 238\u001b[0m     \u001b[39m*\u001b[39;49m\u001b[39m*\u001b[39;49mkw)\u001b[39m.\u001b[39;49mencode(obj)\n",
      "File \u001b[1;32m~\\AppData\\Local\\Programs\\Python\\Python310\\lib\\json\\encoder.py:199\u001b[0m, in \u001b[0;36mJSONEncoder.encode\u001b[1;34m(self, o)\u001b[0m\n\u001b[0;32m    195\u001b[0m         \u001b[39mreturn\u001b[39;00m encode_basestring(o)\n\u001b[0;32m    196\u001b[0m \u001b[39m# This doesn't pass the iterator directly to ''.join() because the\u001b[39;00m\n\u001b[0;32m    197\u001b[0m \u001b[39m# exceptions aren't as detailed.  The list call should be roughly\u001b[39;00m\n\u001b[0;32m    198\u001b[0m \u001b[39m# equivalent to the PySequence_Fast that ''.join() would do.\u001b[39;00m\n\u001b[1;32m--> 199\u001b[0m chunks \u001b[39m=\u001b[39m \u001b[39mself\u001b[39;49m\u001b[39m.\u001b[39;49miterencode(o, _one_shot\u001b[39m=\u001b[39;49m\u001b[39mTrue\u001b[39;49;00m)\n\u001b[0;32m    200\u001b[0m \u001b[39mif\u001b[39;00m \u001b[39mnot\u001b[39;00m \u001b[39misinstance\u001b[39m(chunks, (\u001b[39mlist\u001b[39m, \u001b[39mtuple\u001b[39m)):\n\u001b[0;32m    201\u001b[0m     chunks \u001b[39m=\u001b[39m \u001b[39mlist\u001b[39m(chunks)\n",
      "File \u001b[1;32m~\\AppData\\Local\\Programs\\Python\\Python310\\lib\\json\\encoder.py:257\u001b[0m, in \u001b[0;36mJSONEncoder.iterencode\u001b[1;34m(self, o, _one_shot)\u001b[0m\n\u001b[0;32m    252\u001b[0m \u001b[39melse\u001b[39;00m:\n\u001b[0;32m    253\u001b[0m     _iterencode \u001b[39m=\u001b[39m _make_iterencode(\n\u001b[0;32m    254\u001b[0m         markers, \u001b[39mself\u001b[39m\u001b[39m.\u001b[39mdefault, _encoder, \u001b[39mself\u001b[39m\u001b[39m.\u001b[39mindent, floatstr,\n\u001b[0;32m    255\u001b[0m         \u001b[39mself\u001b[39m\u001b[39m.\u001b[39mkey_separator, \u001b[39mself\u001b[39m\u001b[39m.\u001b[39mitem_separator, \u001b[39mself\u001b[39m\u001b[39m.\u001b[39msort_keys,\n\u001b[0;32m    256\u001b[0m         \u001b[39mself\u001b[39m\u001b[39m.\u001b[39mskipkeys, _one_shot)\n\u001b[1;32m--> 257\u001b[0m \u001b[39mreturn\u001b[39;00m _iterencode(o, \u001b[39m0\u001b[39;49m)\n",
      "\u001b[1;31mMemoryError\u001b[0m: "
     ]
    }
   ],
   "source": [
    "import re\n",
    "re.split(',\\n', r.text)[0]"
   ]
  },
  {
   "cell_type": "code",
   "execution_count": null,
   "metadata": {},
   "outputs": [],
   "source": []
  }
 ],
 "metadata": {
  "kernelspec": {
   "display_name": "Python 3.10.5 ('env': venv)",
   "language": "python",
   "name": "python3"
  },
  "language_info": {
   "codemirror_mode": {
    "name": "ipython",
    "version": 3
   },
   "file_extension": ".py",
   "mimetype": "text/x-python",
   "name": "python",
   "nbconvert_exporter": "python",
   "pygments_lexer": "ipython3",
   "version": "3.10.5"
  },
  "orig_nbformat": 4,
  "vscode": {
   "interpreter": {
    "hash": "055ed1be4b0fa29866f2e2aeab85b185190bfa779d52a08d11b266bfb238964b"
   }
  }
 },
 "nbformat": 4,
 "nbformat_minor": 2
}
