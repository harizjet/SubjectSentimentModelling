{
 "cells": [
  {
   "cell_type": "code",
   "execution_count": 2,
   "metadata": {},
   "outputs": [],
   "source": [
    "import os\n",
    "import configparser\n",
    "from urllib.request import urlopen"
   ]
  },
  {
   "cell_type": "code",
   "execution_count": 3,
   "metadata": {},
   "outputs": [],
   "source": [
    "datadir = '..\\data'\n",
    "bucketname = 'data_exploration'\n",
    "config = configparser.RawConfigParser()\n",
    "for filedir in os.listdir(datadir):\n",
    "    if filedir.split('.')[-1] != 'url':\n",
    "        continue\n",
    "    fileloc = os.path.join(datadir, filedir)\n",
    "    config.read(fileloc)\n",
    "    urlpath = config.get('InternetShortcut', 'URL')\n",
    "    filetar = os.path.join(datadir, urlpath.split('/')[-1])\n",
    "\n",
    "    res = urlopen(urlpath)\n",
    "\n",
    "    with open(filetar, 'w', encoding=\"utf-8\") as f:\n",
    "        f.write(res.read().decode('utf-8'))\n",
    "\n",
    "    print(\"Done {}....\".format(filetar))"
   ]
  },
  {
   "cell_type": "code",
   "execution_count": null,
   "metadata": {},
   "outputs": [],
   "source": []
  }
 ],
 "metadata": {
  "kernelspec": {
   "display_name": "Python 3.10.5 ('env': venv)",
   "language": "python",
   "name": "python3"
  },
  "language_info": {
   "codemirror_mode": {
    "name": "ipython",
    "version": 3
   },
   "file_extension": ".py",
   "mimetype": "text/x-python",
   "name": "python",
   "nbconvert_exporter": "python",
   "pygments_lexer": "ipython3",
   "version": "3.10.5"
  },
  "orig_nbformat": 4,
  "vscode": {
   "interpreter": {
    "hash": "055ed1be4b0fa29866f2e2aeab85b185190bfa779d52a08d11b266bfb238964b"
   }
  }
 },
 "nbformat": 4,
 "nbformat_minor": 2
}
