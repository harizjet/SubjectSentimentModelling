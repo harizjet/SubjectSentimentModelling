{
 "cells": [
  {
   "cell_type": "code",
   "execution_count": 1,
   "metadata": {},
   "outputs": [],
   "source": [
    "import pandas as pd\n",
    "import tempfile\n",
    "import warnings\n",
    "import os\n",
    "\n",
    "warnings.filterwarnings('ignore')"
   ]
  },
  {
   "cell_type": "code",
   "execution_count": 2,
   "metadata": {},
   "outputs": [],
   "source": [
    "directory = '../data'\n",
    "for file in os.listdir(directory):\n",
    "    if file.split('.')[1] != 'json':\n",
    "        continue\n",
    "\n",
    "    newfile = file.split('.')[0] + '.csv'\n",
    "\n",
    "    listname = []\n",
    "    chunksize = 10 ** 5\n",
    "    for df in pd.read_json(os.path.join(directory, file), chunksize=chunksize, lines=True):\n",
    "        try:\n",
    "            name = tempfile.NamedTemporaryFile().name\n",
    "            listname.append(name)\n",
    "            df.to_csv(name, index=False)\n",
    "        except:\n",
    "            pass\n",
    "\n",
    "    fulldf = pd.read_csv(listname[0])\n",
    "    for file in listname[1:]:\n",
    "        fulldf = pd.concat([fulldf, pd.read_csv(file)])\n",
    "    fulldf.to_csv(os.path.join(directory, newfile), index=False)\n",
    "\n",
    "    for file in listname:\n",
    "        os.remove(file)\n",
    "\n",
    "    print('Done for file: {} ....'.format(file.split('.')[0]))"
   ]
  },
  {
   "cell_type": "code",
   "execution_count": null,
   "metadata": {},
   "outputs": [],
   "source": []
  }
 ],
 "metadata": {
  "kernelspec": {
   "display_name": "Python 3.10.5 ('env': venv)",
   "language": "python",
   "name": "python3"
  },
  "language_info": {
   "codemirror_mode": {
    "name": "ipython",
    "version": 3
   },
   "file_extension": ".py",
   "mimetype": "text/x-python",
   "name": "python",
   "nbconvert_exporter": "python",
   "pygments_lexer": "ipython3",
   "version": "3.10.5"
  },
  "orig_nbformat": 4,
  "vscode": {
   "interpreter": {
    "hash": "055ed1be4b0fa29866f2e2aeab85b185190bfa779d52a08d11b266bfb238964b"
   }
  }
 },
 "nbformat": 4,
 "nbformat_minor": 2
}
