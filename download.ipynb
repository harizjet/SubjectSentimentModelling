{
 "cells": [
  {
   "cell_type": "code",
   "execution_count": 4,
   "id": "c07d18d1-0517-417f-b8d1-a24f424106de",
   "metadata": {},
   "outputs": [],
   "source": [
    "import twint\n",
    "import nest_asyncio\n",
    "\n",
    "nest_asyncio.apply()"
   ]
  },
  {
   "cell_type": "code",
   "execution_count": 7,
   "id": "dcba621a-c7f2-4936-9025-523db14384be",
   "metadata": {},
   "outputs": [],
   "source": [
    "t = twint.Config()\n",
    "t.Hide_output = True\n",
    "t.Search = \"pineapple pizza\"\n",
    "t.Store_csv = True\n",
    "t.Output = \"data/twitter_data.csv\"\n",
    "t.Lang = \"en\""
   ]
  },
  {
   "cell_type": "code",
   "execution_count": 8,
   "id": "f07ca979-b8c2-4806-acfa-8f55972fc568",
   "metadata": {},
   "outputs": [
    {
     "name": "stdout",
     "output_type": "stream",
     "text": [
      "[!] No more data! Scraping will stop now.\n",
      "found 0 deleted tweets in this search.\n"
     ]
    }
   ],
   "source": [
    "twint.run.Search(t)"
   ]
  }
 ],
 "metadata": {
  "kernelspec": {
   "display_name": "env",
   "language": "python",
   "name": "env"
  },
  "language_info": {
   "codemirror_mode": {
    "name": "ipython",
    "version": 3
   },
   "file_extension": ".py",
   "mimetype": "text/x-python",
   "name": "python",
   "nbconvert_exporter": "python",
   "pygments_lexer": "ipython3",
   "version": "3.10.5"
  }
 },
 "nbformat": 4,
 "nbformat_minor": 5
}
